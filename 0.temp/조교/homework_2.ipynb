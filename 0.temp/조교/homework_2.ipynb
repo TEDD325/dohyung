{
 "cells": [
  {
   "cell_type": "markdown",
   "metadata": {},
   "source": [
    "2014136131_추명엽_파이썬 01분반_2주차 과제(18.10.19)"
   ]
  },
  {
   "cell_type": "code",
   "execution_count": 47,
   "metadata": {},
   "outputs": [
    {
     "name": "stdout",
     "output_type": "stream",
     "text": [
      "4\n",
      "1\n",
      "2\n",
      "2\n",
      "1\n",
      "3\n"
     ]
    }
   ],
   "source": [
    "print(1 and 2 and 3 and 4)\n",
    "print(1 or 2 or 3 or 4)\n",
    "print(1 and 2 or 3 and 4)\n",
    "print((1 and 2) or (3 and 4))\n",
    "print(1 or 2 and 3 or 4)\n",
    "print((1 or 2) and (3 or 4))"
   ]
  },
  {
   "cell_type": "markdown",
   "metadata": {},
   "source": [
    "왼쪽에서 차례로 연산이 시작되고 and의 앞에 값이 참이면 뒤의 값에 따라 and의 결과가 달라지기 때문에 뒤의 값이 출력된다.\n",
    "1 and 2 and 3 and 4에서 1,2,3은 모두 True와 False에서 참이다. 따라서 마지막의 값에 따라서 True와 False가 나뉘어 지는데 그 것을 결정하는 것이 4이다.\n",
    "1 or 2 or 3 or 4에서 앞에 있는 1이 참이기 때문에 뒤의 값에 상관 없이 항상 참이다. 그렇기 때문에 1을 반환한다.\n",
    "1 and 2에서 2가 반환되고 2 or 3 and 4에서 2가 참이기 때문에 2가 반환된다.\n",
    "1 and 2 = 2, 3 and 4 = 4이고 2 or 4 = 2 이기 때문에 2가 반환된다.\n",
    "1이 참이기 때문에 or 뒤에 있는 값에 상관 없이 항상 참이다. 따라서 1을 반환한다.\n",
    "1 or 2 = 1, 3 or 4 = 3이고 1 and 3 = 3이기 때문에 3을 반환한다."
   ]
  },
  {
   "cell_type": "code",
   "execution_count": 41,
   "metadata": {},
   "outputs": [
    {
     "name": "stdout",
     "output_type": "stream",
     "text": [
      "['/usr/local/bin', 'python']\n",
      "['/home/chulsoo', 'test.txt']\n"
     ]
    }
   ],
   "source": [
    "def div_path(a):\n",
    "    c = [''] # 경로와 파일이 저장될 리스트\n",
    "    count = 0 # b에 저장되어 있는 경로의 이름과 파일의 이름을 구별하기 위한 변수\n",
    "    b = a.split('/') # 경로와 파일이 저장되어 있는 문자열을 /를 기준으로 분리\n",
    "    b.pop(0) # ''가 b의 0번째 인덱스에 저장되어 있어서 제거\n",
    "    for x in b:\n",
    "        c[0] =  c[0] + '/' + x \n",
    "        count = count + 1\n",
    "        if(count == (len(b)-1)): #b의 배열에서 파일의 마지막 경로까지 c에 저장하였으면 for문을 나감\n",
    "            break\n",
    "    c.append(b[len(b)-1]) #파일의 이름을 c에 저장\n",
    "    return c\n",
    "\n",
    "result = div_path('/usr/local/bin/python')\n",
    "print(result)\n",
    "print(div_path('/home/chulsoo/test.txt'))\n",
    "    "
   ]
  },
  {
   "cell_type": "code",
   "execution_count": 43,
   "metadata": {
    "scrolled": false
   },
   "outputs": [
    {
     "name": "stdout",
     "output_type": "stream",
     "text": [
      "[1, 2, 3, 4, 5, 13, 123, 12344, 512312]\n"
     ]
    }
   ],
   "source": [
    "def list_union(lista, listb):\n",
    "    listc = lista\n",
    "    for x in listb:#lista의 원소에 listb의 원소가 있으면 listc에 listb의 원소를 추가하지 않음\n",
    "        if(x in listc) :\n",
    "            continue\n",
    "        else :\n",
    "            listc.append(x)\n",
    "    listc.sort() #오름차순으로 정렬\n",
    "    return listc\n",
    "\n",
    "lista = [1,2,3,4,5]\n",
    "listb = [1,123,12344,2,3,4,13,123,512312]\n",
    "print(list_union(lista, listb))\n",
    "    "
   ]
  },
  {
   "cell_type": "code",
   "execution_count": 45,
   "metadata": {
    "scrolled": false
   },
   "outputs": [
    {
     "name": "stdout",
     "output_type": "stream",
     "text": [
      "baekjoon\n",
      "1 0 -1 -1 2 -1 -1 -1 -1 4 3 -1 -1 7 5 -1 -1 -1 -1 -1 -1 -1 -1 -1 -1 "
     ]
    }
   ],
   "source": [
    "S = input()\n",
    "\n",
    "isfirst = [] #단어의 알파벳이 처음 나왔는지 확인용 배열\n",
    "alphabet = [] #출력을 위한 알파벳의 배열\n",
    "count = 0 #while문을 위한 변수\n",
    "index = 0 #단어의 알파벳 인덱스 변수\n",
    "\n",
    "while ( count != 25): #알파벳이 처음 나왔는지 확인용 배열의 원소를 -1로 25개 초기화\n",
    "    isfirst.append(True)\n",
    "    alphabet.append(-1)\n",
    "    count = count + 1\n",
    "\n",
    "for x in S:\n",
    "    if (ord(x) > 122) or (ord(x) < 97): #단어에서 알파벳 소문자만 취급\n",
    "        continue\n",
    "    if (isfirst[ord(x)-97]): #알파벳이 처음 나왔을 경우 해당 알파벳의 위치를 alphabet 배열에 저장\n",
    "        isfirst[ord(x)-97] = False\n",
    "        alphabet[ord(x)-97] = index\n",
    "    index = index + 1\n",
    "\n",
    "for x in alphabet:\n",
    "    print(x, end = \" \")"
   ]
  },
  {
   "cell_type": "markdown",
   "metadata": {},
   "source": [
    "![image](https://blogfiles.pstatic.net/MjAxODEwMTlfODAg/MDAxNTM5OTU1NDYyOTMy.Y_9LOvSSp0q7g-h7ajf6C5GE9NF6b_-dI1UT8FX6rR4g.b0CPWPtQVFAhNka9X7OwIOZCVmu20gBoqRLiaTA-Oo4g.PNG.042cmy/%EB%AC%B8%EC%9E%90%EC%97%B4.PNG)"
   ]
  },
  {
   "cell_type": "code",
   "execution_count": 46,
   "metadata": {
    "scrolled": true
   },
   "outputs": [
    {
     "name": "stdout",
     "output_type": "stream",
     "text": [
      "5 /HTP\n",
      "/////HHHHHTTTTTPPPPP\n"
     ]
    }
   ],
   "source": [
    "\n",
    "S = input() \n",
    "\n",
    "lista= S.split() #공백 문자로 입력된 문자를 나눔\n",
    "\n",
    "count = 0 #각 문자의 반복을 제어할 변수\n",
    "\n",
    "result = \"\"\n",
    "\n",
    "#문자의 반복 횟수만 있을경우 \"\"를 출력, 그렇지 않으면 각 문자를 입력된 횟수만큼 반복 출력\n",
    "if len(lista) > 1: \n",
    "    for x in lista[1]:\n",
    "        while(count != int(lista[0])):\n",
    "            result = result + x\n",
    "            count = count + 1\n",
    "        count = 0\n",
    "\n",
    "print(result)"
   ]
  },
  {
   "cell_type": "markdown",
   "metadata": {},
   "source": [
    "![image](https://blogfiles.pstatic.net/MjAxODEwMTlfMTk0/MDAxNTM5OTU1NDYyOTMz.-laW3_q44m53cg1PaJG-dvG5c0ByrA5byOVL_CgXSYsg.D1PzbMnUJGCxYJk9UHddscmeKt9iyZMB0AJ-2Bm3daAg.PNG.042cmy/%EC%95%8C%ED%8C%8C%EB%B2%B3.PNG)"
   ]
  },
  {
   "cell_type": "code",
   "execution_count": 2,
   "metadata": {},
   "outputs": [],
   "source": [
    "import requests\n",
    "\n",
    "req = requests.get('https://cse.koreatech.ac.kr/')\n",
    "\n",
    "source = req.text"
   ]
  },
  {
   "cell_type": "code",
   "execution_count": 3,
   "metadata": {},
   "outputs": [],
   "source": [
    "l = \"\" #태그가 지워진 HTML코드가 저장될 문자열\n",
    "s = [] #<의 개수를 저장할 리스트\n",
    "count = 0 #문자를 하나씩 읽을때, 현재 문자의 위치를 저장할 변수\n",
    "\n",
    "#Stack의 개념을 통하여 문제 해결(단, HTML태그 안에서 < >를 단어취급 하고 싶으면 이스케이프와 같이 예외처리해야함)\n",
    "for y in source:\n",
    "    if y == '<': # 꺽쇠과로 안에 있는 문자들은 모두 HTML 태그로 인식함\n",
    "        if(source[count-4] =='<' and source[count-3] =='!' and source[count-2] =='-' and source[count-1] =='-' and source[count+1]=='!'):\n",
    "            count = count + 1 #HTML의 태그중<!--<!이 나오는 경우 >과로를 하나만 쓰는 경우가 있어 예외처리함\n",
    "            continue\n",
    "        else:\n",
    "            s.append(y)\n",
    "    if s == []:\n",
    "        l = l + y\n",
    "    if y == '>' :\n",
    "        s.pop()\n",
    "    count = count + 1\n"
   ]
  },
  {
   "cell_type": "code",
   "execution_count": 4,
   "metadata": {
    "scrolled": false
   },
   "outputs": [
    {
     "name": "stdout",
     "output_type": "stream",
     "text": [
      "['컴퓨터공학부', 'var', 'current_url', '=', '\"https://cse.koreatech.ac.kr/\";', 'var', 'request_uri', '=', '\"https://cse.koreatech.ac.kr/\";', 'var', 'current_mid', '=', '\"home_2015\";', 'var', 'waiting_message', '=', '\"서버에', '요청', '중입니다.', '잠시만', '기다려주세요.\";', 'var', 'ssl_actions', '=', 'new', 'Array();', 'var', 'default_url', '=', '\"https://cse.koreatech.ac.kr/\";', 'var', 'http_port', '=', '80;var', 'https_port', '=', '443;var', 'enforce_ssl', '=', 'true;', '//', 'Schoolfun', '-', 'Study', 'and', 'Fun', '로그인', '로그인', '아이디', '비밀번호', '로그인', '유지', '브라우저를', '닫더라도', '로그인이', '계속', '유지될', '수', '있습니다.', '로그인', '유지', '기능을', '사용할', '경우', '다음', '접속부터는', '로그인할', '필요가', '없습니다.', '단,', '게임방,', '학교', '등', '공공장소에서', '이용', '시', '개인정보가', '유출될', '수', '있으니', '꼭', '로그아웃을', '해주세요.', '회원가입', 'ID/PW', '찾기', 'IT', '교육의', '글로벌', '메카!한국기술교육대학교', '컴퓨터공학부', 'Close', '소개', '구성원소개', '학사안내', '입학', '학부', '대학원', '학부광장', '자료실', '대학원', '공학교육인증', '학부서비스', 'Registration', '컴퓨터공학부', 'School', 'of', 'Computer', 'Science', 'and', 'Engineering', 'IT', '융합소프트웨어', '인력양성사업', 'CK', '(Creative', 'Korea)-I', '교육역량강화사업', '온라인', '컨텐츠', 'Online', 'Contents', 'for', 'Education', 'Capability', 'Empowerment', 'IT', '교육의', '글로벌', '메카', '한국기술교육대학교', '컴퓨터공학부', '홈페이지에', '오신', '것을환영합니다!', 'IT', '융합소프트웨어', '인력양성사업', '글로벌', '수준의', 'IT전문인력', '양성', 'IT융합분야에', '대한', '국제적인', '경쟁력', '고취', '바로가기', '교육역량강화사업', '컨텐츠', '교육역량강화사업', '온라인', '컨텐츠를', '소개합니다.', '바로가기', '공지사항', '[특성화]', '2018학년도', '2학기', '운영', '강좌', '안내', '2018-10-29', '10:56', '10:56', '[특성화]', '2018', 'IT융합', '아이디어', '경진대회', '안내(2학기', '...', '2018-10-25', '15:01', '15:01', '[특성화]', '2018', 'IT융합', 'AR', 'Co-Bot', 'Intensive', '캠프', '모집', '...', '2018-10-22', '15:30', '15:30', '[졸업작품]', '2018', '졸업작품', '산업체', '평가회', '결과에', '따른', '...', '2018-10-19', '14:09', '14:09', '[특성화]', '5차년도', 'IT융합', '개도국', '기술지원', '봉사(해외)', '...', '2018-10-17', '13:57', '13:57', '자유게시판', '★문화의날', '행사', '공지★', '2018-10-19', '20:31', '20:31', '졸업작품전시회', '기간', '헤어/메이크업', '2018-10-07', '14:48', '14:48', '※모의토익비', '지원', '공지※', '2018-09-28', '09:37', '09:37', 'ACM-ICPC', '예선', '신청기간이', '얼마', '안', '남았습니다!', '2018-09-13', '11:36', '11:36', '문화행사', '취소', '공지', '2018-09-10', '19:17', '19:17', '취업게시판', '㈜비즈테크파트너스', '(LG', 'CNS자회사)', '신입', '개발직', '~2018...', '2018-10-25', '16:29', '16:29', '[국가보안기술연구소]', '정규직', '채용', '2018-10-04', '14:18', '14:18', '한글과컴퓨터그룹', '2018년', '하반기', '신입/경력', '공채', '~10.10', '2018-09-27', '13:13', '13:13', '[구인]천안', '충무병원', '전산실', '2018-09-18', '15:25', '15:25', '[정부교육]', 'K-Shield', '주니어', '교육생', '모집(정보보호)', '~9.5', '2018-09-03', '07:53', '07:53', 'Platum', '표철민', '대표', '“블록체인', '생태계', '조성위해', '불법만', '아니면...', '2018-10-29', '15:50', '15:50', '아산나눔재단,', '‘아산', '기업가정신', '교육', '포럼’', '개최', '2018-10-29', '09:43', '09:43', '[10월', '29일', '스타트업', '비즈니스', '동향]', '메쉬코리아,', '위드...', '2018-10-29', '09:36', '09:36', '블록체인', '기반', '기업용', '솔루션', '개발', '스타트업,', '‘블록오...', '2018-10-29', '08:37', '08:37', '[더팀스', '커리어피드]', '스타트업', '취업의', '고수가', '되는', '방법', '2018-10-29', '08:36', '08:36', '전자신문', '와이브로,', '상용화', '12년', '만에', \"'굿바이'\", '초읽기', '2018-10-29', '15:01', '15:01', '극강', '가성비', '샤오미', \"'포코폰F1'\", '韓', '상륙···12일', '예판', '2018-10-29', '15:01', '15:01', '소방·경찰', '재난안전', '무전기', '사용기간', '5년', '연장', '2018-10-29', '14:48', '14:48', '결합상품', '해지', '간소화', '2020년', '7월', '시행···방송단...', '2018-10-29', '14:39', '14:39', '[알림]Wireless', 'Power', '제품', '디자인', '공모전', '2018-10-29', '14:18', '14:18', 'TechCrunch', 'AnyMind,', 'which', 'uses', 'AI', 'for', 'advertising,', 'market...', '2018-10-29', '15:37', '15:37', 'Far-right', 'social', 'network', 'Gab', 'goes', 'offline', 'afte...', '2018-10-29', '14:28', '14:28', 'Walmart’s', 'test', 'store', 'for', 'new', 'technology,', 'Sam’s...', '2018-10-29', '13:01', '13:01', 'Silicon', 'Valley’s', 'sovereign', 'wealth', 'problem', '2018-10-29', '09:30', '09:30', 'Forget', 'Watson,', 'the', 'Red', 'Hat', 'acquisition', 'may', 'be', '...', '2018-10-29', '08:21', '08:21', 'Quick', 'Navigation', '한국기술교육대학교', '홈페이지', '한국기술교육대학교', 'WEBMAIL', '한국기술교육대학교', '온라인', '평생교육원', 'IT', '융합소프트웨어', '인력양성사업', '컴퓨터공학부', '교직원', '업무', '자료실', 'Campus', 'Location', 'Contact', 'CSE', '충청남도', '천안시', '동남구', '병천면', '충절로', '1600한국기술교육대학교', '컴퓨터공학부', '학과사무실', 'TEL', '(041)', '560', '1460', '~', '1461', 'FAX', '(041)', '560', '1462', 'Facebook', '(31253)', '충청남도', '천안시', '동남구', '병천면', '충절로', '1600', '(가전리,', '한국기술교육대학교)', '컴퓨터공학부', 'Copyright', '©', '2015.', 'All', 'rights', 'reserved']\n"
     ]
    }
   ],
   "source": [
    "result = l.split()\n",
    "print(result)"
   ]
  },
  {
   "cell_type": "code",
   "execution_count": 5,
   "metadata": {},
   "outputs": [
    {
     "name": "stdout",
     "output_type": "stream",
     "text": [
      "484\n"
     ]
    }
   ],
   "source": [
    "print(len(result))"
   ]
  },
  {
   "cell_type": "code",
   "execution_count": 19,
   "metadata": {},
   "outputs": [
    {
     "name": "stdout",
     "output_type": "stream",
     "text": [
      "40\n"
     ]
    }
   ],
   "source": [
    "import requests\n",
    "req = requests.get(\"http://cse.koreatech.ac.kr\")\n",
    "source = req.text\n",
    "ch = []                    \n",
    "start = 0\n",
    "tagStart = source.find('<')   \n",
    "tagEnd = source.find('>')       \n",
    "ch.append(source[start:tagStart])\n",
    "\n",
    "for i in range(source.count('>')):\n",
    "    tagStart = source.find('<',tagStart+1)\n",
    "    ch.append(source[tagEnd+1:tagStart])\n",
    "    tagEnd = source.find('>',tagEnd+1)  \n",
    "\n",
    "nonspace_word = [x for x in ch if x]\n",
    "\n",
    "result = (''.join(nonspace_word)).split()\n",
    "print(len(result))"
   ]
  },
  {
   "cell_type": "code",
   "execution_count": 20,
   "metadata": {},
   "outputs": [
    {
     "data": {
      "text/plain": [
       "['컴퓨터공학부',\n",
       " 'var',\n",
       " 'current_url',\n",
       " '=',\n",
       " '\"https://cse.koreatech.ac.kr/\";',\n",
       " 'var',\n",
       " 'request_uri',\n",
       " '=',\n",
       " '\"https://cse.koreatech.ac.kr/\";',\n",
       " 'var',\n",
       " 'current_mid',\n",
       " '=',\n",
       " '\"home_2015\";',\n",
       " 'var',\n",
       " 'waiting_message',\n",
       " '=',\n",
       " '\"서버에',\n",
       " '요청',\n",
       " '중입니다.',\n",
       " '잠시만',\n",
       " '기다려주세요.\";',\n",
       " 'var',\n",
       " 'ssl_actions',\n",
       " '=',\n",
       " 'new',\n",
       " 'Array();',\n",
       " 'var',\n",
       " 'default_url',\n",
       " '=',\n",
       " '\"https://cse.koreatech.ac.kr/\";',\n",
       " 'var',\n",
       " 'http_port',\n",
       " '=',\n",
       " '80;var',\n",
       " 'https_port',\n",
       " '=',\n",
       " '443;var',\n",
       " 'enforce_ssl',\n",
       " '=',\n",
       " 'true;']"
      ]
     },
     "execution_count": 20,
     "metadata": {},
     "output_type": "execute_result"
    }
   ],
   "source": [
    "result"
   ]
  },
  {
   "cell_type": "code",
   "execution_count": null,
   "metadata": {},
   "outputs": [],
   "source": []
  }
 ],
 "metadata": {
  "kernelspec": {
   "display_name": "Python 3",
   "language": "python",
   "name": "python3"
  },
  "language_info": {
   "codemirror_mode": {
    "name": "ipython",
    "version": 3
   },
   "file_extension": ".py",
   "mimetype": "text/x-python",
   "name": "python",
   "nbconvert_exporter": "python",
   "pygments_lexer": "ipython3",
   "version": "3.6.5"
  }
 },
 "nbformat": 4,
 "nbformat_minor": 2
}
