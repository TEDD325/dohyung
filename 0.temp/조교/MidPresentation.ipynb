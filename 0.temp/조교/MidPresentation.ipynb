{
 "cells": [
  {
   "cell_type": "markdown",
   "metadata": {
    "slideshow": {
     "slide_type": "slide"
    }
   },
   "source": [
    "# 과제 2\n",
    "### 문제 3\n",
    "두 개의 리스트를 인자로 받아서 그 두 개의 리스트에 대한 '합집합'을 반환하는 함수 list_union(lista, listb)를 작성하시오."
   ]
  },
  {
   "cell_type": "code",
   "execution_count": null,
   "metadata": {
    "slideshow": {
     "slide_type": "slide"
    }
   },
   "outputs": [],
   "source": [
    "# 목표: 함수를 작성하는 것\n",
    "def function(parameter_a, parameter_b): \n",
    "    # lista, listb는 리스트"
   ]
  },
  {
   "cell_type": "markdown",
   "metadata": {
    "slideshow": {
     "slide_type": "slide"
    }
   },
   "source": [
    "##### 합집합\n",
    "https://ko.wikipedia.org/wiki/%ED%95%A9%EC%A7%91%ED%95%A9\n",
    "합집합(合集合, 영어: union)은 그들의 모든 원소를 한 군데 합쳐놓은 집합이다. 즉, 그들 중 하나에라도 속하는 원소들을 모두 모은 집합이다.\n",
    "\n",
    "<img src=\"https://upload.wikimedia.org/wikipedia/commons/thumb/e/ee/Venn_0111_1111.svg/440px-Venn_0111_1111.svg.png\" width=150/>\n",
    "\n",
    "- 집합의 조건 상, 중복되는 원소는 제거가 필요"
   ]
  },
  {
   "cell_type": "markdown",
   "metadata": {
    "slideshow": {
     "slide_type": "slide"
    }
   },
   "source": [
    "- 먼저, 임의의 원소를 갖는 두 개의 리스트를 생성한다.\n",
    "- 인자로 전달하는 리스트 2 개에는 정수값만 들어간다고 가정하자."
   ]
  },
  {
   "cell_type": "code",
   "execution_count": 2,
   "metadata": {
    "slideshow": {
     "slide_type": "slide"
    }
   },
   "outputs": [],
   "source": [
    "def list_union(lista, listb):\n",
    "    '''\n",
    "    함수 내에서 새로운 리스트를 만들어 그 리스트 내에 인자로 받은 두 리스트의 모든 원소를 넣어 반환한다.\n",
    "    반환하는 리스트에는 절대로 중복된 원소가 들어 있으면 안된다 (집합의 조건).\n",
    "    반환하는 리스트는 정렬이 되어 있어야 한다.\n",
    "    '''\n",
    "    union_list = lista+listb \n",
    "    for i in range(len(union_list)):\n",
    "        tmp = union_list[0]\n",
    "        union_list.remove(tmp)\n",
    "        \n",
    "        if tmp in union_list: # 지운 원소가 계속 있는지 검사하는 부분\n",
    "            '''\n",
    "            [참고] 임의의 정수값 (x)이 리스트 (l) 내에 존재하는지 판단하는 방법은 x in l 이다.\n",
    "            '''\n",
    "            pass \n",
    "            '''\n",
    "                pass 문은 아무것도 하지 않는다.\n",
    "                문법적으로 문장이 필요하지만, \n",
    "                프로그램이 특별히 할 일이 없을 때 사용한다.\n",
    "            '''\n",
    "        else:\n",
    "            union_list.append(tmp)\n",
    "            '''\n",
    "            [참고] 리스트(l) 내에 새로운 정수값 (예를 들어 10)을 넣는 방법은 l.append(10) 이다.\n",
    "            '''\n",
    "    #print(\"[INFO] not sorted: {}\".format(union_list))\n",
    "    #print(\"[INFO] sorted: {}\".format(sorted(union_list)))\n",
    "    #union_list.sort()\n",
    "    #union_list = sorted(union_list)\n",
    "    return union_list"
   ]
  },
  {
   "cell_type": "code",
   "execution_count": 17,
   "metadata": {
    "slideshow": {
     "slide_type": "slide"
    }
   },
   "outputs": [
    {
     "name": "stdout",
     "output_type": "stream",
     "text": [
      "[INFO] lista: [1, 2, 2, 3, 3, 3, 4, 4, 4, 4]\n",
      "[INFO] listb: [0, 4, 0, 0, 0, 0, 4, 4, 1, 0]\n"
     ]
    },
    {
     "data": {
      "text/plain": [
       "[2, 3, 4, 1, 0]"
      ]
     },
     "execution_count": 17,
     "metadata": {},
     "output_type": "execute_result"
    }
   ],
   "source": [
    "lista = []\n",
    "for i in range(5):\n",
    "    for j in range(i):\n",
    "        lista.append(i)\n",
    "print(\"[INFO] lista: {}\".format(lista))\n",
    "\n",
    "# https://docs.python.org/3/library/random.html\n",
    "import random\n",
    "\n",
    "listb = []\n",
    "for i in range(10):\n",
    "    listb.append(random.randrange(0,5))\n",
    "print(\"[INFO] listb: {}\".format(listb))\n",
    "list_union(lista, listb)"
   ]
  },
  {
   "cell_type": "code",
   "execution_count": 5,
   "metadata": {
    "slideshow": {
     "slide_type": "slide"
    }
   },
   "outputs": [
    {
     "name": "stdout",
     "output_type": "stream",
     "text": [
      "[1, 1, 1, 2, 3]\n"
     ]
    }
   ],
   "source": [
    "# list.remove()\n",
    "tmp_list = [1,1,1,2,3,3]\n",
    "tmp_list.remove(3)\n",
    "print(tmp_list)\n",
    "# 리스트의 remove 메소드를 이용하면 원소 하나만 지워짐"
   ]
  },
  {
   "cell_type": "code",
   "execution_count": 44,
   "metadata": {
    "slideshow": {
     "slide_type": "slide"
    }
   },
   "outputs": [
    {
     "name": "stdout",
     "output_type": "stream",
     "text": [
      "[INFO] s1: [1, 2, 3, 4, 5]\n",
      "[INFO] s2: None\n"
     ]
    }
   ],
   "source": [
    "# list.sort()와 sorted(list)\n",
    "s1 = [3,4,5,1,2]\n",
    "s2 = s1.sort()\n",
    "print(\"[INFO] s1: {}\".format(s1))\n",
    "print(\"[INFO] s2: {}\".format(s2))"
   ]
  },
  {
   "cell_type": "markdown",
   "metadata": {
    "slideshow": {
     "slide_type": "slide"
    }
   },
   "source": [
    "- list.sort()는 반환값이 None.\n",
    "- list 자체가 정렬됨\n",
    "- 이렇게 원본이 바뀌는 것을 in-place 방식이라고 한다. "
   ]
  },
  {
   "cell_type": "code",
   "execution_count": 45,
   "metadata": {
    "slideshow": {
     "slide_type": "slide"
    }
   },
   "outputs": [
    {
     "name": "stdout",
     "output_type": "stream",
     "text": [
      "[INFO] s1: [3, 4, 5, 1, 2]\n",
      "[INFO] s2: [1, 2, 3, 4, 5]\n"
     ]
    }
   ],
   "source": [
    "s1 = [3,4,5,1,2]\n",
    "s2 = sorted(s1)\n",
    "print(\"[INFO] s1: {}\".format(s1))\n",
    "print(\"[INFO] s2: {}\".format(s2))"
   ]
  },
  {
   "cell_type": "markdown",
   "metadata": {
    "slideshow": {
     "slide_type": "slide"
    }
   },
   "source": [
    "- sorted()를 사용하면, 원본인 s1은 정렬되지 않고 보존된다.\n",
    "- 또한, 정렬된 리스트를 반환한다. 즉 리스트의 복사본이 정렬되어 반환된다."
   ]
  },
  {
   "cell_type": "markdown",
   "metadata": {
    "slideshow": {
     "slide_type": "slide"
    }
   },
   "source": [
    "# 과제 2\n",
    "### 문제 1\n",
    "다음 6 개의 Expression에 대해 Evaluation 결과 값을 출력하고, 해당 결과가 나온 이유에 대해 설명하시오.\n",
    "<code>\n",
    "print(1 and 2 and 3 and 4) #1\n",
    "print(1 or 2 or 3 or 4) #2\n",
    "print(1 and 2 or 3 and 4) #3\n",
    "print((1 and 2) or (3 and 4)) #4\n",
    "print(1 or 2 and 3 or 4) #5\n",
    "print((1 or 2) and (3 or 4)) #6\n",
    "</code>\n",
    "<br>\n",
    "4<br>1<br>2<br>2<br>1<br>3"
   ]
  },
  {
   "cell_type": "markdown",
   "metadata": {
    "slideshow": {
     "slide_type": "slide"
    }
   },
   "source": [
    "##### 기본 개념\n",
    "- <b>AND</b> 연산은 두 값의 각 자릿수를 비교해, <u>두 값 모두에 1이 있을 때에만 1</u>을, 나머지 경우에는 0을 계산한다.<br><br>\n",
    "\n",
    "- <b>OR</b> 연산은 두 값의 각 자릿수를 비교해, <u>둘 중 하나라도 1이 있다면 1</u>을, 아니면 0을 계산한다.\n",
    "\n",
    "##### python에서의 and와 or\n",
    "- A and B\n",
    "  - A가 False라면 False를 반환한다. B에 대한 검증은 더이상 필요하지 않으므로 불필요한 연산을 피한다.\n",
    "  - A가 True라면, B에 대한 검증이 필요하므로, B에 대하여 검증한 검증결과가 나온다.\n",
    "- A or B\n",
    "  - A가 True라면, True를 반환한다. B에 대한 검증은 더이상 필요하지 않으므로 불필요한 연산을 피한다.\n",
    "  - A가 False라면, B에 대한 검증이 필요하므로, B에 대하여 검증한 검증결과가 나온다."
   ]
  },
  {
   "cell_type": "code",
   "execution_count": 59,
   "metadata": {
    "slideshow": {
     "slide_type": "slide"
    }
   },
   "outputs": [
    {
     "name": "stdout",
     "output_type": "stream",
     "text": [
      "4\n",
      "True\n",
      "False\n"
     ]
    }
   ],
   "source": [
    "print(1 and 2 and 3 and 4) #1\n",
    "#print((((1 and 2) and 3) and 4))\n",
    "'''\n",
    "a and b 일 때 a가 거짓일 경우: a에 대한 평가결과를 반환\n",
    "a and b 일 때 a가 참일 경우: b에 대한 평가결과를 반환\n",
    "순서대로, \n",
    "1 and 2 에서 1이 참이므로 2에 대한 검증결과인 2, \n",
    "2 and 3 에서 2가 참이므로 3에 대한 검증결과인 3,\n",
    "3 and 4 에서 3이 참이므로 4에 대한 검증결과인 4를 반환\n",
    "최종적으로 4가 출력\n",
    "'''\n",
    "print(True and True and True and True)\n",
    "print(True and True and True and False)"
   ]
  },
  {
   "cell_type": "code",
   "execution_count": 60,
   "metadata": {
    "slideshow": {
     "slide_type": "slide"
    }
   },
   "outputs": [
    {
     "name": "stdout",
     "output_type": "stream",
     "text": [
      "1\n",
      "True\n",
      "True\n"
     ]
    }
   ],
   "source": [
    "print(1 or 2 or 3 or 4) #2\n",
    "#print(1 or 2 or 3 or 4)\n",
    "#print(True or True or True or True)\n",
    "'''\n",
    "a or b 일 때 a가 거짓일 경우: b에 대한 평가결과를 반환\n",
    "a or b 일 때 a가 참일 경우: a에 대한 평가결과를 반환\n",
    "순서대로,\n",
    "1 or 2 에서 1이 참이므로 1에 대한 검증결과인 1을 반환\n",
    "더 이상의 연산은 수행하지 않음.\n",
    "'''\n",
    "print(True or True or True or True)\n",
    "print(True or False or False or False)"
   ]
  },
  {
   "cell_type": "code",
   "execution_count": 66,
   "metadata": {
    "slideshow": {
     "slide_type": "slide"
    }
   },
   "outputs": [
    {
     "name": "stdout",
     "output_type": "stream",
     "text": [
      "2\n",
      "2\n",
      "\n",
      "2\n",
      "2\n"
     ]
    }
   ],
   "source": [
    "print(1 and 2 or 3 and 4) #3\n",
    "print((1 and 2) or (3 and 4)) #4\n",
    "print()\n",
    "'''\n",
    "and와 or 중 연산자 우선순위는 and 있음\n",
    "1 and 2 와 3 and 4를 앞서 연산한 결과, 2와 4가 반환.\n",
    "2 or 4 의 결과, 2를 반환\n",
    "'''\n",
    "#print((((1 and 2) or 3) and 4)) # 연산결과는?\n",
    "print(1 and 2 or False and False)"
   ]
  },
  {
   "cell_type": "code",
   "execution_count": 68,
   "metadata": {
    "slideshow": {
     "slide_type": "slide"
    }
   },
   "outputs": [
    {
     "name": "stdout",
     "output_type": "stream",
     "text": [
      "2\n",
      "\n"
     ]
    }
   ],
   "source": [
    "print((1 and 2) or (3 and 4)) #4\n",
    "'''\n",
    "괄호가 가장 먼저 연산이 된다.\n",
    "이전과 같은 문제가 된다.\n",
    "'''\n",
    "print()"
   ]
  },
  {
   "cell_type": "code",
   "execution_count": 83,
   "metadata": {
    "slideshow": {
     "slide_type": "slide"
    }
   },
   "outputs": [
    {
     "name": "stdout",
     "output_type": "stream",
     "text": [
      "1\n",
      "1\n",
      "\n",
      "[비교] (1 or (2 and 3) or 4)의 결과: 1\n",
      "[비교] (1 or 2) and (3 or 4)의 결과: 3\n"
     ]
    }
   ],
   "source": [
    "print(1 or 2 and 3 or 4) #5\n",
    "print(1 or (2 and 3) or 4)\n",
    "print()\n",
    "'''\n",
    "and를 우선 시행하므로, 2 and 3의 결과인 3을 반환\n",
    "최종결과 1이 출력\n",
    "'''\n",
    "print(\"[비교] (1 or (2 and 3) or 4)의 결과: {}\".format((1 or (2 and 3) or 4)))\n",
    "print(\"[비교] (1 or 2) and (3 or 4)의 결과: {}\".format((1 or 2) and (3 or 4)))\n"
   ]
  },
  {
   "cell_type": "code",
   "execution_count": 89,
   "metadata": {
    "slideshow": {
     "slide_type": "slide"
    }
   },
   "outputs": [
    {
     "name": "stdout",
     "output_type": "stream",
     "text": [
      "3\n",
      "\n"
     ]
    }
   ],
   "source": [
    "print((1 or 2) and (3 or 4)) #6\n",
    "'''\n",
    "괄호우선\n",
    "(1 or 2): 1\n",
    "(3 or 4): 3\n",
    "(1 and 3): 3\n",
    "'''\n",
    "print()"
   ]
  },
  {
   "cell_type": "markdown",
   "metadata": {
    "slideshow": {
     "slide_type": "slide"
    }
   },
   "source": [
    "# 과제 1\n",
    "### 문제 3\n",
    "c=\"Hello\"를 \"olleH\"로 변경하시오\n",
    "- [주의] c 변수 자체에 \"olleH\" 문자열이 저장되어야 함"
   ]
  },
  {
   "cell_type": "code",
   "execution_count": 134,
   "metadata": {
    "slideshow": {
     "slide_type": "slide"
    }
   },
   "outputs": [
    {
     "name": "stdout",
     "output_type": "stream",
     "text": [
      "olleH\n"
     ]
    }
   ],
   "source": [
    "c = \"Hello\"\n",
    "# c = c[::-1]\n",
    "# c = c[5::-1]\n",
    "# c = c[len(c)::-1]\n",
    "print (c)"
   ]
  },
  {
   "cell_type": "code",
   "execution_count": 137,
   "metadata": {
    "slideshow": {
     "slide_type": "slide"
    }
   },
   "outputs": [
    {
     "name": "stdout",
     "output_type": "stream",
     "text": [
      "Hello[INFO] c_list: ['o', 'l', 'l', 'e', 'H']\n",
      "olleH\n"
     ]
    }
   ],
   "source": [
    "c = \"Hello\"\n",
    "c_list = []\n",
    "for i in range(len(c)):\n",
    "    print(c[i], end=\"\")\n",
    "    c_list.append(c[len(c)-1-i])\n",
    "    \n",
    "print(\"[INFO] c_list: {}\".format(c_list))\n",
    "c = ''.join(c_list)\n",
    "print(c)"
   ]
  },
  {
   "cell_type": "markdown",
   "metadata": {
    "slideshow": {
     "slide_type": "slide"
    }
   },
   "source": [
    "# 과제 1\n",
    "### 문제 4\n",
    "s=\"python\"에 대해 다음 문제를 풀어보시오.\n",
    "- s[0], s[0][0], s[0][0][0]은 각각 어떤 값이 나오는지 확인하고 그 이유를 나름대로 설명해 보시오."
   ]
  },
  {
   "cell_type": "code",
   "execution_count": 158,
   "metadata": {
    "slideshow": {
     "slide_type": "skip"
    }
   },
   "outputs": [],
   "source": []
  },
  {
   "cell_type": "code",
   "execution_count": null,
   "metadata": {},
   "outputs": [],
   "source": [
    "s = \"python\""
   ]
  },
  {
   "cell_type": "code",
   "execution_count": 164,
   "metadata": {
    "slideshow": {
     "slide_type": "slide"
    }
   },
   "outputs": [
    {
     "data": {
      "text/plain": [
       "'p'"
      ]
     },
     "execution_count": 164,
     "metadata": {},
     "output_type": "execute_result"
    }
   ],
   "source": [
    "s[0]"
   ]
  },
  {
   "cell_type": "code",
   "execution_count": 165,
   "metadata": {
    "slideshow": {
     "slide_type": "slide"
    }
   },
   "outputs": [
    {
     "data": {
      "text/plain": [
       "'p'"
      ]
     },
     "execution_count": 165,
     "metadata": {},
     "output_type": "execute_result"
    }
   ],
   "source": [
    "s[0][0]"
   ]
  },
  {
   "cell_type": "code",
   "execution_count": 166,
   "metadata": {
    "slideshow": {
     "slide_type": "slide"
    }
   },
   "outputs": [
    {
     "data": {
      "text/plain": [
       "'p'"
      ]
     },
     "execution_count": 166,
     "metadata": {},
     "output_type": "execute_result"
    }
   ],
   "source": [
    "s[0][0][0]"
   ]
  },
  {
   "cell_type": "code",
   "execution_count": 167,
   "metadata": {
    "slideshow": {
     "slide_type": "slide"
    }
   },
   "outputs": [
    {
     "data": {
      "text/plain": [
       "'p'"
      ]
     },
     "execution_count": 167,
     "metadata": {},
     "output_type": "execute_result"
    }
   ],
   "source": [
    "s[0][0][0][0][0][0][0][0][0][0][0][0][0][0][0][0][0]"
   ]
  },
  {
   "cell_type": "code",
   "execution_count": 170,
   "metadata": {
    "slideshow": {
     "slide_type": "slide"
    }
   },
   "outputs": [
    {
     "data": {
      "text/plain": [
       "'p'"
      ]
     },
     "execution_count": 170,
     "metadata": {},
     "output_type": "execute_result"
    }
   ],
   "source": [
    "'p'[0]"
   ]
  },
  {
   "cell_type": "code",
   "execution_count": 171,
   "metadata": {
    "slideshow": {
     "slide_type": "slide"
    }
   },
   "outputs": [
    {
     "data": {
      "text/plain": [
       "True"
      ]
     },
     "execution_count": 171,
     "metadata": {},
     "output_type": "execute_result"
    }
   ],
   "source": [
    "'p'[0] == 'p'"
   ]
  },
  {
   "cell_type": "code",
   "execution_count": 172,
   "metadata": {
    "slideshow": {
     "slide_type": "slide"
    }
   },
   "outputs": [
    {
     "data": {
      "text/plain": [
       "True"
      ]
     },
     "execution_count": 172,
     "metadata": {},
     "output_type": "execute_result"
    }
   ],
   "source": [
    "'p'[0][0] == 'p'"
   ]
  },
  {
   "cell_type": "code",
   "execution_count": 173,
   "metadata": {
    "slideshow": {
     "slide_type": "slide"
    }
   },
   "outputs": [
    {
     "data": {
      "text/plain": [
       "True"
      ]
     },
     "execution_count": 173,
     "metadata": {},
     "output_type": "execute_result"
    }
   ],
   "source": [
    "'p'[0][0] is 'p'"
   ]
  },
  {
   "cell_type": "markdown",
   "metadata": {
    "slideshow": {
     "slide_type": "slide"
    }
   },
   "source": [
    "- 문자열 뿐만 아니라 인덱스로 접근 가능한 모든 객체들에 해당되는 사항<br>\n",
    "https://songyunseop.github.io/post/2017/09/python-comparing/\n",
    "- <code>is</code> 는 레퍼런스 체크\n",
    "- <code>==</code> 는 값 체크\n",
    "- 계속 같은 객체를 호출하는 것이기 때문\n",
    "- 2차원 배열, 3차원 배열 이러한 개념이 아님."
   ]
  },
  {
   "cell_type": "code",
   "execution_count": 182,
   "metadata": {
    "slideshow": {
     "slide_type": "slide"
    }
   },
   "outputs": [
    {
     "name": "stdout",
     "output_type": "stream",
     "text": [
      "[INFO] a[0]: p\n",
      "[INFO] id(a[0]): 4456376840\n",
      "[INFO] a[0][0]: p\n",
      "[INFO] id(a[0][0]): 4456376840\n",
      "[INFO] a[0][0][0]: p\n",
      "[INFO] id(a[0][0][0]): 4456376840\n",
      "True\n"
     ]
    }
   ],
   "source": [
    "# 같은 객체를 참조한다는 근거\n",
    "a = \"python\"\n",
    "print(\"[INFO] a[0]: {}\".format(a[0]))\n",
    "print(\"[INFO] id(a[0]): {}\".format(id(a[0])))\n",
    "print(\"[INFO] a[0][0]: {}\".format(a[0][0]))\n",
    "print(\"[INFO] id(a[0][0]): {}\".format(id(a[0][0])))\n",
    "print(\"[INFO] a[0][0][0]: {}\".format(a[0][0][0]))\n",
    "print(\"[INFO] id(a[0][0][0]): {}\".format(id(a[0][0][0])))\n",
    "print(id(a[0]) == id(a[0][0]) == id(a[0][0][0]))"
   ]
  },
  {
   "cell_type": "code",
   "execution_count": 183,
   "metadata": {
    "slideshow": {
     "slide_type": "slide"
    }
   },
   "outputs": [
    {
     "name": "stdout",
     "output_type": "stream",
     "text": [
      "[INFO] b[0]: p\n",
      "[INFO] id(b[0]): 4456376840\n",
      "[INFO] b[0][0]: p\n",
      "[INFO] id(b[0][0]): 4456376840\n",
      "[INFO] b[0][0][0]: p\n",
      "[INFO] id(b[0][0][0]): 4456376840\n",
      "True\n"
     ]
    }
   ],
   "source": [
    "# 문자열 뿐만 아니라 모든 참조가능한 객체에 대해 해당하는 사항; list\n",
    "b = [\"p\", \"y\", \"t\", \"h\", \"o\", \"n\"]\n",
    "print(\"[INFO] b[0]: {}\".format(b[0]))\n",
    "print(\"[INFO] id(b[0]): {}\".format(id(b[0])))\n",
    "print(\"[INFO] b[0][0]: {}\".format(b[0][0]))\n",
    "print(\"[INFO] id(b[0][0]): {}\".format(id(b[0][0])))\n",
    "print(\"[INFO] b[0][0][0]: {}\".format(b[0][0][0]))\n",
    "print(\"[INFO] id(b[0][0][0]): {}\".format(id(b[0][0][0])))\n",
    "print(id(b[0]) == id(b[0][0]) == id(b[0][0][0]))\n",
    "# 문자열 뿐만 아니라 모든 참조가능한 객체에 대해 해당하는 사항; tuple\n",
    "c = (\"p\", \"y\", \"t\", \"h\", \"o\", \"n\")\n",
    "print(\"[INFO] b[0]: {}\".format(b[0]))\n",
    "print(\"[INFO] id(b[0]): {}\".format(id(b[0])))\n",
    "print(\"[INFO] b[0][0]: {}\".format(b[0][0]))\n",
    "print(\"[INFO] id(b[0][0]): {}\".format(id(b[0][0])))\n",
    "print(\"[INFO] b[0][0][0]: {}\".format(b[0][0][0]))\n",
    "print(\"[INFO] id(b[0][0][0]): {}\".format(id(b[0][0][0])))\n",
    "print(id(b[0]) == id(b[0][0]) == id(b[0][0][0]))"
   ]
  },
  {
   "cell_type": "markdown",
   "metadata": {
    "slideshow": {
     "slide_type": "slide"
    }
   },
   "source": [
    "# 과제 2\n",
    "### 문제 2\n",
    "2) 경로에 해당하는 문자열 1개를 입력 받아 그 안에 디렉토리 경로명과 파일명을 분리하여 리스트로 반환하는 함수 div_path(s)를 작성하시오.\n",
    "\n",
    "- 인자로 전달하는 문자열은 경로만 들어간다고 가정한다.\n",
    "- 각 디렉토리와 파일을 구분하는 문자는 '/'로 가정한다.\n",
    "- 반환하는 리스트의 첫번째 원소는 디렉토리이고 두번째 원소는 파일명이다.\n",
    "- 다음과 같은 실행 및 출력 결과가 도출되어야 한다.\n",
    "  - div_path('/usr/local/bin/python')\n",
    "    - ['/usr/local/bin', 'python']\n",
    "  - div_path('/home/chulsoo/test.txt')\n",
    "    - ['/home/chulsoo', 'test.txt']\n",
    "- [참고] 리스트(l) 내에 새로운 정수값 (예를 들어 10)을 넣는 방법은 l.append(10) 이다."
   ]
  },
  {
   "cell_type": "code",
   "execution_count": 200,
   "metadata": {
    "slideshow": {
     "slide_type": "slide"
    }
   },
   "outputs": [],
   "source": [
    "path = '/usr/local/bin/python.py'"
   ]
  },
  {
   "cell_type": "code",
   "execution_count": 201,
   "metadata": {
    "slideshow": {
     "slide_type": "slide"
    }
   },
   "outputs": [],
   "source": [
    "path_list = path.split('/')"
   ]
  },
  {
   "cell_type": "code",
   "execution_count": 202,
   "metadata": {
    "slideshow": {
     "slide_type": "slide"
    }
   },
   "outputs": [
    {
     "data": {
      "text/plain": [
       "['', 'usr', 'local', 'bin', 'python.py']"
      ]
     },
     "execution_count": 202,
     "metadata": {},
     "output_type": "execute_result"
    }
   ],
   "source": [
    "path_list"
   ]
  },
  {
   "cell_type": "code",
   "execution_count": 203,
   "metadata": {
    "slideshow": {
     "slide_type": "slide"
    }
   },
   "outputs": [
    {
     "data": {
      "text/plain": [
       "'python.py'"
      ]
     },
     "execution_count": 203,
     "metadata": {},
     "output_type": "execute_result"
    }
   ],
   "source": [
    "file_name = path_list[-1]\n",
    "file_name"
   ]
  },
  {
   "cell_type": "code",
   "execution_count": 204,
   "metadata": {
    "slideshow": {
     "slide_type": "slide"
    }
   },
   "outputs": [],
   "source": [
    "path_list.remove(file_name)"
   ]
  },
  {
   "cell_type": "code",
   "execution_count": 206,
   "metadata": {
    "slideshow": {
     "slide_type": "slide"
    }
   },
   "outputs": [
    {
     "data": {
      "text/plain": [
       "['', 'usr', 'local', 'bin']"
      ]
     },
     "execution_count": 206,
     "metadata": {},
     "output_type": "execute_result"
    }
   ],
   "source": [
    "path_list"
   ]
  },
  {
   "cell_type": "code",
   "execution_count": 207,
   "metadata": {
    "slideshow": {
     "slide_type": "slide"
    }
   },
   "outputs": [
    {
     "data": {
      "text/plain": [
       "'/usr/local/bin'"
      ]
     },
     "execution_count": 207,
     "metadata": {},
     "output_type": "execute_result"
    }
   ],
   "source": [
    "directory = '/'.join(path_list)\n",
    "directory"
   ]
  },
  {
   "cell_type": "code",
   "execution_count": 210,
   "metadata": {
    "slideshow": {
     "slide_type": "slide"
    }
   },
   "outputs": [
    {
     "data": {
      "text/plain": [
       "['/usr/local/bin', 'python.py']"
      ]
     },
     "execution_count": 210,
     "metadata": {},
     "output_type": "execute_result"
    }
   ],
   "source": [
    "result = [directory, file_name]\n",
    "result"
   ]
  },
  {
   "cell_type": "code",
   "execution_count": 214,
   "metadata": {
    "slideshow": {
     "slide_type": "slide"
    }
   },
   "outputs": [
    {
     "name": "stdout",
     "output_type": "stream",
     "text": [
      "enter only path: /usr/local/bin/python.py\n",
      "['/usr/local/bin', 'python.py']\n"
     ]
    }
   ],
   "source": [
    "path = input('enter only path: ')\n",
    "# path = '/usr/local/bin/python.py'\n",
    "\n",
    "result = []\n",
    "def div_path(path_string):\n",
    "    global result\n",
    "    \n",
    "    path_list = path_string.split('/')\n",
    "    '''\n",
    "    각 디렉토리와 파일을 구분하는 문자는 '/'로 가정한다.\n",
    "    '''\n",
    "#     print(\"[INFO] path_list: {}\".format(path_list))\n",
    "    file_name = path_list[-1]\n",
    "#     print(\"[INFO] file_name: {}\".format(file_name))\n",
    "    path_list.remove(file_name)\n",
    "#     print(\"[INFO] path_list: {}\".format(path_list))\n",
    "    directory = '/'.join(path_list)\n",
    "#     print(\"[INFO] directory: {}\".format(directory))\n",
    "\n",
    "#     result = [directory, file_name]\n",
    "    result.append(directory)\n",
    "    result.append(file_name)\n",
    "    '''\n",
    "    반환하는 리스트의 첫번째 원소는 디렉토리이고 두번째 원소는 파일명이다.\n",
    "    [참고] 리스트(l) 내에 새로운 정수값 (예를 들어 10)을 넣는 방법은 l.append(10) 이다.\n",
    "    '''\n",
    "#     print(\"[INFO] result: {}\".format(result))  \n",
    "    return result\n",
    "div_path(path)\n",
    "print(result)"
   ]
  },
  {
   "cell_type": "markdown",
   "metadata": {
    "slideshow": {
     "slide_type": "slide"
    }
   },
   "source": [
    "# 과제 2\n",
    "### Incremental Project\n",
    "1) 웹 URL로 지정된 웹페이지를 문자열로 가져온다.\n",
    "2) 모든 HTML 태그를 제외한다. 오로지 순수한 텍스트 문자열만 추출한다.\n",
    "  - HTML 태그의 조건\n",
    "    - < 로 시작하여 >로 끝난다.\n",
    "      - <label for=\"keep_signed\">로그인 유지</label>\n",
    "      - 위 소스에서 HTML 태그를 제외한 순수 텍스트 문자열은 <b>로그인 유지</b>이다.\n",
    "3) 단어가 총 몇개인지 출력한다.\n",
    "  - 단어를 나누는 기준은 오로지 공백문자(whitespace)이다.\n",
    "    - 즉, \"로그인 유지\"에서 분리한 단어는 \"로그인\"과 \"유지\"이다.\n",
    "  - 중복을 고려하지 않고 무조건 모든 단어의 개수를 세어서 출력한다.\n"
   ]
  },
  {
   "cell_type": "code",
   "execution_count": 8,
   "metadata": {
    "slideshow": {
     "slide_type": "slide"
    }
   },
   "outputs": [],
   "source": [
    "import requests\n",
    "req = requests.get('http://cse.koreatech.ac.kr')\n",
    "source = req.text"
   ]
  },
  {
   "cell_type": "code",
   "execution_count": 9,
   "metadata": {
    "slideshow": {
     "slide_type": "slide"
    }
   },
   "outputs": [
    {
     "data": {
      "text/plain": [
       "34509"
      ]
     },
     "execution_count": 9,
     "metadata": {},
     "output_type": "execute_result"
    }
   ],
   "source": [
    "'''\n",
    "source의 길이를 살펴본다.\n",
    "'''\n",
    "len(source)"
   ]
  },
  {
   "cell_type": "code",
   "execution_count": 10,
   "metadata": {
    "slideshow": {
     "slide_type": "slide"
    }
   },
   "outputs": [
    {
     "name": "stdout",
     "output_type": "stream",
     "text": [
      "14\n",
      "-1\n",
      "14\n"
     ]
    }
   ],
   "source": [
    "# str.find()메소드를 이용하면, 파라미터 문자열의 인덱스 반환 가능\n",
    "a = \"Python is the best choice\"\n",
    "print(a.find('b'))\n",
    "print(a.find('k'))\n",
    "print(a.find('best'))"
   ]
  },
  {
   "cell_type": "markdown",
   "metadata": {
    "slideshow": {
     "slide_type": "slide"
    }
   },
   "source": [
    "<img src=\"./img/0ED73AAF-6CAB-40B7-A848-EEF0144A0898.png\"/>"
   ]
  },
  {
   "cell_type": "code",
   "execution_count": 11,
   "metadata": {
    "slideshow": {
     "slide_type": "slide"
    }
   },
   "outputs": [
    {
     "data": {
      "text/plain": [
       "'<!DOCTYPE html>\\n<html lang=\"ko\">\\n<head>\\n<!-- META -->\\n<meta charset=\"utf-8\">\\n<meta name=\"Generator\" content=\"XpressEngine\">\\n<meta http-equiv=\"X-UA-Compatible\" content=\"IE=edge\">\\n<!-- TITLE -->\\n<title>컴퓨터공학부</title>\\n<!-- CSS -->\\n<link rel=\"stylesheet\" href=\"/common/css/xe.min.css?20180913173442\" />\\n<link rel=\"stylesheet\" href=\"/layouts/cse/style/prettyPhoto.css?20150805222706\" />\\n<link rel=\"stylesheet\" href=\"/layouts/cse/style/stylemobile.css?20150805222706\" />\\n<link rel=\"stylesheet\" href=\"/layouts/cse/style/mobilenavigation.css?20150805222706\" />\\n<link rel=\"stylesheet\" href=\"/modules/editor/styles/ckeditor_light/style.css?20180913173434\" />\\n<link rel=\"stylesheet\" href=\"/widgets/login_info/skins/cse_login_info_2015/default.login.css?20150420232234\" />\\n<link rel=\"stylesheet\" href=\"/widgets/content_cse/skins/cse_latest_2015/css/widget.css?20150625005943\" />\\n<link rel=\"stylesheet\" href=\"/addons/font_nanum_gothic/font-nanum_gothic.css?20150429141819\" />\\n<link rel=\"stylesheet\" href=\"/files/faceOff/664/070/layout.css?20160523173814\" />\\n<!-- JS -->\\n<script>\\nvar current_url = \"https://cse.koreatech.ac.kr/\";\\nvar request_uri = \"https://cse.koreatech.ac.kr/\";\\nvar current_mid = \"home_2015\";\\nvar waiting_message = \"서버에 요청 중입니다. 잠시만 기다려주세요.\";\\nvar ssl_actions = new Array();\\nvar default_url = \"https://cse.koreatech.ac.kr/\";\\nvar http_port = 80;var https_port = 443;var enforce_ssl = true;</script>\\n<!--[if lt IE 9]><script src=\"/common/js/jquery-1.x.min.js?20180913173442\"></script>\\n<![endif]--><!--[if gte IE 9]><!--><script src=\"/common/js/jquery.min.js?20180913173442\"></script>\\n<!--<![endif]--><script src=\"/common/js/x.min.js?20180913173442\"></script>\\n<script src=\"/common/js/xe.min.js?20180913173442\"></script>\\n<script src=\"/layouts/cse/script/modernizr.js?20150805222706\"></script>\\n<script src=\"/widgets/login_info/skins/cse_login_info_2015/default.login.js?20150420232234\"></script>\\n<script src=\"/widgets/content_cse/skins/cse_latest_2015/js/content_widget.js?20150422211442\"></script>\\n<!-- RSS -->\\n<link rel=\"alternate\" type=\"application/rss+xml\" title=\"Site RSS\" href=\"https://cse.koreatech.ac.kr/rss\" /><link rel=\"alternate\" type=\"application/atom+xml\" title=\"Site Atom\" href=\"https://cse.koreatech.ac.kr/atom\" /><!-- ICON -->\\n<link rel=\"shortcut icon\" href=\"https://cse.koreatech.ac.kr/files/attach/xeicon/favicon.ico\" />\\n\\n<link rel=\"canonical\" href=\"https://cse.koreatech.ac.kr/\" />\\n<meta property=\"og:locale\" content=\"ko_KR\" />\\n<meta property=\"og:type\" content=\"website\" />\\n<meta property=\"og:url\" content=\"https://cse.koreatech.ac.kr/\" />\\n<meta property=\"og:title\" content=\"컴퓨터공학부\" />\\n<link href=\\'https://fonts.googleapis.com/css?family=Raleway:400,700,300,900\\' rel=\\'stylesheet\\' type=\\'text/css\\' />\\n<link href=\\'https://fonts.googleapis.com/css?family=Nunito:400,300,700\\' rel=\\'stylesheet\\' type=\\'text/css\\' />\\n<link rel=\"stylesheet\" href=\"//fonts.googleapis.com/earlyaccess/nanumgothic.css\" />\\n<meta charset=\"utf-8\" />\\n<meta name=\"viewport\" content=\"width=device-width, initial-scale=1.0\" />\\n<meta name=\"description\" content=\"Website Description\" />\\n<meta name=\"keywords\" content=\"Website Keywords\" /><script>\\n//<![CDATA[\\nxe.current_lang = \"ko\";\\nxe.cmd_find = \"찾기\";\\nxe.cmd_cancel = \"취소\";\\nxe.cmd_confirm = \"확인\";\\nxe.msg_no_root = \"루트는 선택 할 수 없습니다.\";\\nxe.msg_no_shortcut = \"바로가기는 선택 할 수 없습니다.\";\\nxe.msg_select_menu = \"대상 메뉴 선택\";\\n//]]>\\n</script>\\n</head>\\n<body>\\n<!DOCTYPE html>\\n<html lang=\"ko\">\\n<head>\\n\\t\\n\\t<title>Schoolfun - Study and Fun</title>\\n\\t\\n\\t\\n\\t\\n\\t\\t\\n\\t\\n\\t\\n\\t\\t<!--  -->\\n\\t\\t\\t\\n</head>\\n<body class=\"\">\\n<header id=\"main-header\" class=\"clearfix\">\\n\\t<div id=\"header-full\" class=\"clearfix\">\\n\\t\\t<div id=\"header\" class=\"clearfix\">\\n\\t\\t\\t<a href=\"#nav\" class=\"open-menu\">\\n\\t\\t\\t\\t<span class=\"icon-bar\"></span>\\n\\t\\t\\t\\t<span class=\"icon-bar\"></span>\\n\\t\\t\\t\\t<span class=\"icon-bar\"></span>\\n\\t\\t\\t</a>\\n\\t\\t\\t<a href=\"https://cse.koreatech.ac.kr/\" id=\"logo\"><img src=\"/layouts/cse/images/cse_logo.png\" data-retina=\"images/cse_logo.png\" alt=\"School Fun - WordPress Theme\" /></a>\\n\\t\\t\\t<aside id=\"header-content\">\\n\\t\\t\\t\\t<!--\\n\\t\\t\\t\\t<form method=\"post\" action=\"#\" id=\"searchform\"><input type=\"hidden\" name=\"error_return_url\" value=\"/\" /><input type=\"hidden\" name=\"act\" value=\"\" /><input type=\"hidden\" name=\"mid\" value=\"home_2015\" /><input type=\"hidden\" name=\"vid\" value=\"\" />\\n\\t\\t\\t\\t\\t<div>\\t\\t\\t\\t\\t</div>\\n\\t\\t\\t\\t</form>\\n\\t\\t\\t\\t-->\\n\\t\\t\\t\\t<ul id=\"nav-header\" style=\"\">\\t\\t\\t\\t\\t\\n\\t\\t\\t\\t\\t<li><div class=\"xe-widget-wrapper \" style=\"\"><div style=\"*zoom:1;padding:0px 0px 0px 0px !important;\"><form id=\"fo_login_widget\" action=\"https://cse.koreatech.ac.kr/index.php?act=procMemberLogin\" method=\"post\"  class=\"account\"><input type=\"hidden\" name=\"error_return_url\" value=\"/\" /><input type=\"hidden\" name=\"mid\" value=\"home_2015\" /><input type=\"hidden\" name=\"vid\" value=\"\" /><input type=\"hidden\" name=\"ruleset\" value=\"@login\" />\\n\\t<a href=\"#acField\">로그인</a>\\n\\t<fieldset id=\"acField\">\\n\\t\\t<h2>로그인</h2>\\n\\t\\t<input type=\"hidden\" name=\"act\" value=\"procMemberLogin\" />\\n\\t\\t<input type=\"hidden\" name=\"success_return_url\" value=\"/\" />\\n\\t\\t<input type=\"hidden\" name=\"xe_validator_id\" value=\"widgets/login_info/skins/default/login_form/1\" />\\n\\t\\t\\t\\t<div class=\"idpw\">\\n\\t\\t\\t<label for=\"user_id\">아이디</label>\\t\\t\\t<input name=\"user_id\" id=\"user_id\" type=\"text\" required />\\t\\t\\t\\t\\t\\t\\t\\t\\t<label for=\"user_pw\">비밀번호</label>\\n\\t\\t\\t<input name=\"password\" id=\"user_pw\" type=\"password\" required />\\n\\t\\t\\t<p class=\"keep\">\\n\\t\\t\\t\\t<input type=\"checkbox\" name=\"keep_signed\" id=\"keep_signed\" value=\"Y\" />\\n\\t\\t\\t\\t<label for=\"keep_signed\">로그인 유지</label>\\n\\t\\t\\t</p>\\n\\t\\t\\t<p class=\"warning\">브라우저를 닫더라도 로그인이 계속 유지될 수 있습니다. 로그인 유지 기능을 사용할 경우 다음 접속부터는 로그인할 필요가 없습니다. 단, 게임방, 학교 등 공공장소에서 이용 시 개인정보가 유출될 수 있으니 꼭 로그아웃을 해주세요.</p>\\n\\t\\t</div>\\n\\t\\t<input type=\"submit\" value=\"로그인\" />\\n\\t\\t<ul class=\"help\">\\n\\t\\t\\t<li><a href=\"https://cse.koreatech.ac.kr/index.php?mid=home_2015&amp;act=dispMemberSignUpForm\">회원가입</a></li>\\n\\t\\t\\t<li><a href=\"https://cse.koreatech.ac.kr/index.php?mid=home_2015&amp;act=dispMemberFindAccount\">ID/PW 찾기</a></li>\\n\\t\\t</ul>\\n\\t</fieldset>\\n</form>\\n</div></div></li>\\n\\t\\t\\t\\t</ul>\\n\\t\\t\\t\\t<h3 id=\"slogan\" style=\"font-family:\\'Nanum Gothic\\', serif\">IT 교육의 글로벌 메카!<br/>한국기술교육대학교 컴퓨터공학부</h3>\\n\\t\\t\\t</aside>\\n\\t\\t</div>\\n\\t</div>\\n\\t<nav id=\"nav\" class=\"clearfix\">\\n\\t\\t<a href=\"#\" class=\"close-menu-big\">Close</a>\\n\\t\\t<div id=\"nav-container\">\\n\\t\\t\\t<a href=\"#\" class=\"close-menu\">\\n\\t\\t\\t\\t<span class=\"icon-bar\"></span>\\n\\t\\t\\t\\t<span class=\"icon-bar\"></span>\\n\\t\\t\\t\\t<span class=\"icon-bar\"></span>\\n\\t\\t\\t</a>\\n\\t\\t\\t<ul id=\"nav-main\">\\n\\t\\t\\t\\t\\t\\t\\t\\t<li>\\n\\t\\t\\t\\t\\t\\t\\t\\t\\t\\t<a href=\"https://cse.koreatech.ac.kr/intro_home_2015\" >소개</a>\\n\\t\\t\\t\\t\\t\\t\\t\\t\\t\\t\\n\\t\\t\\t\\t</li>\\n\\t\\t\\t\\t\\t\\t\\t\\t\\t\\t\\t\\t\\t<li>\\n\\t\\t\\t\\t\\t\\t\\t\\t\\t\\t<a href=\"https://cse.koreatech.ac.kr/page_KbyV58\" >구성원소개</a>\\n\\t\\t\\t\\t\\t\\t\\t\\t\\t\\t\\n\\t\\t\\t\\t</li>\\n\\t\\t\\t\\t\\t\\t\\t\\t\\t\\t\\t\\t\\t<li>\\n\\t\\t\\t\\t\\t\\t\\t\\t\\t\\t<a href=\"https://cse.koreatech.ac.kr/page_izgw21\" >학사안내</a>\\n\\t\\t\\t\\t\\t\\t\\t\\t\\t\\t\\n\\t\\t\\t\\t</li>\\n\\t\\t\\t\\t\\t\\t\\t\\t\\t\\t\\t\\t\\t<li>\\n\\t\\t\\t\\t\\t\\t\\t\\t\\t\\t<a href=\"#\">입학</a>\\n\\t\\t\\t\\t\\t<ul>\\n                        <li><a href=\"http://www.koreatech.ac.kr/admission.do\" target=\"_blank\">학부</a></li>\\n                        <li><a href=\"http://www.koreatech.ac.kr/grd/sub02_01_01_01.do\" target=\"_blank\">대학원</a></li>\\n                    </ul>\\n\\t\\t\\t\\t\\t\\t\\t\\t\\t\\t\\n\\t\\t\\t\\t</li>\\n\\t\\t\\t\\t\\t\\t\\t\\t\\t\\t\\t\\t\\t<li>\\n\\t\\t\\t\\t\\t\\t\\t\\t\\t\\t<a href=\"https://cse.koreatech.ac.kr/notice\" >학부광장</a>\\n\\t\\t\\t\\t\\t\\t\\t\\t\\t\\t\\n\\t\\t\\t\\t</li>\\n\\t\\t\\t\\t\\t\\t\\t\\t\\t\\t\\t\\t\\t<li>\\n\\t\\t\\t\\t\\t\\t\\t\\t\\t\\t<a href=\"https://cse.koreatech.ac.kr/pds\" >자료실</a>\\n\\t\\t\\t\\t\\t\\t\\t\\t\\t\\t\\n\\t\\t\\t\\t</li>\\n\\t\\t\\t\\t\\t\\t\\t\\t\\t\\t\\t\\t\\t<li>\\n\\t\\t\\t\\t\\t\\t\\t\\t\\t\\t<a href=\"https://cse.koreatech.ac.kr/page_birW64\" >대학원</a>\\n\\t\\t\\t\\t\\t\\t\\t\\t\\t\\t\\n\\t\\t\\t\\t</li>\\n\\t\\t\\t\\t\\t\\t\\t\\t\\t\\t\\t\\t\\t<li>\\n\\t\\t\\t\\t\\t\\t\\t\\t\\t\\t<a href=\"https://cse.koreatech.ac.kr/page_vBGH80\" >공학교육인증</a>\\n\\t\\t\\t\\t\\t\\t\\t\\t\\t\\t\\n\\t\\t\\t\\t</li>\\n\\t\\t\\t\\t\\t\\t\\t\\t\\t\\t\\t\\t\\t<li>\\n\\t\\t\\t\\t\\t\\t\\t\\t\\t\\t<a href=\"https://cse.koreatech.ac.kr/graduate\" >학부서비스</a>\\n\\t\\t\\t\\t\\t\\t\\t\\t\\t\\t\\n\\t\\t\\t\\t</li>\\n\\t\\t\\t\\t\\t\\t\\t\\t\\t\\t\\t\\t\\t\\n\\t\\t\\t</ul>\\n                        \\t\\t\\t<a href=\"https://cse.koreatech.ac.kr/index.php?mid=home_2015&amp;act=dispMemberSignUpForm\" id=\"button-registration\">Registration</a>\\n                        \\t\\t</div>\\n\\t</nav>\\n</header>      \\n\\t        \\t        \\n<!-- main image tab start -->\\n<div id=\"slideshow-tabs\" class=\"ui-tabs ui-widget ui-widget-content ui-corner-all\">\\n    <div id=\"panel-tabs\" class=\"clearfix\">\\n        <ul class=\"nav-tabs-slideshow ui-tabs-nav ui-helper-reset ui-helper-clearfix ui-widget-header ui-corner-all\" role=\"tablist\">\\n            <li class=\"ui-state-default ui-corner-top ui-tabs-active ui-state-active\" role=\"tab\" tabindex=\"0\" aria-controls=\"panel-1\" aria-labelledby=\"ui-id-1\" aria-selected=\"true\"><a href=\"#panel-1\" class=\"ui-tabs-anchor\" role=\"presentation\" tabindex=\"-1\" id=\"ui-id-1\"><strong>컴퓨터공학부</strong><br>\\n                <span>School of Computer Science and Engineering</span>\\n                </a>\\n            </li>\\n            <li class=\"ui-state-default ui-corner-top\" role=\"tab\" tabindex=\"-1\" aria-controls=\"panel-2\" aria-labelledby=\"ui-id-2\" aria-selected=\"false\">\\n                <a href=\"#panel-2\" class=\"ui-tabs-anchor\" role=\"presentation\" tabindex=\"-1\" id=\"ui-id-2\"><strong>IT 융합소프트웨어 인력양성사업</strong><br>\\n                <span>CK (Creative Korea)-I</span>\\n                </a>\\n            </li>\\n            <li class=\"ui-state-default ui-corner-top\" role=\"tab\" tabindex=\"-1\" aria-controls=\"panel-3\" aria-labelledby=\"ui-id-3\" aria-selected=\"false\">\\n                <a href=\"#panel-3\" class=\"ui-tabs-anchor\" role=\"presentation\" tabindex=\"-1\" id=\"ui-id-3\"><strong>교육역량강화사업 온라인 컨텐츠</strong><br>\\n                <span>Online Contents for Education Capability Empowerment</span>\\n                </a>\\n            </li>\\n        </ul>\\n    </div>\\n\\t<div class=\"ui-tabs-panel ui-widget-content ui-corner-bottom\" id=\"panel-1\" style=\"background-image: url(layouts/cse/images/kut1.png); display: block; background-position: 50% 0px; background-repeat: no-repeat no-repeat;\" aria-labelledby=\"ui-id-1\" role=\"tabpanel\" aria-expanded=\"true\" aria-hidden=\"false\">\\n        <div class=\"tabs-blur no-blur\" style=\"background:url(http://placehold.it/2000x620) no-repeat 50% 0\">\\n        </div>\\n        <div class=\"tabs-container\">\\n            <article>\\n                <h2>IT 교육의 글로벌 메카</h2>\\n                <p>한국기술교육대학교 컴퓨터공학부 홈페이지에 오신 것을<br/>환영합니다!</p>\\n            </article>\\n        </div>\\n    </div>\\n    <div class=\"ui-tabs-panel ui-widget-content ui-corner-bottom\" id=\"panel-2\" style=\"background-image: url(layouts/cse/images/kut2.png); display: none; background-position: 50% 0px; background-repeat: no-repeat no-repeat;\" aria-labelledby=\"ui-id-2\" role=\"tabpanel\" aria-expanded=\"false\" aria-hidden=\"true\">\\n        <div class=\"tabs-blur no-blur\" style=\"background:url(http://placehold.it/2000x620) no-repeat 50% 0\">\\n        </div>\\n\\t<div class=\"tabs-container\">\\n            <article>\\n                <h2>IT 융합소프트웨어 인력양성사업</h2>\\n                <p>글로벌 수준의 IT전문인력 양성<br/>\\nIT융합분야에 대한 국제적인 경쟁력 고취</p>\\n                <a href=\"http://itcsw.koreatech.ac.kr\" target=\"_blank\" class=\"button-more-slide\">바로가기</a>\\n            </article>\\n        </div>\\n    </div>\\n    <div class=\"ui-tabs-panel ui-widget-content ui-corner-bottom\" id=\"panel-3\" style=\"background-image: url(layouts/cse/images/kut3.png); display: none; background-position: 50% 0px; background-repeat: no-repeat no-repeat;\" aria-labelledby=\"ui-id-3\" role=\"tabpanel\" aria-expanded=\"false\" aria-hidden=\"true\">\\n        <div class=\"tabs-blur no-blur\" style=\"background:url(http://placehold.it/2000x620) no-repeat 50% 0\">\\n        </div>\\n\\t<div class=\"tabs-container\">\\n            <article>\\n                <h2>교육역량강화사업 컨텐츠</h2>\\n                <p>교육역량강화사업 온라인 컨텐츠를 소개합니다.</p>\\n                <a href=\"http://220.68.64.187\" target=\"_blank\" class=\"button-more-slide\">바로가기</a>\\n            </article>\\n        </div>\\n    </div>\\n</div>\\n<!-- main image tab end -->\\n<div>\\n    <div id=\"content\" class=\"clearfix\">\\t\\t\\n    <div class=\"xe-widget-wrapper \" style=\"background-position: 0% 0%; margin: 0px; border: 0px solid rgb(0, 0, 0); border-image: none; width: 375px; float: left; background-image: none; background-repeat: repeat repeat;\"><div style=\"*zoom:1;padding:0px 0px 0px 0px !important;\"><div class=\"sidebar-homepage\">\\n<aside class=\"widget-container\">\\n\\t<div class=\"widget-wrapper clearfix\">\\n                <h3 class=\"widget-title\"><a href=\"https://cse.koreatech.ac.kr/notice\">공지사항</a></h3>\\n    <ul class=\"widgetA menu news-sidebar\">\\n                    <li class=\"clearfix\" >\\n                                                                                        <h4><a href=\"https://cse.koreatech.ac.kr/85994\" class=\"title\">AR/VR분야 Capston Design 지원 계획 ~ 2018.11.30.(금...</a></h4>\\n                                                                                                                            <span class=\"date-news\">2018-10-29 16:30 16:30</span>\\n                                    </li>\\n                <li class=\"clearfix\" >\\n                                                                                        <h4><a href=\"https://cse.koreatech.ac.kr/85986\" class=\"title\">[특성화] 2018학년도 2학기 운영 강좌 안내</a></h4>\\n                                                                                                                            <span class=\"date-news\">2018-10-29 10:56 10:56</span>\\n                                    </li>\\n                <li class=\"clearfix\" >\\n                                                                                        <h4><a href=\"https://cse.koreatech.ac.kr/85969\" class=\"title\"><span style=\"font-weight:bold\">[특성화] 2018 IT융합 아이디어 경진대회 안내(2학기 ...</span></a></h4>\\n                                                                                                                            <span class=\"date-news\">2018-10-25 15:01 15:01</span>\\n                                    </li>\\n                <li class=\"clearfix\" >\\n                                                                                        <h4><a href=\"https://cse.koreatech.ac.kr/85957\" class=\"title\">[특성화] 2018 IT융합 AR Co-Bot Intensive 캠프 모집 ...</a></h4>\\n                                                                                                                            <span class=\"date-news\">2018-10-22 15:30 15:30</span>\\n                                    </li>\\n                <li class=\"clearfix\" >\\n                                                                                        <h4><a href=\"https://cse.koreatech.ac.kr/85926\" class=\"title\"><span style=\"font-weight:bold\">[졸업작품] 2018 졸업작품 산업체 평가회 결과에 따른 ...</span></a></h4>\\n                                                                                                                            <span class=\"date-news\">2018-10-19 14:09 14:09</span>\\n                                    </li>\\n            </ul>\\n            </div>\\n</aside>\\n</div>\\n</div></div><div class=\"xe-widget-wrapper \" style=\"background-position: 0% 0%; margin: 0px; border: 0px solid rgb(0, 0, 0); border-image: none; width: 375px; float: left; background-image: none; background-repeat: repeat repeat;\"><div style=\"*zoom:1;padding:0px 0px 0px 0px !important;\"><div class=\"sidebar-homepage\">\\n<aside class=\"widget-container\">\\n\\t<div class=\"widget-wrapper clearfix\">\\n                <h3 class=\"widget-title\"><a href=\"https://cse.koreatech.ac.kr/freeboard\">자유게시판</a></h3>\\n    <ul class=\"widgetA menu news-sidebar\">\\n                    <li class=\"clearfix\" >\\n                                                                                        <h4><a href=\"https://cse.koreatech.ac.kr/85946\" class=\"title\">★문화의날 행사 공지★</a></h4>\\n                                                                                                                            <span class=\"date-news\">2018-10-19 20:31 20:31</span>\\n                                    </li>\\n                <li class=\"clearfix\" >\\n                                                                                        <h4><a href=\"https://cse.koreatech.ac.kr/85506\" class=\"title\">졸업작품전시회 기간 헤어/메이크업</a></h4>\\n                                                                                                                            <span class=\"date-news\">2018-10-07 14:48 14:48</span>\\n                                    </li>\\n                <li class=\"clearfix\" >\\n                                                                                        <h4><a href=\"https://cse.koreatech.ac.kr/85286\" class=\"title\">※모의토익비 지원 공지※</a></h4>\\n                                                                                                                            <span class=\"date-news\">2018-09-28 09:37 09:37</span>\\n                                    </li>\\n                <li class=\"clearfix\" >\\n                                                                                        <h4><a href=\"https://cse.koreatech.ac.kr/84798\" class=\"title\">ACM-ICPC 예선 신청기간이 얼마 안 남았습니다!</a></h4>\\n                                                                                                                            <span class=\"date-news\">2018-09-13 11:36 11:36</span>\\n                                    </li>\\n                <li class=\"clearfix\" >\\n                                                                                        <h4><a href=\"https://cse.koreatech.ac.kr/84626\" class=\"title\">문화행사 취소 공지</a></h4>\\n                                                                                                                            <span class=\"date-news\">2018-09-10 19:17 19:17</span>\\n                                    </li>\\n            </ul>\\n            </div>\\n</aside>\\n</div>\\n</div></div><div class=\"xe-widget-wrapper \" style=\"background-position: 0% 0%; margin: 0px; border: 0px solid rgb(0, 0, 0); border-image: none; width: 375px; float: left; background-image: none; background-repeat: repeat repeat;\"><div style=\"*zoom:1;padding:0px 0px 0px 0px !important;\"><div class=\"sidebar-homepage\">\\n<aside class=\"widget-container\">\\n\\t<div class=\"widget-wrapper clearfix\">\\n                <h3 class=\"widget-title\"><a href=\"https://cse.koreatech.ac.kr/jobboard\">취업게시판</a></h3>\\n    <ul class=\"widgetA menu news-sidebar\">\\n                    <li class=\"clearfix\" >\\n                                                                                        <h4><a href=\"https://cse.koreatech.ac.kr/85974\" class=\"title\">㈜비즈테크파트너스 (LG CNS자회사) 신입 개발직 ~2018...</a></h4>\\n                                                                                                                            <span class=\"date-news\">2018-10-25 16:29 16:29</span>\\n                                    </li>\\n                <li class=\"clearfix\" >\\n                                                                                        <h4><a href=\"https://cse.koreatech.ac.kr/85442\" class=\"title\">[국가보안기술연구소] 정규직 채용</a></h4>\\n                                                                                                                            <span class=\"date-news\">2018-10-04 14:18 14:18</span>\\n                                    </li>\\n                <li class=\"clearfix\" >\\n                                                                                        <h4><a href=\"https://cse.koreatech.ac.kr/85240\" class=\"title\">한글과컴퓨터그룹 2018년 하반기 신입/경력 공채 ~10.10</a></h4>\\n                                                                                                                            <span class=\"date-news\">2018-09-27 13:13 13:13</span>\\n                                    </li>\\n                <li class=\"clearfix\" >\\n                                                                                        <h4><a href=\"https://cse.koreatech.ac.kr/84892\" class=\"title\">[구인]천안 충무병원 전산실</a></h4>\\n                                                                                                                            <span class=\"date-news\">2018-09-18 15:25 15:25</span>\\n                                    </li>\\n                <li class=\"clearfix\" >\\n                                                                                        <h4><a href=\"https://cse.koreatech.ac.kr/84564\" class=\"title\"><span style=\"font-weight:bold\">[정부교육] K-Shield 주니어 교육생 모집(정보보호) ~9.5</span></a></h4>\\n                                                                                                                            <span class=\"date-news\">2018-09-03 07:53 07:53</span>\\n                                    </li>\\n            </ul>\\n            </div>\\n</aside>\\n</div>\\n</div></div><div class=\"xe-widget-wrapper \" style=\"background-position: 0% 0%; margin: 0px; border: 0px solid rgb(0, 0, 0); border-image: none; width: 375px; float: left; background-image: none; background-repeat: repeat repeat;\"><div style=\"*zoom:1;padding:0px 0px 0px 0px !important;\"><div class=\"sidebar-homepage\">\\n<aside class=\"widget-container\">\\n\\t<div class=\"widget-wrapper clearfix\">\\n                <h3 class=\"widget-title\"><a href=\"http://platum.kr\">Platum</a></h3>\\n    <ul class=\"widgetA menu news-sidebar\">\\n                    <li class=\"clearfix\" >\\n                                                                                        <h4><a href=\"https://platum.kr/archives/109479\" class=\"title\">표철민 대표 “블록체인 생태계 조성위해 불법만 아니면...</a></h4>\\n                                                                                    <span class=\"icon\"></span>\\n                                                                                    <span class=\"date-news\">2018-10-29 15:50 15:50</span>\\n                                                                </li>\\n                <li class=\"clearfix\" >\\n                                                                                        <h4><a href=\"https://platum.kr/archives/109474\" class=\"title\">아산나눔재단, ‘아산 기업가정신 교육 포럼’ 개최</a></h4>\\n                                                                                    <span class=\"icon\"></span>\\n                                                                                    <span class=\"date-news\">2018-10-29 09:43 09:43</span>\\n                                                                </li>\\n                <li class=\"clearfix\" >\\n                                                                                        <h4><a href=\"https://platum.kr/archives/109467\" class=\"title\">[10월 29일 스타트업 비즈니스 동향] 메쉬코리아, 위드...</a></h4>\\n                                                                                    <span class=\"icon\"></span>\\n                                                                                    <span class=\"date-news\">2018-10-29 09:36 09:36</span>\\n                                                                </li>\\n                <li class=\"clearfix\" >\\n                                                                                        <h4><a href=\"https://platum.kr/archives/109457\" class=\"title\">블록체인 기반 기업용 솔루션 개발 스타트업, ‘블록오...</a></h4>\\n                                                                                    <span class=\"icon\"></span>\\n                                                                                    <span class=\"date-news\">2018-10-29 08:37 08:37</span>\\n                                                                </li>\\n                <li class=\"clearfix\" >\\n                                                                                        <h4><a href=\"https://platum.kr/archives/109446\" class=\"title\">[더팀스 커리어피드] 스타트업 취업의 고수가 되는 방법</a></h4>\\n                                                                                    <span class=\"icon\"></span>\\n                                                                                    <span class=\"date-news\">2018-10-29 08:36 08:36</span>\\n                                                                </li>\\n            </ul>\\n            </div>\\n</aside>\\n</div>\\n</div></div><div class=\"xe-widget-wrapper \" style=\"background-position: 0% 0%; margin: 0px; border: 0px solid rgb(0, 0, 0); border-image: none; width: 375px; float: left; background-image: none; background-repeat: repeat repeat;\"><div style=\"*zoom:1;padding:0px 0px 0px 0px !important;\"><div class=\"sidebar-homepage\">\\n<aside class=\"widget-container\">\\n\\t<div class=\"widget-wrapper clearfix\">\\n                <h3 class=\"widget-title\"><a href=\"http://www.etnews.com/\">전자신문</a></h3>\\n    <ul class=\"widgetA menu news-sidebar\">\\n                    <li class=\"clearfix\" >\\n                                                                                        <h4><a href=\"http://www.etnews.com/20181029000575\" class=\"title\">[2018 국정감사]화웨이 \"5G 장비 보안 검증 수용,...</a></h4>\\n                                                                                    <span class=\"icon\"></span>\\n                                                                                    <span class=\"date-news\">2018-10-29 18:41 18:41</span>\\n                                    </li>\\n                <li class=\"clearfix\" >\\n                                                                                        <h4><a href=\"http://www.etnews.com/20181029000338\" class=\"title\">[이슈분석]역차별 해소, 글로벌 동향은</a></h4>\\n                                                                                    <span class=\"icon\"></span>\\n                                                                                    <span class=\"date-news\">2018-10-29 17:00 17:00</span>\\n                                    </li>\\n                <li class=\"clearfix\" >\\n                                                                                        <h4><a href=\"http://www.etnews.com/20181029000423\" class=\"title\">SK텔레콤, 중소기업과 \\'5G 모세혈관\\' 고도화 나선다</a></h4>\\n                                                                                    <span class=\"icon\"></span>\\n                                                                                    <span class=\"date-news\">2018-10-29 17:00 17:00</span>\\n                                    </li>\\n                <li class=\"clearfix\" >\\n                                                                                        <h4><a href=\"http://www.etnews.com/20181029000432\" class=\"title\">SK브로드밴드, 세계 3번째 \\'프로그래매틱\\' 광고 도입</a></h4>\\n                                                                                    <span class=\"icon\"></span>\\n                                                                                    <span class=\"date-news\">2018-10-29 17:00 17:00</span>\\n                                    </li>\\n                <li class=\"clearfix\" >\\n                                                                                        <h4><a href=\"http://www.etnews.com/20181029000102\" class=\"title\">[이슈분석]글로벌ICT기업 역차별 해소, 5대 분야 ...</a></h4>\\n                                                                                    <span class=\"icon\"></span>\\n                                                                                    <span class=\"date-news\">2018-10-29 17:00 17:00</span>\\n                                    </li>\\n            </ul>\\n            </div>\\n</aside>\\n</div>\\n</div></div><div class=\"xe-widget-wrapper \" style=\"background-position: 0% 0%; margin: 0px; border: 0px solid rgb(0, 0, 0); border-image: none; width: 375px; float: left; background-image: none; background-repeat: repeat repeat;\"><div style=\"*zoom:1;padding:0px 0px 0px 0px !important;\"><div class=\"sidebar-homepage\">\\n<aside class=\"widget-container\">\\n\\t<div class=\"widget-wrapper clearfix\">\\n                <h3 class=\"widget-title\"><a href=\"https://techcrunch.com/\">TechCrunch</a></h3>\\n    <ul class=\"widgetA menu news-sidebar\">\\n                    <li class=\"clearfix\" >\\n                                                                                        <h4><a href=\"http://feedproxy.google.com/~r/Techcrunch/~3/8TPcZzgjEBg/\" class=\"title\">You can now control the Nvidia Shield TV with ...</a></h4>\\n                                                                                    <span class=\"icon\"></span>\\n                                                                                    <span class=\"date-news\">2018-10-30 01:00 01:00</span>\\n                                    </li>\\n                <li class=\"clearfix\" >\\n                                                                                        <h4><a href=\"http://feedproxy.google.com/~r/Techcrunch/~3/i8lRNa5PhG0/\" class=\"title\">No, Twitter is not removing its like button ‘s...</a></h4>\\n                                                                                    <span class=\"icon\"></span>\\n                                                                                    <span class=\"date-news\">2018-10-30 00:16 00:16</span>\\n                                    </li>\\n                <li class=\"clearfix\" >\\n                                                                                        <h4><a href=\"http://feedproxy.google.com/~r/Techcrunch/~3/Cv_5CdecStk/\" class=\"title\">Vimeo subscribers can now publish videos direc...</a></h4>\\n                                                                                    <span class=\"icon\"></span>\\n                                                                                    <span class=\"date-news\">2018-10-29 23:59 23:59</span>\\n                                    </li>\\n                <li class=\"clearfix\" >\\n                                                                                        <h4><a href=\"http://feedproxy.google.com/~r/Techcrunch/~3/Yo1CDxTgmcI/\" class=\"title\">AmazonSmile has raised $100 million for charity</a></h4>\\n                                                                                    <span class=\"icon\"></span>\\n                                                                                    <span class=\"date-news\">2018-10-29 23:07 23:07</span>\\n                                    </li>\\n                <li class=\"clearfix\" >\\n                                                                                        <h4><a href=\"http://feedproxy.google.com/~r/Techcrunch/~3/9LHqsnVLvhU/\" class=\"title\">Atlassian sells Jitsi, an open-source videocon...</a></h4>\\n                                                                                    <span class=\"icon\"></span>\\n                                                                                    <span class=\"date-news\">2018-10-29 22:41 22:41</span>\\n                                    </li>\\n            </ul>\\n            </div>\\n</aside>\\n</div>\\n</div></div>    </div>\\n</div>\\n<!-- main page footer start -->\\n<footer id=\"main-footer\">\\n    <!--\\n    <div id=\"blur-top\">\\n        <a href=\"#\" id=\"link-back-top\">Back to Top</a>\\n    </div>\\n    <div id=\"slogan-footer\">\\n        <h4>Leading Together <span>for</span> Brighter Future</h4>\\n    </div>\\n    -->\\n    <div id=\"footer-content\" class=\"clearfix\">\\n        <div id=\"footer-container\">\\n            <div id=\"sidebar-footer-left\" class=\"sidebar-footer\">\\n                <aside class=\"widget-container\">\\n                    <div class=\"widget-wrapper clearfix\">\\n                        <h3 class=\"widget-title\">Quick Navigation</h3>\\n                        <ul>\\n                            <li><a href=\"http://www.koreatech.ac.kr\" target=\"_blank\">한국기술교육대학교 홈페이지</a></li>\\n                            <li><a href=\"https://email.koreatech.ac.kr\" target=\"_blank\">한국기술교육대학교 WEBMAIL</a></li>\\n                            <li><a href=\"http://www.e-koreatech.ac.kr\" target=\"_blank\">한국기술교육대학교 온라인 평생교육원</a></li>\\n                            <li><a href=\"http://itcsw.koreatech.ac.kr\" target=\"_blank\">IT 융합소프트웨어 인력양성사업</a></li>\\n                            <li><a href=\"http://csenas.koreatech.ac.kr:5000\" target=\"_blank\">컴퓨터공학부 교직원 업무 자료실</a></li>\\n                            <!--<li><a href=\"https://cse.koreatech.ac.kr/?mid=portfolio\" target=\"_blank\">컴퓨터공학부 포트폴리오</a></li>-->\\n                            \\n                        </ul>\\n                    </div>\\n                </aside>\\n            </div>\\n            <div id=\"sidebar-footer-middle\" class=\"sidebar-footer\">\\n                <aside class=\"widget-container\">\\n                    <div class=\"widget-wrapper clearfix\">\\n                        <h3 class=\"widget-title\">Campus Location</h3>\\n                        <article class=\"text-widget \">\\n\\t                        <iframe class=\"map-area\" src=\"https://www.google.com/maps/embed?pb=!1m18!1m12!1m3!1d3196.369861062225!2d127.28035150000001!3d36.761693699999995!2m3!1f0!2f0!3f0!3m2!1i1024!2i768!4f13.1!3m3!1m2!1s0x357b2ac0a5190d0f%3A0x24cddeffd416ef74!2z7LKc7JWI7IucIOuzkeyynOuptCDtlZzqta3quLDsiKDqtZDsnKHrjIDtlZnqtZAg6rO17ZWZNOq0gA!5e0!3m2!1sko!2skr!4v1428058842867\" width=\"600\" height=\"450\" frameborder=\"0\" style=\"border:0\"></iframe><br/>\\n                    </div>\\n                </aside>\\n            </div>\\n<div id=\"sidebar-footer-right\" class=\"sidebar-footer\">\\n                <aside class=\"widget-container\">\\n                    <h3 class=\"widget-title\">Contact CSE</h3>\\n                <p>충청남도 천안시 동남구 병천면 충절로 1600<br/>한국기술교육대학교 컴퓨터공학부 학과사무실 <br/>TEL (041) 560 1460 ~ 1461<br/> FAX (041) 560 1462\\n                <ul id=\"list-social\" class=\"clearfix\">\\n                    <li id=\"icon-facebook\"><a href=\"https://facebook.com/koreatech.cse.edu\" target=\"_blank\">Facebook</a></li>\\n                    <!--<li id=\"icon-twitter\"><a href=\"#\">Twitter</a></li>\\n                    <li id=\"icon-gplus\"><a href=\"#\">Google Plus</a></li>\\n                    <li id=\"icon-linkedin\"><a href=\"#\">Linkedin</a></li>-->\\n                </ul>\\n                </aside>\\n            </div>\\n        </div>\\n    </div>\\n    <div id=\"footer-copyright\">\\n        <div id=\"footer-copyright-content\" class=\"clearfix\">\\n            <a href=\"#\" id=\"logo-footer\"><img src=\"/layouts/cse/images/cse_logo_footer.png\" data-retina=\"images/cse_logo_footer_retina.png\" alt=\"School Fun - University\" /></a>\\n            <p id=\"text-address\">(31253) 충청남도 천안시 동남구 병천면 충절로 1600 (가전리, 한국기술교육대학교) 컴퓨터공학부 </p>\\n            <p id=\"text-copyright\">Copyright © 2015. All rights reserved</p>\\n        </div>\\n    </div>\\n</footer>\\n<!-- main page footer end -->\\n</body>\\n</html>\\n<!-- ETC -->\\n<div class=\"wfsr\"></div>\\n<script src=\"/addons/autolink/autolink.js?20180913173453\"></script><script src=\"/common/js/plugins/ui/jquery-ui.min.js?20180913173444\"></script><script src=\"/common/js/plugins/ui/jquery.ui.datepicker-ko.js?20180913173444\"></script><script src=\"/addons/resize_image/js/resize_image.min.js?20180913173454\"></script><script src=\"/layouts/cse/script/jquery.flexslider.js?20150805222706\"></script><script src=\"/layouts/cse/script/jquery.prettyPhoto.js?20150805222706\"></script><script src=\"/layouts/cse/script/jquery-ui-tabs-rotate.js?20150805222706\"></script><script src=\"/layouts/cse/script/scripts.js?20150821172206\"></script><script src=\"/files/cache/js_filter_compiled/5ad07e2b14b79f1c993c3e4b5ca58660.ko.compiled.js?20180913175854\"></script><script src=\"/files/cache/ruleset/85b80736b3cc92d07570521ad97a31d9.ko.js?20180913175854\"></script></body>\\n</html>\\n'"
      ]
     },
     "execution_count": 11,
     "metadata": {},
     "output_type": "execute_result"
    }
   ],
   "source": [
    "'''\n",
    "source 내용은 어떠한가\n",
    "무얼 없애야 할 것인가\n",
    "'''\n",
    "source"
   ]
  },
  {
   "cell_type": "code",
   "execution_count": 12,
   "metadata": {
    "slideshow": {
     "slide_type": "slide"
    }
   },
   "outputs": [
    {
     "name": "stdout",
     "output_type": "stream",
     "text": [
      "\n",
      "\n",
      "\n",
      "\n",
      "\n",
      "\n",
      "\n",
      "\n",
      "컴퓨터공학부\n",
      "\n",
      "\n",
      "\n",
      "\n",
      "\n",
      "\n",
      "\n",
      "\n",
      "\n",
      "\n",
      "\n",
      "\n",
      "var current_url = \"https://cse.koreatech.ac.kr/\";\n",
      "var request_uri = \"https://cse.koreatech.ac.kr/\";\n",
      "var current_mid = \"home_2015\";\n",
      "var waiting_message = \"서버에 요청 중입니다. 잠시만 기다려주세요.\";\n",
      "var ssl_actions = new Array();\n",
      "var default_url = \"https://cse.koreatech.ac.kr/\";\n",
      "var http_port = 80;var https_port = 443;var enforce_ssl = true;\n",
      "\n",
      "\n",
      "\n",
      "\n",
      "\n",
      "\n",
      "\n",
      "\n",
      "\n",
      "\n",
      "\n",
      "\n",
      "\n",
      "\n",
      "\n",
      "\n",
      "\n",
      "\n",
      "\n",
      "\n",
      "\n",
      "\n",
      "\n",
      "//\n",
      "\n",
      "\n",
      "\n",
      "\n",
      "\n",
      "\n",
      "\t\n",
      "\tSchoolfun - Study and Fun\n",
      "\t\n",
      "\t\n",
      "\t\n",
      "\t\t\n",
      "\t\n",
      "\t\n",
      "\t\t\n",
      "\t\t\t\n",
      "\n",
      "\n",
      "\n",
      "\t\n",
      "\t\t\n",
      "\t\t\t\n",
      "\t\t\t\t\n",
      "\t\t\t\t\n",
      "\t\t\t\t\n",
      "\t\t\t\n",
      "\t\t\t\n",
      "\t\t\t\n",
      "\t\t\t\t\n",
      "\t\t\t\t\t\t\t\t\t\t\n",
      "\t\t\t\t\n",
      "\t\t\t\t-->\n",
      "\t\t\t\t\n",
      "\t\t\t\t\t\t\t\t\t\n",
      "\t\t\t\t\t\n",
      "\t로그인\n",
      "\t\n",
      "\t\t로그인\n",
      "\t\t\n",
      "\t\t\n",
      "\t\t\n",
      "\t\t\t\t\n",
      "\t\t\t아이디\t\t\t\t\t\t\t\t\t\t\t\t비밀번호\n",
      "\t\t\t\n",
      "\t\t\t\n",
      "\t\t\t\t\n",
      "\t\t\t\t로그인 유지\n",
      "\t\t\t\n",
      "\t\t\t브라우저를 닫더라도 로그인이 계속 유지될 수 있습니다. 로그인 유지 기능을 사용할 경우 다음 접속부터는 로그인할 필요가 없습니다. 단, 게임방, 학교 등 공공장소에서 이용 시 개인정보가 유출될 수 있으니 꼭 로그아웃을 해주세요.\n",
      "\t\t\n",
      "\t\t\n",
      "\t\t\n",
      "\t\t\t회원가입\n",
      "\t\t\tID/PW 찾기\n",
      "\t\t\n",
      "\t\n",
      "\n",
      "\n",
      "\t\t\t\t\n",
      "\t\t\t\tIT 교육의 글로벌 메카!한국기술교육대학교 컴퓨터공학부\n",
      "\t\t\t\n",
      "\t\t\n",
      "\t\n",
      "\t\n",
      "\t\tClose\n",
      "\t\t\n",
      "\t\t\t\n",
      "\t\t\t\t\n",
      "\t\t\t\t\n",
      "\t\t\t\t\n",
      "\t\t\t\n",
      "\t\t\t\n",
      "\t\t\t\t\t\t\t\t\n",
      "\t\t\t\t\t\t\t\t\t\t소개\n",
      "\t\t\t\t\t\t\t\t\t\t\n",
      "\t\t\t\t\n",
      "\t\t\t\t\t\t\t\t\t\t\t\t\t\n",
      "\t\t\t\t\t\t\t\t\t\t구성원소개\n",
      "\t\t\t\t\t\t\t\t\t\t\n",
      "\t\t\t\t\n",
      "\t\t\t\t\t\t\t\t\t\t\t\t\t\n",
      "\t\t\t\t\t\t\t\t\t\t학사안내\n",
      "\t\t\t\t\t\t\t\t\t\t\n",
      "\t\t\t\t\n",
      "\t\t\t\t\t\t\t\t\t\t\t\t\t\n",
      "\t\t\t\t\t\t\t\t\t\t입학\n",
      "\t\t\t\t\t\n",
      "                        학부\n",
      "                        대학원\n",
      "                    \n",
      "\t\t\t\t\t\t\t\t\t\t\n",
      "\t\t\t\t\n",
      "\t\t\t\t\t\t\t\t\t\t\t\t\t\n",
      "\t\t\t\t\t\t\t\t\t\t학부광장\n",
      "\t\t\t\t\t\t\t\t\t\t\n",
      "\t\t\t\t\n",
      "\t\t\t\t\t\t\t\t\t\t\t\t\t\n",
      "\t\t\t\t\t\t\t\t\t\t자료실\n",
      "\t\t\t\t\t\t\t\t\t\t\n",
      "\t\t\t\t\n",
      "\t\t\t\t\t\t\t\t\t\t\t\t\t\n",
      "\t\t\t\t\t\t\t\t\t\t대학원\n",
      "\t\t\t\t\t\t\t\t\t\t\n",
      "\t\t\t\t\n",
      "\t\t\t\t\t\t\t\t\t\t\t\t\t\n",
      "\t\t\t\t\t\t\t\t\t\t공학교육인증\n",
      "\t\t\t\t\t\t\t\t\t\t\n",
      "\t\t\t\t\n",
      "\t\t\t\t\t\t\t\t\t\t\t\t\t\n",
      "\t\t\t\t\t\t\t\t\t\t학부서비스\n",
      "\t\t\t\t\t\t\t\t\t\t\n",
      "\t\t\t\t\n",
      "\t\t\t\t\t\t\t\t\t\t\t\t\t\n",
      "\t\t\t\n",
      "                        \t\t\tRegistration\n",
      "                        \t\t\n",
      "\t\n",
      "      \n",
      "\t        \t        \n",
      "\n",
      "\n",
      "    \n",
      "        \n",
      "            컴퓨터공학부\n",
      "                School of Computer Science and Engineering\n",
      "                \n",
      "            \n",
      "            \n",
      "                IT 융합소프트웨어 인력양성사업\n",
      "                CK (Creative Korea)-I\n",
      "                \n",
      "            \n",
      "            \n",
      "                교육역량강화사업 온라인 컨텐츠\n",
      "                Online Contents for Education Capability Empowerment\n",
      "                \n",
      "            \n",
      "        \n",
      "    \n",
      "\t\n",
      "        \n",
      "        \n",
      "        \n",
      "            \n",
      "                IT 교육의 글로벌 메카\n",
      "                한국기술교육대학교 컴퓨터공학부 홈페이지에 오신 것을환영합니다!\n",
      "            \n",
      "        \n",
      "    \n",
      "    \n",
      "        \n",
      "        \n",
      "\t\n",
      "            \n",
      "                IT 융합소프트웨어 인력양성사업\n",
      "                글로벌 수준의 IT전문인력 양성\n",
      "IT융합분야에 대한 국제적인 경쟁력 고취\n",
      "                바로가기\n",
      "            \n",
      "        \n",
      "    \n",
      "    \n",
      "        \n",
      "        \n",
      "\t\n",
      "            \n",
      "                교육역량강화사업 컨텐츠\n",
      "                교육역량강화사업 온라인 컨텐츠를 소개합니다.\n",
      "                바로가기\n",
      "            \n",
      "        \n",
      "    \n",
      "\n",
      "\n",
      "\n",
      "    \t\t\n",
      "    \n",
      "\n",
      "\t\n",
      "                공지사항\n",
      "    \n",
      "                    \n",
      "                                                                                        AR/VR분야 Capston Design 지원 계획 ~ 2018.11.30.(금...\n",
      "                                                                                                                            2018-10-29 16:30 16:30\n",
      "                                    \n",
      "                \n",
      "                                                                                        [특성화] 2018학년도 2학기 운영 강좌 안내\n",
      "                                                                                                                            2018-10-29 10:56 10:56\n",
      "                                    \n",
      "                \n",
      "                                                                                        [특성화] 2018 IT융합 아이디어 경진대회 안내(2학기 ...\n",
      "                                                                                                                            2018-10-25 15:01 15:01\n",
      "                                    \n",
      "                \n",
      "                                                                                        [특성화] 2018 IT융합 AR Co-Bot Intensive 캠프 모집 ...\n",
      "                                                                                                                            2018-10-22 15:30 15:30\n",
      "                                    \n",
      "                \n",
      "                                                                                        [졸업작품] 2018 졸업작품 산업체 평가회 결과에 따른 ...\n",
      "                                                                                                                            2018-10-19 14:09 14:09\n",
      "                                    \n",
      "            \n",
      "            \n",
      "\n",
      "\n",
      "\n",
      "\n",
      "\t\n",
      "                자유게시판\n",
      "    \n",
      "                    \n",
      "                                                                                        ★문화의날 행사 공지★\n",
      "                                                                                                                            2018-10-19 20:31 20:31\n",
      "                                    \n",
      "                \n",
      "                                                                                        졸업작품전시회 기간 헤어/메이크업\n",
      "                                                                                                                            2018-10-07 14:48 14:48\n",
      "                                    \n",
      "                \n",
      "                                                                                        ※모의토익비 지원 공지※\n",
      "                                                                                                                            2018-09-28 09:37 09:37\n",
      "                                    \n",
      "                \n",
      "                                                                                        ACM-ICPC 예선 신청기간이 얼마 안 남았습니다!\n",
      "                                                                                                                            2018-09-13 11:36 11:36\n",
      "                                    \n",
      "                \n",
      "                                                                                        문화행사 취소 공지\n",
      "                                                                                                                            2018-09-10 19:17 19:17\n",
      "                                    \n",
      "            \n",
      "            \n",
      "\n",
      "\n",
      "\n",
      "\n",
      "\t\n",
      "                취업게시판\n",
      "    \n",
      "                    \n",
      "                                                                                        ㈜비즈테크파트너스 (LG CNS자회사) 신입 개발직 ~2018...\n",
      "                                                                                                                            2018-10-25 16:29 16:29\n",
      "                                    \n",
      "                \n",
      "                                                                                        [국가보안기술연구소] 정규직 채용\n",
      "                                                                                                                            2018-10-04 14:18 14:18\n",
      "                                    \n",
      "                \n",
      "                                                                                        한글과컴퓨터그룹 2018년 하반기 신입/경력 공채 ~10.10\n",
      "                                                                                                                            2018-09-27 13:13 13:13\n",
      "                                    \n",
      "                \n",
      "                                                                                        [구인]천안 충무병원 전산실\n",
      "                                                                                                                            2018-09-18 15:25 15:25\n",
      "                                    \n",
      "                \n",
      "                                                                                        [정부교육] K-Shield 주니어 교육생 모집(정보보호) ~9.5\n",
      "                                                                                                                            2018-09-03 07:53 07:53\n",
      "                                    \n",
      "            \n",
      "            \n",
      "\n",
      "\n",
      "\n",
      "\n",
      "\t\n",
      "                Platum\n",
      "    \n",
      "                    \n",
      "                                                                                        표철민 대표 “블록체인 생태계 조성위해 불법만 아니면...\n",
      "                                                                                    \n",
      "                                                                                    2018-10-29 15:50 15:50\n",
      "                                                                \n",
      "                \n",
      "                                                                                        아산나눔재단, ‘아산 기업가정신 교육 포럼’ 개최\n",
      "                                                                                    \n",
      "                                                                                    2018-10-29 09:43 09:43\n",
      "                                                                \n",
      "                \n",
      "                                                                                        [10월 29일 스타트업 비즈니스 동향] 메쉬코리아, 위드...\n",
      "                                                                                    \n",
      "                                                                                    2018-10-29 09:36 09:36\n",
      "                                                                \n",
      "                \n",
      "                                                                                        블록체인 기반 기업용 솔루션 개발 스타트업, ‘블록오...\n",
      "                                                                                    \n",
      "                                                                                    2018-10-29 08:37 08:37\n",
      "                                                                \n",
      "                \n",
      "                                                                                        [더팀스 커리어피드] 스타트업 취업의 고수가 되는 방법\n",
      "                                                                                    \n",
      "                                                                                    2018-10-29 08:36 08:36\n",
      "                                                                \n",
      "            \n",
      "            \n",
      "\n",
      "\n",
      "\n",
      "\n",
      "\t\n",
      "                전자신문\n",
      "    \n",
      "                    \n",
      "                                                                                        [2018 국정감사]화웨이 \"5G 장비 보안 검증 수용,...\n",
      "                                                                                    \n",
      "                                                                                    2018-10-29 18:41 18:41\n",
      "                                    \n",
      "                \n",
      "                                                                                        [이슈분석]역차별 해소, 글로벌 동향은\n",
      "                                                                                    \n",
      "                                                                                    2018-10-29 17:00 17:00\n",
      "                                    \n",
      "                \n",
      "                                                                                        SK텔레콤, 중소기업과 '5G 모세혈관' 고도화 나선다\n",
      "                                                                                    \n",
      "                                                                                    2018-10-29 17:00 17:00\n",
      "                                    \n",
      "                \n",
      "                                                                                        SK브로드밴드, 세계 3번째 '프로그래매틱' 광고 도입\n",
      "                                                                                    \n",
      "                                                                                    2018-10-29 17:00 17:00\n",
      "                                    \n",
      "                \n",
      "                                                                                        [이슈분석]글로벌ICT기업 역차별 해소, 5대 분야 ...\n",
      "                                                                                    \n",
      "                                                                                    2018-10-29 17:00 17:00\n",
      "                                    \n",
      "            \n",
      "            \n",
      "\n",
      "\n",
      "\n",
      "\n",
      "\t\n",
      "                TechCrunch\n",
      "    \n",
      "                    \n",
      "                                                                                        You can now control the Nvidia Shield TV with ...\n",
      "                                                                                    \n",
      "                                                                                    2018-10-30 01:00 01:00\n",
      "                                    \n",
      "                \n",
      "                                                                                        No, Twitter is not removing its like button ‘s...\n",
      "                                                                                    \n",
      "                                                                                    2018-10-30 00:16 00:16\n",
      "                                    \n",
      "                \n",
      "                                                                                        Vimeo subscribers can now publish videos direc...\n",
      "                                                                                    \n",
      "                                                                                    2018-10-29 23:59 23:59\n",
      "                                    \n",
      "                \n",
      "                                                                                        AmazonSmile has raised $100 million for charity\n",
      "                                                                                    \n",
      "                                                                                    2018-10-29 23:07 23:07\n",
      "                                    \n",
      "                \n",
      "                                                                                        Atlassian sells Jitsi, an open-source videocon...\n",
      "                                                                                    \n",
      "                                                                                    2018-10-29 22:41 22:41\n",
      "                                    \n",
      "            \n",
      "            \n",
      "\n",
      "\n",
      "    \n",
      "\n",
      "\n",
      "\n",
      "    \n",
      "        Back to Top\n",
      "    \n",
      "    \n",
      "        Leading Together for Brighter Future\n",
      "    \n",
      "    -->\n",
      "    \n",
      "    \n",
      "        \n",
      "            \n",
      "                \n",
      "                    \n",
      "                        Quick Navigation\n",
      "                        \n",
      "                            한국기술교육대학교 홈페이지\n",
      "                            한국기술교육대학교 WEBMAIL\n",
      "                            한국기술교육대학교 온라인 평생교육원\n",
      "                            IT 융합소프트웨어 인력양성사업\n",
      "                            컴퓨터공학부 교직원 업무 자료실\n",
      "                            컴퓨터공학부 포트폴리오-->\n",
      "                            \n",
      "                        \n",
      "                            \n",
      "                        \n",
      "                    \n",
      "                \n",
      "            \n",
      "            \n",
      "                \n",
      "                    \n",
      "                        Campus Location\n",
      "                        \n",
      "\t                        \n",
      "                    \n",
      "                \n",
      "            \n",
      "\n",
      "                \n",
      "                    Contact CSE\n",
      "                충청남도 천안시 동남구 병천면 충절로 1600한국기술교육대학교 컴퓨터공학부 학과사무실 TEL (041) 560 1460 ~ 1461 FAX (041) 560 1462\n",
      "                \n",
      "                    Facebook\n",
      "                    Twitter\n",
      "                    Google Plus\n",
      "                    Linkedin-->\n",
      "                \n",
      "                \n",
      "                \n",
      "            \n",
      "        \n",
      "    \n",
      "    \n",
      "        \n",
      "            \n",
      "            (31253) 충청남도 천안시 동남구 병천면 충절로 1600 (가전리, 한국기술교육대학교) 컴퓨터공학부 \n",
      "            Copyright © 2015. All rights reserved\n",
      "        \n",
      "    \n",
      "\n",
      "\n",
      "\n",
      "\n",
      "\n",
      "\n",
      "\n",
      "\n",
      "\n"
     ]
    }
   ],
   "source": [
    "text = \"\"\n",
    "def extractLetter(source):\n",
    "    global text\n",
    "    while True:\n",
    "        source = source[source.find('>')+1:] # source 업데이트\n",
    "        for letter in source :\n",
    "            if letter == '<':\n",
    "                break\n",
    "            else: \n",
    "                text = text + letter\n",
    "        if(source.find('>') == -1):\n",
    "            break # while문 무한루프 종료 조건: '>' 문자가 더 이상 없는 경우\n",
    "extractLetter(source)\n",
    "print(text)   "
   ]
  },
  {
   "cell_type": "markdown",
   "metadata": {},
   "source": [
    "<img src=\"./img/B79E52F3-68CB-4763-9B31-3C875205582C.png\"/>"
   ]
  },
  {
   "cell_type": "code",
   "execution_count": 16,
   "metadata": {
    "slideshow": {
     "slide_type": "slide"
    }
   },
   "outputs": [
    {
     "name": "stdout",
     "output_type": "stream",
     "text": [
      "\n",
      "\n",
      "\n",
      "\n",
      "\n",
      "\n",
      "\n",
      "\n",
      "컴퓨터공학부\n",
      "\n",
      "\n",
      "\n",
      "\n",
      "\n",
      "\n",
      "\n",
      "\n",
      "\n",
      "\n",
      "\n",
      "\n",
      "\n",
      "\n",
      "\n",
      "\n",
      "\n",
      "\n",
      "\n",
      "\n",
      "\n",
      "\n",
      "\n",
      "\n",
      "\n",
      "\n",
      "\n",
      "\n",
      "\n",
      "\n",
      "\n",
      "\n",
      "\n",
      "\n",
      "\n",
      "\n",
      "\n",
      "\n",
      "\n",
      "\n",
      "\n",
      "\n",
      "\n",
      "\n",
      "\n",
      "\n",
      "\n",
      "//\n",
      "\n",
      "\n",
      "\n",
      "\n",
      "\n",
      "\n",
      "\t\n",
      "\tSchoolfun - Study and Fun\n",
      "\t\n",
      "\t\n",
      "\t\n",
      "\t\t\n",
      "\t\n",
      "\t\n",
      "\t\t\n",
      "\t\t\t\n",
      "\n",
      "\n",
      "\n",
      "\t\n",
      "\t\t\n",
      "\t\t\t\n",
      "\t\t\t\t\n",
      "\t\t\t\t\n",
      "\t\t\t\t\n",
      "\t\t\t\n",
      "\t\t\t\n",
      "\t\t\t\n",
      "\t\t\t\t\n",
      "\t\t\t\t\t\t\t\t\t\t\n",
      "\t\t\t\t\n",
      "\t\t\t\t-->\n",
      "\t\t\t\t\n",
      "\t\t\t\t\t\t\t\t\t\n",
      "\t\t\t\t\t\n",
      "\t로그인\n",
      "\t\n",
      "\t\t로그인\n",
      "\t\t\n",
      "\t\t\n",
      "\t\t\n",
      "\t\t\t\t\n",
      "\t\t\t아이디\t\t\t\t\t\t\t\t\t\t\t\t비밀번호\n",
      "\t\t\t\n",
      "\t\t\t\n",
      "\t\t\t\t\n",
      "\t\t\t\t로그인 유지\n",
      "\t\t\t\n",
      "\t\t\t브라우저를 닫더라도 로그인이 계속 유지될 수 있습니다. 로그인 유지 기능을 사용할 경우 다음 접속부터는 로그인할 필요가 없습니다. 단, 게임방, 학교 등 공공장소에서 이용 시 개인정보가 유출될 수 있으니 꼭 로그아웃을 해주세요.\n",
      "\t\t\n",
      "\t\t\n",
      "\t\t\n",
      "\t\t\t회원가입\n",
      "\t\t\tID/PW 찾기\n",
      "\t\t\n",
      "\t\n",
      "\n",
      "\n",
      "\t\t\t\t\n",
      "\t\t\t\tIT 교육의 글로벌 메카!한국기술교육대학교 컴퓨터공학부\n",
      "\t\t\t\n",
      "\t\t\n",
      "\t\n",
      "\t\n",
      "\t\tClose\n",
      "\t\t\n",
      "\t\t\t\n",
      "\t\t\t\t\n",
      "\t\t\t\t\n",
      "\t\t\t\t\n",
      "\t\t\t\n",
      "\t\t\t\n",
      "\t\t\t\t\t\t\t\t\n",
      "\t\t\t\t\t\t\t\t\t\t소개\n",
      "\t\t\t\t\t\t\t\t\t\t\n",
      "\t\t\t\t\n",
      "\t\t\t\t\t\t\t\t\t\t\t\t\t\n",
      "\t\t\t\t\t\t\t\t\t\t구성원소개\n",
      "\t\t\t\t\t\t\t\t\t\t\n",
      "\t\t\t\t\n",
      "\t\t\t\t\t\t\t\t\t\t\t\t\t\n",
      "\t\t\t\t\t\t\t\t\t\t학사안내\n",
      "\t\t\t\t\t\t\t\t\t\t\n",
      "\t\t\t\t\n",
      "\t\t\t\t\t\t\t\t\t\t\t\t\t\n",
      "\t\t\t\t\t\t\t\t\t\t입학\n",
      "\t\t\t\t\t\n",
      "                        학부\n",
      "                        대학원\n",
      "                    \n",
      "\t\t\t\t\t\t\t\t\t\t\n",
      "\t\t\t\t\n",
      "\t\t\t\t\t\t\t\t\t\t\t\t\t\n",
      "\t\t\t\t\t\t\t\t\t\t학부광장\n",
      "\t\t\t\t\t\t\t\t\t\t\n",
      "\t\t\t\t\n",
      "\t\t\t\t\t\t\t\t\t\t\t\t\t\n",
      "\t\t\t\t\t\t\t\t\t\t자료실\n",
      "\t\t\t\t\t\t\t\t\t\t\n",
      "\t\t\t\t\n",
      "\t\t\t\t\t\t\t\t\t\t\t\t\t\n",
      "\t\t\t\t\t\t\t\t\t\t대학원\n",
      "\t\t\t\t\t\t\t\t\t\t\n",
      "\t\t\t\t\n",
      "\t\t\t\t\t\t\t\t\t\t\t\t\t\n",
      "\t\t\t\t\t\t\t\t\t\t공학교육인증\n",
      "\t\t\t\t\t\t\t\t\t\t\n",
      "\t\t\t\t\n",
      "\t\t\t\t\t\t\t\t\t\t\t\t\t\n",
      "\t\t\t\t\t\t\t\t\t\t학부서비스\n",
      "\t\t\t\t\t\t\t\t\t\t\n",
      "\t\t\t\t\n",
      "\t\t\t\t\t\t\t\t\t\t\t\t\t\n",
      "\t\t\t\n",
      "                        \t\t\tRegistration\n",
      "                        \t\t\n",
      "\t\n",
      "      \n",
      "\t        \t        \n",
      "\n",
      "\n",
      "    \n",
      "        \n",
      "            컴퓨터공학부\n",
      "                School of Computer Science and Engineering\n",
      "                \n",
      "            \n",
      "            \n",
      "                IT 융합소프트웨어 인력양성사업\n",
      "                CK (Creative Korea)-I\n",
      "                \n",
      "            \n",
      "            \n",
      "                교육역량강화사업 온라인 컨텐츠\n",
      "                Online Contents for Education Capability Empowerment\n",
      "                \n",
      "            \n",
      "        \n",
      "    \n",
      "\t\n",
      "        \n",
      "        \n",
      "        \n",
      "            \n",
      "                IT 교육의 글로벌 메카\n",
      "                한국기술교육대학교 컴퓨터공학부 홈페이지에 오신 것을환영합니다!\n",
      "            \n",
      "        \n",
      "    \n",
      "    \n",
      "        \n",
      "        \n",
      "\t\n",
      "            \n",
      "                IT 융합소프트웨어 인력양성사업\n",
      "                글로벌 수준의 IT전문인력 양성\n",
      "IT융합분야에 대한 국제적인 경쟁력 고취\n",
      "                바로가기\n",
      "            \n",
      "        \n",
      "    \n",
      "    \n",
      "        \n",
      "        \n",
      "\t\n",
      "            \n",
      "                교육역량강화사업 컨텐츠\n",
      "                교육역량강화사업 온라인 컨텐츠를 소개합니다.\n",
      "                바로가기\n",
      "            \n",
      "        \n",
      "    \n",
      "\n",
      "\n",
      "\n",
      "    \t\t\n",
      "    \n",
      "\n",
      "\t\n",
      "                공지사항\n",
      "    \n",
      "                    \n",
      "                                                                                        AR/VR분야 Capston Design 지원 계획 ~ 2018.11.30.(금...\n",
      "                                                                                                                            2018-10-29 16:30 16:30\n",
      "                                    \n",
      "                \n",
      "                                                                                        [특성화] 2018학년도 2학기 운영 강좌 안내\n",
      "                                                                                                                            2018-10-29 10:56 10:56\n",
      "                                    \n",
      "                \n",
      "                                                                                        [특성화] 2018 IT융합 아이디어 경진대회 안내(2학기 ...\n",
      "                                                                                                                            2018-10-25 15:01 15:01\n",
      "                                    \n",
      "                \n",
      "                                                                                        [특성화] 2018 IT융합 AR Co-Bot Intensive 캠프 모집 ...\n",
      "                                                                                                                            2018-10-22 15:30 15:30\n",
      "                                    \n",
      "                \n",
      "                                                                                        [졸업작품] 2018 졸업작품 산업체 평가회 결과에 따른 ...\n",
      "                                                                                                                            2018-10-19 14:09 14:09\n",
      "                                    \n",
      "            \n",
      "            \n",
      "\n",
      "\n",
      "\n",
      "\n",
      "\t\n",
      "                자유게시판\n",
      "    \n",
      "                    \n",
      "                                                                                        ★문화의날 행사 공지★\n",
      "                                                                                                                            2018-10-19 20:31 20:31\n",
      "                                    \n",
      "                \n",
      "                                                                                        졸업작품전시회 기간 헤어/메이크업\n",
      "                                                                                                                            2018-10-07 14:48 14:48\n",
      "                                    \n",
      "                \n",
      "                                                                                        ※모의토익비 지원 공지※\n",
      "                                                                                                                            2018-09-28 09:37 09:37\n",
      "                                    \n",
      "                \n",
      "                                                                                        ACM-ICPC 예선 신청기간이 얼마 안 남았습니다!\n",
      "                                                                                                                            2018-09-13 11:36 11:36\n",
      "                                    \n",
      "                \n",
      "                                                                                        문화행사 취소 공지\n",
      "                                                                                                                            2018-09-10 19:17 19:17\n",
      "                                    \n",
      "            \n",
      "            \n",
      "\n",
      "\n",
      "\n",
      "\n",
      "\t\n",
      "                취업게시판\n",
      "    \n",
      "                    \n",
      "                                                                                        ㈜비즈테크파트너스 (LG CNS자회사) 신입 개발직 ~2018...\n",
      "                                                                                                                            2018-10-25 16:29 16:29\n",
      "                                    \n",
      "                \n",
      "                                                                                        [국가보안기술연구소] 정규직 채용\n",
      "                                                                                                                            2018-10-04 14:18 14:18\n",
      "                                    \n",
      "                \n",
      "                                                                                        한글과컴퓨터그룹 2018년 하반기 신입/경력 공채 ~10.10\n",
      "                                                                                                                            2018-09-27 13:13 13:13\n",
      "                                    \n",
      "                \n",
      "                                                                                        [구인]천안 충무병원 전산실\n",
      "                                                                                                                            2018-09-18 15:25 15:25\n",
      "                                    \n",
      "                \n",
      "                                                                                        [정부교육] K-Shield 주니어 교육생 모집(정보보호) ~9.5\n",
      "                                                                                                                            2018-09-03 07:53 07:53\n",
      "                                    \n",
      "            \n",
      "            \n",
      "\n",
      "\n",
      "\n",
      "\n",
      "\t\n",
      "                Platum\n",
      "    \n",
      "                    \n",
      "                                                                                        표철민 대표 “블록체인 생태계 조성위해 불법만 아니면...\n",
      "                                                                                    \n",
      "                                                                                    2018-10-29 15:50 15:50\n",
      "                                                                \n",
      "                \n",
      "                                                                                        아산나눔재단, ‘아산 기업가정신 교육 포럼’ 개최\n",
      "                                                                                    \n",
      "                                                                                    2018-10-29 09:43 09:43\n",
      "                                                                \n",
      "                \n",
      "                                                                                        [10월 29일 스타트업 비즈니스 동향] 메쉬코리아, 위드...\n",
      "                                                                                    \n",
      "                                                                                    2018-10-29 09:36 09:36\n",
      "                                                                \n",
      "                \n",
      "                                                                                        블록체인 기반 기업용 솔루션 개발 스타트업, ‘블록오...\n",
      "                                                                                    \n",
      "                                                                                    2018-10-29 08:37 08:37\n",
      "                                                                \n",
      "                \n",
      "                                                                                        [더팀스 커리어피드] 스타트업 취업의 고수가 되는 방법\n",
      "                                                                                    \n",
      "                                                                                    2018-10-29 08:36 08:36\n",
      "                                                                \n",
      "            \n",
      "            \n",
      "\n",
      "\n",
      "\n",
      "\n",
      "\t\n",
      "                전자신문\n",
      "    \n",
      "                    \n",
      "                                                                                        [2018 국정감사]화웨이 \"5G 장비 보안 검증 수용,...\n",
      "                                                                                    \n",
      "                                                                                    2018-10-29 18:41 18:41\n",
      "                                    \n",
      "                \n",
      "                                                                                        [이슈분석]역차별 해소, 글로벌 동향은\n",
      "                                                                                    \n",
      "                                                                                    2018-10-29 17:00 17:00\n",
      "                                    \n",
      "                \n",
      "                                                                                        SK텔레콤, 중소기업과 '5G 모세혈관' 고도화 나선다\n",
      "                                                                                    \n",
      "                                                                                    2018-10-29 17:00 17:00\n",
      "                                    \n",
      "                \n",
      "                                                                                        SK브로드밴드, 세계 3번째 '프로그래매틱' 광고 도입\n",
      "                                                                                    \n",
      "                                                                                    2018-10-29 17:00 17:00\n",
      "                                    \n",
      "                \n",
      "                                                                                        [이슈분석]글로벌ICT기업 역차별 해소, 5대 분야 ...\n",
      "                                                                                    \n",
      "                                                                                    2018-10-29 17:00 17:00\n",
      "                                    \n",
      "            \n",
      "            \n",
      "\n",
      "\n",
      "\n",
      "\n",
      "\t\n",
      "                TechCrunch\n",
      "    \n",
      "                    \n",
      "                                                                                        You can now control the Nvidia Shield TV with ...\n",
      "                                                                                    \n",
      "                                                                                    2018-10-30 01:00 01:00\n",
      "                                    \n",
      "                \n",
      "                                                                                        No, Twitter is not removing its like button ‘s...\n",
      "                                                                                    \n",
      "                                                                                    2018-10-30 00:16 00:16\n",
      "                                    \n",
      "                \n",
      "                                                                                        Vimeo subscribers can now publish videos direc...\n",
      "                                                                                    \n",
      "                                                                                    2018-10-29 23:59 23:59\n",
      "                                    \n",
      "                \n",
      "                                                                                        AmazonSmile has raised $100 million for charity\n",
      "                                                                                    \n",
      "                                                                                    2018-10-29 23:07 23:07\n",
      "                                    \n",
      "                \n",
      "                                                                                        Atlassian sells Jitsi, an open-source videocon...\n",
      "                                                                                    \n",
      "                                                                                    2018-10-29 22:41 22:41\n",
      "                                    \n",
      "            \n",
      "            \n",
      "\n",
      "\n",
      "    \n",
      "\n",
      "\n",
      "\n",
      "    \n",
      "        Back to Top\n",
      "    \n",
      "    \n",
      "        Leading Together for Brighter Future\n",
      "    \n",
      "    -->\n",
      "    \n",
      "    \n",
      "        \n",
      "            \n",
      "                \n",
      "                    \n",
      "                        Quick Navigation\n",
      "                        \n",
      "                            한국기술교육대학교 홈페이지\n",
      "                            한국기술교육대학교 WEBMAIL\n",
      "                            한국기술교육대학교 온라인 평생교육원\n",
      "                            IT 융합소프트웨어 인력양성사업\n",
      "                            컴퓨터공학부 교직원 업무 자료실\n",
      "                            컴퓨터공학부 포트폴리오-->\n",
      "                            \n",
      "                        \n",
      "                            \n",
      "                        \n",
      "                    \n",
      "                \n",
      "            \n",
      "            \n",
      "                \n",
      "                    \n",
      "                        Campus Location\n",
      "                        \n",
      "\t                        \n",
      "                    \n",
      "                \n",
      "            \n",
      "\n",
      "                \n",
      "                    Contact CSE\n",
      "                충청남도 천안시 동남구 병천면 충절로 1600한국기술교육대학교 컴퓨터공학부 학과사무실 TEL (041) 560 1460 ~ 1461 FAX (041) 560 1462\n",
      "                \n",
      "                    Facebook\n",
      "                    Twitter\n",
      "                    Google Plus\n",
      "                    Linkedin-->\n",
      "                \n",
      "                \n",
      "                \n",
      "            \n",
      "        \n",
      "    \n",
      "    \n",
      "        \n",
      "            \n",
      "            (31253) 충청남도 천안시 동남구 병천면 충절로 1600 (가전리, 한국기술교육대학교) 컴퓨터공학부 \n",
      "            Copyright © 2015. All rights reserved\n",
      "        \n",
      "    \n",
      "\n",
      "\n",
      "\n",
      "\n",
      "\n",
      "\n",
      "\n",
      "\n",
      "\n"
     ]
    }
   ],
   "source": [
    "def advancedExtractLetter(source):\n",
    "    text = ''\n",
    "    while True:\n",
    "        source_original = source[:source.find('var')]\n",
    "        source = source[source.find(';')+1:]\n",
    "        for idx, letter in enumerate(source) :\n",
    "            if letter == 'v' and source[idx+1] == 'a' and source[idx+2] == 'r':\n",
    "                break\n",
    "            else: \n",
    "                text = text + source_original + letter\n",
    "        if(source.find(';') == -1):\n",
    "            break # 무한루프 종료 조건: '>' 문자가 더 이상 없는 경우\n",
    "    return text\n",
    "text_2 = advancedExtractLetter(text)\n",
    "print(text_2)"
   ]
  },
  {
   "cell_type": "code",
   "execution_count": 15,
   "metadata": {
    "slideshow": {
     "slide_type": "slide"
    }
   },
   "outputs": [],
   "source": [
    "result = text_2.split()"
   ]
  },
  {
   "cell_type": "code",
   "execution_count": 276,
   "metadata": {
    "slideshow": {
     "slide_type": "slide"
    }
   },
   "outputs": [
    {
     "data": {
      "text/plain": [
       "['컴퓨터공학부',\n",
       " '//',\n",
       " 'Schoolfun',\n",
       " '-',\n",
       " 'Study',\n",
       " 'and',\n",
       " 'Fun',\n",
       " '-->',\n",
       " '로그인',\n",
       " '로그인',\n",
       " '아이디',\n",
       " '비밀번호',\n",
       " '로그인',\n",
       " '유지',\n",
       " '브라우저를',\n",
       " '닫더라도',\n",
       " '로그인이',\n",
       " '계속',\n",
       " '유지될',\n",
       " '수',\n",
       " '있습니다.',\n",
       " '로그인',\n",
       " '유지',\n",
       " '기능을',\n",
       " '사용할',\n",
       " '경우',\n",
       " '다음',\n",
       " '접속부터는',\n",
       " '로그인할',\n",
       " '필요가',\n",
       " '없습니다.',\n",
       " '단,',\n",
       " '게임방,',\n",
       " '학교',\n",
       " '등',\n",
       " '공공장소에서',\n",
       " '이용',\n",
       " '시',\n",
       " '개인정보가',\n",
       " '유출될',\n",
       " '수',\n",
       " '있으니',\n",
       " '꼭',\n",
       " '로그아웃을',\n",
       " '해주세요.',\n",
       " '회원가입',\n",
       " 'ID/PW',\n",
       " '찾기',\n",
       " 'IT',\n",
       " '교육의',\n",
       " '글로벌',\n",
       " '메카!한국기술교육대학교',\n",
       " '컴퓨터공학부',\n",
       " 'Close',\n",
       " '소개',\n",
       " '구성원소개',\n",
       " '학사안내',\n",
       " '입학',\n",
       " '학부',\n",
       " '대학원',\n",
       " '학부광장',\n",
       " '자료실',\n",
       " '대학원',\n",
       " '공학교육인증',\n",
       " '학부서비스',\n",
       " 'Registration',\n",
       " '컴퓨터공학부',\n",
       " 'School',\n",
       " 'of',\n",
       " 'Computer',\n",
       " 'Science',\n",
       " 'and',\n",
       " 'Engineering',\n",
       " 'IT',\n",
       " '융합소프트웨어',\n",
       " '인력양성사업',\n",
       " 'CK',\n",
       " '(Creative',\n",
       " 'Korea)-I',\n",
       " '교육역량강화사업',\n",
       " '온라인',\n",
       " '컨텐츠',\n",
       " 'Online',\n",
       " 'Contents',\n",
       " 'for',\n",
       " 'Education',\n",
       " 'Capability',\n",
       " 'Empowerment',\n",
       " 'IT',\n",
       " '교육의',\n",
       " '글로벌',\n",
       " '메카',\n",
       " '한국기술교육대학교',\n",
       " '컴퓨터공학부',\n",
       " '홈페이지에',\n",
       " '오신',\n",
       " '것을환영합니다!',\n",
       " 'IT',\n",
       " '융합소프트웨어',\n",
       " '인력양성사업',\n",
       " '글로벌',\n",
       " '수준의',\n",
       " 'IT전문인력',\n",
       " '양성',\n",
       " 'IT융합분야에',\n",
       " '대한',\n",
       " '국제적인',\n",
       " '경쟁력',\n",
       " '고취',\n",
       " '바로가기',\n",
       " '교육역량강화사업',\n",
       " '컨텐츠',\n",
       " '교육역량강화사업',\n",
       " '온라인',\n",
       " '컨텐츠를',\n",
       " '소개합니다.',\n",
       " '바로가기',\n",
       " '공지사항',\n",
       " 'AR/VR분야',\n",
       " 'Capston',\n",
       " 'Design',\n",
       " '지원',\n",
       " '계획',\n",
       " '~',\n",
       " '2018.11.30.(금...',\n",
       " '2018-10-29',\n",
       " '16:30',\n",
       " '16:30',\n",
       " '[특성화]',\n",
       " '2018학년도',\n",
       " '2학기',\n",
       " '운영',\n",
       " '강좌',\n",
       " '안내',\n",
       " '2018-10-29',\n",
       " '10:56',\n",
       " '10:56',\n",
       " '[특성화]',\n",
       " '2018',\n",
       " 'IT융합',\n",
       " '아이디어',\n",
       " '경진대회',\n",
       " '안내(2학기',\n",
       " '...',\n",
       " '2018-10-25',\n",
       " '15:01',\n",
       " '15:01',\n",
       " '[특성화]',\n",
       " '2018',\n",
       " 'IT융합',\n",
       " 'AR',\n",
       " 'Co-Bot',\n",
       " 'Intensive',\n",
       " '캠프',\n",
       " '모집',\n",
       " '...',\n",
       " '2018-10-22',\n",
       " '15:30',\n",
       " '15:30',\n",
       " '[졸업작품]',\n",
       " '2018',\n",
       " '졸업작품',\n",
       " '산업체',\n",
       " '평가회',\n",
       " '결과에',\n",
       " '따른',\n",
       " '...',\n",
       " '2018-10-19',\n",
       " '14:09',\n",
       " '14:09',\n",
       " '자유게시판',\n",
       " '★문화의날',\n",
       " '행사',\n",
       " '공지★',\n",
       " '2018-10-19',\n",
       " '20:31',\n",
       " '20:31',\n",
       " '졸업작품전시회',\n",
       " '기간',\n",
       " '헤어/메이크업',\n",
       " '2018-10-07',\n",
       " '14:48',\n",
       " '14:48',\n",
       " '※모의토익비',\n",
       " '지원',\n",
       " '공지※',\n",
       " '2018-09-28',\n",
       " '09:37',\n",
       " '09:37',\n",
       " 'ACM-ICPC',\n",
       " '예선',\n",
       " '신청기간이',\n",
       " '얼마',\n",
       " '안',\n",
       " '남았습니다!',\n",
       " '2018-09-13',\n",
       " '11:36',\n",
       " '11:36',\n",
       " '문화행사',\n",
       " '취소',\n",
       " '공지',\n",
       " '2018-09-10',\n",
       " '19:17',\n",
       " '19:17',\n",
       " '취업게시판',\n",
       " '㈜비즈테크파트너스',\n",
       " '(LG',\n",
       " 'CNS자회사)',\n",
       " '신입',\n",
       " '개발직',\n",
       " '~2018...',\n",
       " '2018-10-25',\n",
       " '16:29',\n",
       " '16:29',\n",
       " '[국가보안기술연구소]',\n",
       " '정규직',\n",
       " '채용',\n",
       " '2018-10-04',\n",
       " '14:18',\n",
       " '14:18',\n",
       " '한글과컴퓨터그룹',\n",
       " '2018년',\n",
       " '하반기',\n",
       " '신입/경력',\n",
       " '공채',\n",
       " '~10.10',\n",
       " '2018-09-27',\n",
       " '13:13',\n",
       " '13:13',\n",
       " '[구인]천안',\n",
       " '충무병원',\n",
       " '전산실',\n",
       " '2018-09-18',\n",
       " '15:25',\n",
       " '15:25',\n",
       " '[정부교육]',\n",
       " 'K-Shield',\n",
       " '주니어',\n",
       " '교육생',\n",
       " '모집(정보보호)',\n",
       " '~9.5',\n",
       " '2018-09-03',\n",
       " '07:53',\n",
       " '07:53',\n",
       " 'Platum',\n",
       " '표철민',\n",
       " '대표',\n",
       " '“블록체인',\n",
       " '생태계',\n",
       " '조성위해',\n",
       " '불법만',\n",
       " '아니면...',\n",
       " '2018-10-29',\n",
       " '15:50',\n",
       " '15:50',\n",
       " '아산나눔재단,',\n",
       " '‘아산',\n",
       " '기업가정신',\n",
       " '교육',\n",
       " '포럼’',\n",
       " '개최',\n",
       " '2018-10-29',\n",
       " '09:43',\n",
       " '09:43',\n",
       " '[10월',\n",
       " '29일',\n",
       " '스타트업',\n",
       " '비즈니스',\n",
       " '동향]',\n",
       " '메쉬코리아,',\n",
       " '위드...',\n",
       " '2018-10-29',\n",
       " '09:36',\n",
       " '09:36',\n",
       " '블록체인',\n",
       " '기반',\n",
       " '기업용',\n",
       " '솔루션',\n",
       " '개발',\n",
       " '스타트업,',\n",
       " '‘블록오...',\n",
       " '2018-10-29',\n",
       " '08:37',\n",
       " '08:37',\n",
       " '[더팀스',\n",
       " '커리어피드]',\n",
       " '스타트업',\n",
       " '취업의',\n",
       " '고수가',\n",
       " '되는',\n",
       " '방법',\n",
       " '2018-10-29',\n",
       " '08:36',\n",
       " '08:36',\n",
       " '전자신문',\n",
       " '[2018',\n",
       " '국정감사]화웨이',\n",
       " '\"5G',\n",
       " '장비',\n",
       " '보안',\n",
       " '검증',\n",
       " '수용,...',\n",
       " '2018-10-29',\n",
       " '18:41',\n",
       " '18:41',\n",
       " '[이슈분석]역차별',\n",
       " '해소,',\n",
       " '글로벌',\n",
       " '동향은',\n",
       " '2018-10-29',\n",
       " '17:00',\n",
       " '17:00',\n",
       " 'SK텔레콤,',\n",
       " '중소기업과',\n",
       " \"'5G\",\n",
       " \"모세혈관'\",\n",
       " '고도화',\n",
       " '나선다',\n",
       " '2018-10-29',\n",
       " '17:00',\n",
       " '17:00',\n",
       " 'SK브로드밴드,',\n",
       " '세계',\n",
       " '3번째',\n",
       " \"'프로그래매틱'\",\n",
       " '광고',\n",
       " '도입',\n",
       " '2018-10-29',\n",
       " '17:00',\n",
       " '17:00',\n",
       " '[이슈분석]글로벌ICT기업',\n",
       " '역차별',\n",
       " '해소,',\n",
       " '5대',\n",
       " '분야',\n",
       " '...',\n",
       " '2018-10-29',\n",
       " '17:00',\n",
       " '17:00',\n",
       " 'TechCrunch',\n",
       " 'AmazonSmile',\n",
       " 'has',\n",
       " 'raised',\n",
       " '$100',\n",
       " 'million',\n",
       " 'for',\n",
       " 'charity',\n",
       " '2018-10-29',\n",
       " '23:07',\n",
       " '23:07',\n",
       " 'Atlassian',\n",
       " 'sells',\n",
       " 'Jitsi,',\n",
       " 'an',\n",
       " 'open-source',\n",
       " 'videocon...',\n",
       " '2018-10-29',\n",
       " '22:41',\n",
       " '22:41',\n",
       " 'Here',\n",
       " 'are',\n",
       " 'the',\n",
       " '20',\n",
       " 'games',\n",
       " 'shipping',\n",
       " 'with',\n",
       " 'the',\n",
       " 'PlaySt...',\n",
       " '2018-10-29',\n",
       " '22:08',\n",
       " '22:08',\n",
       " 'DJI',\n",
       " 'releases',\n",
       " 'a',\n",
       " 'modified',\n",
       " 'Mavic',\n",
       " '2',\n",
       " 'drone',\n",
       " 'aimed',\n",
       " 'at...',\n",
       " '2018-10-29',\n",
       " '22:00',\n",
       " '22:00',\n",
       " 'Blue',\n",
       " 'Apron',\n",
       " 'gets',\n",
       " 'a',\n",
       " 'much-needed',\n",
       " 'boost',\n",
       " 'with',\n",
       " 'Jet.c...',\n",
       " '2018-10-29',\n",
       " '21:57',\n",
       " '21:57',\n",
       " 'Back',\n",
       " 'to',\n",
       " 'Top',\n",
       " 'Leading',\n",
       " 'Together',\n",
       " 'for',\n",
       " 'Brighter',\n",
       " 'Future',\n",
       " '-->',\n",
       " 'Quick',\n",
       " 'Navigation',\n",
       " '한국기술교육대학교',\n",
       " '홈페이지',\n",
       " '한국기술교육대학교',\n",
       " 'WEBMAIL',\n",
       " '한국기술교육대학교',\n",
       " '온라인',\n",
       " '평생교육원',\n",
       " 'IT',\n",
       " '융합소프트웨어',\n",
       " '인력양성사업',\n",
       " '컴퓨터공학부',\n",
       " '교직원',\n",
       " '업무',\n",
       " '자료실',\n",
       " '컴퓨터공학부',\n",
       " '포트폴리오-->',\n",
       " 'Campus',\n",
       " 'Location',\n",
       " 'Contact',\n",
       " 'CSE',\n",
       " '충청남도',\n",
       " '천안시',\n",
       " '동남구',\n",
       " '병천면',\n",
       " '충절로',\n",
       " '1600한국기술교육대학교',\n",
       " '컴퓨터공학부',\n",
       " '학과사무실',\n",
       " 'TEL',\n",
       " '(041)',\n",
       " '560',\n",
       " '1460',\n",
       " '~',\n",
       " '1461',\n",
       " 'FAX',\n",
       " '(041)',\n",
       " '560',\n",
       " '1462',\n",
       " 'Facebook',\n",
       " 'Twitter',\n",
       " 'Google',\n",
       " 'Plus',\n",
       " 'Linkedin-->',\n",
       " '(31253)',\n",
       " '충청남도',\n",
       " '천안시',\n",
       " '동남구',\n",
       " '병천면',\n",
       " '충절로',\n",
       " '1600',\n",
       " '(가전리,',\n",
       " '한국기술교육대학교)',\n",
       " '컴퓨터공학부',\n",
       " 'Copyright',\n",
       " '©',\n",
       " '2015.',\n",
       " 'All',\n",
       " 'rights',\n",
       " 'reserved']"
      ]
     },
     "execution_count": 276,
     "metadata": {},
     "output_type": "execute_result"
    }
   ],
   "source": [
    "result"
   ]
  },
  {
   "cell_type": "code",
   "execution_count": 278,
   "metadata": {
    "slideshow": {
     "slide_type": "slide"
    }
   },
   "outputs": [],
   "source": [
    "for item in result:\n",
    "    if item == \"-->\" or item == \"//\" or item == \"<--\":\n",
    "        result.remove(item)"
   ]
  },
  {
   "cell_type": "code",
   "execution_count": 290,
   "metadata": {
    "slideshow": {
     "slide_type": "slide"
    }
   },
   "outputs": [
    {
     "name": "stdout",
     "output_type": "stream",
     "text": [
      "461\n"
     ]
    }
   ],
   "source": [
    "print(len(result))"
   ]
  },
  {
   "cell_type": "code",
   "execution_count": 291,
   "metadata": {
    "slideshow": {
     "slide_type": "slide"
    }
   },
   "outputs": [
    {
     "data": {
      "text/plain": [
       "['컴퓨터공학부',\n",
       " 'Schoolfun',\n",
       " '-',\n",
       " 'Study',\n",
       " 'and',\n",
       " 'Fun',\n",
       " '로그인',\n",
       " '로그인',\n",
       " '아이디',\n",
       " '비밀번호',\n",
       " '로그인',\n",
       " '유지',\n",
       " '브라우저를',\n",
       " '닫더라도',\n",
       " '로그인이',\n",
       " '계속',\n",
       " '유지될',\n",
       " '수',\n",
       " '있습니다.',\n",
       " '로그인',\n",
       " '유지',\n",
       " '기능을',\n",
       " '사용할',\n",
       " '경우',\n",
       " '다음',\n",
       " '접속부터는',\n",
       " '로그인할',\n",
       " '필요가',\n",
       " '없습니다.',\n",
       " '단,',\n",
       " '게임방,',\n",
       " '학교',\n",
       " '등',\n",
       " '공공장소에서',\n",
       " '이용',\n",
       " '시',\n",
       " '개인정보가',\n",
       " '유출될',\n",
       " '수',\n",
       " '있으니',\n",
       " '꼭',\n",
       " '로그아웃을',\n",
       " '해주세요.',\n",
       " '회원가입',\n",
       " 'ID/PW',\n",
       " '찾기',\n",
       " 'IT',\n",
       " '교육의',\n",
       " '글로벌',\n",
       " '메카!한국기술교육대학교',\n",
       " '컴퓨터공학부',\n",
       " 'Close',\n",
       " '소개',\n",
       " '구성원소개',\n",
       " '학사안내',\n",
       " '입학',\n",
       " '학부',\n",
       " '대학원',\n",
       " '학부광장',\n",
       " '자료실',\n",
       " '대학원',\n",
       " '공학교육인증',\n",
       " '학부서비스',\n",
       " 'Registration',\n",
       " '컴퓨터공학부',\n",
       " 'School',\n",
       " 'of',\n",
       " 'Computer',\n",
       " 'Science',\n",
       " 'and',\n",
       " 'Engineering',\n",
       " 'IT',\n",
       " '융합소프트웨어',\n",
       " '인력양성사업',\n",
       " 'CK',\n",
       " '(Creative',\n",
       " 'Korea)-I',\n",
       " '교육역량강화사업',\n",
       " '온라인',\n",
       " '컨텐츠',\n",
       " 'Online',\n",
       " 'Contents',\n",
       " 'for',\n",
       " 'Education',\n",
       " 'Capability',\n",
       " 'Empowerment',\n",
       " 'IT',\n",
       " '교육의',\n",
       " '글로벌',\n",
       " '메카',\n",
       " '한국기술교육대학교',\n",
       " '컴퓨터공학부',\n",
       " '홈페이지에',\n",
       " '오신',\n",
       " '것을환영합니다!',\n",
       " 'IT',\n",
       " '융합소프트웨어',\n",
       " '인력양성사업',\n",
       " '글로벌',\n",
       " '수준의',\n",
       " 'IT전문인력',\n",
       " '양성',\n",
       " 'IT융합분야에',\n",
       " '대한',\n",
       " '국제적인',\n",
       " '경쟁력',\n",
       " '고취',\n",
       " '바로가기',\n",
       " '교육역량강화사업',\n",
       " '컨텐츠',\n",
       " '교육역량강화사업',\n",
       " '온라인',\n",
       " '컨텐츠를',\n",
       " '소개합니다.',\n",
       " '바로가기',\n",
       " '공지사항',\n",
       " 'AR/VR분야',\n",
       " 'Capston',\n",
       " 'Design',\n",
       " '지원',\n",
       " '계획',\n",
       " '~',\n",
       " '2018.11.30.(금...',\n",
       " '2018-10-29',\n",
       " '16:30',\n",
       " '16:30',\n",
       " '[특성화]',\n",
       " '2018학년도',\n",
       " '2학기',\n",
       " '운영',\n",
       " '강좌',\n",
       " '안내',\n",
       " '2018-10-29',\n",
       " '10:56',\n",
       " '10:56',\n",
       " '[특성화]',\n",
       " '2018',\n",
       " 'IT융합',\n",
       " '아이디어',\n",
       " '경진대회',\n",
       " '안내(2학기',\n",
       " '...',\n",
       " '2018-10-25',\n",
       " '15:01',\n",
       " '15:01',\n",
       " '[특성화]',\n",
       " '2018',\n",
       " 'IT융합',\n",
       " 'AR',\n",
       " 'Co-Bot',\n",
       " 'Intensive',\n",
       " '캠프',\n",
       " '모집',\n",
       " '...',\n",
       " '2018-10-22',\n",
       " '15:30',\n",
       " '15:30',\n",
       " '[졸업작품]',\n",
       " '2018',\n",
       " '졸업작품',\n",
       " '산업체',\n",
       " '평가회',\n",
       " '결과에',\n",
       " '따른',\n",
       " '...',\n",
       " '2018-10-19',\n",
       " '14:09',\n",
       " '14:09',\n",
       " '자유게시판',\n",
       " '★문화의날',\n",
       " '행사',\n",
       " '공지★',\n",
       " '2018-10-19',\n",
       " '20:31',\n",
       " '20:31',\n",
       " '졸업작품전시회',\n",
       " '기간',\n",
       " '헤어/메이크업',\n",
       " '2018-10-07',\n",
       " '14:48',\n",
       " '14:48',\n",
       " '※모의토익비',\n",
       " '지원',\n",
       " '공지※',\n",
       " '2018-09-28',\n",
       " '09:37',\n",
       " '09:37',\n",
       " 'ACM-ICPC',\n",
       " '예선',\n",
       " '신청기간이',\n",
       " '얼마',\n",
       " '안',\n",
       " '남았습니다!',\n",
       " '2018-09-13',\n",
       " '11:36',\n",
       " '11:36',\n",
       " '문화행사',\n",
       " '취소',\n",
       " '공지',\n",
       " '2018-09-10',\n",
       " '19:17',\n",
       " '19:17',\n",
       " '취업게시판',\n",
       " '㈜비즈테크파트너스',\n",
       " '(LG',\n",
       " 'CNS자회사)',\n",
       " '신입',\n",
       " '개발직',\n",
       " '~2018...',\n",
       " '2018-10-25',\n",
       " '16:29',\n",
       " '16:29',\n",
       " '[국가보안기술연구소]',\n",
       " '정규직',\n",
       " '채용',\n",
       " '2018-10-04',\n",
       " '14:18',\n",
       " '14:18',\n",
       " '한글과컴퓨터그룹',\n",
       " '2018년',\n",
       " '하반기',\n",
       " '신입/경력',\n",
       " '공채',\n",
       " '~10.10',\n",
       " '2018-09-27',\n",
       " '13:13',\n",
       " '13:13',\n",
       " '[구인]천안',\n",
       " '충무병원',\n",
       " '전산실',\n",
       " '2018-09-18',\n",
       " '15:25',\n",
       " '15:25',\n",
       " '[정부교육]',\n",
       " 'K-Shield',\n",
       " '주니어',\n",
       " '교육생',\n",
       " '모집(정보보호)',\n",
       " '~9.5',\n",
       " '2018-09-03',\n",
       " '07:53',\n",
       " '07:53',\n",
       " 'Platum',\n",
       " '표철민',\n",
       " '대표',\n",
       " '“블록체인',\n",
       " '생태계',\n",
       " '조성위해',\n",
       " '불법만',\n",
       " '아니면...',\n",
       " '2018-10-29',\n",
       " '15:50',\n",
       " '15:50',\n",
       " '아산나눔재단,',\n",
       " '‘아산',\n",
       " '기업가정신',\n",
       " '교육',\n",
       " '포럼’',\n",
       " '개최',\n",
       " '2018-10-29',\n",
       " '09:43',\n",
       " '09:43',\n",
       " '[10월',\n",
       " '29일',\n",
       " '스타트업',\n",
       " '비즈니스',\n",
       " '동향]',\n",
       " '메쉬코리아,',\n",
       " '위드...',\n",
       " '2018-10-29',\n",
       " '09:36',\n",
       " '09:36',\n",
       " '블록체인',\n",
       " '기반',\n",
       " '기업용',\n",
       " '솔루션',\n",
       " '개발',\n",
       " '스타트업,',\n",
       " '‘블록오...',\n",
       " '2018-10-29',\n",
       " '08:37',\n",
       " '08:37',\n",
       " '[더팀스',\n",
       " '커리어피드]',\n",
       " '스타트업',\n",
       " '취업의',\n",
       " '고수가',\n",
       " '되는',\n",
       " '방법',\n",
       " '2018-10-29',\n",
       " '08:36',\n",
       " '08:36',\n",
       " '전자신문',\n",
       " '[2018',\n",
       " '국정감사]화웨이',\n",
       " '\"5G',\n",
       " '장비',\n",
       " '보안',\n",
       " '검증',\n",
       " '수용,...',\n",
       " '2018-10-29',\n",
       " '18:41',\n",
       " '18:41',\n",
       " '[이슈분석]역차별',\n",
       " '해소,',\n",
       " '글로벌',\n",
       " '동향은',\n",
       " '2018-10-29',\n",
       " '17:00',\n",
       " '17:00',\n",
       " 'SK텔레콤,',\n",
       " '중소기업과',\n",
       " \"'5G\",\n",
       " \"모세혈관'\",\n",
       " '고도화',\n",
       " '나선다',\n",
       " '2018-10-29',\n",
       " '17:00',\n",
       " '17:00',\n",
       " 'SK브로드밴드,',\n",
       " '세계',\n",
       " '3번째',\n",
       " \"'프로그래매틱'\",\n",
       " '광고',\n",
       " '도입',\n",
       " '2018-10-29',\n",
       " '17:00',\n",
       " '17:00',\n",
       " '[이슈분석]글로벌ICT기업',\n",
       " '역차별',\n",
       " '해소,',\n",
       " '5대',\n",
       " '분야',\n",
       " '...',\n",
       " '2018-10-29',\n",
       " '17:00',\n",
       " '17:00',\n",
       " 'TechCrunch',\n",
       " 'AmazonSmile',\n",
       " 'has',\n",
       " 'raised',\n",
       " '$100',\n",
       " 'million',\n",
       " 'for',\n",
       " 'charity',\n",
       " '2018-10-29',\n",
       " '23:07',\n",
       " '23:07',\n",
       " 'Atlassian',\n",
       " 'sells',\n",
       " 'Jitsi,',\n",
       " 'an',\n",
       " 'open-source',\n",
       " 'videocon...',\n",
       " '2018-10-29',\n",
       " '22:41',\n",
       " '22:41',\n",
       " 'Here',\n",
       " 'are',\n",
       " 'the',\n",
       " '20',\n",
       " 'games',\n",
       " 'shipping',\n",
       " 'with',\n",
       " 'the',\n",
       " 'PlaySt...',\n",
       " '2018-10-29',\n",
       " '22:08',\n",
       " '22:08',\n",
       " 'DJI',\n",
       " 'releases',\n",
       " 'a',\n",
       " 'modified',\n",
       " 'Mavic',\n",
       " '2',\n",
       " 'drone',\n",
       " 'aimed',\n",
       " 'at...',\n",
       " '2018-10-29',\n",
       " '22:00',\n",
       " '22:00',\n",
       " 'Blue',\n",
       " 'Apron',\n",
       " 'gets',\n",
       " 'a',\n",
       " 'much-needed',\n",
       " 'boost',\n",
       " 'with',\n",
       " 'Jet.c...',\n",
       " '2018-10-29',\n",
       " '21:57',\n",
       " '21:57',\n",
       " 'Back',\n",
       " 'to',\n",
       " 'Top',\n",
       " 'Leading',\n",
       " 'Together',\n",
       " 'for',\n",
       " 'Brighter',\n",
       " 'Future',\n",
       " 'Quick',\n",
       " 'Navigation',\n",
       " '한국기술교육대학교',\n",
       " '홈페이지',\n",
       " '한국기술교육대학교',\n",
       " 'WEBMAIL',\n",
       " '한국기술교육대학교',\n",
       " '온라인',\n",
       " '평생교육원',\n",
       " 'IT',\n",
       " '융합소프트웨어',\n",
       " '인력양성사업',\n",
       " '컴퓨터공학부',\n",
       " '교직원',\n",
       " '업무',\n",
       " '자료실',\n",
       " '컴퓨터공학부',\n",
       " '포트폴리오-->',\n",
       " 'Campus',\n",
       " 'Location',\n",
       " 'Contact',\n",
       " 'CSE',\n",
       " '충청남도',\n",
       " '천안시',\n",
       " '동남구',\n",
       " '병천면',\n",
       " '충절로',\n",
       " '1600한국기술교육대학교',\n",
       " '컴퓨터공학부',\n",
       " '학과사무실',\n",
       " 'TEL',\n",
       " '(041)',\n",
       " '560',\n",
       " '1460',\n",
       " '~',\n",
       " '1461',\n",
       " 'FAX',\n",
       " '(041)',\n",
       " '560',\n",
       " '1462',\n",
       " 'Facebook',\n",
       " 'Twitter',\n",
       " 'Google',\n",
       " 'Plus',\n",
       " 'Linkedin-->',\n",
       " '(31253)',\n",
       " '충청남도',\n",
       " '천안시',\n",
       " '동남구',\n",
       " '병천면',\n",
       " '충절로',\n",
       " '1600',\n",
       " '(가전리,',\n",
       " '한국기술교육대학교)',\n",
       " '컴퓨터공학부',\n",
       " 'Copyright',\n",
       " '©',\n",
       " '2015.',\n",
       " 'All',\n",
       " 'rights',\n",
       " 'reserved']"
      ]
     },
     "execution_count": 291,
     "metadata": {},
     "output_type": "execute_result"
    }
   ],
   "source": [
    "result"
   ]
  },
  {
   "cell_type": "code",
   "execution_count": 295,
   "metadata": {
    "slideshow": {
     "slide_type": "fragment"
    }
   },
   "outputs": [
    {
     "name": "stdout",
     "output_type": "stream",
     "text": [
      "461\n"
     ]
    }
   ],
   "source": [
    "def advancedExtractLetter(source):\n",
    "    text = ''\n",
    "    buffer = ''\n",
    "    while True:\n",
    "        source_original = source[:source.find('var')]\n",
    "        source = source[source.find(';')+1:]\n",
    "        for idx, letter in enumerate(source) :\n",
    "            if letter == 'v' and source[idx+1] == 'a' and source[idx+2] == 'r':\n",
    "                break\n",
    "            else: \n",
    "                text = text + source_original + letter\n",
    "        if(source.find(';') == -1):\n",
    "            break # 무한루프 종료 조건: '>' 문자가 더 이상 없는 경우\n",
    "    return text\n",
    "\n",
    "def extractLetter(source):\n",
    "    text = ''\n",
    "    while True:\n",
    "        source = source[source.find('>')+1:] # source 업데이트\n",
    "        for letter in source :\n",
    "            if letter == '<':\n",
    "                break\n",
    "            else: \n",
    "                text = text + letter\n",
    "        if(source.find('>') == -1):\n",
    "            break # while문 무한루프 종료 조건: '>' 문자가 더 이상 없는 경우\n",
    "    text = advancedExtractLetter(text)\n",
    "    return text\n",
    "\n",
    "def IncrementalProject():\n",
    "    result = extractLetter(source).split()\n",
    "    for item in result:\n",
    "        if item == \"-->\" or item == \"//\" or item == \"<--\":\n",
    "            result.remove(item)\n",
    "    return result\n",
    "\n",
    "result = IncrementalProject()\n",
    "# print(result)\n",
    "print(len(result))"
   ]
  },
  {
   "cell_type": "code",
   "execution_count": 296,
   "metadata": {
    "slideshow": {
     "slide_type": "slide"
    }
   },
   "outputs": [
    {
     "data": {
      "text/plain": [
       "['컴퓨터공학부',\n",
       " 'Schoolfun',\n",
       " '-',\n",
       " 'Study',\n",
       " 'and',\n",
       " 'Fun',\n",
       " '로그인',\n",
       " '로그인',\n",
       " '아이디',\n",
       " '비밀번호',\n",
       " '로그인',\n",
       " '유지',\n",
       " '브라우저를',\n",
       " '닫더라도',\n",
       " '로그인이',\n",
       " '계속',\n",
       " '유지될',\n",
       " '수',\n",
       " '있습니다.',\n",
       " '로그인',\n",
       " '유지',\n",
       " '기능을',\n",
       " '사용할',\n",
       " '경우',\n",
       " '다음',\n",
       " '접속부터는',\n",
       " '로그인할',\n",
       " '필요가',\n",
       " '없습니다.',\n",
       " '단,',\n",
       " '게임방,',\n",
       " '학교',\n",
       " '등',\n",
       " '공공장소에서',\n",
       " '이용',\n",
       " '시',\n",
       " '개인정보가',\n",
       " '유출될',\n",
       " '수',\n",
       " '있으니',\n",
       " '꼭',\n",
       " '로그아웃을',\n",
       " '해주세요.',\n",
       " '회원가입',\n",
       " 'ID/PW',\n",
       " '찾기',\n",
       " 'IT',\n",
       " '교육의',\n",
       " '글로벌',\n",
       " '메카!한국기술교육대학교',\n",
       " '컴퓨터공학부',\n",
       " 'Close',\n",
       " '소개',\n",
       " '구성원소개',\n",
       " '학사안내',\n",
       " '입학',\n",
       " '학부',\n",
       " '대학원',\n",
       " '학부광장',\n",
       " '자료실',\n",
       " '대학원',\n",
       " '공학교육인증',\n",
       " '학부서비스',\n",
       " 'Registration',\n",
       " '컴퓨터공학부',\n",
       " 'School',\n",
       " 'of',\n",
       " 'Computer',\n",
       " 'Science',\n",
       " 'and',\n",
       " 'Engineering',\n",
       " 'IT',\n",
       " '융합소프트웨어',\n",
       " '인력양성사업',\n",
       " 'CK',\n",
       " '(Creative',\n",
       " 'Korea)-I',\n",
       " '교육역량강화사업',\n",
       " '온라인',\n",
       " '컨텐츠',\n",
       " 'Online',\n",
       " 'Contents',\n",
       " 'for',\n",
       " 'Education',\n",
       " 'Capability',\n",
       " 'Empowerment',\n",
       " 'IT',\n",
       " '교육의',\n",
       " '글로벌',\n",
       " '메카',\n",
       " '한국기술교육대학교',\n",
       " '컴퓨터공학부',\n",
       " '홈페이지에',\n",
       " '오신',\n",
       " '것을환영합니다!',\n",
       " 'IT',\n",
       " '융합소프트웨어',\n",
       " '인력양성사업',\n",
       " '글로벌',\n",
       " '수준의',\n",
       " 'IT전문인력',\n",
       " '양성',\n",
       " 'IT융합분야에',\n",
       " '대한',\n",
       " '국제적인',\n",
       " '경쟁력',\n",
       " '고취',\n",
       " '바로가기',\n",
       " '교육역량강화사업',\n",
       " '컨텐츠',\n",
       " '교육역량강화사업',\n",
       " '온라인',\n",
       " '컨텐츠를',\n",
       " '소개합니다.',\n",
       " '바로가기',\n",
       " '공지사항',\n",
       " 'AR/VR분야',\n",
       " 'Capston',\n",
       " 'Design',\n",
       " '지원',\n",
       " '계획',\n",
       " '~',\n",
       " '2018.11.30.(금...',\n",
       " '2018-10-29',\n",
       " '16:30',\n",
       " '16:30',\n",
       " '[특성화]',\n",
       " '2018학년도',\n",
       " '2학기',\n",
       " '운영',\n",
       " '강좌',\n",
       " '안내',\n",
       " '2018-10-29',\n",
       " '10:56',\n",
       " '10:56',\n",
       " '[특성화]',\n",
       " '2018',\n",
       " 'IT융합',\n",
       " '아이디어',\n",
       " '경진대회',\n",
       " '안내(2학기',\n",
       " '...',\n",
       " '2018-10-25',\n",
       " '15:01',\n",
       " '15:01',\n",
       " '[특성화]',\n",
       " '2018',\n",
       " 'IT융합',\n",
       " 'AR',\n",
       " 'Co-Bot',\n",
       " 'Intensive',\n",
       " '캠프',\n",
       " '모집',\n",
       " '...',\n",
       " '2018-10-22',\n",
       " '15:30',\n",
       " '15:30',\n",
       " '[졸업작품]',\n",
       " '2018',\n",
       " '졸업작품',\n",
       " '산업체',\n",
       " '평가회',\n",
       " '결과에',\n",
       " '따른',\n",
       " '...',\n",
       " '2018-10-19',\n",
       " '14:09',\n",
       " '14:09',\n",
       " '자유게시판',\n",
       " '★문화의날',\n",
       " '행사',\n",
       " '공지★',\n",
       " '2018-10-19',\n",
       " '20:31',\n",
       " '20:31',\n",
       " '졸업작품전시회',\n",
       " '기간',\n",
       " '헤어/메이크업',\n",
       " '2018-10-07',\n",
       " '14:48',\n",
       " '14:48',\n",
       " '※모의토익비',\n",
       " '지원',\n",
       " '공지※',\n",
       " '2018-09-28',\n",
       " '09:37',\n",
       " '09:37',\n",
       " 'ACM-ICPC',\n",
       " '예선',\n",
       " '신청기간이',\n",
       " '얼마',\n",
       " '안',\n",
       " '남았습니다!',\n",
       " '2018-09-13',\n",
       " '11:36',\n",
       " '11:36',\n",
       " '문화행사',\n",
       " '취소',\n",
       " '공지',\n",
       " '2018-09-10',\n",
       " '19:17',\n",
       " '19:17',\n",
       " '취업게시판',\n",
       " '㈜비즈테크파트너스',\n",
       " '(LG',\n",
       " 'CNS자회사)',\n",
       " '신입',\n",
       " '개발직',\n",
       " '~2018...',\n",
       " '2018-10-25',\n",
       " '16:29',\n",
       " '16:29',\n",
       " '[국가보안기술연구소]',\n",
       " '정규직',\n",
       " '채용',\n",
       " '2018-10-04',\n",
       " '14:18',\n",
       " '14:18',\n",
       " '한글과컴퓨터그룹',\n",
       " '2018년',\n",
       " '하반기',\n",
       " '신입/경력',\n",
       " '공채',\n",
       " '~10.10',\n",
       " '2018-09-27',\n",
       " '13:13',\n",
       " '13:13',\n",
       " '[구인]천안',\n",
       " '충무병원',\n",
       " '전산실',\n",
       " '2018-09-18',\n",
       " '15:25',\n",
       " '15:25',\n",
       " '[정부교육]',\n",
       " 'K-Shield',\n",
       " '주니어',\n",
       " '교육생',\n",
       " '모집(정보보호)',\n",
       " '~9.5',\n",
       " '2018-09-03',\n",
       " '07:53',\n",
       " '07:53',\n",
       " 'Platum',\n",
       " '표철민',\n",
       " '대표',\n",
       " '“블록체인',\n",
       " '생태계',\n",
       " '조성위해',\n",
       " '불법만',\n",
       " '아니면...',\n",
       " '2018-10-29',\n",
       " '15:50',\n",
       " '15:50',\n",
       " '아산나눔재단,',\n",
       " '‘아산',\n",
       " '기업가정신',\n",
       " '교육',\n",
       " '포럼’',\n",
       " '개최',\n",
       " '2018-10-29',\n",
       " '09:43',\n",
       " '09:43',\n",
       " '[10월',\n",
       " '29일',\n",
       " '스타트업',\n",
       " '비즈니스',\n",
       " '동향]',\n",
       " '메쉬코리아,',\n",
       " '위드...',\n",
       " '2018-10-29',\n",
       " '09:36',\n",
       " '09:36',\n",
       " '블록체인',\n",
       " '기반',\n",
       " '기업용',\n",
       " '솔루션',\n",
       " '개발',\n",
       " '스타트업,',\n",
       " '‘블록오...',\n",
       " '2018-10-29',\n",
       " '08:37',\n",
       " '08:37',\n",
       " '[더팀스',\n",
       " '커리어피드]',\n",
       " '스타트업',\n",
       " '취업의',\n",
       " '고수가',\n",
       " '되는',\n",
       " '방법',\n",
       " '2018-10-29',\n",
       " '08:36',\n",
       " '08:36',\n",
       " '전자신문',\n",
       " '[2018',\n",
       " '국정감사]화웨이',\n",
       " '\"5G',\n",
       " '장비',\n",
       " '보안',\n",
       " '검증',\n",
       " '수용,...',\n",
       " '2018-10-29',\n",
       " '18:41',\n",
       " '18:41',\n",
       " '[이슈분석]역차별',\n",
       " '해소,',\n",
       " '글로벌',\n",
       " '동향은',\n",
       " '2018-10-29',\n",
       " '17:00',\n",
       " '17:00',\n",
       " 'SK텔레콤,',\n",
       " '중소기업과',\n",
       " \"'5G\",\n",
       " \"모세혈관'\",\n",
       " '고도화',\n",
       " '나선다',\n",
       " '2018-10-29',\n",
       " '17:00',\n",
       " '17:00',\n",
       " 'SK브로드밴드,',\n",
       " '세계',\n",
       " '3번째',\n",
       " \"'프로그래매틱'\",\n",
       " '광고',\n",
       " '도입',\n",
       " '2018-10-29',\n",
       " '17:00',\n",
       " '17:00',\n",
       " '[이슈분석]글로벌ICT기업',\n",
       " '역차별',\n",
       " '해소,',\n",
       " '5대',\n",
       " '분야',\n",
       " '...',\n",
       " '2018-10-29',\n",
       " '17:00',\n",
       " '17:00',\n",
       " 'TechCrunch',\n",
       " 'AmazonSmile',\n",
       " 'has',\n",
       " 'raised',\n",
       " '$100',\n",
       " 'million',\n",
       " 'for',\n",
       " 'charity',\n",
       " '2018-10-29',\n",
       " '23:07',\n",
       " '23:07',\n",
       " 'Atlassian',\n",
       " 'sells',\n",
       " 'Jitsi,',\n",
       " 'an',\n",
       " 'open-source',\n",
       " 'videocon...',\n",
       " '2018-10-29',\n",
       " '22:41',\n",
       " '22:41',\n",
       " 'Here',\n",
       " 'are',\n",
       " 'the',\n",
       " '20',\n",
       " 'games',\n",
       " 'shipping',\n",
       " 'with',\n",
       " 'the',\n",
       " 'PlaySt...',\n",
       " '2018-10-29',\n",
       " '22:08',\n",
       " '22:08',\n",
       " 'DJI',\n",
       " 'releases',\n",
       " 'a',\n",
       " 'modified',\n",
       " 'Mavic',\n",
       " '2',\n",
       " 'drone',\n",
       " 'aimed',\n",
       " 'at...',\n",
       " '2018-10-29',\n",
       " '22:00',\n",
       " '22:00',\n",
       " 'Blue',\n",
       " 'Apron',\n",
       " 'gets',\n",
       " 'a',\n",
       " 'much-needed',\n",
       " 'boost',\n",
       " 'with',\n",
       " 'Jet.c...',\n",
       " '2018-10-29',\n",
       " '21:57',\n",
       " '21:57',\n",
       " 'Back',\n",
       " 'to',\n",
       " 'Top',\n",
       " 'Leading',\n",
       " 'Together',\n",
       " 'for',\n",
       " 'Brighter',\n",
       " 'Future',\n",
       " 'Quick',\n",
       " 'Navigation',\n",
       " '한국기술교육대학교',\n",
       " '홈페이지',\n",
       " '한국기술교육대학교',\n",
       " 'WEBMAIL',\n",
       " '한국기술교육대학교',\n",
       " '온라인',\n",
       " '평생교육원',\n",
       " 'IT',\n",
       " '융합소프트웨어',\n",
       " '인력양성사업',\n",
       " '컴퓨터공학부',\n",
       " '교직원',\n",
       " '업무',\n",
       " '자료실',\n",
       " '컴퓨터공학부',\n",
       " '포트폴리오-->',\n",
       " 'Campus',\n",
       " 'Location',\n",
       " 'Contact',\n",
       " 'CSE',\n",
       " '충청남도',\n",
       " '천안시',\n",
       " '동남구',\n",
       " '병천면',\n",
       " '충절로',\n",
       " '1600한국기술교육대학교',\n",
       " '컴퓨터공학부',\n",
       " '학과사무실',\n",
       " 'TEL',\n",
       " '(041)',\n",
       " '560',\n",
       " '1460',\n",
       " '~',\n",
       " '1461',\n",
       " 'FAX',\n",
       " '(041)',\n",
       " '560',\n",
       " '1462',\n",
       " 'Facebook',\n",
       " 'Twitter',\n",
       " 'Google',\n",
       " 'Plus',\n",
       " 'Linkedin-->',\n",
       " '(31253)',\n",
       " '충청남도',\n",
       " '천안시',\n",
       " '동남구',\n",
       " '병천면',\n",
       " '충절로',\n",
       " '1600',\n",
       " '(가전리,',\n",
       " '한국기술교육대학교)',\n",
       " '컴퓨터공학부',\n",
       " 'Copyright',\n",
       " '©',\n",
       " '2015.',\n",
       " 'All',\n",
       " 'rights',\n",
       " 'reserved']"
      ]
     },
     "execution_count": 296,
     "metadata": {},
     "output_type": "execute_result"
    }
   ],
   "source": [
    "result"
   ]
  },
  {
   "cell_type": "code",
   "execution_count": null,
   "metadata": {
    "slideshow": {
     "slide_type": "slide"
    }
   },
   "outputs": [],
   "source": []
  },
  {
   "cell_type": "code",
   "execution_count": 26,
   "metadata": {
    "slideshow": {
     "slide_type": "slide"
    }
   },
   "outputs": [
    {
     "name": "stdout",
     "output_type": "stream",
     "text": [
      "[INFO] lista :[1, 2, 2, 3, 3, 3, 4, 4, 4, 4]\n",
      "[INFO] listb :[4, 2, 1, 1, 4, 0, 0, 1, 1, 1]\n"
     ]
    }
   ],
   "source": []
  }
 ],
 "metadata": {
  "celltoolbar": "Slideshow",
  "kernelspec": {
   "display_name": "Python 3",
   "language": "python",
   "name": "python3"
  },
  "language_info": {
   "codemirror_mode": {
    "name": "ipython",
    "version": 3
   },
   "file_extension": ".py",
   "mimetype": "text/x-python",
   "name": "python",
   "nbconvert_exporter": "python",
   "pygments_lexer": "ipython3",
   "version": "3.6.5"
  }
 },
 "nbformat": 4,
 "nbformat_minor": 2
}
