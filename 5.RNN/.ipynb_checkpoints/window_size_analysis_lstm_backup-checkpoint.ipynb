{
 "cells": [
  {
   "cell_type": "code",
   "execution_count": 2,
   "metadata": {},
   "outputs": [
    {
     "name": "stderr",
     "output_type": "stream",
     "text": [
      "/anaconda3/lib/python3.6/importlib/_bootstrap.py:219: RuntimeWarning: compiletime version 3.5 of module 'tensorflow.python.framework.fast_tensor_util' does not match runtime version 3.6\n",
      "  return f(*args, **kwds)\n",
      "/anaconda3/lib/python3.6/site-packages/h5py/__init__.py:36: FutureWarning: Conversion of the second argument of issubdtype from `float` to `np.floating` is deprecated. In future, it will be treated as `np.float64 == np.dtype(float).type`.\n",
      "  from ._conv import register_converters as _register_converters\n",
      "Using TensorFlow backend.\n"
     ]
    },
    {
     "name": "stdout",
     "output_type": "stream",
     "text": [
      "Using Keras version: 2.2.2 backend: tensorflow\n"
     ]
    }
   ],
   "source": [
    "import userFunction as link"
   ]
  },
  {
   "cell_type": "code",
   "execution_count": null,
   "metadata": {},
   "outputs": [
    {
     "name": "stdout",
     "output_type": "stream",
     "text": [
      "LSTM_BTC_10_10_1_0.1_result.pickle FILE ALREADY EXIST.\n",
      "[INFO] X_train.shape : (900, 8, 10, 4)\n",
      "[INFO] y_train.shape : (900, 2)\n",
      "[INFO] X_test.shape : (100, 8, 10, 4)\n",
      "[INFO] y_test.shape : (100, 2)\n",
      "\n",
      "[INFO] X_train_2.shape: (900, 10, 8, 4)\n",
      "[INFO] X_test_2.shape: (100, 10, 8, 4)\n",
      "\n",
      "[INFO] X_train_3.shape: (900, 10, 32)\n",
      "[INFO] X_test_3.shape: (100, 10, 32)\n",
      "\n",
      "[INFO] X_train_reshape.shape: (900, 320)\n",
      "[INFO] X_test_reshape.shape: (100, 320)\n",
      "\n",
      "\n",
      "\n",
      "----------------------\n",
      "<LSTM>\n",
      "----------------------\n",
      "__ETH__time unit: 10  |  window_size :10  |  gap :1  |  margin_rate :0.1  started.\n",
      "Fitting 2 folds for each of 27 candidates, totalling 54 fits\n",
      "Train on 450 samples, validate on 100 samples\n",
      "Epoch 1/1\n",
      "450/450 [==============================] - 1s 3ms/step - loss: 6.1611 - acc: 0.3756 - f1_score: 0.0000e+00 - val_loss: 5.9637 - val_acc: 0.3100 - val_f1_score: 0.0000e+00\n",
      "450/450 [==============================] - 0s 307us/step\n",
      "450/450 [==============================] - 0s 288us/step\n",
      "Train on 450 samples, validate on 100 samples\n",
      "Epoch 1/1\n",
      "450/450 [==============================] - 1s 3ms/step - loss: 0.8984 - acc: 0.5378 - f1_score: 0.0000e+00 - val_loss: 0.6802 - val_acc: 0.6100 - val_f1_score: 0.0000e+00\n",
      "450/450 [==============================] - 0s 237us/step\n",
      "450/450 [==============================] - 0s 266us/step\n",
      "Train on 450 samples, validate on 100 samples\n",
      "Epoch 1/1\n",
      "450/450 [==============================] - 2s 4ms/step - loss: 0.7456 - acc: 0.5867 - f1_score: 0.0000e+00 - val_loss: 0.6652 - val_acc: 0.7100 - val_f1_score: 0.0000e+00\n",
      "450/450 [==============================] - 0s 305us/step\n",
      "450/450 [==============================] - 0s 276us/step\n",
      "Train on 450 samples, validate on 100 samples\n",
      "Epoch 1/1\n",
      "450/450 [==============================] - 2s 4ms/step - loss: 0.8655 - acc: 0.5311 - f1_score: 0.0202 - val_loss: 0.6627 - val_acc: 0.6800 - val_f1_score: 0.0336\n",
      "450/450 [==============================] - 0s 331us/step\n",
      "450/450 [==============================] - 0s 423us/step\n",
      "Train on 450 samples, validate on 100 samples\n",
      "Epoch 1/1\n",
      "450/450 [==============================] - 1s 3ms/step - loss: 0.6750 - acc: 0.3867 - f1_score: 0.0000e+00 - val_loss: 0.6238 - val_acc: 0.3100 - val_f1_score: 0.0000e+00\n",
      "450/450 [==============================] - 0s 256us/step\n",
      "450/450 [==============================] - 0s 217us/step\n",
      "Train on 450 samples, validate on 100 samples\n",
      "Epoch 1/1\n",
      "450/450 [==============================] - 1s 3ms/step - loss: 6.2773 - acc: 0.3911 - f1_score: 0.0121 - val_loss: 4.9966 - val_acc: 0.3100 - val_f1_score: 0.0000e+00\n",
      "450/450 [==============================] - 0s 267us/step\n",
      "450/450 [==============================] - 0s 321us/step\n",
      "Train on 450 samples, validate on 100 samples\n",
      "Epoch 1/1\n",
      "450/450 [==============================] - 1s 3ms/step - loss: 6.5189 - acc: 0.6244 - f1_score: 0.0000e+00 - val_loss: 4.9966 - val_acc: 0.6900 - val_f1_score: 0.0000e+00\n",
      "450/450 [==============================] - 0s 226us/step\n",
      "450/450 [==============================] - 0s 218us/step\n"
     ]
    }
   ],
   "source": [
    "model_info = {}\n",
    "model_info[\"window_size_standard\"] = {\"MODEL_list\":[\"LSTM\"],\n",
    "                                      \"time_unit\":[10], \n",
    "                                      \"window_size\":[10, 25, 50, 75, 100],\n",
    "                                      \"gap\":[1], \n",
    "                                      \"margin_rate\":[0.1],\n",
    "                                      \"lr\":[0.01, 0.001]}\n",
    "\n",
    "Machine = \"window_size_standard\"\n",
    "# If Machine is \"test\" then, _TEST argument must be True\n",
    "test = True\n",
    "_GPU = False\n",
    "n_jobs = -1\n",
    "epochs = 1\n",
    "cv = 2 # at least 2\n",
    "dataset_scale = 1000\n",
    "evaluate_result_dict = {}\n",
    "coin_list = [\"BTC\", \"ETH\", \"XRP\", \"BCH\", \"LTC\", \"DASH\", \"ETC\"]\n",
    "\n",
    "for model in model_info[Machine][\"MODEL_list\"]:\n",
    "    for coin in coin_list:\n",
    "        for idx_time_unit in model_info[Machine][\"time_unit\"]:\n",
    "            for idx_window_size in model_info[Machine][\"window_size\"]:\n",
    "                for idx_gap in model_info[Machine][\"gap\"]:\n",
    "                    for idx_margin_rate in model_info[Machine][\"margin_rate\"]:\n",
    "                        key_pickleFileName = model + '_' + coin + '_' + str(idx_time_unit) + '_' + str(idx_window_size) + '_' + str(idx_gap) + '_' + str(idx_margin_rate)\n",
    "#                         print(key_pickleFileName)\n",
    "                        try: \n",
    "                            evaluate_result_dict[key_pickleFileName] = start(machine=Machine, \n",
    "                                                                          _GPU=_GPU, \n",
    "                                                                          n_jobs=1,\n",
    "                                                                          MODEL = model, \n",
    "                                                                          idx_time_unit=idx_time_unit, \n",
    "                                                                          idx_window_size=idx_window_size, \n",
    "                                                                          idx_gap=idx_gap, \n",
    "                                                                          idx_margin_rate=idx_margin_rate,\n",
    "                                                                          cv=cv,\n",
    "                                                                          dataset_scale=dataset_scale,\n",
    "                                                                          epochs=epochs)\n",
    "\n",
    "                            print(\"{:.2f}\".format(evaluate_result_dict[key_pickleFileName]['test_score']))\n",
    "                            \n",
    "                        except KeyError:\n",
    "                            print(\"[INFO] Appropriate value of {:4s} is not exist.\".format(coin))\n",
    "                            continue"
   ]
  },
  {
   "cell_type": "code",
   "execution_count": null,
   "metadata": {},
   "outputs": [],
   "source": []
  },
  {
   "cell_type": "code",
   "execution_count": null,
   "metadata": {},
   "outputs": [],
   "source": [
    "from sklearn.metrics import classification_report\n",
    "\n",
    "y_pred = model.predict(x_test)\n",
    "print(classification_report(y_true, y_pred))"
   ]
  },
  {
   "cell_type": "code",
   "execution_count": null,
   "metadata": {},
   "outputs": [],
   "source": [
    "f1_score = [0.1, 0.2, 0.3, 0.4, 0.5, 0.6, 0.7, 0.8, 0.9] # 9개\n",
    "first_legend_label = 'xgboost'\n",
    "second_legend_label = 'lstm'\n",
    "x_label = 'Cryptocurrency'\n",
    "y_label = 'f1-score'\n",
    "filename = '_clustering_and_diameter'\n",
    "\n",
    "graph(f1_score, \n",
    "      first_legend_label, \n",
    "      second_legend_label,\n",
    "      x_label,\n",
    "      y_label,\n",
    "      filename)"
   ]
  }
 ],
 "metadata": {
  "kernelspec": {
   "display_name": "Python 3",
   "language": "python",
   "name": "python3"
  },
  "language_info": {
   "codemirror_mode": {
    "name": "ipython",
    "version": 3
   },
   "file_extension": ".py",
   "mimetype": "text/x-python",
   "name": "python",
   "nbconvert_exporter": "python",
   "pygments_lexer": "ipython3",
   "version": "3.6.5"
  }
 },
 "nbformat": 4,
 "nbformat_minor": 2
}
