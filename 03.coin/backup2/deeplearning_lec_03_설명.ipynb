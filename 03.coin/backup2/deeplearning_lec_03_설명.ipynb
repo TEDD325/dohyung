{
 "cells": [
  {
   "cell_type": "code",
   "execution_count": 1,
   "metadata": {
    "collapsed": true
   },
   "outputs": [],
   "source": [
    "import numpy as np\n",
    "import matplotlib.pylab as plt"
   ]
  },
  {
   "cell_type": "markdown",
   "metadata": {},
   "source": [
    "# 퍼셉트론 복습\n",
    "- 퍼셉트론의 한계\n",
    "  - 사람이 직접 가중치를 찾아야 함\n",
    "- 신경망\n",
    "  - 사람이 아닌 컴퓨터가 가중치를 찾아낼 수 있음\n",
    "  - 컴퓨터는 주어진 데이터로부터 학습하여 가중치 값을 찾아냄"
   ]
  },
  {
   "cell_type": "markdown",
   "metadata": {},
   "source": [
    "# 활성화 함수\n",
    "\n",
    "  <b>activation function </b>\n",
    "  \n",
    "  - 뉴런의 전기신호의 임계값을 결정"
   ]
  },
  {
   "cell_type": "markdown",
   "metadata": {},
   "source": [
    "### 활성화 함수 1: 계단 함수"
   ]
  },
  {
   "cell_type": "code",
   "execution_count": 2,
   "metadata": {},
   "outputs": [
    {
     "name": "stdout",
     "output_type": "stream",
     "text": [
      "y> [0 0 0 0 0 0 0 0 0 0 0 0 0 0 0 0 0 0 0 0 0 0 0 0 0 0 0 0 0 0 0 0 0 0 0 0 0\n",
      " 0 0 0 0 0 0 0 0 0 0 0 0 0 0 1 1 1 1 1 1 1 1 1 1 1 1 1 1 1 1 1 1 1 1 1 1 1\n",
      " 1 1 1 1 1 1 1 1 1 1 1 1 1 1 1 1 1 1 1 1 1 1 1 1 1 1]\n",
      "\n",
      "step function\n"
     ]
    },
    {
     "data": {
      "image/png": "[encoded data removed]",
      "text/plain": [
       "<matplotlib.figure.Figure at 0x10a712828>"
      ]
     },
     "metadata": {},
     "output_type": "display_data"
    }
   ],
   "source": [
    "# 활성화 함수 1: 계단 함수\n",
    "def step_function_3(x):\n",
    "    return np.array(x>0, dtype=np.int) #\n",
    "x = np.arange(-5.0, 5.0, 0.1)\n",
    "y = step_function_3(x)\n",
    "print(\"y>\", y)\n",
    "print()\n",
    "print(\"step function\")\n",
    "plt.plot(x, y)\n",
    "plt.ylim(-0.1, 1.1)\n",
    "plt.show()"
   ]
  },
  {
   "cell_type": "markdown",
   "metadata": {},
   "source": [
    "- 0을 넘지 않는 모든 값들은 0, 0을 넘는 모든 값들은 1\n",
    "- 이산적(discrete)"
   ]
  },
  {
   "cell_type": "markdown",
   "metadata": {},
   "source": [
    "### 활성화 함수 2: 시그모이드(Sigmoid) 함수"
   ]
  },
  {
   "cell_type": "code",
   "execution_count": 3,
   "metadata": {},
   "outputs": [
    {
     "name": "stdout",
     "output_type": "stream",
     "text": [
      "y> [0.00669285 0.00739154 0.00816257 0.0090133  0.0099518  0.01098694\n",
      " 0.01212843 0.01338692 0.01477403 0.0163025  0.01798621 0.01984031\n",
      " 0.02188127 0.02412702 0.02659699 0.02931223 0.03229546 0.03557119\n",
      " 0.03916572 0.04310725 0.04742587 0.05215356 0.05732418 0.06297336\n",
      " 0.06913842 0.07585818 0.0831727  0.09112296 0.09975049 0.10909682\n",
      " 0.11920292 0.13010847 0.14185106 0.15446527 0.16798161 0.18242552\n",
      " 0.19781611 0.21416502 0.23147522 0.24973989 0.26894142 0.2890505\n",
      " 0.31002552 0.33181223 0.35434369 0.37754067 0.40131234 0.42555748\n",
      " 0.450166   0.47502081 0.5        0.52497919 0.549834   0.57444252\n",
      " 0.59868766 0.62245933 0.64565631 0.66818777 0.68997448 0.7109495\n",
      " 0.73105858 0.75026011 0.76852478 0.78583498 0.80218389 0.81757448\n",
      " 0.83201839 0.84553473 0.85814894 0.86989153 0.88079708 0.89090318\n",
      " 0.90024951 0.90887704 0.9168273  0.92414182 0.93086158 0.93702664\n",
      " 0.94267582 0.94784644 0.95257413 0.95689275 0.96083428 0.96442881\n",
      " 0.96770454 0.97068777 0.97340301 0.97587298 0.97811873 0.98015969\n",
      " 0.98201379 0.9836975  0.98522597 0.98661308 0.98787157 0.98901306\n",
      " 0.9900482  0.9909867  0.99183743 0.99260846]\n",
      "\n",
      "sigmoid function\n"
     ]
    },
    {
     "data": {
      "image/png": "[encoded data removed]",
      "text/plain": [
       "<matplotlib.figure.Figure at 0x10a712208>"
      ]
     },
     "metadata": {},
     "output_type": "display_data"
    }
   ],
   "source": [
    "# 활성화 함수 2: 시그모이드(Sigmoid) 함수\n",
    "def sigmoid(x):\n",
    "    return 1/(1+np.exp(-x)) #\n",
    "\n",
    "x = np.arange(-5.0, 5.0, 0.1)\n",
    "y = sigmoid(x)\n",
    "print(\"y>\", y)\n",
    "print()\n",
    "print(\"sigmoid function\")\n",
    "plt.plot(x, y)\n",
    "plt.ylim(-0.1, 1.1)\n",
    "plt.show()"
   ]
  },
  {
   "cell_type": "markdown",
   "metadata": {},
   "source": [
    "- 0과 1 사이의 값을 가짐\n",
    "- 극단의 값으로 갈수록 값의 편차가 크지 않음\n",
    "  - 매우 큰 값은 1로 수렴하고 매우 작은 값은 0으로 수렴\n",
    "  \n",
    "  \n",
    "- 연속적(continuous)"
   ]
  },
  {
   "cell_type": "markdown",
   "metadata": {},
   "source": [
    "### 활성화 함수 3: ReLU(Rectified Linear Unit) 함수"
   ]
  },
  {
   "cell_type": "code",
   "execution_count": 4,
   "metadata": {},
   "outputs": [
    {
     "name": "stdout",
     "output_type": "stream",
     "text": [
      "y> [0.  0.  0.  0.  0.  0.  0.  0.  0.  0.  0.  0.  0.  0.  0.  0.  0.  0.\n",
      " 0.  0.  0.  0.  0.  0.  0.  0.  0.  0.  0.  0.  0.  0.  0.  0.  0.  0.\n",
      " 0.  0.  0.  0.  0.  0.  0.  0.  0.  0.  0.  0.  0.  0.  0.  0.1 0.2 0.3\n",
      " 0.4 0.5 0.6 0.7 0.8 0.9 1.  1.1 1.2 1.3 1.4 1.5 1.6 1.7 1.8 1.9 2.  2.1\n",
      " 2.2 2.3 2.4 2.5 2.6 2.7 2.8 2.9 3.  3.1 3.2 3.3 3.4 3.5 3.6 3.7 3.8 3.9\n",
      " 4.  4.1 4.2 4.3 4.4 4.5 4.6 4.7 4.8 4.9]\n",
      "\n",
      "ReLU function\n"
     ]
    },
    {
     "data": {
      "image/png": "[encoded data removed]",
      "text/plain": [
       "<matplotlib.figure.Figure at 0x108e90f28>"
      ]
     },
     "metadata": {},
     "output_type": "display_data"
    }
   ],
   "source": [
    "# 활성화 함수 3: ReLU(Rectified Linear Unit) 함수\n",
    "def relu(x):\n",
    "    return np.maximum(0, x) #\n",
    "\n",
    "x = np.arange(-5.0, 5.0, 0.1)\n",
    "y = relu(x)\n",
    "print(\"y>\", y)\n",
    "print()\n",
    "print(\"ReLU function\")\n",
    "plt.plot(x, y)\n",
    "plt.ylim(-0.1, 1.1)\n",
    "plt.show()"
   ]
  },
  {
   "cell_type": "markdown",
   "metadata": {},
   "source": [
    "- 0이 넘는 값은 그 입력 그대로 출력, 0을 넘지 못하는 값은 0을 출력\n",
    "- 다시 말해 모든 양수 값은 그냥 통과, 모든 음수 값은 0으로\n",
    "- Rectified: 정류된\n",
    "  - 정류 <-> 교류\n",
    "  - 한 방향으로만 흐르는 전류를 만듦\n",
    "  - 0 이하의 입력을 차단하여 아무 값도 출력하지 않게 함"
   ]
  },
  {
   "cell_type": "markdown",
   "metadata": {},
   "source": [
    "### 활성화 함수 4: 소프트맥스(Softmax) 함수"
   ]
  },
  {
   "cell_type": "code",
   "execution_count": 5,
   "metadata": {},
   "outputs": [
    {
     "name": "stdout",
     "output_type": "stream",
     "text": [
      "y> [0.09003057 0.24472847 0.66524096]\n",
      "\n",
      "softmax function\n"
     ]
    },
    {
     "data": {
      "image/png": "[encoded data removed]",
      "text/plain": [
       "<matplotlib.figure.Figure at 0x10a8d95f8>"
      ]
     },
     "metadata": {},
     "output_type": "display_data"
    }
   ],
   "source": [
    "# 활성화 함수 5: 소프트맥스(Softmax) 함수\n",
    "def softmax(x):\n",
    "    #return (x)/np.sum(np.exp(x))\n",
    "    \n",
    "    e_x = np.exp(x - np.max(x)) \n",
    "    # 지수값의 기하급수적인 증가로 인한 오버플로우 문제(컴퓨터가 표현할 수 있는 값의 범위의 한계를 넘는 것)를 막기 위해서 \n",
    "    # 입력값 각각을 가장 큰 값으로 빼어 스케일링 해준다.\n",
    "    return e_x / e_x.sum()\n",
    "\n",
    "x = np.arange(0.0, 3.0, 1)\n",
    "y = softmax(x)\n",
    "print(\"y>\", y)\n",
    "print()\n",
    "print(\"softmax function\")\n",
    "# plt.plot(x, y)\n",
    "# plt.ylim(-0.1, 1.1)\n",
    "plt.pie(y, labels=y, shadow=True, startangle=90)\n",
    "plt.show()"
   ]
  },
  {
   "cell_type": "markdown",
   "metadata": {},
   "source": [
    "- 활성화 함수\n",
    "  1. 계단 함수\n",
    "     - 퍼셉트론에서 주로 쓰임\n",
    "     - 계단형\n",
    "  2. 시그모이드(Sigmoid) 함수\n",
    "     - 딥 뉴럴 네트워크의 hidden layer에서 주로 쓰임\n",
    "     - s자 형\n",
    "     - p. 68\n",
    "  3. ReLU(Rectified Linear Unit) 함수\n",
    "     - 딥 뉴럴 네트워크의 hidden layer에서 주로 쓰이고, 가장 많이 쓰임\n",
    "     - p.76\n",
    "  4. 소프트맥스(Softmax) 함수\n",
    "     - 다중분류에서 쓰이며, 출력계층 직전에 쓰임.\n",
    "     - 소프트맥스 함수 출력의 총합은 항상 1 --> 확률로 해석 가능\n",
    "     - p.91\n",
    "  \n",
    "  \n",
    "    - 출력층의 활성화 함수는 풀고자 하는 문제의 성질에 맞게 정한다. \n",
    "    - 예를 들면, 이진분류 문제에는 시그모이드 함수를 쓰고, 다중분류 문제에는 소프트맥스 함수를 사용하는 식이다.\n",
    "    - 모두 비선형함수다.\n",
    "      - why? p.75 참고"
   ]
  },
  {
   "cell_type": "markdown",
   "metadata": {},
   "source": [
    "# numpy"
   ]
  },
  {
   "cell_type": "markdown",
   "metadata": {},
   "source": [
    "### 행렬 생성"
   ]
  },
  {
   "cell_type": "code",
   "execution_count": 6,
   "metadata": {},
   "outputs": [
    {
     "name": "stdout",
     "output_type": "stream",
     "text": [
      "A\n",
      "[1 2 3 4]\n",
      "np.ndim(A):  1\n",
      "A.shape:  (4,)\n",
      "\n",
      "\n",
      "B> \n",
      "[[1 2]\n",
      " [3 4]\n",
      " [5 6]]\n",
      "np.ndim(B):  2\n",
      "B.shape:  (3, 2)\n"
     ]
    }
   ],
   "source": [
    "A = np.array([1,2,3,4])\n",
    "print(\"A\")\n",
    "print(A)\n",
    "# 배열 A의 차원\n",
    "print(\"np.ndim(A): \", np.ndim(A)) # \n",
    "# A의 shape\n",
    "print(\"A.shape: \", A.shape) #\n",
    "print()\n",
    "print()\n",
    "# 2차원 배열 B 생성\n",
    "B = np.array([[1,2], [3,4], [5,6]]) #\n",
    "print(\"B> \")\n",
    "print(B)\n",
    "# B의 차원\n",
    "print(\"np.ndim(B): \", np.ndim(B))\n",
    "# (3, 2) B의 shape\n",
    "print(\"B.shape: \", B.shape)"
   ]
  },
  {
   "cell_type": "code",
   "execution_count": 7,
   "metadata": {},
   "outputs": [
    {
     "name": "stdout",
     "output_type": "stream",
     "text": [
      "[[1 2]\n",
      " [3 4]]\n",
      "A.shape:  (2, 2)\n",
      "\n",
      "[[5 6]\n",
      " [7 8]]\n",
      "B.shape:  (2, 2)\n",
      "\n",
      "np.dot(A, B)> \n",
      "[[19 22]\n",
      " [43 50]]\n"
     ]
    }
   ],
   "source": [
    "# (2, 2) 행렬 A 생성\n",
    "A = np.array([[1,2], [3,4]]) #\n",
    "print(A)\n",
    "print(\"A.shape: \", A.shape)\n",
    "print()\n",
    "\n",
    "# (2, 2) 행렬 B 생성\n",
    "B = np.array([[5,6],[7,8]]) # \n",
    "print(B)\n",
    "print(\"B.shape: \", B.shape)\n",
    "print()\n",
    "\n",
    "# 내적\n",
    "print(\"np.dot(A, B)> \") #\n",
    "print(np.dot(A, B))"
   ]
  },
  {
   "cell_type": "markdown",
   "metadata": {},
   "source": [
    "### 행렬의 내적"
   ]
  },
  {
   "cell_type": "code",
   "execution_count": 8,
   "metadata": {},
   "outputs": [
    {
     "name": "stdout",
     "output_type": "stream",
     "text": [
      "A>\n",
      "[[1 2 3]\n",
      " [4 5 6]]\n",
      "A.shape:  (2, 3)\n",
      "\n",
      "B>\n",
      "[[1 2]\n",
      " [3 4]\n",
      " [5 6]]\n",
      "B.shape:  (3, 2)\n",
      "\n",
      "np.dot(A, B)> \n",
      "[[22 28]\n",
      " [49 64]]\n",
      "\n",
      "-------------\n",
      "A>\n",
      "[[1 2 3]\n",
      " [4 5 6]]\n",
      "A.shape:  (2, 3)\n",
      "\n",
      "[[1 2]\n",
      " [3 4]]\n",
      "C.shape:  (2, 2)\n"
     ]
    },
    {
     "ename": "ValueError",
     "evalue": "shapes (2,3) and (2,2) not aligned: 3 (dim 1) != 2 (dim 0)",
     "output_type": "error",
     "traceback": [
      "\u001b[0;31m---------------------------------------------------------------------------\u001b[0m",
      "\u001b[0;31mValueError\u001b[0m                                Traceback (most recent call last)",
      "\u001b[0;32m<ipython-input-8-b9c2a0c2604a>\u001b[0m in \u001b[0;36m<module>\u001b[0;34m()\u001b[0m\n\u001b[1;32m     29\u001b[0m \u001b[0;34m\u001b[0m\u001b[0m\n\u001b[1;32m     30\u001b[0m \u001b[0;31m# 행렬 A와 행렬 C 내적\u001b[0m\u001b[0;34m\u001b[0m\u001b[0;34m\u001b[0m\u001b[0m\n\u001b[0;32m---> 31\u001b[0;31m \u001b[0mnp\u001b[0m\u001b[0;34m.\u001b[0m\u001b[0mdot\u001b[0m\u001b[0;34m(\u001b[0m\u001b[0mA\u001b[0m\u001b[0;34m,\u001b[0m \u001b[0mC\u001b[0m\u001b[0;34m)\u001b[0m \u001b[0;31m#\u001b[0m\u001b[0;34m\u001b[0m\u001b[0m\n\u001b[0m",
      "\u001b[0;31mValueError\u001b[0m: shapes (2,3) and (2,2) not aligned: 3 (dim 1) != 2 (dim 0)"
     ]
    }
   ],
   "source": [
    "# (2, 3) 행렬 A 생성\n",
    "A = np.array([[1,2,3], [4,5,6]]) #\n",
    "print(\"A>\")\n",
    "print(A) #\n",
    "print(\"A.shape: \", A.shape)\n",
    "print()\n",
    "\n",
    "# (3, 2) 행렬 B 생성\n",
    "B = np.array([[1,2], [3,4], [5,6]]) #\n",
    "print(\"B>\")\n",
    "print(B) #\n",
    "print(\"B.shape: \", B.shape)\n",
    "print()\n",
    "\n",
    "# 내적\n",
    "print(\"np.dot(A, B)> \")\n",
    "print(np.dot(A, B)) #\n",
    "print()\n",
    "print(\"-------------\")\n",
    "print(\"A>\")\n",
    "print(A) #\n",
    "print(\"A.shape: \", A.shape)\n",
    "print()\n",
    "\n",
    "# (2, 2) 행렬 C 생성\n",
    "C = np.array([[1,2],[3,4]]) #\n",
    "print(C)\n",
    "print(\"C.shape: \", C.shape)\n",
    "\n",
    "# 행렬 A와 행렬 C 내적\n",
    "np.dot(A, C) #"
   ]
  },
  {
   "cell_type": "markdown",
   "metadata": {},
   "source": [
    "- 내적에서 한 가지 더 주의할 점은 <code>np.dot(A, B)</code>와 <code>np.dot(B, A)</code>가 같지 않다는 점이다."
   ]
  },
  {
   "cell_type": "markdown",
   "metadata": {},
   "source": [
    "# 신경망"
   ]
  },
  {
   "cell_type": "markdown",
   "metadata": {},
   "source": [
    "<img src=\"https://ml4a.github.io/images/neuron-anatomy.jpg\">\n",
    "<img src=\"https://ml4a.github.io/images/neuron-simple.jpg\">\n",
    "<img src=\"https://ml4a.github.io/images/figures/neuron.png\"></img>\n",
    "- 생물학에서, 뉴런은 전기적인 신호를 전달받고 전달하는 세포다.\n",
    "- 신호가 전달되려면 일정 기준(임계값, threshold) 이상의 전기 신호가 존재해야 한다."
   ]
  },
  {
   "cell_type": "markdown",
   "metadata": {},
   "source": [
    "### 간단한 신경망 구현\n",
    "<img src=\"https://4.bp.blogspot.com/-HQR52UuM4bo/W0TpMdhvXUI/AAAAAAAAA4Q/_3W6BS3riBEzCOK4F5Te2DhEEgiEVMkWgCLcBGAs/s320/IMG_0306.JPG\"></img>"
   ]
  },
  {
   "cell_type": "markdown",
   "metadata": {},
   "source": [
    "- 내적 연산을 통해서 간단한 신경망 구축 가능\n",
    "- 신경망은 인간의 입력을 <code>X</code>로, 입력에 대한 가중치를 <code>W</code>로, <code>X</code>와 <code>W</code>의 곱의 합(곧 내적을 의미함)의 결과를 <code>Y</code>로 나타낸다.\n",
    "- 뉴런 여러 개가 모여 층 한 개를 이루고, 층 여러 개가 겹겹이 쌓여 네트워크를 이룬다.\n",
    "  - 층을 여러 개로 쌓을수록 풀려는 문제(또는 대상)에 대한 추상화(또는 모델링, 표현)수준이 높아진다고 함\n",
    "\n",
    "\n",
    "- 신경망의 수학적 모델> <code>A = XW + B</code>\n",
    "    - <code>X</code>: 입력, feature(주어짐. 인간이 모델에 제시하는 값.)\n",
    "         - 월급, 나이, 성별, 거주지역\n",
    "    - <code>W</code>: 가중치(Weight). 구해야 하는 값<br>\n",
    "         어떤 feature에 더 큰 가중치를 둘 것인지 사람이 아닌 신경망이 계산을 통해 Weight들을 찾아낸다. 이에 따라 가중치 값에 따라 feature별로 영향력이 달라진다.\n",
    "    - <code>B</code>: 편향, 편견(Bias). A값에 영향을 준다. 즉 값이 쉽게 바뀌느냐 마느냐를 결정한다.\n",
    "    - <code>A</code>: 가중치를 곱한 것들의 합(<b>뉴런의 활성화를 결정</b>하는 값)\n",
    "         - \"대출 가능/불가능\"\n",
    "\n",
    "\n",
    "- 더 일반적인 표현> <code>f(X) = b + sum(Wi*Xi)</code>\n",
    "\n",
    "\n",
    "- 신경망 계산을 사람이 직접 일일이 하지 않고, numpy를 이용하여 행렬의 내적 계산으로 한 번에 계산 가능하다는 장점이 있다."
   ]
  },
  {
   "cell_type": "code",
   "execution_count": 9,
   "metadata": {},
   "outputs": [
    {
     "name": "stdout",
     "output_type": "stream",
     "text": [
      "X>  [1 2]\n",
      "\n",
      "W> \n",
      "[[1 3 5]\n",
      " [2 4 6]]\n",
      "\n",
      "Y>  [ 5 11 17]\n"
     ]
    }
   ],
   "source": [
    "# 입력이 (2,)인 행렬 X 생성\n",
    "X = np.array([1,2]) #\n",
    "X\n",
    "print(\"X> \", X)\n",
    "print()\n",
    "# 가중치가 (2, 3)인 행렬 W 생성\n",
    "W = np.array([[1,3,5],[2,4,6]]) #\n",
    "print(\"W> \")\n",
    "print(W)\n",
    "print()\n",
    "# X와 W의 내적(요소 별 곱의 합)\n",
    "Y = np.dot(X, W) #\n",
    "print(\"Y> \", Y)"
   ]
  },
  {
   "cell_type": "markdown",
   "metadata": {},
   "source": [
    "### 3층 신경망 구현"
   ]
  },
  {
   "cell_type": "markdown",
   "metadata": {},
   "source": [
    "<img src=\"\"></img>"
   ]
  },
  {
   "cell_type": "code",
   "execution_count": 10,
   "metadata": {},
   "outputs": [
    {
     "name": "stdout",
     "output_type": "stream",
     "text": [
      "X.shape:  (2,)\n",
      "W1.shape:  (2, 3)\n",
      "B1.shape:  (3,)\n",
      "A1>  [0.3 0.7 1.1]\n",
      "Z1>  [0.57444252 0.66818777 0.75026011]\n"
     ]
    }
   ],
   "source": [
    "# 입력층에서 첫번째 Hidden Layer로 전달되는 가중치의 합(A2)과 활성화 함수를 거친 값(Z2)\n",
    "'''\n",
    "shape이 (2,)\n",
    "shape이 (2, 3)\n",
    "shpae이 (3,)인 행렬 X, W1, B1 생성\n",
    "'''\n",
    "X = np.array([1.0, 0.5]) #\n",
    "W1 = np.array([[0.1, 0.3, 0.5], [0.2, 0.4, 0.6]]) #\n",
    "B1 = np.array([0.1, 0.2, 0.3]) #\n",
    "\n",
    "print(\"X.shape: \", X.shape)\n",
    "print(\"W1.shape: \", W1.shape)\n",
    "print(\"B1.shape: \", B1.shape)\n",
    "\n",
    "# 가중치 합\n",
    "A1 = np.dot(X, W1) + B1 \n",
    "# A1의 값\n",
    "print(\"A1> \", A1) #\n",
    "# 가중치 합에 대한 활성화 함수 적용(시그모이드 함수 적용)\n",
    "Z1 = sigmoid(A1)\n",
    "print(\"Z1> \", Z1)"
   ]
  },
  {
   "cell_type": "markdown",
   "metadata": {},
   "source": [
    "<img src=\"\"></img>"
   ]
  },
  {
   "cell_type": "code",
   "execution_count": 11,
   "metadata": {},
   "outputs": [
    {
     "name": "stdout",
     "output_type": "stream",
     "text": [
      "Z1>  [0.57444252 0.66818777 0.75026011]\n",
      "Z1.shape:  (3,)\n",
      "\n",
      "W2>  [[0.1 0.4]\n",
      " [0.2 0.5]\n",
      " [0.3 0.6]]\n",
      "W2.shape:  (3, 2)\n",
      "\n",
      "B2>  [0.1 0.2]\n",
      "B2.shape:  (2,)\n",
      "\n",
      "A2>  [0.51615984 1.21402696]\n",
      "A2.shape:  (2,)\n",
      "\n",
      "Z2>  [0.62624937 0.7710107 ]\n",
      "Z2.shape:  (2,)\n"
     ]
    }
   ],
   "source": [
    "# 첫번째 Hidden Layer에서 두번째 Hidden Layer로 전달되는 가중치의 합(A2)과 활성화 함수를 거친 값(Z2)\n",
    "W2 = np.array([[0.1, 0.4], [0.2, 0.5], [0.3, 0.6]])\n",
    "B2 = np.array([0.1, 0.2])\n",
    "print(\"Z1> \", Z1)\n",
    "print(\"Z1.shape: \", Z1.shape)\n",
    "print()\n",
    "print(\"W2> \", W2)\n",
    "print(\"W2.shape: \", W2.shape)\n",
    "print()\n",
    "print(\"B2> \", B2)\n",
    "print(\"B2.shape: \", B2.shape)\n",
    "A2 = np.dot(Z1, W2) + B2 #\n",
    "Z2 = sigmoid(A2) #\n",
    "print()\n",
    "print(\"A2> \", A2)\n",
    "print(\"A2.shape: \", A2.shape)\n",
    "print()\n",
    "print(\"Z2> \", Z2)\n",
    "print(\"Z2.shape: \", Z2.shape)"
   ]
  },
  {
   "cell_type": "markdown",
   "metadata": {},
   "source": [
    "<img src=\"\"></img>"
   ]
  },
  {
   "cell_type": "code",
   "execution_count": 12,
   "metadata": {},
   "outputs": [
    {
     "name": "stdout",
     "output_type": "stream",
     "text": [
      "Z2>  [0.62624937 0.7710107 ]\n",
      "Z2.shape:  (2,)\n",
      "\n",
      "W3>  [[0.1 0.3]\n",
      " [0.2 0.4]]\n",
      "W3.shape:  (2, 2)\n",
      "\n",
      "B3>  [0.1 0.2]\n",
      "B3.shape:  (2,)\n",
      "\n",
      "A3>  [0.31682708 0.69627909]\n",
      "A3.shape:  (2,)\n",
      "\n",
      "Y>  [0.31682708 0.69627909]\n",
      "Y.shape:  (2,)\n"
     ]
    }
   ],
   "source": [
    "# 두번째 Hidden Layer에서 출력층으로 전달되는 가중치의 합(A2)과 활성화 함수를 거친 값(Z2)\n",
    "def identify_function(x):\n",
    "    return x #\n",
    "# 활성화 함수 적용이라는 문맥상 흐름에 맞추기 위해\n",
    "\n",
    "W3 = np.array([[0.1, 0.3], [0.2, 0.4]])\n",
    "B3 = np.array([0.1, 0.2])\n",
    "print(\"Z2> \", Z2)\n",
    "print(\"Z2.shape: \", Z2.shape)\n",
    "print()\n",
    "print(\"W3> \", W3)\n",
    "print(\"W3.shape: \", W3.shape)\n",
    "print()\n",
    "print(\"B3> \", B3)\n",
    "print(\"B3.shape: \", B3.shape)\n",
    "A3 = np.dot(Z2, W3) + B3 #\n",
    "Y = identify_function(A3) #\n",
    "print()\n",
    "print(\"A3> \", A3)\n",
    "print(\"A3.shape: \", A3.shape)\n",
    "print()\n",
    "print(\"Y> \", Y)\n",
    "print(\"Y.shape: \", Y.shape)"
   ]
  },
  {
   "cell_type": "code",
   "execution_count": 13,
   "metadata": {},
   "outputs": [
    {
     "name": "stdout",
     "output_type": "stream",
     "text": [
      "[0.31682708 0.69627909]\n"
     ]
    }
   ],
   "source": [
    "def init_network():\n",
    "    network = {}\n",
    "    network['W1'] = np.array([[0.1, 0.3, 0.5], [0.2, 0.4, 0.6]])\n",
    "    network['W2'] = np.array([[0.1, 0.4], [0.2, 0.5], [0.3, 0.6]])\n",
    "    network['W3'] = np.array([[0.1, 0.3], [0.2, 0.4]])\n",
    "    network['b1'] = np.array([0.1, 0.2, 0.3])\n",
    "    network['b2'] = np.array([0.1, 0.2])\n",
    "    network['b3'] = np.array([0.1, 0.2])\n",
    "    \n",
    "    return network\n",
    "\n",
    "def forward(network, x): # 왼쪽->오른쪽으로 전개되는 상황을 순전파라고 한다. 역전파도 있으며, 다음 기회에 설명.\n",
    "    W1, W2, W3 = network['W1'], network['W2'], network['W3']\n",
    "    b1, b2, b3 = network['b1'], network['b2'], network['b3']\n",
    "    \n",
    "    a1 = np.dot(x, W1) + b1\n",
    "    z1 = sigmoid(a1)\n",
    "    \n",
    "    a2 = np.dot(z1, W2) + b2\n",
    "    z2 = sigmoid(a2)\n",
    "    \n",
    "    a3 = np.dot(z2, W3) + b3\n",
    "    y = identify_function(a3)\n",
    "    \n",
    "    return y\n",
    "    \n",
    "network = init_network()\n",
    "x = np.array([1.0, 0.5])\n",
    "y = forward(network, x)\n",
    "print(y)"
   ]
  },
  {
   "cell_type": "markdown",
   "metadata": {},
   "source": [
    "![](https://1.bp.blogspot.com/-lQj_QplGnaA/W0T9aaBvGcI/AAAAAAAAA54/aOyUeclvFyMCQM9Oqzuw0UkCgkJt6oUBACLcBGAs/s640/IMG_0309.JPG)"
   ]
  },
  {
   "cell_type": "markdown",
   "metadata": {},
   "source": [
    "- 위 문제의 경우, 3개의 입력을 받아서 2개의 출력을 내는 이진 분류 문제라고 할 수 있음\n",
    "  - 대출 가능,불가 등의 yes, no 문제\n",
    "  \n",
    "  \n",
    "  \n",
    "- 신경망 데모: https://ml4a.github.io/demos/simple_forward_pass/"
   ]
  },
  {
   "cell_type": "code",
   "execution_count": 14,
   "metadata": {},
   "outputs": [
    {
     "name": "stdout",
     "output_type": "stream",
     "text": [
      "y_identify_function:     : [0.12410253 1.04452448]\n",
      "y_softmax:               : [0.28487193 0.71512807]\n"
     ]
    }
   ],
   "source": [
    "# HW\n",
    "# 1) 아래 코드를 본 후, 다음주까지 네트워크를 손으로 그려오기\n",
    "#    입력, 가중치, bias, 출력, 활성화 함수가 모두 표현되어 있어야 함\n",
    "\n",
    "def init_network():\n",
    "    network = {}\n",
    "    network['W1'] = np.array([[0.1, 0.3, 0.5, 0.2, 0.4, 0.6, 0.3, 0.6], \n",
    "                              [0.2, 0.4, 0.6, 0.1, 0.3, 0.5, 0.2, 0.4],\n",
    "                              [-0.24, 0.46, 0.76, -0.31, 0.33, 0.54, 0.52, 0.44],\n",
    "                              [0.32, -0.44, 0.86, 0.16, -0.33, -0.51, 0.72, 0.84],\n",
    "                              [0.72, 0.43, -0.62, 0.18, 0.32, -0.52, 0.12, -0.41]])\n",
    "    network['W2'] = np.array([[0.1, 0.4, 0.2, 0.5, 0.3, 0.6, 0.3],\n",
    "                             [0.4, 0.2, 0.1, 0.5, 0.3, 0.6, 0.3], \n",
    "                             [0.2, 0.5, 0.4, 0.5, 0.1, 0.1, 0.3],\n",
    "                             [0.5, 0.3, 0.2, 0.5, 0.4, 0.4, 0.1],\n",
    "                             [0.3, 0.6, 0.5, 0.5, 0.2, 0.2, 0.4],\n",
    "                             [0.6, 0.3, 0.3, 0.5, 0.5, 0.5, 0.2],\n",
    "                             [0.3, 0.4, 0.6, 0.5, 0.3, 0.3, 0.5],\n",
    "                             [0.1, 0.4, 0.3, 0.5, 0.3, 0.6, 0.3]])\n",
    "    network['W3'] = np.array([[0.1, 0.3, 0.2, 0.4, 0.1], \n",
    "                             [0.3, 0.3, 0.3, 0.4, 0.9], \n",
    "                             [0.2, 0.3, 0.2, 0.4, 0.3], \n",
    "                             [0.4, 0.2, 0.2, 0.4, 0.2], \n",
    "                             [0.1, 0.4, 0.4, 0.3, 0.4], \n",
    "                             [0.9, 0.1, 0.2, 0.2, 0.9], \n",
    "                             [0.1, 0.3, 0.2, 0.4, 0.3]])\n",
    "    network['W4'] = np.array([[0.1, 0.3, 0.2, 0.4], \n",
    "                             [0.3, 0.3, 0.3, 0.4], \n",
    "                             [0.2, 0.3, 0.2, 0.4], \n",
    "                             [0.4, 0.2, 0.2, 0.4], \n",
    "                             [0.1, 0.4, 0.4, 0.3]])\n",
    "    network['W5'] = np.array([[0.1, 0.3, 0.5, 0.2], \n",
    "                             [0.46, 0.76, -0.31, 0.33], \n",
    "                             [0.2, -0.62, 0.18, 0.32], \n",
    "                             [0.4, 0.43, -0.62, 0.4]])\n",
    "    network['W6'] = np.array([[0.1, 0.3], \n",
    "                             [0.76, -0.31], \n",
    "                             [0.18, 0.32], \n",
    "                             [-0.62, 0.4]])\n",
    "    \n",
    "    network['b1'] = np.array([0.1, 0.2, 0.3, 0.3, -0.3, 0.3, 0.2, 0.2])\n",
    "    network['b2'] = np.array([0.1, 0.2, 0.3, 0.3, 0.3, 0.3, 0.1])\n",
    "    network['b3'] = np.array([0.1, 0.1, 0.2, 0.2, 0.3])\n",
    "    network['b4'] = np.array([0.1, 0.1, 0.2, 0.2])\n",
    "    network['b5'] = np.array([0.1, 0.1, 0.2, 0.2])\n",
    "    network['b6'] = np.array([0.1, 0.1])\n",
    "    \n",
    "    return network\n",
    "\n",
    "def forward(network, x):\n",
    "    W1, W2, W3, W4, W5, W6 = network['W1'], network['W2'], network['W3'], network['W4'], network['W5'], network['W6']\n",
    "    b1, b2, b3, b4, b5, b6 = network['b1'], network['b2'], network['b3'], network['b4'], network['b5'], network['b6']\n",
    "    \n",
    "    a1 = np.dot(x, W1) + b1\n",
    "    z1 = sigmoid(a1)\n",
    "    \n",
    "    a2 = np.dot(z1, W2) + b2\n",
    "    z2 = sigmoid(a2)\n",
    "    \n",
    "    a3 = np.dot(z2, W3) + b3\n",
    "    z3 = sigmoid(a3)\n",
    "    \n",
    "    a4 = np.dot(z3, W4) + b4\n",
    "    z4 = relu(a4)\n",
    "    \n",
    "    a5 = np.dot(z4, W5) + b5\n",
    "    z5 = relu(a5)\n",
    "    \n",
    "    a6 = np.dot(z5, W6) + b6\n",
    "    y_softmax = softmax(a6)\n",
    "    y_identify_function = identify_function(a6)\n",
    "    \n",
    "    return y_softmax, y_identify_function\n",
    "\n",
    "network = init_network()\n",
    "x = np.array([1.0, 0.5, 0.4, 0.9, -1.3])\n",
    "y_softmax, y_identify_function  = forward(network, x)\n",
    "print(\"{:25s}: {}\".format(\"y_identify_function: \", y_identify_function))\n",
    "print(\"{:25s}: {}\".format(\"y_softmax: \", y_softmax))"
   ]
  },
  {
   "cell_type": "markdown",
   "metadata": {},
   "source": [
    "Neural Network가 할 일은, \n",
    "  1)<b>가장 적합한 파라미터를 찾아내어</b>, 2)<b>결과값을 개선하는 것</b>이다.\n",
    "  \n",
    "  \n",
    "  - 즉 훈련 데이터(학습 데이터)를 사용하여 가중치 매개변수를 학습한 후, --> <b>학습 단계</b> : 다음 시간(역전파 파트 때)에.\n",
    "  - 학습하여 구한 매개변수를 이용하여 새로운 입력 데이터를 예측 또는 분류해낸다. --> <b>추론 단계</b>"
   ]
  },
  {
   "cell_type": "markdown",
   "metadata": {},
   "source": [
    "- 출력층의 뉴런수는 풀려는 문제에 맞게 적절히 정해야 한다.\n",
    "- 분류문제의 경우, 분류하려는 클래스의 개수에 맞게 출력층의 뉴런 개수를 정하는 것이 일반적\n",
    "  - Yes, no -> 출력층에 두 개의 뉴런\n",
    "  - MNIST -> 0~9까지 10개의 뉴런"
   ]
  },
  {
   "cell_type": "markdown",
   "metadata": {},
   "source": [
    "# MNIST"
   ]
  },
  {
   "cell_type": "markdown",
   "metadata": {},
   "source": [
    "- 손글씨 숫자 이미지 집합\n",
    "- 기계학습의 대표적인 데이터셋, 성능 벤치마크 기준\n",
    "  - 데이터 집합\n",
    "  - 연령, 나이, 연봉, 직업, 사는지역, [대출상환여부:1/0]\n",
    "  - 매개변수 학습에 쓰이는 데이터셋을 훈련 데이터셋(training dataset)\n",
    "  - 모델의 성능을 측정하고, 좋은 모델을 선택하기 위해 쓰이는 검증 데이터셋(validation dataset). 모델의 학습시에는 쓰일 때도 있고 쓰이지 않을때도 있다.\n",
    "  - 최종적인 모델이 얼마나 좋은지를 평가하기 위해 쓰이는 시험 데이터셋(test dataset). 학습시에는 절대 쓰이지 않는다.\n",
    "  \n",
    "- MNIST는 0부터 9까지의 손글씨 숫자를 이미지화 한 데이터셋\n",
    "- 훈련 이미지: 60,000장\n",
    "- 시험 이미지: 10,000장\n",
    "http://yann.lecun.com/exdb/mnist/\n",
    "![](https://3.bp.blogspot.com/-8ovpaiyw1jU/W0Vpywvq0TI/AAAAAAAAA6Q/mxVrhNi4cZU9EFGHqS71PFStpBj7sF8sQCLcBGAs/s640/mnist.png)\n",
    "![](https://ml4a.github.io/images/figures/mnist-input.png)\n",
    "- 784(=28*28) 사이즈의 그레이 스케일 이미지 --> <code> 1x28x28</code>\n",
    "- 각각의 필셀값은 0부터 255(2^8)까지의 값을 갖음\n",
    "- MNIST 데모: https://ml4a.github.io/demos/forward_pass_mnist/"
   ]
  },
  {
   "cell_type": "markdown",
   "metadata": {},
   "source": [
    "### MNIST 데이터셋 -> numpy.ndarray"
   ]
  },
  {
   "cell_type": "code",
   "execution_count": 15,
   "metadata": {},
   "outputs": [
    {
     "name": "stdout",
     "output_type": "stream",
     "text": [
      "Downloading train-images-idx3-ubyte.gz ... \n",
      "Done\n",
      "Downloading train-labels-idx1-ubyte.gz ... \n",
      "Done\n",
      "Downloading t10k-images-idx3-ubyte.gz ... \n",
      "Done\n",
      "Downloading t10k-labels-idx1-ubyte.gz ... \n",
      "Done\n",
      "Converting train-images-idx3-ubyte.gz to NumPy Array ...\n",
      "Done\n",
      "Converting train-labels-idx1-ubyte.gz to NumPy Array ...\n",
      "Done\n",
      "Converting t10k-images-idx3-ubyte.gz to NumPy Array ...\n",
      "Done\n",
      "Converting t10k-labels-idx1-ubyte.gz to NumPy Array ...\n",
      "Done\n",
      "Creating pickle file ...\n",
      "Done!\n"
     ]
    }
   ],
   "source": [
    "# coding: utf-8\n",
    "try:\n",
    "    import urllib.request\n",
    "except ImportError:\n",
    "    raise ImportError('You should use Python 3.x')\n",
    "import os.path\n",
    "import gzip\n",
    "import pickle\n",
    "import os\n",
    "import numpy as np\n",
    "\n",
    "\n",
    "url_base = 'http://yann.lecun.com/exdb/mnist/'\n",
    "key_file = {\n",
    "    'train_img':'train-images-idx3-ubyte.gz',\n",
    "    'train_label':'train-labels-idx1-ubyte.gz',\n",
    "    'test_img':'t10k-images-idx3-ubyte.gz',\n",
    "    'test_label':'t10k-labels-idx1-ubyte.gz'\n",
    "}\n",
    "\n",
    "dataset_dir = os.getcwd() #os.path.dirname(os.path.abspath(__file__))\n",
    "save_file = dataset_dir + \"/mnist.pkl\"\n",
    "\n",
    "train_num = 60000\n",
    "test_num = 10000\n",
    "img_dim = (1, 28, 28)\n",
    "img_size = 784\n",
    "\n",
    "\n",
    "def _download(file_name):\n",
    "    file_path = dataset_dir + \"/\" + file_name\n",
    "    \n",
    "    if os.path.exists(file_path):\n",
    "        return\n",
    "\n",
    "    print(\"Downloading \" + file_name + \" ... \")\n",
    "    urllib.request.urlretrieve(url_base + file_name, file_path)\n",
    "    print(\"Done\")\n",
    "    \n",
    "def download_mnist():\n",
    "    for v in key_file.values():\n",
    "        _download(v)\n",
    "        \n",
    "def _load_label(file_name):\n",
    "    file_path = dataset_dir + \"/\" + file_name\n",
    "    \n",
    "    print(\"Converting \" + file_name + \" to NumPy Array ...\")\n",
    "    with gzip.open(file_path, 'rb') as f:\n",
    "            labels = np.frombuffer(f.read(), np.uint8, offset=8)\n",
    "    print(\"Done\")\n",
    "    \n",
    "    return labels\n",
    "\n",
    "def _load_img(file_name):\n",
    "    file_path = dataset_dir + \"/\" + file_name\n",
    "    \n",
    "    print(\"Converting \" + file_name + \" to NumPy Array ...\")    \n",
    "    with gzip.open(file_path, 'rb') as f:\n",
    "            data = np.frombuffer(f.read(), np.uint8, offset=16)\n",
    "    data = data.reshape(-1, img_size)\n",
    "    print(\"Done\")\n",
    "    \n",
    "    return data\n",
    "    \n",
    "def _convert_numpy():\n",
    "    dataset = {}\n",
    "    dataset['train_img'] =  _load_img(key_file['train_img'])\n",
    "    dataset['train_label'] = _load_label(key_file['train_label'])    \n",
    "    dataset['test_img'] = _load_img(key_file['test_img'])\n",
    "    dataset['test_label'] = _load_label(key_file['test_label'])\n",
    "    \n",
    "    return dataset\n",
    "\n",
    "def init_mnist():\n",
    "    download_mnist()\n",
    "    dataset = _convert_numpy()\n",
    "    print(\"Creating pickle file ...\")\n",
    "    with open(save_file, 'wb') as f:\n",
    "        pickle.dump(dataset, f, -1)\n",
    "    print(\"Done!\")\n",
    "\n",
    "def _change_one_hot_label(X):\n",
    "    T = np.zeros((X.size, 10))\n",
    "    for idx, row in enumerate(T):\n",
    "        row[X[idx]] = 1\n",
    "        \n",
    "    return T\n",
    "    \n",
    "\n",
    "def load_mnist(normalize=True, flatten=True, one_hot_label=False):\n",
    "    \"\"\"MNIST 데이터셋 읽기\n",
    "    \n",
    "    Parameters\n",
    "    ----------\n",
    "    normalize : 이미지의 픽셀 값을 0.0~1.0 사이의 값으로 정규화할지 정한다.\n",
    "    one_hot_label : \n",
    "        one_hot_label이 True면、레이블을 원-핫(one-hot) 배열로 돌려준다.\n",
    "        one-hot 배열은 예를 들어 [0,0,1,0,0,0,0,0,0,0]처럼 한 원소만 1인 배열이다.\n",
    "    flatten : 입력 이미지를 1차원 배열로 만들지를 정한다. 본래는 1*28*28의 3차원 이미지.\n",
    "    \n",
    "    Returns\n",
    "    -------\n",
    "    (훈련 이미지, 훈련 레이블), (시험 이미지, 시험 레이블)\n",
    "    \"\"\"\n",
    "    if not os.path.exists(save_file):\n",
    "        init_mnist()\n",
    "        \n",
    "    with open(save_file, 'rb') as f:\n",
    "        dataset = pickle.load(f)\n",
    "    \n",
    "    if normalize:\n",
    "        for key in ('train_img', 'test_img'):\n",
    "            dataset[key] = dataset[key].astype(np.float32)\n",
    "            dataset[key] /= 255.0\n",
    "            \n",
    "    if one_hot_label:\n",
    "        dataset['train_label'] = _change_one_hot_label(dataset['train_label'])\n",
    "        dataset['test_label'] = _change_one_hot_label(dataset['test_label'])    \n",
    "    \n",
    "    if not flatten:\n",
    "         for key in ('train_img', 'test_img'):\n",
    "            dataset[key] = dataset[key].reshape(-1, 1, 28, 28)\n",
    "\n",
    "    return (dataset['train_img'], dataset['train_label']), (dataset['test_img'], dataset['test_label']) \n",
    "\n",
    "\n",
    "if __name__ == '__main__':\n",
    "    init_mnist()\n"
   ]
  },
  {
   "cell_type": "markdown",
   "metadata": {},
   "source": [
    "### 훈련 데이터, 시험 데이터"
   ]
  },
  {
   "cell_type": "code",
   "execution_count": 16,
   "metadata": {},
   "outputs": [
    {
     "name": "stdout",
     "output_type": "stream",
     "text": [
      "x_train> \n",
      "[[0 0 0 ... 0 0 0]\n",
      " [0 0 0 ... 0 0 0]\n",
      " [0 0 0 ... 0 0 0]\n",
      " ...\n",
      " [0 0 0 ... 0 0 0]\n",
      " [0 0 0 ... 0 0 0]\n",
      " [0 0 0 ... 0 0 0]]\n",
      "x_train.shape:  (60000, 784)\n",
      "x_train[0][230:250]>  [  0  18 219 253 253 253 253 253 198 182 247 241   0   0   0   0   0   0\n",
      "   0   0]\n",
      "x_train[0].shape>  (784,)\n",
      "\n",
      "t_train> \n",
      "[5 0 4 ... 5 6 8]\n",
      "t_train.shape:  (60000,)\n",
      "t_train[0]>  5\n",
      "t_train[0].shape>  ()\n",
      "\n",
      "x_test> \n",
      "[[0 0 0 ... 0 0 0]\n",
      " [0 0 0 ... 0 0 0]\n",
      " [0 0 0 ... 0 0 0]\n",
      " ...\n",
      " [0 0 0 ... 0 0 0]\n",
      " [0 0 0 ... 0 0 0]\n",
      " [0 0 0 ... 0 0 0]]\n",
      "x_test.shape:  (10000, 784)\n",
      "x_test[0][230:250]>  [222 254 254 254 254 241 198 198 198 198 198 198 198 198 170  52   0   0\n",
      "   0   0]\n",
      "x_test[0].shape>  (784,)\n",
      "\n",
      "t_test> \n",
      "[7 2 1 ... 4 5 6]\n",
      "t_test.shape:  (10000,)\n",
      "t_test[0]>  7\n",
      "t_test[0].shape>  ()\n",
      "\n"
     ]
    }
   ],
   "source": [
    "(x_train, t_train), (x_test, t_test) = load_mnist(flatten=True, normalize=False, one_hot_label=False)\n",
    "# (x_train, t_train), (x_test, t_test) = load_mnist(flatten=True, normalize=True, one_hot_label=False)\n",
    "# (x_train, t_train), (x_test, t_test) = load_mnist(flatten=True, normalize=True, one_hot_label=True)\n",
    "print(\"x_train> \")\n",
    "print(x_train)\n",
    "print(\"x_train.shape: \", x_train.shape)\n",
    "print(\"x_train[0][230:250]> \", x_train[0][230:250])\n",
    "print(\"x_train[0].shape> \", x_train[0].shape)\n",
    "print()\n",
    "print(\"t_train> \")\n",
    "print(t_train)\n",
    "print(\"t_train.shape: \", t_train.shape)\n",
    "print(\"t_train[0]> \", t_train[0])\n",
    "print(\"t_train[0].shape> \", t_train[0].shape)\n",
    "print()\n",
    "print(\"x_test> \")\n",
    "print(x_test)\n",
    "print(\"x_test.shape: \", x_test.shape)\n",
    "print(\"x_test[0][230:250]> \", x_test[0][230:250])\n",
    "print(\"x_test[0].shape> \", x_test[0].shape)\n",
    "print()\n",
    "print(\"t_test> \")\n",
    "print(t_test)\n",
    "print(\"t_test.shape: \", t_test.shape)\n",
    "print(\"t_test[0]> \", t_test[0])\n",
    "print(\"t_test[0].shape> \", t_test[0].shape)\n",
    "print()"
   ]
  },
  {
   "cell_type": "markdown",
   "metadata": {},
   "source": [
    "### MNIST 숫자 분류/추론"
   ]
  },
  {
   "cell_type": "code",
   "execution_count": 37,
   "metadata": {},
   "outputs": [
    {
     "name": "stdout",
     "output_type": "stream",
     "text": [
      "x.shape:  (10000, 784)\n",
      "x[0].shape:  (784,)\n",
      "batchsize * x[0].shape: (1, 784)\n",
      "network['W1'].shape:  (784, 50)\n",
      "network['W2'].shape:  (50, 100)\n",
      "network['W3'].shape:  (100, 10)\n",
      "output layer's shape: (1, 10)\n",
      "\n",
      "Accuracy:0.9352\n"
     ]
    }
   ],
   "source": [
    "def get_data():\n",
    "    (x_train, t_train), (x_test, t_test) = load_mnist(normalize=True, flatten=True, one_hot_label=False)\n",
    "    return x_test, t_test\n",
    "\n",
    "\n",
    "def init_network():\n",
    "    with open(\"sample_weight.pkl\", 'rb') as f:\n",
    "        network = pickle.load(f)\n",
    "    return network\n",
    "\n",
    "\n",
    "def predict(network, x):\n",
    "    W1, W2, W3 = network['W1'], network['W2'], network['W3']\n",
    "    b1, b2, b3 = network['b1'], network['b2'], network['b3']\n",
    "\n",
    "    a1 = np.dot(x, W1) + b1\n",
    "    z1 = sigmoid(a1)\n",
    "    a2 = np.dot(z1, W2) + b2\n",
    "    z2 = sigmoid(a2)\n",
    "    a3 = np.dot(z2, W3) + b3\n",
    "    y = softmax(a3)\n",
    "\n",
    "    return y\n",
    "\n",
    "\n",
    "x, t = get_data()\n",
    "network = init_network()\n",
    "print(\"x.shape: \", x.shape)\n",
    "print(\"x[0].shape: \", x[0].shape)\n",
    "print(\"batchsize * x[0].shape: ({}, {})\".format(1, x[0].shape[0])) # 개념적인 표현\n",
    "print(\"network['W1'].shape: \", network['W1'].shape)\n",
    "print(\"network['W2'].shape: \", network['W2'].shape)\n",
    "print(\"network['W3'].shape: \", network['W3'].shape)\n",
    "print(\"output layer's shape: ({}, {})\".format(1, 10)) # 개념적인 표현\n",
    "print()\n",
    "accuracy_cnt = 0\n",
    "for i in range(len(x)): # 불러온 이미지 x를 한 장씩 꺼내서 predict()함수에 넣는다. predict()함수는 이미지가 어떤 숫자인지 분류/추론한다.\n",
    "    y = predict(network, x[i]) # softmax이므로 0.0과 1.0사이의 확률값으로 나옴\n",
    "    p= np.argmax(y) # 확률값이 가장 높은 원소의 인덱스를 얻는다.\n",
    "    if p == t[i]: # 예측한 결과인 p와 실제 정답인 t[i]를 비교\n",
    "        accuracy_cnt += 1\n",
    "\n",
    "print(\"Accuracy:\" + str(float(accuracy_cnt) / len(x))) # 93.52%의 정확도로 정확하게 분류"
   ]
  },
  {
   "cell_type": "markdown",
   "metadata": {},
   "source": [
    "- 세 개의 Layer\n",
    "- sample_weight.pkl\n",
    "  - 미리 학습된 모델의 매개변수를 불러옴\n",
    "  - 학습 과정은 다음 시간에.\n",
    "  \n",
    "  \n",
    "- 입력층의 뉴런수: 784\n",
    "- 첫번째 은닉층의 뉴런수: 50\n",
    "- 두번째 은닉층의 뉴런수: 100\n",
    "- 출력층의 뉴런수: 10"
   ]
  },
  {
   "cell_type": "markdown",
   "metadata": {},
   "source": [
    "### 배치 처리\n",
    "- 이미지를 여러 장을 하나로 묶어서 한꺼번에 <code>predict()</code>에 넣고자 할 때\n",
    "  - 하나로 묶은 입력 데이터를 배치(batch)라 함"
   ]
  },
  {
   "cell_type": "code",
   "execution_count": 36,
   "metadata": {},
   "outputs": [
    {
     "name": "stdout",
     "output_type": "stream",
     "text": [
      "x.shape:  (10000, 784)\n",
      "x[0].shape:  (784,)\n",
      "batchsize * x[0].shape: (100, 784)\n",
      "network['W1'].shape:  (784, 50)\n",
      "network['W2'].shape:  (50, 100)\n",
      "network['W3'].shape:  (100, 10)\n",
      "output layer's shape: (100, 10)\n",
      "\n",
      "Accuracy:0.9352\n"
     ]
    }
   ],
   "source": [
    "def get_data():\n",
    "    (x_train, t_train), (x_test, t_test) = load_mnist(normalize=True, flatten=True, one_hot_label=False)\n",
    "    return x_test, t_test\n",
    "\n",
    "\n",
    "def init_network():\n",
    "    with open(\"sample_weight.pkl\", 'rb') as f:\n",
    "        network = pickle.load(f)\n",
    "    return network\n",
    "\n",
    "\n",
    "def predict(network, x):\n",
    "    w1, w2, w3 = network['W1'], network['W2'], network['W3']\n",
    "    b1, b2, b3 = network['b1'], network['b2'], network['b3']\n",
    "\n",
    "    a1 = np.dot(x, w1) + b1\n",
    "    z1 = sigmoid(a1)\n",
    "    a2 = np.dot(z1, w2) + b2\n",
    "    z2 = sigmoid(a2)\n",
    "    a3 = np.dot(z2, w3) + b3\n",
    "    y = softmax(a3)\n",
    "\n",
    "    return y\n",
    "\n",
    "accuracy_cnt = 0\n",
    "\n",
    "x, t = get_data()\n",
    "network = init_network()\n",
    "batch_size = 100 # 배치 크기\n",
    "\n",
    "# for i in range(len(x)): \n",
    "#     y = predict(network, x[i]) \n",
    "#     p= np.argmax(y) \n",
    "#     if p == t[i]: \n",
    "#         accuracy_cnt += 1\n",
    "        \n",
    "for i in range(0, len(x), batch_size):\n",
    "    y_batch = predict(network, x[i:i+batch_size])\n",
    "    p = np.argmax(y_batch, axis=1)\n",
    "    accuracy_cnt += np.sum(p == t[i:i+batch_size])\n",
    "\n",
    "print(\"x.shape: \", x.shape)\n",
    "print(\"x[0].shape: \", x[0].shape)\n",
    "print(\"batchsize * x[0].shape: ({}, {})\".format(batch_size, x[0].shape[0])) # 개념적인 표현\n",
    "print(\"network['W1'].shape: \", network['W1'].shape)\n",
    "print(\"network['W2'].shape: \", network['W2'].shape)\n",
    "print(\"network['W3'].shape: \", network['W3'].shape)\n",
    "print(\"output layer's shape: ({}, {})\".format(batch_size, 10)) # 개념적인 표현\n",
    "print()\n",
    "print(\"Accuracy:\" + str(float(accuracy_cnt) / len(x)))"
   ]
  },
  {
   "cell_type": "markdown",
   "metadata": {},
   "source": [
    "- 배치 처리의 이점\n",
    "  - 계산 효율: 큰 배열을 효율적으로 처리할 수 있도록 최적화되어 있음\n",
    "  - I/O 횟수를 줄여 버스 부하를 줄임 --> 계산 속도 향상에 도움을 줌"
   ]
  },
  {
   "cell_type": "code",
   "execution_count": null,
   "metadata": {
    "collapsed": true
   },
   "outputs": [],
   "source": []
  }
 ],
 "metadata": {
  "kernelspec": {
   "display_name": "Python 3",
   "language": "python",
   "name": "python3"
  },
  "language_info": {
   "codemirror_mode": {
    "name": "ipython",
    "version": 3
   },
   "file_extension": ".py",
   "mimetype": "text/x-python",
   "name": "python",
   "nbconvert_exporter": "python",
   "pygments_lexer": "ipython3",
   "version": "3.6.3"
  }
 },
 "nbformat": 4,
 "nbformat_minor": 2
}
