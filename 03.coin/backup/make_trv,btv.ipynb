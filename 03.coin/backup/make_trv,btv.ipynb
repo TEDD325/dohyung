{
 "cells": [
  {
   "cell_type": "code",
   "execution_count": 1,
   "metadata": {},
   "outputs": [],
   "source": [
    "import csv\n",
    "from os import listdir\n",
    "from os.path import isfile, join\n",
    "import _pickle as pickle\n",
    "import numpy as np"
   ]
  },
  {
   "cell_type": "code",
   "execution_count": 13,
   "metadata": {},
   "outputs": [],
   "source": [
    "data_files_dir = \"/Users/dohk/GoogleDrive/Bithumb_Data_Collector/cleanup\"\n",
    "# cleanup된 raw data의 위치"
   ]
  },
  {
   "cell_type": "code",
   "execution_count": 3,
   "metadata": {},
   "outputs": [],
   "source": [
    "all_data_files = [f for f in listdir(data_files_dir) if isfile(join(data_files_dir, f))]\n",
    "# 디렉토리에 존재하는 모든 파일의 이름을 리스트로 저장"
   ]
  },
  {
   "cell_type": "code",
   "execution_count": 4,
   "metadata": {},
   "outputs": [
    {
     "data": {
      "text/plain": [
       "['coin_QTUM_cleanup.csv',\n",
       " 'coin_ETH_cleanup.csv',\n",
       " 'Icon\\r',\n",
       " 'coin_ZEC_cleanup.csv',\n",
       " 'coin_XRP_cleanup.csv',\n",
       " 'coin_BTG_cleanup.csv',\n",
       " 'coin_EOS_cleanup.csv',\n",
       " 'coin_XMR_cleanup.csv',\n",
       " 'coin_BCH_cleanup.csv',\n",
       " 'coin_LTC_cleanup.csv',\n",
       " 'coin_BTC_cleanup.csv',\n",
       " 'coin_DASH_cleanup.csv',\n",
       " 'coin_ETC_cleanup.csv']"
      ]
     },
     "execution_count": 4,
     "metadata": {},
     "output_type": "execute_result"
    }
   ],
   "source": [
    "all_data_files"
   ]
  },
  {
   "cell_type": "code",
   "execution_count": 7,
   "metadata": {},
   "outputs": [
    {
     "data": {
      "text/plain": [
       "['coin_ETH_cleanup.csv',\n",
       " 'coin_XRP_cleanup.csv',\n",
       " 'coin_BCH_cleanup.csv',\n",
       " 'coin_LTC_cleanup.csv',\n",
       " 'coin_BTC_cleanup.csv',\n",
       " 'coin_DASH_cleanup.csv',\n",
       " 'coin_ETC_cleanup.csv']"
      ]
     },
     "execution_count": 7,
     "metadata": {},
     "output_type": "execute_result"
    }
   ],
   "source": [
    "trading_coins = ['BCH', 'BTC', 'DASH', 'ETC', 'ETH', 'LTC', 'XRP']\n",
    "trading_files = [f for f in all_data_files for coin in trading_coins if coin in f]\n",
    "trading_files\n",
    "# 데이터셋으로 만들고자 하는 코인의 이름을 리스트로 저장"
   ]
  },
  {
   "cell_type": "code",
   "execution_count": null,
   "metadata": {},
   "outputs": [],
   "source": []
  },
  {
   "cell_type": "code",
   "execution_count": null,
   "metadata": {},
   "outputs": [],
   "source": []
  },
  {
   "cell_type": "code",
   "execution_count": null,
   "metadata": {},
   "outputs": [],
   "source": []
  },
  {
   "cell_type": "code",
   "execution_count": null,
   "metadata": {},
   "outputs": [],
   "source": []
  },
  {
   "cell_type": "markdown",
   "metadata": {},
   "source": [
    "unix timestamp: 1518050400000 ~ <br>\n",
    "human readable time: 2018.02.08 9:30 ~ <br>\n",
    "unix timestamp: 1519159200000 <br>\n",
    "human readable time: 2018.02.21 5:40<br>"
   ]
  },
  {
   "cell_type": "code",
   "execution_count": 97,
   "metadata": {},
   "outputs": [
    {
     "name": "stdout",
     "output_type": "stream",
     "text": [
      "coin_ETH_cleanup.csv : 1849\n",
      "coin_XRP_cleanup.csv : 1849\n",
      "coin_BCH_cleanup.csv : 1849\n",
      "coin_LTC_cleanup.csv : 1849\n",
      "coin_BTC_cleanup.csv : 1849\n",
      "coin_DASH_cleanup.csv : 1849\n",
      "coin_ETC_cleanup.csv : 1849\n"
     ]
    }
   ],
   "source": [
    "all_data_list = dict() #전체 데이터\n",
    "for f in trading_files:\n",
    "    all_data_list[f] = list()\n",
    "    \n",
    "start_ms_time = 1518050400000\n",
    "end_ms_time = 1519159200000 #1519129800000 #1519159200000\n",
    "\n",
    "for f in trading_files:  # 각 코인별로\n",
    "    file = open(data_files_dir + '/' + f, 'r', encoding='utf-8') \n",
    "    rdr = csv.reader(file)  # read mode로 열고\n",
    "    for line in rdr:  # 읽은 csv파일을 라인별로\n",
    "        if start_ms_time <= int(line[0]) and end_ms_time >= int(line[0]):  # 뭘 검사하냐면, 시간을.\n",
    "            all_data_list[f].append(line)  # 해당 코인의 key값에 대한 value로 해당 라인을 저장.\n",
    "        else:\n",
    "            pass  # starttime~endtime범위를 넘어간 데이터는 패스\n",
    "    file.close()\n",
    "    \n",
    "for i in trading_files:\n",
    "    print(i, \":\", len(all_data_list[i]))"
   ]
  },
  {
   "cell_type": "code",
   "execution_count": 86,
   "metadata": {},
   "outputs": [
    {
     "data": {
      "text/plain": [
       "['1518050400000',\n",
       " '2018-02-08 09:40:00',\n",
       " '867000',\n",
       " '855000',\n",
       " '868000',\n",
       " '850000',\n",
       " '1614.3800521976',\n",
       " 'normal']"
      ]
     },
     "execution_count": 86,
     "metadata": {},
     "output_type": "execute_result"
    }
   ],
   "source": [
    "all_data_list['coin_ETH_cleanup.csv'][0]"
   ]
  },
  {
   "cell_type": "code",
   "execution_count": 91,
   "metadata": {},
   "outputs": [
    {
     "data": {
      "text/plain": [
       "['1519159200000',\n",
       " '2018-02-21 05:40:00',\n",
       " '1084000',\n",
       " '1082000',\n",
       " '1085000',\n",
       " '1082000',\n",
       " '118.37528202765',\n",
       " 'normal']"
      ]
     },
     "execution_count": 91,
     "metadata": {},
     "output_type": "execute_result"
    }
   ],
   "source": [
    "all_data_list['coin_ETH_cleanup.csv'][-1]"
   ]
  },
  {
   "cell_type": "code",
   "execution_count": null,
   "metadata": {},
   "outputs": [],
   "source": []
  },
  {
   "cell_type": "code",
   "execution_count": null,
   "metadata": {},
   "outputs": [],
   "source": []
  },
  {
   "cell_type": "code",
   "execution_count": 98,
   "metadata": {},
   "outputs": [
    {
     "name": "stdout",
     "output_type": "stream",
     "text": [
      "coin_ETH_cleanup.csv : 28849\n",
      "coin_XRP_cleanup.csv : 28849\n",
      "coin_BCH_cleanup.csv : 28849\n",
      "coin_LTC_cleanup.csv : 28849\n",
      "coin_BTC_cleanup.csv : 28849\n",
      "coin_DASH_cleanup.csv : 28849\n",
      "coin_ETC_cleanup.csv : 28849\n"
     ]
    }
   ],
   "source": [
    "all_data_list = dict() #전체 데이터\n",
    "for f in trading_files:\n",
    "    all_data_list[f] = list()\n",
    "    \n",
    "start_ms_time = 1501850400000\n",
    "end_ms_time = 1519159200000 #1519129800000 #1519159200000\n",
    "\n",
    "for f in trading_files:  # 각 코인별로\n",
    "    file = open(data_files_dir + '/' + f, 'r', encoding='utf-8') \n",
    "    rdr = csv.reader(file)  # read mode로 열고\n",
    "    for line in rdr:  # 읽은 csv파일을 라인별로\n",
    "        if start_ms_time <= int(line[0]) and end_ms_time >= int(line[0]):  # 뭘 검사하냐면, 시간을.\n",
    "            all_data_list[f].append(line)  # 해당 코인의 key값에 대한 value로 해당 라인을 저장.\n",
    "        else:\n",
    "            pass  # starttime~endtime범위를 넘어간 데이터는 패스\n",
    "    file.close()\n",
    "    \n",
    "for i in trading_files:\n",
    "    print(i, \":\", len(all_data_list[i]))"
   ]
  },
  {
   "cell_type": "code",
   "execution_count": 111,
   "metadata": {},
   "outputs": [],
   "source": [
    "trv = list() #train value : [[v_t, v_t_hi, v_t_low], ...], shape : (27000, 3, 7, 50)\n",
    "btv = list() #backtest value : [v_t, v_t_hi, v_t_low], ...], shape : (1800, 3, 7, 50)\n",
    "\n",
    "trv_file = open(data_files_dir + '/dataset/trv', 'wb')\n",
    "btv_file = open(data_files_dir + '/dataset/btv', 'wb')"
   ]
  },
  {
   "cell_type": "code",
   "execution_count": 117,
   "metadata": {},
   "outputs": [],
   "source": [
    "data_iterator = dict()\n",
    "for file in trading_files:\n",
    "    data_iterator[file] = iter(all_data_list[file])"
   ]
  },
  {
   "cell_type": "code",
   "execution_count": 118,
   "metadata": {},
   "outputs": [],
   "source": [
    "v_t = list() #shape : (7, 50)\n",
    "v_t_hi = list() #(7, 50)\n",
    "v_t_low = list() #(7, 50)\n",
    "v_t_f = list() #shape : (50)\n",
    "v_t_hi_f = list() #(50)\n",
    "v_t_low_f = list() #(50)"
   ]
  },
  {
   "cell_type": "code",
   "execution_count": 99,
   "metadata": {},
   "outputs": [
    {
     "name": "stdout",
     "output_type": "stream",
     "text": [
      "train dataset's shape : (27000, 3, 7, 50)\n",
      "backtest dataset's shape : (1800, 3, 7, 50)\n",
      "example :  [[[  2.52250000e+05   2.51200000e+05   2.51750000e+05 ...,   2.52550000e+05\n",
      "     2.52300000e+05   2.52650000e+05]\n",
      "  [  2.51200000e+05   2.51750000e+05   2.51950000e+05 ...,   2.52300000e+05\n",
      "     2.52650000e+05   1.95000000e+02]\n",
      "  [  2.51750000e+05   2.51950000e+05   2.52100000e+05 ...,   2.52650000e+05\n",
      "     1.95000000e+02   8.60000000e+05]\n",
      "  ..., \n",
      "  [  2.52100000e+05   2.52000000e+05   2.52200000e+05 ...,   8.60000000e+05\n",
      "     4.82000000e+04   3.14500000e+06]\n",
      "  [  2.52000000e+05   2.52200000e+05   2.52950000e+05 ...,   4.82000000e+04\n",
      "     3.14500000e+06   2.11000000e+05]\n",
      "  [  2.52200000e+05   2.52950000e+05   2.52500000e+05 ...,   3.14500000e+06\n",
      "     2.11000000e+05   1.69650000e+04]]\n",
      "\n",
      " [[  2.52900000e+05   2.52300000e+05   2.51750000e+05 ...,   2.52800000e+05\n",
      "     2.52850000e+05   2.52650000e+05]\n",
      "  [  2.52300000e+05   2.51750000e+05   2.52850000e+05 ...,   2.52850000e+05\n",
      "     2.52650000e+05   1.95000000e+02]\n",
      "  [  2.51750000e+05   2.52850000e+05   2.52400000e+05 ...,   2.52650000e+05\n",
      "     1.95000000e+02   1.50000000e+06]\n",
      "  ..., \n",
      "  [  2.52400000e+05   2.52200000e+05   2.52300000e+05 ...,   1.50000000e+06\n",
      "     4.85500000e+04   3.14700000e+06]\n",
      "  [  2.52200000e+05   2.52300000e+05   2.53000000e+05 ...,   4.85500000e+04\n",
      "     3.14700000e+06   2.11250000e+05]\n",
      "  [  2.52300000e+05   2.53000000e+05   2.53400000e+05 ...,   3.14700000e+06\n",
      "     2.11250000e+05   1.72000000e+04]]\n",
      "\n",
      " [[  2.49350000e+05   2.50550000e+05   2.51000000e+05 ...,   2.52050000e+05\n",
      "     2.52300000e+05   2.52200000e+05]\n",
      "  [  2.50550000e+05   2.51000000e+05   2.51400000e+05 ...,   2.52300000e+05\n",
      "     2.52200000e+05   1.93000000e+02]\n",
      "  [  2.51000000e+05   2.51400000e+05   2.51800000e+05 ...,   2.52200000e+05\n",
      "     1.93000000e+02   7.50000000e+05]\n",
      "  ..., \n",
      "  [  2.51800000e+05   2.51950000e+05   2.51950000e+05 ...,   7.50000000e+05\n",
      "     4.80300000e+04   3.11200000e+06]\n",
      "  [  2.51950000e+05   2.51950000e+05   2.52100000e+05 ...,   4.80300000e+04\n",
      "     3.11200000e+06   2.08500000e+05]\n",
      "  [  2.51950000e+05   2.52100000e+05   2.52350000e+05 ...,   3.11200000e+06\n",
      "     2.08500000e+05   1.68300000e+04]]]\n"
     ]
    }
   ],
   "source": [
    "while True:\n",
    "    try:\n",
    "        for f in trading_files:\n",
    "            if not v_t_f == list():\n",
    "                v = next(data_iterator[f])\n",
    "                if v == None:\n",
    "                    break\n",
    "                v_t_f = v_t_f[1:]\n",
    "                v_t_hi_f = v_t_hi_f[1:]\n",
    "                v_t_low_f = v_t_low_f[1:]\n",
    "                v_t_f.append(v[3])\n",
    "                v_t_hi_f.append(v[4])\n",
    "                v_t_low_f.append(v[5])\n",
    "            else:\n",
    "                for i in range(50):\n",
    "                    v = next(data_iterator[f])\n",
    "                    v_t_f.append(v[3])\n",
    "                    v_t_hi_f.append(v[4])\n",
    "                    v_t_low_f.append(v[5])\n",
    "            v_t.append(v_t_f)\n",
    "            v_t_hi.append(v_t_hi_f)\n",
    "            v_t_low.append(v_t_low_f)\n",
    "\n",
    "        if len(trv) < 27000:\n",
    "            trv.append([v_t, v_t_hi, v_t_low])\n",
    "            v_t = list()\n",
    "            v_t_hi = list()\n",
    "            v_t_low = list()\n",
    "        else:\n",
    "            btv.append([v_t, v_t_hi, v_t_low])\n",
    "            v_t = list()\n",
    "            v_t_hi = list()\n",
    "            v_t_low = list()\n",
    "    except StopIteration:\n",
    "        break\n",
    "\n",
    "trv = np.array(trv, dtype=np.float64)\n",
    "btv = np.array(btv, dtype=np.float64)\n",
    "\n",
    "print(\"train dataset's shape :\", trv.shape)\n",
    "print(\"backtest dataset's shape :\", btv.shape)\n",
    "\n",
    "print(\"example : \", trv[0])\n",
    "\n",
    "pickle.dump(trv, trv_file, protocol=4)\n",
    "pickle.dump(btv, btv_file, protocol=4)\n",
    "\n",
    "trv_file.close()\n",
    "btv_file.close()"
   ]
  },
  {
   "cell_type": "code",
   "execution_count": 103,
   "metadata": {},
   "outputs": [
    {
     "data": {
      "text/plain": [
       "27000"
      ]
     },
     "execution_count": 103,
     "metadata": {},
     "output_type": "execute_result"
    }
   ],
   "source": [
    "len(trv)"
   ]
  },
  {
   "cell_type": "code",
   "execution_count": 106,
   "metadata": {},
   "outputs": [
    {
     "name": "stdout",
     "output_type": "stream",
     "text": [
      "[[[  2.52250000e+05   2.51200000e+05   2.51750000e+05 ...,   2.52550000e+05\n",
      "     2.52300000e+05   2.52650000e+05]\n",
      "  [  2.51200000e+05   2.51750000e+05   2.51950000e+05 ...,   2.52300000e+05\n",
      "     2.52650000e+05   1.95000000e+02]\n",
      "  [  2.51750000e+05   2.51950000e+05   2.52100000e+05 ...,   2.52650000e+05\n",
      "     1.95000000e+02   8.60000000e+05]\n",
      "  ..., \n",
      "  [  2.52100000e+05   2.52000000e+05   2.52200000e+05 ...,   8.60000000e+05\n",
      "     4.82000000e+04   3.14500000e+06]\n",
      "  [  2.52000000e+05   2.52200000e+05   2.52950000e+05 ...,   4.82000000e+04\n",
      "     3.14500000e+06   2.11000000e+05]\n",
      "  [  2.52200000e+05   2.52950000e+05   2.52500000e+05 ...,   3.14500000e+06\n",
      "     2.11000000e+05   1.69650000e+04]]\n",
      "\n",
      " [[  2.52900000e+05   2.52300000e+05   2.51750000e+05 ...,   2.52800000e+05\n",
      "     2.52850000e+05   2.52650000e+05]\n",
      "  [  2.52300000e+05   2.51750000e+05   2.52850000e+05 ...,   2.52850000e+05\n",
      "     2.52650000e+05   1.95000000e+02]\n",
      "  [  2.51750000e+05   2.52850000e+05   2.52400000e+05 ...,   2.52650000e+05\n",
      "     1.95000000e+02   1.50000000e+06]\n",
      "  ..., \n",
      "  [  2.52400000e+05   2.52200000e+05   2.52300000e+05 ...,   1.50000000e+06\n",
      "     4.85500000e+04   3.14700000e+06]\n",
      "  [  2.52200000e+05   2.52300000e+05   2.53000000e+05 ...,   4.85500000e+04\n",
      "     3.14700000e+06   2.11250000e+05]\n",
      "  [  2.52300000e+05   2.53000000e+05   2.53400000e+05 ...,   3.14700000e+06\n",
      "     2.11250000e+05   1.72000000e+04]]\n",
      "\n",
      " [[  2.49350000e+05   2.50550000e+05   2.51000000e+05 ...,   2.52050000e+05\n",
      "     2.52300000e+05   2.52200000e+05]\n",
      "  [  2.50550000e+05   2.51000000e+05   2.51400000e+05 ...,   2.52300000e+05\n",
      "     2.52200000e+05   1.93000000e+02]\n",
      "  [  2.51000000e+05   2.51400000e+05   2.51800000e+05 ...,   2.52200000e+05\n",
      "     1.93000000e+02   7.50000000e+05]\n",
      "  ..., \n",
      "  [  2.51800000e+05   2.51950000e+05   2.51950000e+05 ...,   7.50000000e+05\n",
      "     4.80300000e+04   3.11200000e+06]\n",
      "  [  2.51950000e+05   2.51950000e+05   2.52100000e+05 ...,   4.80300000e+04\n",
      "     3.11200000e+06   2.08500000e+05]\n",
      "  [  2.51950000e+05   2.52100000e+05   2.52350000e+05 ...,   3.11200000e+06\n",
      "     2.08500000e+05   1.68300000e+04]]]\n",
      "3\n"
     ]
    }
   ],
   "source": [
    "print(trv[0])\n",
    "print(len(trv[0])) # closing price, high price, low price"
   ]
  },
  {
   "cell_type": "code",
   "execution_count": 107,
   "metadata": {},
   "outputs": [
    {
     "name": "stdout",
     "output_type": "stream",
     "text": [
      "7\n",
      "[[  2.52250000e+05   2.51200000e+05   2.51750000e+05   2.51950000e+05\n",
      "    2.52100000e+05   2.52000000e+05   2.52200000e+05   2.52950000e+05\n",
      "    2.52500000e+05   2.52600000e+05   2.52350000e+05   2.52000000e+05\n",
      "    2.52050000e+05   2.51950000e+05   2.51400000e+05   2.50800000e+05\n",
      "    2.50900000e+05   2.51400000e+05   2.51500000e+05   2.51600000e+05\n",
      "    2.51850000e+05   2.52300000e+05   2.52050000e+05   2.51700000e+05\n",
      "    2.51750000e+05   2.51900000e+05   2.52150000e+05   2.51900000e+05\n",
      "    2.51850000e+05   2.51850000e+05   2.51600000e+05   2.51700000e+05\n",
      "    2.51550000e+05   2.51400000e+05   2.51250000e+05   2.51350000e+05\n",
      "    2.51500000e+05   2.51400000e+05   2.51650000e+05   2.51650000e+05\n",
      "    2.51600000e+05   2.51700000e+05   2.51900000e+05   2.51700000e+05\n",
      "    2.52300000e+05   2.52400000e+05   2.52050000e+05   2.52550000e+05\n",
      "    2.52300000e+05   2.52650000e+05]\n",
      " [  2.51200000e+05   2.51750000e+05   2.51950000e+05   2.52100000e+05\n",
      "    2.52000000e+05   2.52200000e+05   2.52950000e+05   2.52500000e+05\n",
      "    2.52600000e+05   2.52350000e+05   2.52000000e+05   2.52050000e+05\n",
      "    2.51950000e+05   2.51400000e+05   2.50800000e+05   2.50900000e+05\n",
      "    2.51400000e+05   2.51500000e+05   2.51600000e+05   2.51850000e+05\n",
      "    2.52300000e+05   2.52050000e+05   2.51700000e+05   2.51750000e+05\n",
      "    2.51900000e+05   2.52150000e+05   2.51900000e+05   2.51850000e+05\n",
      "    2.51850000e+05   2.51600000e+05   2.51700000e+05   2.51550000e+05\n",
      "    2.51400000e+05   2.51250000e+05   2.51350000e+05   2.51500000e+05\n",
      "    2.51400000e+05   2.51650000e+05   2.51650000e+05   2.51600000e+05\n",
      "    2.51700000e+05   2.51900000e+05   2.51700000e+05   2.52300000e+05\n",
      "    2.52400000e+05   2.52050000e+05   2.52550000e+05   2.52300000e+05\n",
      "    2.52650000e+05   1.95000000e+02]\n",
      " [  2.51750000e+05   2.51950000e+05   2.52100000e+05   2.52000000e+05\n",
      "    2.52200000e+05   2.52950000e+05   2.52500000e+05   2.52600000e+05\n",
      "    2.52350000e+05   2.52000000e+05   2.52050000e+05   2.51950000e+05\n",
      "    2.51400000e+05   2.50800000e+05   2.50900000e+05   2.51400000e+05\n",
      "    2.51500000e+05   2.51600000e+05   2.51850000e+05   2.52300000e+05\n",
      "    2.52050000e+05   2.51700000e+05   2.51750000e+05   2.51900000e+05\n",
      "    2.52150000e+05   2.51900000e+05   2.51850000e+05   2.51850000e+05\n",
      "    2.51600000e+05   2.51700000e+05   2.51550000e+05   2.51400000e+05\n",
      "    2.51250000e+05   2.51350000e+05   2.51500000e+05   2.51400000e+05\n",
      "    2.51650000e+05   2.51650000e+05   2.51600000e+05   2.51700000e+05\n",
      "    2.51900000e+05   2.51700000e+05   2.52300000e+05   2.52400000e+05\n",
      "    2.52050000e+05   2.52550000e+05   2.52300000e+05   2.52650000e+05\n",
      "    1.95000000e+02   8.60000000e+05]\n",
      " [  2.51950000e+05   2.52100000e+05   2.52000000e+05   2.52200000e+05\n",
      "    2.52950000e+05   2.52500000e+05   2.52600000e+05   2.52350000e+05\n",
      "    2.52000000e+05   2.52050000e+05   2.51950000e+05   2.51400000e+05\n",
      "    2.50800000e+05   2.50900000e+05   2.51400000e+05   2.51500000e+05\n",
      "    2.51600000e+05   2.51850000e+05   2.52300000e+05   2.52050000e+05\n",
      "    2.51700000e+05   2.51750000e+05   2.51900000e+05   2.52150000e+05\n",
      "    2.51900000e+05   2.51850000e+05   2.51850000e+05   2.51600000e+05\n",
      "    2.51700000e+05   2.51550000e+05   2.51400000e+05   2.51250000e+05\n",
      "    2.51350000e+05   2.51500000e+05   2.51400000e+05   2.51650000e+05\n",
      "    2.51650000e+05   2.51600000e+05   2.51700000e+05   2.51900000e+05\n",
      "    2.51700000e+05   2.52300000e+05   2.52400000e+05   2.52050000e+05\n",
      "    2.52550000e+05   2.52300000e+05   2.52650000e+05   1.95000000e+02\n",
      "    8.60000000e+05   4.82000000e+04]\n",
      " [  2.52100000e+05   2.52000000e+05   2.52200000e+05   2.52950000e+05\n",
      "    2.52500000e+05   2.52600000e+05   2.52350000e+05   2.52000000e+05\n",
      "    2.52050000e+05   2.51950000e+05   2.51400000e+05   2.50800000e+05\n",
      "    2.50900000e+05   2.51400000e+05   2.51500000e+05   2.51600000e+05\n",
      "    2.51850000e+05   2.52300000e+05   2.52050000e+05   2.51700000e+05\n",
      "    2.51750000e+05   2.51900000e+05   2.52150000e+05   2.51900000e+05\n",
      "    2.51850000e+05   2.51850000e+05   2.51600000e+05   2.51700000e+05\n",
      "    2.51550000e+05   2.51400000e+05   2.51250000e+05   2.51350000e+05\n",
      "    2.51500000e+05   2.51400000e+05   2.51650000e+05   2.51650000e+05\n",
      "    2.51600000e+05   2.51700000e+05   2.51900000e+05   2.51700000e+05\n",
      "    2.52300000e+05   2.52400000e+05   2.52050000e+05   2.52550000e+05\n",
      "    2.52300000e+05   2.52650000e+05   1.95000000e+02   8.60000000e+05\n",
      "    4.82000000e+04   3.14500000e+06]\n",
      " [  2.52000000e+05   2.52200000e+05   2.52950000e+05   2.52500000e+05\n",
      "    2.52600000e+05   2.52350000e+05   2.52000000e+05   2.52050000e+05\n",
      "    2.51950000e+05   2.51400000e+05   2.50800000e+05   2.50900000e+05\n",
      "    2.51400000e+05   2.51500000e+05   2.51600000e+05   2.51850000e+05\n",
      "    2.52300000e+05   2.52050000e+05   2.51700000e+05   2.51750000e+05\n",
      "    2.51900000e+05   2.52150000e+05   2.51900000e+05   2.51850000e+05\n",
      "    2.51850000e+05   2.51600000e+05   2.51700000e+05   2.51550000e+05\n",
      "    2.51400000e+05   2.51250000e+05   2.51350000e+05   2.51500000e+05\n",
      "    2.51400000e+05   2.51650000e+05   2.51650000e+05   2.51600000e+05\n",
      "    2.51700000e+05   2.51900000e+05   2.51700000e+05   2.52300000e+05\n",
      "    2.52400000e+05   2.52050000e+05   2.52550000e+05   2.52300000e+05\n",
      "    2.52650000e+05   1.95000000e+02   8.60000000e+05   4.82000000e+04\n",
      "    3.14500000e+06   2.11000000e+05]\n",
      " [  2.52200000e+05   2.52950000e+05   2.52500000e+05   2.52600000e+05\n",
      "    2.52350000e+05   2.52000000e+05   2.52050000e+05   2.51950000e+05\n",
      "    2.51400000e+05   2.50800000e+05   2.50900000e+05   2.51400000e+05\n",
      "    2.51500000e+05   2.51600000e+05   2.51850000e+05   2.52300000e+05\n",
      "    2.52050000e+05   2.51700000e+05   2.51750000e+05   2.51900000e+05\n",
      "    2.52150000e+05   2.51900000e+05   2.51850000e+05   2.51850000e+05\n",
      "    2.51600000e+05   2.51700000e+05   2.51550000e+05   2.51400000e+05\n",
      "    2.51250000e+05   2.51350000e+05   2.51500000e+05   2.51400000e+05\n",
      "    2.51650000e+05   2.51650000e+05   2.51600000e+05   2.51700000e+05\n",
      "    2.51900000e+05   2.51700000e+05   2.52300000e+05   2.52400000e+05\n",
      "    2.52050000e+05   2.52550000e+05   2.52300000e+05   2.52650000e+05\n",
      "    1.95000000e+02   8.60000000e+05   4.82000000e+04   3.14500000e+06\n",
      "    2.11000000e+05   1.69650000e+04]]\n"
     ]
    }
   ],
   "source": [
    "print(len(trv[0][0])) # 코인 개수\n",
    "print(trv[0][0])"
   ]
  },
  {
   "cell_type": "code",
   "execution_count": 108,
   "metadata": {},
   "outputs": [
    {
     "name": "stdout",
     "output_type": "stream",
     "text": [
      "50\n",
      "[ 252250.  251200.  251750.  251950.  252100.  252000.  252200.  252950.\n",
      "  252500.  252600.  252350.  252000.  252050.  251950.  251400.  250800.\n",
      "  250900.  251400.  251500.  251600.  251850.  252300.  252050.  251700.\n",
      "  251750.  251900.  252150.  251900.  251850.  251850.  251600.  251700.\n",
      "  251550.  251400.  251250.  251350.  251500.  251400.  251650.  251650.\n",
      "  251600.  251700.  251900.  251700.  252300.  252400.  252050.  252550.\n",
      "  252300.  252650.]\n"
     ]
    }
   ],
   "source": [
    "print(len(trv[0][0][0])) # 논문 \"n is the number of input periods before t\"\n",
    "print(trv[0][0][0])"
   ]
  },
  {
   "cell_type": "code",
   "execution_count": null,
   "metadata": {},
   "outputs": [],
   "source": []
  }
 ],
 "metadata": {
  "kernelspec": {
   "display_name": "Python 3",
   "language": "python",
   "name": "python3"
  },
  "language_info": {
   "codemirror_mode": {
    "name": "ipython",
    "version": 3
   },
   "file_extension": ".py",
   "mimetype": "text/x-python",
   "name": "python",
   "nbconvert_exporter": "python",
   "pygments_lexer": "ipython3",
   "version": "3.6.3"
  }
 },
 "nbformat": 4,
 "nbformat_minor": 2
}
