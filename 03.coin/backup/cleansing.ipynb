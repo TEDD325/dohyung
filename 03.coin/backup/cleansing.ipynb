{
 "cells": [
  {
   "cell_type": "code",
   "execution_count": 1,
   "metadata": {
    "collapsed": true
   },
   "outputs": [],
   "source": [
    "import csv\n",
    "import os\n",
    "import time\n",
    "import datetime\n",
    "import copy"
   ]
  },
  {
   "cell_type": "code",
   "execution_count": 7,
   "metadata": {
    "collapsed": true
   },
   "outputs": [],
   "source": [
    "user_dir_path = \"/Users/dohk/GoogleDrive/Bithumb_Data_Collector/\"\n",
    "saved_file_name = \"coin_{0}.csv\"\n",
    "save_file_name = \"coin_{0}_cleanup.csv\"\n",
    "save_missing_index_file_name = \"coin_{0}_when_missed.csv\"\n",
    "coin_list = ['BTC']\n",
    "window_size_for_find_start_point = 10\n",
    "all_data_list = dict() #전체 데이터\n",
    "for coin in coin_list:\n",
    "    all_data_list[coin] = list()"
   ]
  },
  {
   "cell_type": "code",
   "execution_count": 20,
   "metadata": {
    "collapsed": true
   },
   "outputs": [],
   "source": [
    "def openAllDataList(coin):\n",
    "    global all_data_list\n",
    "    f = open(saved_file_name.format(coin), 'r', encoding='utf-8')\n",
    "    rdr = csv.reader(f)\n",
    "    for line in rdr:\n",
    "        all_data_list[coin].append(line)\n",
    "    f.close()"
   ]
  },
  {
   "cell_type": "code",
   "execution_count": 21,
   "metadata": {
    "collapsed": true
   },
   "outputs": [],
   "source": [
    "def findStartIndex(coin, data_list):\n",
    "    for row_index, row in enumerate(data_list[0:-(window_size_for_find_start_point-1)]):\n",
    "        finder = 0\n",
    "        for window_index in range(window_size_for_find_start_point):\n",
    "            if True in [True for i in range(4) if data_list[row_index+window_index][2+i] == '0']:\n",
    "                break\n",
    "            else:\n",
    "                finder = finder + 1\n",
    "        if finder == window_size_for_find_start_point:\n",
    "            return row_index\n",
    "    return False"
   ]
  },
  {
   "cell_type": "code",
   "execution_count": 22,
   "metadata": {},
   "outputs": [
    {
     "ename": "FileNotFoundError",
     "evalue": "[Errno 2] No such file or directory: 'coin_BTC.csv'",
     "output_type": "error",
     "traceback": [
      "\u001b[0;31m---------------------------------------------------------------------------\u001b[0m",
      "\u001b[0;31mFileNotFoundError\u001b[0m                         Traceback (most recent call last)",
      "\u001b[0;32m<ipython-input-22-88ac42a94dd6>\u001b[0m in \u001b[0;36m<module>\u001b[0;34m()\u001b[0m\n\u001b[1;32m      3\u001b[0m         \u001b[0mdelete_file_flag\u001b[0m \u001b[0;34m=\u001b[0m \u001b[0;32mFalse\u001b[0m\u001b[0;34m\u001b[0m\u001b[0m\n\u001b[1;32m      4\u001b[0m         \u001b[0;32mif\u001b[0m \u001b[0mos\u001b[0m\u001b[0;34m.\u001b[0m\u001b[0mpath\u001b[0m\u001b[0;34m.\u001b[0m\u001b[0mexists\u001b[0m\u001b[0;34m(\u001b[0m\u001b[0muser_dir_path\u001b[0m \u001b[0;34m+\u001b[0m \u001b[0msaved_file_name\u001b[0m\u001b[0;34m.\u001b[0m\u001b[0mformat\u001b[0m\u001b[0;34m(\u001b[0m\u001b[0mcoin\u001b[0m\u001b[0;34m)\u001b[0m\u001b[0;34m)\u001b[0m\u001b[0;34m:\u001b[0m\u001b[0;34m\u001b[0m\u001b[0m\n\u001b[0;32m----> 5\u001b[0;31m             \u001b[0mopenAllDataList\u001b[0m\u001b[0;34m(\u001b[0m\u001b[0mcoin\u001b[0m\u001b[0;34m)\u001b[0m\u001b[0;34m\u001b[0m\u001b[0m\n\u001b[0m\u001b[1;32m      6\u001b[0m         \u001b[0;32mif\u001b[0m \u001b[0mlen\u001b[0m\u001b[0;34m(\u001b[0m\u001b[0mall_data_list\u001b[0m\u001b[0;34m[\u001b[0m\u001b[0mcoin\u001b[0m\u001b[0;34m]\u001b[0m\u001b[0;34m)\u001b[0m \u001b[0;34m==\u001b[0m \u001b[0;36m0\u001b[0m\u001b[0;34m:\u001b[0m\u001b[0;34m\u001b[0m\u001b[0m\n\u001b[1;32m      7\u001b[0m             \u001b[0mprint\u001b[0m\u001b[0;34m(\u001b[0m\u001b[0mcoin\u001b[0m \u001b[0;34m+\u001b[0m \u001b[0;34m\" could not make a coin's graph data list.\"\u001b[0m\u001b[0;34m)\u001b[0m\u001b[0;34m\u001b[0m\u001b[0m\n",
      "\u001b[0;32m<ipython-input-20-b136cc793f60>\u001b[0m in \u001b[0;36mopenAllDataList\u001b[0;34m(coin)\u001b[0m\n\u001b[1;32m      1\u001b[0m \u001b[0;32mdef\u001b[0m \u001b[0mopenAllDataList\u001b[0m\u001b[0;34m(\u001b[0m\u001b[0mcoin\u001b[0m\u001b[0;34m)\u001b[0m\u001b[0;34m:\u001b[0m\u001b[0;34m\u001b[0m\u001b[0m\n\u001b[1;32m      2\u001b[0m     \u001b[0;32mglobal\u001b[0m \u001b[0mall_data_list\u001b[0m\u001b[0;34m\u001b[0m\u001b[0m\n\u001b[0;32m----> 3\u001b[0;31m     \u001b[0mf\u001b[0m \u001b[0;34m=\u001b[0m \u001b[0mopen\u001b[0m\u001b[0;34m(\u001b[0m\u001b[0msaved_file_name\u001b[0m\u001b[0;34m.\u001b[0m\u001b[0mformat\u001b[0m\u001b[0;34m(\u001b[0m\u001b[0mcoin\u001b[0m\u001b[0;34m)\u001b[0m\u001b[0;34m,\u001b[0m \u001b[0;34m'r'\u001b[0m\u001b[0;34m,\u001b[0m \u001b[0mencoding\u001b[0m\u001b[0;34m=\u001b[0m\u001b[0;34m'utf-8'\u001b[0m\u001b[0;34m)\u001b[0m\u001b[0;34m\u001b[0m\u001b[0m\n\u001b[0m\u001b[1;32m      4\u001b[0m     \u001b[0mrdr\u001b[0m \u001b[0;34m=\u001b[0m \u001b[0mcsv\u001b[0m\u001b[0;34m.\u001b[0m\u001b[0mreader\u001b[0m\u001b[0;34m(\u001b[0m\u001b[0mf\u001b[0m\u001b[0;34m)\u001b[0m\u001b[0;34m\u001b[0m\u001b[0m\n\u001b[1;32m      5\u001b[0m     \u001b[0;32mfor\u001b[0m \u001b[0mline\u001b[0m \u001b[0;32min\u001b[0m \u001b[0mrdr\u001b[0m\u001b[0;34m:\u001b[0m\u001b[0;34m\u001b[0m\u001b[0m\n",
      "\u001b[0;31mFileNotFoundError\u001b[0m: [Errno 2] No such file or directory: 'coin_BTC.csv'"
     ]
    }
   ],
   "source": [
    "if __name__ == \"__main__\":\n",
    "    for coin in coin_list:\n",
    "        delete_file_flag = False\n",
    "        if os.path.exists(user_dir_path + saved_file_name.format(coin)):\n",
    "            openAllDataList(coin)\n",
    "        if len(all_data_list[coin]) == 0:\n",
    "            print(coin + \" could not make a coin's graph data list.\")\n",
    "            continue\n",
    "            \n",
    "        start_index = findStartIndex(coin, all_data_list[coin])\n",
    "        if start_index is False:\n",
    "            print(coin + \" can't find start point\")\n",
    "            break\n",
    "        start_time = int(all_data_list[coin][start_index][0])\n",
    "        f = open(save_file_name.format(coin), 'w', encoding='utf-8')\n",
    "        f_m = open(save_missing_index_file_name.format(coin), 'w', encoding='utf-8')\n",
    "        wr = csv.writer(f)\n",
    "        wr_m = csv.writer(f_m)\n",
    "        data_list_iterator = iter(all_data_list[coin][start_index:])\n",
    "        ms_time = start_time\n",
    "        row = next(data_list_iterator)\n",
    "        temp_row = list()\n",
    "        while True:\n",
    "            if row is None:\n",
    "                break\n",
    "            time_adjustment_flag = False\n",
    "            #Time adjustment\n",
    "            if not(ms_time == int(row[0])) and ms_time - 300000 < int(row[0]) < ms_time + 300000:\n",
    "                row[0] = str(ms_time)\n",
    "                row[1] = datetime.datetime.fromtimestamp(int(ms_time/1000)).strftime('%Y-%m-%d %H:%M:%S')\n",
    "                time_adjustment_flag = True\n",
    "            if not(ms_time == int(row[0])) and ms_time - 300000 > int(row[0]):\n",
    "                row = next(data_list_iterator, None)\n",
    "                continue\n",
    "            #Zero data\n",
    "            if ms_time == int(row[0]) and True in [True for i in range(4) if row[2+i] == '0']:\n",
    "                zero_row = copy.deepcopy(temp_row)\n",
    "                zero_row[0] = str(ms_time)\n",
    "                zero_row[1] = datetime.datetime.fromtimestamp(int(ms_time/1000)).strftime('%Y-%m-%d %H:%M:%S')\n",
    "                if time_adjustment_flag:\n",
    "                    zero_row.append('adjustment+zero')\n",
    "                else:\n",
    "                    zero_row.append('zero')\n",
    "                wr.writerow(zero_row)\n",
    "                wr_m.writerow([ms_time, datetime.datetime.fromtimestamp(int(ms_time/1000)).strftime('%Y-%m-%d %H:%M:%S')])\n",
    "                temp_row = copy.deepcopy(zero_row[:-1])\n",
    "                row = next(data_list_iterator, None)\n",
    "            #Normal data\n",
    "            elif ms_time == int(row[0]) and [True for i in range(4) if row[2+i] == '0'] == []:\n",
    "                normal_row = copy.deepcopy(row)\n",
    "                if time_adjustment_flag:\n",
    "                    normal_row.append('adjustment')\n",
    "                else:\n",
    "                    normal_row.append('normal')\n",
    "                wr.writerow(normal_row)\n",
    "                temp_row = copy.deepcopy(row)\n",
    "                row = next(data_list_iterator, None)\n",
    "            #No data\n",
    "            elif ms_time < int(row[0]):\n",
    "                nodata_row = copy.deepcopy(temp_row)\n",
    "                nodata_row[0] = str(ms_time)\n",
    "                nodata_row[1] = datetime.datetime.fromtimestamp(int(ms_time/1000)).strftime('%Y-%m-%d %H:%M:%S')\n",
    "                nodata_row.append('nodata')\n",
    "                wr.writerow(nodata_row)\n",
    "                wr_m.writerow([ms_time, datetime.datetime.fromtimestamp(int(ms_time/1000)).strftime('%Y-%m-%d %H:%M:%S')])\n",
    "                temp_row = copy.deepcopy(nodata_row[:-1])\n",
    "            elif ms_time > int(row[0]) + 300000:\n",
    "                row = next(data_list_iterator, None)\n",
    "            else:\n",
    "                print(coin + \" can't clean up.\")\n",
    "                delete_file_flag = True\n",
    "                print(row)\n",
    "                print(temp_row)\n",
    "                print(ms_time)\n",
    "                break\n",
    "            ms_time = ms_time + 600000\n",
    "        f.close()\n",
    "        f_m.close()\n",
    "        if delete_file_flag:\n",
    "            os.remove(save_file_name.format(coin))\n",
    "            os.remove(save_missing_index_file_name.format(coin))"
   ]
  },
  {
   "cell_type": "code",
   "execution_count": null,
   "metadata": {
    "collapsed": true
   },
   "outputs": [],
   "source": []
  }
 ],
 "metadata": {
  "kernelspec": {
   "display_name": "Python 3",
   "language": "python",
   "name": "python3"
  },
  "language_info": {
   "codemirror_mode": {
    "name": "ipython",
    "version": 3
   },
   "file_extension": ".py",
   "mimetype": "text/x-python",
   "name": "python",
   "nbconvert_exporter": "python",
   "pygments_lexer": "ipython3",
   "version": "3.6.3"
  }
 },
 "nbformat": 4,
 "nbformat_minor": 2
}
