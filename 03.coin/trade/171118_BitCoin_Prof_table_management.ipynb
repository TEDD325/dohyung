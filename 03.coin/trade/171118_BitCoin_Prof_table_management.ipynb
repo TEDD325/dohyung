{
 "cells": [
  {
   "cell_type": "markdown",
   "metadata": {},
   "source": [
    "데이터베이스 테이블 만드는 코드"
   ]
  },
  {
   "cell_type": "code",
   "execution_count": null,
   "metadata": {
    "collapsed": true
   },
   "outputs": [],
   "source": [
    "import pymysql\n",
    "from dbConfig import *\n",
    "\n",
    "coin_name_list = ['BTC', 'ETH', 'DASH', 'LTC', 'ETC', 'XRP', 'BCH', 'XMR', 'ZEC']  # 9개 (QTUM 제외)\n",
    "# coin_name_list = ['ETH', 'DASH', 'LTC', 'ETC', 'XRP', 'BCH', 'XMR', 'ZEC'] # 8개\n",
    "\n",
    "create_table_sql = \"CREATE TABLE `TRADE_{0:s}` (`id` int(32) NOT NULL AUTO_INCREMENT, \" + \\\n",
    "                    \"`date` datetime NOT NULL, \" +\\\n",
    "                    \"`price` float NOT NULL, \" +\\\n",
    "                    \"`amount` float NOT NULL, \" +\\\n",
    "                    \"`total` float NOT NULL, \" +\\\n",
    "                    \"`type` char(8) NOT NULL, \" +\\\n",
    "                    \"`exchange` char(8) NOT NULL, \" + \\\n",
    "                    \"`trade_id` varchar(255) DEFAULT NULL, \" + \\\n",
    "                    \"PRIMARY KEY (`id`), \" +\\\n",
    "                    \"UNIQUE KEY `trade_{0:s}_id_unique` (`id`), \" +\\\n",
    "                    \"UNIQUE KEY `trade_{0:s}_trade_id_unique` (`trade_id`), \" + \\\n",
    "                    \"KEY `trade_{0:s}_id_index` (`id`) USING BTREE, \" + \\\n",
    "                    \"KEY `trade_{0:s}_trade_id_index` (`trade_id`) USING BTREE, \" + \\\n",
    "                    \"KEY `trade_{0:s}_data_index` (`date`) USING BTREE, \" + \\\n",
    "                    \"KEY `trade_{0:s}_price_index` (`price`) USING BTREE, \" + \\\n",
    "                    \"KEY `trade_{0:s}_amount_index` (`amount`) USING BTREE, \" + \\\n",
    "                    \"KEY `trade_{0:s}_total_index` (`total`) USING BTREE, \" + \\\n",
    "                    \"KEY `trade_{0:s}_type_index` (`type`) USING BTREE, \" + \\\n",
    "                    \"KEY `trade_{0:s}_exchange_index` (`exchange`) USING BTREE \" + \\\n",
    "                    \") ENGINE=InnoDB DEFAULT CHARSET=utf8;\"\n",
    "\n",
    "conn = pymysql.connect(host=dbURL, port=dbPort, user=dbUser, passwd=dbPass, db=dbName, charset='utf8mb4', use_unicode=True)\n",
    "\n",
    "cursor = conn.cursor()\n",
    "\n",
    "for coin_name in coin_name_list:\n",
    "    cursor.execute(create_table_sql.format(coin_name))\n",
    "    print(\"{:s} - TABLE CREATED SECCESSFULLY\".format(\"TRADE_\" + coin_name))"
   ]
  }
 ],
 "metadata": {
  "kernelspec": {
   "display_name": "Python 3",
   "language": "python",
   "name": "python3"
  },
  "language_info": {
   "codemirror_mode": {
    "name": "ipython",
    "version": 3
   },
   "file_extension": ".py",
   "mimetype": "text/x-python",
   "name": "python",
   "nbconvert_exporter": "python",
   "pygments_lexer": "ipython3",
   "version": "3.6.1"
  }
 },
 "nbformat": 4,
 "nbformat_minor": 2
}
