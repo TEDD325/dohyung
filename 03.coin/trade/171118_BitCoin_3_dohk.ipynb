{
 "cells": [
  {
   "cell_type": "markdown",
   "metadata": {},
   "source": [
    "특정 비트코인 transaction 정보를 1초마다 한 번씩 확인해서 크롤링<br>\n",
    "새로운 데이터일 경우에만 추가"
   ]
  },
  {
   "cell_type": "code",
   "execution_count": 1,
   "metadata": {
    "collapsed": true
   },
   "outputs": [],
   "source": [
    "import urllib.request\n",
    "import json\n",
    "import time\n",
    "import pymysql\n",
    "import dbConfig\n",
    "import time\n",
    "from dbConfig import *"
   ]
  },
  {
   "cell_type": "code",
   "execution_count": 2,
   "metadata": {
    "collapsed": true
   },
   "outputs": [],
   "source": [
    "def crawlingData(coinType, into_database_list):\n",
    "    into_database_dict = {}\n",
    "    transactionData_p = []\n",
    "    transactionData_b = []\n",
    "    checkData_p = ''\n",
    "    checkUnit_p = ''\n",
    "    checkprice_p = ''\n",
    "    checkType_p = ''\n",
    "    checkData_b = ''\n",
    "    checkUnit_b = ''\n",
    "    checkprice_b = ''\n",
    "    checkType_b = ''\n",
    "    \n",
    "    url_p = 'https://poloniex.com/public?command=returnTradeHistory&currencyPair=BTC_'+coinType+'&limit=1'\n",
    "    urlTicker_poloniex = urllib.request.urlopen(url_p)\n",
    "    readTicker_poloniex = urlTicker_poloniex.read()\n",
    "    t_poloniex = json.loads(readTicker_poloniex)\n",
    "    checkData_p = t_poloniex[0]['date']\n",
    "    checkUnit_p = t_poloniex[0]['amount']\n",
    "    checkprice_p = t_poloniex[0]['rate']\n",
    "    \n",
    "    url_b = 'https://api.bithumb.com/public/recent_transactions/'+coinType+'?count=1'\n",
    "    urlTicker_bithumb = urllib.request.urlopen(url_b)\n",
    "    readTicker_bithumb = urlTicker_bithumb.read()\n",
    "    t_bithumb = json.loads(readTicker_bithumb)\n",
    "    checkData_b = t_bithumb['data'][0]['transaction_date']\n",
    "    checkUnit_b = t_bithumb['data'][0]['units_traded']\n",
    "    checkprice_b = t_bithumb['data'][0]['price']\n",
    "    \n",
    "    while(True):\n",
    "        time.sleep(1)\n",
    "\n",
    "        url_p = 'https://poloniex.com/public?command=returnTradeHistory&currencyPair=BTC_'+coinType+'&limit=1'\n",
    "        urlTicker_poloniex = urllib.request.urlopen(url_p)\n",
    "        readTicker_poloniex = urlTicker_poloniex.read()\n",
    "        t_poloniex = json.loads(readTicker_poloniex)\n",
    "        transactionData_p.append(t_poloniex)\n",
    "        if (transactionData_p[len(transactionData_p)-1][0]['date'] != checkData_p\n",
    "                or transactionData_p[len(transactionData_p)-1][0]['amount'] != checkUnit_p  \n",
    "                or transactionData_p[len(transactionData_p)-1][0]['rate'] != checkprice_p\n",
    "                or transactionData_p[len(transactionData_p)-1][0]['type'] != checkType_p):\n",
    "            print(\"Poloneix--\", t_poloniex, end=\"\\n\\n\")\n",
    "            checkData_p = t_poloniex[0]['date']\n",
    "            checkUnit_p = t_poloniex[0]['amount']\n",
    "            checkprice_p = t_poloniex[0]['rate']\n",
    "            checkType_p = t_poloniex[0]['type']\n",
    "            into_database_dict = {}\n",
    "            into_database_dict['globalTradeID'] = t_poloniex[0]['globalTradeID']\n",
    "            into_database_dict['date'] = t_poloniex[0]['date']\n",
    "            if t_poloniex[0]['type'] == 'sell':\n",
    "                into_database_dict['type'] = 'ask'\n",
    "            elif t_poloniex[0]['date'] == 'buy':\n",
    "                into_database_dict['type'] = 'bid'\n",
    "            #into_database_dict['type'] = t_poloniex[0]['type']\n",
    "            into_database_dict['rate'] = float(t_poloniex[0]['rate'])\n",
    "            into_database_dict['amount'] = float(t_poloniex[0]['amount'])\n",
    "            into_database_dict['total'] = float(t_poloniex[0]['total'])\n",
    "            into_database_dict['exchange'] = 'pol'\n",
    "            into_database_list.append(into_database_dict)\n",
    "            \n",
    "            \n",
    "        url_b = 'https://api.bithumb.com/public/recent_transactions/'+coinType+'?count=1'\n",
    "        urlTicker_bithumb = urllib.request.urlopen(url_b)\n",
    "        readTicker_bithumb = urlTicker_bithumb.read()\n",
    "        t_bithumb = json.loads(readTicker_bithumb)\n",
    "        transactionData_b.append(t_bithumb)\n",
    "        if (transactionData_b[len(transactionData_b)-1]['data'][0]['transaction_date'] != checkData_b\n",
    "                or transactionData_b[len(transactionData_b)-1]['data'][0]['units_traded'] != checkUnit_b\n",
    "                or transactionData_b[len(transactionData_b)-1]['data'][0]['price'] != checkprice_b\n",
    "                or transactionData_b[len(transactionData_b)-1]['data'][0]['type'] != checkType_b):\n",
    "            print(\"Bithumb--\", t_bithumb, end=\"\\n\\n\")\n",
    "            checkData_b = t_bithumb['data'][0]['transaction_date']\n",
    "            checkUnit_b = t_bithumb['data'][0]['units_traded']\n",
    "            checkprice_b = t_bithumb['data'][0]['price']\n",
    "            checkType_b = t_bithumb['data'][0]['type']\n",
    "            into_database_dict = {}\n",
    "            into_database_dict['globalTradeID'] = int(time.time()) # None\n",
    "            into_database_dict['date'] = t_bithumb['data'][0]['transaction_date']\n",
    "            into_database_dict['type'] = t_bithumb['data'][0]['type']\n",
    "            into_database_dict['rate'] = float(t_bithumb['data'][0]['price'])\n",
    "            into_database_dict['amount'] = float(t_bithumb['data'][0]['units_traded'])\n",
    "            into_database_dict['total'] = float(t_bithumb['data'][0]['total'])\n",
    "            into_database_dict['exchange'] ='bit'\n",
    "            into_database_list.append(into_database_dict)\n",
    "            "
   ]
  },
  {
   "cell_type": "code",
   "execution_count": 4,
   "metadata": {},
   "outputs": [
    {
     "ename": "KeyboardInterrupt",
     "evalue": "",
     "output_type": "error",
     "traceback": [
      "\u001b[0;31m---------------------------------------------------------------------------\u001b[0m",
      "\u001b[0;31mKeyboardInterrupt\u001b[0m                         Traceback (most recent call last)",
      "\u001b[0;32m<ipython-input-4-91bf6ffe8b15>\u001b[0m in \u001b[0;36m<module>\u001b[0;34m()\u001b[0m\n\u001b[1;32m      1\u001b[0m \u001b[0mcoinType\u001b[0m \u001b[0;34m=\u001b[0m \u001b[0;34m[\u001b[0m\u001b[0;34m'ETH'\u001b[0m\u001b[0;34m,\u001b[0m \u001b[0;34m'DASH'\u001b[0m\u001b[0;34m,\u001b[0m \u001b[0;34m'LTC'\u001b[0m\u001b[0;34m,\u001b[0m \u001b[0;34m'ETC'\u001b[0m\u001b[0;34m,\u001b[0m \u001b[0;34m'XRP'\u001b[0m\u001b[0;34m,\u001b[0m \u001b[0;34m'BCH'\u001b[0m\u001b[0;34m,\u001b[0m \u001b[0;34m'XMR'\u001b[0m\u001b[0;34m,\u001b[0m \u001b[0;34m'ZEC'\u001b[0m\u001b[0;34m]\u001b[0m\u001b[0;34m\u001b[0m\u001b[0m\n\u001b[1;32m      2\u001b[0m \u001b[0minto_database_list\u001b[0m \u001b[0;34m=\u001b[0m \u001b[0;34m[\u001b[0m\u001b[0;34m]\u001b[0m\u001b[0;34m\u001b[0m\u001b[0m\n\u001b[0;32m----> 3\u001b[0;31m \u001b[0mcrawlingData\u001b[0m\u001b[0;34m(\u001b[0m\u001b[0mcoinType\u001b[0m\u001b[0;34m[\u001b[0m\u001b[0;36m3\u001b[0m\u001b[0;34m]\u001b[0m\u001b[0;34m,\u001b[0m \u001b[0minto_database_list\u001b[0m\u001b[0;34m)\u001b[0m\u001b[0;34m\u001b[0m\u001b[0m\n\u001b[0m",
      "\u001b[0;32m<ipython-input-2-085a756d24af>\u001b[0m in \u001b[0;36mcrawlingData\u001b[0;34m(coinType, into_database_list)\u001b[0m\n\u001b[1;32m     29\u001b[0m \u001b[0;34m\u001b[0m\u001b[0m\n\u001b[1;32m     30\u001b[0m     \u001b[0;32mwhile\u001b[0m\u001b[0;34m(\u001b[0m\u001b[0;32mTrue\u001b[0m\u001b[0;34m)\u001b[0m\u001b[0;34m:\u001b[0m\u001b[0;34m\u001b[0m\u001b[0m\n\u001b[0;32m---> 31\u001b[0;31m         \u001b[0mtime\u001b[0m\u001b[0;34m.\u001b[0m\u001b[0msleep\u001b[0m\u001b[0;34m(\u001b[0m\u001b[0;36m1\u001b[0m\u001b[0;34m)\u001b[0m\u001b[0;34m\u001b[0m\u001b[0m\n\u001b[0m\u001b[1;32m     32\u001b[0m \u001b[0;34m\u001b[0m\u001b[0m\n\u001b[1;32m     33\u001b[0m         \u001b[0murl_p\u001b[0m \u001b[0;34m=\u001b[0m \u001b[0;34m'https://poloniex.com/public?command=returnTradeHistory&currencyPair=BTC_'\u001b[0m\u001b[0;34m+\u001b[0m\u001b[0mcoinType\u001b[0m\u001b[0;34m+\u001b[0m\u001b[0;34m'&limit=1'\u001b[0m\u001b[0;34m\u001b[0m\u001b[0m\n",
      "\u001b[0;31mKeyboardInterrupt\u001b[0m: "
     ]
    }
   ],
   "source": [
    "coinType = ['ETH', 'DASH', 'LTC', 'ETC', 'XRP', 'BCH', 'XMR', 'ZEC']\n",
    "into_database_list = []\n",
    "crawlingData(coinType[3], into_database_list)"
   ]
  },
  {
   "cell_type": "code",
   "execution_count": null,
   "metadata": {
    "collapsed": true
   },
   "outputs": [],
   "source": []
  }
 ],
 "metadata": {
  "kernelspec": {
   "display_name": "Python 3",
   "language": "python",
   "name": "python3"
  },
  "language_info": {
   "codemirror_mode": {
    "name": "ipython",
    "version": 3
   },
   "file_extension": ".py",
   "mimetype": "text/x-python",
   "name": "python",
   "nbconvert_exporter": "python",
   "pygments_lexer": "ipython3",
   "version": "3.6.1"
  }
 },
 "nbformat": 4,
 "nbformat_minor": 2
}
