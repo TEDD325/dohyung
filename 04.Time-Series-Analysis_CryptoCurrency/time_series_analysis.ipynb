{
 "cells": [
  {
   "cell_type": "code",
   "execution_count": 1,
   "metadata": {},
   "outputs": [
    {
     "name": "stderr",
     "output_type": "stream",
     "text": [
      "/anaconda3/lib/python3.6/site-packages/h5py/__init__.py:36: FutureWarning: Conversion of the second argument of issubdtype from `float` to `np.floating` is deprecated. In future, it will be treated as `np.float64 == np.dtype(float).type`.\n",
      "  from ._conv import register_converters as _register_converters\n",
      "Using TensorFlow backend.\n",
      "/anaconda3/lib/python3.6/importlib/_bootstrap.py:219: RuntimeWarning: compiletime version 3.5 of module 'tensorflow.python.framework.fast_tensor_util' does not match runtime version 3.6\n",
      "  return f(*args, **kwds)\n"
     ]
    }
   ],
   "source": [
    "import numpy as np\n",
    "from keras.models import Sequential\n",
    "from keras.layers import Dense\n",
    "from keras.layers import LSTM\n",
    "\n",
    "time_points = np.linspace(0, 8*np.pi, 8000)\n",
    "\n",
    "seq_length = 5\n",
    "dataX = []\n",
    "dataY = []\n",
    "for i in range(0, len(time_points) - seq_length, 1):\n",
    "    seq_in = np.sin(time_points)[i:i + seq_length]\n",
    "    seq_out = np.cos(time_points)[i]\n",
    "    dataX.append([seq_in])\n",
    "    dataY.append(seq_out)\n",
    "\n",
    "X = np.reshape(dataX, (len(dataX), seq_length, 1)) #numpy as np\n",
    "y = np.reshape(dataY, (len(dataY), 1))"
   ]
  },
  {
   "cell_type": "code",
   "execution_count": 2,
   "metadata": {},
   "outputs": [
    {
     "name": "stdout",
     "output_type": "stream",
     "text": [
      "Train on 4200 samples, validate on 1800 samples\n",
      "Epoch 1/20\n",
      " - 4s - loss: 0.5163 - val_loss: 0.4668\n",
      "Epoch 2/20\n",
      " - 3s - loss: 0.5146 - val_loss: 0.4768\n",
      "Epoch 3/20\n",
      " - 3s - loss: 0.5145 - val_loss: 0.4854\n",
      "Epoch 4/20\n",
      " - 3s - loss: 0.5145 - val_loss: 0.4785\n",
      "Epoch 5/20\n",
      " - 3s - loss: 0.5140 - val_loss: 0.4828\n",
      "Epoch 6/20\n",
      " - 3s - loss: 0.5141 - val_loss: 0.4804\n",
      "Epoch 7/20\n",
      " - 3s - loss: 0.5137 - val_loss: 0.4768\n",
      "Epoch 8/20\n",
      " - 3s - loss: 0.5135 - val_loss: 0.4818\n",
      "Epoch 9/20\n",
      " - 3s - loss: 0.5128 - val_loss: 0.4900\n",
      "Epoch 10/20\n",
      " - 3s - loss: 0.5133 - val_loss: 0.4779\n",
      "Epoch 11/20\n",
      " - 3s - loss: 0.5133 - val_loss: 0.4853\n",
      "Epoch 12/20\n",
      " - 3s - loss: 0.5131 - val_loss: 0.4856\n",
      "Epoch 13/20\n",
      " - 3s - loss: 0.5128 - val_loss: 0.4858\n",
      "Epoch 14/20\n",
      " - 3s - loss: 0.5126 - val_loss: 0.4839\n",
      "Epoch 15/20\n",
      " - 3s - loss: 0.5125 - val_loss: 0.4913\n",
      "Epoch 16/20\n",
      " - 3s - loss: 0.5120 - val_loss: 0.4909\n",
      "Epoch 17/20\n",
      " - 3s - loss: 0.5116 - val_loss: 0.4937\n",
      "Epoch 18/20\n",
      " - 3s - loss: 0.5116 - val_loss: 0.4851\n",
      "Epoch 19/20\n",
      " - 3s - loss: 0.5112 - val_loss: 0.4869\n",
      "Epoch 20/20\n",
      " - 3s - loss: 0.5110 - val_loss: 0.4900\n"
     ]
    },
    {
     "data": {
      "text/plain": [
       "<keras.callbacks.History at 0xb18463d68>"
      ]
     },
     "execution_count": 2,
     "metadata": {},
     "output_type": "execute_result"
    }
   ],
   "source": [
    "model = Sequential()\n",
    "model.add(LSTM(16, input_shape=(X.shape[1], X.shape[2])))\n",
    "\n",
    "\n",
    "model.add(Dense(y.shape[1], activation='linear'))\n",
    "model.compile(loss='mean_squared_error', optimizer='adam')\n",
    "model.fit(X[:6000], y[:6000], epochs=20, batch_size=10, verbose=2, validation_split=0.3)"
   ]
  },
  {
   "cell_type": "code",
   "execution_count": null,
   "metadata": {},
   "outputs": [],
   "source": []
  }
 ],
 "metadata": {
  "kernelspec": {
   "display_name": "Python 3",
   "language": "python",
   "name": "python3"
  },
  "language_info": {
   "codemirror_mode": {
    "name": "ipython",
    "version": 3
   },
   "file_extension": ".py",
   "mimetype": "text/x-python",
   "name": "python",
   "nbconvert_exporter": "python",
   "pygments_lexer": "ipython3",
   "version": "3.6.5"
  }
 },
 "nbformat": 4,
 "nbformat_minor": 2
}
