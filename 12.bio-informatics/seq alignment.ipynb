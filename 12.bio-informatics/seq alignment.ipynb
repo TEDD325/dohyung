{
 "cells": [
  {
   "cell_type": "markdown",
   "metadata": {},
   "source": [
    "# Sequence Alignment python 구현"
   ]
  },
  {
   "cell_type": "code",
   "execution_count": 116,
   "metadata": {},
   "outputs": [
    {
     "name": "stdout",
     "output_type": "stream",
     "text": [
      "{'match': 8, 'mismatch': -5, 'gap': -3}\n"
     ]
    }
   ],
   "source": [
    "# 각 case에 대한 점수를 전역변수로 만듭니다.\n",
    "score_rule_dict = {}\n",
    "score_rule_dict[\"match\"] = 8\n",
    "score_rule_dict[\"mismatch\"] = -5\n",
    "score_rule_dict[\"gap\"] = -3\n",
    "print(score_rule_dict)"
   ]
  },
  {
   "cell_type": "code",
   "execution_count": 117,
   "metadata": {},
   "outputs": [
    {
     "name": "stdout",
     "output_type": "stream",
     "text": [
      "seq_a:  ['X', 'C', 'A', 'A', 'T', 'T', 'G', 'A']\n",
      "seq_b:  ['X', 'G', 'A', 'A', 'T', 'C', 'T', 'G', 'C']\n"
     ]
    }
   ],
   "source": [
    "# 예제에서 배웠던 sequence를 그대로 사용했으며, 비어있는 칸은 문자 X로 치환했습니다.\n",
    "seq_a = [\"X\", \"C\", \"A\", \"A\", \"T\", \"T\", \"G\", \"A\"]\n",
    "seq_b = [\"X\", \"G\", \"A\", \"A\", \"T\", \"C\", \"T\", \"G\", \"C\"]\n",
    "print(\"seq_a: \", seq_a)\n",
    "print(\"seq_b: \", seq_b)"
   ]
  },
  {
   "cell_type": "code",
   "execution_count": 96,
   "metadata": {},
   "outputs": [],
   "source": [
    "'''\n",
    "염기 정보 한 글자를 받아서 상호 비교하는 함수입니다.\n",
    "추후, 결과에 대한 분석과 디버깅을 위해 print문을 넣었으며, \n",
    "print문이 반복되기에 이 역시 함수로 만들어 호출했습니다.\n",
    "추후, 더 긴 서열에 대한 처리가 가능하도록 코드를 개선시킬 필요가 있습니다.\n",
    "'''\n",
    "\n",
    "def debug_print(base_from_seq_a, \n",
    "                base_from_seq_b,\n",
    "                score_rule):\n",
    "    print(\"base_from_seq_a: \",base_from_seq_a)\n",
    "    print(\"base_from_seq_b: \",base_from_seq_b)\n",
    "    print(\"state: \", score_rule)\n",
    "    print(\"score: \", score_rule_dict[score_rule])\n",
    "    \n",
    "def scoring(base_from_seq_a, base_from_seq_b):\n",
    "    if base_from_seq_a==base_from_seq_b and (base_from_seq_a!=\"X\" and base_from_seq_b!=\"X\"):\n",
    "#         debug_print(base_from_seq_a, base_from_seq_b, score_rule=\"match\")\n",
    "        return score_rule_dict[\"match\"]\n",
    "    elif base_from_seq_a!=base_from_seq_b:\n",
    "        if base_from_seq_a==\"X\" or base_from_seq_b==\"X\":\n",
    "#             debug_print(base_from_seq_a, base_from_seq_b, score_rule=\"gap\")\n",
    "            return score_rule_dict[\"gap\"]\n",
    "        else:\n",
    "#             debug_print(base_from_seq_a, base_from_seq_b, score_rule=\"mismatch\")\n",
    "            return score_rule_dict[\"mismatch\"]\n",
    "    else:\n",
    "        return 0"
   ]
  },
  {
   "cell_type": "code",
   "execution_count": 97,
   "metadata": {},
   "outputs": [
    {
     "name": "stdout",
     "output_type": "stream",
     "text": [
      "-3\n"
     ]
    }
   ],
   "source": [
    "# test를 한 번 해봤습니다. \n",
    "test = scoring(\"X\", \"C\")\n",
    "print(test)"
   ]
  },
  {
   "cell_type": "code",
   "execution_count": 98,
   "metadata": {},
   "outputs": [],
   "source": [
    "# score를 저장할 table을 만들어 주기 위한 함수입니다.\n",
    "# 처음은 모두 값을 0으로 초기화합니다.\n",
    "def init_score_table(score_table):\n",
    "#     score_table = []\n",
    "    row = []\n",
    "    for num_i in range(len(seq_b)):\n",
    "        for num_j in range(len(seq_a)):\n",
    "            row.append(0)\n",
    "        score_table.append(row)\n",
    "        row = []\n",
    "    return score_table\n"
   ]
  },
  {
   "cell_type": "code",
   "execution_count": 99,
   "metadata": {},
   "outputs": [
    {
     "data": {
      "text/plain": [
       "[[0, 0, 0, 0, 0, 0, 0, 0],\n",
       " [0, 0, 0, 0, 0, 0, 0, 0],\n",
       " [0, 0, 0, 0, 0, 0, 0, 0],\n",
       " [0, 0, 0, 0, 0, 0, 0, 0],\n",
       " [0, 0, 0, 0, 0, 0, 0, 0],\n",
       " [0, 0, 0, 0, 0, 0, 0, 0],\n",
       " [0, 0, 0, 0, 0, 0, 0, 0],\n",
       " [0, 0, 0, 0, 0, 0, 0, 0],\n",
       " [0, 0, 0, 0, 0, 0, 0, 0]]"
      ]
     },
     "execution_count": 99,
     "metadata": {},
     "output_type": "execute_result"
    }
   ],
   "source": [
    "# 초기화 수행 후 출력\n",
    "score_table = []\n",
    "score_table = init_score_table(score_table)\n",
    "score_table\n"
   ]
  },
  {
   "cell_type": "code",
   "execution_count": 32,
   "metadata": {},
   "outputs": [
    {
     "data": {
      "text/plain": [
       "[[0, 0, 0, 0, 0, 0, 0, 0, 0],\n",
       " [-3, 0, 0, 0, 0, 0, 0, 0, 0],\n",
       " [-6, 0, 0, 0, 0, 0, 0, 0, 0],\n",
       " [-9, 0, 0, 0, 0, 0, 0, 0, 0],\n",
       " [-12, 0, 0, 0, 0, 0, 0, 0, 0],\n",
       " [-15, 0, 0, 0, 0, 0, 0, 0, 0],\n",
       " [-18, 0, 0, 0, 0, 0, 0, 0, 0],\n",
       " [-21, 0, 0, 0, 0, 0, 0, 0, 0]]"
      ]
     },
     "execution_count": 32,
     "metadata": {},
     "output_type": "execute_result"
    }
   ],
   "source": [
    "# 1열에 대한 값들을 사전에 넣어주었습니다.\n",
    "# local alignment인 경우 수행하지 않습니다.\n",
    "val = 0\n",
    "for i in range(len(seq_b)):\n",
    "    score_table[i][0] = val\n",
    "    val = val-3\n",
    "score_table"
   ]
  },
  {
   "cell_type": "code",
   "execution_count": 33,
   "metadata": {},
   "outputs": [
    {
     "data": {
      "text/plain": [
       "[[0, -3, -6, -9, -12, -15, -18, -21, -24],\n",
       " [-3, 0, 0, 0, 0, 0, 0, 0, 0],\n",
       " [-6, 0, 0, 0, 0, 0, 0, 0, 0],\n",
       " [-9, 0, 0, 0, 0, 0, 0, 0, 0],\n",
       " [-12, 0, 0, 0, 0, 0, 0, 0, 0],\n",
       " [-15, 0, 0, 0, 0, 0, 0, 0, 0],\n",
       " [-18, 0, 0, 0, 0, 0, 0, 0, 0],\n",
       " [-21, 0, 0, 0, 0, 0, 0, 0, 0]]"
      ]
     },
     "execution_count": 33,
     "metadata": {},
     "output_type": "execute_result"
    }
   ],
   "source": [
    "# 1행에 대한 값들도 마찬가지로 넣어주었습니다.\n",
    "# local alignment인 경우 수행하지 않습니다.\n",
    "val = 0\n",
    "for j in range(len(seq_a)):\n",
    "    score_table[0][j] = val\n",
    "    val = val-3\n",
    "    \n",
    "score_table"
   ]
  },
  {
   "cell_type": "code",
   "execution_count": 100,
   "metadata": {
    "scrolled": true
   },
   "outputs": [
    {
     "name": "stdout",
     "output_type": "stream",
     "text": [
      "index of b:  1\n",
      "index of a:  1\n",
      "max val:  0\n",
      "\n",
      "index of b:  2\n",
      "index of a:  1\n",
      "max val:  0\n",
      "\n",
      "index of b:  3\n",
      "index of a:  1\n",
      "max val:  0\n",
      "\n",
      "index of b:  4\n",
      "index of a:  1\n",
      "max val:  0\n",
      "\n",
      "index of b:  5\n",
      "index of a:  1\n",
      "max val:  8\n",
      "\n",
      "index of b:  6\n",
      "index of a:  1\n",
      "max val:  5\n",
      "\n",
      "index of b:  7\n",
      "index of a:  1\n",
      "max val:  2\n",
      "\n",
      "index of b:  8\n",
      "index of a:  1\n",
      "max val:  8\n",
      "\n",
      "index of b:  1\n",
      "index of a:  2\n",
      "max val:  0\n",
      "\n",
      "index of b:  2\n",
      "index of a:  2\n",
      "max val:  8\n",
      "\n",
      "index of b:  3\n",
      "index of a:  2\n",
      "max val:  8\n",
      "\n",
      "index of b:  4\n",
      "index of a:  2\n",
      "max val:  5\n",
      "\n",
      "index of b:  5\n",
      "index of a:  2\n",
      "max val:  5\n",
      "\n",
      "index of b:  6\n",
      "index of a:  2\n",
      "max val:  3\n",
      "\n",
      "index of b:  7\n",
      "index of a:  2\n",
      "max val:  0\n",
      "\n",
      "index of b:  8\n",
      "index of a:  2\n",
      "max val:  5\n",
      "\n",
      "index of b:  1\n",
      "index of a:  3\n",
      "max val:  0\n",
      "\n",
      "index of b:  2\n",
      "index of a:  3\n",
      "max val:  8\n",
      "\n",
      "index of b:  3\n",
      "index of a:  3\n",
      "max val:  16\n",
      "\n",
      "index of b:  4\n",
      "index of a:  3\n",
      "max val:  13\n",
      "\n",
      "index of b:  5\n",
      "index of a:  3\n",
      "max val:  10\n",
      "\n",
      "index of b:  6\n",
      "index of a:  3\n",
      "max val:  7\n",
      "\n",
      "index of b:  7\n",
      "index of a:  3\n",
      "max val:  4\n",
      "\n",
      "index of b:  8\n",
      "index of a:  3\n",
      "max val:  2\n",
      "\n",
      "index of b:  1\n",
      "index of a:  4\n",
      "max val:  0\n",
      "\n",
      "index of b:  2\n",
      "index of a:  4\n",
      "max val:  5\n",
      "\n",
      "index of b:  3\n",
      "index of a:  4\n",
      "max val:  13\n",
      "\n",
      "index of b:  4\n",
      "index of a:  4\n",
      "max val:  24\n",
      "\n",
      "index of b:  5\n",
      "index of a:  4\n",
      "max val:  21\n",
      "\n",
      "index of b:  6\n",
      "index of a:  4\n",
      "max val:  18\n",
      "\n",
      "index of b:  7\n",
      "index of a:  4\n",
      "max val:  15\n",
      "\n",
      "index of b:  8\n",
      "index of a:  4\n",
      "max val:  12\n",
      "\n",
      "index of b:  1\n",
      "index of a:  5\n",
      "max val:  0\n",
      "\n",
      "index of b:  2\n",
      "index of a:  5\n",
      "max val:  2\n",
      "\n",
      "index of b:  3\n",
      "index of a:  5\n",
      "max val:  10\n",
      "\n",
      "index of b:  4\n",
      "index of a:  5\n",
      "max val:  21\n",
      "\n",
      "index of b:  5\n",
      "index of a:  5\n",
      "max val:  19\n",
      "\n",
      "index of b:  6\n",
      "index of a:  5\n",
      "max val:  29\n",
      "\n",
      "index of b:  7\n",
      "index of a:  5\n",
      "max val:  26\n",
      "\n",
      "index of b:  8\n",
      "index of a:  5\n",
      "max val:  23\n",
      "\n",
      "index of b:  1\n",
      "index of a:  6\n",
      "max val:  8\n",
      "\n",
      "index of b:  2\n",
      "index of a:  6\n",
      "max val:  5\n",
      "\n",
      "index of b:  3\n",
      "index of a:  6\n",
      "max val:  7\n",
      "\n",
      "index of b:  4\n",
      "index of a:  6\n",
      "max val:  18\n",
      "\n",
      "index of b:  5\n",
      "index of a:  6\n",
      "max val:  16\n",
      "\n",
      "index of b:  6\n",
      "index of a:  6\n",
      "max val:  26\n",
      "\n",
      "index of b:  7\n",
      "index of a:  6\n",
      "max val:  37\n",
      "\n",
      "index of b:  8\n",
      "index of a:  6\n",
      "max val:  34\n",
      "\n",
      "index of b:  1\n",
      "index of a:  7\n",
      "max val:  5\n",
      "\n",
      "index of b:  2\n",
      "index of a:  7\n",
      "max val:  16\n",
      "\n",
      "index of b:  3\n",
      "index of a:  7\n",
      "max val:  13\n",
      "\n",
      "index of b:  4\n",
      "index of a:  7\n",
      "max val:  15\n",
      "\n",
      "index of b:  5\n",
      "index of a:  7\n",
      "max val:  13\n",
      "\n",
      "index of b:  6\n",
      "index of a:  7\n",
      "max val:  23\n",
      "\n",
      "index of b:  7\n",
      "index of a:  7\n",
      "max val:  34\n",
      "\n",
      "index of b:  8\n",
      "index of a:  7\n",
      "max val:  32\n",
      "\n"
     ]
    }
   ],
   "source": [
    "'''\n",
    "PPT에 나온 수식 그대로 score table에 있는 값과 현재의 값을 더한 \n",
    "세 개의 값 중 최대의 값을 구합니다.\n",
    "print 부분은 테이블 상 어느 좌표인지를 살펴보기 위해 넣었으며, 최대값도 찍도록 했습니다.\n",
    "\n",
    "'''\n",
    "\n",
    "for j in range(1, len(seq_a)):\n",
    "    for i in range(1, len(seq_b)):\n",
    "        candidate_list = []\n",
    "        candidate_list.append(score_table[i-1][j] + scoring(seq_a[j], \"X\"))\n",
    "        candidate_list.append(score_table[i][j-1] + scoring(\"X\", seq_b[i]))\n",
    "        candidate_list.append(score_table[i-1][j-1] + scoring(seq_a[j], seq_b[i]))\n",
    "        candidate_list.append(0) #local alignment\n",
    "        score_table[i][j] = max(candidate_list)\n",
    "        print(\"index of b: \", i)\n",
    "        print(\"index of a: \", j)\n",
    "        print(\"max val: \", max(candidate_list), end=\"\\n\\n\")"
   ]
  },
  {
   "cell_type": "code",
   "execution_count": 101,
   "metadata": {
    "scrolled": true
   },
   "outputs": [
    {
     "data": {
      "text/plain": [
       "[[0, 0, 0, 0, 0, 0, 0, 0],\n",
       " [0, 0, 0, 0, 0, 0, 8, 5],\n",
       " [0, 0, 8, 8, 5, 2, 5, 16],\n",
       " [0, 0, 8, 16, 13, 10, 7, 13],\n",
       " [0, 0, 5, 13, 24, 21, 18, 15],\n",
       " [0, 8, 5, 10, 21, 19, 16, 13],\n",
       " [0, 5, 3, 7, 18, 29, 26, 23],\n",
       " [0, 2, 0, 4, 15, 26, 37, 34],\n",
       " [0, 8, 5, 2, 12, 23, 34, 32]]"
      ]
     },
     "execution_count": 101,
     "metadata": {},
     "output_type": "execute_result"
    }
   ],
   "source": [
    "score_table"
   ]
  },
  {
   "cell_type": "code",
   "execution_count": 102,
   "metadata": {},
   "outputs": [],
   "source": [
    "import numpy as np \n",
    "score_table_np = np.array(score_table)\n",
    "score_table_np_flatten = score_table_np.flatten() "
   ]
  },
  {
   "cell_type": "code",
   "execution_count": 103,
   "metadata": {},
   "outputs": [
    {
     "data": {
      "text/plain": [
       "array([ 0,  0,  0,  0,  0,  0,  0,  0,  0,  0,  0,  0,  0,  0,  8,  5,  0,\n",
       "        0,  8,  8,  5,  2,  5, 16,  0,  0,  8, 16, 13, 10,  7, 13,  0,  0,\n",
       "        5, 13, 24, 21, 18, 15,  0,  8,  5, 10, 21, 19, 16, 13,  0,  5,  3,\n",
       "        7, 18, 29, 26, 23,  0,  2,  0,  4, 15, 26, 37, 34,  0,  8,  5,  2,\n",
       "       12, 23, 34, 32])"
      ]
     },
     "execution_count": 103,
     "metadata": {},
     "output_type": "execute_result"
    }
   ],
   "source": [
    "score_table_np_flatten"
   ]
  },
  {
   "cell_type": "code",
   "execution_count": 104,
   "metadata": {},
   "outputs": [
    {
     "data": {
      "text/plain": [
       "37"
      ]
     },
     "execution_count": 104,
     "metadata": {},
     "output_type": "execute_result"
    }
   ],
   "source": [
    "max(score_table_np_flatten)"
   ]
  },
  {
   "cell_type": "code",
   "execution_count": 105,
   "metadata": {},
   "outputs": [
    {
     "data": {
      "text/plain": [
       "[(7, 6)]"
      ]
     },
     "execution_count": 105,
     "metadata": {},
     "output_type": "execute_result"
    }
   ],
   "source": [
    "[(ix,iy) for ix, row in enumerate(list(score_table_np)) for iy, i in enumerate(row) if i == max(score_table_np_flatten)]"
   ]
  },
  {
   "cell_type": "code",
   "execution_count": 106,
   "metadata": {},
   "outputs": [
    {
     "data": {
      "text/plain": [
       "37"
      ]
     },
     "execution_count": 106,
     "metadata": {},
     "output_type": "execute_result"
    }
   ],
   "source": [
    "score_table_np[7][6]"
   ]
  },
  {
   "cell_type": "code",
   "execution_count": 107,
   "metadata": {},
   "outputs": [
    {
     "name": "stdout",
     "output_type": "stream",
     "text": [
      "7\n",
      "6\n"
     ]
    }
   ],
   "source": [
    "i, j = [(ix,iy) for ix, row in enumerate(list(score_table_np)) for iy, i in enumerate(row) if i == max(score_table_np_flatten)][0]\n",
    "print(i)\n",
    "print(j)"
   ]
  },
  {
   "cell_type": "code",
   "execution_count": 108,
   "metadata": {},
   "outputs": [
    {
     "data": {
      "text/plain": [
       "[[0, 0, 0, 0, 0, 0, 0, 0],\n",
       " [0, 0, 0, 0, 0, 0, 8, 5],\n",
       " [0, 0, 8, 8, 5, 2, 5, 16],\n",
       " [0, 0, 8, 16, 13, 10, 7, 13],\n",
       " [0, 0, 5, 13, 24, 21, 18, 15],\n",
       " [0, 8, 5, 10, 21, 19, 16, 13],\n",
       " [0, 5, 3, 7, 18, 29, 26, 23]]"
      ]
     },
     "execution_count": 108,
     "metadata": {},
     "output_type": "execute_result"
    }
   ],
   "source": [
    "score_table = score_table[:i+1][:j+1]\n",
    "score_table"
   ]
  },
  {
   "cell_type": "code",
   "execution_count": null,
   "metadata": {},
   "outputs": [],
   "source": []
  },
  {
   "cell_type": "code",
   "execution_count": 109,
   "metadata": {},
   "outputs": [
    {
     "name": "stdout",
     "output_type": "stream",
     "text": [
      "6\n",
      "5\n",
      "29\n"
     ]
    },
    {
     "data": {
      "text/plain": [
       "[[0, 0, 0, 0, 0, 0, 0, 0],\n",
       " [0, 0, 0, 0, 0, 0, 8, 5],\n",
       " [0, 0, 8, 8, 5, 2, 5, 16],\n",
       " [0, 0, 8, 16, 13, 10, 7, 13],\n",
       " [0, 0, 5, 13, 24, 21, 18, 15],\n",
       " [0, 8, 5, 10, 21, 19, 16, 13]]"
      ]
     },
     "execution_count": 109,
     "metadata": {},
     "output_type": "execute_result"
    }
   ],
   "source": [
    "import numpy as np \n",
    "score_table_np = np.array(score_table[:i+1][:j+1])\n",
    "score_table_np_flatten = score_table_np.flatten() \n",
    "i, j = [(ix,iy) for ix, row in enumerate(list(score_table_np)) for iy, i in enumerate(row) if i == max(score_table_np_flatten)][0]\n",
    "print(i)\n",
    "print(j)\n",
    "print(score_table_np[i][j])\n",
    "candidate_list = [score_table[i-1][j], score_table[i][j-1], score_table[i-1][j-1], 0]\n",
    "score_table = score_table[:i+1][:j+1]\n",
    "score_table"
   ]
  },
  {
   "cell_type": "code",
   "execution_count": 114,
   "metadata": {},
   "outputs": [
    {
     "name": "stdout",
     "output_type": "stream",
     "text": [
      "4\n",
      "4\n",
      "24\n"
     ]
    },
    {
     "data": {
      "text/plain": [
       "[[0, 0, 0, 0, 0, 0, 0, 0],\n",
       " [0, 0, 0, 0, 0, 0, 8, 5],\n",
       " [0, 0, 8, 8, 5, 2, 5, 16],\n",
       " [0, 0, 8, 16, 13, 10, 7, 13],\n",
       " [0, 0, 5, 13, 24, 21, 18, 15]]"
      ]
     },
     "execution_count": 114,
     "metadata": {},
     "output_type": "execute_result"
    }
   ],
   "source": [
    "import numpy as np \n",
    "score_table_np = np.array(score_table[:i+1][:j+1])\n",
    "score_table_np_flatten = score_table_np.flatten() \n",
    "i, j = [(ix,iy) for ix, row in enumerate(list(score_table_np)) for iy, i in enumerate(row) if i == max(score_table_np_flatten)][0]\n",
    "print(i)\n",
    "print(j)\n",
    "print(score_table_np[i][j])\n",
    "candidate_list = [score_table[i-1][j], score_table[i][j-1], score_table[i-1][j-1], 0]\n",
    "score_table = score_table[:i+1][:j+1]\n",
    "score_table"
   ]
  },
  {
   "cell_type": "code",
   "execution_count": 115,
   "metadata": {},
   "outputs": [
    {
     "name": "stdout",
     "output_type": "stream",
     "text": [
      "4\n",
      "4\n",
      "24\n"
     ]
    },
    {
     "data": {
      "text/plain": [
       "[[0, 0, 0, 0, 0, 0, 0, 0],\n",
       " [0, 0, 0, 0, 0, 0, 8, 5],\n",
       " [0, 0, 8, 8, 5, 2, 5, 16],\n",
       " [0, 0, 8, 16, 13, 10, 7, 13],\n",
       " [0, 0, 5, 13, 24, 21, 18, 15]]"
      ]
     },
     "execution_count": 115,
     "metadata": {},
     "output_type": "execute_result"
    }
   ],
   "source": [
    "import numpy as np \n",
    "score_table_np = np.array(score_table[:i+1][:j+1])\n",
    "score_table_np_flatten = score_table_np.flatten() \n",
    "i, j = [(ix,iy) for ix, row in enumerate(list(score_table_np)) for iy, i in enumerate(row) if i == max(score_table_np_flatten)][0]\n",
    "print(i)\n",
    "print(j)\n",
    "print(score_table_np[i][j])\n",
    "candidate_list = [score_table[i-1][j], score_table[i][j-1], score_table[i-1][j-1], 0]\n",
    "score_table = score_table[:i+1][:j+1]\n",
    "score_table"
   ]
  },
  {
   "cell_type": "code",
   "execution_count": null,
   "metadata": {},
   "outputs": [],
   "source": []
  },
  {
   "cell_type": "code",
   "execution_count": null,
   "metadata": {},
   "outputs": [],
   "source": [
    "candidate_list = [score_table[i-1][j], score_table[i][j-1], score_table[i-1][j-1], 0]\n",
    "max_val.append(max(candidate_list))"
   ]
  },
  {
   "cell_type": "code",
   "execution_count": null,
   "metadata": {},
   "outputs": [],
   "source": []
  },
  {
   "cell_type": "markdown",
   "metadata": {},
   "source": [
    "<img src=\"../../../documents/__etc/dot_matrix.png\">\n",
    "<!-- <img src=\"https://previews.dropbox.com/p/thumb/AAzTT1YNiln2JdRsYqxL9w7cucORreZTsCtFeQVe5qKar0rhTl2PSHjm4OCZBo-ZLFnJHMkIYgLUnSFVPH46j0IocA32CIbZbQAEgRUFlrbWrmm3-2BC797IDYh5CPKgo752wS9J0BrfZYe-SgCYsMjdOWPfrZLVOlT_cWspArHk602y4LXGysHOlqUSq5BXJ385oecnj1c0BirGJ6awrcfdZeTQT9_xcnE61PfHIobTQCv2dEFQo61VawSJiuT99XHu8HikcIF-0CRRYK2uHesrqQKlJHZnUk0S7e0R7Hp1O82bh1s4_MrO8dXU-ZF8DMFX4uFvp1DfPmQioalNEFHOVF930vd594cYR7OiSBa5wf-tGw2XrQ7JhMMO_Jpy-uJmrNVqKQvTD_6MhzJvnrbpTiiXWQH5CFvqQXGVTIfn1Q/p.png?fv_content=true&size_mode=5\"> -->"
   ]
  },
  {
   "cell_type": "markdown",
   "metadata": {},
   "source": [
    "결과가 PPT 상의 결과와 다른 부분들이 몇 군데 보여서 제가 잘못 구현한 부분이 있는 것일 수도 있겠다는 생각이 들었습니다만, 분자생물학 공부하느라 시간이 없어서 세세하게 살펴보지는 못했습니다. 급하게 구현한만큼 부족한 부분이 많을 것 같습니다. 피드백을 주신다면 감사드리겠습니다."
   ]
  }
 ],
 "metadata": {
  "kernelspec": {
   "display_name": "Python 3",
   "language": "python",
   "name": "python3"
  },
  "language_info": {
   "codemirror_mode": {
    "name": "ipython",
    "version": 3
   },
   "file_extension": ".py",
   "mimetype": "text/x-python",
   "name": "python",
   "nbconvert_exporter": "python",
   "pygments_lexer": "ipython3",
   "version": "3.7.6"
  }
 },
 "nbformat": 4,
 "nbformat_minor": 4
}
