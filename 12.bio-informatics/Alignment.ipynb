{
 "cells": [
  {
   "cell_type": "code",
   "execution_count": 1,
   "metadata": {},
   "outputs": [],
   "source": [
    "import pandas as pd\n",
    "import random\n",
    "import numpy as np\n",
    "import sys"
   ]
  },
  {
   "cell_type": "code",
   "execution_count": 2,
   "metadata": {},
   "outputs": [
    {
     "name": "stdout",
     "output_type": "stream",
     "text": [
      "\n",
      "=================================================================\n",
      "\n",
      " The program that score coincidence of between sequence A and B.\n",
      "\n",
      "==============The first program made by Jonghun_Woo==============\n",
      "        Seq_Alignment               Ver. 1.00 / April 24, 2020.\n",
      "=================================================================\n",
      "\n",
      "\n",
      "\n"
     ]
    }
   ],
   "source": [
    "# Intro\n",
    "print ('''\n",
    "=================================================================\n",
    "\n",
    " The program that score coincidence of between sequence A and B.\n",
    "\n",
    "==============The first program made by Jonghun_Woo==============\n",
    "        Seq_Alignment               Ver. 1.00 / April 24, 2020.\n",
    "=================================================================\n",
    "\n",
    "\n",
    "''')"
   ]
  },
  {
   "cell_type": "code",
   "execution_count": 6,
   "metadata": {},
   "outputs": [],
   "source": [
    "def gen_random_seq():\n",
    "    gnum_a = input(\"Enter a base sequence or length of A: \") # 'gene number'\n",
    "    gnum_b = input(\"Enter a base sequence or length of B: \") # 'gene number'\n",
    "    # User input the number of base.\n",
    "    gcode = [\"A\", \"T\", \"G\", \"C\"] # 'genetic code' .\n",
    "    sqc_a = [''] # 첫 element는 일부러 빈 문자열을 넣어준다.\n",
    "    sqc_b = ['']\n",
    "    n = 1\n",
    "    \n",
    "    while True :\n",
    "        if gnum_a or gnum_b == 'done' : # Quit the program when typing 'done'\n",
    "            print (\"Exit the program\")\n",
    "            sys.exit()\n",
    "        else :\n",
    "            try :\n",
    "                gn_a = int(gnum_a) # 'gene number'\n",
    "                gn_b = int(gnum_b)\n",
    "\n",
    "                while n <= gn_a :\n",
    "                    sqc1.append(random.choice(gcode))\n",
    "                    n = n + 1\n",
    "                n = 1\n",
    "                while n < gn_b:\n",
    "                    sqc2.append(random.choice(gcode))\n",
    "                    n = n + 1\n",
    "                break\n",
    "            except :\n",
    "                gnum_a = gnum_a.upper()\n",
    "                gnum_b = gnum_b.upper()\n",
    "                gn_a = len(gnum)\n",
    "                gn_b = len(gnum)\n",
    "                gnum = list(gnum)\n",
    "                gnum.insert(0, \"\")\n",
    "                sqc1 = gnum\n",
    "                sqc2 = gnum\n",
    "                break"
   ]
  },
  {
   "cell_type": "code",
   "execution_count": 7,
   "metadata": {},
   "outputs": [
    {
     "name": "stdin",
     "output_type": "stream",
     "text": [
      "Enter a base sequence or length of A:  12\n",
      "Enter a base sequence or length of B:  10\n"
     ]
    },
    {
     "name": "stdout",
     "output_type": "stream",
     "text": [
      "Exit the program\n"
     ]
    },
    {
     "ename": "SystemExit",
     "evalue": "",
     "output_type": "error",
     "traceback": [
      "An exception has occurred, use %tb to see the full traceback.\n",
      "\u001b[0;31mSystemExit\u001b[0m\n"
     ]
    },
    {
     "name": "stderr",
     "output_type": "stream",
     "text": [
      "/Users/dohk/opt/anaconda3/lib/python3.7/site-packages/IPython/core/interactiveshell.py:3339: UserWarning: To exit: use 'exit', 'quit', or Ctrl-D.\n",
      "  warn(\"To exit: use 'exit', 'quit', or Ctrl-D.\", stacklevel=1)\n"
     ]
    }
   ],
   "source": [
    "gen_random_seq()"
   ]
  },
  {
   "cell_type": "code",
   "execution_count": 3,
   "metadata": {},
   "outputs": [
    {
     "name": "stdin",
     "output_type": "stream",
     "text": [
      "Enter a base sequence or length of A :  12\n"
     ]
    }
   ],
   "source": [
    "# User input the number of base.\n",
    "# Sequence A\n",
    "while True :\n",
    "    gnum = input(\"Enter a base sequence or length of A : \") # 'gene number'\n",
    "    if gnum == 'done' : # Quit the program when typing 'done'\n",
    "        print (\"Exit the program\")\n",
    "        sys.exit()\n",
    "    else :\n",
    "        try :\n",
    "            gn1 = int(gnum) # 'gene number'\n",
    "            gcode = [\"A\", \"T\", \"G\", \"C\"] # 'genetic code' .\n",
    "            sqc1 = [\"\"] # 첫 element는 일부러 빈 문자열을 넣어준다.\n",
    "            n = 1\n",
    "            while n <= gn1 :\n",
    "                sqc1.append(random.choice(gcode))\n",
    "                n = n + 1\n",
    "            break\n",
    "        except :\n",
    "            gnum = gnum.upper()\n",
    "            gn1 = len(gnum)\n",
    "            gnum = list(gnum)\n",
    "            gnum.insert(0, \"\")\n",
    "            sqc1 = gnum\n",
    "            break"
   ]
  },
  {
   "cell_type": "code",
   "execution_count": 4,
   "metadata": {},
   "outputs": [
    {
     "name": "stdin",
     "output_type": "stream",
     "text": [
      "Enter a base sequence or length of B :  10\n"
     ]
    }
   ],
   "source": [
    "while True :\n",
    "    gnum = input(\"Enter a base sequence or length of B : \") # 'gene number'\n",
    "    if gnum == 'done' : # Quit the program when typing 'done'\n",
    "        print (\"Exit the program\")\n",
    "        sys.exit()\n",
    "    else :\n",
    "        try :\n",
    "            gn2 = int(gnum) # 'gene number'\n",
    "            gcode = [\"A\", \"T\", \"G\", \"C\"] # 'genetic code' .\n",
    "            sqc2 = [\"\"] # 첫 element는 일부러 빈 문자열을 넣어준다.\n",
    "            n = 1\n",
    "            while n <= gn2 :\n",
    "                sqc2.append(random.choice(gcode))\n",
    "                n = n + 1\n",
    "            break\n",
    "        except :\n",
    "            gnum = gnum.upper()\n",
    "            gn2 = len(gnum)\n",
    "            gnum = list(gnum)\n",
    "            gnum.insert(0, \"\")\n",
    "            sqc2 = gnum\n",
    "            break"
   ]
  },
  {
   "cell_type": "code",
   "execution_count": null,
   "metadata": {},
   "outputs": [],
   "source": []
  },
  {
   "cell_type": "code",
   "execution_count": 5,
   "metadata": {},
   "outputs": [
    {
     "name": "stdout",
     "output_type": "stream",
     "text": [
      "A is 12 sequences\n",
      "['', 'C', 'G', 'A', 'A', 'G', 'A', 'C', 'C', 'C', 'T', 'C', 'T']\n",
      "B is 10 sequences\n",
      "['', 'G', 'G', 'C', 'G', 'C', 'A', 'C', 'G', 'T', 'A']\n"
     ]
    }
   ],
   "source": [
    "print (\"A is\", gn1, \"sequences\")\n",
    "print (sqc1)\n",
    "print (\"B is\", gn2, \"sequences\")\n",
    "print (sqc2)"
   ]
  },
  {
   "cell_type": "code",
   "execution_count": 9,
   "metadata": {},
   "outputs": [],
   "source": [
    "# Making frame of dot matrix.\n",
    "gdata = pd.DataFrame(index = sqc1, columns = sqc2) # 'gene data'\n",
    "\n",
    "# Inputting the first row & column.\n",
    "# Sequence A\n",
    "gdata.iloc[0, 0] = 0\n",
    "count = 0\n",
    "n = 0\n",
    "while n <= gn1 :\n",
    "    gdata.iloc[n, 0] = count\n",
    "    count = count - 0 # Gap penalty (If negetive value is available.)\n",
    "    n = n + 1\n",
    "# Sequence B\n",
    "count = 0\n",
    "n = 0\n",
    "while n <= gn2 :\n",
    "    gdata.iloc[0, n] = count\n",
    "    count = count - 0 # Gap penalty (If negetive value is available.)\n",
    "    n = n + 1"
   ]
  },
  {
   "cell_type": "code",
   "execution_count": 10,
   "metadata": {},
   "outputs": [
    {
     "name": "stdout",
     "output_type": "stream",
     "text": [
      "        T    A    C    T    T    C    T    A    T    G\n",
      "   0    0    0    0    0    0    0    0    0    0    0\n",
      "T  0  NaN  NaN  NaN  NaN  NaN  NaN  NaN  NaN  NaN  NaN\n",
      "A  0  NaN  NaN  NaN  NaN  NaN  NaN  NaN  NaN  NaN  NaN\n",
      "C  0  NaN  NaN  NaN  NaN  NaN  NaN  NaN  NaN  NaN  NaN\n",
      "G  0  NaN  NaN  NaN  NaN  NaN  NaN  NaN  NaN  NaN  NaN\n",
      "T  0  NaN  NaN  NaN  NaN  NaN  NaN  NaN  NaN  NaN  NaN\n",
      "T  0  NaN  NaN  NaN  NaN  NaN  NaN  NaN  NaN  NaN  NaN\n",
      "G  0  NaN  NaN  NaN  NaN  NaN  NaN  NaN  NaN  NaN  NaN\n",
      "A  0  NaN  NaN  NaN  NaN  NaN  NaN  NaN  NaN  NaN  NaN\n",
      "G  0  NaN  NaN  NaN  NaN  NaN  NaN  NaN  NaN  NaN  NaN\n",
      "C  0  NaN  NaN  NaN  NaN  NaN  NaN  NaN  NaN  NaN  NaN\n",
      "A  0  NaN  NaN  NaN  NaN  NaN  NaN  NaN  NaN  NaN  NaN\n",
      "G  0  NaN  NaN  NaN  NaN  NaN  NaN  NaN  NaN  NaN  NaN\n"
     ]
    }
   ],
   "source": [
    "print (gdata)"
   ]
  },
  {
   "cell_type": "code",
   "execution_count": 11,
   "metadata": {},
   "outputs": [
    {
     "name": "stdout",
     "output_type": "stream",
     "text": [
      "      T   A   C   T   T   C   T   A   T   G\n",
      "   0  0   0   0   0   0   0   0   0   0   0\n",
      "T  0  8   5   2   8   8   5   8   5   8   5\n",
      "A  0  5  16  13  10   7   4   5  16  13  10\n",
      "C  0  2  13  24  21  18  15  12  13  11   8\n",
      "G  0  0  10  21  19  16  13  10  10   8  19\n",
      "T  0  8   7  18  29  27  24  21  18  18  16\n",
      "T  0  8   5  15  26  37  34  32  29  26  23\n",
      "G  0  5   3  12  23  34  32  29  27  24  34\n",
      "A  0  2  13  10  20  31  29  27  37  34  31\n",
      "G  0  0  10   8  17  28  26  24  34  32  42\n",
      "C  0  0   7  18  15  25  36  33  31  29  39\n",
      "A  0  0   8  15  13  22  33  31  41  38  36\n",
      "G  0  0   5  12  10  19  30  28  38  36  46\n"
     ]
    }
   ],
   "source": [
    "# Scoring Match, Mismatch, Gap in the direction of reading a book.\n",
    "v = 1\n",
    "cprn = list() # 'comparing number'\n",
    "while v <= gn1 :\n",
    "    h = 1\n",
    "    while h <= gn2 :\n",
    "        del cprn[:]\n",
    "        if sqc1[v] == sqc2[h] :\n",
    "            cprn.append(gdata.iloc[v-1, h-1] + 8) # Match point\n",
    "        else :\n",
    "            cprn.append(max(gdata.iloc[v-1, h-1] - 5, 0)) # Mismatch penalty\n",
    "        cprn.append(max(gdata.iloc[v-1, h] - 3, 0)) # Gap penalty\n",
    "        cprn.append(max(gdata.iloc[v, h-1] - 3, 0)) # Gap penalty\n",
    "        gdata.iloc[v, h] = max(cprn) # Input Maximum value.\n",
    "        h = h + 1\n",
    "    v = v + 1\n",
    "print (gdata)"
   ]
  },
  {
   "cell_type": "code",
   "execution_count": 17,
   "metadata": {},
   "outputs": [],
   "source": [
    "##### 리스트 생성 함수 ######\n",
    "def a_list_gen() :\n",
    "    gen_num = 1\n",
    "    while True : \n",
    "        yield (\"a_sqc\" + str(gen_num))\n",
    "        gen_num += 1\n",
    "               \n",
    "def b_list_gen() :\n",
    "    gen_num = 1\n",
    "    while True : \n",
    "        yield (\"b_sqc\" + str(gen_num))\n",
    "        gen_num += 1\n",
    "\n",
    "a_sqc_gen = iter(a_list_gen()) # 'a_sequence_list'\n",
    "b_sqc_gen = iter(b_list_gen()) # 'b_sequence_list'"
   ]
  },
  {
   "cell_type": "code",
   "execution_count": 21,
   "metadata": {},
   "outputs": [],
   "source": [
    "# Searching the max values.\n",
    "a = gdata.max(axis=1).argmax()\n",
    "b = gdata.max(axis=0).argmax()\n",
    "a_sqc0 = [gdata.max(axis=1).idxmax()] # 'a_sequence 0'\n",
    "b_sqc0 = [gdata.max(axis=0).idxmax()] # 'b_sequence 0'\n",
    "a_sqc_sqc = [a_sqc0] # total a_sequence_list\n",
    "b_sqc_sqc = [b_sqc0] # total b_sequence_list"
   ]
  },
  {
   "cell_type": "code",
   "execution_count": 27,
   "metadata": {},
   "outputs": [],
   "source": [
    "# Finding routes for the max.\n",
    "while a > 0 & b > 0 :\n",
    "    if gdata.iloc[a, b] - 8 == gdata.iloc[a-1, b-1] or gdata.iloc[a, b] + 5 == gdata.iloc[a-1, b-1] : \n",
    "        for i in a_sqc_sqc :\n",
    "            a_sqc_sqc.insert(0, sqc1[a-1])\n",
    "            b_sqc_sqc.insert(0, sqc2[b-1])\n",
    "        a = a - 1\n",
    "        b = b - 1\n",
    "    elif gdata.iloc[a-1, b] != gdata.iloc[a, b-1] and gdata.iloc[a, b] + 3 == gdata.iloc[a-1, b] :\n",
    "        for i in a_sqc_sqc :\n",
    "            a_sqc_sqc.insert(0, sqc1[a-1])\n",
    "            b_sqc_sqc.insert(0, \"-\")\n",
    "        a = a - 1\n",
    "    elif gdata.iloc[a-1, b] != gdata.iloc[a, b-1] and gdata.iloc[a, b] + 3 == gdata.iloc[a, b-1] :\n",
    "        a_sqc_sqc.insert(0, \"-\")\n",
    "        b_sqc_sqc.insert(0, sqc2[b-1])\n",
    "        b = b - 1\n",
    "        "
   ]
  },
  {
   "cell_type": "code",
   "execution_count": 29,
   "metadata": {},
   "outputs": [
    {
     "name": "stdout",
     "output_type": "stream",
     "text": [
      "12 10\n",
      "['G'] ['G']\n",
      "[['G']]\n",
      "[['G']]\n"
     ]
    }
   ],
   "source": [
    "print (a, b)\n",
    "print (a_sqc0, b_sqc0)\n",
    "print (a_sqc_sqc)\n",
    "print (b_sqc_sqc)"
   ]
  },
  {
   "cell_type": "markdown",
   "metadata": {},
   "source": [
    "동시에 성립하면 공통부분까지 확정해두고, 두갈래로 리스트 생성하여 추후비교 방식으로 구현."
   ]
  },
  {
   "cell_type": "code",
   "execution_count": 2,
   "metadata": {},
   "outputs": [],
   "source": [
    "# print (\"A : \", a_sqc)\n",
    "# print (\"B : \", b_sqc)\n",
    "# input()"
   ]
  }
 ],
 "metadata": {
  "kernelspec": {
   "display_name": "Python 3",
   "language": "python",
   "name": "python3"
  },
  "language_info": {
   "codemirror_mode": {
    "name": "ipython",
    "version": 3
   },
   "file_extension": ".py",
   "mimetype": "text/x-python",
   "name": "python",
   "nbconvert_exporter": "python",
   "pygments_lexer": "ipython3",
   "version": "3.7.6"
  }
 },
 "nbformat": 4,
 "nbformat_minor": 4
}
