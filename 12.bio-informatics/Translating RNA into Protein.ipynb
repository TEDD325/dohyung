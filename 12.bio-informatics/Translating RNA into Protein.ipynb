{
 "cells": [
  {
   "cell_type": "code",
   "execution_count": 32,
   "metadata": {},
   "outputs": [],
   "source": [
    "codon_table = \\\n",
    "{'GCU': 'A', 'GCC': 'A', 'GCA': 'A', 'GCG': 'A',\\\n",
    "'UGU': 'C', 'UGC': 'C',\\\n",
    "'GAU': 'D', 'GAC': 'D',\\\n",
    "'GAA': 'E', 'GAG': 'E',\\\n",
    "'UUU': 'F', 'UUC': 'F',\\\n",
    "'GGA': 'G', 'GGG': 'G', 'GGU': 'G', 'GGC': 'G',\\\n",
    "'CAU': 'H', 'CAC': 'H',\\\n",
    "'AUU': 'I', 'AUC': 'I', 'AUA': 'I',\\\n",
    "'AAA': 'K', 'AAG': 'K',\\\n",
    "'UUA': 'L', 'UUG': 'L', 'CUU': 'L', 'CUC': 'L', 'CUA': 'L', 'CUG': 'L',\\\n",
    "'AUG': 'M',\\\n",
    "'AAU': 'N', 'AAC': 'N',\\\n",
    "'CCU': 'P', 'CCC': 'P', 'CCA': 'P', 'CCG': 'P',\\\n",
    "'CAA': 'Q', 'CAG': 'Q',\\\n",
    "'CGU': 'R', 'CGC': 'R', 'CGA': 'R', 'CGG': 'R', 'AGA': 'R', 'AGG': 'R',\\\n",
    "'UCU': 'S', 'UCC': 'S', 'UCA': 'S', 'UCG': 'S', 'AGU': 'S', 'AGC': 'S',\\\n",
    "'ACU': 'T', 'ACC': 'T', 'ACA': 'T', 'ACG': 'T',\\\n",
    "'GUU': 'V', 'GUC': 'V', 'GUA': 'V', 'GUG': 'V',\\\n",
    "'UGG': 'W',\\\n",
    "'UAU': 'Y', 'UAC': 'Y',\\\n",
    "'UAA': 'Stop', 'UAG': 'Stop', 'UGA': 'Stop'}"
   ]
  },
  {
   "cell_type": "code",
   "execution_count": 39,
   "metadata": {},
   "outputs": [],
   "source": [
    "DNA_sequence = \"AUGGCCAUGGCGCCCAGAACUGAGAUCAAUAGUACCCGUAUUAACGGGUGA\""
   ]
  },
  {
   "cell_type": "code",
   "execution_count": 28,
   "metadata": {},
   "outputs": [
    {
     "data": {
      "text/plain": [
       "0"
      ]
     },
     "execution_count": 28,
     "metadata": {},
     "output_type": "execute_result"
    }
   ],
   "source": [
    "len(DNA_sequence) % 3 # DNA_sequnce는 항상 3의 배수임을 가정"
   ]
  },
  {
   "cell_type": "code",
   "execution_count": 24,
   "metadata": {},
   "outputs": [],
   "source": [
    "amino_sequence = DNA_sequence[:3]"
   ]
  },
  {
   "cell_type": "code",
   "execution_count": 25,
   "metadata": {},
   "outputs": [
    {
     "data": {
      "text/plain": [
       "'AUG'"
      ]
     },
     "execution_count": 25,
     "metadata": {},
     "output_type": "execute_result"
    }
   ],
   "source": [
    "amino_sequence"
   ]
  },
  {
   "cell_type": "code",
   "execution_count": 27,
   "metadata": {},
   "outputs": [],
   "source": [
    "end_flag = True"
   ]
  },
  {
   "cell_type": "code",
   "execution_count": null,
   "metadata": {},
   "outputs": [],
   "source": [
    "while end_flag:\n",
    "    ...\n",
    "    if len(DNA_sequence) == 0:\n",
    "        end_flag = True"
   ]
  },
  {
   "cell_type": "code",
   "execution_count": null,
   "metadata": {},
   "outputs": [],
   "source": []
  },
  {
   "cell_type": "code",
   "execution_count": 37,
   "metadata": {},
   "outputs": [
    {
     "name": "stdout",
     "output_type": "stream",
     "text": [
      "amino_sequence: AUG, DNA_sequence:GCCAUGGCGCCCAGAACUGAGAUCAAUAGUACCCGUAUUAACGGGUGA\n",
      "amino_sequence: GCC, DNA_sequence:AUGGCGCCCAGAACUGAGAUCAAUAGUACCCGUAUUAACGGGUGA\n",
      "amino_sequence: AUG, DNA_sequence:GCGCCCAGAACUGAGAUCAAUAGUACCCGUAUUAACGGGUGA\n",
      "amino_sequence: GCG, DNA_sequence:CCCAGAACUGAGAUCAAUAGUACCCGUAUUAACGGGUGA\n",
      "amino_sequence: CCC, DNA_sequence:AGAACUGAGAUCAAUAGUACCCGUAUUAACGGGUGA\n",
      "amino_sequence: AGA, DNA_sequence:ACUGAGAUCAAUAGUACCCGUAUUAACGGGUGA\n",
      "amino_sequence: ACU, DNA_sequence:GAGAUCAAUAGUACCCGUAUUAACGGGUGA\n",
      "amino_sequence: GAG, DNA_sequence:AUCAAUAGUACCCGUAUUAACGGGUGA\n",
      "amino_sequence: AUC, DNA_sequence:AAUAGUACCCGUAUUAACGGGUGA\n",
      "amino_sequence: AAU, DNA_sequence:AGUACCCGUAUUAACGGGUGA\n",
      "amino_sequence: AGU, DNA_sequence:ACCCGUAUUAACGGGUGA\n",
      "amino_sequence: ACC, DNA_sequence:CGUAUUAACGGGUGA\n",
      "amino_sequence: CGU, DNA_sequence:AUUAACGGGUGA\n",
      "amino_sequence: AUU, DNA_sequence:AACGGGUGA\n",
      "amino_sequence: AAC, DNA_sequence:GGGUGA\n",
      "amino_sequence: GGG, DNA_sequence:UGA\n",
      "amino_sequence: UGA, DNA_sequence:\n"
     ]
    },
    {
     "ename": "IndexError",
     "evalue": "string index out of range",
     "output_type": "error",
     "traceback": [
      "\u001b[1;31m---------------------------------------------------------------------------\u001b[0m",
      "\u001b[1;31mIndexError\u001b[0m                                Traceback (most recent call last)",
      "\u001b[1;32m<ipython-input-37-44a70fc5056b>\u001b[0m in \u001b[0;36m<module>\u001b[1;34m\u001b[0m\n\u001b[0;32m      3\u001b[0m     \u001b[0mDNA_sequence\u001b[0m \u001b[1;33m=\u001b[0m \u001b[0mDNA_sequence\u001b[0m\u001b[1;33m[\u001b[0m\u001b[1;36m3\u001b[0m\u001b[1;33m:\u001b[0m\u001b[1;33m]\u001b[0m\u001b[1;33m\u001b[0m\u001b[1;33m\u001b[0m\u001b[0m\n\u001b[0;32m      4\u001b[0m     \u001b[0mprint\u001b[0m\u001b[1;33m(\u001b[0m\u001b[1;34m\"amino_sequence: {}, DNA_sequence:{}\"\u001b[0m\u001b[1;33m.\u001b[0m\u001b[0mformat\u001b[0m\u001b[1;33m(\u001b[0m\u001b[0mamino_sequence\u001b[0m\u001b[1;33m,\u001b[0m \u001b[0mDNA_sequence\u001b[0m\u001b[1;33m)\u001b[0m\u001b[1;33m)\u001b[0m\u001b[1;33m\u001b[0m\u001b[1;33m\u001b[0m\u001b[0m\n\u001b[1;32m----> 5\u001b[1;33m     \u001b[1;32mif\u001b[0m \u001b[0mDNA_sequence\u001b[0m\u001b[1;33m[\u001b[0m\u001b[1;36m0\u001b[0m\u001b[1;33m]\u001b[0m \u001b[1;33m==\u001b[0m \u001b[1;34m''\u001b[0m\u001b[1;33m:\u001b[0m\u001b[1;33m\u001b[0m\u001b[1;33m\u001b[0m\u001b[0m\n\u001b[0m\u001b[0;32m      6\u001b[0m         \u001b[0mend_flag\u001b[0m \u001b[1;33m=\u001b[0m \u001b[1;32mTrue\u001b[0m\u001b[1;33m\u001b[0m\u001b[1;33m\u001b[0m\u001b[0m\n",
      "\u001b[1;31mIndexError\u001b[0m: string index out of range"
     ]
    }
   ],
   "source": [
    "while end_flag:\n",
    "    amino_sequence = DNA_sequence[:3]\n",
    "    DNA_sequence = DNA_sequence[3:]\n",
    "    print(\"amino_sequence: {}, DNA_sequence:{}\".format(amino_sequence, DNA_sequence))\n",
    "    if DNA_sequence[0] == '':\n",
    "        end_flag = True"
   ]
  },
  {
   "cell_type": "code",
   "execution_count": null,
   "metadata": {},
   "outputs": [],
   "source": []
  },
  {
   "cell_type": "code",
   "execution_count": 40,
   "metadata": {},
   "outputs": [
    {
     "name": "stdout",
     "output_type": "stream",
     "text": [
      "amino_sequence: AUG, DNA_sequence:GCCAUGGCGCCCAGAACUGAGAUCAAUAGUACCCGUAUUAACGGGUGA\n",
      "amino_sequence: GCC, DNA_sequence:AUGGCGCCCAGAACUGAGAUCAAUAGUACCCGUAUUAACGGGUGA\n",
      "amino_sequence: AUG, DNA_sequence:GCGCCCAGAACUGAGAUCAAUAGUACCCGUAUUAACGGGUGA\n",
      "amino_sequence: GCG, DNA_sequence:CCCAGAACUGAGAUCAAUAGUACCCGUAUUAACGGGUGA\n",
      "amino_sequence: CCC, DNA_sequence:AGAACUGAGAUCAAUAGUACCCGUAUUAACGGGUGA\n",
      "amino_sequence: AGA, DNA_sequence:ACUGAGAUCAAUAGUACCCGUAUUAACGGGUGA\n",
      "amino_sequence: ACU, DNA_sequence:GAGAUCAAUAGUACCCGUAUUAACGGGUGA\n",
      "amino_sequence: GAG, DNA_sequence:AUCAAUAGUACCCGUAUUAACGGGUGA\n",
      "amino_sequence: AUC, DNA_sequence:AAUAGUACCCGUAUUAACGGGUGA\n",
      "amino_sequence: AAU, DNA_sequence:AGUACCCGUAUUAACGGGUGA\n",
      "amino_sequence: AGU, DNA_sequence:ACCCGUAUUAACGGGUGA\n",
      "amino_sequence: ACC, DNA_sequence:CGUAUUAACGGGUGA\n",
      "amino_sequence: CGU, DNA_sequence:AUUAACGGGUGA\n",
      "amino_sequence: AUU, DNA_sequence:AACGGGUGA\n",
      "amino_sequence: AAC, DNA_sequence:GGGUGA\n",
      "amino_sequence: GGG, DNA_sequence:UGA\n",
      "amino_sequence: UGA, DNA_sequence:\n",
      "DNA sequnece is empty.\n"
     ]
    }
   ],
   "source": [
    "# https://wayhome25.github.io/python/2017/02/26/py-12-exception/\n",
    "    \n",
    "while end_flag:\n",
    "    amino_sequence = DNA_sequence[:3]\n",
    "    DNA_sequence = DNA_sequence[3:]\n",
    "    print(\"amino_sequence: {}, DNA_sequence:{}\".format(amino_sequence, DNA_sequence))\n",
    "    try :\n",
    "        if DNA_sequence[0] == '':\n",
    "            # 에러가 발생할 가능성이 있는 코드\n",
    "            continue\n",
    "    except IndexError: # 에러 종류\n",
    "        print(\"DNA sequnece is empty.\") #에러가 발생 했을 경우 처리할 코드\n",
    "        break"
   ]
  },
  {
   "cell_type": "code",
   "execution_count": null,
   "metadata": {},
   "outputs": [],
   "source": []
  },
  {
   "cell_type": "code",
   "execution_count": 46,
   "metadata": {},
   "outputs": [
    {
     "name": "stdout",
     "output_type": "stream",
     "text": [
      "amino_sequence: UGA, DNA_sequence:GCCAUGGCGCCCAGAACUGAGAUCAAUAGUACCCGUAUUAACGGGUGA\n",
      "amino_sequence: UGA, DNA_sequence:AUGGCGCCCAGAACUGAGAUCAAUAGUACCCGUAUUAACGGGUGA\n",
      "amino_sequence: UGA, DNA_sequence:GCGCCCAGAACUGAGAUCAAUAGUACCCGUAUUAACGGGUGA\n",
      "amino_sequence: UGA, DNA_sequence:CCCAGAACUGAGAUCAAUAGUACCCGUAUUAACGGGUGA\n",
      "amino_sequence: UGA, DNA_sequence:AGAACUGAGAUCAAUAGUACCCGUAUUAACGGGUGA\n",
      "amino_sequence: UGA, DNA_sequence:ACUGAGAUCAAUAGUACCCGUAUUAACGGGUGA\n",
      "amino_sequence: UGA, DNA_sequence:GAGAUCAAUAGUACCCGUAUUAACGGGUGA\n",
      "amino_sequence: UGA, DNA_sequence:AUCAAUAGUACCCGUAUUAACGGGUGA\n",
      "amino_sequence: UGA, DNA_sequence:AAUAGUACCCGUAUUAACGGGUGA\n",
      "amino_sequence: UGA, DNA_sequence:AGUACCCGUAUUAACGGGUGA\n",
      "amino_sequence: UGA, DNA_sequence:ACCCGUAUUAACGGGUGA\n",
      "amino_sequence: UGA, DNA_sequence:CGUAUUAACGGGUGA\n",
      "amino_sequence: UGA, DNA_sequence:AUUAACGGGUGA\n",
      "amino_sequence: UGA, DNA_sequence:AACGGGUGA\n",
      "amino_sequence: UGA, DNA_sequence:GGGUGA\n",
      "amino_sequence: UGA, DNA_sequence:UGA\n",
      "amino_sequence: UGA, DNA_sequence:\n",
      "DNA sequnece is empty.\n"
     ]
    }
   ],
   "source": [
    "DNA_sequence = \"AUGGCCAUGGCGCCCAGAACUGAGAUCAAUAGUACCCGUAUUAACGGGUGA\"\n",
    "amino_sequence_list = []\n",
    "while end_flag:\n",
    "    amino_sequence_list.append(DNA_sequence[:3])\n",
    "    DNA_sequence = DNA_sequence[3:]\n",
    "    print(\"amino_sequence: {}, DNA_sequence:{}\".format(amino_sequence, DNA_sequence))\n",
    "    try :\n",
    "        if DNA_sequence[0] == '':\n",
    "            continue\n",
    "    except IndexError: \n",
    "        print(\"DNA sequnece is empty.\")\n",
    "        break"
   ]
  },
  {
   "cell_type": "code",
   "execution_count": 47,
   "metadata": {},
   "outputs": [
    {
     "data": {
      "text/plain": [
       "['AUG',\n",
       " 'GCC',\n",
       " 'AUG',\n",
       " 'GCG',\n",
       " 'CCC',\n",
       " 'AGA',\n",
       " 'ACU',\n",
       " 'GAG',\n",
       " 'AUC',\n",
       " 'AAU',\n",
       " 'AGU',\n",
       " 'ACC',\n",
       " 'CGU',\n",
       " 'AUU',\n",
       " 'AAC',\n",
       " 'GGG',\n",
       " 'UGA']"
      ]
     },
     "execution_count": 47,
     "metadata": {},
     "output_type": "execute_result"
    }
   ],
   "source": [
    "amino_sequence_list"
   ]
  },
  {
   "cell_type": "code",
   "execution_count": null,
   "metadata": {},
   "outputs": [],
   "source": [
    "stop_codon "
   ]
  },
  {
   "cell_type": "code",
   "execution_count": 50,
   "metadata": {},
   "outputs": [],
   "source": [
    "amino_acid_chain = ''\n",
    "for item in amino_sequence_list:\n",
    "    if item != 'Stop':\n",
    "        amino_acid_chain += codon_table[item]"
   ]
  },
  {
   "cell_type": "code",
   "execution_count": 51,
   "metadata": {},
   "outputs": [
    {
     "data": {
      "text/plain": [
       "'MAMAPRTEINSTRINGStop'"
      ]
     },
     "execution_count": 51,
     "metadata": {},
     "output_type": "execute_result"
    }
   ],
   "source": [
    "amino_acid_chain"
   ]
  },
  {
   "cell_type": "code",
   "execution_count": null,
   "metadata": {},
   "outputs": [],
   "source": []
  }
 ],
 "metadata": {
  "kernelspec": {
   "display_name": "Python 3",
   "language": "python",
   "name": "python3"
  },
  "language_info": {
   "codemirror_mode": {
    "name": "ipython",
    "version": 3
   },
   "file_extension": ".py",
   "mimetype": "text/x-python",
   "name": "python",
   "nbconvert_exporter": "python",
   "pygments_lexer": "ipython3",
   "version": "3.7.6"
  }
 },
 "nbformat": 4,
 "nbformat_minor": 4
}
