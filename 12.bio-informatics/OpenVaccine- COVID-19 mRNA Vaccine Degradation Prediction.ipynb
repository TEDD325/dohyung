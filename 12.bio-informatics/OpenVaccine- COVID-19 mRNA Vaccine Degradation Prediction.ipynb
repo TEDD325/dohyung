{
 "cells": [
  {
   "cell_type": "code",
   "execution_count": 1,
   "metadata": {},
   "outputs": [],
   "source": [
    "# https://www.kaggle.com/c/stanford-covid-vaccine/data?select=sample_submission.csv"
   ]
  },
  {
   "cell_type": "code",
   "execution_count": 6,
   "metadata": {},
   "outputs": [
    {
     "name": "stdout",
     "output_type": "stream",
     "text": [
      "/home/dohk/GoogleDrive/workspace_BIO\r\n"
     ]
    }
   ],
   "source": [
    "! pwd"
   ]
  },
  {
   "cell_type": "code",
   "execution_count": 37,
   "metadata": {},
   "outputs": [],
   "source": [
    "import pandas as pd\n",
    "import matplotlib.pyplot as plt\n",
    "import seaborn as sns\n",
    "import numpy as np\n",
    "from sklearn.model_selection import RepeatedKFold, RepeatedStratifiedKFold\n",
    "import tensorflow as tf"
   ]
  },
  {
   "cell_type": "code",
   "execution_count": 7,
   "metadata": {},
   "outputs": [],
   "source": [
    "train = pd.read_json('./database/train.json', lines=True)\n",
    "test = pd.read_json('./database/test.json', lines=True)\n",
    "sample_sub = pd.read_csv('./database/sample_submission.csv')"
   ]
  },
  {
   "cell_type": "code",
   "execution_count": 8,
   "metadata": {},
   "outputs": [
    {
     "name": "stdout",
     "output_type": "stream",
     "text": [
      "2096\n"
     ]
    }
   ],
   "source": [
    "print(len(train.loc[train['signal_to_noise'] > 1]))"
   ]
  },
  {
   "cell_type": "code",
   "execution_count": 9,
   "metadata": {},
   "outputs": [
    {
     "name": "stdout",
     "output_type": "stream",
     "text": [
      "509\n"
     ]
    }
   ],
   "source": [
    "print(len(train.loc[(train['signal_to_noise'] > 1) & (train['SN_filter'] != 1)]))"
   ]
  },
  {
   "cell_type": "code",
   "execution_count": 10,
   "metadata": {},
   "outputs": [
    {
     "name": "stdout",
     "output_type": "stream",
     "text": [
      "Index(['index', 'id', 'sequence', 'structure', 'predicted_loop_type',\n",
      "       'signal_to_noise', 'SN_filter', 'seq_length', 'seq_scored',\n",
      "       'reactivity_error', 'deg_error_Mg_pH10', 'deg_error_pH10',\n",
      "       'deg_error_Mg_50C', 'deg_error_50C', 'reactivity', 'deg_Mg_pH10',\n",
      "       'deg_pH10', 'deg_Mg_50C', 'deg_50C'],\n",
      "      dtype='object')\n"
     ]
    }
   ],
   "source": [
    "print(train.columns)"
   ]
  },
  {
   "cell_type": "code",
   "execution_count": 11,
   "metadata": {},
   "outputs": [
    {
     "name": "stdout",
     "output_type": "stream",
     "text": [
      "(2400, 19)\n",
      "No missing values\n"
     ]
    },
    {
     "data": {
      "text/html": [
       "<div>\n",
       "<style scoped>\n",
       "    .dataframe tbody tr th:only-of-type {\n",
       "        vertical-align: middle;\n",
       "    }\n",
       "\n",
       "    .dataframe tbody tr th {\n",
       "        vertical-align: top;\n",
       "    }\n",
       "\n",
       "    .dataframe thead th {\n",
       "        text-align: right;\n",
       "    }\n",
       "</style>\n",
       "<table border=\"1\" class=\"dataframe\">\n",
       "  <thead>\n",
       "    <tr style=\"text-align: right;\">\n",
       "      <th></th>\n",
       "      <th>index</th>\n",
       "      <th>id</th>\n",
       "      <th>sequence</th>\n",
       "      <th>structure</th>\n",
       "      <th>predicted_loop_type</th>\n",
       "      <th>signal_to_noise</th>\n",
       "      <th>SN_filter</th>\n",
       "      <th>seq_length</th>\n",
       "      <th>seq_scored</th>\n",
       "      <th>reactivity_error</th>\n",
       "      <th>deg_error_Mg_pH10</th>\n",
       "      <th>deg_error_pH10</th>\n",
       "      <th>deg_error_Mg_50C</th>\n",
       "      <th>deg_error_50C</th>\n",
       "      <th>reactivity</th>\n",
       "      <th>deg_Mg_pH10</th>\n",
       "      <th>deg_pH10</th>\n",
       "      <th>deg_Mg_50C</th>\n",
       "      <th>deg_50C</th>\n",
       "    </tr>\n",
       "  </thead>\n",
       "  <tbody>\n",
       "    <tr>\n",
       "      <th>0</th>\n",
       "      <td>0</td>\n",
       "      <td>id_001f94081</td>\n",
       "      <td>GGAAAAGCUCUAAUAACAGGAGACUAGGACUACGUAUUUCUAGGUA...</td>\n",
       "      <td>.....((((((.......)))).)).((.....((..((((((......</td>\n",
       "      <td>EEEEESSSSSSHHHHHHHSSSSBSSXSSIIIIISSIISSSSSSHHH...</td>\n",
       "      <td>6.894</td>\n",
       "      <td>1</td>\n",
       "      <td>107</td>\n",
       "      <td>68</td>\n",
       "      <td>[0.1359, 0.20700000000000002, 0.1633, 0.1452, ...</td>\n",
       "      <td>[0.26130000000000003, 0.38420000000000004, 0.1...</td>\n",
       "      <td>[0.2631, 0.28600000000000003, 0.0964, 0.1574, ...</td>\n",
       "      <td>[0.1501, 0.275, 0.0947, 0.18660000000000002, 0...</td>\n",
       "      <td>[0.2167, 0.34750000000000003, 0.188, 0.2124, 0...</td>\n",
       "      <td>[0.3297, 1.5693000000000001, 1.1227, 0.8686, 0...</td>\n",
       "      <td>[0.7556, 2.983, 0.2526, 1.3789, 0.637600000000...</td>\n",
       "      <td>[2.3375, 3.5060000000000002, 0.3008, 1.0108, 0...</td>\n",
       "      <td>[0.35810000000000003, 2.9683, 0.2589, 1.4552, ...</td>\n",
       "      <td>[0.6382, 3.4773, 0.9988, 1.3228, 0.78770000000...</td>\n",
       "    </tr>\n",
       "    <tr>\n",
       "      <th>1</th>\n",
       "      <td>1</td>\n",
       "      <td>id_0049f53ba</td>\n",
       "      <td>GGAAAAAGCGCGCGCGGUUAGCGCGCGCUUUUGCGCGCGCUGUACC...</td>\n",
       "      <td>.....(((((((((((((((((((((((....)))))))))).)))...</td>\n",
       "      <td>EEEEESSSSSSSSSSSSSSSSSSSSSSSHHHHSSSSSSSSSSBSSS...</td>\n",
       "      <td>0.193</td>\n",
       "      <td>0</td>\n",
       "      <td>107</td>\n",
       "      <td>68</td>\n",
       "      <td>[2.8272, 2.8272, 2.8272, 4.7343, 2.5676, 2.567...</td>\n",
       "      <td>[73705.3985, 73705.3985, 73705.3985, 73705.398...</td>\n",
       "      <td>[10.1986, 9.2418, 5.0933, 5.0933, 5.0933, 5.09...</td>\n",
       "      <td>[16.6174, 13.868, 8.1968, 8.1968, 8.1968, 8.19...</td>\n",
       "      <td>[15.4857, 7.9596, 13.3957, 5.8777, 5.8777, 5.8...</td>\n",
       "      <td>[0.0, 0.0, 0.0, 2.2965, 0.0, 0.0, 0.0, 0.0, 0....</td>\n",
       "      <td>[0.0, 0.0, 0.0, 0.0, 0.0, 0.0, 0.0, 0.0, 0.0, ...</td>\n",
       "      <td>[4.947, 4.4523, 0.0, 0.0, 0.0, 0.0, 0.0, 0.0, ...</td>\n",
       "      <td>[4.8511, 4.0426, 0.0, 0.0, 0.0, 0.0, 0.0, 0.0,...</td>\n",
       "      <td>[7.6692, 0.0, 10.9561, 0.0, 0.0, 0.0, 0.0, 0.0...</td>\n",
       "    </tr>\n",
       "    <tr>\n",
       "      <th>2</th>\n",
       "      <td>2</td>\n",
       "      <td>id_006f36f57</td>\n",
       "      <td>GGAAAGUGCUCAGAUAAGCUAAGCUCGAAUAGCAAUCGAAUAGAAU...</td>\n",
       "      <td>.....((((.((.....((((.(((.....)))..((((......)...</td>\n",
       "      <td>EEEEESSSSISSIIIIISSSSMSSSHHHHHSSSMMSSSSHHHHHHS...</td>\n",
       "      <td>8.800</td>\n",
       "      <td>1</td>\n",
       "      <td>107</td>\n",
       "      <td>68</td>\n",
       "      <td>[0.0931, 0.13290000000000002, 0.11280000000000...</td>\n",
       "      <td>[0.1365, 0.2237, 0.1812, 0.1333, 0.1148, 0.160...</td>\n",
       "      <td>[0.17020000000000002, 0.178, 0.111, 0.091, 0.0...</td>\n",
       "      <td>[0.1033, 0.1464, 0.1126, 0.09620000000000001, ...</td>\n",
       "      <td>[0.14980000000000002, 0.1761, 0.1517, 0.116700...</td>\n",
       "      <td>[0.44820000000000004, 1.4822, 1.1819, 0.743400...</td>\n",
       "      <td>[0.2504, 1.4021, 0.9804, 0.49670000000000003, ...</td>\n",
       "      <td>[2.243, 2.9361, 1.0553, 0.721, 0.6396000000000...</td>\n",
       "      <td>[0.5163, 1.6823000000000001, 1.0426, 0.7902, 0...</td>\n",
       "      <td>[0.9501000000000001, 1.7974999999999999, 1.499...</td>\n",
       "    </tr>\n",
       "    <tr>\n",
       "      <th>3</th>\n",
       "      <td>3</td>\n",
       "      <td>id_0082d463b</td>\n",
       "      <td>GGAAAAGCGCGCGCGCGCGCGCGAAAAAGCGCGCGCGCGCGCGCGC...</td>\n",
       "      <td>......((((((((((((((((......))))))))))))))))((...</td>\n",
       "      <td>EEEEEESSSSSSSSSSSSSSSSHHHHHHSSSSSSSSSSSSSSSSSS...</td>\n",
       "      <td>0.104</td>\n",
       "      <td>0</td>\n",
       "      <td>107</td>\n",
       "      <td>68</td>\n",
       "      <td>[3.5229, 6.0748, 3.0374, 3.0374, 3.0374, 3.037...</td>\n",
       "      <td>[73705.3985, 73705.3985, 73705.3985, 73705.398...</td>\n",
       "      <td>[11.8007, 12.7566, 5.7733, 5.7733, 5.7733, 5.7...</td>\n",
       "      <td>[121286.7181, 121286.7182, 121286.7181, 121286...</td>\n",
       "      <td>[15.3995, 8.1124, 7.7824, 7.7824, 7.7824, 7.78...</td>\n",
       "      <td>[0.0, 2.2399, 0.0, 0.0, 0.0, 0.0, 0.0, 0.0, 0....</td>\n",
       "      <td>[0.0, -0.5083, 0.0, 0.0, 0.0, 0.0, 0.0, 0.0, 0...</td>\n",
       "      <td>[3.4248, 6.8128, 0.0, 0.0, 0.0, 0.0, 0.0, 0.0,...</td>\n",
       "      <td>[0.0, -0.8365, 0.0, 0.0, 0.0, 0.0, 0.0, 0.0, 0...</td>\n",
       "      <td>[7.6692, -1.3223, 0.0, 0.0, 0.0, 0.0, 0.0, 0.0...</td>\n",
       "    </tr>\n",
       "    <tr>\n",
       "      <th>4</th>\n",
       "      <td>4</td>\n",
       "      <td>id_0087940f4</td>\n",
       "      <td>GGAAAAUAUAUAAUAUAUUAUAUAAAUAUAUUAUAGAAGUAUAAUA...</td>\n",
       "      <td>.....(((((((.((((((((((((.(((((((((....)))))))...</td>\n",
       "      <td>EEEEESSSSSSSBSSSSSSSSSSSSBSSSSSSSSSHHHHSSSSSSS...</td>\n",
       "      <td>0.423</td>\n",
       "      <td>0</td>\n",
       "      <td>107</td>\n",
       "      <td>68</td>\n",
       "      <td>[1.665, 2.1728, 2.0041, 1.2405, 0.620200000000...</td>\n",
       "      <td>[4.2139, 3.9637000000000002, 3.2467, 2.4716, 1...</td>\n",
       "      <td>[3.0942, 3.015, 2.1212, 2.0552, 0.881500000000...</td>\n",
       "      <td>[2.6717, 2.4818, 1.9919, 2.5484999999999998, 1...</td>\n",
       "      <td>[1.3285, 3.6173, 1.3057, 1.3021, 1.1507, 1.150...</td>\n",
       "      <td>[0.8267, 2.6577, 2.8481, 0.40090000000000003, ...</td>\n",
       "      <td>[2.1058, 3.138, 2.5437000000000003, 1.0932, 0....</td>\n",
       "      <td>[4.7366, 4.6243, 1.2068, 1.1538, 0.0, 0.0, 0.7...</td>\n",
       "      <td>[2.2052, 1.7947000000000002, 0.7457, 3.1233, 0...</td>\n",
       "      <td>[0.0, 5.1198, -0.3551, -0.3518, 0.0, 0.0, 0.0,...</td>\n",
       "    </tr>\n",
       "  </tbody>\n",
       "</table>\n",
       "</div>"
      ],
      "text/plain": [
       "   index            id                                           sequence  \\\n",
       "0      0  id_001f94081  GGAAAAGCUCUAAUAACAGGAGACUAGGACUACGUAUUUCUAGGUA...   \n",
       "1      1  id_0049f53ba  GGAAAAAGCGCGCGCGGUUAGCGCGCGCUUUUGCGCGCGCUGUACC...   \n",
       "2      2  id_006f36f57  GGAAAGUGCUCAGAUAAGCUAAGCUCGAAUAGCAAUCGAAUAGAAU...   \n",
       "3      3  id_0082d463b  GGAAAAGCGCGCGCGCGCGCGCGAAAAAGCGCGCGCGCGCGCGCGC...   \n",
       "4      4  id_0087940f4  GGAAAAUAUAUAAUAUAUUAUAUAAAUAUAUUAUAGAAGUAUAAUA...   \n",
       "\n",
       "                                           structure  \\\n",
       "0  .....((((((.......)))).)).((.....((..((((((......   \n",
       "1  .....(((((((((((((((((((((((....)))))))))).)))...   \n",
       "2  .....((((.((.....((((.(((.....)))..((((......)...   \n",
       "3  ......((((((((((((((((......))))))))))))))))((...   \n",
       "4  .....(((((((.((((((((((((.(((((((((....)))))))...   \n",
       "\n",
       "                                 predicted_loop_type  signal_to_noise  \\\n",
       "0  EEEEESSSSSSHHHHHHHSSSSBSSXSSIIIIISSIISSSSSSHHH...            6.894   \n",
       "1  EEEEESSSSSSSSSSSSSSSSSSSSSSSHHHHSSSSSSSSSSBSSS...            0.193   \n",
       "2  EEEEESSSSISSIIIIISSSSMSSSHHHHHSSSMMSSSSHHHHHHS...            8.800   \n",
       "3  EEEEEESSSSSSSSSSSSSSSSHHHHHHSSSSSSSSSSSSSSSSSS...            0.104   \n",
       "4  EEEEESSSSSSSBSSSSSSSSSSSSBSSSSSSSSSHHHHSSSSSSS...            0.423   \n",
       "\n",
       "   SN_filter  seq_length  seq_scored  \\\n",
       "0          1         107          68   \n",
       "1          0         107          68   \n",
       "2          1         107          68   \n",
       "3          0         107          68   \n",
       "4          0         107          68   \n",
       "\n",
       "                                    reactivity_error  \\\n",
       "0  [0.1359, 0.20700000000000002, 0.1633, 0.1452, ...   \n",
       "1  [2.8272, 2.8272, 2.8272, 4.7343, 2.5676, 2.567...   \n",
       "2  [0.0931, 0.13290000000000002, 0.11280000000000...   \n",
       "3  [3.5229, 6.0748, 3.0374, 3.0374, 3.0374, 3.037...   \n",
       "4  [1.665, 2.1728, 2.0041, 1.2405, 0.620200000000...   \n",
       "\n",
       "                                   deg_error_Mg_pH10  \\\n",
       "0  [0.26130000000000003, 0.38420000000000004, 0.1...   \n",
       "1  [73705.3985, 73705.3985, 73705.3985, 73705.398...   \n",
       "2  [0.1365, 0.2237, 0.1812, 0.1333, 0.1148, 0.160...   \n",
       "3  [73705.3985, 73705.3985, 73705.3985, 73705.398...   \n",
       "4  [4.2139, 3.9637000000000002, 3.2467, 2.4716, 1...   \n",
       "\n",
       "                                      deg_error_pH10  \\\n",
       "0  [0.2631, 0.28600000000000003, 0.0964, 0.1574, ...   \n",
       "1  [10.1986, 9.2418, 5.0933, 5.0933, 5.0933, 5.09...   \n",
       "2  [0.17020000000000002, 0.178, 0.111, 0.091, 0.0...   \n",
       "3  [11.8007, 12.7566, 5.7733, 5.7733, 5.7733, 5.7...   \n",
       "4  [3.0942, 3.015, 2.1212, 2.0552, 0.881500000000...   \n",
       "\n",
       "                                    deg_error_Mg_50C  \\\n",
       "0  [0.1501, 0.275, 0.0947, 0.18660000000000002, 0...   \n",
       "1  [16.6174, 13.868, 8.1968, 8.1968, 8.1968, 8.19...   \n",
       "2  [0.1033, 0.1464, 0.1126, 0.09620000000000001, ...   \n",
       "3  [121286.7181, 121286.7182, 121286.7181, 121286...   \n",
       "4  [2.6717, 2.4818, 1.9919, 2.5484999999999998, 1...   \n",
       "\n",
       "                                       deg_error_50C  \\\n",
       "0  [0.2167, 0.34750000000000003, 0.188, 0.2124, 0...   \n",
       "1  [15.4857, 7.9596, 13.3957, 5.8777, 5.8777, 5.8...   \n",
       "2  [0.14980000000000002, 0.1761, 0.1517, 0.116700...   \n",
       "3  [15.3995, 8.1124, 7.7824, 7.7824, 7.7824, 7.78...   \n",
       "4  [1.3285, 3.6173, 1.3057, 1.3021, 1.1507, 1.150...   \n",
       "\n",
       "                                          reactivity  \\\n",
       "0  [0.3297, 1.5693000000000001, 1.1227, 0.8686, 0...   \n",
       "1  [0.0, 0.0, 0.0, 2.2965, 0.0, 0.0, 0.0, 0.0, 0....   \n",
       "2  [0.44820000000000004, 1.4822, 1.1819, 0.743400...   \n",
       "3  [0.0, 2.2399, 0.0, 0.0, 0.0, 0.0, 0.0, 0.0, 0....   \n",
       "4  [0.8267, 2.6577, 2.8481, 0.40090000000000003, ...   \n",
       "\n",
       "                                         deg_Mg_pH10  \\\n",
       "0  [0.7556, 2.983, 0.2526, 1.3789, 0.637600000000...   \n",
       "1  [0.0, 0.0, 0.0, 0.0, 0.0, 0.0, 0.0, 0.0, 0.0, ...   \n",
       "2  [0.2504, 1.4021, 0.9804, 0.49670000000000003, ...   \n",
       "3  [0.0, -0.5083, 0.0, 0.0, 0.0, 0.0, 0.0, 0.0, 0...   \n",
       "4  [2.1058, 3.138, 2.5437000000000003, 1.0932, 0....   \n",
       "\n",
       "                                            deg_pH10  \\\n",
       "0  [2.3375, 3.5060000000000002, 0.3008, 1.0108, 0...   \n",
       "1  [4.947, 4.4523, 0.0, 0.0, 0.0, 0.0, 0.0, 0.0, ...   \n",
       "2  [2.243, 2.9361, 1.0553, 0.721, 0.6396000000000...   \n",
       "3  [3.4248, 6.8128, 0.0, 0.0, 0.0, 0.0, 0.0, 0.0,...   \n",
       "4  [4.7366, 4.6243, 1.2068, 1.1538, 0.0, 0.0, 0.7...   \n",
       "\n",
       "                                          deg_Mg_50C  \\\n",
       "0  [0.35810000000000003, 2.9683, 0.2589, 1.4552, ...   \n",
       "1  [4.8511, 4.0426, 0.0, 0.0, 0.0, 0.0, 0.0, 0.0,...   \n",
       "2  [0.5163, 1.6823000000000001, 1.0426, 0.7902, 0...   \n",
       "3  [0.0, -0.8365, 0.0, 0.0, 0.0, 0.0, 0.0, 0.0, 0...   \n",
       "4  [2.2052, 1.7947000000000002, 0.7457, 3.1233, 0...   \n",
       "\n",
       "                                             deg_50C  \n",
       "0  [0.6382, 3.4773, 0.9988, 1.3228, 0.78770000000...  \n",
       "1  [7.6692, 0.0, 10.9561, 0.0, 0.0, 0.0, 0.0, 0.0...  \n",
       "2  [0.9501000000000001, 1.7974999999999999, 1.499...  \n",
       "3  [7.6692, -1.3223, 0.0, 0.0, 0.0, 0.0, 0.0, 0.0...  \n",
       "4  [0.0, 5.1198, -0.3551, -0.3518, 0.0, 0.0, 0.0,...  "
      ]
     },
     "execution_count": 11,
     "metadata": {},
     "output_type": "execute_result"
    }
   ],
   "source": [
    "#sneak peak\n",
    "print(train.shape)\n",
    "if ~train.isnull().values.any(): print('No missing values')\n",
    "train.head()"
   ]
  },
  {
   "cell_type": "code",
   "execution_count": 12,
   "metadata": {},
   "outputs": [
    {
     "name": "stdout",
     "output_type": "stream",
     "text": [
      "(3634, 7)\n",
      "No missing values\n"
     ]
    },
    {
     "data": {
      "text/html": [
       "<div>\n",
       "<style scoped>\n",
       "    .dataframe tbody tr th:only-of-type {\n",
       "        vertical-align: middle;\n",
       "    }\n",
       "\n",
       "    .dataframe tbody tr th {\n",
       "        vertical-align: top;\n",
       "    }\n",
       "\n",
       "    .dataframe thead th {\n",
       "        text-align: right;\n",
       "    }\n",
       "</style>\n",
       "<table border=\"1\" class=\"dataframe\">\n",
       "  <thead>\n",
       "    <tr style=\"text-align: right;\">\n",
       "      <th></th>\n",
       "      <th>index</th>\n",
       "      <th>id</th>\n",
       "      <th>sequence</th>\n",
       "      <th>structure</th>\n",
       "      <th>predicted_loop_type</th>\n",
       "      <th>seq_length</th>\n",
       "      <th>seq_scored</th>\n",
       "    </tr>\n",
       "  </thead>\n",
       "  <tbody>\n",
       "    <tr>\n",
       "      <th>0</th>\n",
       "      <td>0</td>\n",
       "      <td>id_00073f8be</td>\n",
       "      <td>GGAAAAGUACGACUUGAGUACGGAAAACGUACCAACUCGAUUAAAA...</td>\n",
       "      <td>......((((((((((.(((((.....))))))))((((((((......</td>\n",
       "      <td>EEEEEESSSSSSSSSSBSSSSSHHHHHSSSSSSSSSSSSSSSSHHH...</td>\n",
       "      <td>107</td>\n",
       "      <td>68</td>\n",
       "    </tr>\n",
       "    <tr>\n",
       "      <th>1</th>\n",
       "      <td>1</td>\n",
       "      <td>id_000ae4237</td>\n",
       "      <td>GGAAACGGGUUCCGCGGAUUGCUGCUAAUAAGAGUAAUCUCUAAAU...</td>\n",
       "      <td>.....((((..((((((...(((((.....((((....)))).......</td>\n",
       "      <td>EEEEESSSSIISSSSSSIIISSSSSIIIIISSSSHHHHSSSSIIII...</td>\n",
       "      <td>130</td>\n",
       "      <td>91</td>\n",
       "    </tr>\n",
       "    <tr>\n",
       "      <th>2</th>\n",
       "      <td>2</td>\n",
       "      <td>id_00131c573</td>\n",
       "      <td>GGAAAACAAAACGGCCUGGAAGACGAAGGAAUUCGGCGCGAAGGCC...</td>\n",
       "      <td>...........((.(((.(.(..((..((..((((...))))..))...</td>\n",
       "      <td>EEEEEEEEEEESSISSSISISIISSIISSIISSSSHHHSSSSIISS...</td>\n",
       "      <td>107</td>\n",
       "      <td>68</td>\n",
       "    </tr>\n",
       "    <tr>\n",
       "      <th>3</th>\n",
       "      <td>3</td>\n",
       "      <td>id_00181fd34</td>\n",
       "      <td>GGAAAGGAUCUCUAUCGAAGGAUAGAGAUCGCUCGCGACGGCACGA...</td>\n",
       "      <td>......((((((((((....))))))))))((((((..((.(((.....</td>\n",
       "      <td>EEEEEESSSSSSSSSSHHHHSSSSSSSSSSSSSSSSIISSISSSHH...</td>\n",
       "      <td>107</td>\n",
       "      <td>68</td>\n",
       "    </tr>\n",
       "    <tr>\n",
       "      <th>4</th>\n",
       "      <td>4</td>\n",
       "      <td>id_0020473f7</td>\n",
       "      <td>GGAAACCCGCCCGCGCCCGCCCGCGCUGCUGCCGUGCCUCCUCUCC...</td>\n",
       "      <td>.....(((((((((((((((((((((((((((((((((((((((((...</td>\n",
       "      <td>EEEEESSSSSSSSSSSSSSSSSSSSSSSSSSSSSSSSSSSSSSSSS...</td>\n",
       "      <td>130</td>\n",
       "      <td>91</td>\n",
       "    </tr>\n",
       "  </tbody>\n",
       "</table>\n",
       "</div>"
      ],
      "text/plain": [
       "   index            id                                           sequence  \\\n",
       "0      0  id_00073f8be  GGAAAAGUACGACUUGAGUACGGAAAACGUACCAACUCGAUUAAAA...   \n",
       "1      1  id_000ae4237  GGAAACGGGUUCCGCGGAUUGCUGCUAAUAAGAGUAAUCUCUAAAU...   \n",
       "2      2  id_00131c573  GGAAAACAAAACGGCCUGGAAGACGAAGGAAUUCGGCGCGAAGGCC...   \n",
       "3      3  id_00181fd34  GGAAAGGAUCUCUAUCGAAGGAUAGAGAUCGCUCGCGACGGCACGA...   \n",
       "4      4  id_0020473f7  GGAAACCCGCCCGCGCCCGCCCGCGCUGCUGCCGUGCCUCCUCUCC...   \n",
       "\n",
       "                                           structure  \\\n",
       "0  ......((((((((((.(((((.....))))))))((((((((......   \n",
       "1  .....((((..((((((...(((((.....((((....)))).......   \n",
       "2  ...........((.(((.(.(..((..((..((((...))))..))...   \n",
       "3  ......((((((((((....))))))))))((((((..((.(((.....   \n",
       "4  .....(((((((((((((((((((((((((((((((((((((((((...   \n",
       "\n",
       "                                 predicted_loop_type  seq_length  seq_scored  \n",
       "0  EEEEEESSSSSSSSSSBSSSSSHHHHHSSSSSSSSSSSSSSSSHHH...         107          68  \n",
       "1  EEEEESSSSIISSSSSSIIISSSSSIIIIISSSSHHHHSSSSIIII...         130          91  \n",
       "2  EEEEEEEEEEESSISSSISISIISSIISSIISSSSHHHSSSSIISS...         107          68  \n",
       "3  EEEEEESSSSSSSSSSHHHHSSSSSSSSSSSSSSSSIISSISSSHH...         107          68  \n",
       "4  EEEEESSSSSSSSSSSSSSSSSSSSSSSSSSSSSSSSSSSSSSSSS...         130          91  "
      ]
     },
     "execution_count": 12,
     "metadata": {},
     "output_type": "execute_result"
    }
   ],
   "source": [
    "#sneak peak\n",
    "print(test.shape)\n",
    "if ~test.isnull().values.any(): print('No missing values')\n",
    "test.head()"
   ]
  },
  {
   "cell_type": "code",
   "execution_count": 13,
   "metadata": {},
   "outputs": [
    {
     "name": "stdout",
     "output_type": "stream",
     "text": [
      "(457953, 6)\n",
      "No missing values\n"
     ]
    },
    {
     "data": {
      "text/html": [
       "<div>\n",
       "<style scoped>\n",
       "    .dataframe tbody tr th:only-of-type {\n",
       "        vertical-align: middle;\n",
       "    }\n",
       "\n",
       "    .dataframe tbody tr th {\n",
       "        vertical-align: top;\n",
       "    }\n",
       "\n",
       "    .dataframe thead th {\n",
       "        text-align: right;\n",
       "    }\n",
       "</style>\n",
       "<table border=\"1\" class=\"dataframe\">\n",
       "  <thead>\n",
       "    <tr style=\"text-align: right;\">\n",
       "      <th></th>\n",
       "      <th>id_seqpos</th>\n",
       "      <th>reactivity</th>\n",
       "      <th>deg_Mg_pH10</th>\n",
       "      <th>deg_pH10</th>\n",
       "      <th>deg_Mg_50C</th>\n",
       "      <th>deg_50C</th>\n",
       "    </tr>\n",
       "  </thead>\n",
       "  <tbody>\n",
       "    <tr>\n",
       "      <th>0</th>\n",
       "      <td>id_00073f8be_0</td>\n",
       "      <td>0.0</td>\n",
       "      <td>0.0</td>\n",
       "      <td>0.0</td>\n",
       "      <td>0.0</td>\n",
       "      <td>0.0</td>\n",
       "    </tr>\n",
       "    <tr>\n",
       "      <th>1</th>\n",
       "      <td>id_00073f8be_1</td>\n",
       "      <td>0.0</td>\n",
       "      <td>0.0</td>\n",
       "      <td>0.0</td>\n",
       "      <td>0.0</td>\n",
       "      <td>0.0</td>\n",
       "    </tr>\n",
       "    <tr>\n",
       "      <th>2</th>\n",
       "      <td>id_00073f8be_2</td>\n",
       "      <td>0.0</td>\n",
       "      <td>0.0</td>\n",
       "      <td>0.0</td>\n",
       "      <td>0.0</td>\n",
       "      <td>0.0</td>\n",
       "    </tr>\n",
       "    <tr>\n",
       "      <th>3</th>\n",
       "      <td>id_00073f8be_3</td>\n",
       "      <td>0.0</td>\n",
       "      <td>0.0</td>\n",
       "      <td>0.0</td>\n",
       "      <td>0.0</td>\n",
       "      <td>0.0</td>\n",
       "    </tr>\n",
       "    <tr>\n",
       "      <th>4</th>\n",
       "      <td>id_00073f8be_4</td>\n",
       "      <td>0.0</td>\n",
       "      <td>0.0</td>\n",
       "      <td>0.0</td>\n",
       "      <td>0.0</td>\n",
       "      <td>0.0</td>\n",
       "    </tr>\n",
       "  </tbody>\n",
       "</table>\n",
       "</div>"
      ],
      "text/plain": [
       "        id_seqpos  reactivity  deg_Mg_pH10  deg_pH10  deg_Mg_50C  deg_50C\n",
       "0  id_00073f8be_0         0.0          0.0       0.0         0.0      0.0\n",
       "1  id_00073f8be_1         0.0          0.0       0.0         0.0      0.0\n",
       "2  id_00073f8be_2         0.0          0.0       0.0         0.0      0.0\n",
       "3  id_00073f8be_3         0.0          0.0       0.0         0.0      0.0\n",
       "4  id_00073f8be_4         0.0          0.0       0.0         0.0      0.0"
      ]
     },
     "execution_count": 13,
     "metadata": {},
     "output_type": "execute_result"
    }
   ],
   "source": [
    "#sneak peak\n",
    "print(sample_sub.shape)\n",
    "if ~sample_sub.isnull().values.any(): print('No missing values')\n",
    "sample_sub.head()"
   ]
  },
  {
   "cell_type": "code",
   "execution_count": 18,
   "metadata": {},
   "outputs": [
    {
     "data": {
      "image/png": "[encoded data removed]",
      "text/plain": [
       "<Figure size 1080x360 with 2 Axes>"
      ]
     },
     "metadata": {
      "needs_background": "light"
     },
     "output_type": "display_data"
    }
   ],
   "source": [
    "fig, ax = plt.subplots(1, 2, figsize=(15, 5))\n",
    "sns.kdeplot(train['signal_to_noise'], shade=True, ax=ax[0])\n",
    "sns.countplot(train['SN_filter'], ax=ax[1])\n",
    "\n",
    "ax[0].set_title('Signal/Noise Distribution')\n",
    "ax[1].set_title('Signal/Noise Filter Distribution');"
   ]
  },
  {
   "cell_type": "code",
   "execution_count": 19,
   "metadata": {},
   "outputs": [
    {
     "name": "stdout",
     "output_type": "stream",
     "text": [
      "Samples with signal_to_noise greater than 1: 2096\n",
      "Samples with SN_filter = 1: 1589\n"
     ]
    }
   ],
   "source": [
    "print(f\"Samples with signal_to_noise greater than 1: {len(train.loc[(train['signal_to_noise'] > 1 )])}\")\n",
    "print(f\"Samples with SN_filter = 1: {len(train.loc[(train['SN_filter'] == 1 )])}\")"
   ]
  },
  {
   "cell_type": "code",
   "execution_count": 20,
   "metadata": {},
   "outputs": [],
   "source": [
    "#target columns\n",
    "target_cols = ['reactivity', 'deg_Mg_pH10', 'deg_pH10', 'deg_Mg_50C', 'deg_50C']"
   ]
  },
  {
   "cell_type": "code",
   "execution_count": 21,
   "metadata": {},
   "outputs": [],
   "source": [
    "token2int = {x:i for i, x in enumerate('().ACGUBEHIMSX')}"
   ]
  },
  {
   "cell_type": "code",
   "execution_count": 22,
   "metadata": {},
   "outputs": [],
   "source": [
    "def preprocess_inputs(df, cols=['sequence', 'structure', 'predicted_loop_type']):\n",
    "    return np.transpose(\n",
    "        np.array(\n",
    "            df[cols]\n",
    "            .applymap(lambda seq: [token2int[x] for x in seq])\n",
    "            .values\n",
    "            .tolist()\n",
    "        ),\n",
    "        (0, 2, 1)\n",
    "    )"
   ]
  },
  {
   "cell_type": "code",
   "execution_count": 25,
   "metadata": {},
   "outputs": [],
   "source": [
    "train_inputs = preprocess_inputs(train.loc[train['signal_to_noise'] > 1])\n",
    "train_labels = np.array(train.loc[train['signal_to_noise'] > 1][target_cols].values.tolist()).transpose((0, 2, 1))"
   ]
  },
  {
   "cell_type": "code",
   "execution_count": 26,
   "metadata": {},
   "outputs": [
    {
     "data": {
      "text/plain": [
       "14"
      ]
     },
     "execution_count": 26,
     "metadata": {},
     "output_type": "execute_result"
    }
   ],
   "source": [
    "len(token2int)"
   ]
  },
  {
   "cell_type": "code",
   "execution_count": 27,
   "metadata": {},
   "outputs": [],
   "source": [
    "# https://www.kaggle.com/c/stanford-covid-vaccine/discussion/183211\n",
    "def mcrmse(y_true, y_pred):\n",
    "    colwise_mse = tf.reduce_mean(tf.square(y_true - y_pred), axis=1)\n",
    "    return tf.reduce_mean(tf.sqrt(colwise_mse), axis=1)"
   ]
  },
  {
   "cell_type": "code",
   "execution_count": 28,
   "metadata": {},
   "outputs": [],
   "source": [
    "def gru_layer(hidden_dim, dropout):\n",
    "    return tf.keras.layers.Bidirectional(\n",
    "                                tf.keras.layers.GRU(hidden_dim,\n",
    "                                dropout=dropout,\n",
    "                                return_sequences=True,\n",
    "                                kernel_initializer='orthogonal'))\n",
    "\n",
    "def lstm_layer(hidden_dim, dropout):\n",
    "    return tf.keras.layers.Bidirectional(\n",
    "                                tf.keras.layers.LSTM(hidden_dim,\n",
    "                                dropout=dropout,\n",
    "                                return_sequences=True,\n",
    "                                kernel_initializer='orthogonal'))\n",
    "\n",
    "def build_model(gru=False, lstm=False, seq_len=107, pred_len=68, dropout=0.4,\n",
    "                embed_dim=100, hidden_dim=128, layers=3):\n",
    "    \n",
    "    inputs = tf.keras.layers.Input(shape=(seq_len, 3))\n",
    "\n",
    "    embed = tf.keras.layers.Embedding(input_dim=len(token2int), output_dim=embed_dim)(inputs)\n",
    "    reshaped = tf.reshape(\n",
    "        embed, shape=(-1, embed.shape[1],  embed.shape[2] * embed.shape[3]))\n",
    "    \n",
    "    hidden = tf.keras.layers.SpatialDropout1D(.2)(reshaped)\n",
    "    \n",
    "    if gru:\n",
    "        for _ in range(layers):\n",
    "            hidden = gru_layer(hidden_dim, dropout)(hidden)\n",
    "        \n",
    "    elif lstm:\n",
    "        for _ in range(layers):\n",
    "            hidden = lstm_layer(hidden_dim, dropout)(hidden)\n",
    "    \n",
    "    truncated = hidden[:, :pred_len]\n",
    "    out = tf.keras.layers.Dense(5, activation='linear')(truncated)\n",
    "    \n",
    "    model = tf.keras.Model(inputs=inputs, outputs=out)\n",
    "    adam = tf.optimizers.Adam()\n",
    "    model.compile(optimizer=adam, loss=mcrmse)\n",
    "    \n",
    "    return model"
   ]
  },
  {
   "cell_type": "code",
   "execution_count": 29,
   "metadata": {},
   "outputs": [],
   "source": [
    "#basic training configuration\n",
    "FOLDS = 4\n",
    "EPOCHS = 90\n",
    "REPEATS = 3\n",
    "BATCH_SIZE = 64\n",
    "VERBOSE = 2\n",
    "SEED = 34"
   ]
  },
  {
   "cell_type": "code",
   "execution_count": 30,
   "metadata": {},
   "outputs": [],
   "source": [
    "public_df = test.query(\"seq_length == 107\").copy()\n",
    "private_df = test.query(\"seq_length == 130\").copy()\n",
    "\n",
    "public_inputs = preprocess_inputs(public_df)\n",
    "private_inputs = preprocess_inputs(private_df)"
   ]
  },
  {
   "cell_type": "code",
   "execution_count": 31,
   "metadata": {},
   "outputs": [],
   "source": [
    "STRATIFY=True"
   ]
  },
  {
   "cell_type": "code",
   "execution_count": null,
   "metadata": {
    "scrolled": false
   },
   "outputs": [
    {
     "name": "stderr",
     "output_type": "stream",
     "text": [
      "/home/dohk/anaconda3/lib/python3.8/site-packages/sklearn/utils/validation.py:68: FutureWarning: Pass n_splits=4 as keyword args. From version 0.25 passing these as positional arguments will result in an error\n",
      "  warnings.warn(\"Pass {} as keyword args. From version 0.25 \"\n"
     ]
    },
    {
     "name": "stdout",
     "output_type": "stream",
     "text": [
      "Epoch 1/90\n",
      "25/25 - 12s - loss: 0.4647 - val_loss: 0.4103 - lr: 0.0010\n",
      "Epoch 2/90\n",
      "25/25 - 12s - loss: 0.3993 - val_loss: 0.3893 - lr: 0.0010\n",
      "Epoch 3/90\n",
      "25/25 - 13s - loss: 0.3843 - val_loss: 0.3765 - lr: 0.0010\n",
      "Epoch 4/90\n",
      "25/25 - 13s - loss: 0.3699 - val_loss: 0.3590 - lr: 0.0010\n",
      "Epoch 5/90\n",
      "25/25 - 13s - loss: 0.3571 - val_loss: 0.3493 - lr: 0.0010\n",
      "Epoch 6/90\n",
      "25/25 - 13s - loss: 0.3486 - val_loss: 0.3432 - lr: 0.0010\n",
      "Epoch 7/90\n",
      "25/25 - 13s - loss: 0.3415 - val_loss: 0.3357 - lr: 0.0010\n",
      "Epoch 8/90\n",
      "25/25 - 13s - loss: 0.3347 - val_loss: 0.3278 - lr: 0.0010\n",
      "Epoch 9/90\n",
      "25/25 - 13s - loss: 0.3300 - val_loss: 0.3243 - lr: 0.0010\n",
      "Epoch 10/90\n",
      "25/25 - 13s - loss: 0.3260 - val_loss: 0.3205 - lr: 0.0010\n",
      "Epoch 11/90\n",
      "25/25 - 13s - loss: 0.3225 - val_loss: 0.3158 - lr: 0.0010\n",
      "Epoch 12/90\n",
      "25/25 - 13s - loss: 0.3164 - val_loss: 0.3090 - lr: 0.0010\n",
      "Epoch 13/90\n",
      "25/25 - 13s - loss: 0.3124 - val_loss: 0.3037 - lr: 0.0010\n",
      "Epoch 14/90\n",
      "25/25 - 13s - loss: 0.3063 - val_loss: 0.3006 - lr: 0.0010\n",
      "Epoch 15/90\n",
      "25/25 - 13s - loss: 0.3015 - val_loss: 0.2931 - lr: 0.0010\n",
      "Epoch 16/90\n",
      "25/25 - 13s - loss: 0.2948 - val_loss: 0.2897 - lr: 0.0010\n",
      "Epoch 17/90\n",
      "25/25 - 13s - loss: 0.2924 - val_loss: 0.2848 - lr: 0.0010\n",
      "Epoch 18/90\n",
      "25/25 - 13s - loss: 0.2868 - val_loss: 0.2828 - lr: 0.0010\n",
      "Epoch 19/90\n",
      "25/25 - 13s - loss: 0.2843 - val_loss: 0.2777 - lr: 0.0010\n",
      "Epoch 20/90\n",
      "25/25 - 13s - loss: 0.2813 - val_loss: 0.2751 - lr: 0.0010\n",
      "Epoch 21/90\n",
      "25/25 - 13s - loss: 0.2766 - val_loss: 0.2717 - lr: 0.0010\n",
      "Epoch 22/90\n",
      "25/25 - 13s - loss: 0.2745 - val_loss: 0.2700 - lr: 0.0010\n",
      "Epoch 23/90\n",
      "25/25 - 13s - loss: 0.2710 - val_loss: 0.2690 - lr: 0.0010\n",
      "Epoch 24/90\n",
      "25/25 - 13s - loss: 0.2678 - val_loss: 0.2647 - lr: 0.0010\n",
      "Epoch 25/90\n",
      "25/25 - 13s - loss: 0.2660 - val_loss: 0.2614 - lr: 0.0010\n",
      "Epoch 26/90\n",
      "25/25 - 13s - loss: 0.2639 - val_loss: 0.2610 - lr: 0.0010\n",
      "Epoch 27/90\n",
      "25/25 - 13s - loss: 0.2603 - val_loss: 0.2581 - lr: 0.0010\n",
      "Epoch 28/90\n",
      "25/25 - 13s - loss: 0.2588 - val_loss: 0.2583 - lr: 0.0010\n",
      "Epoch 29/90\n",
      "25/25 - 13s - loss: 0.2567 - val_loss: 0.2535 - lr: 0.0010\n",
      "Epoch 30/90\n",
      "25/25 - 13s - loss: 0.2538 - val_loss: 0.2525 - lr: 0.0010\n",
      "Epoch 31/90\n",
      "25/25 - 13s - loss: 0.2528 - val_loss: 0.2514 - lr: 0.0010\n",
      "Epoch 32/90\n",
      "25/25 - 13s - loss: 0.2508 - val_loss: 0.2485 - lr: 0.0010\n",
      "Epoch 33/90\n",
      "25/25 - 13s - loss: 0.2472 - val_loss: 0.2482 - lr: 0.0010\n",
      "Epoch 34/90\n",
      "25/25 - 13s - loss: 0.2466 - val_loss: 0.2460 - lr: 0.0010\n",
      "Epoch 35/90\n",
      "25/25 - 13s - loss: 0.2447 - val_loss: 0.2478 - lr: 0.0010\n",
      "Epoch 36/90\n",
      "25/25 - 13s - loss: 0.2426 - val_loss: 0.2454 - lr: 0.0010\n",
      "Epoch 37/90\n",
      "25/25 - 13s - loss: 0.2398 - val_loss: 0.2418 - lr: 0.0010\n",
      "Epoch 38/90\n",
      "25/25 - 13s - loss: 0.2390 - val_loss: 0.2409 - lr: 0.0010\n",
      "Epoch 39/90\n",
      "25/25 - 13s - loss: 0.2376 - val_loss: 0.2412 - lr: 0.0010\n",
      "Epoch 40/90\n",
      "25/25 - 13s - loss: 0.2365 - val_loss: 0.2405 - lr: 0.0010\n",
      "Epoch 41/90\n",
      "25/25 - 13s - loss: 0.2357 - val_loss: 0.2404 - lr: 0.0010\n",
      "Epoch 42/90\n",
      "25/25 - 13s - loss: 0.2339 - val_loss: 0.2414 - lr: 0.0010\n",
      "Epoch 43/90\n",
      "25/25 - 13s - loss: 0.2336 - val_loss: 0.2395 - lr: 0.0010\n",
      "Epoch 44/90\n",
      "25/25 - 13s - loss: 0.2313 - val_loss: 0.2391 - lr: 0.0010\n",
      "Epoch 45/90\n",
      "25/25 - 13s - loss: 0.2300 - val_loss: 0.2366 - lr: 0.0010\n",
      "Epoch 46/90\n",
      "25/25 - 13s - loss: 0.2292 - val_loss: 0.2364 - lr: 0.0010\n",
      "Epoch 47/90\n",
      "25/25 - 13s - loss: 0.2288 - val_loss: 0.2375 - lr: 0.0010\n",
      "Epoch 48/90\n",
      "25/25 - 13s - loss: 0.2275 - val_loss: 0.2382 - lr: 0.0010\n",
      "Epoch 49/90\n",
      "25/25 - 13s - loss: 0.2268 - val_loss: 0.2350 - lr: 0.0010\n",
      "Epoch 50/90\n",
      "25/25 - 13s - loss: 0.2261 - val_loss: 0.2352 - lr: 0.0010\n",
      "Epoch 51/90\n",
      "25/25 - 13s - loss: 0.2243 - val_loss: 0.2358 - lr: 0.0010\n",
      "Epoch 52/90\n",
      "25/25 - 13s - loss: 0.2232 - val_loss: 0.2347 - lr: 0.0010\n",
      "Epoch 53/90\n",
      "25/25 - 13s - loss: 0.2223 - val_loss: 0.2348 - lr: 0.0010\n",
      "Epoch 54/90\n",
      "25/25 - 13s - loss: 0.2221 - val_loss: 0.2349 - lr: 0.0010\n",
      "Epoch 55/90\n",
      "25/25 - 13s - loss: 0.2208 - val_loss: 0.2351 - lr: 0.0010\n",
      "Epoch 56/90\n",
      "25/25 - 13s - loss: 0.2190 - val_loss: 0.2323 - lr: 0.0010\n",
      "Epoch 57/90\n",
      "25/25 - 13s - loss: 0.2180 - val_loss: 0.2353 - lr: 0.0010\n",
      "Epoch 58/90\n",
      "25/25 - 13s - loss: 0.2179 - val_loss: 0.2318 - lr: 0.0010\n",
      "Epoch 59/90\n",
      "25/25 - 13s - loss: 0.2174 - val_loss: 0.2333 - lr: 0.0010\n",
      "Epoch 60/90\n",
      "25/25 - 13s - loss: 0.2169 - val_loss: 0.2320 - lr: 0.0010\n",
      "Epoch 61/90\n",
      "25/25 - 13s - loss: 0.2152 - val_loss: 0.2336 - lr: 0.0010\n",
      "Epoch 62/90\n",
      "25/25 - 13s - loss: 0.2149 - val_loss: 0.2315 - lr: 0.0010\n",
      "Epoch 63/90\n",
      "25/25 - 13s - loss: 0.2140 - val_loss: 0.2307 - lr: 0.0010\n",
      "Epoch 64/90\n",
      "25/25 - 13s - loss: 0.2127 - val_loss: 0.2309 - lr: 0.0010\n",
      "Epoch 65/90\n",
      "25/25 - 13s - loss: 0.2120 - val_loss: 0.2300 - lr: 0.0010\n",
      "Epoch 66/90\n",
      "25/25 - 13s - loss: 0.2114 - val_loss: 0.2305 - lr: 0.0010\n",
      "Epoch 67/90\n",
      "25/25 - 13s - loss: 0.2100 - val_loss: 0.2296 - lr: 0.0010\n",
      "Epoch 68/90\n",
      "25/25 - 13s - loss: 0.2096 - val_loss: 0.2312 - lr: 0.0010\n",
      "Epoch 69/90\n",
      "25/25 - 13s - loss: 0.2102 - val_loss: 0.2304 - lr: 0.0010\n",
      "Epoch 70/90\n",
      "25/25 - 13s - loss: 0.2086 - val_loss: 0.2311 - lr: 0.0010\n",
      "Epoch 71/90\n",
      "25/25 - 13s - loss: 0.2084 - val_loss: 0.2287 - lr: 0.0010\n",
      "Epoch 72/90\n",
      "25/25 - 13s - loss: 0.2069 - val_loss: 0.2290 - lr: 0.0010\n",
      "Epoch 73/90\n",
      "25/25 - 13s - loss: 0.2061 - val_loss: 0.2289 - lr: 0.0010\n",
      "Epoch 74/90\n",
      "25/25 - 13s - loss: 0.2059 - val_loss: 0.2276 - lr: 0.0010\n",
      "Epoch 75/90\n"
     ]
    }
   ],
   "source": [
    "gru_histories = []\n",
    "gru_private_preds = np.zeros((private_df.shape[0], 130, 5))\n",
    "gru_public_preds = np.zeros((public_df.shape[0], 107, 5))\n",
    "\n",
    "rkf = RepeatedKFold(FOLDS, n_repeats = REPEATS, random_state = SEED)\n",
    "rskf = RepeatedStratifiedKFold(FOLDS, n_repeats = REPEATS, random_state = SEED)\n",
    "\n",
    "for f, (train_index, val_index) in enumerate((rskf if STRATIFY else rkf)\n",
    "                                             .split(train_inputs,\n",
    "                                             train.loc[train['signal_to_noise'] > 1]['SN_filter'] if STRATIFY else None)):\n",
    "    \n",
    "    lr_callback = tf.keras.callbacks.ReduceLROnPlateau(patience=6)\n",
    "    sv_gru = tf.keras.callbacks.ModelCheckpoint(f'gru-{f}.h5')\n",
    "\n",
    "    train_ = train_inputs[train_index]\n",
    "    train_labs = train_labels[train_index]\n",
    "    val_ = train_inputs[val_index]\n",
    "    val_labs = train_labels[val_index]\n",
    "\n",
    "    gru = build_model(gru=True)\n",
    "    history = gru.fit(train_, train_labs, \n",
    "                      validation_data=(val_,val_labs),\n",
    "                      batch_size=BATCH_SIZE,\n",
    "                      epochs=EPOCHS,\n",
    "                      callbacks=[lr_callback,sv_gru],\n",
    "                      verbose = VERBOSE)  \n",
    "\n",
    "    gru_histories.append(history)\n",
    "\n",
    "    gru_short = build_model(gru=True, seq_len=107, pred_len=107)\n",
    "    gru_short.load_weights(f'gru-{f}.h5')\n",
    "    gru_public_pred = gru_short.predict(public_inputs) / (FOLDS * REPEATS)\n",
    "\n",
    "    gru_long = build_model(gru=True, seq_len=130, pred_len=130)\n",
    "    gru_long.load_weights(f'gru-{f}.h5')\n",
    "    gru_private_pred = gru_long.predict(private_inputs) / (FOLDS * REPEATS)\n",
    "\n",
    "    gru_public_preds += gru_public_pred\n",
    "    gru_private_preds += gru_private_pred\n",
    "\n",
    "    del gru_short, gru_long"
   ]
  },
  {
   "cell_type": "code",
   "execution_count": null,
   "metadata": {},
   "outputs": [],
   "source": [
    "print(f\" GRU mean fold MCRMSE: {np.mean([min(history.history['val_loss']) for history in gru_histories])}\")"
   ]
  },
  {
   "cell_type": "code",
   "execution_count": null,
   "metadata": {},
   "outputs": [],
   "source": [
    "STRATIFY=True"
   ]
  },
  {
   "cell_type": "code",
   "execution_count": null,
   "metadata": {},
   "outputs": [],
   "source": [
    "lstm_histories = []\n",
    "lstm_private_preds = np.zeros((private_df.shape[0], 130, 5))\n",
    "lstm_public_preds = np.zeros((public_df.shape[0], 107, 5))\n",
    "\n",
    "for f, (train_index, val_index) in enumerate((rskf if STRATIFY else rkf)\n",
    "                                             .split(train_inputs,\n",
    "                                             train.loc[train['signal_to_noise'] > 1]['SN_filter'] if STRATIFY else None)):\n",
    "    \n",
    "    lr_callback = tf.keras.callbacks.ReduceLROnPlateau(patience=6)\n",
    "    sv_lstm = tf.keras.callbacks.ModelCheckpoint(f'lstm-{f}.h5')\n",
    "\n",
    "    train_ = train_inputs[train_index]\n",
    "    train_labs = train_labels[train_index]\n",
    "    val_ = train_inputs[val_index]\n",
    "    val_labs = train_labels[val_index]\n",
    "\n",
    "    lstm = build_model(lstm=True)\n",
    "    history = lstm.fit(\n",
    "                        train_, train_labs, \n",
    "                        validation_data=(val_,val_labs),\n",
    "                        batch_size=BATCH_SIZE,\n",
    "                        epochs=EPOCHS,\n",
    "                        callbacks=[lr_callback,sv_lstm],\n",
    "                        verbose = VERBOSE)  \n",
    "\n",
    "    lstm_histories.append(history)\n",
    "\n",
    "    lstm_short = build_model(lstm=True, seq_len=107, pred_len=107)\n",
    "    lstm_short.load_weights(f'lstm-{f}.h5')\n",
    "    lstm_public_pred = lstm_short.predict(public_inputs) / (FOLDS * REPEATS)\n",
    "\n",
    "    lstm_long = build_model(lstm=True, seq_len=130, pred_len=130)\n",
    "    lstm_long.load_weights(f'lstm-{f}.h5')\n",
    "    lstm_private_pred = lstm_long.predict(private_inputs) / (FOLDS * REPEATS)\n",
    "\n",
    "    lstm_public_preds += lstm_public_pred\n",
    "    lstm_private_preds += lstm_private_pred\n",
    "\n",
    "    del lstm_short, lstm_long"
   ]
  },
  {
   "cell_type": "code",
   "execution_count": null,
   "metadata": {},
   "outputs": [],
   "source": [
    "print(f\" LSTM mean fold validation MCRMSE: {np.mean([min(history.history['val_loss']) for history in lstm_histories])}\")"
   ]
  },
  {
   "cell_type": "code",
   "execution_count": null,
   "metadata": {},
   "outputs": [],
   "source": [
    "plot_learning_curves(results)"
   ]
  },
  {
   "cell_type": "code",
   "execution_count": null,
   "metadata": {},
   "outputs": [],
   "source": [
    "def format_predictions(public_preds, private_preds):\n",
    "    preds = []\n",
    "    \n",
    "    for df, preds_ in [(public_df, public_preds), (private_df, private_preds)]:\n",
    "        for i, uid in enumerate(df.id):\n",
    "            single_pred = preds_[i]\n",
    "\n",
    "            single_df = pd.DataFrame(single_pred, columns=target_cols)\n",
    "            single_df['id_seqpos'] = [f'{uid}_{x}' for x in range(single_df.shape[0])]\n",
    "\n",
    "            preds.append(single_df)\n",
    "\n",
    "    return pd.concat(preds)"
   ]
  },
  {
   "cell_type": "code",
   "execution_count": null,
   "metadata": {},
   "outputs": [],
   "source": [
    "lstm_preds = format_predictions(lstm_public_preds, lstm_private_preds)\n",
    "gru_preds = format_predictions(gru_public_preds, gru_private_preds)"
   ]
  },
  {
   "cell_type": "code",
   "execution_count": null,
   "metadata": {},
   "outputs": [],
   "source": [
    "gru_weight = .5\n",
    "lstm_weight = .5"
   ]
  },
  {
   "cell_type": "code",
   "execution_count": null,
   "metadata": {},
   "outputs": [],
   "source": [
    "blended_preds = pd.DataFrame()\n",
    "blended_preds['id_seqpos'] = gru_preds['id_seqpos']\n",
    "blended_preds['reactivity'] = gru_weight*gru_preds['reactivity'] + lstm_weight*lstm_preds['reactivity']\n",
    "blended_preds['deg_Mg_pH10'] = gru_weight*gru_preds['deg_Mg_pH10'] + lstm_weight*lstm_preds['deg_Mg_pH10']\n",
    "blended_preds['deg_pH10'] = gru_weight*gru_preds['deg_pH10'] + lstm_weight*lstm_preds['deg_pH10']\n",
    "blended_preds['deg_Mg_50C'] = gru_weight*gru_preds['deg_Mg_50C'] + lstm_weight*lstm_preds['deg_Mg_50C']\n",
    "blended_preds['deg_50C'] = gru_weight*gru_preds['deg_50C'] + lstm_weight*lstm_preds['deg_50C']"
   ]
  },
  {
   "cell_type": "code",
   "execution_count": null,
   "metadata": {},
   "outputs": [],
   "source": [
    "submission = sample_sub[['id_seqpos']].merge(blended_preds, on=['id_seqpos'])\n",
    "submission.head()"
   ]
  },
  {
   "cell_type": "code",
   "execution_count": null,
   "metadata": {},
   "outputs": [],
   "source": [
    "submission.to_csv('submission.csv', index=False)\n",
    "print('Submission saved')"
   ]
  },
  {
   "cell_type": "code",
   "execution_count": null,
   "metadata": {},
   "outputs": [],
   "source": []
  }
 ],
 "metadata": {
  "kernelspec": {
   "display_name": "Python 3",
   "language": "python",
   "name": "python3"
  },
  "language_info": {
   "codemirror_mode": {
    "name": "ipython",
    "version": 3
   },
   "file_extension": ".py",
   "mimetype": "text/x-python",
   "name": "python",
   "nbconvert_exporter": "python",
   "pygments_lexer": "ipython3",
   "version": "3.8.3"
  }
 },
 "nbformat": 4,
 "nbformat_minor": 4
}
