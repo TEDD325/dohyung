{
 "cells": [
  {
   "cell_type": "markdown",
   "metadata": {},
   "source": [
    "### 작성자: 권도형\n",
    "### 작성일자: 200515\n",
    "### 최종수정일자: 200518"
   ]
  },
  {
   "cell_type": "code",
   "execution_count": 1,
   "metadata": {},
   "outputs": [],
   "source": [
    "var_1 = \"Hello world\""
   ]
  },
  {
   "cell_type": "code",
   "execution_count": 2,
   "metadata": {},
   "outputs": [
    {
     "name": "stdout",
     "output_type": "stream",
     "text": [
      "Hello world\n"
     ]
    }
   ],
   "source": [
    "print(var_1)"
   ]
  },
  {
   "cell_type": "code",
   "execution_count": 3,
   "metadata": {},
   "outputs": [
    {
     "data": {
      "text/plain": [
       "'HELLO WORLD'"
      ]
     },
     "execution_count": 3,
     "metadata": {},
     "output_type": "execute_result"
    }
   ],
   "source": [
    "var_1.upper()\n",
    "# var_1은 str 타입의 object이므로, str object가 갖는 모든 property와 method를 사용할 수 있게 된다.\n",
    "# str.upper()"
   ]
  },
  {
   "cell_type": "code",
   "execution_count": 8,
   "metadata": {},
   "outputs": [
    {
     "data": {
      "text/plain": [
       "1"
      ]
     },
     "execution_count": 8,
     "metadata": {},
     "output_type": "execute_result"
    }
   ],
   "source": [
    "var_1.count('e')"
   ]
  },
  {
   "cell_type": "code",
   "execution_count": 11,
   "metadata": {},
   "outputs": [
    {
     "data": {
      "text/plain": [
       "int"
      ]
     },
     "execution_count": 11,
     "metadata": {},
     "output_type": "execute_result"
    }
   ],
   "source": [
    "type(var_1.count('e'))"
   ]
  },
  {
   "cell_type": "code",
   "execution_count": null,
   "metadata": {},
   "outputs": [],
   "source": []
  },
  {
   "cell_type": "code",
   "execution_count": 9,
   "metadata": {},
   "outputs": [],
   "source": [
    "dna_1 = \"ATGCCGCATTC\""
   ]
  },
  {
   "cell_type": "code",
   "execution_count": 19,
   "metadata": {},
   "outputs": [
    {
     "name": "stdout",
     "output_type": "stream",
     "text": [
      "number of A:  2\n",
      "number of T:  3\n",
      "number of G:  2\n",
      "number of C:  4\n"
     ]
    }
   ],
   "source": [
    "print(\"number of A: \", dna_1.count(\"A\"))\n",
    "print(\"number of T: \", dna_1.count(\"T\"))\n",
    "print(\"number of G: \", dna_1.count(\"G\"))\n",
    "print(\"number of C: \", dna_1.count(\"C\"))"
   ]
  },
  {
   "cell_type": "code",
   "execution_count": 24,
   "metadata": {},
   "outputs": [
    {
     "data": {
      "text/plain": [
       "36.36363636363637"
      ]
     },
     "execution_count": 24,
     "metadata": {},
     "output_type": "execute_result"
    }
   ],
   "source": [
    "(dna_1.count('A') + dna_1.count('G')) / len(dna_1) * 100"
   ]
  },
  {
   "cell_type": "code",
   "execution_count": null,
   "metadata": {},
   "outputs": [],
   "source": []
  },
  {
   "cell_type": "code",
   "execution_count": 49,
   "metadata": {},
   "outputs": [],
   "source": [
    "def count_seq_of_DNA(DNA_seq, seq_user):\n",
    "    print(\"number of A: \", DNA_seq.count(\"A\"))\n",
    "    print(\"number of T: \", DNA_seq.count(\"T\"))\n",
    "    print(\"number of G: \", DNA_seq.count(\"G\"))\n",
    "    print(\"number of C: \", DNA_seq.count(\"C\"))\n",
    "    \n",
    "    total_ = []\n",
    "    for item in seq_user:\n",
    "        total_.append(DNA_seq.count(item))\n",
    "#         print(\"debug point_1\", total_)\n",
    "        print(item, end=\"\")\n",
    "#     print(\"debug point_2\", sum(total_))\n",
    "    print(\"은(는) DNA 서열 중\", int(per), \"% 입니다.\")\n",
    "    return sum(total_) / len(DNA_seq) * 100\n",
    "'''\n",
    "DNA 뉴클레오타이드 이외의 문자열이 들어오지 않도록 처리 필요\n",
    "seq_user의 개수가 네 개가 넘어가지 않도록 처리 필요\n",
    "대문자, 소문자 모두 가능하도록 수정할 필요\n",
    "'''"
   ]
  },
  {
   "cell_type": "code",
   "execution_count": 51,
   "metadata": {},
   "outputs": [
    {
     "name": "stdout",
     "output_type": "stream",
     "text": [
      "number of A:  2\n",
      "number of T:  3\n",
      "number of G:  2\n",
      "number of C:  4\n",
      "AGC은(는) DNA 서열 중 36 % 입니다.\n"
     ]
    },
    {
     "data": {
      "text/plain": [
       "'\\ncount_seq_of_DNA(DNA 서열, 찾고자 하는 뉴클레오타이드-list 타입)\\n'"
      ]
     },
     "execution_count": 51,
     "metadata": {},
     "output_type": "execute_result"
    }
   ],
   "source": [
    "per = count_seq_of_DNA(dna_1, ['A', 'G', 'C'])\n",
    "'''\n",
    "count_seq_of_DNA(DNA 서열, 찾고자 하는 뉴클레오타이드-list 타입)\n",
    "'''"
   ]
  },
  {
   "cell_type": "code",
   "execution_count": null,
   "metadata": {},
   "outputs": [],
   "source": []
  }
 ],
 "metadata": {
  "kernelspec": {
   "display_name": "Python 3",
   "language": "python",
   "name": "python3"
  },
  "language_info": {
   "codemirror_mode": {
    "name": "ipython",
    "version": 3
   },
   "file_extension": ".py",
   "mimetype": "text/x-python",
   "name": "python",
   "nbconvert_exporter": "python",
   "pygments_lexer": "ipython3",
   "version": "3.7.6"
  }
 },
 "nbformat": 4,
 "nbformat_minor": 4
}
