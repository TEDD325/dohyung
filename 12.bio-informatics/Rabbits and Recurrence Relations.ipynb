{
 "cells": [
  {
   "cell_type": "code",
   "execution_count": 4,
   "metadata": {},
   "outputs": [],
   "source": [
    "def rabiit_fibo(n, k):\n",
    "    f1 = 1\n",
    "    f2 = 1\n",
    "    rabbit_fibo = [f1, f2]\n",
    "    \n",
    "    for n_idx in range(1, n):\n",
    "        if n_idx == f1 or n_idx == f2:\n",
    "            continue\n",
    "        else:\n",
    "            rabbit_fibo.append(rabbit_fibo[n_idx-2]*k+rabbit_fibo[n_idx-1])\n",
    "            \n",
    "    return rabbit_fibo"
   ]
  },
  {
   "cell_type": "code",
   "execution_count": 6,
   "metadata": {},
   "outputs": [
    {
     "name": "stdout",
     "output_type": "stream",
     "text": [
      "5164501096416\n"
     ]
    }
   ],
   "source": [
    "if __name__ == \"__main__\":\n",
    "    n = 30\n",
    "    k = 5\n",
    "    print(\"{}\".format(rabiit_fibo(n, k)[-1]))"
   ]
  }
 ],
 "metadata": {
  "kernelspec": {
   "display_name": "Python 3",
   "language": "python",
   "name": "python3"
  },
  "language_info": {
   "codemirror_mode": {
    "name": "ipython",
    "version": 3
   },
   "file_extension": ".py",
   "mimetype": "text/x-python",
   "name": "python",
   "nbconvert_exporter": "python",
   "pygments_lexer": "ipython3",
   "version": "3.6.6+"
  }
 },
 "nbformat": 4,
 "nbformat_minor": 4
}
