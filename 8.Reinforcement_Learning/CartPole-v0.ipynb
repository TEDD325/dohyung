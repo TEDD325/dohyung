{
 "cells": [
  {
   "cell_type": "code",
   "execution_count": 6,
   "metadata": {
    "scrolled": true
   },
   "outputs": [
    {
     "name": "stdout",
     "output_type": "stream",
     "text": [
      "/Users/dohyungkwon/Google 드라이브/__workspace\n"
     ]
    }
   ],
   "source": [
    "import logging, os, sys\n",
    "from logging.handlers import RotatingFileHandler\n",
    "\n",
    "print(os.getcwd())\n",
    "PROJECT_HOME = os.getcwd()\n",
    "\n",
    "\n",
    "def get_logger(name):\n",
    "    \"\"\"\n",
    "    Args:\n",
    "        name(str):생성할 log 파일명입니다.\n",
    "\n",
    "    Returns:\n",
    "         생성된 logger객체를 반환합니다.\n",
    "    \"\"\"\n",
    "    logger = logging.getLogger(name)\n",
    "    logger.setLevel(logging.DEBUG)\n",
    "\n",
    "    if not os.path.exists(PROJECT_HOME + \"/logs/\"):\n",
    "        os.makedirs(PROJECT_HOME + \"/logs/\")\n",
    "\n",
    "    rotate_handler = RotatingFileHandler(\n",
    "        PROJECT_HOME + \"/logs/\" + name + \".log\",\n",
    "        'a',\n",
    "        1024 * 1024 * 5,\n",
    "        5\n",
    "    )\n",
    "    formatter = logging.Formatter(\n",
    "        '[%(levelname)s]-%(asctime)s-%(filename)s:%(lineno)s:%(message)s',\n",
    "        datefmt=\"%Y-%m-%d %H:%M:%S\"\n",
    "    )\n",
    "    rotate_handler.setFormatter(formatter)\n",
    "    logger.addHandler(rotate_handler)\n",
    "    return logger\n",
    "\n",
    "\n",
    "def get_logger_rl(dir, name):\n",
    "    \"\"\"\n",
    "    Args:\n",
    "        name(str):생성할 log 파일명입니다.\n",
    "\n",
    "    Returns:\n",
    "         생성된 logger객체를 반환합니다.\n",
    "    \"\"\"\n",
    "    logger = logging.getLogger(name)\n",
    "    logger.setLevel(logging.DEBUG)\n",
    "\n",
    "    if not os.path.exists(PROJECT_HOME + dir):\n",
    "        os.makedirs(PROJECT_HOME + dir)\n",
    "\n",
    "    rotate_handler = RotatingFileHandler(\n",
    "        PROJECT_HOME + dir + name + \".log\",\n",
    "        'a',\n",
    "        1024 * 1024 * 5,\n",
    "        5\n",
    "    )\n",
    "    formatter = logging.Formatter(\n",
    "        '[%(levelname)s]-%(asctime)s-%(filename)s:%(lineno)s:%(message)s',\n",
    "        datefmt=\"%Y-%m-%d %H:%M:%S\"\n",
    "    )\n",
    "    rotate_handler.setFormatter(formatter)\n",
    "    logger.addHandler(rotate_handler)\n",
    "    return logger"
   ]
  },
  {
   "cell_type": "code",
   "execution_count": 7,
   "metadata": {},
   "outputs": [
    {
     "ename": "ModuleNotFoundError",
     "evalue": "No module named 'tensorflow.keras.optimizer'",
     "output_type": "error",
     "traceback": [
      "\u001b[0;31m---------------------------------------------------------------------------\u001b[0m",
      "\u001b[0;31mModuleNotFoundError\u001b[0m                       Traceback (most recent call last)",
      "\u001b[0;32m<ipython-input-7-6345510c6b2a>\u001b[0m in \u001b[0;36m<module>\u001b[0;34m\u001b[0m\n\u001b[1;32m      7\u001b[0m \u001b[0;32mimport\u001b[0m \u001b[0mjson\u001b[0m\u001b[0;34m\u001b[0m\u001b[0;34m\u001b[0m\u001b[0m\n\u001b[1;32m      8\u001b[0m \u001b[0;32mfrom\u001b[0m \u001b[0mtensorflow\u001b[0m\u001b[0;34m.\u001b[0m\u001b[0mkeras\u001b[0m\u001b[0;34m.\u001b[0m\u001b[0mlayers\u001b[0m \u001b[0;32mimport\u001b[0m \u001b[0mDense\u001b[0m\u001b[0;34m,\u001b[0m \u001b[0mInput\u001b[0m\u001b[0;34m\u001b[0m\u001b[0;34m\u001b[0m\u001b[0m\n\u001b[0;32m----> 9\u001b[0;31m \u001b[0;32mfrom\u001b[0m \u001b[0mtensorflow\u001b[0m\u001b[0;34m.\u001b[0m\u001b[0mkeras\u001b[0m\u001b[0;34m.\u001b[0m\u001b[0moptimizer\u001b[0m \u001b[0;32mimport\u001b[0m \u001b[0mAdam\u001b[0m\u001b[0;34m\u001b[0m\u001b[0;34m\u001b[0m\u001b[0m\n\u001b[0m\u001b[1;32m     10\u001b[0m \u001b[0;32mfrom\u001b[0m \u001b[0mtensorflow\u001b[0m\u001b[0;34m.\u001b[0m\u001b[0mkeras\u001b[0m\u001b[0;34m.\u001b[0m\u001b[0mmodels\u001b[0m \u001b[0;32mimport\u001b[0m \u001b[0mModel\u001b[0m\u001b[0;34m\u001b[0m\u001b[0;34m\u001b[0m\u001b[0m\n\u001b[1;32m     11\u001b[0m \u001b[0;32mfrom\u001b[0m \u001b[0mcollections\u001b[0m \u001b[0;32mimport\u001b[0m \u001b[0mdeque\u001b[0m\u001b[0;34m\u001b[0m\u001b[0;34m\u001b[0m\u001b[0m\n",
      "\u001b[0;31mModuleNotFoundError\u001b[0m: No module named 'tensorflow.keras.optimizer'"
     ]
    }
   ],
   "source": [
    "import math\n",
    "import threading\n",
    "import time\n",
    "import zlib\n",
    "import tensorflow as tf\n",
    "import sys\n",
    "import json\n",
    "from tensorflow.keras.layers import Dense, Input\n",
    "from tensorflow.keras.optimizer import Adam\n",
    "from tensorflow.keras.models import Model\n",
    "from collections import deque\n",
    "import numpy as np\n",
    "import random\n",
    "import gym\n",
    "from multiprocessing import Process\n",
    "import zmq\n",
    "import matplotlib.pyplot as plt\n",
    "import os\n",
    "import pickle\n",
    "import warnings"
   ]
  },
  {
   "cell_type": "code",
   "execution_count": null,
   "metadata": {},
   "outputs": [],
   "source": []
  }
 ],
 "metadata": {
  "kernelspec": {
   "display_name": "Python 3",
   "language": "python",
   "name": "python3"
  },
  "language_info": {
   "codemirror_mode": {
    "name": "ipython",
    "version": 3
   },
   "file_extension": ".py",
   "mimetype": "text/x-python",
   "name": "python",
   "nbconvert_exporter": "python",
   "pygments_lexer": "ipython3",
   "version": "3.7.1"
  }
 },
 "nbformat": 4,
 "nbformat_minor": 2
}
