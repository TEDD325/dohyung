{
 "cells": [
  {
   "cell_type": "markdown",
   "metadata": {
    "colab_type": "text",
    "id": "jC9wtSoq2H8Z"
   },
   "source": [
    "##Predicting Stock Price with LSTM\n",
    "- https://www.kaggle.com/darkknight91/ge-stock\n",
    "- https://towardsdatascience.com/predicting-stock-price-with-lstm-13af86a74944\n",
    "- Colab File Upload\n",
    "  - http://www.dreamy.pe.kr/zbxe/CodeClip/3769485"
   ]
  },
  {
   "cell_type": "code",
   "execution_count": 0,
   "metadata": {
    "colab": {},
    "colab_type": "code",
    "id": "_UecyS7t2Q-K"
   },
   "outputs": [],
   "source": [
    "!pip install tensorflow-gpu==2.0.0-alpha0 > /dev/null 2>&1"
   ]
  },
  {
   "cell_type": "code",
   "execution_count": 0,
   "metadata": {
    "colab": {
     "base_uri": "https://localhost:8080/",
     "height": 34
    },
    "colab_type": "code",
    "executionInfo": {
     "elapsed": 3785,
     "status": "ok",
     "timestamp": 1559697546228,
     "user": {
      "displayName": "Youn-Hee Han",
      "photoUrl": "https://lh3.googleusercontent.com/-_hEg7gpfDo0/AAAAAAAAAAI/AAAAAAAAyi0/trci-rRDUJY/s64/photo.jpg",
      "userId": "12311607485851632400"
     },
     "user_tz": -540
    },
    "id": "k6buWu1BOP2i",
    "outputId": "3d3affd8-fc19-4cc1-caea-c144a0cea184"
   },
   "outputs": [
    {
     "name": "stdout",
     "output_type": "stream",
     "text": [
      "2.0.0-alpha0\n"
     ]
    }
   ],
   "source": [
    "import tensorflow as tf\n",
    "print(tf.__version__)"
   ]
  },
  {
   "cell_type": "code",
   "execution_count": 0,
   "metadata": {
    "colab": {
     "base_uri": "https://localhost:8080/",
     "height": 34
    },
    "colab_type": "code",
    "executionInfo": {
     "elapsed": 3418,
     "status": "ok",
     "timestamp": 1559697546229,
     "user": {
      "displayName": "Youn-Hee Han",
      "photoUrl": "https://lh3.googleusercontent.com/-_hEg7gpfDo0/AAAAAAAAAAI/AAAAAAAAyi0/trci-rRDUJY/s64/photo.jpg",
      "userId": "12311607485851632400"
     },
     "user_tz": -540
    },
    "id": "1X-UQ4VXOR1l",
    "outputId": "4ba4ef36-d953-4cdc-b2bc-2d2b7d01faaf"
   },
   "outputs": [
    {
     "name": "stdout",
     "output_type": "stream",
     "text": [
      "1.16.4\n"
     ]
    }
   ],
   "source": [
    "import numpy as np\n",
    "print(np.__version__)\n",
    "np.set_printoptions(precision=4)\n",
    "np.set_printoptions(suppress=True)"
   ]
  },
  {
   "cell_type": "code",
   "execution_count": 0,
   "metadata": {
    "colab": {},
    "colab_type": "code",
    "id": "iwllMSBGOTT9"
   },
   "outputs": [],
   "source": [
    "import matplotlib.pyplot as plt\n",
    "import pandas as pd"
   ]
  },
  {
   "cell_type": "markdown",
   "metadata": {
    "colab_type": "text",
    "id": "Co4KxQBTPs6V"
   },
   "source": [
    "### 1. Loading the Dataset (Pandas)\n",
    "- The data file \"ge.us.txt\" has approximately 55 years of stock price data for GE for US"
   ]
  },
  {
   "cell_type": "code",
   "execution_count": 0,
   "metadata": {
    "colab": {
     "base_uri": "https://localhost:8080/",
     "height": 88,
     "resources": {
      "http://localhost:8080/nbextensions/google.colab/files.js": {
       "data": "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",
       "headers": [
        [
         "content-type",
         "application/javascript"
        ]
       ],
       "ok": true,
       "status": 200,
       "status_text": ""
      }
     }
    },
    "colab_type": "code",
    "executionInfo": {
     "elapsed": 20612,
     "status": "ok",
     "timestamp": 1559697564659,
     "user": {
      "displayName": "Youn-Hee Han",
      "photoUrl": "https://lh3.googleusercontent.com/-_hEg7gpfDo0/AAAAAAAAAAI/AAAAAAAAyi0/trci-rRDUJY/s64/photo.jpg",
      "userId": "12311607485851632400"
     },
     "user_tz": -540
    },
    "id": "oHTd5SP8Po6k",
    "outputId": "2942adbc-378b-4589-9d70-1065682ae01b"
   },
   "outputs": [
    {
     "data": {
      "text/html": [
       "\n",
       "     <input type=\"file\" id=\"files-5e3eadb7-3f89-46e1-904c-a53448a51b15\" name=\"files[]\" multiple disabled />\n",
       "     <output id=\"result-5e3eadb7-3f89-46e1-904c-a53448a51b15\">\n",
       "      Upload widget is only available when the cell has been executed in the\n",
       "      current browser session. Please rerun this cell to enable.\n",
       "      </output>\n",
       "      <script src=\"/nbextensions/google.colab/files.js\"></script> "
      ],
      "text/plain": [
       "<IPython.core.display.HTML object>"
      ]
     },
     "metadata": {
      "tags": []
     },
     "output_type": "display_data"
    },
    {
     "name": "stdout",
     "output_type": "stream",
     "text": [
      "Saving ge.us.txt to ge.us.txt\n",
      "*** Uploaded file \"ge.us.txt\" with length 691455 bytes\n"
     ]
    }
   ],
   "source": [
    "from google.colab import files\n",
    "\n",
    "uploaded = files.upload()\n",
    "\n",
    "for fn in uploaded.keys():\n",
    "    print('*** Uploaded file \"{name}\" with length {length} bytes'.format(name=fn, length=len(uploaded[fn])))"
   ]
  },
  {
   "cell_type": "code",
   "execution_count": 0,
   "metadata": {
    "colab": {
     "base_uri": "https://localhost:8080/",
     "height": 359
    },
    "colab_type": "code",
    "executionInfo": {
     "elapsed": 885,
     "status": "ok",
     "timestamp": 1559697567130,
     "user": {
      "displayName": "Youn-Hee Han",
      "photoUrl": "https://lh3.googleusercontent.com/-_hEg7gpfDo0/AAAAAAAAAAI/AAAAAAAAyi0/trci-rRDUJY/s64/photo.jpg",
      "userId": "12311607485851632400"
     },
     "user_tz": -540
    },
    "id": "DfaloubSQfDW",
    "outputId": "dd9c97cd-deca-4fa4-a389-2a3f5bd0068f"
   },
   "outputs": [
    {
     "data": {
      "text/html": [
       "<div>\n",
       "<style scoped>\n",
       "    .dataframe tbody tr th:only-of-type {\n",
       "        vertical-align: middle;\n",
       "    }\n",
       "\n",
       "    .dataframe tbody tr th {\n",
       "        vertical-align: top;\n",
       "    }\n",
       "\n",
       "    .dataframe thead th {\n",
       "        text-align: right;\n",
       "    }\n",
       "</style>\n",
       "<table border=\"1\" class=\"dataframe\">\n",
       "  <thead>\n",
       "    <tr style=\"text-align: right;\">\n",
       "      <th></th>\n",
       "      <th>Date</th>\n",
       "      <th>Open</th>\n",
       "      <th>High</th>\n",
       "      <th>Low</th>\n",
       "      <th>Close</th>\n",
       "      <th>Volume</th>\n",
       "      <th>OpenInt</th>\n",
       "    </tr>\n",
       "  </thead>\n",
       "  <tbody>\n",
       "    <tr>\n",
       "      <th>0</th>\n",
       "      <td>1962-01-02</td>\n",
       "      <td>0.6277</td>\n",
       "      <td>0.6362</td>\n",
       "      <td>0.6201</td>\n",
       "      <td>0.6201</td>\n",
       "      <td>2575579</td>\n",
       "      <td>0</td>\n",
       "    </tr>\n",
       "    <tr>\n",
       "      <th>1</th>\n",
       "      <td>1962-01-03</td>\n",
       "      <td>0.6201</td>\n",
       "      <td>0.6201</td>\n",
       "      <td>0.6122</td>\n",
       "      <td>0.6201</td>\n",
       "      <td>1764749</td>\n",
       "      <td>0</td>\n",
       "    </tr>\n",
       "    <tr>\n",
       "      <th>2</th>\n",
       "      <td>1962-01-04</td>\n",
       "      <td>0.6201</td>\n",
       "      <td>0.6201</td>\n",
       "      <td>0.6037</td>\n",
       "      <td>0.6122</td>\n",
       "      <td>2194010</td>\n",
       "      <td>0</td>\n",
       "    </tr>\n",
       "    <tr>\n",
       "      <th>3</th>\n",
       "      <td>1962-01-05</td>\n",
       "      <td>0.6122</td>\n",
       "      <td>0.6122</td>\n",
       "      <td>0.5798</td>\n",
       "      <td>0.5957</td>\n",
       "      <td>3255244</td>\n",
       "      <td>0</td>\n",
       "    </tr>\n",
       "    <tr>\n",
       "      <th>4</th>\n",
       "      <td>1962-01-08</td>\n",
       "      <td>0.5957</td>\n",
       "      <td>0.5957</td>\n",
       "      <td>0.5716</td>\n",
       "      <td>0.5957</td>\n",
       "      <td>3696430</td>\n",
       "      <td>0</td>\n",
       "    </tr>\n",
       "    <tr>\n",
       "      <th>5</th>\n",
       "      <td>1962-01-09</td>\n",
       "      <td>0.5957</td>\n",
       "      <td>0.6037</td>\n",
       "      <td>0.5878</td>\n",
       "      <td>0.5957</td>\n",
       "      <td>2778285</td>\n",
       "      <td>0</td>\n",
       "    </tr>\n",
       "    <tr>\n",
       "      <th>6</th>\n",
       "      <td>1962-01-10</td>\n",
       "      <td>0.5957</td>\n",
       "      <td>0.6037</td>\n",
       "      <td>0.5957</td>\n",
       "      <td>0.5957</td>\n",
       "      <td>2337096</td>\n",
       "      <td>0</td>\n",
       "    </tr>\n",
       "    <tr>\n",
       "      <th>7</th>\n",
       "      <td>1962-01-11</td>\n",
       "      <td>0.5957</td>\n",
       "      <td>0.5957</td>\n",
       "      <td>0.5878</td>\n",
       "      <td>0.5957</td>\n",
       "      <td>1943605</td>\n",
       "      <td>0</td>\n",
       "    </tr>\n",
       "    <tr>\n",
       "      <th>8</th>\n",
       "      <td>1962-01-12</td>\n",
       "      <td>0.5957</td>\n",
       "      <td>0.6037</td>\n",
       "      <td>0.5878</td>\n",
       "      <td>0.5878</td>\n",
       "      <td>2015151</td>\n",
       "      <td>0</td>\n",
       "    </tr>\n",
       "    <tr>\n",
       "      <th>9</th>\n",
       "      <td>1962-01-15</td>\n",
       "      <td>0.5957</td>\n",
       "      <td>0.5957</td>\n",
       "      <td>0.5957</td>\n",
       "      <td>0.5957</td>\n",
       "      <td>2527879</td>\n",
       "      <td>0</td>\n",
       "    </tr>\n",
       "  </tbody>\n",
       "</table>\n",
       "</div>"
      ],
      "text/plain": [
       "         Date    Open    High     Low   Close   Volume  OpenInt\n",
       "0  1962-01-02  0.6277  0.6362  0.6201  0.6201  2575579        0\n",
       "1  1962-01-03  0.6201  0.6201  0.6122  0.6201  1764749        0\n",
       "2  1962-01-04  0.6201  0.6201  0.6037  0.6122  2194010        0\n",
       "3  1962-01-05  0.6122  0.6122  0.5798  0.5957  3255244        0\n",
       "4  1962-01-08  0.5957  0.5957  0.5716  0.5957  3696430        0\n",
       "5  1962-01-09  0.5957  0.6037  0.5878  0.5957  2778285        0\n",
       "6  1962-01-10  0.5957  0.6037  0.5957  0.5957  2337096        0\n",
       "7  1962-01-11  0.5957  0.5957  0.5878  0.5957  1943605        0\n",
       "8  1962-01-12  0.5957  0.6037  0.5878  0.5878  2015151        0\n",
       "9  1962-01-15  0.5957  0.5957  0.5957  0.5957  2527879        0"
      ]
     },
     "execution_count": 16,
     "metadata": {
      "tags": []
     },
     "output_type": "execute_result"
    }
   ],
   "source": [
    "df_ge = pd.read_csv(\"ge.us.txt\")\n",
    "df_ge.head(10)"
   ]
  },
  {
   "cell_type": "code",
   "execution_count": 0,
   "metadata": {
    "colab": {
     "base_uri": "https://localhost:8080/",
     "height": 359
    },
    "colab_type": "code",
    "executionInfo": {
     "elapsed": 658,
     "status": "ok",
     "timestamp": 1559697567559,
     "user": {
      "displayName": "Youn-Hee Han",
      "photoUrl": "https://lh3.googleusercontent.com/-_hEg7gpfDo0/AAAAAAAAAAI/AAAAAAAAyi0/trci-rRDUJY/s64/photo.jpg",
      "userId": "12311607485851632400"
     },
     "user_tz": -540
    },
    "id": "MIynbeAwTXyp",
    "outputId": "cb62f4e4-8d7a-4838-ba09-127d775483d9"
   },
   "outputs": [
    {
     "data": {
      "text/html": [
       "<div>\n",
       "<style scoped>\n",
       "    .dataframe tbody tr th:only-of-type {\n",
       "        vertical-align: middle;\n",
       "    }\n",
       "\n",
       "    .dataframe tbody tr th {\n",
       "        vertical-align: top;\n",
       "    }\n",
       "\n",
       "    .dataframe thead th {\n",
       "        text-align: right;\n",
       "    }\n",
       "</style>\n",
       "<table border=\"1\" class=\"dataframe\">\n",
       "  <thead>\n",
       "    <tr style=\"text-align: right;\">\n",
       "      <th></th>\n",
       "      <th>Date</th>\n",
       "      <th>Open</th>\n",
       "      <th>High</th>\n",
       "      <th>Low</th>\n",
       "      <th>Close</th>\n",
       "      <th>Volume</th>\n",
       "      <th>OpenInt</th>\n",
       "    </tr>\n",
       "  </thead>\n",
       "  <tbody>\n",
       "    <tr>\n",
       "      <th>14048</th>\n",
       "      <td>2017-10-30</td>\n",
       "      <td>20.58</td>\n",
       "      <td>20.720</td>\n",
       "      <td>20.26</td>\n",
       "      <td>20.41</td>\n",
       "      <td>98376937</td>\n",
       "      <td>0</td>\n",
       "    </tr>\n",
       "    <tr>\n",
       "      <th>14049</th>\n",
       "      <td>2017-10-31</td>\n",
       "      <td>20.26</td>\n",
       "      <td>20.400</td>\n",
       "      <td>20.05</td>\n",
       "      <td>20.16</td>\n",
       "      <td>97991348</td>\n",
       "      <td>0</td>\n",
       "    </tr>\n",
       "    <tr>\n",
       "      <th>14050</th>\n",
       "      <td>2017-11-01</td>\n",
       "      <td>20.07</td>\n",
       "      <td>20.520</td>\n",
       "      <td>19.96</td>\n",
       "      <td>20.02</td>\n",
       "      <td>91707602</td>\n",
       "      <td>0</td>\n",
       "    </tr>\n",
       "    <tr>\n",
       "      <th>14051</th>\n",
       "      <td>2017-11-02</td>\n",
       "      <td>20.05</td>\n",
       "      <td>20.075</td>\n",
       "      <td>19.63</td>\n",
       "      <td>19.94</td>\n",
       "      <td>81528545</td>\n",
       "      <td>0</td>\n",
       "    </tr>\n",
       "    <tr>\n",
       "      <th>14052</th>\n",
       "      <td>2017-11-03</td>\n",
       "      <td>19.92</td>\n",
       "      <td>20.330</td>\n",
       "      <td>19.86</td>\n",
       "      <td>20.14</td>\n",
       "      <td>67855385</td>\n",
       "      <td>0</td>\n",
       "    </tr>\n",
       "    <tr>\n",
       "      <th>14053</th>\n",
       "      <td>2017-11-06</td>\n",
       "      <td>20.52</td>\n",
       "      <td>20.530</td>\n",
       "      <td>20.08</td>\n",
       "      <td>20.13</td>\n",
       "      <td>60641787</td>\n",
       "      <td>0</td>\n",
       "    </tr>\n",
       "    <tr>\n",
       "      <th>14054</th>\n",
       "      <td>2017-11-07</td>\n",
       "      <td>20.17</td>\n",
       "      <td>20.250</td>\n",
       "      <td>20.12</td>\n",
       "      <td>20.21</td>\n",
       "      <td>41622851</td>\n",
       "      <td>0</td>\n",
       "    </tr>\n",
       "    <tr>\n",
       "      <th>14055</th>\n",
       "      <td>2017-11-08</td>\n",
       "      <td>20.21</td>\n",
       "      <td>20.320</td>\n",
       "      <td>20.07</td>\n",
       "      <td>20.12</td>\n",
       "      <td>39672190</td>\n",
       "      <td>0</td>\n",
       "    </tr>\n",
       "    <tr>\n",
       "      <th>14056</th>\n",
       "      <td>2017-11-09</td>\n",
       "      <td>20.04</td>\n",
       "      <td>20.071</td>\n",
       "      <td>19.85</td>\n",
       "      <td>19.99</td>\n",
       "      <td>50831779</td>\n",
       "      <td>0</td>\n",
       "    </tr>\n",
       "    <tr>\n",
       "      <th>14057</th>\n",
       "      <td>2017-11-10</td>\n",
       "      <td>19.98</td>\n",
       "      <td>20.680</td>\n",
       "      <td>19.90</td>\n",
       "      <td>20.49</td>\n",
       "      <td>100698474</td>\n",
       "      <td>0</td>\n",
       "    </tr>\n",
       "  </tbody>\n",
       "</table>\n",
       "</div>"
      ],
      "text/plain": [
       "             Date   Open    High    Low  Close     Volume  OpenInt\n",
       "14048  2017-10-30  20.58  20.720  20.26  20.41   98376937        0\n",
       "14049  2017-10-31  20.26  20.400  20.05  20.16   97991348        0\n",
       "14050  2017-11-01  20.07  20.520  19.96  20.02   91707602        0\n",
       "14051  2017-11-02  20.05  20.075  19.63  19.94   81528545        0\n",
       "14052  2017-11-03  19.92  20.330  19.86  20.14   67855385        0\n",
       "14053  2017-11-06  20.52  20.530  20.08  20.13   60641787        0\n",
       "14054  2017-11-07  20.17  20.250  20.12  20.21   41622851        0\n",
       "14055  2017-11-08  20.21  20.320  20.07  20.12   39672190        0\n",
       "14056  2017-11-09  20.04  20.071  19.85  19.99   50831779        0\n",
       "14057  2017-11-10  19.98  20.680  19.90  20.49  100698474        0"
      ]
     },
     "execution_count": 17,
     "metadata": {
      "tags": []
     },
     "output_type": "execute_result"
    }
   ],
   "source": [
    "df_ge.tail(10)"
   ]
  },
  {
   "cell_type": "markdown",
   "metadata": {
    "colab_type": "text",
    "id": "tz9rLVbxTkpa"
   },
   "source": [
    "- checking if any null values are present"
   ]
  },
  {
   "cell_type": "code",
   "execution_count": 0,
   "metadata": {
    "colab": {
     "base_uri": "https://localhost:8080/",
     "height": 153
    },
    "colab_type": "code",
    "executionInfo": {
     "elapsed": 997,
     "status": "ok",
     "timestamp": 1559697568681,
     "user": {
      "displayName": "Youn-Hee Han",
      "photoUrl": "https://lh3.googleusercontent.com/-_hEg7gpfDo0/AAAAAAAAAAI/AAAAAAAAyi0/trci-rRDUJY/s64/photo.jpg",
      "userId": "12311607485851632400"
     },
     "user_tz": -540
    },
    "id": "MpMleaMOTZ7M",
    "outputId": "e3c4fd90-5dd1-4c38-df02-62cb72f7bb6c"
   },
   "outputs": [
    {
     "data": {
      "text/plain": [
       "Date       0\n",
       "Open       0\n",
       "High       0\n",
       "Low        0\n",
       "Close      0\n",
       "Volume     0\n",
       "OpenInt    0\n",
       "dtype: int64"
      ]
     },
     "execution_count": 18,
     "metadata": {
      "tags": []
     },
     "output_type": "execute_result"
    }
   ],
   "source": [
    "df_ge.isna().sum()"
   ]
  },
  {
   "cell_type": "code",
   "execution_count": 0,
   "metadata": {
    "colab": {
     "base_uri": "https://localhost:8080/",
     "height": 513
    },
    "colab_type": "code",
    "executionInfo": {
     "elapsed": 1640,
     "status": "ok",
     "timestamp": 1559697569801,
     "user": {
      "displayName": "Youn-Hee Han",
      "photoUrl": "https://lh3.googleusercontent.com/-_hEg7gpfDo0/AAAAAAAAAAI/AAAAAAAAyi0/trci-rRDUJY/s64/photo.jpg",
      "userId": "12311607485851632400"
     },
     "user_tz": -540
    },
    "id": "zPVWToZATnba",
    "outputId": "2a6aff72-d093-4f9e-87cc-e2ae71af59ab"
   },
   "outputs": [
    {
     "data": {
      "image/png": "[encoded data removed]",
      "text/plain": [
       "<Figure size 1440x576 with 1 Axes>"
      ]
     },
     "metadata": {
      "tags": []
     },
     "output_type": "display_data"
    }
   ],
   "source": [
    "plt.figure(figsize=(20, 8))\n",
    "\n",
    "plt.plot(df_ge[\"Open\"])\n",
    "plt.plot(df_ge[\"High\"])\n",
    "plt.plot(df_ge[\"Low\"])\n",
    "plt.plot(df_ge[\"Close\"])\n",
    "plt.title('GE stock price history')\n",
    "plt.ylabel('Price (USD)')\n",
    "plt.xlabel('Days')\n",
    "plt.legend(['Open','High','Low','Close'], loc='upper left')\n",
    "plt.show()"
   ]
  },
  {
   "cell_type": "markdown",
   "metadata": {
    "colab_type": "text",
    "id": "EqdNXwngTySc"
   },
   "source": [
    "### 2. Normalizing the Data by Using SkLearn"
   ]
  },
  {
   "cell_type": "code",
   "execution_count": 0,
   "metadata": {
    "colab": {
     "base_uri": "https://localhost:8080/",
     "height": 34
    },
    "colab_type": "code",
    "executionInfo": {
     "elapsed": 1228,
     "status": "ok",
     "timestamp": 1559697570134,
     "user": {
      "displayName": "Youn-Hee Han",
      "photoUrl": "https://lh3.googleusercontent.com/-_hEg7gpfDo0/AAAAAAAAAAI/AAAAAAAAyi0/trci-rRDUJY/s64/photo.jpg",
      "userId": "12311607485851632400"
     },
     "user_tz": -540
    },
    "id": "Mt9OvEtjT_lj",
    "outputId": "885b8c32-4894-46f4-98ba-b7a84240c540"
   },
   "outputs": [
    {
     "name": "stdout",
     "output_type": "stream",
     "text": [
      "Train Size: 11246, Test Size: 2812\n"
     ]
    }
   ],
   "source": [
    "from sklearn.preprocessing import MinMaxScaler\n",
    "from sklearn.model_selection import train_test_split\n",
    "\n",
    "train_cols = [\"Open\", \"High\", \"Low\", \"Close\", \"Volume\"]\n",
    "\n",
    "df_train, df_test = train_test_split(df_ge, train_size=0.8, test_size=0.2, shuffle=False)\n",
    "\n",
    "print(\"Train Size: {0}, Test Size: {1}\".format(len(df_train), len(df_test)))"
   ]
  },
  {
   "cell_type": "code",
   "execution_count": 0,
   "metadata": {
    "colab": {
     "base_uri": "https://localhost:8080/",
     "height": 204
    },
    "colab_type": "code",
    "executionInfo": {
     "elapsed": 894,
     "status": "ok",
     "timestamp": 1559697570135,
     "user": {
      "displayName": "Youn-Hee Han",
      "photoUrl": "https://lh3.googleusercontent.com/-_hEg7gpfDo0/AAAAAAAAAAI/AAAAAAAAyi0/trci-rRDUJY/s64/photo.jpg",
      "userId": "12311607485851632400"
     },
     "user_tz": -540
    },
    "id": "Huu2LB2NUCI4",
    "outputId": "90bde2c4-fffe-4187-b6b6-cd06a3e0eeff"
   },
   "outputs": [
    {
     "data": {
      "text/html": [
       "<div>\n",
       "<style scoped>\n",
       "    .dataframe tbody tr th:only-of-type {\n",
       "        vertical-align: middle;\n",
       "    }\n",
       "\n",
       "    .dataframe tbody tr th {\n",
       "        vertical-align: top;\n",
       "    }\n",
       "\n",
       "    .dataframe thead th {\n",
       "        text-align: right;\n",
       "    }\n",
       "</style>\n",
       "<table border=\"1\" class=\"dataframe\">\n",
       "  <thead>\n",
       "    <tr style=\"text-align: right;\">\n",
       "      <th></th>\n",
       "      <th>Date</th>\n",
       "      <th>Open</th>\n",
       "      <th>High</th>\n",
       "      <th>Low</th>\n",
       "      <th>Close</th>\n",
       "      <th>Volume</th>\n",
       "      <th>OpenInt</th>\n",
       "    </tr>\n",
       "  </thead>\n",
       "  <tbody>\n",
       "    <tr>\n",
       "      <th>11241</th>\n",
       "      <td>2006-09-06</td>\n",
       "      <td>27.269</td>\n",
       "      <td>27.412</td>\n",
       "      <td>27.254</td>\n",
       "      <td>27.334</td>\n",
       "      <td>23169386</td>\n",
       "      <td>0</td>\n",
       "    </tr>\n",
       "    <tr>\n",
       "      <th>11242</th>\n",
       "      <td>2006-09-07</td>\n",
       "      <td>27.254</td>\n",
       "      <td>27.495</td>\n",
       "      <td>27.237</td>\n",
       "      <td>27.405</td>\n",
       "      <td>36934990</td>\n",
       "      <td>0</td>\n",
       "    </tr>\n",
       "    <tr>\n",
       "      <th>11243</th>\n",
       "      <td>2006-09-08</td>\n",
       "      <td>27.292</td>\n",
       "      <td>27.412</td>\n",
       "      <td>27.277</td>\n",
       "      <td>27.382</td>\n",
       "      <td>17784600</td>\n",
       "      <td>0</td>\n",
       "    </tr>\n",
       "    <tr>\n",
       "      <th>11244</th>\n",
       "      <td>2006-09-11</td>\n",
       "      <td>27.254</td>\n",
       "      <td>27.718</td>\n",
       "      <td>27.180</td>\n",
       "      <td>27.718</td>\n",
       "      <td>26709564</td>\n",
       "      <td>0</td>\n",
       "    </tr>\n",
       "    <tr>\n",
       "      <th>11245</th>\n",
       "      <td>2006-09-12</td>\n",
       "      <td>27.718</td>\n",
       "      <td>27.963</td>\n",
       "      <td>27.680</td>\n",
       "      <td>27.912</td>\n",
       "      <td>27934131</td>\n",
       "      <td>0</td>\n",
       "    </tr>\n",
       "  </tbody>\n",
       "</table>\n",
       "</div>"
      ],
      "text/plain": [
       "             Date    Open    High     Low   Close    Volume  OpenInt\n",
       "11241  2006-09-06  27.269  27.412  27.254  27.334  23169386        0\n",
       "11242  2006-09-07  27.254  27.495  27.237  27.405  36934990        0\n",
       "11243  2006-09-08  27.292  27.412  27.277  27.382  17784600        0\n",
       "11244  2006-09-11  27.254  27.718  27.180  27.718  26709564        0\n",
       "11245  2006-09-12  27.718  27.963  27.680  27.912  27934131        0"
      ]
     },
     "execution_count": 21,
     "metadata": {
      "tags": []
     },
     "output_type": "execute_result"
    }
   ],
   "source": [
    "df_train.tail(5)"
   ]
  },
  {
   "cell_type": "code",
   "execution_count": 0,
   "metadata": {
    "colab": {
     "base_uri": "https://localhost:8080/",
     "height": 204
    },
    "colab_type": "code",
    "executionInfo": {
     "elapsed": 786,
     "status": "ok",
     "timestamp": 1559697570455,
     "user": {
      "displayName": "Youn-Hee Han",
      "photoUrl": "https://lh3.googleusercontent.com/-_hEg7gpfDo0/AAAAAAAAAAI/AAAAAAAAyi0/trci-rRDUJY/s64/photo.jpg",
      "userId": "12311607485851632400"
     },
     "user_tz": -540
    },
    "id": "w7mtpBl6UUKq",
    "outputId": "641aa3d7-0907-40c3-c6be-388f2b1f6034"
   },
   "outputs": [
    {
     "data": {
      "text/html": [
       "<div>\n",
       "<style scoped>\n",
       "    .dataframe tbody tr th:only-of-type {\n",
       "        vertical-align: middle;\n",
       "    }\n",
       "\n",
       "    .dataframe tbody tr th {\n",
       "        vertical-align: top;\n",
       "    }\n",
       "\n",
       "    .dataframe thead th {\n",
       "        text-align: right;\n",
       "    }\n",
       "</style>\n",
       "<table border=\"1\" class=\"dataframe\">\n",
       "  <thead>\n",
       "    <tr style=\"text-align: right;\">\n",
       "      <th></th>\n",
       "      <th>Date</th>\n",
       "      <th>Open</th>\n",
       "      <th>High</th>\n",
       "      <th>Low</th>\n",
       "      <th>Close</th>\n",
       "      <th>Volume</th>\n",
       "      <th>OpenInt</th>\n",
       "    </tr>\n",
       "  </thead>\n",
       "  <tbody>\n",
       "    <tr>\n",
       "      <th>11246</th>\n",
       "      <td>2006-09-13</td>\n",
       "      <td>27.935</td>\n",
       "      <td>28.049</td>\n",
       "      <td>27.769</td>\n",
       "      <td>28.049</td>\n",
       "      <td>33326250</td>\n",
       "      <td>0</td>\n",
       "    </tr>\n",
       "    <tr>\n",
       "      <th>11247</th>\n",
       "      <td>2006-09-14</td>\n",
       "      <td>27.814</td>\n",
       "      <td>28.066</td>\n",
       "      <td>27.776</td>\n",
       "      <td>28.003</td>\n",
       "      <td>25448731</td>\n",
       "      <td>0</td>\n",
       "    </tr>\n",
       "    <tr>\n",
       "      <th>11248</th>\n",
       "      <td>2006-09-15</td>\n",
       "      <td>28.099</td>\n",
       "      <td>28.178</td>\n",
       "      <td>27.953</td>\n",
       "      <td>28.058</td>\n",
       "      <td>41464854</td>\n",
       "      <td>0</td>\n",
       "    </tr>\n",
       "    <tr>\n",
       "      <th>11249</th>\n",
       "      <td>2006-09-18</td>\n",
       "      <td>27.896</td>\n",
       "      <td>28.146</td>\n",
       "      <td>27.867</td>\n",
       "      <td>28.073</td>\n",
       "      <td>28423137</td>\n",
       "      <td>0</td>\n",
       "    </tr>\n",
       "    <tr>\n",
       "      <th>11250</th>\n",
       "      <td>2006-09-19</td>\n",
       "      <td>28.066</td>\n",
       "      <td>28.066</td>\n",
       "      <td>27.858</td>\n",
       "      <td>28.058</td>\n",
       "      <td>23181436</td>\n",
       "      <td>0</td>\n",
       "    </tr>\n",
       "  </tbody>\n",
       "</table>\n",
       "</div>"
      ],
      "text/plain": [
       "             Date    Open    High     Low   Close    Volume  OpenInt\n",
       "11246  2006-09-13  27.935  28.049  27.769  28.049  33326250        0\n",
       "11247  2006-09-14  27.814  28.066  27.776  28.003  25448731        0\n",
       "11248  2006-09-15  28.099  28.178  27.953  28.058  41464854        0\n",
       "11249  2006-09-18  27.896  28.146  27.867  28.073  28423137        0\n",
       "11250  2006-09-19  28.066  28.066  27.858  28.058  23181436        0"
      ]
     },
     "execution_count": 22,
     "metadata": {
      "tags": []
     },
     "output_type": "execute_result"
    }
   ],
   "source": [
    "df_test.head(5)"
   ]
  },
  {
   "cell_type": "markdown",
   "metadata": {
    "colab_type": "text",
    "id": "B9vJQHc_UaAW"
   },
   "source": [
    "- scale the feature by using MinMaxScaler\n"
   ]
  },
  {
   "cell_type": "code",
   "execution_count": 0,
   "metadata": {
    "colab": {},
    "colab_type": "code",
    "id": "uGFxoPW4UVjM"
   },
   "outputs": [],
   "source": [
    "x_train_raw = df_train.loc[:, train_cols].values\n",
    "min_max_scaler = MinMaxScaler()\n",
    "x_train_raw = min_max_scaler.fit_transform(x_train_raw)\n",
    "\n",
    "x_test_raw = df_test.loc[:, train_cols].values\n",
    "x_test_raw = min_max_scaler.transform(x_test_raw)"
   ]
  },
  {
   "cell_type": "code",
   "execution_count": 0,
   "metadata": {
    "colab": {
     "base_uri": "https://localhost:8080/",
     "height": 187
    },
    "colab_type": "code",
    "executionInfo": {
     "elapsed": 872,
     "status": "ok",
     "timestamp": 1559697573569,
     "user": {
      "displayName": "Youn-Hee Han",
      "photoUrl": "https://lh3.googleusercontent.com/-_hEg7gpfDo0/AAAAAAAAAAI/AAAAAAAAyi0/trci-rRDUJY/s64/photo.jpg",
      "userId": "12311607485851632400"
     },
     "user_tz": -540
    },
    "id": "QG-2khCeUgXF",
    "outputId": "a838ae7b-4145-4036-8e25-8bd7cde4fb93"
   },
   "outputs": [
    {
     "data": {
      "text/plain": [
       "array([[0.0036, 0.0035, 0.0036, 0.0034, 0.0211],\n",
       "       [0.0034, 0.0032, 0.0034, 0.0034, 0.0137],\n",
       "       [0.0034, 0.0032, 0.0032, 0.0032, 0.0176],\n",
       "       [0.0032, 0.003 , 0.0027, 0.0029, 0.0273],\n",
       "       [0.0029, 0.0027, 0.0026, 0.0029, 0.0314],\n",
       "       [0.0029, 0.0029, 0.0029, 0.0029, 0.0229],\n",
       "       [0.0029, 0.0029, 0.0031, 0.0029, 0.0189],\n",
       "       [0.0029, 0.0027, 0.0029, 0.0029, 0.0153],\n",
       "       [0.0029, 0.0029, 0.0029, 0.0027, 0.0159],\n",
       "       [0.0029, 0.0027, 0.0031, 0.0029, 0.0206]])"
      ]
     },
     "execution_count": 24,
     "metadata": {
      "tags": []
     },
     "output_type": "execute_result"
    }
   ],
   "source": [
    "x_train_raw[0:10]"
   ]
  },
  {
   "cell_type": "code",
   "execution_count": 0,
   "metadata": {
    "colab": {
     "base_uri": "https://localhost:8080/",
     "height": 187
    },
    "colab_type": "code",
    "executionInfo": {
     "elapsed": 518,
     "status": "ok",
     "timestamp": 1559697573891,
     "user": {
      "displayName": "Youn-Hee Han",
      "photoUrl": "https://lh3.googleusercontent.com/-_hEg7gpfDo0/AAAAAAAAAAI/AAAAAAAAyi0/trci-rRDUJY/s64/photo.jpg",
      "userId": "12311607485851632400"
     },
     "user_tz": -540
    },
    "id": "y-ZEdsDhUtqY",
    "outputId": "b557c649-866e-46b4-da0b-5c0211d6c753"
   },
   "outputs": [
    {
     "data": {
      "text/plain": [
       "array([[0.581 , 0.5747, 0.5794, 0.5797, 0.3028],\n",
       "       [0.5784, 0.5751, 0.5796, 0.5787, 0.2306],\n",
       "       [0.5845, 0.5774, 0.5833, 0.5798, 0.3774],\n",
       "       [0.5802, 0.5767, 0.5815, 0.5802, 0.2579],\n",
       "       [0.5838, 0.5751, 0.5813, 0.5798, 0.2099],\n",
       "       [0.5839, 0.5786, 0.5821, 0.5827, 0.2761],\n",
       "       [0.5845, 0.5758, 0.5753, 0.5729, 0.2975],\n",
       "       [0.5753, 0.569 , 0.5756, 0.5722, 0.1968],\n",
       "       [0.5747, 0.5764, 0.5767, 0.5805, 0.2531],\n",
       "       [0.5845, 0.5878, 0.5863, 0.5899, 0.4057]])"
      ]
     },
     "execution_count": 25,
     "metadata": {
      "tags": []
     },
     "output_type": "execute_result"
    }
   ],
   "source": [
    "x_test_raw[0:10]"
   ]
  },
  {
   "cell_type": "markdown",
   "metadata": {
    "colab_type": "text",
    "id": "hmdxQPJcUvs8"
   },
   "source": [
    "### 3. Converting Data to Time-series and Adapt Them to Supervised Learning Problem"
   ]
  },
  {
   "cell_type": "markdown",
   "metadata": {
    "colab_type": "text",
    "id": "TniQ39STU-R3"
   },
   "source": [
    "![...](https://camo.githubusercontent.com/11571b09025b96b3c1ba14a00f3648792d4b1a75/68747470733a2f2f63646e2d696d616765732d312e6d656469756d2e636f6d2f6d61782f313630302f312a6259334f344c5232497067717777465848446d5462412e706e67)"
   ]
  },
  {
   "cell_type": "code",
   "execution_count": 0,
   "metadata": {
    "colab": {},
    "colab_type": "code",
    "id": "fc9nicUAVCxz"
   },
   "outputs": [],
   "source": [
    "TIME_STEPS = 3"
   ]
  },
  {
   "cell_type": "code",
   "execution_count": 0,
   "metadata": {
    "colab": {},
    "colab_type": "code",
    "id": "bCfIey_tVfLH"
   },
   "outputs": [],
   "source": [
    "def build_timeseries(mat, y_col_index):\n",
    "    # y_col_index is the index of column that would act as output column\n",
    "    # total number of time-series samples would be len(mat) - TIME_STEPS\n",
    "    dim_0 = mat.shape[0] - TIME_STEPS\n",
    "    dim_1 = mat.shape[1]\n",
    "    \n",
    "    x = np.zeros((dim_0, TIME_STEPS, dim_1))\n",
    "    y = np.zeros((dim_0,))\n",
    "    \n",
    "    for i in range(dim_0):  \n",
    "        x[i] = mat[i: TIME_STEPS + i]\n",
    "        y[i] = mat[TIME_STEPS + i, y_col_index]\n",
    "\n",
    "    return x, y"
   ]
  },
  {
   "cell_type": "code",
   "execution_count": 0,
   "metadata": {
    "colab": {
     "base_uri": "https://localhost:8080/",
     "height": 34
    },
    "colab_type": "code",
    "executionInfo": {
     "elapsed": 560,
     "status": "ok",
     "timestamp": 1559697578946,
     "user": {
      "displayName": "Youn-Hee Han",
      "photoUrl": "https://lh3.googleusercontent.com/-_hEg7gpfDo0/AAAAAAAAAAI/AAAAAAAAyi0/trci-rRDUJY/s64/photo.jpg",
      "userId": "12311607485851632400"
     },
     "user_tz": -540
    },
    "id": "GWiahQW3Vttf",
    "outputId": "2ad311d0-280d-455e-b1fb-5f657929717c"
   },
   "outputs": [
    {
     "name": "stdout",
     "output_type": "stream",
     "text": [
      "(11243, 3, 5) (11243,)\n"
     ]
    }
   ],
   "source": [
    "x_temp, y_temp = build_timeseries(mat=x_train_raw, y_col_index=3)\n",
    "print(x_temp.shape, y_temp.shape)"
   ]
  },
  {
   "cell_type": "code",
   "execution_count": 0,
   "metadata": {
    "colab": {
     "base_uri": "https://localhost:8080/",
     "height": 34
    },
    "colab_type": "code",
    "executionInfo": {
     "elapsed": 809,
     "status": "ok",
     "timestamp": 1559697580583,
     "user": {
      "displayName": "Youn-Hee Han",
      "photoUrl": "https://lh3.googleusercontent.com/-_hEg7gpfDo0/AAAAAAAAAAI/AAAAAAAAyi0/trci-rRDUJY/s64/photo.jpg",
      "userId": "12311607485851632400"
     },
     "user_tz": -540
    },
    "id": "X9Tb1tSGVpQd",
    "outputId": "35efb598-b8ed-48a5-cae6-3a43cb5eee55"
   },
   "outputs": [
    {
     "name": "stdout",
     "output_type": "stream",
     "text": [
      "[0, 1, 2, 3, 4, 5, 6]\n"
     ]
    }
   ],
   "source": [
    "l = [0, 1, 2, 3, 4, 5, 6, 7, 8, 9]\n",
    "l = l[:-3]\n",
    "print(l)"
   ]
  },
  {
   "cell_type": "code",
   "execution_count": 0,
   "metadata": {
    "colab": {},
    "colab_type": "code",
    "id": "Vs1jHwjbWY3m"
   },
   "outputs": [],
   "source": [
    "def trim_dataset(mat, batch_size):\n",
    "    \"\"\"\n",
    "    trims dataset to a size that's divisible by BATCH_SIZE\n",
    "    \"\"\"\n",
    "    no_of_rows_drop = mat.shape[0] % batch_size\n",
    "    if(no_of_rows_drop > 0):\n",
    "        return mat[:-no_of_rows_drop]\n",
    "    else:\n",
    "        return mat"
   ]
  },
  {
   "cell_type": "code",
   "execution_count": 0,
   "metadata": {
    "colab": {
     "base_uri": "https://localhost:8080/",
     "height": 34
    },
    "colab_type": "code",
    "executionInfo": {
     "elapsed": 746,
     "status": "ok",
     "timestamp": 1559697581830,
     "user": {
      "displayName": "Youn-Hee Han",
      "photoUrl": "https://lh3.googleusercontent.com/-_hEg7gpfDo0/AAAAAAAAAAI/AAAAAAAAyi0/trci-rRDUJY/s64/photo.jpg",
      "userId": "12311607485851632400"
     },
     "user_tz": -540
    },
    "id": "JNOxfvLZWhWD",
    "outputId": "9c50aeeb-3e70-4042-afae-4e2f80b3210d"
   },
   "outputs": [
    {
     "name": "stdout",
     "output_type": "stream",
     "text": [
      "(11240, 3, 5) (11240,)\n"
     ]
    }
   ],
   "source": [
    "BATCH_SIZE = 20\n",
    "\n",
    "x_train = trim_dataset(x_temp, BATCH_SIZE)\n",
    "y_train = trim_dataset(y_temp, BATCH_SIZE)\n",
    "print(x_train.shape, y_train.shape)"
   ]
  },
  {
   "cell_type": "code",
   "execution_count": 0,
   "metadata": {
    "colab": {},
    "colab_type": "code",
    "id": "zKtwbFeAW6A2"
   },
   "outputs": [],
   "source": [
    "x_temp, y_temp = build_timeseries(mat=x_test_raw, y_col_index=3)\n",
    "\n",
    "x_val, x_test = np.split(trim_dataset(x_temp, BATCH_SIZE), 2)\n",
    "x_val = trim_dataset(x_val, BATCH_SIZE)\n",
    "x_test = trim_dataset(x_test, BATCH_SIZE)\n",
    "\n",
    "y_val, y_test = np.split(trim_dataset(y_temp, BATCH_SIZE), 2)\n",
    "y_val = trim_dataset(y_val, BATCH_SIZE)\n",
    "y_test = trim_dataset(y_test, BATCH_SIZE)"
   ]
  },
  {
   "cell_type": "code",
   "execution_count": 0,
   "metadata": {
    "colab": {
     "base_uri": "https://localhost:8080/",
     "height": 68
    },
    "colab_type": "code",
    "executionInfo": {
     "elapsed": 806,
     "status": "ok",
     "timestamp": 1559697584775,
     "user": {
      "displayName": "Youn-Hee Han",
      "photoUrl": "https://lh3.googleusercontent.com/-_hEg7gpfDo0/AAAAAAAAAAI/AAAAAAAAyi0/trci-rRDUJY/s64/photo.jpg",
      "userId": "12311607485851632400"
     },
     "user_tz": -540
    },
    "id": "DIS28k9vXXzw",
    "outputId": "dc0a1055-ae4f-4d77-989a-4cfc48474a52"
   },
   "outputs": [
    {
     "name": "stdout",
     "output_type": "stream",
     "text": [
      "     TRAIN: (11240, 3, 5) (11240,)\n",
      "VALIDATION: (1400, 3, 5) (1400,)\n",
      "      TEST: (1400, 3, 5) (1400,)\n"
     ]
    }
   ],
   "source": [
    "print(\"     TRAIN:\", x_train.shape, y_train.shape)\n",
    "print(\"VALIDATION:\", x_val.shape, y_val.shape)\n",
    "print(\"      TEST:\", x_test.shape, y_test.shape)"
   ]
  },
  {
   "cell_type": "markdown",
   "metadata": {
    "colab_type": "text",
    "id": "A2zx1MO5XeQZ"
   },
   "source": [
    "### 4. Creating model (tf20 + Keras)"
   ]
  },
  {
   "cell_type": "code",
   "execution_count": 0,
   "metadata": {
    "colab": {
     "base_uri": "https://localhost:8080/",
     "height": 71
    },
    "colab_type": "code",
    "executionInfo": {
     "elapsed": 919,
     "status": "ok",
     "timestamp": 1559698083359,
     "user": {
      "displayName": "Youn-Hee Han",
      "photoUrl": "https://lh3.googleusercontent.com/-_hEg7gpfDo0/AAAAAAAAAAI/AAAAAAAAyi0/trci-rRDUJY/s64/photo.jpg",
      "userId": "12311607485851632400"
     },
     "user_tz": -540
    },
    "id": "kVrWncmWX0bL",
    "outputId": "5e28e923-51f7-46ad-8b2a-a514b8fa76f8"
   },
   "outputs": [
    {
     "name": "stderr",
     "output_type": "stream",
     "text": [
      "W0605 01:28:03.407005 140395341133696 tf_logging.py:161] <tensorflow.python.keras.layers.recurrent.UnifiedLSTM object at 0x7fafb41efac8>: Note that this layer is not optimized for performance. Please use tf.keras.layers.CuDNNLSTM for better performance on GPU.\n",
      "W0605 01:28:03.510703 140395341133696 tf_logging.py:161] <tensorflow.python.keras.layers.recurrent.UnifiedLSTM object at 0x7fafb418c588>: Note that this layer is not optimized for performance. Please use tf.keras.layers.CuDNNLSTM for better performance on GPU.\n"
     ]
    }
   ],
   "source": [
    "from tensorflow.keras.models import Sequential\n",
    "from tensorflow.keras.layers import LSTM, Dropout, Dense\n",
    "from tensorflow.keras import optimizers\n",
    "\n",
    "lstm_model = Sequential()\n",
    "lstm_model.add(LSTM(\n",
    "    units=100, \n",
    "    batch_input_shape=(BATCH_SIZE, TIME_STEPS, x_train.shape[2]),\n",
    "    stateful=True,\n",
    "    kernel_initializer='glorot_normal',\n",
    "    return_sequences=True,\n",
    "    bias_initializer='zero'\n",
    "))\n",
    "lstm_model.add(Dropout(0.5))\n",
    "lstm_model.add(LSTM(\n",
    "    units=100, \n",
    "    batch_input_shape=(BATCH_SIZE, TIME_STEPS, x_train.shape[2]),\n",
    "    stateful=True,\n",
    "    kernel_initializer='glorot_normal',\n",
    "    bias_initializer='zero'\n",
    "))\n",
    "lstm_model.add(Dropout(0.5))\n",
    "lstm_model.add(Dense(\n",
    "    units=25,\n",
    "    kernel_initializer='glorot_normal',\n",
    "    bias_initializer='zero',\n",
    "    activation='relu'\n",
    "))\n",
    "lstm_model.add(Dense(\n",
    "    units=1,\n",
    "    kernel_initializer='glorot_normal',\n",
    "    bias_initializer='zero',\n",
    "    activation='sigmoid'\n",
    "))\n",
    "\n",
    "nesterov = optimizers.SGD(lr=0.01, decay=1e-6, momentum=0.9, nesterov=True)\n",
    "lstm_model.compile(loss='mean_squared_error', optimizer=nesterov)"
   ]
  },
  {
   "cell_type": "code",
   "execution_count": 0,
   "metadata": {
    "colab": {
     "base_uri": "https://localhost:8080/",
     "height": 357
    },
    "colab_type": "code",
    "executionInfo": {
     "elapsed": 857,
     "status": "ok",
     "timestamp": 1559698086923,
     "user": {
      "displayName": "Youn-Hee Han",
      "photoUrl": "https://lh3.googleusercontent.com/-_hEg7gpfDo0/AAAAAAAAAAI/AAAAAAAAyi0/trci-rRDUJY/s64/photo.jpg",
      "userId": "12311607485851632400"
     },
     "user_tz": -540
    },
    "id": "qiuoJmDvX3g3",
    "outputId": "53d5bfd4-7ab8-4404-fd65-6d655de5c674"
   },
   "outputs": [
    {
     "name": "stdout",
     "output_type": "stream",
     "text": [
      "Model: \"sequential_4\"\n",
      "_________________________________________________________________\n",
      "Layer (type)                 Output Shape              Param #   \n",
      "=================================================================\n",
      "unified_lstm_6 (UnifiedLSTM) (20, 3, 100)              42400     \n",
      "_________________________________________________________________\n",
      "dropout_5 (Dropout)          (20, 3, 100)              0         \n",
      "_________________________________________________________________\n",
      "unified_lstm_7 (UnifiedLSTM) (20, 100)                 80400     \n",
      "_________________________________________________________________\n",
      "dropout_6 (Dropout)          (20, 100)                 0         \n",
      "_________________________________________________________________\n",
      "dense_6 (Dense)              (20, 25)                  2525      \n",
      "_________________________________________________________________\n",
      "dense_7 (Dense)              (20, 1)                   26        \n",
      "=================================================================\n",
      "Total params: 125,351\n",
      "Trainable params: 125,351\n",
      "Non-trainable params: 0\n",
      "_________________________________________________________________\n"
     ]
    }
   ],
   "source": [
    "lstm_model.summary()"
   ]
  },
  {
   "cell_type": "markdown",
   "metadata": {
    "colab_type": "text",
    "id": "w-HUKdWfX6KW"
   },
   "source": [
    "### 5. Training model (tf20 + Keras)"
   ]
  },
  {
   "cell_type": "code",
   "execution_count": 0,
   "metadata": {
    "colab": {},
    "colab_type": "code",
    "id": "muT7lQLsX_1T"
   },
   "outputs": [],
   "source": [
    "from tensorflow.keras.callbacks import Callback\n",
    "\n",
    "class LossHistory(Callback):\n",
    "    def __init__(self, lstm_model):\n",
    "        self.lstm_model = lstm_model\n",
    "        self.epoch = 0\n",
    "        self.train_losses = []\n",
    "        self.val_losses = []        \n",
    "\n",
    "    def on_epoch_end(self, batch, logs={}):\n",
    "        self.train_losses.append(logs.get('loss'))\n",
    "        self.val_losses.append(logs.get('val_loss'))\n",
    "        if self.epoch % 10 == 0:\n",
    "            print(\"epoch: {0} - train loss: {1:8.6f} - val loss: {2:8.6f}\".format(\n",
    "                self.epoch, \n",
    "                logs.get('loss'),\n",
    "                logs.get('val_loss'),                \n",
    "            ))\n",
    "        self.lstm_model.reset_states()\n",
    "        self.epoch += 1"
   ]
  },
  {
   "cell_type": "code",
   "execution_count": 0,
   "metadata": {
    "colab": {
     "base_uri": "https://localhost:8080/",
     "height": 238
    },
    "colab_type": "code",
    "executionInfo": {
     "elapsed": 348220,
     "status": "ok",
     "timestamp": 1559698451839,
     "user": {
      "displayName": "Youn-Hee Han",
      "photoUrl": "https://lh3.googleusercontent.com/-_hEg7gpfDo0/AAAAAAAAAAI/AAAAAAAAyi0/trci-rRDUJY/s64/photo.jpg",
      "userId": "12311607485851632400"
     },
     "user_tz": -540
    },
    "id": "MNY4_g4pYDN0",
    "outputId": "b3ad36df-786e-495c-b897-528c41cc767f"
   },
   "outputs": [
    {
     "name": "stdout",
     "output_type": "stream",
     "text": [
      "epoch: 0 - train loss: 0.022951 - val loss: 0.049821\n",
      "epoch: 10 - train loss: 0.002882 - val loss: 0.026539\n",
      "epoch: 20 - train loss: 0.002283 - val loss: 0.022391\n",
      "epoch: 30 - train loss: 0.001761 - val loss: 0.020201\n",
      "epoch: 40 - train loss: 0.001476 - val loss: 0.018580\n",
      "epoch: 50 - train loss: 0.001230 - val loss: 0.018166\n",
      "epoch: 60 - train loss: 0.001039 - val loss: 0.017341\n",
      "epoch: 70 - train loss: 0.000901 - val loss: 0.016913\n",
      "epoch: 80 - train loss: 0.000786 - val loss: 0.016230\n",
      "epoch: 90 - train loss: 0.000723 - val loss: 0.015625\n",
      "epoch: 100 - train loss: 0.000668 - val loss: 0.015217\n",
      "epoch: 110 - train loss: 0.000638 - val loss: 0.015063\n"
     ]
    },
    {
     "data": {
      "text/plain": [
       "<tensorflow.python.keras.callbacks.History at 0x7fafa871cac8>"
      ]
     },
     "execution_count": 55,
     "metadata": {
      "tags": []
     },
     "output_type": "execute_result"
    }
   ],
   "source": [
    "from tensorflow.keras.callbacks import EarlyStopping\n",
    "\n",
    "num_epochs = 500\n",
    "\n",
    "history = LossHistory(lstm_model=lstm_model)  # 손실 이력 객체 생성\n",
    "early_stopping = EarlyStopping(monitor='val_loss', patience=7)\n",
    "\n",
    "lstm_model.fit(\n",
    "    x=x_train, \n",
    "    y=y_train,\n",
    "    epochs=num_epochs,\n",
    "    verbose=0,\n",
    "    batch_size=BATCH_SIZE,\n",
    "    shuffle=False,\n",
    "    validation_data=(x_val, y_val), \n",
    "    callbacks=[history, early_stopping]\n",
    ")"
   ]
  },
  {
   "cell_type": "code",
   "execution_count": 0,
   "metadata": {
    "colab": {
     "base_uri": "https://localhost:8080/",
     "height": 500
    },
    "colab_type": "code",
    "executionInfo": {
     "elapsed": 3422,
     "status": "ok",
     "timestamp": 1559702157985,
     "user": {
      "displayName": "Youn-Hee Han",
      "photoUrl": "https://lh3.googleusercontent.com/-_hEg7gpfDo0/AAAAAAAAAAI/AAAAAAAAyi0/trci-rRDUJY/s64/photo.jpg",
      "userId": "12311607485851632400"
     },
     "user_tz": -540
    },
    "id": "Ft9hMyt3YGjT",
    "outputId": "df986c48-6d2a-4038-de4d-4d7ec9ea2657"
   },
   "outputs": [
    {
     "data": {
      "image/png": "[encoded data removed]",
      "text/plain": [
       "<Figure size 1440x576 with 1 Axes>"
      ]
     },
     "metadata": {
      "tags": []
     },
     "output_type": "display_data"
    }
   ],
   "source": [
    "plt.figure(figsize=(20, 8))\n",
    "\n",
    "plt.plot(history.train_losses)\n",
    "plt.plot(history.val_losses)\n",
    "plt.ylabel('loss')\n",
    "plt.xlabel('epoch')\n",
    "plt.legend(['train loss', 'val_loss'], loc='upper right')\n",
    "plt.show()"
   ]
  },
  {
   "cell_type": "markdown",
   "metadata": {
    "colab_type": "text",
    "id": "v7BVfpKcaaQ8"
   },
   "source": [
    "### 6. Prediction\n"
   ]
  },
  {
   "cell_type": "code",
   "execution_count": 0,
   "metadata": {
    "colab": {},
    "colab_type": "code",
    "id": "t619HOH7abnc"
   },
   "outputs": [],
   "source": [
    "pred = lstm_model.predict(x_test)\n",
    "pred = np.squeeze(pred)"
   ]
  },
  {
   "cell_type": "code",
   "execution_count": 0,
   "metadata": {
    "colab": {
     "base_uri": "https://localhost:8080/",
     "height": 34
    },
    "colab_type": "code",
    "executionInfo": {
     "elapsed": 5448,
     "status": "ok",
     "timestamp": 1559702177902,
     "user": {
      "displayName": "Youn-Hee Han",
      "photoUrl": "https://lh3.googleusercontent.com/-_hEg7gpfDo0/AAAAAAAAAAI/AAAAAAAAyi0/trci-rRDUJY/s64/photo.jpg",
      "userId": "12311607485851632400"
     },
     "user_tz": -540
    },
    "id": "pQBM4dZJadjJ",
    "outputId": "d8d3f3c1-eeef-4dcd-d9aa-65ac09b2c1e1"
   },
   "outputs": [
    {
     "name": "stdout",
     "output_type": "stream",
     "text": [
      "(1400,) (1400,)\n"
     ]
    }
   ],
   "source": [
    "print(y_test.shape, pred.shape)"
   ]
  },
  {
   "cell_type": "code",
   "execution_count": 0,
   "metadata": {
    "colab": {
     "base_uri": "https://localhost:8080/",
     "height": 34
    },
    "colab_type": "code",
    "executionInfo": {
     "elapsed": 4458,
     "status": "ok",
     "timestamp": 1559702177903,
     "user": {
      "displayName": "Youn-Hee Han",
      "photoUrl": "https://lh3.googleusercontent.com/-_hEg7gpfDo0/AAAAAAAAAAI/AAAAAAAAyi0/trci-rRDUJY/s64/photo.jpg",
      "userId": "12311607485851632400"
     },
     "user_tz": -540
    },
    "id": "lFMONG0kbVuf",
    "outputId": "dcc07f50-a25c-4b47-eb0f-292f22023ee6"
   },
   "outputs": [
    {
     "data": {
      "text/plain": [
       "array([0.3213, 0.3261, 0.3312, ..., 0.4383, 0.4271, 0.4192])"
      ]
     },
     "execution_count": 59,
     "metadata": {
      "tags": []
     },
     "output_type": "execute_result"
    }
   ],
   "source": [
    "y_test"
   ]
  },
  {
   "cell_type": "code",
   "execution_count": 0,
   "metadata": {
    "colab": {
     "base_uri": "https://localhost:8080/",
     "height": 153
    },
    "colab_type": "code",
    "executionInfo": {
     "elapsed": 3699,
     "status": "ok",
     "timestamp": 1559702177904,
     "user": {
      "displayName": "Youn-Hee Han",
      "photoUrl": "https://lh3.googleusercontent.com/-_hEg7gpfDo0/AAAAAAAAAAI/AAAAAAAAyi0/trci-rRDUJY/s64/photo.jpg",
      "userId": "12311607485851632400"
     },
     "user_tz": -540
    },
    "id": "sPLSaATUagGu",
    "outputId": "728e0ae6-f305-43ce-98dc-534145203a96"
   },
   "outputs": [
    {
     "name": "stdout",
     "output_type": "stream",
     "text": [
      "(1400, 5)\n",
      "[[     0.459       0.4669      0.4511     15.754  274250.    ]\n",
      " [     0.459       0.4669      0.4511     15.979  274250.    ]\n",
      " [     0.459       0.4669      0.4511     16.224  274250.    ]\n",
      " ...\n",
      " [     0.459       0.4669      0.4511     21.32   274250.    ]\n",
      " [     0.459       0.4669      0.4511     20.79   274250.    ]\n",
      " [     0.459       0.4669      0.4511     20.41   274250.    ]]\n"
     ]
    }
   ],
   "source": [
    "y_test_reverted = np.zeros(shape=(y_test.shape[0], 5))\n",
    "print(y_test_reverted.shape)\n",
    "\n",
    "y_test_reverted[:, 3] = y_test\n",
    "\n",
    "y_test_reverted = min_max_scaler.inverse_transform(y_test_reverted)\n",
    "print(y_test_reverted)"
   ]
  },
  {
   "cell_type": "code",
   "execution_count": 0,
   "metadata": {
    "colab": {
     "base_uri": "https://localhost:8080/",
     "height": 136
    },
    "colab_type": "code",
    "executionInfo": {
     "elapsed": 3126,
     "status": "ok",
     "timestamp": 1559702177906,
     "user": {
      "displayName": "Youn-Hee Han",
      "photoUrl": "https://lh3.googleusercontent.com/-_hEg7gpfDo0/AAAAAAAAAAI/AAAAAAAAyi0/trci-rRDUJY/s64/photo.jpg",
      "userId": "12311607485851632400"
     },
     "user_tz": -540
    },
    "id": "sbWrxuE7bDMw",
    "outputId": "b62eec87-cad8-484f-ffb7-f7f708bd54c1"
   },
   "outputs": [
    {
     "name": "stdout",
     "output_type": "stream",
     "text": [
      "[[     0.459       0.4669      0.4511     12.2259 274250.    ]\n",
      " [     0.459       0.4669      0.4511     12.0373 274250.    ]\n",
      " [     0.459       0.4669      0.4511     11.9703 274250.    ]\n",
      " ...\n",
      " [     0.459       0.4669      0.4511     20.0578 274250.    ]\n",
      " [     0.459       0.4669      0.4511     20.3749 274250.    ]\n",
      " [     0.459       0.4669      0.4511     20.3777 274250.    ]]\n"
     ]
    }
   ],
   "source": [
    "pred_reverted = np.zeros(shape=(pred.shape[0], 5))\n",
    "pred_reverted[:, 3] = pred\n",
    "\n",
    "pred_reverted = min_max_scaler.inverse_transform(pred_reverted)\n",
    "print(pred_reverted)"
   ]
  },
  {
   "cell_type": "code",
   "execution_count": 0,
   "metadata": {
    "colab": {
     "base_uri": "https://localhost:8080/",
     "height": 513
    },
    "colab_type": "code",
    "executionInfo": {
     "elapsed": 3428,
     "status": "ok",
     "timestamp": 1559702178725,
     "user": {
      "displayName": "Youn-Hee Han",
      "photoUrl": "https://lh3.googleusercontent.com/-_hEg7gpfDo0/AAAAAAAAAAI/AAAAAAAAyi0/trci-rRDUJY/s64/photo.jpg",
      "userId": "12311607485851632400"
     },
     "user_tz": -540
    },
    "id": "i-HGa9wPbp7t",
    "outputId": "09051b08-a8e4-453e-f9af-9fdda2749805"
   },
   "outputs": [
    {
     "data": {
      "image/png": "[encoded data removed]",
      "text/plain": [
       "<Figure size 1440x576 with 1 Axes>"
      ]
     },
     "metadata": {
      "tags": []
     },
     "output_type": "display_data"
    }
   ],
   "source": [
    "plt.figure(figsize=(20, 8))\n",
    "\n",
    "plt.plot(y_test_reverted[:, 3])\n",
    "plt.plot(pred_reverted[:, 3])\n",
    "plt.title('GE stock price prediction')\n",
    "plt.ylabel('Price (USD)')\n",
    "plt.xlabel('Days')\n",
    "plt.legend(['Real Close Price','Predicted Close Price'], loc='upper left')\n",
    "plt.show()"
   ]
  },
  {
   "cell_type": "code",
   "execution_count": 0,
   "metadata": {
    "colab": {
     "base_uri": "https://localhost:8080/",
     "height": 513
    },
    "colab_type": "code",
    "executionInfo": {
     "elapsed": 2770,
     "status": "ok",
     "timestamp": 1559702345592,
     "user": {
      "displayName": "Youn-Hee Han",
      "photoUrl": "https://lh3.googleusercontent.com/-_hEg7gpfDo0/AAAAAAAAAAI/AAAAAAAAyi0/trci-rRDUJY/s64/photo.jpg",
      "userId": "12311607485851632400"
     },
     "user_tz": -540
    },
    "id": "vul-0-aLbwFZ",
    "outputId": "8a3d16e6-7e0b-403a-c17e-f9b2b80a36de"
   },
   "outputs": [
    {
     "data": {
      "image/png": "[encoded data removed]",
      "text/plain": [
       "<Figure size 1440x576 with 1 Axes>"
      ]
     },
     "metadata": {
      "tags": []
     },
     "output_type": "display_data"
    }
   ],
   "source": [
    "plt.figure(figsize=(20, 8))\n",
    "\n",
    "plt.plot(y_test_reverted[:, 3][-25:], 'bo-')\n",
    "plt.plot(pred_reverted[:, 3][-25:], 'ro-')\n",
    "plt.title('GE stock price prediction')\n",
    "plt.ylabel('Price (USD)')\n",
    "plt.xlabel('Days')\n",
    "plt.legend(['Real Close Price','Predicted Close Price'], loc='upper right')\n",
    "plt.show()"
   ]
  },
  {
   "cell_type": "code",
   "execution_count": 0,
   "metadata": {
    "colab": {},
    "colab_type": "code",
    "id": "_QBvVcEbgQOU"
   },
   "outputs": [],
   "source": []
  }
 ],
 "metadata": {
  "accelerator": "GPU",
  "colab": {
   "collapsed_sections": [],
   "name": "stock_price_prediction_tf20.ipynb의 사본",
   "provenance": [
    {
     "file_id": "1_L2Ajf1C-UuCQvpJ6FV6GaId1c1BCNyT",
     "timestamp": 1560167943288
    }
   ],
   "version": "0.3.2"
  },
  "kernelspec": {
   "display_name": "Python 3",
   "language": "python",
   "name": "python3"
  },
  "language_info": {
   "codemirror_mode": {
    "name": "ipython",
    "version": 3
   },
   "file_extension": ".py",
   "mimetype": "text/x-python",
   "name": "python",
   "nbconvert_exporter": "python",
   "pygments_lexer": "ipython3",
   "version": "3.7.3"
  }
 },
 "nbformat": 4,
 "nbformat_minor": 1
}
