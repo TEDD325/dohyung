{
 "cells": [
  {
   "cell_type": "code",
   "execution_count": 1,
   "metadata": {},
   "outputs": [
    {
     "data": {
      "text/html": [
       "\n",
       "        <div>\n",
       "            <p><b>SparkContext</b></p>\n",
       "\n",
       "            <p><a href=\"http://172.19.89.60:4040\">Spark UI</a></p>\n",
       "\n",
       "            <dl>\n",
       "              <dt>Version</dt>\n",
       "                <dd><code>v2.2.1</code></dd>\n",
       "              <dt>Master</dt>\n",
       "                <dd><code>local[*]</code></dd>\n",
       "              <dt>AppName</dt>\n",
       "                <dd><code>PySparkShell</code></dd>\n",
       "            </dl>\n",
       "        </div>\n",
       "        "
      ],
      "text/plain": [
       "<SparkContext master=local[*] appName=PySparkShell>"
      ]
     },
     "execution_count": 1,
     "metadata": {},
     "output_type": "execute_result"
    }
   ],
   "source": [
    "import config\n",
    "import pickle\n",
    "import os\n",
    "import matplotlib.pyplot as plt\n",
    "import pandas as pd\n",
    "import datetime\n",
    "import time\n",
    "import glob\n",
    "from pyspark.sql.functions import lit,unix_timestamp\n",
    "from pyspark import SQLContext\n",
    "from pyspark.sql import functions as F\n",
    "import pyspark\n",
    "import sys\n",
    "sc"
   ]
  },
  {
   "cell_type": "code",
   "execution_count": 3,
   "metadata": {},
   "outputs": [
    {
     "name": "stdout",
     "output_type": "stream",
     "text": [
      "171222_spark.ipynb\r\n",
      "171223_spark.ipynb\r\n",
      "180104_spark.ipynb\r\n",
      "180119_spark.py\r\n",
      "\u001b[31m180122_알고리즘트레이딩.ipynb\u001b[m\u001b[m\r\n",
      "\u001b[31m180123_spark_csv.ipynb\u001b[m\u001b[m\r\n",
      "180125_spark_NoneType원인-Copy1.ipynb\r\n",
      "180126_spark_1_missing data 원인.ipynb\r\n",
      "180126_spark_2_missing data 처리.ipynb\r\n",
      "180127_spark_3.ipynb\r\n",
      "181010_spark.py\r\n",
      "TRADE_BTC.csv\r\n",
      "TRADE_BTC|bithumb|vol: |1|2018-01-18 00:00:00|2018-01-18 04:30:00.pickle\r\n",
      "\u001b[34m__pycache__\u001b[m\u001b[m\r\n",
      "\u001b[31mconfig.py\u001b[m\u001b[m\r\n",
      "derby.log\r\n",
      "\u001b[34mmetastore_db\u001b[m\u001b[m\r\n",
      "test.csv\r\n",
      "test2.csv\r\n",
      "test3.csv\r\n",
      "test4.csv\r\n",
      "\u001b[31mtrade_20171214_20171215.csv\u001b[m\u001b[m\r\n",
      "trade_20171214_20171220.csv\r\n",
      "trade_20171214_20180113.csv\r\n"
     ]
    }
   ],
   "source": [
    "! ls"
   ]
  },
  {
   "cell_type": "code",
   "execution_count": 2,
   "metadata": {
    "colab": {
     "autoexec": {
      "startup": false,
      "wait_interval": 0
     }
    },
    "colab_type": "code",
    "id": "biqgJr9gArX9"
   },
   "outputs": [],
   "source": [
    "# path_to_csv_arg = \"test2.csv\"\n",
    "path_to_csv_arg = \"hdfs:///trade/test2.csv\"\n",
    "coin_type_arg = 'TRADE_BTC'\n",
    "start_time_arg = '2018-01-18 00:00:00'\n",
    "end_time_arg = '2018-01-18 11:59:59'\n",
    "exchange_arg =  'bithumb'\n",
    "time_interval_arg = 1\n",
    "Spark_app_name = coin_type_arg + '_' + exchange_arg + '_' + 'vol: ' + '_' + str(time_interval_arg) + '_' + start_time_arg + '_' + end_time_arg + '_'"
   ]
  },
  {
   "cell_type": "code",
   "execution_count": null,
   "metadata": {
    "colab": {
     "autoexec": {
      "startup": false,
      "wait_interval": 0
     },
     "output_extras": [
      {}
     ]
    },
    "colab_type": "code",
    "id": "pT10YK5WArYm",
    "outputId": "83292c21-54a8-4975-d4c3-282476912d20"
   },
   "outputs": [
    {
     "data": {
      "text/plain": [
       "{'close': [18438000.0,\n",
       "  18441000.0,\n",
       "  18410000.0,\n",
       "  18375000.0,\n",
       "  18310000.0,\n",
       "  18303000.0,\n",
       "  18277000.0,\n",
       "  18249000.0,\n",
       "  18187000.0,\n",
       "  18101000.0,\n",
       "  18200000.0,\n",
       "  18138000.0,\n",
       "  18152000.0,\n",
       "  18232000.0,\n",
       "  18277000.0,\n",
       "  18294000.0,\n",
       "  18397000.0,\n",
       "  18388000.0,\n",
       "  18378000.0,\n",
       "  18354000.0,\n",
       "  18296000.0,\n",
       "  18027000.0,\n",
       "  18123000.0,\n",
       "  18008000.0,\n",
       "  18050000.0,\n",
       "  18004000.0],\n",
       " 'date': ['2017-12-14 01:20:00',\n",
       "  '2017-12-14 01:25:00',\n",
       "  '2017-12-14 01:30:00',\n",
       "  '2017-12-14 01:35:00',\n",
       "  '2017-12-14 01:40:00',\n",
       "  '2017-12-14 01:45:00',\n",
       "  '2017-12-14 01:50:00',\n",
       "  '2017-12-14 01:55:00',\n",
       "  '2017-12-14 02:00:00',\n",
       "  '2017-12-14 02:05:00',\n",
       "  '2017-12-14 02:10:00',\n",
       "  '2017-12-14 02:15:00',\n",
       "  '2017-12-14 02:20:00',\n",
       "  '2017-12-14 02:25:00',\n",
       "  '2017-12-14 02:30:00',\n",
       "  '2017-12-14 02:35:00',\n",
       "  '2017-12-14 02:40:00',\n",
       "  '2017-12-14 02:45:00',\n",
       "  '2017-12-14 02:50:00',\n",
       "  '2017-12-14 02:55:00',\n",
       "  '2017-12-14 03:00:00',\n",
       "  '2017-12-14 03:05:00',\n",
       "  '2017-12-14 03:10:00',\n",
       "  '2017-12-14 03:15:00',\n",
       "  '2017-12-14 03:20:00',\n",
       "  '2017-12-14 03:25:00'],\n",
       " 'high': [18492000.0,\n",
       "  18466000.0,\n",
       "  18450000.0,\n",
       "  18444000.0,\n",
       "  18384000.0,\n",
       "  18333000.0,\n",
       "  18310000.0,\n",
       "  18280000.0,\n",
       "  18249000.0,\n",
       "  18199000.0,\n",
       "  18309000.0,\n",
       "  18240000.0,\n",
       "  18195000.0,\n",
       "  18246000.0,\n",
       "  18289000.0,\n",
       "  18328000.0,\n",
       "  18399000.0,\n",
       "  18527000.0,\n",
       "  18479000.0,\n",
       "  18400000.0,\n",
       "  18364000.0,\n",
       "  18319000.0,\n",
       "  18193000.0,\n",
       "  18173000.0,\n",
       "  18108000.0,\n",
       "  18100000.0],\n",
       " 'low': [18400000.0,\n",
       "  18396000.0,\n",
       "  18373000.0,\n",
       "  18375000.0,\n",
       "  18300000.0,\n",
       "  18300000.0,\n",
       "  18276000.0,\n",
       "  18244000.0,\n",
       "  18170000.0,\n",
       "  18100000.0,\n",
       "  18010000.0,\n",
       "  18101000.0,\n",
       "  18130000.0,\n",
       "  18160000.0,\n",
       "  18232000.0,\n",
       "  18100000.0,\n",
       "  18277000.0,\n",
       "  18250000.0,\n",
       "  18352000.0,\n",
       "  18352000.0,\n",
       "  18277000.0,\n",
       "  18016000.0,\n",
       "  18011000.0,\n",
       "  18007000.0,\n",
       "  18005000.0,\n",
       "  18004000.0],\n",
       " 'meta': ['TRADE_BTC',\n",
       "  '2017-12-14 01:20:00',\n",
       "  '2017-12-14 03:30:00',\n",
       "  'bithumb',\n",
       "  5],\n",
       " 'open': [18477000.0,\n",
       "  18438000.0,\n",
       "  18441000.0,\n",
       "  18411000.0,\n",
       "  18375000.0,\n",
       "  18308000.0,\n",
       "  18300000.0,\n",
       "  18277000.0,\n",
       "  18248000.0,\n",
       "  18187000.0,\n",
       "  18101000.0,\n",
       "  18200000.0,\n",
       "  18140000.0,\n",
       "  18160000.0,\n",
       "  18232000.0,\n",
       "  18277000.0,\n",
       "  18294000.0,\n",
       "  18396000.0,\n",
       "  18352000.0,\n",
       "  18378000.0,\n",
       "  18354000.0,\n",
       "  18296000.0,\n",
       "  18027000.0,\n",
       "  18156000.0,\n",
       "  18008000.0,\n",
       "  18100000.0]}"
      ]
     },
     "execution_count": 5,
     "metadata": {
      "tags": []
     },
     "output_type": "execute_result"
    }
   ],
   "source": [
    "f = open(Spark_app_name+'.pickle', 'rb')\n",
    "bithumb = pickle.load(f)\n",
    "bithumb"
   ]
  },
  {
   "cell_type": "markdown",
   "metadata": {
    "colab_type": "text",
    "id": "aT2upneWArYw"
   },
   "source": []
  },
  {
   "cell_type": "markdown",
   "metadata": {
    "colab_type": "text",
    "id": "Ano_0tLJArYx"
   },
   "source": [
    "**pandas.DataFrame화**"
   ]
  },
  {
   "cell_type": "code",
   "execution_count": null,
   "metadata": {
    "colab": {
     "autoexec": {
      "startup": false,
      "wait_interval": 0
     },
     "output_extras": [
      {}
     ]
    },
    "colab_type": "code",
    "id": "UPtJtQ4zArYz",
    "outputId": "46ba6bed-172d-4824-88f3-a36be3f7d100"
   },
   "outputs": [
    {
     "data": {
      "text/html": [
       "<div>\n",
       "<style>\n",
       "    .dataframe thead tr:only-child th {\n",
       "        text-align: right;\n",
       "    }\n",
       "\n",
       "    .dataframe thead th {\n",
       "        text-align: left;\n",
       "    }\n",
       "\n",
       "    .dataframe tbody tr th {\n",
       "        vertical-align: top;\n",
       "    }\n",
       "</style>\n",
       "<table border=\"1\" class=\"dataframe\">\n",
       "  <thead>\n",
       "    <tr style=\"text-align: right;\">\n",
       "      <th></th>\n",
       "      <th>close</th>\n",
       "      <th>high</th>\n",
       "      <th>low</th>\n",
       "      <th>open</th>\n",
       "    </tr>\n",
       "  </thead>\n",
       "  <tbody>\n",
       "    <tr>\n",
       "      <th>0</th>\n",
       "      <td>18438000.0</td>\n",
       "      <td>18492000.0</td>\n",
       "      <td>18400000.0</td>\n",
       "      <td>18477000.0</td>\n",
       "    </tr>\n",
       "    <tr>\n",
       "      <th>1</th>\n",
       "      <td>18441000.0</td>\n",
       "      <td>18466000.0</td>\n",
       "      <td>18396000.0</td>\n",
       "      <td>18438000.0</td>\n",
       "    </tr>\n",
       "    <tr>\n",
       "      <th>2</th>\n",
       "      <td>18410000.0</td>\n",
       "      <td>18450000.0</td>\n",
       "      <td>18373000.0</td>\n",
       "      <td>18441000.0</td>\n",
       "    </tr>\n",
       "    <tr>\n",
       "      <th>3</th>\n",
       "      <td>18375000.0</td>\n",
       "      <td>18444000.0</td>\n",
       "      <td>18375000.0</td>\n",
       "      <td>18411000.0</td>\n",
       "    </tr>\n",
       "    <tr>\n",
       "      <th>4</th>\n",
       "      <td>18310000.0</td>\n",
       "      <td>18384000.0</td>\n",
       "      <td>18300000.0</td>\n",
       "      <td>18375000.0</td>\n",
       "    </tr>\n",
       "    <tr>\n",
       "      <th>5</th>\n",
       "      <td>18303000.0</td>\n",
       "      <td>18333000.0</td>\n",
       "      <td>18300000.0</td>\n",
       "      <td>18308000.0</td>\n",
       "    </tr>\n",
       "    <tr>\n",
       "      <th>6</th>\n",
       "      <td>18277000.0</td>\n",
       "      <td>18310000.0</td>\n",
       "      <td>18276000.0</td>\n",
       "      <td>18300000.0</td>\n",
       "    </tr>\n",
       "    <tr>\n",
       "      <th>7</th>\n",
       "      <td>18249000.0</td>\n",
       "      <td>18280000.0</td>\n",
       "      <td>18244000.0</td>\n",
       "      <td>18277000.0</td>\n",
       "    </tr>\n",
       "    <tr>\n",
       "      <th>8</th>\n",
       "      <td>18187000.0</td>\n",
       "      <td>18249000.0</td>\n",
       "      <td>18170000.0</td>\n",
       "      <td>18248000.0</td>\n",
       "    </tr>\n",
       "    <tr>\n",
       "      <th>9</th>\n",
       "      <td>18101000.0</td>\n",
       "      <td>18199000.0</td>\n",
       "      <td>18100000.0</td>\n",
       "      <td>18187000.0</td>\n",
       "    </tr>\n",
       "    <tr>\n",
       "      <th>10</th>\n",
       "      <td>18200000.0</td>\n",
       "      <td>18309000.0</td>\n",
       "      <td>18010000.0</td>\n",
       "      <td>18101000.0</td>\n",
       "    </tr>\n",
       "    <tr>\n",
       "      <th>11</th>\n",
       "      <td>18138000.0</td>\n",
       "      <td>18240000.0</td>\n",
       "      <td>18101000.0</td>\n",
       "      <td>18200000.0</td>\n",
       "    </tr>\n",
       "    <tr>\n",
       "      <th>12</th>\n",
       "      <td>18152000.0</td>\n",
       "      <td>18195000.0</td>\n",
       "      <td>18130000.0</td>\n",
       "      <td>18140000.0</td>\n",
       "    </tr>\n",
       "    <tr>\n",
       "      <th>13</th>\n",
       "      <td>18232000.0</td>\n",
       "      <td>18246000.0</td>\n",
       "      <td>18160000.0</td>\n",
       "      <td>18160000.0</td>\n",
       "    </tr>\n",
       "    <tr>\n",
       "      <th>14</th>\n",
       "      <td>18277000.0</td>\n",
       "      <td>18289000.0</td>\n",
       "      <td>18232000.0</td>\n",
       "      <td>18232000.0</td>\n",
       "    </tr>\n",
       "    <tr>\n",
       "      <th>15</th>\n",
       "      <td>18294000.0</td>\n",
       "      <td>18328000.0</td>\n",
       "      <td>18100000.0</td>\n",
       "      <td>18277000.0</td>\n",
       "    </tr>\n",
       "    <tr>\n",
       "      <th>16</th>\n",
       "      <td>18397000.0</td>\n",
       "      <td>18399000.0</td>\n",
       "      <td>18277000.0</td>\n",
       "      <td>18294000.0</td>\n",
       "    </tr>\n",
       "    <tr>\n",
       "      <th>17</th>\n",
       "      <td>18388000.0</td>\n",
       "      <td>18527000.0</td>\n",
       "      <td>18250000.0</td>\n",
       "      <td>18396000.0</td>\n",
       "    </tr>\n",
       "    <tr>\n",
       "      <th>18</th>\n",
       "      <td>18378000.0</td>\n",
       "      <td>18479000.0</td>\n",
       "      <td>18352000.0</td>\n",
       "      <td>18352000.0</td>\n",
       "    </tr>\n",
       "    <tr>\n",
       "      <th>19</th>\n",
       "      <td>18354000.0</td>\n",
       "      <td>18400000.0</td>\n",
       "      <td>18352000.0</td>\n",
       "      <td>18378000.0</td>\n",
       "    </tr>\n",
       "    <tr>\n",
       "      <th>20</th>\n",
       "      <td>18296000.0</td>\n",
       "      <td>18364000.0</td>\n",
       "      <td>18277000.0</td>\n",
       "      <td>18354000.0</td>\n",
       "    </tr>\n",
       "    <tr>\n",
       "      <th>21</th>\n",
       "      <td>18027000.0</td>\n",
       "      <td>18319000.0</td>\n",
       "      <td>18016000.0</td>\n",
       "      <td>18296000.0</td>\n",
       "    </tr>\n",
       "    <tr>\n",
       "      <th>22</th>\n",
       "      <td>18123000.0</td>\n",
       "      <td>18193000.0</td>\n",
       "      <td>18011000.0</td>\n",
       "      <td>18027000.0</td>\n",
       "    </tr>\n",
       "    <tr>\n",
       "      <th>23</th>\n",
       "      <td>18008000.0</td>\n",
       "      <td>18173000.0</td>\n",
       "      <td>18007000.0</td>\n",
       "      <td>18156000.0</td>\n",
       "    </tr>\n",
       "    <tr>\n",
       "      <th>24</th>\n",
       "      <td>18050000.0</td>\n",
       "      <td>18108000.0</td>\n",
       "      <td>18005000.0</td>\n",
       "      <td>18008000.0</td>\n",
       "    </tr>\n",
       "    <tr>\n",
       "      <th>25</th>\n",
       "      <td>18004000.0</td>\n",
       "      <td>18100000.0</td>\n",
       "      <td>18004000.0</td>\n",
       "      <td>18100000.0</td>\n",
       "    </tr>\n",
       "  </tbody>\n",
       "</table>\n",
       "</div>"
      ],
      "text/plain": [
       "         close        high         low        open\n",
       "0   18438000.0  18492000.0  18400000.0  18477000.0\n",
       "1   18441000.0  18466000.0  18396000.0  18438000.0\n",
       "2   18410000.0  18450000.0  18373000.0  18441000.0\n",
       "3   18375000.0  18444000.0  18375000.0  18411000.0\n",
       "4   18310000.0  18384000.0  18300000.0  18375000.0\n",
       "5   18303000.0  18333000.0  18300000.0  18308000.0\n",
       "6   18277000.0  18310000.0  18276000.0  18300000.0\n",
       "7   18249000.0  18280000.0  18244000.0  18277000.0\n",
       "8   18187000.0  18249000.0  18170000.0  18248000.0\n",
       "9   18101000.0  18199000.0  18100000.0  18187000.0\n",
       "10  18200000.0  18309000.0  18010000.0  18101000.0\n",
       "11  18138000.0  18240000.0  18101000.0  18200000.0\n",
       "12  18152000.0  18195000.0  18130000.0  18140000.0\n",
       "13  18232000.0  18246000.0  18160000.0  18160000.0\n",
       "14  18277000.0  18289000.0  18232000.0  18232000.0\n",
       "15  18294000.0  18328000.0  18100000.0  18277000.0\n",
       "16  18397000.0  18399000.0  18277000.0  18294000.0\n",
       "17  18388000.0  18527000.0  18250000.0  18396000.0\n",
       "18  18378000.0  18479000.0  18352000.0  18352000.0\n",
       "19  18354000.0  18400000.0  18352000.0  18378000.0\n",
       "20  18296000.0  18364000.0  18277000.0  18354000.0\n",
       "21  18027000.0  18319000.0  18016000.0  18296000.0\n",
       "22  18123000.0  18193000.0  18011000.0  18027000.0\n",
       "23  18008000.0  18173000.0  18007000.0  18156000.0\n",
       "24  18050000.0  18108000.0  18005000.0  18008000.0\n",
       "25  18004000.0  18100000.0  18004000.0  18100000.0"
      ]
     },
     "execution_count": 6,
     "metadata": {
      "tags": []
     },
     "output_type": "execute_result"
    }
   ],
   "source": [
    "bithumb_price = pd.DataFrame({'open': bithumb['open'], \n",
    "                                 'high': bithumb['high'],\n",
    "                                 'low': bithumb['low'],\n",
    "                                 'close': bithumb['close']})\n",
    "bithumb_price"
   ]
  },
  {
   "cell_type": "code",
   "execution_count": null,
   "metadata": {
    "colab": {
     "autoexec": {
      "startup": false,
      "wait_interval": 0
     },
     "output_extras": [
      {}
     ]
    },
    "colab_type": "code",
    "id": "PKM9PYCDArY9",
    "outputId": "4992d424-c325-4364-aed0-9897d6c3012b"
   },
   "outputs": [
    {
     "data": {
      "text/plain": [
       "pandas.core.frame.DataFrame"
      ]
     },
     "execution_count": 7,
     "metadata": {
      "tags": []
     },
     "output_type": "execute_result"
    }
   ],
   "source": [
    "type(bithumb_price)"
   ]
  },
  {
   "cell_type": "code",
   "execution_count": null,
   "metadata": {
    "colab": {
     "autoexec": {
      "startup": false,
      "wait_interval": 0
     },
     "output_extras": [
      {}
     ]
    },
    "colab_type": "code",
    "id": "IKeRGZbRArZK",
    "outputId": "24a5c015-f1b2-4ded-8567-b55acdc7f443"
   },
   "outputs": [
    {
     "data": {
      "text/html": [
       "<div>\n",
       "<style>\n",
       "    .dataframe thead tr:only-child th {\n",
       "        text-align: right;\n",
       "    }\n",
       "\n",
       "    .dataframe thead th {\n",
       "        text-align: left;\n",
       "    }\n",
       "\n",
       "    .dataframe tbody tr th {\n",
       "        vertical-align: top;\n",
       "    }\n",
       "</style>\n",
       "<table border=\"1\" class=\"dataframe\">\n",
       "  <thead>\n",
       "    <tr style=\"text-align: right;\">\n",
       "      <th></th>\n",
       "      <th>close</th>\n",
       "      <th>high</th>\n",
       "      <th>low</th>\n",
       "      <th>open</th>\n",
       "    </tr>\n",
       "  </thead>\n",
       "  <tbody>\n",
       "    <tr>\n",
       "      <th>count</th>\n",
       "      <td>2.600000e+01</td>\n",
       "      <td>2.600000e+01</td>\n",
       "      <td>2.600000e+01</td>\n",
       "      <td>2.600000e+01</td>\n",
       "    </tr>\n",
       "    <tr>\n",
       "      <th>mean</th>\n",
       "      <td>1.824650e+07</td>\n",
       "      <td>1.831831e+07</td>\n",
       "      <td>1.820069e+07</td>\n",
       "      <td>1.826665e+07</td>\n",
       "    </tr>\n",
       "    <tr>\n",
       "      <th>std</th>\n",
       "      <td>1.369065e+05</td>\n",
       "      <td>1.185218e+05</td>\n",
       "      <td>1.392591e+05</td>\n",
       "      <td>1.291216e+05</td>\n",
       "    </tr>\n",
       "    <tr>\n",
       "      <th>min</th>\n",
       "      <td>1.800400e+07</td>\n",
       "      <td>1.810000e+07</td>\n",
       "      <td>1.800400e+07</td>\n",
       "      <td>1.800800e+07</td>\n",
       "    </tr>\n",
       "    <tr>\n",
       "      <th>25%</th>\n",
       "      <td>1.814150e+07</td>\n",
       "      <td>1.824150e+07</td>\n",
       "      <td>1.810000e+07</td>\n",
       "      <td>1.816675e+07</td>\n",
       "    </tr>\n",
       "    <tr>\n",
       "      <th>50%</th>\n",
       "      <td>1.827700e+07</td>\n",
       "      <td>1.831450e+07</td>\n",
       "      <td>1.823800e+07</td>\n",
       "      <td>1.828550e+07</td>\n",
       "    </tr>\n",
       "    <tr>\n",
       "      <th>75%</th>\n",
       "      <td>1.836975e+07</td>\n",
       "      <td>1.839975e+07</td>\n",
       "      <td>1.830000e+07</td>\n",
       "      <td>1.836975e+07</td>\n",
       "    </tr>\n",
       "    <tr>\n",
       "      <th>max</th>\n",
       "      <td>1.844100e+07</td>\n",
       "      <td>1.852700e+07</td>\n",
       "      <td>1.840000e+07</td>\n",
       "      <td>1.847700e+07</td>\n",
       "    </tr>\n",
       "  </tbody>\n",
       "</table>\n",
       "</div>"
      ],
      "text/plain": [
       "              close          high           low          open\n",
       "count  2.600000e+01  2.600000e+01  2.600000e+01  2.600000e+01\n",
       "mean   1.824650e+07  1.831831e+07  1.820069e+07  1.826665e+07\n",
       "std    1.369065e+05  1.185218e+05  1.392591e+05  1.291216e+05\n",
       "min    1.800400e+07  1.810000e+07  1.800400e+07  1.800800e+07\n",
       "25%    1.814150e+07  1.824150e+07  1.810000e+07  1.816675e+07\n",
       "50%    1.827700e+07  1.831450e+07  1.823800e+07  1.828550e+07\n",
       "75%    1.836975e+07  1.839975e+07  1.830000e+07  1.836975e+07\n",
       "max    1.844100e+07  1.852700e+07  1.840000e+07  1.847700e+07"
      ]
     },
     "execution_count": 8,
     "metadata": {
      "tags": []
     },
     "output_type": "execute_result"
    }
   ],
   "source": [
    "bithumb_price_info = bithumb_price.describe()\n",
    "bithumb_price_info"
   ]
  },
  {
   "cell_type": "markdown",
   "metadata": {
    "colab_type": "text",
    "id": "kh1nU4RLArZW"
   },
   "source": [
    "**지수 표현 관련**\n",
    "\n",
    "    숫자가 너무 크거나 작은 경우에 scientific notation으로 표현된다."
   ]
  },
  {
   "cell_type": "code",
   "execution_count": null,
   "metadata": {
    "colab": {
     "autoexec": {
      "startup": false,
      "wait_interval": 0
     },
     "output_extras": [
      {}
     ]
    },
    "colab_type": "code",
    "id": "HofUWET8ArZY",
    "outputId": "e0790e4f-073f-4505-baab-56c0885e676c"
   },
   "outputs": [
    {
     "data": {
      "text/html": [
       "<div>\n",
       "<style>\n",
       "    .dataframe thead tr:only-child th {\n",
       "        text-align: right;\n",
       "    }\n",
       "\n",
       "    .dataframe thead th {\n",
       "        text-align: left;\n",
       "    }\n",
       "\n",
       "    .dataframe tbody tr th {\n",
       "        vertical-align: top;\n",
       "    }\n",
       "</style>\n",
       "<table border=\"1\" class=\"dataframe\">\n",
       "  <thead>\n",
       "    <tr style=\"text-align: right;\">\n",
       "      <th></th>\n",
       "      <th>close</th>\n",
       "      <th>high</th>\n",
       "      <th>low</th>\n",
       "      <th>open</th>\n",
       "    </tr>\n",
       "  </thead>\n",
       "  <tbody>\n",
       "    <tr>\n",
       "      <th>count</th>\n",
       "      <td>26</td>\n",
       "      <td>26</td>\n",
       "      <td>26</td>\n",
       "      <td>26</td>\n",
       "    </tr>\n",
       "    <tr>\n",
       "      <th>mean</th>\n",
       "      <td>18246500</td>\n",
       "      <td>18318308</td>\n",
       "      <td>18200692</td>\n",
       "      <td>18266654</td>\n",
       "    </tr>\n",
       "    <tr>\n",
       "      <th>std</th>\n",
       "      <td>136906</td>\n",
       "      <td>118522</td>\n",
       "      <td>139259</td>\n",
       "      <td>129122</td>\n",
       "    </tr>\n",
       "    <tr>\n",
       "      <th>min</th>\n",
       "      <td>18004000</td>\n",
       "      <td>18100000</td>\n",
       "      <td>18004000</td>\n",
       "      <td>18008000</td>\n",
       "    </tr>\n",
       "    <tr>\n",
       "      <th>25%</th>\n",
       "      <td>18141500</td>\n",
       "      <td>18241500</td>\n",
       "      <td>18100000</td>\n",
       "      <td>18166750</td>\n",
       "    </tr>\n",
       "    <tr>\n",
       "      <th>50%</th>\n",
       "      <td>18277000</td>\n",
       "      <td>18314500</td>\n",
       "      <td>18238000</td>\n",
       "      <td>18285500</td>\n",
       "    </tr>\n",
       "    <tr>\n",
       "      <th>75%</th>\n",
       "      <td>18369750</td>\n",
       "      <td>18399750</td>\n",
       "      <td>18300000</td>\n",
       "      <td>18369750</td>\n",
       "    </tr>\n",
       "    <tr>\n",
       "      <th>max</th>\n",
       "      <td>18441000</td>\n",
       "      <td>18527000</td>\n",
       "      <td>18400000</td>\n",
       "      <td>18477000</td>\n",
       "    </tr>\n",
       "  </tbody>\n",
       "</table>\n",
       "</div>"
      ],
      "text/plain": [
       "          close      high       low      open\n",
       "count        26        26        26        26\n",
       "mean   18246500  18318308  18200692  18266654\n",
       "std      136906    118522    139259    129122\n",
       "min    18004000  18100000  18004000  18008000\n",
       "25%    18141500  18241500  18100000  18166750\n",
       "50%    18277000  18314500  18238000  18285500\n",
       "75%    18369750  18399750  18300000  18369750\n",
       "max    18441000  18527000  18400000  18477000"
      ]
     },
     "execution_count": 9,
     "metadata": {
      "tags": []
     },
     "output_type": "execute_result"
    }
   ],
   "source": [
    "bithumb_price_info['open'] = bithumb_price_info['open'].apply(lambda x: '{:.0f}'.format(x))\n",
    "bithumb_price_info['high'] = bithumb_price_info['high'].apply(lambda x: '{:.0f}'.format(x))\n",
    "bithumb_price_info['low'] = bithumb_price_info['low'].apply(lambda x: '{:.0f}'.format(x))\n",
    "bithumb_price_info['close'] = bithumb_price_info['close'].apply(lambda x: '{:.0f}'.format(x))\n",
    "bithumb_price_info"
   ]
  },
  {
   "cell_type": "markdown",
   "metadata": {
    "colab_type": "text",
    "id": "iNfAseR8ArZi"
   },
   "source": [
    "**pandas.describe()**\n",
    "\n",
    "    데이터의 범위와 변동성 등 전체적인 데이터의 모습을 파악하기 위해 사용하는 함수"
   ]
  },
  {
   "cell_type": "code",
   "execution_count": null,
   "metadata": {
    "colab": {
     "autoexec": {
      "startup": false,
      "wait_interval": 0
     },
     "output_extras": [
      {}
     ]
    },
    "colab_type": "code",
    "id": "9MXHPtl2ArZj",
    "outputId": "3d8dbf80-bbd4-4abc-b7af-3b202f1920e2"
   },
   "outputs": [
    {
     "data": {
      "text/plain": [
       "close    18277000.0\n",
       "high     18314500.0\n",
       "low      18238000.0\n",
       "open     18285500.0\n",
       "Name: 0.5, dtype: float64"
      ]
     },
     "execution_count": 10,
     "metadata": {
      "tags": []
     },
     "output_type": "execute_result"
    }
   ],
   "source": [
    "bithumb_price_qunatile = bithumb_price.quantile() # default는 0.5\n",
    "bithumb_price_qunatile"
   ]
  },
  {
   "cell_type": "code",
   "execution_count": null,
   "metadata": {
    "colab": {
     "autoexec": {
      "startup": false,
      "wait_interval": 0
     },
     "output_extras": [
      {}
     ]
    },
    "colab_type": "code",
    "id": "du3mn5UWArZy",
    "outputId": "76338e51-3fd8-4c97-c6b7-49c5f007b6b9"
   },
   "outputs": [
    {
     "data": {
      "text/html": [
       "<div>\n",
       "<style>\n",
       "    .dataframe thead tr:only-child th {\n",
       "        text-align: right;\n",
       "    }\n",
       "\n",
       "    .dataframe thead th {\n",
       "        text-align: left;\n",
       "    }\n",
       "\n",
       "    .dataframe tbody tr th {\n",
       "        vertical-align: top;\n",
       "    }\n",
       "</style>\n",
       "<table border=\"1\" class=\"dataframe\">\n",
       "  <thead>\n",
       "    <tr style=\"text-align: right;\">\n",
       "      <th></th>\n",
       "      <th>close</th>\n",
       "      <th>high</th>\n",
       "      <th>low</th>\n",
       "      <th>open</th>\n",
       "    </tr>\n",
       "  </thead>\n",
       "  <tbody>\n",
       "    <tr>\n",
       "      <th>0.25</th>\n",
       "      <td>18141500.0</td>\n",
       "      <td>18241500.0</td>\n",
       "      <td>18100000.0</td>\n",
       "      <td>18166750.0</td>\n",
       "    </tr>\n",
       "    <tr>\n",
       "      <th>0.50</th>\n",
       "      <td>18277000.0</td>\n",
       "      <td>18314500.0</td>\n",
       "      <td>18238000.0</td>\n",
       "      <td>18285500.0</td>\n",
       "    </tr>\n",
       "    <tr>\n",
       "      <th>0.75</th>\n",
       "      <td>18369750.0</td>\n",
       "      <td>18399750.0</td>\n",
       "      <td>18300000.0</td>\n",
       "      <td>18369750.0</td>\n",
       "    </tr>\n",
       "  </tbody>\n",
       "</table>\n",
       "</div>"
      ],
      "text/plain": [
       "           close        high         low        open\n",
       "0.25  18141500.0  18241500.0  18100000.0  18166750.0\n",
       "0.50  18277000.0  18314500.0  18238000.0  18285500.0\n",
       "0.75  18369750.0  18399750.0  18300000.0  18369750.0"
      ]
     },
     "execution_count": 11,
     "metadata": {
      "tags": []
     },
     "output_type": "execute_result"
    }
   ],
   "source": [
    "bithumb_price_qunatile = bithumb_price.quantile([.25, .5, .75])\n",
    "bithumb_price_qunatile"
   ]
  },
  {
   "cell_type": "code",
   "execution_count": null,
   "metadata": {
    "colab": {
     "autoexec": {
      "startup": false,
      "wait_interval": 0
     }
    },
    "colab_type": "code",
    "id": "nHtPVdOYArZ8"
   },
   "outputs": [],
   "source": [
    "# plt.hist(array)"
   ]
  },
  {
   "cell_type": "markdown",
   "metadata": {
    "colab_type": "text",
    "id": "jHg9Xq41AraM"
   },
   "source": [
    "**히스토그램**\n",
    "\n",
    "    데이터는 크게 수치형 데이터(연속형 데이터)와 범주형 데이터(카테고리컬 데이터, 이산형 데이터)로 나누어진다.\n",
    "\n",
    "    범주형 데이터는 다시 명목형 데이터(nominal data)와 순서형 데이터(ordinal data)로 나누어진다.\n",
    "\n",
    "    예) 성별 데이터 : 범주형 데이터\n",
    "         걸그룹 선호도 데이터 : 좋아/싫어의 범주형 데이터\n",
    "         0~99, 100~199, 200~299, 300~400 이렇게 되면 이것들은 범주형 데이터( 간격이 일정하지 않으니까)\n",
    "         \n",
    "    연속 데이터는 데이터들 사이의 간격이 일정하다. ex)시간간격\n",
    "    \n",
    "    수치+범주는 통상적으로 y축에 수치가 나타난다. x축에는 범주가 나타난다. 이 때 범주에 해당하는 빈도를 만들어서 표시한 것이 히스토그램이다."
   ]
  },
  {
   "cell_type": "code",
   "execution_count": null,
   "metadata": {
    "colab": {
     "autoexec": {
      "startup": false,
      "wait_interval": 0
     }
    },
    "colab_type": "code",
    "id": "qqWX5WJ9AraP"
   },
   "outputs": [],
   "source": [
    "def price_histogram(price, price_type):\n",
    "    highest_freq = 0\n",
    "    highest_freq_index = 0\n",
    "    \n",
    "\n",
    "    (n, bins, patched) = plt.hist(price[price_type])\n",
    "    plt.axvline(price[price_type].mean(), color='red')\n",
    "    plt.show()\n",
    "    for index in range(len(n)):\n",
    "        print(\"Bin : {:.0f}, {:5s} Frequency = {:.0f}\".format(bins[index], \" \", n[index]))\n",
    "        \n",
    "        if highest_freq < int(n[index]):\n",
    "            highest_freq = int(n[index])\n",
    "            highest_freq_index = (index)\n",
    "            \n",
    "\n",
    "#     print(highest_freq)\n",
    "#     print(highest_freq_index)\n",
    " \n",
    "    print(\"{:s} price에서는 {:.0f}원에서 {:d}회의 최다 빈도를 보이고 있다\".format(price_type,bins[highest_freq_index], highest_freq))"
   ]
  },
  {
   "cell_type": "code",
   "execution_count": null,
   "metadata": {
    "colab": {
     "autoexec": {
      "startup": false,
      "wait_interval": 0
     },
     "output_extras": [
      {},
      {},
      {},
      {},
      {},
      {},
      {},
      {}
     ]
    },
    "colab_type": "code",
    "id": "6hiER9EVAraW",
    "outputId": "b121c424-788a-429e-a814-07971f975b2b"
   },
   "outputs": [
    {
     "data": {
      "image/png": "[encoded data removed]",
      "text/plain": [
       "<matplotlib.figure.Figure at 0x117032b38>"
      ]
     },
     "metadata": {
      "tags": []
     },
     "output_type": "display_data"
    },
    {
     "name": "stdout",
     "output_type": "stream",
     "text": [
      "Bin : 18008000,       Frequency = 2\n",
      "Bin : 18054900,       Frequency = 2\n",
      "Bin : 18101800,       Frequency = 1\n",
      "Bin : 18148700,       Frequency = 3\n",
      "Bin : 18195600,       Frequency = 2\n",
      "Bin : 18242500,       Frequency = 3\n",
      "Bin : 18289400,       Frequency = 4\n",
      "Bin : 18336300,       Frequency = 4\n",
      "Bin : 18383200,       Frequency = 2\n",
      "Bin : 18430100,       Frequency = 3\n",
      "open price에서는 18289400원에서 4회의 최다 빈도를 보이고 있다\n"
     ]
    },
    {
     "data": {
      "image/png": "[encoded data removed]",
      "text/plain": [
       "<matplotlib.figure.Figure at 0x11720b6d8>"
      ]
     },
     "metadata": {
      "tags": []
     },
     "output_type": "display_data"
    },
    {
     "name": "stdout",
     "output_type": "stream",
     "text": [
      "Bin : 18100000,       Frequency = 2\n",
      "Bin : 18142700,       Frequency = 1\n",
      "Bin : 18185400,       Frequency = 3\n",
      "Bin : 18228100,       Frequency = 3\n",
      "Bin : 18270800,       Frequency = 4\n",
      "Bin : 18313500,       Frequency = 3\n",
      "Bin : 18356200,       Frequency = 2\n",
      "Bin : 18398900,       Frequency = 2\n",
      "Bin : 18441600,       Frequency = 4\n",
      "Bin : 18484300,       Frequency = 2\n",
      "high price에서는 18270800원에서 4회의 최다 빈도를 보이고 있다\n"
     ]
    },
    {
     "data": {
      "image/png": "[encoded data removed]",
      "text/plain": [
       "<matplotlib.figure.Figure at 0x1172db780>"
      ]
     },
     "metadata": {
      "tags": []
     },
     "output_type": "display_data"
    },
    {
     "name": "stdout",
     "output_type": "stream",
     "text": [
      "Bin : 18004000,       Frequency = 6\n",
      "Bin : 18043600,       Frequency = 0\n",
      "Bin : 18083200,       Frequency = 3\n",
      "Bin : 18122800,       Frequency = 2\n",
      "Bin : 18162400,       Frequency = 1\n",
      "Bin : 18202000,       Frequency = 1\n",
      "Bin : 18241600,       Frequency = 5\n",
      "Bin : 18281200,       Frequency = 2\n",
      "Bin : 18320800,       Frequency = 2\n",
      "Bin : 18360400,       Frequency = 4\n",
      "low price에서는 18004000원에서 6회의 최다 빈도를 보이고 있다\n"
     ]
    },
    {
     "data": {
      "image/png": "[encoded data removed]",
      "text/plain": [
       "<matplotlib.figure.Figure at 0x117172828>"
      ]
     },
     "metadata": {
      "tags": []
     },
     "output_type": "display_data"
    },
    {
     "name": "stdout",
     "output_type": "stream",
     "text": [
      "Bin : 18004000,       Frequency = 3\n",
      "Bin : 18047700,       Frequency = 1\n",
      "Bin : 18091400,       Frequency = 2\n",
      "Bin : 18135100,       Frequency = 2\n",
      "Bin : 18178800,       Frequency = 2\n",
      "Bin : 18222500,       Frequency = 2\n",
      "Bin : 18266200,       Frequency = 5\n",
      "Bin : 18309900,       Frequency = 1\n",
      "Bin : 18353600,       Frequency = 5\n",
      "Bin : 18397300,       Frequency = 3\n",
      "close price에서는 18266200원에서 5회의 최다 빈도를 보이고 있다\n"
     ]
    }
   ],
   "source": [
    "price_histogram(bithumb_price, 'open')\n",
    "price_histogram(bithumb_price, 'high')\n",
    "price_histogram(bithumb_price, 'low')\n",
    "price_histogram(bithumb_price, 'close')"
   ]
  },
  {
   "cell_type": "markdown",
   "metadata": {
    "colab_type": "text",
    "id": "8HFmBzL1Arak"
   },
   "source": [
    "**히스토그램 결과 해석**\n",
    "\n",
    "    - 중심 성향(Central Tendency)\n",
    "        - \"데이터가 평균값을 중심으로 분포되어 있는가?\"\n",
    "            최다빈도가 발생한 가격 구간이 아닌 곳에서 평균값(빨간색 굵은선)이 발생한 것이 아니므로, 이런 경우 '중심 성향이 낮다'고 한다.\n",
    "    - Modes\n",
    "        - \"하나 이상의 무리가 있는가?\"\n",
    "            Bin : 18004000\n",
    "            Bin : 18266200\n",
    "            Bin : 18353600\n",
    "            이렇게 총 세 개의 무리가 있다.\n",
    "            \n",
    "            * 모드란, \n",
    "                mode 또는 modal value라고도 부르는데, 주변보다 높은 빈도를 보이는 곳을 말한다. 모드는 하나도 없을 수도 있고, 여러 개의 모드(multi-mode)를 가질 수도 있다. 꼭 최다빈도인 곳을 의미하는 것은 아니다.\n",
    "                None: 1, 2, 3, 4, 6, 8, 9.\n",
    "                One mode: (unimodal) 1, 2, 3, 3, 4, 5. (3이 2번의 최다 빈도)\n",
    "                Two: (bimodal) 1, 1, 2, 3, 4, 4, 5. (1, 4가 2번의 최다 빈도)\n",
    "                Three: (trimodal) 1, 1, 2, 3, 3, 4, 5, 5. (1, 3, 5가 2번의 최다 빈도)\n",
    "                More than one (two, three or more) = multimodal.\n",
    "\n",
    "<http://www.statisticshowto.com/mode/>\n",
    "              "
   ]
  },
  {
   "cell_type": "markdown",
   "metadata": {
    "colab_type": "text",
    "id": "s3SR3vUQAram"
   },
   "source": []
  },
  {
   "cell_type": "markdown",
   "metadata": {
    "colab_type": "text",
    "id": "qWscwODcArao"
   },
   "source": [
    "**산점도**\n",
    "\n",
    "    2개 변수간의 상관관계를 그린 그래프\n",
    "    데이터가 여기저기 무작위로 흩어져 있는 형태라면 두 변수간에는 선형관계가 없는 것이다."
   ]
  },
  {
   "cell_type": "code",
   "execution_count": null,
   "metadata": {
    "colab": {
     "autoexec": {
      "startup": false,
      "wait_interval": 0
     },
     "output_extras": [
      {},
      {}
     ]
    },
    "colab_type": "code",
    "id": "V55i-UXeArap",
    "outputId": "bd25b6df-83dd-4ca1-f9b1-44c03e4e7e00"
   },
   "outputs": [
    {
     "name": "stderr",
     "output_type": "stream",
     "text": [
      "/Users/do-hyungkwon/anaconda/lib/python3.6/site-packages/ipykernel_launcher.py:2: FutureWarning: 'pandas.tools.plotting.scatter_matrix' is deprecated, import 'pandas.plotting.scatter_matrix' instead.\n",
      "  \n"
     ]
    },
    {
     "data": {
      "image/png": "[encoded data removed]",
      "text/plain": [
       "<matplotlib.figure.Figure at 0x1170d0c50>"
      ]
     },
     "metadata": {
      "tags": []
     },
     "output_type": "display_data"
    }
   ],
   "source": [
    "from pandas.tools.plotting import scatter_matrix\n",
    "scatter_matrix(bithumb_price[['open', 'high', 'low', 'close']], alpha=0.7, figsize=(6, 6), diagonal='kde')\n",
    "plt.show()"
   ]
  },
  {
   "cell_type": "markdown",
   "metadata": {
    "colab_type": "text",
    "id": "omBX9hJdAray"
   },
   "source": [
    "    open과 low, close, \n",
    "    high와 low, close 등은 곡선관계에 있는 것으로 보인다.\n",
    "    \n",
    "    open과 high는 중간 양의 상관 관계에 있는 것으로 보인다.\n",
    "    \n",
    "    위 그림의 대각선으로 나타난 그래프는 어떤 변수가 가질 수 있는 값의 범위를 x축으로 하여 해당 값을 가질 확률을 추정할 수 있게 하는 '커널밀도추정(Kernel Density Estimation)'을 그래프로 나타낸 것이다.\n",
    "    \"밀도 추정은 데이터로 부터 변수가 가질 수 있는 모든 값의 밀도(확률)을 추정하는 것\"\n",
    "<https://medium.com/mathpresso/mathpresso-%EB%A8%B8%EC%8B%A0-%EB%9F%AC%EB%8B%9D-%EC%8A%A4%ED%84%B0%EB%94%94-14-%EB%B0%80%EB%8F%84-%EC%B6%94%EC%A0%95-density-estimation-38fd7ef729bb>\n",
    "    ....\n",
    "    \n",
    "    close를 예로 들면, 1825000이상의 값을 가질 확률이 높은 것을 볼 수 있는데, 실제로 close의 가격은 1825000이상의 값들로 이루어져 있다.\n",
    "    "
   ]
  },
  {
   "cell_type": "code",
   "execution_count": null,
   "metadata": {
    "colab": {
     "autoexec": {
      "startup": false,
      "wait_interval": 0
     }
    },
    "colab_type": "code",
    "id": "YR9zBX1kAra0"
   },
   "outputs": [],
   "source": []
  },
  {
   "cell_type": "markdown",
   "metadata": {
    "colab_type": "text",
    "id": "Xl1e7s_3Ara7"
   },
   "source": [
    "**상자그림**"
   ]
  },
  {
   "cell_type": "code",
   "execution_count": null,
   "metadata": {
    "colab": {
     "autoexec": {
      "startup": false,
      "wait_interval": 0
     },
     "output_extras": [
      {}
     ]
    },
    "colab_type": "code",
    "id": "NtOXvI7IAra9",
    "outputId": "b8f7046c-1b32-4e1e-8266-73592535f8ca"
   },
   "outputs": [
    {
     "data": {
      "image/png": "[encoded data removed]",
      "text/plain": [
       "<matplotlib.figure.Figure at 0x11717e748>"
      ]
     },
     "metadata": {
      "tags": []
     },
     "output_type": "display_data"
    }
   ],
   "source": [
    "bithumb_price[['open', 'high', 'low', 'close']].plot(kind='box')\n",
    "plt.show()"
   ]
  },
  {
   "cell_type": "markdown",
   "metadata": {
    "colab_type": "text",
    "id": "DOOtILkFArbH"
   },
   "source": [
    "    low변수의 값들이 대체로 낮은 값을 가지는 경향을 관찰할 수 있다.\n",
    "    상자그림으로 이상치도 알 수 있는데, 현재는 보이지 않는다.\n",
    "    \n",
    "    위의 상자 그림을 통해서 50%구간에 해당하는 분포의 범위를 파악할 수 있다.(정규분포라는 가정하에). whisker는 상위 24.65%와 하위 24.65%를 나타낸다.\n",
    "\n",
    "<img src=\"https://openclipart.org/image/2400px/svg_to_png/244707/Boxplot.png\" width=50%></img>\n",
    "\n",
    "\n",
    "    박스의 크기가 작을수록 데이터들이 median(중앙값)에 몰려있다는 의미\n",
    "    \n",
    " "
   ]
  },
  {
   "cell_type": "code",
   "execution_count": null,
   "metadata": {
    "colab": {
     "autoexec": {
      "startup": false,
      "wait_interval": 0
     }
    },
    "colab_type": "code",
    "id": "jdGvaPimArbK"
   },
   "outputs": [],
   "source": []
  },
  {
   "cell_type": "code",
   "execution_count": null,
   "metadata": {
    "colab": {
     "autoexec": {
      "startup": false,
      "wait_interval": 0
     }
    },
    "colab_type": "code",
    "id": "siIsh9yMArbQ"
   },
   "outputs": [],
   "source": []
  },
  {
   "cell_type": "code",
   "execution_count": null,
   "metadata": {
    "colab": {
     "autoexec": {
      "startup": false,
      "wait_interval": 0
     }
    },
    "colab_type": "code",
    "id": "CyuYSRjxArbW"
   },
   "outputs": [],
   "source": [
    "dbtable_arg =\"TRADE_BTC\"\n",
    "start_time_arg =  '2017-12-14 01:20:00'\n",
    "end_time_arg =  '2017-12-14 03:30:00'\n",
    "exchange_arg =  'poloniex'\n",
    "time_interval_arg = 5\n",
    "Spark_app_name = dbtable_arg + '|' + start_time_arg + '|' + end_time_arg + '|'  + exchange_arg + '|' + str(time_interval_arg )"
   ]
  },
  {
   "cell_type": "code",
   "execution_count": null,
   "metadata": {
    "colab": {
     "autoexec": {
      "startup": false,
      "wait_interval": 0
     },
     "output_extras": [
      {}
     ]
    },
    "colab_type": "code",
    "id": "_repQrjRArbb",
    "outputId": "cef4c5ea-3701-4e7f-d655-a3aaa552cf10"
   },
   "outputs": [
    {
     "name": "stdout",
     "output_type": "stream",
     "text": [
      "[WARNING] The file Already exist.\n",
      "\n",
      "\n",
      "\n",
      "\n",
      "\n"
     ]
    }
   ],
   "source": [
    "if __name__ == '__main__':\n",
    "    df = df\n",
    "    start_time = start_time_arg\n",
    "    end_time = end_time_arg\n",
    "    time_interval = time_interval_arg\n",
    "    exchange = exchange_arg\n",
    "    result = []\n",
    "    data = {}\n",
    "    data['open'] = []\n",
    "    data['high'] =  []\n",
    "    data['low'] =  []\n",
    "    data['close'] =  []\n",
    "    \n",
    "    pickle_file_name = dbtable_arg + '|' + start_time_arg + '|' + end_time_arg + '|'  +exchange_arg + '|' + str(time_interval_arg) + '.pickle'\n",
    "    \n",
    "    # file의 존재 유무 확인\n",
    "    # 중복 수행 방지\n",
    "    if (os.getcwd() +  '/' +  pickle_file_name in glob.glob(os.getcwd()+\"/*.pickle\")):\n",
    "        print(\"[WARNING] The file Already exist.\")\n",
    "    else:\n",
    "        trading = Trading_Data_Preprocessing_For_Candle_Graph(df, start_time, end_time, time_interval, exchange)\n",
    "        date_time_list = trading.get_date_time_list()\n",
    "        while not(trading.is_finished()):\n",
    "            data_list = trading.get_prices_from_df_divided()\n",
    "            result.append(list(data_list.collect()))\n",
    "            \n",
    "        print(end='\\n\\n\\n\\n\\n')    \n",
    "        print(\"[WARNING] Following result are not same the content of pickle file.\")\n",
    "        print('------------------------------------------------------------------------------')\n",
    "        print(result)\n",
    "        date_time_list = date_time_list[:-1]\n",
    "        print(date_time_list)\n",
    "        print(len(result))\n",
    "        print(len(date_time_list))\n",
    "        print('------------------------------------------------------------------------------')\n",
    "        print(\"generating pickle file....\",end=\"\\n\\n\")\n",
    "        \n",
    "\n",
    "        data['meta'] = [dbtable_arg, start_time_arg, end_time_arg, exchange_arg, time_interval_arg]\n",
    "        data['date'] = date_time_list\n",
    "        for row in result:\n",
    "            data['open'].append(row[0])\n",
    "            data['high'].append(row[1])\n",
    "            data['low'].append(row[2])\n",
    "            data['close'].append(row[3])\n",
    "#         data['price'] = result\n",
    "    \n",
    "    \n",
    "        f = open(pickle_file_name, 'wb')\n",
    "        pickle.dump(data, f)\n",
    "        f.close()\n",
    "        print(\"finished. pickle file is saved at {:s}/\".format(os.getcwd()))\n",
    "        \n",
    "        \n",
    "    # f = open(pickle_file_name, 'rb')\n",
    "    # a = pickle.load(f)\n",
    "    # print(a)\n",
    "    print(end='\\n\\n\\n\\n\\n')   "
   ]
  },
  {
   "cell_type": "code",
   "execution_count": null,
   "metadata": {
    "colab": {
     "autoexec": {
      "startup": false,
      "wait_interval": 0
     },
     "output_extras": [
      {}
     ]
    },
    "colab_type": "code",
    "id": "LKo-e2uKArbj",
    "outputId": "16b79bb8-1ab9-4ec1-8c9d-368fabdeaace"
   },
   "outputs": [
    {
     "data": {
      "text/plain": [
       "{'close': [15900.2,\n",
       "  15888.0,\n",
       "  15820.0,\n",
       "  15782.4,\n",
       "  15665.0,\n",
       "  15666.5,\n",
       "  15900.0,\n",
       "  15895.0,\n",
       "  15960.9,\n",
       "  15915.0,\n",
       "  15816.0,\n",
       "  15784.5,\n",
       "  16000.0,\n",
       "  16090.0,\n",
       "  15890.8,\n",
       "  15899.8,\n",
       "  15880.9,\n",
       "  15879.0,\n",
       "  15901.5,\n",
       "  15890.0,\n",
       "  16000.0,\n",
       "  15933.2,\n",
       "  15812.0,\n",
       "  15600.0,\n",
       "  15420.0,\n",
       "  15250.0],\n",
       " 'date': ['2017-12-14 01:20:00',\n",
       "  '2017-12-14 01:25:00',\n",
       "  '2017-12-14 01:30:00',\n",
       "  '2017-12-14 01:35:00',\n",
       "  '2017-12-14 01:40:00',\n",
       "  '2017-12-14 01:45:00',\n",
       "  '2017-12-14 01:50:00',\n",
       "  '2017-12-14 01:55:00',\n",
       "  '2017-12-14 02:00:00',\n",
       "  '2017-12-14 02:05:00',\n",
       "  '2017-12-14 02:10:00',\n",
       "  '2017-12-14 02:15:00',\n",
       "  '2017-12-14 02:20:00',\n",
       "  '2017-12-14 02:25:00',\n",
       "  '2017-12-14 02:30:00',\n",
       "  '2017-12-14 02:35:00',\n",
       "  '2017-12-14 02:40:00',\n",
       "  '2017-12-14 02:45:00',\n",
       "  '2017-12-14 02:50:00',\n",
       "  '2017-12-14 02:55:00',\n",
       "  '2017-12-14 03:00:00',\n",
       "  '2017-12-14 03:05:00',\n",
       "  '2017-12-14 03:10:00',\n",
       "  '2017-12-14 03:15:00',\n",
       "  '2017-12-14 03:20:00',\n",
       "  '2017-12-14 03:25:00'],\n",
       " 'high': [15965.1,\n",
       "  15983.2,\n",
       "  15890.1,\n",
       "  15830.2,\n",
       "  15791.0,\n",
       "  15779.1,\n",
       "  15990.1,\n",
       "  15950.0,\n",
       "  16000.0,\n",
       "  15999.0,\n",
       "  15959.9,\n",
       "  15828.0,\n",
       "  16060.4,\n",
       "  16099.0,\n",
       "  16090.0,\n",
       "  16000.0,\n",
       "  15933.8,\n",
       "  16000.0,\n",
       "  15949.0,\n",
       "  15998.0,\n",
       "  16000.0,\n",
       "  16102.0,\n",
       "  15981.8,\n",
       "  15850.0,\n",
       "  15623.4,\n",
       "  15442.0],\n",
       " 'low': [15710.0,\n",
       "  15877.0,\n",
       "  15701.0,\n",
       "  15705.0,\n",
       "  15650.0,\n",
       "  15600.0,\n",
       "  15650.0,\n",
       "  15775.9,\n",
       "  15790.6,\n",
       "  15915.0,\n",
       "  15800.0,\n",
       "  15750.8,\n",
       "  15772.9,\n",
       "  15995.3,\n",
       "  15885.6,\n",
       "  15751.6,\n",
       "  15824.4,\n",
       "  15851.2,\n",
       "  15865.0,\n",
       "  15871.0,\n",
       "  15850.9,\n",
       "  15910.0,\n",
       "  15810.9,\n",
       "  15600.0,\n",
       "  15400.0,\n",
       "  15250.0],\n",
       " 'meta': ['TRADE_BTC',\n",
       "  '2017-12-14 01:20:00',\n",
       "  '2017-12-14 03:30:00',\n",
       "  'poloniex',\n",
       "  5],\n",
       " 'open': [15710.0,\n",
       "  15902.1,\n",
       "  15888.0,\n",
       "  15820.0,\n",
       "  15782.4,\n",
       "  15665.0,\n",
       "  15708.2,\n",
       "  15900.0,\n",
       "  15895.0,\n",
       "  15960.9,\n",
       "  15959.0,\n",
       "  15816.0,\n",
       "  15795.2,\n",
       "  15997.5,\n",
       "  16090.0,\n",
       "  15895.4,\n",
       "  15899.8,\n",
       "  15880.9,\n",
       "  15879.0,\n",
       "  15901.5,\n",
       "  15890.0,\n",
       "  16000.0,\n",
       "  15959.0,\n",
       "  15812.0,\n",
       "  15614.6,\n",
       "  15440.0]}"
      ]
     },
     "execution_count": 21,
     "metadata": {
      "tags": []
     },
     "output_type": "execute_result"
    }
   ],
   "source": [
    "f = open(Spark_app_name+'.pickle', 'rb')\n",
    "poloniex = pickle.load(f)\n",
    "poloniex"
   ]
  },
  {
   "cell_type": "code",
   "execution_count": null,
   "metadata": {
    "colab": {
     "autoexec": {
      "startup": false,
      "wait_interval": 0
     }
    },
    "colab_type": "code",
    "id": "VglJ8ok3Arbs"
   },
   "outputs": [],
   "source": [
    "poloniex_price = pd.DataFrame({'open': poloniex['open'], \n",
    "                                 'high': poloniex['high'],\n",
    "                                 'low': poloniex['low'],\n",
    "                                 'close': poloniex['close']})"
   ]
  },
  {
   "cell_type": "markdown",
   "metadata": {
    "colab_type": "text",
    "id": "UtiiXjMXArb0"
   },
   "source": [
    "**공분산**\n",
    "\n",
    "    공분산이란, 두 변수의 상관정도를 나타내는 값으로, Cov(x,y)로 표기한다."
   ]
  },
  {
   "cell_type": "code",
   "execution_count": null,
   "metadata": {
    "colab": {
     "autoexec": {
      "startup": false,
      "wait_interval": 0
     }
    },
    "colab_type": "code",
    "id": "XT6pmgQmArb2"
   },
   "outputs": [],
   "source": [
    "def print_covariance_price(var1, var2, price_type):\n",
    "    if var1[price_type].cov(var2[price_type]) > 0:\n",
    "        print(\"{:8s}과 {:8s}의 {:5s}의 공분산 값은 {:.2f}로서, 양의 방향성을 갖는다.\".format(\"bithumb\", \"poloniex\", price_type, var1[price_type].cov(var2[price_type])))\n",
    "    elif var1[price_type].cov(var2[price_type]) == 0:\n",
    "        print(\"{:8s}과 {:8s}의 {:5s}의 공분산 값은 {:.2f}로서, 방향성이 없다.\".format(\"bithumb\", \"poloniex\", price_type, var1[price_type].cov(var2[price_type])))\n",
    "    else:\n",
    "        print(\"{:8s}과 {:8s}의 {:5s}의 공분산 값은 {:.2f}로서, 음의 방향성을 갖는다.\".format(\"bithumb\", \"poloniex\", price_type, var1[price_type].cov(var2[price_type])))"
   ]
  },
  {
   "cell_type": "code",
   "execution_count": null,
   "metadata": {
    "colab": {
     "autoexec": {
      "startup": false,
      "wait_interval": 0
     },
     "output_extras": [
      {}
     ]
    },
    "colab_type": "code",
    "id": "TrhRkntCArcA",
    "outputId": "5c39cc30-38d8-4084-feef-62dc5ae17d1b"
   },
   "outputs": [
    {
     "name": "stdout",
     "output_type": "stream",
     "text": [
      "bithumb 과 poloniex의 open 의 공분산 값은 1969978.92로서, 양의 방향성을 갖는다.\n",
      "bithumb 과 poloniex의 high 의 공분산 값은 5953828.92로서, 양의 방향성을 갖는다.\n",
      "bithumb 과 poloniex의 low  의 공분산 값은 5727288.92로서, 양의 방향성을 갖는다.\n",
      "bithumb 과 poloniex의 close의 공분산 값은 10592934.00로서, 양의 방향성을 갖는다.\n"
     ]
    }
   ],
   "source": [
    "print_covariance_price(bithumb_price, poloniex_price, 'open')\n",
    "print_covariance_price(bithumb_price, poloniex_price, 'high')\n",
    "print_covariance_price(bithumb_price, poloniex_price, 'low')\n",
    "print_covariance_price(bithumb_price, poloniex_price, 'close')"
   ]
  },
  {
   "cell_type": "markdown",
   "metadata": {
    "colab_type": "text",
    "id": "LzfgOYXeArcO"
   },
   "source": [
    "    공분산의 해석에 있어서, 크기가 중요한 것이 아니라 방향성을 나타내는 부호가 중요하다. \n",
    "    즉 공분산 값이 하나는 10, 다른 하나는 100이라고 할 때, 수치의 크기가 높다고 상관정도가 더 높다는 걸 의미하진 않는다.\n",
    "\n",
    "<img src=\"http://www.statisticshowto.com/wp-content/uploads/2013/12/g-covariance.gif\"></img>\n",
    "- 두 변수 모두 증가하는 관계다.\n",
    "- 두 변수는 선형적인 관계가 없다. 즉 두 변수는 독립적이다.\n",
    "- 두 변수 중 하나의 변수가 증가할 때 다른 한 변수는 감소하는 관계다."
   ]
  },
  {
   "cell_type": "code",
   "execution_count": null,
   "metadata": {
    "colab": {
     "autoexec": {
      "startup": false,
      "wait_interval": 0
     }
    },
    "colab_type": "code",
    "id": "GxbLIHsQArcS"
   },
   "outputs": [],
   "source": []
  },
  {
   "cell_type": "markdown",
   "metadata": {
    "colab_type": "text",
    "id": "VxD1A_PPArcZ"
   },
   "source": [
    "**상관계수**\n",
    "\n",
    "    상관계수는 두 변수의 공분산을 정규화한 것으로서, Cor(x,y)로 나타낸다.\n",
    "    \n",
    "    공분산값과는 조금 다르게,\n",
    "    방향성과 함께 상관정도를 수치로 나타낸다.\n",
    "   \n",
    "    "
   ]
  },
  {
   "cell_type": "code",
   "execution_count": null,
   "metadata": {
    "colab": {
     "autoexec": {
      "startup": false,
      "wait_interval": 0
     }
    },
    "colab_type": "code",
    "id": "8sxiAv1bArcb"
   },
   "outputs": [],
   "source": [
    "def print_correlation_price(var1, var2, price_type):\n",
    "    print(\"{:8s}과 {:8s}의 {:6s}에 대한 상관계수는 {:1.3f}이다.\".format(\"bithumb\", \"poloniex\", price_type, var1[price_type].corr(var2[price_type])))"
   ]
  },
  {
   "cell_type": "code",
   "execution_count": null,
   "metadata": {
    "colab": {
     "autoexec": {
      "startup": false,
      "wait_interval": 0
     },
     "output_extras": [
      {}
     ]
    },
    "colab_type": "code",
    "id": "Lg-7xvD9Arcg",
    "outputId": "415a57d0-77b8-49aa-cbf3-eebad0931be4"
   },
   "outputs": [
    {
     "name": "stdout",
     "output_type": "stream",
     "text": [
      "bithumb 과 poloniex의 open  에 대한 상관계수는 0.112이다.\n",
      "bithumb 과 poloniex의 high  에 대한 상관계수는 0.341이다.\n",
      "bithumb 과 poloniex의 low   에 대한 상관계수는 0.254이다.\n",
      "bithumb 과 poloniex의 close 에 대한 상관계수는 0.428이다.\n"
     ]
    }
   ],
   "source": [
    "print_correlation_price(bithumb_price, poloniex_price, 'open')\n",
    "print_correlation_price(bithumb_price, poloniex_price, 'high')\n",
    "print_correlation_price(bithumb_price, poloniex_price, 'low')\n",
    "print_correlation_price(bithumb_price, poloniex_price, 'close')"
   ]
  },
  {
   "cell_type": "markdown",
   "metadata": {
    "colab_type": "text",
    "id": "zhkwHQqjArcn"
   },
   "source": [
    "    일반적으로 상관계수의 절대값이 0.3보다 작으면 약한 관계,\n",
    "    0.7보다 크면 강한 관계다.\n",
    "    값이 0일 경우 선형적으로 상관관계가 없다.\n",
    "    \n",
    "    open값과 low값의 경우, 두 거래소 간에는 약한 양의 상관관계를 가지고 있고\n",
    "    high값과 closer값의 경우, 두 거래소 간에 어느 정도 뚜렷한 양의 선형관계를 가지고 있다고 할 수 있다."
   ]
  },
  {
   "cell_type": "code",
   "execution_count": null,
   "metadata": {
    "colab": {
     "autoexec": {
      "startup": false,
      "wait_interval": 0
     }
    },
    "colab_type": "code",
    "id": "oTK37CVyArco"
   },
   "outputs": [],
   "source": []
  },
  {
   "cell_type": "markdown",
   "metadata": {
    "colab_type": "text",
    "id": "hcAOC88DArcs"
   },
   "source": [
    "**자기상관**"
   ]
  },
  {
   "cell_type": "code",
   "execution_count": null,
   "metadata": {
    "colab": {
     "autoexec": {
      "startup": false,
      "wait_interval": 0
     },
     "output_extras": [
      {},
      {}
     ]
    },
    "colab_type": "code",
    "id": "7ooPdVJbArcu",
    "outputId": "0dc6c42b-6977-4a7f-be93-4b12d523f9d8"
   },
   "outputs": [
    {
     "name": "stderr",
     "output_type": "stream",
     "text": [
      "/Users/do-hyungkwon/anaconda/lib/python3.6/site-packages/ipykernel_launcher.py:4: FutureWarning: 'pandas.tools.plotting.autocorrelation_plot' is deprecated, import 'pandas.plotting.autocorrelation_plot' instead.\n",
      "  after removing the cwd from sys.path.\n"
     ]
    },
    {
     "data": {
      "image/png": "[encoded data removed]",
      "text/plain": [
       "<matplotlib.figure.Figure at 0x117032630>"
      ]
     },
     "metadata": {
      "tags": []
     },
     "output_type": "display_data"
    }
   ],
   "source": [
    "from pandas.tools.plotting import scatter_matrix, autocorrelation_plot\n",
    "fig, axs = plt.subplots(2,1)\n",
    "bithumb_price['close'].plot(ax=axs[0])\n",
    "autocorrelation_plot(bithumb_price['close'], ax=axs[1])\n",
    "plt.show()"
   ]
  },
  {
   "cell_type": "code",
   "execution_count": null,
   "metadata": {
    "colab": {
     "autoexec": {
      "startup": false,
      "wait_interval": 0
     }
    },
    "colab_type": "code",
    "id": "rv2gA7jgArc6"
   },
   "outputs": [],
   "source": []
  },
  {
   "cell_type": "code",
   "execution_count": null,
   "metadata": {
    "colab": {
     "autoexec": {
      "startup": false,
      "wait_interval": 0
     },
     "output_extras": [
      {}
     ]
    },
    "colab_type": "code",
    "id": "gZ9ZqGtKArdC",
    "outputId": "d5bb7d8d-6750-4854-d1e5-23a4b86bf772"
   },
   "outputs": [
    {
     "data": {
      "text/plain": [
       "0     18438000.0\n",
       "1     18441000.0\n",
       "2     18410000.0\n",
       "3     18375000.0\n",
       "4     18310000.0\n",
       "5     18303000.0\n",
       "6     18277000.0\n",
       "7     18249000.0\n",
       "8     18187000.0\n",
       "9     18101000.0\n",
       "10    18200000.0\n",
       "11    18138000.0\n",
       "12    18152000.0\n",
       "13    18232000.0\n",
       "14    18277000.0\n",
       "15    18294000.0\n",
       "16    18397000.0\n",
       "17    18388000.0\n",
       "18    18378000.0\n",
       "19    18354000.0\n",
       "20    18296000.0\n",
       "21    18027000.0\n",
       "22    18123000.0\n",
       "23    18008000.0\n",
       "24    18050000.0\n",
       "25    18004000.0\n",
       "Name: close, dtype: float64"
      ]
     },
     "execution_count": 28,
     "metadata": {
      "tags": []
     },
     "output_type": "execute_result"
    }
   ],
   "source": [
    "bithumb_price['close']"
   ]
  },
  {
   "cell_type": "code",
   "execution_count": null,
   "metadata": {
    "colab": {
     "autoexec": {
      "startup": false,
      "wait_interval": 0
     }
    },
    "colab_type": "code",
    "id": "2GwwoHgaArdI"
   },
   "outputs": [],
   "source": []
  },
  {
   "cell_type": "markdown",
   "metadata": {
    "colab_type": "text",
    "id": "JMhiE38EArdN"
   },
   "source": [
    "**Moving Average**"
   ]
  },
  {
   "cell_type": "code",
   "execution_count": null,
   "metadata": {
    "colab": {
     "autoexec": {
      "startup": false,
      "wait_interval": 0
     },
     "output_extras": [
      {}
     ]
    },
    "colab_type": "code",
    "id": "0lE_4-laArdO",
    "outputId": "96d630ad-9b7c-435a-d091-20adcf5f9695"
   },
   "outputs": [
    {
     "data": {
      "text/plain": [
       "pandas.core.frame.DataFrame"
      ]
     },
     "execution_count": 53,
     "metadata": {
      "tags": []
     },
     "output_type": "execute_result"
    }
   ],
   "source": [
    "type(poloniex_price)b"
   ]
  },
  {
   "cell_type": "code",
   "execution_count": null,
   "metadata": {
    "colab": {
     "autoexec": {
      "startup": false,
      "wait_interval": 0
     },
     "output_extras": [
      {}
     ]
    },
    "colab_type": "code",
    "id": "WHnicbtiArdU",
    "outputId": "e940a121-0fba-4c48-98d3-660821c8dbaa"
   },
   "outputs": [
    {
     "data": {
      "text/html": [
       "<div>\n",
       "<style>\n",
       "    .dataframe thead tr:only-child th {\n",
       "        text-align: right;\n",
       "    }\n",
       "\n",
       "    .dataframe thead th {\n",
       "        text-align: left;\n",
       "    }\n",
       "\n",
       "    .dataframe tbody tr th {\n",
       "        vertical-align: top;\n",
       "    }\n",
       "</style>\n",
       "<table border=\"1\" class=\"dataframe\">\n",
       "  <thead>\n",
       "    <tr style=\"text-align: right;\">\n",
       "      <th></th>\n",
       "      <th>close</th>\n",
       "      <th>high</th>\n",
       "      <th>low</th>\n",
       "      <th>open</th>\n",
       "    </tr>\n",
       "  </thead>\n",
       "  <tbody>\n",
       "    <tr>\n",
       "      <th>0</th>\n",
       "      <td>15900.2</td>\n",
       "      <td>15965.1</td>\n",
       "      <td>15710.0</td>\n",
       "      <td>15710.0</td>\n",
       "    </tr>\n",
       "    <tr>\n",
       "      <th>1</th>\n",
       "      <td>15888.0</td>\n",
       "      <td>15983.2</td>\n",
       "      <td>15877.0</td>\n",
       "      <td>15902.1</td>\n",
       "    </tr>\n",
       "    <tr>\n",
       "      <th>2</th>\n",
       "      <td>15820.0</td>\n",
       "      <td>15890.1</td>\n",
       "      <td>15701.0</td>\n",
       "      <td>15888.0</td>\n",
       "    </tr>\n",
       "    <tr>\n",
       "      <th>3</th>\n",
       "      <td>15782.4</td>\n",
       "      <td>15830.2</td>\n",
       "      <td>15705.0</td>\n",
       "      <td>15820.0</td>\n",
       "    </tr>\n",
       "    <tr>\n",
       "      <th>4</th>\n",
       "      <td>15665.0</td>\n",
       "      <td>15791.0</td>\n",
       "      <td>15650.0</td>\n",
       "      <td>15782.4</td>\n",
       "    </tr>\n",
       "    <tr>\n",
       "      <th>5</th>\n",
       "      <td>15666.5</td>\n",
       "      <td>15779.1</td>\n",
       "      <td>15600.0</td>\n",
       "      <td>15665.0</td>\n",
       "    </tr>\n",
       "    <tr>\n",
       "      <th>6</th>\n",
       "      <td>15900.0</td>\n",
       "      <td>15990.1</td>\n",
       "      <td>15650.0</td>\n",
       "      <td>15708.2</td>\n",
       "    </tr>\n",
       "    <tr>\n",
       "      <th>7</th>\n",
       "      <td>15895.0</td>\n",
       "      <td>15950.0</td>\n",
       "      <td>15775.9</td>\n",
       "      <td>15900.0</td>\n",
       "    </tr>\n",
       "    <tr>\n",
       "      <th>8</th>\n",
       "      <td>15960.9</td>\n",
       "      <td>16000.0</td>\n",
       "      <td>15790.6</td>\n",
       "      <td>15895.0</td>\n",
       "    </tr>\n",
       "    <tr>\n",
       "      <th>9</th>\n",
       "      <td>15915.0</td>\n",
       "      <td>15999.0</td>\n",
       "      <td>15915.0</td>\n",
       "      <td>15960.9</td>\n",
       "    </tr>\n",
       "    <tr>\n",
       "      <th>10</th>\n",
       "      <td>15816.0</td>\n",
       "      <td>15959.9</td>\n",
       "      <td>15800.0</td>\n",
       "      <td>15959.0</td>\n",
       "    </tr>\n",
       "    <tr>\n",
       "      <th>11</th>\n",
       "      <td>15784.5</td>\n",
       "      <td>15828.0</td>\n",
       "      <td>15750.8</td>\n",
       "      <td>15816.0</td>\n",
       "    </tr>\n",
       "    <tr>\n",
       "      <th>12</th>\n",
       "      <td>16000.0</td>\n",
       "      <td>16060.4</td>\n",
       "      <td>15772.9</td>\n",
       "      <td>15795.2</td>\n",
       "    </tr>\n",
       "    <tr>\n",
       "      <th>13</th>\n",
       "      <td>16090.0</td>\n",
       "      <td>16099.0</td>\n",
       "      <td>15995.3</td>\n",
       "      <td>15997.5</td>\n",
       "    </tr>\n",
       "    <tr>\n",
       "      <th>14</th>\n",
       "      <td>15890.8</td>\n",
       "      <td>16090.0</td>\n",
       "      <td>15885.6</td>\n",
       "      <td>16090.0</td>\n",
       "    </tr>\n",
       "    <tr>\n",
       "      <th>15</th>\n",
       "      <td>15899.8</td>\n",
       "      <td>16000.0</td>\n",
       "      <td>15751.6</td>\n",
       "      <td>15895.4</td>\n",
       "    </tr>\n",
       "    <tr>\n",
       "      <th>16</th>\n",
       "      <td>15880.9</td>\n",
       "      <td>15933.8</td>\n",
       "      <td>15824.4</td>\n",
       "      <td>15899.8</td>\n",
       "    </tr>\n",
       "    <tr>\n",
       "      <th>17</th>\n",
       "      <td>15879.0</td>\n",
       "      <td>16000.0</td>\n",
       "      <td>15851.2</td>\n",
       "      <td>15880.9</td>\n",
       "    </tr>\n",
       "    <tr>\n",
       "      <th>18</th>\n",
       "      <td>15901.5</td>\n",
       "      <td>15949.0</td>\n",
       "      <td>15865.0</td>\n",
       "      <td>15879.0</td>\n",
       "    </tr>\n",
       "    <tr>\n",
       "      <th>19</th>\n",
       "      <td>15890.0</td>\n",
       "      <td>15998.0</td>\n",
       "      <td>15871.0</td>\n",
       "      <td>15901.5</td>\n",
       "    </tr>\n",
       "    <tr>\n",
       "      <th>20</th>\n",
       "      <td>16000.0</td>\n",
       "      <td>16000.0</td>\n",
       "      <td>15850.9</td>\n",
       "      <td>15890.0</td>\n",
       "    </tr>\n",
       "    <tr>\n",
       "      <th>21</th>\n",
       "      <td>15933.2</td>\n",
       "      <td>16102.0</td>\n",
       "      <td>15910.0</td>\n",
       "      <td>16000.0</td>\n",
       "    </tr>\n",
       "    <tr>\n",
       "      <th>22</th>\n",
       "      <td>15812.0</td>\n",
       "      <td>15981.8</td>\n",
       "      <td>15810.9</td>\n",
       "      <td>15959.0</td>\n",
       "    </tr>\n",
       "    <tr>\n",
       "      <th>23</th>\n",
       "      <td>15600.0</td>\n",
       "      <td>15850.0</td>\n",
       "      <td>15600.0</td>\n",
       "      <td>15812.0</td>\n",
       "    </tr>\n",
       "    <tr>\n",
       "      <th>24</th>\n",
       "      <td>15420.0</td>\n",
       "      <td>15623.4</td>\n",
       "      <td>15400.0</td>\n",
       "      <td>15614.6</td>\n",
       "    </tr>\n",
       "    <tr>\n",
       "      <th>25</th>\n",
       "      <td>15250.0</td>\n",
       "      <td>15442.0</td>\n",
       "      <td>15250.0</td>\n",
       "      <td>15440.0</td>\n",
       "    </tr>\n",
       "  </tbody>\n",
       "</table>\n",
       "</div>"
      ],
      "text/plain": [
       "      close     high      low     open\n",
       "0   15900.2  15965.1  15710.0  15710.0\n",
       "1   15888.0  15983.2  15877.0  15902.1\n",
       "2   15820.0  15890.1  15701.0  15888.0\n",
       "3   15782.4  15830.2  15705.0  15820.0\n",
       "4   15665.0  15791.0  15650.0  15782.4\n",
       "5   15666.5  15779.1  15600.0  15665.0\n",
       "6   15900.0  15990.1  15650.0  15708.2\n",
       "7   15895.0  15950.0  15775.9  15900.0\n",
       "8   15960.9  16000.0  15790.6  15895.0\n",
       "9   15915.0  15999.0  15915.0  15960.9\n",
       "10  15816.0  15959.9  15800.0  15959.0\n",
       "11  15784.5  15828.0  15750.8  15816.0\n",
       "12  16000.0  16060.4  15772.9  15795.2\n",
       "13  16090.0  16099.0  15995.3  15997.5\n",
       "14  15890.8  16090.0  15885.6  16090.0\n",
       "15  15899.8  16000.0  15751.6  15895.4\n",
       "16  15880.9  15933.8  15824.4  15899.8\n",
       "17  15879.0  16000.0  15851.2  15880.9\n",
       "18  15901.5  15949.0  15865.0  15879.0\n",
       "19  15890.0  15998.0  15871.0  15901.5\n",
       "20  16000.0  16000.0  15850.9  15890.0\n",
       "21  15933.2  16102.0  15910.0  16000.0\n",
       "22  15812.0  15981.8  15810.9  15959.0\n",
       "23  15600.0  15850.0  15600.0  15812.0\n",
       "24  15420.0  15623.4  15400.0  15614.6\n",
       "25  15250.0  15442.0  15250.0  15440.0"
      ]
     },
     "execution_count": 54,
     "metadata": {
      "tags": []
     },
     "output_type": "execute_result"
    }
   ],
   "source": [
    "poloniex_price"
   ]
  },
  {
   "cell_type": "code",
   "execution_count": null,
   "metadata": {
    "colab": {
     "autoexec": {
      "startup": false,
      "wait_interval": 0
     }
    },
    "colab_type": "code",
    "id": "7FBu9FiaArda"
   },
   "outputs": [],
   "source": [
    "moving_average_poloniex = poloniex_price.rolling(window=5).mean()"
   ]
  },
  {
   "cell_type": "code",
   "execution_count": null,
   "metadata": {
    "colab": {
     "autoexec": {
      "startup": false,
      "wait_interval": 0
     },
     "output_extras": [
      {}
     ]
    },
    "colab_type": "code",
    "id": "iObEPwzYArdf",
    "outputId": "446f1eb3-b097-47ed-cd6c-0f4229656a88"
   },
   "outputs": [
    {
     "data": {
      "text/html": [
       "<div>\n",
       "<style>\n",
       "    .dataframe thead tr:only-child th {\n",
       "        text-align: right;\n",
       "    }\n",
       "\n",
       "    .dataframe thead th {\n",
       "        text-align: left;\n",
       "    }\n",
       "\n",
       "    .dataframe tbody tr th {\n",
       "        vertical-align: top;\n",
       "    }\n",
       "</style>\n",
       "<table border=\"1\" class=\"dataframe\">\n",
       "  <thead>\n",
       "    <tr style=\"text-align: right;\">\n",
       "      <th></th>\n",
       "      <th>close</th>\n",
       "      <th>high</th>\n",
       "      <th>low</th>\n",
       "      <th>open</th>\n",
       "    </tr>\n",
       "  </thead>\n",
       "  <tbody>\n",
       "    <tr>\n",
       "      <th>0</th>\n",
       "      <td>NaN</td>\n",
       "      <td>NaN</td>\n",
       "      <td>NaN</td>\n",
       "      <td>NaN</td>\n",
       "    </tr>\n",
       "    <tr>\n",
       "      <th>1</th>\n",
       "      <td>NaN</td>\n",
       "      <td>NaN</td>\n",
       "      <td>NaN</td>\n",
       "      <td>NaN</td>\n",
       "    </tr>\n",
       "    <tr>\n",
       "      <th>2</th>\n",
       "      <td>NaN</td>\n",
       "      <td>NaN</td>\n",
       "      <td>NaN</td>\n",
       "      <td>NaN</td>\n",
       "    </tr>\n",
       "    <tr>\n",
       "      <th>3</th>\n",
       "      <td>NaN</td>\n",
       "      <td>NaN</td>\n",
       "      <td>NaN</td>\n",
       "      <td>NaN</td>\n",
       "    </tr>\n",
       "    <tr>\n",
       "      <th>4</th>\n",
       "      <td>15811.12</td>\n",
       "      <td>15891.92</td>\n",
       "      <td>15728.60</td>\n",
       "      <td>15820.50</td>\n",
       "    </tr>\n",
       "    <tr>\n",
       "      <th>5</th>\n",
       "      <td>15764.38</td>\n",
       "      <td>15854.72</td>\n",
       "      <td>15706.60</td>\n",
       "      <td>15811.50</td>\n",
       "    </tr>\n",
       "    <tr>\n",
       "      <th>6</th>\n",
       "      <td>15766.78</td>\n",
       "      <td>15856.10</td>\n",
       "      <td>15661.20</td>\n",
       "      <td>15772.72</td>\n",
       "    </tr>\n",
       "    <tr>\n",
       "      <th>7</th>\n",
       "      <td>15781.78</td>\n",
       "      <td>15868.08</td>\n",
       "      <td>15676.18</td>\n",
       "      <td>15775.12</td>\n",
       "    </tr>\n",
       "    <tr>\n",
       "      <th>8</th>\n",
       "      <td>15817.48</td>\n",
       "      <td>15902.04</td>\n",
       "      <td>15693.30</td>\n",
       "      <td>15790.12</td>\n",
       "    </tr>\n",
       "    <tr>\n",
       "      <th>9</th>\n",
       "      <td>15867.48</td>\n",
       "      <td>15943.64</td>\n",
       "      <td>15746.30</td>\n",
       "      <td>15825.82</td>\n",
       "    </tr>\n",
       "    <tr>\n",
       "      <th>10</th>\n",
       "      <td>15897.38</td>\n",
       "      <td>15979.80</td>\n",
       "      <td>15786.30</td>\n",
       "      <td>15884.62</td>\n",
       "    </tr>\n",
       "    <tr>\n",
       "      <th>11</th>\n",
       "      <td>15874.28</td>\n",
       "      <td>15947.38</td>\n",
       "      <td>15806.46</td>\n",
       "      <td>15906.18</td>\n",
       "    </tr>\n",
       "    <tr>\n",
       "      <th>12</th>\n",
       "      <td>15895.28</td>\n",
       "      <td>15969.46</td>\n",
       "      <td>15805.86</td>\n",
       "      <td>15885.22</td>\n",
       "    </tr>\n",
       "    <tr>\n",
       "      <th>13</th>\n",
       "      <td>15921.10</td>\n",
       "      <td>15989.26</td>\n",
       "      <td>15846.80</td>\n",
       "      <td>15905.72</td>\n",
       "    </tr>\n",
       "    <tr>\n",
       "      <th>14</th>\n",
       "      <td>15916.26</td>\n",
       "      <td>16007.46</td>\n",
       "      <td>15840.92</td>\n",
       "      <td>15931.54</td>\n",
       "    </tr>\n",
       "    <tr>\n",
       "      <th>15</th>\n",
       "      <td>15933.02</td>\n",
       "      <td>16015.48</td>\n",
       "      <td>15831.24</td>\n",
       "      <td>15918.82</td>\n",
       "    </tr>\n",
       "    <tr>\n",
       "      <th>16</th>\n",
       "      <td>15952.30</td>\n",
       "      <td>16036.64</td>\n",
       "      <td>15845.96</td>\n",
       "      <td>15935.58</td>\n",
       "    </tr>\n",
       "    <tr>\n",
       "      <th>17</th>\n",
       "      <td>15928.10</td>\n",
       "      <td>16024.56</td>\n",
       "      <td>15861.62</td>\n",
       "      <td>15952.72</td>\n",
       "    </tr>\n",
       "    <tr>\n",
       "      <th>18</th>\n",
       "      <td>15890.40</td>\n",
       "      <td>15994.56</td>\n",
       "      <td>15835.56</td>\n",
       "      <td>15929.02</td>\n",
       "    </tr>\n",
       "    <tr>\n",
       "      <th>19</th>\n",
       "      <td>15890.24</td>\n",
       "      <td>15976.16</td>\n",
       "      <td>15832.64</td>\n",
       "      <td>15891.32</td>\n",
       "    </tr>\n",
       "    <tr>\n",
       "      <th>20</th>\n",
       "      <td>15910.28</td>\n",
       "      <td>15976.16</td>\n",
       "      <td>15852.50</td>\n",
       "      <td>15890.24</td>\n",
       "    </tr>\n",
       "    <tr>\n",
       "      <th>21</th>\n",
       "      <td>15920.74</td>\n",
       "      <td>16009.80</td>\n",
       "      <td>15869.62</td>\n",
       "      <td>15910.28</td>\n",
       "    </tr>\n",
       "    <tr>\n",
       "      <th>22</th>\n",
       "      <td>15907.34</td>\n",
       "      <td>16006.16</td>\n",
       "      <td>15861.56</td>\n",
       "      <td>15925.90</td>\n",
       "    </tr>\n",
       "    <tr>\n",
       "      <th>23</th>\n",
       "      <td>15847.04</td>\n",
       "      <td>15986.36</td>\n",
       "      <td>15808.56</td>\n",
       "      <td>15912.50</td>\n",
       "    </tr>\n",
       "    <tr>\n",
       "      <th>24</th>\n",
       "      <td>15753.04</td>\n",
       "      <td>15911.44</td>\n",
       "      <td>15714.36</td>\n",
       "      <td>15855.12</td>\n",
       "    </tr>\n",
       "    <tr>\n",
       "      <th>25</th>\n",
       "      <td>15603.04</td>\n",
       "      <td>15799.84</td>\n",
       "      <td>15594.18</td>\n",
       "      <td>15765.12</td>\n",
       "    </tr>\n",
       "  </tbody>\n",
       "</table>\n",
       "</div>"
      ],
      "text/plain": [
       "       close      high       low      open\n",
       "0        NaN       NaN       NaN       NaN\n",
       "1        NaN       NaN       NaN       NaN\n",
       "2        NaN       NaN       NaN       NaN\n",
       "3        NaN       NaN       NaN       NaN\n",
       "4   15811.12  15891.92  15728.60  15820.50\n",
       "5   15764.38  15854.72  15706.60  15811.50\n",
       "6   15766.78  15856.10  15661.20  15772.72\n",
       "7   15781.78  15868.08  15676.18  15775.12\n",
       "8   15817.48  15902.04  15693.30  15790.12\n",
       "9   15867.48  15943.64  15746.30  15825.82\n",
       "10  15897.38  15979.80  15786.30  15884.62\n",
       "11  15874.28  15947.38  15806.46  15906.18\n",
       "12  15895.28  15969.46  15805.86  15885.22\n",
       "13  15921.10  15989.26  15846.80  15905.72\n",
       "14  15916.26  16007.46  15840.92  15931.54\n",
       "15  15933.02  16015.48  15831.24  15918.82\n",
       "16  15952.30  16036.64  15845.96  15935.58\n",
       "17  15928.10  16024.56  15861.62  15952.72\n",
       "18  15890.40  15994.56  15835.56  15929.02\n",
       "19  15890.24  15976.16  15832.64  15891.32\n",
       "20  15910.28  15976.16  15852.50  15890.24\n",
       "21  15920.74  16009.80  15869.62  15910.28\n",
       "22  15907.34  16006.16  15861.56  15925.90\n",
       "23  15847.04  15986.36  15808.56  15912.50\n",
       "24  15753.04  15911.44  15714.36  15855.12\n",
       "25  15603.04  15799.84  15594.18  15765.12"
      ]
     },
     "execution_count": 34,
     "metadata": {
      "tags": []
     },
     "output_type": "execute_result"
    }
   ],
   "source": [
    "moving_average_poloniex"
   ]
  },
  {
   "cell_type": "code",
   "execution_count": null,
   "metadata": {
    "colab": {
     "autoexec": {
      "startup": false,
      "wait_interval": 0
     },
     "output_extras": [
      {}
     ]
    },
    "colab_type": "code",
    "id": "brZgdkFRArdy",
    "outputId": "ae270a06-0ed9-41a5-caf9-6f3c6ba25943"
   },
   "outputs": [
    {
     "data": {
      "text/html": [
       "<div>\n",
       "<style>\n",
       "    .dataframe thead tr:only-child th {\n",
       "        text-align: right;\n",
       "    }\n",
       "\n",
       "    .dataframe thead th {\n",
       "        text-align: left;\n",
       "    }\n",
       "\n",
       "    .dataframe tbody tr th {\n",
       "        vertical-align: top;\n",
       "    }\n",
       "</style>\n",
       "<table border=\"1\" class=\"dataframe\">\n",
       "  <thead>\n",
       "    <tr style=\"text-align: right;\">\n",
       "      <th></th>\n",
       "      <th>close</th>\n",
       "      <th>high</th>\n",
       "      <th>low</th>\n",
       "      <th>open</th>\n",
       "    </tr>\n",
       "  </thead>\n",
       "  <tbody>\n",
       "    <tr>\n",
       "      <th>0</th>\n",
       "      <td>NaN</td>\n",
       "      <td>NaN</td>\n",
       "      <td>NaN</td>\n",
       "      <td>NaN</td>\n",
       "    </tr>\n",
       "    <tr>\n",
       "      <th>1</th>\n",
       "      <td>NaN</td>\n",
       "      <td>NaN</td>\n",
       "      <td>NaN</td>\n",
       "      <td>NaN</td>\n",
       "    </tr>\n",
       "    <tr>\n",
       "      <th>2</th>\n",
       "      <td>NaN</td>\n",
       "      <td>NaN</td>\n",
       "      <td>NaN</td>\n",
       "      <td>NaN</td>\n",
       "    </tr>\n",
       "    <tr>\n",
       "      <th>3</th>\n",
       "      <td>NaN</td>\n",
       "      <td>NaN</td>\n",
       "      <td>NaN</td>\n",
       "      <td>NaN</td>\n",
       "    </tr>\n",
       "    <tr>\n",
       "      <th>4</th>\n",
       "      <td>NaN</td>\n",
       "      <td>NaN</td>\n",
       "      <td>NaN</td>\n",
       "      <td>NaN</td>\n",
       "    </tr>\n",
       "    <tr>\n",
       "      <th>5</th>\n",
       "      <td>-46.74</td>\n",
       "      <td>-37.20</td>\n",
       "      <td>-22.00</td>\n",
       "      <td>-9.00</td>\n",
       "    </tr>\n",
       "    <tr>\n",
       "      <th>6</th>\n",
       "      <td>2.40</td>\n",
       "      <td>1.38</td>\n",
       "      <td>-45.40</td>\n",
       "      <td>-38.78</td>\n",
       "    </tr>\n",
       "    <tr>\n",
       "      <th>7</th>\n",
       "      <td>15.00</td>\n",
       "      <td>11.98</td>\n",
       "      <td>14.98</td>\n",
       "      <td>2.40</td>\n",
       "    </tr>\n",
       "    <tr>\n",
       "      <th>8</th>\n",
       "      <td>35.70</td>\n",
       "      <td>33.96</td>\n",
       "      <td>17.12</td>\n",
       "      <td>15.00</td>\n",
       "    </tr>\n",
       "    <tr>\n",
       "      <th>9</th>\n",
       "      <td>50.00</td>\n",
       "      <td>41.60</td>\n",
       "      <td>53.00</td>\n",
       "      <td>35.70</td>\n",
       "    </tr>\n",
       "    <tr>\n",
       "      <th>10</th>\n",
       "      <td>29.90</td>\n",
       "      <td>36.16</td>\n",
       "      <td>40.00</td>\n",
       "      <td>58.80</td>\n",
       "    </tr>\n",
       "    <tr>\n",
       "      <th>11</th>\n",
       "      <td>-23.10</td>\n",
       "      <td>-32.42</td>\n",
       "      <td>20.16</td>\n",
       "      <td>21.56</td>\n",
       "    </tr>\n",
       "    <tr>\n",
       "      <th>12</th>\n",
       "      <td>21.00</td>\n",
       "      <td>22.08</td>\n",
       "      <td>-0.60</td>\n",
       "      <td>-20.96</td>\n",
       "    </tr>\n",
       "    <tr>\n",
       "      <th>13</th>\n",
       "      <td>25.82</td>\n",
       "      <td>19.80</td>\n",
       "      <td>40.94</td>\n",
       "      <td>20.50</td>\n",
       "    </tr>\n",
       "    <tr>\n",
       "      <th>14</th>\n",
       "      <td>-4.84</td>\n",
       "      <td>18.20</td>\n",
       "      <td>-5.88</td>\n",
       "      <td>25.82</td>\n",
       "    </tr>\n",
       "    <tr>\n",
       "      <th>15</th>\n",
       "      <td>16.76</td>\n",
       "      <td>8.02</td>\n",
       "      <td>-9.68</td>\n",
       "      <td>-12.72</td>\n",
       "    </tr>\n",
       "    <tr>\n",
       "      <th>16</th>\n",
       "      <td>19.28</td>\n",
       "      <td>21.16</td>\n",
       "      <td>14.72</td>\n",
       "      <td>16.76</td>\n",
       "    </tr>\n",
       "    <tr>\n",
       "      <th>17</th>\n",
       "      <td>-24.20</td>\n",
       "      <td>-12.08</td>\n",
       "      <td>15.66</td>\n",
       "      <td>17.14</td>\n",
       "    </tr>\n",
       "    <tr>\n",
       "      <th>18</th>\n",
       "      <td>-37.70</td>\n",
       "      <td>-30.00</td>\n",
       "      <td>-26.06</td>\n",
       "      <td>-23.70</td>\n",
       "    </tr>\n",
       "    <tr>\n",
       "      <th>19</th>\n",
       "      <td>-0.16</td>\n",
       "      <td>-18.40</td>\n",
       "      <td>-2.92</td>\n",
       "      <td>-37.70</td>\n",
       "    </tr>\n",
       "    <tr>\n",
       "      <th>20</th>\n",
       "      <td>20.04</td>\n",
       "      <td>0.00</td>\n",
       "      <td>19.86</td>\n",
       "      <td>-1.08</td>\n",
       "    </tr>\n",
       "    <tr>\n",
       "      <th>21</th>\n",
       "      <td>10.46</td>\n",
       "      <td>33.64</td>\n",
       "      <td>17.12</td>\n",
       "      <td>20.04</td>\n",
       "    </tr>\n",
       "    <tr>\n",
       "      <th>22</th>\n",
       "      <td>-13.40</td>\n",
       "      <td>-3.64</td>\n",
       "      <td>-8.06</td>\n",
       "      <td>15.62</td>\n",
       "    </tr>\n",
       "    <tr>\n",
       "      <th>23</th>\n",
       "      <td>-60.30</td>\n",
       "      <td>-19.80</td>\n",
       "      <td>-53.00</td>\n",
       "      <td>-13.40</td>\n",
       "    </tr>\n",
       "    <tr>\n",
       "      <th>24</th>\n",
       "      <td>-94.00</td>\n",
       "      <td>-74.92</td>\n",
       "      <td>-94.20</td>\n",
       "      <td>-57.38</td>\n",
       "    </tr>\n",
       "    <tr>\n",
       "      <th>25</th>\n",
       "      <td>-150.00</td>\n",
       "      <td>-111.60</td>\n",
       "      <td>-120.18</td>\n",
       "      <td>-90.00</td>\n",
       "    </tr>\n",
       "  </tbody>\n",
       "</table>\n",
       "</div>"
      ],
      "text/plain": [
       "     close    high     low   open\n",
       "0      NaN     NaN     NaN    NaN\n",
       "1      NaN     NaN     NaN    NaN\n",
       "2      NaN     NaN     NaN    NaN\n",
       "3      NaN     NaN     NaN    NaN\n",
       "4      NaN     NaN     NaN    NaN\n",
       "5   -46.74  -37.20  -22.00  -9.00\n",
       "6     2.40    1.38  -45.40 -38.78\n",
       "7    15.00   11.98   14.98   2.40\n",
       "8    35.70   33.96   17.12  15.00\n",
       "9    50.00   41.60   53.00  35.70\n",
       "10   29.90   36.16   40.00  58.80\n",
       "11  -23.10  -32.42   20.16  21.56\n",
       "12   21.00   22.08   -0.60 -20.96\n",
       "13   25.82   19.80   40.94  20.50\n",
       "14   -4.84   18.20   -5.88  25.82\n",
       "15   16.76    8.02   -9.68 -12.72\n",
       "16   19.28   21.16   14.72  16.76\n",
       "17  -24.20  -12.08   15.66  17.14\n",
       "18  -37.70  -30.00  -26.06 -23.70\n",
       "19   -0.16  -18.40   -2.92 -37.70\n",
       "20   20.04    0.00   19.86  -1.08\n",
       "21   10.46   33.64   17.12  20.04\n",
       "22  -13.40   -3.64   -8.06  15.62\n",
       "23  -60.30  -19.80  -53.00 -13.40\n",
       "24  -94.00  -74.92  -94.20 -57.38\n",
       "25 -150.00 -111.60 -120.18 -90.00"
      ]
     },
     "execution_count": 38,
     "metadata": {
      "tags": []
     },
     "output_type": "execute_result"
    }
   ],
   "source": [
    "# MA5(s,t) - MA5(s,t-1)\n",
    "moving_average_poloniex.diff()"
   ]
  },
  {
   "cell_type": "code",
   "execution_count": null,
   "metadata": {
    "colab": {
     "autoexec": {
      "startup": false,
      "wait_interval": 0
     },
     "output_extras": [
      {}
     ]
    },
    "colab_type": "code",
    "id": "TrJh6CdmArd7",
    "outputId": "d2fe515d-f096-451e-9874-0a96e186208c"
   },
   "outputs": [
    {
     "data": {
      "text/html": [
       "<div>\n",
       "<style>\n",
       "    .dataframe thead tr:only-child th {\n",
       "        text-align: right;\n",
       "    }\n",
       "\n",
       "    .dataframe thead th {\n",
       "        text-align: left;\n",
       "    }\n",
       "\n",
       "    .dataframe tbody tr th {\n",
       "        vertical-align: top;\n",
       "    }\n",
       "</style>\n",
       "<table border=\"1\" class=\"dataframe\">\n",
       "  <thead>\n",
       "    <tr style=\"text-align: right;\">\n",
       "      <th></th>\n",
       "      <th>close</th>\n",
       "      <th>high</th>\n",
       "      <th>low</th>\n",
       "      <th>open</th>\n",
       "    </tr>\n",
       "  </thead>\n",
       "  <tbody>\n",
       "    <tr>\n",
       "      <th>0</th>\n",
       "      <td>NaN</td>\n",
       "      <td>NaN</td>\n",
       "      <td>NaN</td>\n",
       "      <td>NaN</td>\n",
       "    </tr>\n",
       "    <tr>\n",
       "      <th>1</th>\n",
       "      <td>NaN</td>\n",
       "      <td>NaN</td>\n",
       "      <td>NaN</td>\n",
       "      <td>NaN</td>\n",
       "    </tr>\n",
       "    <tr>\n",
       "      <th>2</th>\n",
       "      <td>NaN</td>\n",
       "      <td>NaN</td>\n",
       "      <td>NaN</td>\n",
       "      <td>NaN</td>\n",
       "    </tr>\n",
       "    <tr>\n",
       "      <th>3</th>\n",
       "      <td>NaN</td>\n",
       "      <td>NaN</td>\n",
       "      <td>NaN</td>\n",
       "      <td>NaN</td>\n",
       "    </tr>\n",
       "    <tr>\n",
       "      <th>4</th>\n",
       "      <td>NaN</td>\n",
       "      <td>NaN</td>\n",
       "      <td>NaN</td>\n",
       "      <td>NaN</td>\n",
       "    </tr>\n",
       "    <tr>\n",
       "      <th>5</th>\n",
       "      <td>-0.002965</td>\n",
       "      <td>-0.002346</td>\n",
       "      <td>-0.001401</td>\n",
       "      <td>-0.000569</td>\n",
       "    </tr>\n",
       "    <tr>\n",
       "      <th>6</th>\n",
       "      <td>0.000152</td>\n",
       "      <td>0.000087</td>\n",
       "      <td>-0.002899</td>\n",
       "      <td>-0.002459</td>\n",
       "    </tr>\n",
       "    <tr>\n",
       "      <th>7</th>\n",
       "      <td>0.000950</td>\n",
       "      <td>0.000755</td>\n",
       "      <td>0.000956</td>\n",
       "      <td>0.000152</td>\n",
       "    </tr>\n",
       "    <tr>\n",
       "      <th>8</th>\n",
       "      <td>0.002257</td>\n",
       "      <td>0.002136</td>\n",
       "      <td>0.001091</td>\n",
       "      <td>0.000950</td>\n",
       "    </tr>\n",
       "    <tr>\n",
       "      <th>9</th>\n",
       "      <td>0.003151</td>\n",
       "      <td>0.002609</td>\n",
       "      <td>0.003366</td>\n",
       "      <td>0.002256</td>\n",
       "    </tr>\n",
       "    <tr>\n",
       "      <th>10</th>\n",
       "      <td>0.001881</td>\n",
       "      <td>0.002263</td>\n",
       "      <td>0.002534</td>\n",
       "      <td>0.003702</td>\n",
       "    </tr>\n",
       "    <tr>\n",
       "      <th>11</th>\n",
       "      <td>-0.001455</td>\n",
       "      <td>-0.002033</td>\n",
       "      <td>0.001275</td>\n",
       "      <td>0.001355</td>\n",
       "    </tr>\n",
       "    <tr>\n",
       "      <th>12</th>\n",
       "      <td>0.001321</td>\n",
       "      <td>0.001383</td>\n",
       "      <td>-0.000038</td>\n",
       "      <td>-0.001319</td>\n",
       "    </tr>\n",
       "    <tr>\n",
       "      <th>13</th>\n",
       "      <td>0.001622</td>\n",
       "      <td>0.001238</td>\n",
       "      <td>0.002583</td>\n",
       "      <td>0.001289</td>\n",
       "    </tr>\n",
       "    <tr>\n",
       "      <th>14</th>\n",
       "      <td>-0.000304</td>\n",
       "      <td>0.001137</td>\n",
       "      <td>-0.000371</td>\n",
       "      <td>0.001621</td>\n",
       "    </tr>\n",
       "    <tr>\n",
       "      <th>15</th>\n",
       "      <td>0.001052</td>\n",
       "      <td>0.000501</td>\n",
       "      <td>-0.000611</td>\n",
       "      <td>-0.000799</td>\n",
       "    </tr>\n",
       "    <tr>\n",
       "      <th>16</th>\n",
       "      <td>0.001209</td>\n",
       "      <td>0.001319</td>\n",
       "      <td>0.000929</td>\n",
       "      <td>0.001052</td>\n",
       "    </tr>\n",
       "    <tr>\n",
       "      <th>17</th>\n",
       "      <td>-0.001519</td>\n",
       "      <td>-0.000754</td>\n",
       "      <td>0.000987</td>\n",
       "      <td>0.001074</td>\n",
       "    </tr>\n",
       "    <tr>\n",
       "      <th>18</th>\n",
       "      <td>-0.002373</td>\n",
       "      <td>-0.001876</td>\n",
       "      <td>-0.001646</td>\n",
       "      <td>-0.001488</td>\n",
       "    </tr>\n",
       "    <tr>\n",
       "      <th>19</th>\n",
       "      <td>-0.000010</td>\n",
       "      <td>-0.001152</td>\n",
       "      <td>-0.000184</td>\n",
       "      <td>-0.002372</td>\n",
       "    </tr>\n",
       "    <tr>\n",
       "      <th>20</th>\n",
       "      <td>0.001260</td>\n",
       "      <td>0.000000</td>\n",
       "      <td>0.001253</td>\n",
       "      <td>-0.000068</td>\n",
       "    </tr>\n",
       "    <tr>\n",
       "      <th>21</th>\n",
       "      <td>0.000657</td>\n",
       "      <td>0.002101</td>\n",
       "      <td>0.001079</td>\n",
       "      <td>0.001260</td>\n",
       "    </tr>\n",
       "    <tr>\n",
       "      <th>22</th>\n",
       "      <td>-0.000842</td>\n",
       "      <td>-0.000227</td>\n",
       "      <td>-0.000508</td>\n",
       "      <td>0.000981</td>\n",
       "    </tr>\n",
       "    <tr>\n",
       "      <th>23</th>\n",
       "      <td>-0.003805</td>\n",
       "      <td>-0.001239</td>\n",
       "      <td>-0.003353</td>\n",
       "      <td>-0.000842</td>\n",
       "    </tr>\n",
       "    <tr>\n",
       "      <th>24</th>\n",
       "      <td>-0.005967</td>\n",
       "      <td>-0.004709</td>\n",
       "      <td>-0.005995</td>\n",
       "      <td>-0.003619</td>\n",
       "    </tr>\n",
       "    <tr>\n",
       "      <th>25</th>\n",
       "      <td>-0.009614</td>\n",
       "      <td>-0.007063</td>\n",
       "      <td>-0.007707</td>\n",
       "      <td>-0.005709</td>\n",
       "    </tr>\n",
       "  </tbody>\n",
       "</table>\n",
       "</div>"
      ],
      "text/plain": [
       "       close      high       low      open\n",
       "0        NaN       NaN       NaN       NaN\n",
       "1        NaN       NaN       NaN       NaN\n",
       "2        NaN       NaN       NaN       NaN\n",
       "3        NaN       NaN       NaN       NaN\n",
       "4        NaN       NaN       NaN       NaN\n",
       "5  -0.002965 -0.002346 -0.001401 -0.000569\n",
       "6   0.000152  0.000087 -0.002899 -0.002459\n",
       "7   0.000950  0.000755  0.000956  0.000152\n",
       "8   0.002257  0.002136  0.001091  0.000950\n",
       "9   0.003151  0.002609  0.003366  0.002256\n",
       "10  0.001881  0.002263  0.002534  0.003702\n",
       "11 -0.001455 -0.002033  0.001275  0.001355\n",
       "12  0.001321  0.001383 -0.000038 -0.001319\n",
       "13  0.001622  0.001238  0.002583  0.001289\n",
       "14 -0.000304  0.001137 -0.000371  0.001621\n",
       "15  0.001052  0.000501 -0.000611 -0.000799\n",
       "16  0.001209  0.001319  0.000929  0.001052\n",
       "17 -0.001519 -0.000754  0.000987  0.001074\n",
       "18 -0.002373 -0.001876 -0.001646 -0.001488\n",
       "19 -0.000010 -0.001152 -0.000184 -0.002372\n",
       "20  0.001260  0.000000  0.001253 -0.000068\n",
       "21  0.000657  0.002101  0.001079  0.001260\n",
       "22 -0.000842 -0.000227 -0.000508  0.000981\n",
       "23 -0.003805 -0.001239 -0.003353 -0.000842\n",
       "24 -0.005967 -0.004709 -0.005995 -0.003619\n",
       "25 -0.009614 -0.007063 -0.007707 -0.005709"
      ]
     },
     "execution_count": 42,
     "metadata": {
      "tags": []
     },
     "output_type": "execute_result"
    }
   ],
   "source": [
    "Grad = moving_average_poloniex.diff() / moving_average_poloniex\n",
    "Grad"
   ]
  },
  {
   "cell_type": "code",
   "execution_count": null,
   "metadata": {
    "colab": {
     "autoexec": {
      "startup": false,
      "wait_interval": 0
     },
     "output_extras": [
      {}
     ]
    },
    "colab_type": "code",
    "id": "5ekipWo3AreD",
    "outputId": "8c60951d-62d2-4b58-cb43-cea2501c849d"
   },
   "outputs": [
    {
     "data": {
      "image/png": "[encoded data removed]",
      "text/plain": [
       "<matplotlib.figure.Figure at 0x11781f2b0>"
      ]
     },
     "metadata": {
      "tags": []
     },
     "output_type": "display_data"
    }
   ],
   "source": [
    "plt.plot(Grad)\n",
    "plt.ylim()\n",
    "plt.show()"
   ]
  },
  {
   "cell_type": "code",
   "execution_count": null,
   "metadata": {
    "colab": {
     "autoexec": {
      "startup": false,
      "wait_interval": 0
     }
    },
    "colab_type": "code",
    "id": "yGioQJIxAreL"
   },
   "outputs": [],
   "source": []
  },
  {
   "cell_type": "code",
   "execution_count": null,
   "metadata": {
    "colab": {
     "autoexec": {
      "startup": false,
      "wait_interval": 0
     }
    },
    "colab_type": "code",
    "id": "6ecWScrFAreQ"
   },
   "outputs": [],
   "source": []
  },
  {
   "cell_type": "code",
   "execution_count": null,
   "metadata": {
    "colab": {
     "autoexec": {
      "startup": false,
      "wait_interval": 0
     }
    },
    "colab_type": "code",
    "id": "XWNuhZJEArea"
   },
   "outputs": [],
   "source": [
    "df_date = df.filter(df.date.between('2017-12-14 00:00:00', '2017-12-21 00:00:00'))"
   ]
  },
  {
   "cell_type": "code",
   "execution_count": null,
   "metadata": {
    "colab": {
     "autoexec": {
      "startup": false,
      "wait_interval": 0
     }
    },
    "colab_type": "code",
    "id": "W42u1KCxAree"
   },
   "outputs": [],
   "source": [
    "df_date_data = df_date.collect()"
   ]
  },
  {
   "cell_type": "code",
   "execution_count": null,
   "metadata": {
    "colab": {
     "autoexec": {
      "startup": false,
      "wait_interval": 0
     },
     "output_extras": [
      {}
     ]
    },
    "colab_type": "code",
    "id": "T8S6PquDArem",
    "outputId": "2582b21d-4c73-4bd4-8ef1-40521a2111a4"
   },
   "outputs": [
    {
     "data": {
      "text/plain": [
       "list"
      ]
     },
     "execution_count": 86,
     "metadata": {
      "tags": []
     },
     "output_type": "execute_result"
    }
   ],
   "source": [
    "type(df_date_data)"
   ]
  },
  {
   "cell_type": "code",
   "execution_count": null,
   "metadata": {
    "colab": {
     "autoexec": {
      "startup": false,
      "wait_interval": 0
     },
     "output_extras": [
      {}
     ]
    },
    "colab_type": "code",
    "id": "SJVrJ3z7Are1",
    "outputId": "d0a768dc-ab27-46d7-c088-cdfe83adb035"
   },
   "outputs": [
    {
     "data": {
      "text/plain": [
       "2099018"
      ]
     },
     "execution_count": 87,
     "metadata": {
      "tags": []
     },
     "output_type": "execute_result"
    }
   ],
   "source": [
    "len(df_date_data)"
   ]
  },
  {
   "cell_type": "code",
   "execution_count": null,
   "metadata": {
    "colab": {
     "autoexec": {
      "startup": false,
      "wait_interval": 0
     }
    },
    "colab_type": "code",
    "id": "t5gK0RJFAre_"
   },
   "outputs": [],
   "source": [
    "import csv\n",
    "with open(\"test.csv\", 'w') as outcsv:   \n",
    "    #configure writer to write standard csv file\n",
    "    writer = csv.writer(outcsv, delimiter=',', quotechar='|', quoting=csv.QUOTE_MINIMAL, lineterminator='\\n')\n",
    "    writer.writerow([\"id\", \"date\", \"exchange_rate\", \"price\", \"price2\", \"amount\", \"total\", \"type\", \"exchange\", \"count\", \"trade_id\"])\n",
    "    for item in df_date_data:\n",
    "        writer.writerow([item[0], item[1], item[2], item[3], item[4], item[5], item[6], item[7], item[8], item[9], item[10]])"
   ]
  },
  {
   "cell_type": "code",
   "execution_count": null,
   "metadata": {
    "colab": {
     "autoexec": {
      "startup": false,
      "wait_interval": 0
     },
     "output_extras": [
      {}
     ]
    },
    "colab_type": "code",
    "id": "OvU_0IUiArfI",
    "outputId": "a485953e-86a4-4e08-a277-ab125f21a6f7"
   },
   "outputs": [
    {
     "name": "stdout",
     "output_type": "stream",
     "text": [
      "+---+-------------------+-------------+----------+----------+--------+---------+----+--------+-----+--------------------+\n",
      "| id|               date|exchange_rate|     price|    price2|  amount|    total|type|exchange|count|            trade_id|\n",
      "+---+-------------------+-------------+----------+----------+--------+---------+----+--------+-----+--------------------+\n",
      "| id|               date|exchange_rate|     price|    price2|  amount|    total|type|exchange|count|            trade_id|\n",
      "|  1|2017-12-14 01:19:58|          1.0|18468000.0|18468000.0|  0.0144| 265939.0| buy| bithumb|    1|ed2dc46f02629d03d...|\n",
      "|  2|2017-12-14 01:19:59|          1.0|18477000.0|18477000.0|  0.0445| 822227.0| buy| bithumb|    1|08a225db9a33d7b96...|\n",
      "|  3|2017-12-14 01:20:01|          1.0|18477000.0|18477000.0|   0.166|3067180.0| buy| bithumb|    1|257257e970e9a6f96...|\n",
      "|  4|2017-12-14 01:20:03|          1.0|18492000.0|18492000.0|   0.003|  55476.0|sell| bithumb|    1|e00932da7ef83226e...|\n",
      "|  5|2017-12-14 01:20:05|          1.0|18491000.0|18491000.0|  0.0124| 229288.0|sell| bithumb|    1|c74910b20f237b8ab...|\n",
      "|  6|2017-12-14 01:20:07|          1.0|18491000.0|18491000.0|    0.05| 924550.0|sell| bithumb|    1|dbf7bb708ca5cfd4d...|\n",
      "|  7|2017-12-14 01:20:07|          1.0|18491000.0|18491000.0|  0.1376|2544360.0|sell| bithumb|    1|a9d8e087f5e6cf925...|\n",
      "|  8|2017-12-14 01:20:07|          1.0|18492000.0|18492000.0|0.132668|2453300.0|sell| bithumb|    1|f6f0dd3c7eef6ad12...|\n",
      "|  9|2017-12-14 01:20:07|          1.0|18492000.0|18492000.0|    0.03| 554760.0|sell| bithumb|    1|2c2ef34c2048ae9e6...|\n",
      "| 10|2017-12-14 01:20:08|          1.0|18492000.0|18492000.0|     0.1|1849200.0|sell| bithumb|    1|56a0e1779c29d30bd...|\n",
      "| 11|2017-12-14 01:20:09|          1.0|18478000.0|18478000.0|  0.0089| 164454.0| buy| bithumb|    1|6ab5155b89843ac07...|\n",
      "| 12|2017-12-14 01:20:09|          1.0|18478000.0|18478000.0|    0.14|2586920.0| buy| bithumb|    1|74e8ed44df66b894a...|\n",
      "| 13|2017-12-14 01:20:10|          1.0|18478000.0|18478000.0|  0.0193| 356625.0| buy| bithumb|    1|9635f4ce3a256b477...|\n",
      "| 14|2017-12-14 01:20:12|          1.0|18491000.0|18491000.0|  0.0315| 582467.0|sell| bithumb|    1|b5c147faa6f11747a...|\n",
      "| 15|2017-12-14 01:20:12|          1.0|18491000.0|18491000.0|  0.0054|  99851.0|sell| bithumb|    1|0bc16f6dac50ca972...|\n",
      "| 16|2017-12-14 01:20:13|          1.0|18478000.0|18478000.0|  0.0318| 587600.0| buy| bithumb|    1|65409d637251f23bc...|\n",
      "| 17|2017-12-14 01:20:13|          1.0|18478000.0|18478000.0|  0.0128| 236518.0| buy| bithumb|    1|b62daf846a198e53e...|\n",
      "| 18|2017-12-14 01:20:13|          1.0|18491000.0|18491000.0|  0.0108| 199703.0|sell| bithumb|    1|ebdaac4f2f40ff734...|\n",
      "| 19|2017-12-14 01:20:13|          1.0|18491000.0|18491000.0|  0.0108| 199703.0|sell| bithumb|    2|ebdaac4f2f40ff734...|\n",
      "+---+-------------------+-------------+----------+----------+--------+---------+----+--------+-----+--------------------+\n",
      "only showing top 20 rows\n",
      "\n"
     ]
    }
   ],
   "source": [
    "price_rdd = sc.textFile(\"test.csv\").map(lambda line: line.split(\",\"))\n",
    "\n",
    "price_df = price_rdd.toDF([\"id\", \"date\", \"exchange_rate\", \"price\", \"price2\", \"amount\", \"total\", \"type\", \"exchange\", \"count\", \"trade_id\"])\n",
    "\n",
    "price_df.show()"
   ]
  },
  {
   "cell_type": "code",
   "execution_count": null,
   "metadata": {
    "colab": {
     "autoexec": {
      "startup": false,
      "wait_interval": 0
     }
    },
    "colab_type": "code",
    "id": "RBZ72SwqArfS"
   },
   "outputs": [],
   "source": []
  },
  {
   "cell_type": "code",
   "execution_count": null,
   "metadata": {
    "colab": {
     "autoexec": {
      "startup": false,
      "wait_interval": 0
     }
    },
    "colab_type": "code",
    "id": "VppvyeWCArfc"
   },
   "outputs": [],
   "source": [
    "df_date = df.filter(df.date.between('2017-12-14 00:00:00', '2018-01-14 00:00:00'))\n",
    "df_date_data = df_date.collect()\n",
    "len(df_date_data)\n",
    "\n",
    "import csv\n",
    "with open(\"test2.csv\", 'w') as outcsv:   \n",
    "    #configure writer to write standard csv file\n",
    "    writer = csv.writer(outcsv, delimiter=',', quotechar='|', quoting=csv.QUOTE_MINIMAL, lineterminator='\\n')\n",
    "    writer.writerow([\"id\", \"date\", \"exchange_rate\", \"price\", \"price2\", \"amount\", \"total\", \"type\", \"exchange\", \"count\", \"trade_id\"])\n",
    "    for item in df_date_data:\n",
    "        writer.writerow([item[0], item[1], item[2], item[3], item[4], item[5], item[6], item[7], item[8], item[9], item[10]])\n",
    "        \n",
    "price_rdd = sc.textFile(\"test2.csv\").map(lambda line: line.split(\",\"))\n",
    "price_df = price_rdd.toDF([\"id\", \"date\", \"exchange_rate\", \"price\", \"price2\", \"amount\", \"total\", \"type\", \"exchange\", \"count\", \"trade_id\"])\n",
    "price_df.show()"
   ]
  },
  {
   "cell_type": "code",
   "execution_count": null,
   "metadata": {},
   "outputs": [],
   "source": [
    "price_rdd = sc.textFile(\"trade_20171214_20171215.csv\").map(lambda line: line.split(\",\"))\n",
    "price_df = price_rdd.toDF([\"id\", \"date\", \"exchange_rate\", \"price\", \"price2\", \"amount\", \"total\", \"type\", \"exchange\", \"count\", \"trade_id\"])\n",
    "price_df.show()"
   ]
  },
  {
   "cell_type": "code",
   "execution_count": null,
   "metadata": {},
   "outputs": [],
   "source": []
  },
  {
   "cell_type": "code",
   "execution_count": null,
   "metadata": {},
   "outputs": [],
   "source": []
  },
  {
   "cell_type": "code",
   "execution_count": null,
   "metadata": {},
   "outputs": [],
   "source": [
    "다음과 같은 시계열 데이터가 있다고 가정한다.\n",
    "    \n",
    "<img src=\"https://goo.gl/rc2RuV\"></img>\n",
    "    \n",
    "    이 시계열 데이터가 랜덤워크라고 가정한다면,\n",
    "    정의에 따라 y(t)와 y(t-1)의 상관계수는 0이 되어야 한다.\n",
    "    \n",
    "    아래의 값을 대입하여 가설검정(Hypothesis Test)을 실시한다.\n",
    "    alpha = 0\n",
    "    gamma = 0\n",
    "    beta = 0\n",
    "    \n",
    "    만약 gamma = 0이라는 가설검정에 실패하면 시계열 데이터는 랜덤워크가 아니라는 것을 증명하게 되고,\n",
    "    랜덤워크가 아니라면 평균회귀 시계열이라는 결론을 얻게 된다.\n",
    "    \n",
    "**가설검정**\n",
    "<img src=\"http://cfile9.uf.tistory.com/image/220A2F3958D9BC882E0B45\"></src>\n",
    "\n",
    "    "
   ]
  },
  {
   "cell_type": "code",
   "execution_count": null,
   "metadata": {},
   "outputs": [],
   "source": [
    "**가설통계량**\n",
    "\n",
    "    검정통계량\n",
    "    가설을 검정하기 위한 기준으로 사용하는 값(t값 등)을 말한다.\n",
    "    검정통계량이 확률분포 상에 어디에 위치하는지에 따라 귀무가설을 기각하거나 기각하지 않는다.\n",
    "    \n",
    "<img src=\"http://cfile1.uf.tistory.com/image/217ABA3858D9CB502E9474\"></src>\n",
    "\n",
    "**유의확률 (p-value)**\n",
    "\n",
    "    자유도를 고려했을 때 검정통계량에 대한 확률을 말한다. (귀무가설의 신뢰구간을 벗어나는 확률)\n",
    "    기각역보다 유의확률이 작아야 귀무가설을 기각할 수 있다.\n",
    "\n",
    "\n",
    "**자유도**\n",
    "    \n",
    "    x값이 가질 수 있는 값의 범위를 말한다.\n",
    "    자유도가 주어지지 않는 경우, 자유도= 표본수(n) - 1\n",
    "\n",
    "\n",
    "http://kkokkilkon.tistory.com/36"
   ]
  },
  {
   "cell_type": "code",
   "execution_count": null,
   "metadata": {},
   "outputs": [],
   "source": [
    "개념 설명"
   ]
  },
  {
   "cell_type": "markdown",
   "metadata": {},
   "source": [
    "# 4장 알고리즘 트레이딩\n",
    "# 알고리즘 트레이딩 소개\n",
    "\n",
    "    알고리즘 트레이딩은 수학적 계산과 IT 시스템을 이용해 금융 상품을 거래하는 것이다.\n",
    "    알고리즘 트레이딩은 주가의 움직임을 수학적으로 분석하고, 예측할 수 있는 수학적 모델을 만들어 IT 기술로 구현한 것이다.\n",
    "    설계된 수학적 모델이 과거의 데이터를 이용해 검증했을 때 통계적으로 유의미하다고 판단되는 모델만이 살아남아서 알고리즘 트레이딩으로 구현된다.\n",
    "    \n",
    "    2007년부터 알고리즘 트레이딩이 사람이 아닌 기계가 대신하기 시작했다.\n",
    "    \n",
    "    수학적 모델이 사람과 비슷하거나 사람보다 더 좋은 결과를 가져올 확률은 94%이다.\n",
    "    \n",
    "    사람이 거래하는 전통적인 방식과 수학적 모델에 기반을 둔 알고리즘 트레이딩을 비교했을 때 알고리즘 트레이딩의 장점은 \n",
    "        - 사람과 비교할 수 없을 정도로 빠른 속도로 거래한다.\n",
    "        - 수학적 모델에 기반을 두고 결정하기 때문에 감정이 개입되지 않는다.\n",
    "        \n",
    "    알고리즘 트레이딩의 부정적인 면은\n",
    "        - 너무 많은 거래를 발생시켜 시장의 변화를 빠르게 하고 교란시켜 혼란을 줄 수 있다.\n",
    "        - 어떤 특정 상황에, 비슷한 알고리즘 모델을 사용하는 경우, 대량의 매도 주문이 발생하여 시장을 폭락시킬 가능성이 있다.\n",
    "        - 프로그램의 오류나 수학적 모델의 실패가 있을 수 있다.\n",
    "        \n",
    "    "
   ]
  },
  {
   "cell_type": "markdown",
   "metadata": {},
   "source": [
    "# 알고리즘 트레이딩 모델\n",
    "\n",
    "    알파모델(Alpha Model)\n",
    "        - 시장 평균수익보다 월등한 수익을 내는 모델\n",
    "    베타모델(Beta Model)\n",
    "        - 시장 평균과 유사하거나 약간 웃도는 정도의 수익을 내는 모델\n",
    "        \n",
    "    \n",
    "    알고리즘 트레이딩은 알파 모델을 구현하는 것으로 한다. 크게 2가지 접근방법이 있다.\n",
    "    - Theory-Driven\n",
    "        - 어떤 모델을 가정하고 그 모델이 맞는지 틀리는지를 검증하는 방법\n",
    "        - 모델에 대한 이해도를 높이기 때문에 알고리즘 트레이딩을 하는 많은 사람들이 선호하는 방식\n",
    "        - 어떤 가설을 세우고, 이를 기반으로 알파 모델을 만들기 때문에 모델 설계자의 측면에서 보면 자신의 모델이 무엇인지, 어떤 변수가 어떻게 영향을 미치는지를 파악할 수 있음\n",
    "        - Top-down Approach\n",
    "    - Data-Driven\n",
    "        - 데이터를 분석해 패턴을 찾고 이를 알파 모델로 만드는 방법\n",
    "        - 뚜렷한 가설이나 이론적 배경 없이 데이터를 분석하면서 지식을 쌓아가는 방식\n",
    "        - Bottom-up Approach"
   ]
  },
  {
   "cell_type": "markdown",
   "metadata": {},
   "source": [
    "# 평균회귀 모델\n",
    "\n",
    "    Theory-Driven의 대표적인 모델에는 평균 회귀 모델이 있다.\n",
    "    \n",
    "    평균 회귀 모델의 기본 가정은 다음과 같다.\n",
    "    - 시계열 데이터는 과거의 평균값으로 회귀하려는 경향이 있다.\n",
    "    - 어떤 변수가 정규분포를 따른다면 평균에 가까이 갈 확률이 높아진다.\n",
    "        - 즉, 현시점의 주가가 평균주가보다 낮으면 주가가 올라갈 것이고\n",
    "        - 반대로 현주가가 평균주가보다 높으면 주가가 내려가려 하는 경향을 보일 것이다.\n",
    "        \n",
    "    평균회귀 모델을 적용하려면, 적용하려는 주가 데이터가 랜덤워크인지 아닌지를 파악해야 한다.\n",
    "    (다른 말로, 정상성(Stationarity)의 특성을 갖는가 아닌가(Non-Stationarity)를 판단하는 것)\n",
    "\n",
    "**랜덤워크**\n",
    "\n",
    ">    랜덤워크는 다음 행보가 이전 행보에 영향을 받지 않는 독립적인 사건이라는 것을 의미함\n",
    ">    \n",
    ">    주가 데이터가 랜덤워크를 보인다는 것은 주가의 흐름이 이전의 데이터와 상관없이 결정된다는 의미이다. --> 평균회귀 모델을 적용할 수 없음<br>\n",
    ">    주가 데이터가 평균으로 회귀하려면 이전의 데이터가 현재 데이터에 영향을 미쳐 평균으로 회귀하도록 해야 한다.<br>\n",
    ">    즉 데이터들끼리는 비독립적이어야 한다.    \n",
    "    \n",
    "    평균회귀 모델을 적용할 수 있는 시계열인지 아닌지를 판별하기 위해 사용하는 방법은 다음의 두 가지다.\n",
    "    - ADF(Augmented Dickey-Fuller) 테스트\n",
    "    - 허스트 지수(Hurst Exponent)\n",
    "    - 평균회귀의 Half-life\n",
    "    \n",
    "**ADF 테스트**\n",
    "\n",
    "    어떤 주가 데이터가 평균회귀 성질을 갖고 있다면,\n",
    "    현주가는 다음의 주가가 어떻게 될지를 예측할 수 있는\n",
    "    통계적 정보를 포함하고 있다.\n",
    "    \n",
    "    현주가가 평균보다 낮다면,\n",
    "    주가가 위로 향하는 방향성을 가질 확률이 높다고 할 수 있다.\n",
    "    \n",
    "    ADF테스트는 '어떤 시계열 데이터가 랜덤워크를 따른다'는 가설을 세우고,\n",
    "    이 가설이 참인지 거짓인지를 판단하는 방법이다.\n",
    "    만약, 참이라면 해당 시계열 데이터는 평균회귀 모델을 적용할 수 없는 시계열 데이터이며\n",
    "    만약, 거짓이라면 해당 시계열 데이터는 평균회귀 모델을 적용하기 적합한 시계열 데이터이다.\n",
    "    \n"
   ]
  },
  {
   "cell_type": "code",
   "execution_count": 9,
   "metadata": {},
   "outputs": [],
   "source": [
    "import pickle\n",
    "import statsmodels.tsa.stattools as ts\n",
    "# from pandas.core import datetools as ts"
   ]
  },
  {
   "cell_type": "code",
   "execution_count": 10,
   "metadata": {},
   "outputs": [],
   "source": [
    "dbtable_arg =\"TRADE_BTC\"\n",
    "start_time_arg =  '2017-12-14 01:20:00'\n",
    "end_time_arg =  '2017-12-14 03:30:00'\n",
    "exchange_arg =  'bithumb'\n",
    "time_interval_arg = 5\n",
    "Spark_app_name = dbtable_arg + '|' + start_time_arg + '|' + end_time_arg + '|'  + exchange_arg + '|' + str(time_interval_arg )"
   ]
  },
  {
   "cell_type": "code",
   "execution_count": 12,
   "metadata": {},
   "outputs": [],
   "source": [
    "f = open(Spark_app_name+'.pickle', 'rb')\n",
    "bithumb = pickle.load(f)\n",
    "bithumb\n",
    "\n",
    "bithumb_price = pd.DataFrame({'open': bithumb['open'], \n",
    "                                 'high': bithumb['high'],\n",
    "                                 'low': bithumb['low'],\n",
    "                                 'close': bithumb['close']})\n",
    "# bithumb_price"
   ]
  },
  {
   "cell_type": "code",
   "execution_count": 32,
   "metadata": {},
   "outputs": [
    {
     "data": {
      "text/plain": [
       "(-2.9261445175567653,\n",
       " 0.042391124260786409,\n",
       " 4,\n",
       " 21,\n",
       " {'1%': -3.7883858816542486,\n",
       "  '10%': -2.6463967573696143,\n",
       "  '5%': -3.0130977475434619},\n",
       " 399.22227911696854)"
      ]
     },
     "execution_count": 32,
     "metadata": {},
     "output_type": "execute_result"
    }
   ],
   "source": [
    "adf_result = ts.adfuller(bithumb_price['close'])\n",
    "adf_result"
   ]
  },
  {
   "cell_type": "markdown",
   "metadata": {},
   "source": [
    "** adfuller 함수 **\n",
    "\n",
    "http://www.statsmodels.org/stable/generated/statsmodels.tsa.stattools.adfuller.html?highlight=adfuller#statsmodels.tsa.stattools.adfuller\n",
    "\n",
    "    statsmodels.tsa.stattools.adfuller(x, maxlag=None, regression='c', autolag='AIC', store=False, regresults=False)\n",
    "    \n",
    "    \n",
    "    Parameters:\n",
    "        x : array_like, 1d\n",
    "            data series\n",
    "        ...\n",
    "        \n",
    "    Returns:\t\n",
    "        adf : float\n",
    "            Test statistic\n",
    "\n",
    "        pvalue : float\n",
    "            MacKinnon’s approximate p-value based on MacKinnon (1994, 2010)\n",
    "\n",
    "        usedlag : int\n",
    "            Number of lags used\n",
    "\n",
    "        nobs : int\n",
    "            Number of observations used for the ADF regression and calculation of the critical values\n",
    "\n",
    "        critical values : dict\n",
    "            Critical values for the test statistic at the 1 %, 5 %, and 10 % levels. Based on MacKinnon (2010)\n",
    "\n",
    "        icbest : float\n",
    "            The maximized information criterion if autolag is not None.\n",
    "\n",
    "        resstore : ResultStore, optional\n",
    "            A dummy class with results attached as attributes"
   ]
  },
  {
   "cell_type": "code",
   "execution_count": 31,
   "metadata": {},
   "outputs": [
    {
     "name": "stdout",
     "output_type": "stream",
     "text": [
      "0     18438000.0\n",
      "1     18441000.0\n",
      "2     18410000.0\n",
      "3     18375000.0\n",
      "4     18310000.0\n",
      "5     18303000.0\n",
      "6     18277000.0\n",
      "7     18249000.0\n",
      "8     18187000.0\n",
      "9     18101000.0\n",
      "10    18200000.0\n",
      "11    18138000.0\n",
      "12    18152000.0\n",
      "13    18232000.0\n",
      "14    18277000.0\n",
      "15    18294000.0\n",
      "16    18397000.0\n",
      "17    18388000.0\n",
      "18    18378000.0\n",
      "19    18354000.0\n",
      "20    18296000.0\n",
      "21    18027000.0\n",
      "22    18123000.0\n",
      "23    18008000.0\n",
      "24    18050000.0\n",
      "25    18004000.0\n",
      "Name: close, dtype: float64\n",
      "<class 'pandas.core.series.Series'>\n",
      "(26,)\n"
     ]
    }
   ],
   "source": [
    "print(bithumb_price['close'])\n",
    "print(type(bithumb_price['close']))\n",
    "print(bithumb_price['close'].shape)"
   ]
  },
  {
   "cell_type": "markdown",
   "metadata": {},
   "source": [
    "**실행결과**\n",
    "\n",
    ">(-2.9261445175567653, : 가설 통계량(Test Statistic)<br>\n",
    "> 0.042391124260786409,<br>\n",
    "> 4,<br>\n",
    "> 21,<br>\n",
    "> {'1%': -3.7883858816542486, : 1% 기각값(Critical Value)<br>\n",
    ">  '10%': -2.6463967573696143, : 10% 기각값(Critical Value)<br>\n",
    ">  '5%': -3.0130977475434619}, : 5% 기각값(Critical Value)<br>\n",
    "> 399.22227911696854)\n",
    "\n",
    "    가설을 기각해야 해당 시계열 데이터가 평균회귀 모델에 적합하다고 할 수 있다.\n",
    "    그러기 위해 검정 통계량 값이 1%, 5%, 10% 기각값 중 어느 하나보다도 작아야 한다.\n",
    "    \n",
    "    현재 2017/12/14 01:20:00부터 2017/12/14 03:30:00까지의 bithumb거래소의 BTC코인 데이터 중 close 데이터는 \n",
    "    검정 통계량은 -2.926으로서 10% 기각값인 -2.646보다 작기 때문에 가설을 기각할 수 있다.\n",
    "    결론적으로 위 시계열 데이터는 평균회귀 모델을 적용할 수 있는 모델이다.\n",
    "    \n",
    "    대부분의 주가 데이터는 랜덤워크다.\n",
    "    평균회귀는 단지 예로 든 것"
   ]
  },
  {
   "cell_type": "code",
   "execution_count": 19,
   "metadata": {},
   "outputs": [
    {
     "data": {
      "text/plain": [
       "(-2.088081975286701,\n",
       " 0.24933382476908794,\n",
       " 6,\n",
       " 19,\n",
       " {'1%': -3.8326031418574136,\n",
       "  '10%': -2.6555195844875348,\n",
       "  '5%': -3.0312271701414204},\n",
       " 402.42121420219257)"
      ]
     },
     "execution_count": 19,
     "metadata": {},
     "output_type": "execute_result"
    }
   ],
   "source": [
    "adf_result_o = ts.adfuller(bithumb_price['open'])\n",
    "adf_result_o"
   ]
  },
  {
   "cell_type": "code",
   "execution_count": 21,
   "metadata": {},
   "outputs": [
    {
     "data": {
      "text/plain": [
       "(-3.0427564114270145,\n",
       " 0.0310898534216471,\n",
       " 4,\n",
       " 21,\n",
       " {'1%': -3.7883858816542486,\n",
       "  '10%': -2.6463967573696143,\n",
       "  '5%': -3.0130977475434619},\n",
       " 403.11828877114152)"
      ]
     },
     "execution_count": 21,
     "metadata": {},
     "output_type": "execute_result"
    }
   ],
   "source": [
    "adf_result_h = ts.adfuller(bithumb_price['high'])\n",
    "adf_result_h"
   ]
  },
  {
   "cell_type": "code",
   "execution_count": 22,
   "metadata": {},
   "outputs": [
    {
     "data": {
      "text/plain": [
       "(-0.94538201654211429,\n",
       " 0.7726605013462744,\n",
       " 9,\n",
       " 16,\n",
       " {'1%': -3.9240193847656246,\n",
       "  '10%': -2.6738926562500001,\n",
       "  '5%': -3.0684982031250003},\n",
       " 415.20693802690789)"
      ]
     },
     "execution_count": 22,
     "metadata": {},
     "output_type": "execute_result"
    }
   ],
   "source": [
    "adf_result_l = ts.adfuller(bithumb_price['low'])\n",
    "adf_result_l"
   ]
  },
  {
   "cell_type": "code",
   "execution_count": null,
   "metadata": {},
   "outputs": [],
   "source": []
  },
  {
   "cell_type": "markdown",
   "metadata": {},
   "source": [
    "# 평균회귀 모델 구현 개요\n",
    "\n",
    "    평균 회귀 모델의 기본 개념은 \n",
    "    주가가 평균보다 낮으면 주식을 매입하고\n",
    "    반대로 평균보다 높으면 주식을 매도해 수익을 만드는 것이다.\n",
    "    \n",
    "    평균 회귀 모델을 완성하려면 다음의 3가지 사항을 결정해야 한다.\n",
    "    - 평균 정의\n",
    "        주가 매도, 주가 매수의 비교치로 사용될 평균을 어떻게 구할지를 정해야 한다.\n",
    "        평균은 매도, 매수를 알려주는 일종의 신호로 활용된다.\n",
    "        예를 들면, 10일치의 이동평균, 30일치의 이동평균 등으로 평균을 정할 수 있다.\n",
    "    - 매도, 매수 기준\n",
    "        주가가 평균보다 높아지는 순간에 매도할지,\n",
    "        아니면 평균과 주가의 차이가 2배 이상 될 때 매도할지 등의\n",
    "        매도, 매수의 기준을 결정해야 한다.\n",
    "        간단히 선택하기 힘든 문제.\n",
    "        \n",
    "        기준이 너무 낮으면 큰 이익을 보지 못하고\n",
    "        기준이 너무 높으면 매도나 매수 시기를 놓치게 된다.\n",
    "        확률적으로 표준편차의 값을 기준으로 선택하는 것이 안전하다.\n",
    "<img src=\"https://goo.gl/XkApWD\" width=\"50%\"></img>\n",
    "        \n",
    "        이동평균과 주가의 차이가 표준편차보다 크면 매도나 매수를 실행한다.\n",
    "        - | 주가 - 이동평균 | > sigma\n",
    "            -    매도: 주가 - 이동평균 > 0\n",
    "            -    매수: 주가 - 이동평균 < 0\n",
    "        \n",
    "    - 데이터 선택\n",
    "        트레이딩에 사용할 데이터를 선택하는 것.\n",
    "        종가를 사용할지 시가를 사용할지 등을 선택한다.\n",
    "        간단히 선택하기 힘든 문제.\n",
    "        \n",
    "**슈도코드**\n",
    "\n",
    "    price_moving_average = rolling_mean(종가,10)\n",
    "    price_standard_deviation = rolling_std(종가,10)\n",
    "    diff = price - price_moving_average\n",
    "    if |diff| > price_standard_deviation :\n",
    "        if diff > 0:\n",
    "            sell_stock()\n",
    "        else:\n",
    "            buy_stock()\n",
    "\n"
   ]
  },
  {
   "cell_type": "code",
   "execution_count": null,
   "metadata": {},
   "outputs": [],
   "source": []
  },
  {
   "cell_type": "markdown",
   "metadata": {},
   "source": [
    "# 머신러닝 모델\n",
    "\n",
    "    평균회귀 모델이 가설을 세우고 가설에 맞는 모델을 완성해 나가는 과정이라면\n",
    "    머신러닝 모델은 특별한 이론 없이 데이터로부터 모델을 생성해나가는 것이다.\n",
    "    \n",
    "    머신러닝에서 가장 중요한 것은 머신러닝 알고리즘이나 컴퓨팅 파워가 아닌 데이터인데, \n",
    "    특히 입력변수로 무엇을 선정할지를 고민해야 한다.\n",
    "    출력변수에 영향을 미치는 입력변수가 많을수록 예측력이 높지만, 반드시 많다고 좋은 것은 아니다.\n",
    "    \n",
    "    알고리즘 트레이딩에서 사용할 수 있는 입력변수의 예에 대하여 책에서는 다음과 같이 제시된다.\n",
    "    \n",
    "    - 주가 데이터\n",
    "    - 거래량 데이터\n",
    "    - 지수 데이터\n",
    "    - 외부 데이터\n",
    "        - 환율, 뉴스 데이터 등\n",
    "    - 기업 데이터\n",
    "        - 매출액, 영업이익률 등\n",
    "        \n",
    "# 회귀냐, 분류냐\n",
    "\n",
    "    머신러닝을 이용해 주가 자체를 예측하려 한다면 회귀 문제로 정의해야 하고\n",
    "    주가의 방향이 오를지 내릴지를 알고 싶다면 분류 문제로 정의해야 한다.\n",
    "    \n",
    "    주가는 랜덤워크이기 때문에\n",
    "    미래의 주가가 현재의 주가에 영향을 받지 않는 독립적인 관계에 있다.\n",
    "    따라서 주가가 상승하거나 하락할 확률은 50%로서 동전 던지기 처럼 오르냐 내리냐의 분류 문제로 정의할 수 있다.\n",
    "    이 책에서는 그래서 분류로 모델을 만들고자 한다.\n",
    "    \n",
    "    "
   ]
  },
  {
   "cell_type": "code",
   "execution_count": null,
   "metadata": {},
   "outputs": [],
   "source": []
  }
 ],
 "metadata": {
  "colab": {
   "default_view": {},
   "name": "trade.ipynb",
   "provenance": [],
   "version": "0.3.2",
   "views": {}
  },
  "kernelspec": {
   "display_name": "Python 3",
   "language": "python",
   "name": "python3"
  },
  "language_info": {
   "codemirror_mode": {
    "name": "ipython",
    "version": 3
   },
   "file_extension": ".py",
   "mimetype": "text/x-python",
   "name": "python",
   "nbconvert_exporter": "python",
   "pygments_lexer": "ipython3",
   "version": "3.6.3"
  }
 },
 "nbformat": 4,
 "nbformat_minor": 2
}
