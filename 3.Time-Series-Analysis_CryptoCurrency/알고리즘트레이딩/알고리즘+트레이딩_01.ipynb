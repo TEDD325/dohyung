{
 "cells": [
  {
   "cell_type": "markdown",
   "metadata": {},
   "source": [
    "https://finance.yahoo.com"
   ]
  },
  {
   "cell_type": "markdown",
   "metadata": {},
   "source": [
    "# 데이터 다운로드"
   ]
  },
  {
   "cell_type": "code",
   "execution_count": 1,
   "metadata": {
    "collapsed": true
   },
   "outputs": [],
   "source": [
    "import pandas as pd\n",
    "import pickle\n",
    "import numpy as np\n",
    "import pandas_datareader as pdr # pip install pandas-datareader\n",
    "import datetime\n",
    "import matplotlib.pyplot as plt"
   ]
  },
  {
   "cell_type": "markdown",
   "metadata": {},
   "source": [
    "** download_stock_data(file_name, company_code, year1, month1, date1, year2, month2, date2) **\n",
    "\n",
    "    \n",
    "    download_stock_data()\n",
    "        주가 데이터를 다운로드 하는 함수\n",
    "    \n",
    "    file_name            : 다운로드 한 주가 데이터를 저장할 파일 이름 지정\n",
    "    company_code         : 종목코드 지정(005930 : 삼성전자)\n",
    "    year1, month1, date1 : 시작 년,월,일\n",
    "    year2, month2, date2 : 마감 년,월,일\n",
    "    \n",
    "    야후 파이낸스에서 다운로드하는 데이터는 일간 데이터(시간, 분, 초 단위의 주가 데이터는 제공하지 않음)"
   ]
  },
  {
   "cell_type": "code",
   "execution_count": 2,
   "metadata": {
    "collapsed": true
   },
   "outputs": [],
   "source": [
    "def download_stock_data(file_name, company_code, year1, month1, date1, year2, month2, date2):\n",
    "   \n",
    "    start = datetime.datetime(year1, month1, date1)\n",
    "    end = datetime.datetime(year2, month2, date2)\n",
    "    #df = wb.DataReader(\"%s.KS\" % (company_code), \"yahoo\", start, end)\n",
    "    #https://github.com/pydata/pandas-datareader\n",
    "    df = pdr.get_data_yahoo(\"%s.KS\" % (company_code), start, end)\n",
    "    \n",
    "    df.to_pickle(file_name)\n",
    "    \n",
    "    return df"
   ]
  },
  {
   "cell_type": "code",
   "execution_count": 3,
   "metadata": {
    "collapsed": true
   },
   "outputs": [],
   "source": [
    "data = download_stock_data('samsung.data', '005930', 2015,1,1,2015,11,30)"
   ]
  },
  {
   "cell_type": "code",
   "execution_count": 4,
   "metadata": {},
   "outputs": [
    {
     "name": "stdout",
     "output_type": "stream",
     "text": [
      "\u001b[34m__pycache__\u001b[m\u001b[m\r\n",
      "config.py\r\n",
      "derby.log\r\n",
      "\u001b[34mmetastore_db\u001b[m\u001b[m\r\n",
      "samsung.data\r\n",
      "\u001b[34mspark-warehouse\u001b[m\u001b[m\r\n",
      "trade.py\r\n",
      "알고리즘+트레이딩_01.ipynb\r\n",
      "알고리즘 트레이딩_01_ex.ipynb\r\n"
     ]
    }
   ],
   "source": [
    "! ls"
   ]
  },
  {
   "cell_type": "code",
   "execution_count": 7,
   "metadata": {},
   "outputs": [
    {
     "data": {
      "text/plain": [
       "pandas.core.frame.DataFrame"
      ]
     },
     "execution_count": 7,
     "metadata": {},
     "output_type": "execute_result"
    }
   ],
   "source": [
    "type(data)"
   ]
  },
  {
   "cell_type": "code",
   "execution_count": 5,
   "metadata": {
    "scrolled": true
   },
   "outputs": [
    {
     "data": {
      "text/html": [
       "<div>\n",
       "<style>\n",
       "    .dataframe thead tr:only-child th {\n",
       "        text-align: right;\n",
       "    }\n",
       "\n",
       "    .dataframe thead th {\n",
       "        text-align: left;\n",
       "    }\n",
       "\n",
       "    .dataframe tbody tr th {\n",
       "        vertical-align: top;\n",
       "    }\n",
       "</style>\n",
       "<table border=\"1\" class=\"dataframe\">\n",
       "  <thead>\n",
       "    <tr style=\"text-align: right;\">\n",
       "      <th></th>\n",
       "      <th>Open</th>\n",
       "      <th>High</th>\n",
       "      <th>Low</th>\n",
       "      <th>Close</th>\n",
       "      <th>Adj Close</th>\n",
       "      <th>Volume</th>\n",
       "    </tr>\n",
       "    <tr>\n",
       "      <th>Date</th>\n",
       "      <th></th>\n",
       "      <th></th>\n",
       "      <th></th>\n",
       "      <th></th>\n",
       "      <th></th>\n",
       "      <th></th>\n",
       "    </tr>\n",
       "  </thead>\n",
       "  <tbody>\n",
       "    <tr>\n",
       "      <th>2015-01-02</th>\n",
       "      <td>1340000.0</td>\n",
       "      <td>1340000.0</td>\n",
       "      <td>1327000.0</td>\n",
       "      <td>1330000.0</td>\n",
       "      <td>1275507.750</td>\n",
       "      <td>175499</td>\n",
       "    </tr>\n",
       "    <tr>\n",
       "      <th>2015-01-05</th>\n",
       "      <td>1336000.0</td>\n",
       "      <td>1336000.0</td>\n",
       "      <td>1313000.0</td>\n",
       "      <td>1333000.0</td>\n",
       "      <td>1278385.000</td>\n",
       "      <td>202790</td>\n",
       "    </tr>\n",
       "    <tr>\n",
       "      <th>2015-01-06</th>\n",
       "      <td>1315000.0</td>\n",
       "      <td>1317000.0</td>\n",
       "      <td>1288000.0</td>\n",
       "      <td>1295000.0</td>\n",
       "      <td>1241941.875</td>\n",
       "      <td>304710</td>\n",
       "    </tr>\n",
       "    <tr>\n",
       "      <th>2015-01-07</th>\n",
       "      <td>1294000.0</td>\n",
       "      <td>1311000.0</td>\n",
       "      <td>1282000.0</td>\n",
       "      <td>1307000.0</td>\n",
       "      <td>1253450.125</td>\n",
       "      <td>286455</td>\n",
       "    </tr>\n",
       "    <tr>\n",
       "      <th>2015-01-08</th>\n",
       "      <td>1339000.0</td>\n",
       "      <td>1339000.0</td>\n",
       "      <td>1310000.0</td>\n",
       "      <td>1314000.0</td>\n",
       "      <td>1260163.500</td>\n",
       "      <td>289552</td>\n",
       "    </tr>\n",
       "    <tr>\n",
       "      <th>2015-01-09</th>\n",
       "      <td>1314000.0</td>\n",
       "      <td>1322000.0</td>\n",
       "      <td>1314000.0</td>\n",
       "      <td>1314000.0</td>\n",
       "      <td>1260163.500</td>\n",
       "      <td>186248</td>\n",
       "    </tr>\n",
       "    <tr>\n",
       "      <th>2015-01-12</th>\n",
       "      <td>1313000.0</td>\n",
       "      <td>1319000.0</td>\n",
       "      <td>1301000.0</td>\n",
       "      <td>1316000.0</td>\n",
       "      <td>1262081.375</td>\n",
       "      <td>166508</td>\n",
       "    </tr>\n",
       "    <tr>\n",
       "      <th>2015-01-13</th>\n",
       "      <td>1314000.0</td>\n",
       "      <td>1340000.0</td>\n",
       "      <td>1300000.0</td>\n",
       "      <td>1339000.0</td>\n",
       "      <td>1284139.125</td>\n",
       "      <td>245868</td>\n",
       "    </tr>\n",
       "    <tr>\n",
       "      <th>2015-01-14</th>\n",
       "      <td>1339000.0</td>\n",
       "      <td>1355000.0</td>\n",
       "      <td>1335000.0</td>\n",
       "      <td>1345000.0</td>\n",
       "      <td>1289893.250</td>\n",
       "      <td>286645</td>\n",
       "    </tr>\n",
       "    <tr>\n",
       "      <th>2015-01-15</th>\n",
       "      <td>1345000.0</td>\n",
       "      <td>1349000.0</td>\n",
       "      <td>1329000.0</td>\n",
       "      <td>1334000.0</td>\n",
       "      <td>1279343.875</td>\n",
       "      <td>282078</td>\n",
       "    </tr>\n",
       "    <tr>\n",
       "      <th>2015-01-16</th>\n",
       "      <td>1334000.0</td>\n",
       "      <td>1334000.0</td>\n",
       "      <td>1313000.0</td>\n",
       "      <td>1316000.0</td>\n",
       "      <td>1262081.375</td>\n",
       "      <td>271370</td>\n",
       "    </tr>\n",
       "    <tr>\n",
       "      <th>2015-01-19</th>\n",
       "      <td>1329000.0</td>\n",
       "      <td>1349000.0</td>\n",
       "      <td>1320000.0</td>\n",
       "      <td>1343000.0</td>\n",
       "      <td>1287975.125</td>\n",
       "      <td>133459</td>\n",
       "    </tr>\n",
       "    <tr>\n",
       "      <th>2015-01-20</th>\n",
       "      <td>1350000.0</td>\n",
       "      <td>1372000.0</td>\n",
       "      <td>1345000.0</td>\n",
       "      <td>1372000.0</td>\n",
       "      <td>1315787.000</td>\n",
       "      <td>265561</td>\n",
       "    </tr>\n",
       "    <tr>\n",
       "      <th>2015-01-21</th>\n",
       "      <td>1367000.0</td>\n",
       "      <td>1395000.0</td>\n",
       "      <td>1360000.0</td>\n",
       "      <td>1395000.0</td>\n",
       "      <td>1337844.625</td>\n",
       "      <td>332253</td>\n",
       "    </tr>\n",
       "    <tr>\n",
       "      <th>2015-01-22</th>\n",
       "      <td>1398000.0</td>\n",
       "      <td>1399000.0</td>\n",
       "      <td>1378000.0</td>\n",
       "      <td>1378000.0</td>\n",
       "      <td>1321541.125</td>\n",
       "      <td>359154</td>\n",
       "    </tr>\n",
       "    <tr>\n",
       "      <th>2015-01-23</th>\n",
       "      <td>1400000.0</td>\n",
       "      <td>1400000.0</td>\n",
       "      <td>1377000.0</td>\n",
       "      <td>1386000.0</td>\n",
       "      <td>1329213.375</td>\n",
       "      <td>257175</td>\n",
       "    </tr>\n",
       "    <tr>\n",
       "      <th>2015-01-26</th>\n",
       "      <td>1375000.0</td>\n",
       "      <td>1395000.0</td>\n",
       "      <td>1364000.0</td>\n",
       "      <td>1389000.0</td>\n",
       "      <td>1332090.500</td>\n",
       "      <td>203070</td>\n",
       "    </tr>\n",
       "    <tr>\n",
       "      <th>2015-01-27</th>\n",
       "      <td>1375000.0</td>\n",
       "      <td>1400000.0</td>\n",
       "      <td>1374000.0</td>\n",
       "      <td>1400000.0</td>\n",
       "      <td>1342639.875</td>\n",
       "      <td>199144</td>\n",
       "    </tr>\n",
       "    <tr>\n",
       "      <th>2015-01-28</th>\n",
       "      <td>1386000.0</td>\n",
       "      <td>1390000.0</td>\n",
       "      <td>1374000.0</td>\n",
       "      <td>1378000.0</td>\n",
       "      <td>1321541.125</td>\n",
       "      <td>216630</td>\n",
       "    </tr>\n",
       "    <tr>\n",
       "      <th>2015-01-29</th>\n",
       "      <td>1368000.0</td>\n",
       "      <td>1395000.0</td>\n",
       "      <td>1357000.0</td>\n",
       "      <td>1360000.0</td>\n",
       "      <td>1304278.625</td>\n",
       "      <td>274045</td>\n",
       "    </tr>\n",
       "    <tr>\n",
       "      <th>2015-01-30</th>\n",
       "      <td>1360000.0</td>\n",
       "      <td>1377000.0</td>\n",
       "      <td>1360000.0</td>\n",
       "      <td>1365000.0</td>\n",
       "      <td>1309073.875</td>\n",
       "      <td>322200</td>\n",
       "    </tr>\n",
       "    <tr>\n",
       "      <th>2015-02-02</th>\n",
       "      <td>1365000.0</td>\n",
       "      <td>1377000.0</td>\n",
       "      <td>1356000.0</td>\n",
       "      <td>1368000.0</td>\n",
       "      <td>1311950.750</td>\n",
       "      <td>210420</td>\n",
       "    </tr>\n",
       "    <tr>\n",
       "      <th>2015-02-03</th>\n",
       "      <td>1380000.0</td>\n",
       "      <td>1380000.0</td>\n",
       "      <td>1359000.0</td>\n",
       "      <td>1366000.0</td>\n",
       "      <td>1310032.875</td>\n",
       "      <td>113088</td>\n",
       "    </tr>\n",
       "    <tr>\n",
       "      <th>2015-02-04</th>\n",
       "      <td>1375000.0</td>\n",
       "      <td>1381000.0</td>\n",
       "      <td>1359000.0</td>\n",
       "      <td>1359000.0</td>\n",
       "      <td>1303319.750</td>\n",
       "      <td>186578</td>\n",
       "    </tr>\n",
       "    <tr>\n",
       "      <th>2015-02-05</th>\n",
       "      <td>1359000.0</td>\n",
       "      <td>1369000.0</td>\n",
       "      <td>1346000.0</td>\n",
       "      <td>1358000.0</td>\n",
       "      <td>1302360.500</td>\n",
       "      <td>135408</td>\n",
       "    </tr>\n",
       "    <tr>\n",
       "      <th>2015-02-06</th>\n",
       "      <td>1346000.0</td>\n",
       "      <td>1374000.0</td>\n",
       "      <td>1336000.0</td>\n",
       "      <td>1372000.0</td>\n",
       "      <td>1315787.000</td>\n",
       "      <td>160101</td>\n",
       "    </tr>\n",
       "    <tr>\n",
       "      <th>2015-02-09</th>\n",
       "      <td>1360000.0</td>\n",
       "      <td>1399000.0</td>\n",
       "      <td>1357000.0</td>\n",
       "      <td>1395000.0</td>\n",
       "      <td>1337844.625</td>\n",
       "      <td>173870</td>\n",
       "    </tr>\n",
       "    <tr>\n",
       "      <th>2015-02-10</th>\n",
       "      <td>1400000.0</td>\n",
       "      <td>1400000.0</td>\n",
       "      <td>1377000.0</td>\n",
       "      <td>1378000.0</td>\n",
       "      <td>1321541.125</td>\n",
       "      <td>130387</td>\n",
       "    </tr>\n",
       "    <tr>\n",
       "      <th>2015-02-11</th>\n",
       "      <td>1374000.0</td>\n",
       "      <td>1374000.0</td>\n",
       "      <td>1354000.0</td>\n",
       "      <td>1355000.0</td>\n",
       "      <td>1299483.500</td>\n",
       "      <td>199476</td>\n",
       "    </tr>\n",
       "    <tr>\n",
       "      <th>2015-02-12</th>\n",
       "      <td>1340000.0</td>\n",
       "      <td>1358000.0</td>\n",
       "      <td>1331000.0</td>\n",
       "      <td>1344000.0</td>\n",
       "      <td>1288934.250</td>\n",
       "      <td>214964</td>\n",
       "    </tr>\n",
       "    <tr>\n",
       "      <th>...</th>\n",
       "      <td>...</td>\n",
       "      <td>...</td>\n",
       "      <td>...</td>\n",
       "      <td>...</td>\n",
       "      <td>...</td>\n",
       "      <td>...</td>\n",
       "    </tr>\n",
       "    <tr>\n",
       "      <th>2015-10-20</th>\n",
       "      <td>1260000.0</td>\n",
       "      <td>1273000.0</td>\n",
       "      <td>1256000.0</td>\n",
       "      <td>1266000.0</td>\n",
       "      <td>1215080.750</td>\n",
       "      <td>150347</td>\n",
       "    </tr>\n",
       "    <tr>\n",
       "      <th>2015-10-21</th>\n",
       "      <td>1265000.0</td>\n",
       "      <td>1282000.0</td>\n",
       "      <td>1259000.0</td>\n",
       "      <td>1270000.0</td>\n",
       "      <td>1218919.875</td>\n",
       "      <td>139567</td>\n",
       "    </tr>\n",
       "    <tr>\n",
       "      <th>2015-10-22</th>\n",
       "      <td>1280000.0</td>\n",
       "      <td>1295000.0</td>\n",
       "      <td>1269000.0</td>\n",
       "      <td>1280000.0</td>\n",
       "      <td>1228517.875</td>\n",
       "      <td>230673</td>\n",
       "    </tr>\n",
       "    <tr>\n",
       "      <th>2015-10-23</th>\n",
       "      <td>1300000.0</td>\n",
       "      <td>1300000.0</td>\n",
       "      <td>1278000.0</td>\n",
       "      <td>1289000.0</td>\n",
       "      <td>1237155.750</td>\n",
       "      <td>263071</td>\n",
       "    </tr>\n",
       "    <tr>\n",
       "      <th>2015-10-26</th>\n",
       "      <td>1298000.0</td>\n",
       "      <td>1298000.0</td>\n",
       "      <td>1272000.0</td>\n",
       "      <td>1292000.0</td>\n",
       "      <td>1240035.000</td>\n",
       "      <td>152165</td>\n",
       "    </tr>\n",
       "    <tr>\n",
       "      <th>2015-10-27</th>\n",
       "      <td>1282000.0</td>\n",
       "      <td>1299000.0</td>\n",
       "      <td>1281000.0</td>\n",
       "      <td>1298000.0</td>\n",
       "      <td>1245793.750</td>\n",
       "      <td>132241</td>\n",
       "    </tr>\n",
       "    <tr>\n",
       "      <th>2015-10-28</th>\n",
       "      <td>1294000.0</td>\n",
       "      <td>1308000.0</td>\n",
       "      <td>1291000.0</td>\n",
       "      <td>1308000.0</td>\n",
       "      <td>1255391.625</td>\n",
       "      <td>271303</td>\n",
       "    </tr>\n",
       "    <tr>\n",
       "      <th>2015-10-29</th>\n",
       "      <td>1330000.0</td>\n",
       "      <td>1392000.0</td>\n",
       "      <td>1324000.0</td>\n",
       "      <td>1325000.0</td>\n",
       "      <td>1271707.625</td>\n",
       "      <td>630471</td>\n",
       "    </tr>\n",
       "    <tr>\n",
       "      <th>2015-10-30</th>\n",
       "      <td>1345000.0</td>\n",
       "      <td>1390000.0</td>\n",
       "      <td>1341000.0</td>\n",
       "      <td>1372000.0</td>\n",
       "      <td>1316817.500</td>\n",
       "      <td>509385</td>\n",
       "    </tr>\n",
       "    <tr>\n",
       "      <th>2015-11-02</th>\n",
       "      <td>1385000.0</td>\n",
       "      <td>1393000.0</td>\n",
       "      <td>1374000.0</td>\n",
       "      <td>1383000.0</td>\n",
       "      <td>1327375.125</td>\n",
       "      <td>386546</td>\n",
       "    </tr>\n",
       "    <tr>\n",
       "      <th>2015-11-03</th>\n",
       "      <td>1381000.0</td>\n",
       "      <td>1381000.0</td>\n",
       "      <td>1350000.0</td>\n",
       "      <td>1352000.0</td>\n",
       "      <td>1297621.750</td>\n",
       "      <td>301840</td>\n",
       "    </tr>\n",
       "    <tr>\n",
       "      <th>2015-11-04</th>\n",
       "      <td>1352000.0</td>\n",
       "      <td>1361000.0</td>\n",
       "      <td>1326000.0</td>\n",
       "      <td>1330000.0</td>\n",
       "      <td>1276506.750</td>\n",
       "      <td>281070</td>\n",
       "    </tr>\n",
       "    <tr>\n",
       "      <th>2015-11-05</th>\n",
       "      <td>1330000.0</td>\n",
       "      <td>1354000.0</td>\n",
       "      <td>1330000.0</td>\n",
       "      <td>1342000.0</td>\n",
       "      <td>1288024.000</td>\n",
       "      <td>173042</td>\n",
       "    </tr>\n",
       "    <tr>\n",
       "      <th>2015-11-06</th>\n",
       "      <td>1343000.0</td>\n",
       "      <td>1348000.0</td>\n",
       "      <td>1330000.0</td>\n",
       "      <td>1338000.0</td>\n",
       "      <td>1284185.000</td>\n",
       "      <td>164322</td>\n",
       "    </tr>\n",
       "    <tr>\n",
       "      <th>2015-11-09</th>\n",
       "      <td>1338000.0</td>\n",
       "      <td>1344000.0</td>\n",
       "      <td>1321000.0</td>\n",
       "      <td>1344000.0</td>\n",
       "      <td>1289943.625</td>\n",
       "      <td>185661</td>\n",
       "    </tr>\n",
       "    <tr>\n",
       "      <th>2015-11-10</th>\n",
       "      <td>1336000.0</td>\n",
       "      <td>1341000.0</td>\n",
       "      <td>1314000.0</td>\n",
       "      <td>1321000.0</td>\n",
       "      <td>1267868.625</td>\n",
       "      <td>197551</td>\n",
       "    </tr>\n",
       "    <tr>\n",
       "      <th>2015-11-11</th>\n",
       "      <td>1321000.0</td>\n",
       "      <td>1345000.0</td>\n",
       "      <td>1321000.0</td>\n",
       "      <td>1333000.0</td>\n",
       "      <td>1279386.000</td>\n",
       "      <td>140449</td>\n",
       "    </tr>\n",
       "    <tr>\n",
       "      <th>2015-11-12</th>\n",
       "      <td>1333000.0</td>\n",
       "      <td>1334000.0</td>\n",
       "      <td>1317000.0</td>\n",
       "      <td>1317000.0</td>\n",
       "      <td>1264029.500</td>\n",
       "      <td>157417</td>\n",
       "    </tr>\n",
       "    <tr>\n",
       "      <th>2015-11-13</th>\n",
       "      <td>1317000.0</td>\n",
       "      <td>1317000.0</td>\n",
       "      <td>1300000.0</td>\n",
       "      <td>1300000.0</td>\n",
       "      <td>1247713.250</td>\n",
       "      <td>177677</td>\n",
       "    </tr>\n",
       "    <tr>\n",
       "      <th>2015-11-16</th>\n",
       "      <td>1291000.0</td>\n",
       "      <td>1291000.0</td>\n",
       "      <td>1263000.0</td>\n",
       "      <td>1263000.0</td>\n",
       "      <td>1212201.375</td>\n",
       "      <td>275705</td>\n",
       "    </tr>\n",
       "    <tr>\n",
       "      <th>2015-11-17</th>\n",
       "      <td>1275000.0</td>\n",
       "      <td>1290000.0</td>\n",
       "      <td>1270000.0</td>\n",
       "      <td>1270000.0</td>\n",
       "      <td>1218919.875</td>\n",
       "      <td>186184</td>\n",
       "    </tr>\n",
       "    <tr>\n",
       "      <th>2015-11-18</th>\n",
       "      <td>1272000.0</td>\n",
       "      <td>1290000.0</td>\n",
       "      <td>1272000.0</td>\n",
       "      <td>1281000.0</td>\n",
       "      <td>1229477.500</td>\n",
       "      <td>167735</td>\n",
       "    </tr>\n",
       "    <tr>\n",
       "      <th>2015-11-19</th>\n",
       "      <td>1290000.0</td>\n",
       "      <td>1290000.0</td>\n",
       "      <td>1271000.0</td>\n",
       "      <td>1289000.0</td>\n",
       "      <td>1237155.750</td>\n",
       "      <td>192850</td>\n",
       "    </tr>\n",
       "    <tr>\n",
       "      <th>2015-11-20</th>\n",
       "      <td>1289000.0</td>\n",
       "      <td>1296000.0</td>\n",
       "      <td>1278000.0</td>\n",
       "      <td>1285000.0</td>\n",
       "      <td>1233316.625</td>\n",
       "      <td>168720</td>\n",
       "    </tr>\n",
       "    <tr>\n",
       "      <th>2015-11-23</th>\n",
       "      <td>1285000.0</td>\n",
       "      <td>1302000.0</td>\n",
       "      <td>1281000.0</td>\n",
       "      <td>1282000.0</td>\n",
       "      <td>1230437.375</td>\n",
       "      <td>198820</td>\n",
       "    </tr>\n",
       "    <tr>\n",
       "      <th>2015-11-24</th>\n",
       "      <td>1282000.0</td>\n",
       "      <td>1305000.0</td>\n",
       "      <td>1282000.0</td>\n",
       "      <td>1299000.0</td>\n",
       "      <td>1246753.250</td>\n",
       "      <td>159560</td>\n",
       "    </tr>\n",
       "    <tr>\n",
       "      <th>2015-11-25</th>\n",
       "      <td>1300000.0</td>\n",
       "      <td>1310000.0</td>\n",
       "      <td>1299000.0</td>\n",
       "      <td>1299000.0</td>\n",
       "      <td>1246753.250</td>\n",
       "      <td>142627</td>\n",
       "    </tr>\n",
       "    <tr>\n",
       "      <th>2015-11-26</th>\n",
       "      <td>1299000.0</td>\n",
       "      <td>1340000.0</td>\n",
       "      <td>1299000.0</td>\n",
       "      <td>1335000.0</td>\n",
       "      <td>1281305.625</td>\n",
       "      <td>185800</td>\n",
       "    </tr>\n",
       "    <tr>\n",
       "      <th>2015-11-27</th>\n",
       "      <td>1345000.0</td>\n",
       "      <td>1349000.0</td>\n",
       "      <td>1327000.0</td>\n",
       "      <td>1327000.0</td>\n",
       "      <td>1273627.500</td>\n",
       "      <td>169854</td>\n",
       "    </tr>\n",
       "    <tr>\n",
       "      <th>2015-11-30</th>\n",
       "      <td>1325000.0</td>\n",
       "      <td>1325000.0</td>\n",
       "      <td>1284000.0</td>\n",
       "      <td>1284000.0</td>\n",
       "      <td>1232356.875</td>\n",
       "      <td>534006</td>\n",
       "    </tr>\n",
       "  </tbody>\n",
       "</table>\n",
       "<p>228 rows × 6 columns</p>\n",
       "</div>"
      ],
      "text/plain": [
       "                 Open       High        Low      Close    Adj Close  Volume\n",
       "Date                                                                       \n",
       "2015-01-02  1340000.0  1340000.0  1327000.0  1330000.0  1275507.750  175499\n",
       "2015-01-05  1336000.0  1336000.0  1313000.0  1333000.0  1278385.000  202790\n",
       "2015-01-06  1315000.0  1317000.0  1288000.0  1295000.0  1241941.875  304710\n",
       "2015-01-07  1294000.0  1311000.0  1282000.0  1307000.0  1253450.125  286455\n",
       "2015-01-08  1339000.0  1339000.0  1310000.0  1314000.0  1260163.500  289552\n",
       "2015-01-09  1314000.0  1322000.0  1314000.0  1314000.0  1260163.500  186248\n",
       "2015-01-12  1313000.0  1319000.0  1301000.0  1316000.0  1262081.375  166508\n",
       "2015-01-13  1314000.0  1340000.0  1300000.0  1339000.0  1284139.125  245868\n",
       "2015-01-14  1339000.0  1355000.0  1335000.0  1345000.0  1289893.250  286645\n",
       "2015-01-15  1345000.0  1349000.0  1329000.0  1334000.0  1279343.875  282078\n",
       "2015-01-16  1334000.0  1334000.0  1313000.0  1316000.0  1262081.375  271370\n",
       "2015-01-19  1329000.0  1349000.0  1320000.0  1343000.0  1287975.125  133459\n",
       "2015-01-20  1350000.0  1372000.0  1345000.0  1372000.0  1315787.000  265561\n",
       "2015-01-21  1367000.0  1395000.0  1360000.0  1395000.0  1337844.625  332253\n",
       "2015-01-22  1398000.0  1399000.0  1378000.0  1378000.0  1321541.125  359154\n",
       "2015-01-23  1400000.0  1400000.0  1377000.0  1386000.0  1329213.375  257175\n",
       "2015-01-26  1375000.0  1395000.0  1364000.0  1389000.0  1332090.500  203070\n",
       "2015-01-27  1375000.0  1400000.0  1374000.0  1400000.0  1342639.875  199144\n",
       "2015-01-28  1386000.0  1390000.0  1374000.0  1378000.0  1321541.125  216630\n",
       "2015-01-29  1368000.0  1395000.0  1357000.0  1360000.0  1304278.625  274045\n",
       "2015-01-30  1360000.0  1377000.0  1360000.0  1365000.0  1309073.875  322200\n",
       "2015-02-02  1365000.0  1377000.0  1356000.0  1368000.0  1311950.750  210420\n",
       "2015-02-03  1380000.0  1380000.0  1359000.0  1366000.0  1310032.875  113088\n",
       "2015-02-04  1375000.0  1381000.0  1359000.0  1359000.0  1303319.750  186578\n",
       "2015-02-05  1359000.0  1369000.0  1346000.0  1358000.0  1302360.500  135408\n",
       "2015-02-06  1346000.0  1374000.0  1336000.0  1372000.0  1315787.000  160101\n",
       "2015-02-09  1360000.0  1399000.0  1357000.0  1395000.0  1337844.625  173870\n",
       "2015-02-10  1400000.0  1400000.0  1377000.0  1378000.0  1321541.125  130387\n",
       "2015-02-11  1374000.0  1374000.0  1354000.0  1355000.0  1299483.500  199476\n",
       "2015-02-12  1340000.0  1358000.0  1331000.0  1344000.0  1288934.250  214964\n",
       "...               ...        ...        ...        ...          ...     ...\n",
       "2015-10-20  1260000.0  1273000.0  1256000.0  1266000.0  1215080.750  150347\n",
       "2015-10-21  1265000.0  1282000.0  1259000.0  1270000.0  1218919.875  139567\n",
       "2015-10-22  1280000.0  1295000.0  1269000.0  1280000.0  1228517.875  230673\n",
       "2015-10-23  1300000.0  1300000.0  1278000.0  1289000.0  1237155.750  263071\n",
       "2015-10-26  1298000.0  1298000.0  1272000.0  1292000.0  1240035.000  152165\n",
       "2015-10-27  1282000.0  1299000.0  1281000.0  1298000.0  1245793.750  132241\n",
       "2015-10-28  1294000.0  1308000.0  1291000.0  1308000.0  1255391.625  271303\n",
       "2015-10-29  1330000.0  1392000.0  1324000.0  1325000.0  1271707.625  630471\n",
       "2015-10-30  1345000.0  1390000.0  1341000.0  1372000.0  1316817.500  509385\n",
       "2015-11-02  1385000.0  1393000.0  1374000.0  1383000.0  1327375.125  386546\n",
       "2015-11-03  1381000.0  1381000.0  1350000.0  1352000.0  1297621.750  301840\n",
       "2015-11-04  1352000.0  1361000.0  1326000.0  1330000.0  1276506.750  281070\n",
       "2015-11-05  1330000.0  1354000.0  1330000.0  1342000.0  1288024.000  173042\n",
       "2015-11-06  1343000.0  1348000.0  1330000.0  1338000.0  1284185.000  164322\n",
       "2015-11-09  1338000.0  1344000.0  1321000.0  1344000.0  1289943.625  185661\n",
       "2015-11-10  1336000.0  1341000.0  1314000.0  1321000.0  1267868.625  197551\n",
       "2015-11-11  1321000.0  1345000.0  1321000.0  1333000.0  1279386.000  140449\n",
       "2015-11-12  1333000.0  1334000.0  1317000.0  1317000.0  1264029.500  157417\n",
       "2015-11-13  1317000.0  1317000.0  1300000.0  1300000.0  1247713.250  177677\n",
       "2015-11-16  1291000.0  1291000.0  1263000.0  1263000.0  1212201.375  275705\n",
       "2015-11-17  1275000.0  1290000.0  1270000.0  1270000.0  1218919.875  186184\n",
       "2015-11-18  1272000.0  1290000.0  1272000.0  1281000.0  1229477.500  167735\n",
       "2015-11-19  1290000.0  1290000.0  1271000.0  1289000.0  1237155.750  192850\n",
       "2015-11-20  1289000.0  1296000.0  1278000.0  1285000.0  1233316.625  168720\n",
       "2015-11-23  1285000.0  1302000.0  1281000.0  1282000.0  1230437.375  198820\n",
       "2015-11-24  1282000.0  1305000.0  1282000.0  1299000.0  1246753.250  159560\n",
       "2015-11-25  1300000.0  1310000.0  1299000.0  1299000.0  1246753.250  142627\n",
       "2015-11-26  1299000.0  1340000.0  1299000.0  1335000.0  1281305.625  185800\n",
       "2015-11-27  1345000.0  1349000.0  1327000.0  1327000.0  1273627.500  169854\n",
       "2015-11-30  1325000.0  1325000.0  1284000.0  1284000.0  1232356.875  534006\n",
       "\n",
       "[228 rows x 6 columns]"
      ]
     },
     "execution_count": 5,
     "metadata": {},
     "output_type": "execute_result"
    }
   ],
   "source": [
    "data"
   ]
  },
  {
   "cell_type": "code",
   "execution_count": 6,
   "metadata": {},
   "outputs": [
    {
     "data": {
      "text/plain": [
       "Index(['Open', 'High', 'Low', 'Close', 'Adj Close', 'Volume'], dtype='object')"
      ]
     },
     "execution_count": 6,
     "metadata": {},
     "output_type": "execute_result"
    }
   ],
   "source": [
    "data.columns"
   ]
  },
  {
   "cell_type": "markdown",
   "metadata": {
    "collapsed": true
   },
   "source": [
    "- Adj Close : Adjusted Closing Price. 주식의 분할, 배당, 배분 등을 고려해 조정한 종가. close보다 값이 낮은 경향을 보이고 있다."
   ]
  },
  {
   "cell_type": "markdown",
   "metadata": {},
   "source": [
    "# 데이터 로드"
   ]
  },
  {
   "cell_type": "code",
   "execution_count": 4,
   "metadata": {
    "collapsed": true
   },
   "outputs": [],
   "source": [
    "def load_stock_data(file_name):\n",
    "    df = pd.read_pickle(file_name)\n",
    "    return df"
   ]
  },
  {
   "cell_type": "markdown",
   "metadata": {},
   "source": [
    "** 기초통계(Descriptive Statistics) **\n",
    "\n",
    "    데이터의 전체적인 모습을 이해하는 데 유용\n",
    "    전체 데이터의 특성을 파악하기 위해 다음의 같이 describe()한다.\n",
    "    \n",
    "    시가, 고가, 저가, 종가 등에 대한 최소값, 최대값, 평균값, 분산 등을 이용하면 \n",
    "    변동성은 얼마나 되는지, 평균적인 주식가격이 얼마인지 등을 쉽게 파악할 수 있음\n",
    "    \n",
    "    count : 데이터의 개수\n",
    "    min : 데이터 중 가장 작은 값\n",
    "    max : 데이터 중 가장 큰 값\n",
    "    mean : 산술평균\n",
    "    std : standard deviation의 약자. 즉 표준편차\n",
    "    25%, 50%, 75% : 사분위수(Quartile)"
   ]
  },
  {
   "cell_type": "code",
   "execution_count": 8,
   "metadata": {},
   "outputs": [
    {
     "name": "stdout",
     "output_type": "stream",
     "text": [
      "               Open          High           Low         Close     Adj Close  \\\n",
      "count  2.280000e+02  2.280000e+02  2.280000e+02  2.280000e+02  2.280000e+02   \n",
      "mean   1.301276e+06  1.314408e+06  1.287079e+06  1.300320e+06  1.247477e+06   \n",
      "std    1.096984e+05  1.094056e+05  1.089214e+05  1.090476e+05  1.042698e+05   \n",
      "min    1.068000e+06  1.074000e+06  1.033000e+06  1.067000e+06  1.024085e+06   \n",
      "25%    1.244000e+06  1.260000e+06  1.230250e+06  1.251750e+06  1.201404e+06   \n",
      "50%    1.314000e+06  1.321000e+06  1.299000e+06  1.308500e+06  1.255380e+06   \n",
      "75%    1.375000e+06  1.390000e+06  1.360250e+06  1.372500e+06  1.317039e+06   \n",
      "max    1.510000e+06  1.510000e+06  1.486000e+06  1.503000e+06  1.441420e+06   \n",
      "\n",
      "              Volume  \n",
      "count     228.000000  \n",
      "mean   243012.250000  \n",
      "std    103797.549086  \n",
      "min         0.000000  \n",
      "25%    178254.500000  \n",
      "50%    212158.000000  \n",
      "75%    274693.000000  \n",
      "max    799502.000000  \n"
     ]
    }
   ],
   "source": [
    "np.set_printoptions(precision=3)\n",
    "df_samsung = load_stock_data('samsung.data')\n",
    "print(df_samsung.describe()) # Generates descriptive statistics summerized\n",
    "# pandas df "
   ]
  },
  {
   "cell_type": "code",
   "execution_count": 6,
   "metadata": {},
   "outputs": [
    {
     "data": {
      "text/html": [
       "<div>\n",
       "<style>\n",
       "    .dataframe thead tr:only-child th {\n",
       "        text-align: right;\n",
       "    }\n",
       "\n",
       "    .dataframe thead th {\n",
       "        text-align: left;\n",
       "    }\n",
       "\n",
       "    .dataframe tbody tr th {\n",
       "        vertical-align: top;\n",
       "    }\n",
       "</style>\n",
       "<table border=\"1\" class=\"dataframe\">\n",
       "  <thead>\n",
       "    <tr style=\"text-align: right;\">\n",
       "      <th></th>\n",
       "      <th>Open</th>\n",
       "      <th>High</th>\n",
       "      <th>Low</th>\n",
       "      <th>Close</th>\n",
       "      <th>Adj Close</th>\n",
       "      <th>Volume</th>\n",
       "    </tr>\n",
       "  </thead>\n",
       "  <tbody>\n",
       "    <tr>\n",
       "      <th>0.25</th>\n",
       "      <td>1244000.0</td>\n",
       "      <td>1260000.0</td>\n",
       "      <td>1230250.0</td>\n",
       "      <td>1251750.0</td>\n",
       "      <td>1.201404e+06</td>\n",
       "      <td>178254.5</td>\n",
       "    </tr>\n",
       "    <tr>\n",
       "      <th>0.50</th>\n",
       "      <td>1314000.0</td>\n",
       "      <td>1321000.0</td>\n",
       "      <td>1299000.0</td>\n",
       "      <td>1308500.0</td>\n",
       "      <td>1.255380e+06</td>\n",
       "      <td>212158.0</td>\n",
       "    </tr>\n",
       "    <tr>\n",
       "      <th>0.75</th>\n",
       "      <td>1375000.0</td>\n",
       "      <td>1390000.0</td>\n",
       "      <td>1360250.0</td>\n",
       "      <td>1372500.0</td>\n",
       "      <td>1.317039e+06</td>\n",
       "      <td>274693.0</td>\n",
       "    </tr>\n",
       "  </tbody>\n",
       "</table>\n",
       "</div>"
      ],
      "text/plain": [
       "           Open       High        Low      Close     Adj Close    Volume\n",
       "0.25  1244000.0  1260000.0  1230250.0  1251750.0  1.201404e+06  178254.5\n",
       "0.50  1314000.0  1321000.0  1299000.0  1308500.0  1.255380e+06  212158.0\n",
       "0.75  1375000.0  1390000.0  1360250.0  1372500.0  1.317039e+06  274693.0"
      ]
     },
     "execution_count": 6,
     "metadata": {},
     "output_type": "execute_result"
    }
   ],
   "source": [
    "df_samsung.quantile([.25, .5, .75])"
   ]
  },
  {
   "cell_type": "code",
   "execution_count": 21,
   "metadata": {},
   "outputs": [
    {
     "data": {
      "image/png": "[encoded data removed]",
      "text/plain": [
       "<matplotlib.figure.Figure at 0x116d387f0>"
      ]
     },
     "metadata": {},
     "output_type": "display_data"
    },
    {
     "name": "stdout",
     "output_type": "stream",
     "text": [
      "Bin : 1067000.000000, Frequency = 10.000000\n",
      "Bin : 1110600.000000, Frequency = 29.000000\n",
      "Bin : 1154200.000000, Frequency = 7.000000\n",
      "Bin : 1197800.000000, Frequency = 10.000000\n",
      "Bin : 1241400.000000, Frequency = 40.000000\n",
      "Bin : 1285000.000000, Frequency = 32.000000\n",
      "Bin : 1328600.000000, Frequency = 43.000000\n",
      "Bin : 1372200.000000, Frequency = 18.000000\n",
      "Bin : 1415800.000000, Frequency = 21.000000\n",
      "Bin : 1459400.000000, Frequency = 18.000000\n"
     ]
    }
   ],
   "source": [
    "(n, bins, patched) = plt.hist(df_samsung['Close'])\n",
    "plt.axvline(df_samsung['Close'].mean(), color='red')\n",
    "plt.show()\n",
    "for index in range(len(n)):\n",
    "    print(\"Bin : {:f}, Frequency = {:f}\".format(bins[index], n[index]))"
   ]
  },
  {
   "cell_type": "code",
   "execution_count": 24,
   "metadata": {},
   "outputs": [
    {
     "name": "stderr",
     "output_type": "stream",
     "text": [
      "/Users/do-hyungkwon/anaconda/lib/python3.6/site-packages/ipykernel_launcher.py:3: FutureWarning: 'pandas.tools.plotting.scatter_matrix' is deprecated, import 'pandas.plotting.scatter_matrix' instead.\n",
      "  This is separate from the ipykernel package so we can avoid doing imports until\n"
     ]
    },
    {
     "data": {
      "image/png": "[encoded data removed]",
      "text/plain": [
       "<matplotlib.figure.Figure at 0x1179a1d30>"
      ]
     },
     "metadata": {},
     "output_type": "display_data"
    },
    {
     "data": {
      "image/png": "[encoded data removed]",
      "text/plain": [
       "<matplotlib.figure.Figure at 0x117eef550>"
      ]
     },
     "metadata": {},
     "output_type": "display_data"
    }
   ],
   "source": [
    "from pandas.tools.plotting import scatter_matrix\n",
    "df_samsung = load_stock_data('samsung.data')\n",
    "scatter_matrix(df_samsung[['Open', 'High', 'Low', 'Close']], alpha=0.2, figsize=(6,6), diagonal='kde')\n",
    "plt.show()"
   ]
  },
  {
   "cell_type": "code",
   "execution_count": 41,
   "metadata": {},
   "outputs": [
    {
     "data": {
      "image/png": "[encoded data removed]",
      "text/plain": [
       "<matplotlib.figure.Figure at 0x11f73a198>"
      ]
     },
     "metadata": {},
     "output_type": "display_data"
    }
   ],
   "source": [
    "df_samsung[['Open', 'High', 'Low', 'Close']].plot(kind='box')\n",
    "plt.show()"
   ]
  },
  {
   "cell_type": "code",
   "execution_count": 43,
   "metadata": {},
   "outputs": [
    {
     "data": {
      "text/plain": [
       "pandas.core.frame.DataFrame"
      ]
     },
     "execution_count": 43,
     "metadata": {},
     "output_type": "execute_result"
    }
   ],
   "source": [
    "type(df_samsung)"
   ]
  },
  {
   "cell_type": "code",
   "execution_count": null,
   "metadata": {
    "collapsed": true
   },
   "outputs": [],
   "source": []
  },
  {
   "cell_type": "code",
   "execution_count": null,
   "metadata": {
    "collapsed": true
   },
   "outputs": [],
   "source": []
  },
  {
   "cell_type": "code",
   "execution_count": null,
   "metadata": {
    "collapsed": true
   },
   "outputs": [],
   "source": []
  },
  {
   "cell_type": "code",
   "execution_count": null,
   "metadata": {
    "collapsed": true
   },
   "outputs": [],
   "source": []
  },
  {
   "cell_type": "code",
   "execution_count": 9,
   "metadata": {},
   "outputs": [
    {
     "name": "stdout",
     "output_type": "stream",
     "text": [
      "\u001b[34m__pycache__\u001b[m\u001b[m\r\n",
      "config.py\r\n",
      "derby.log\r\n",
      "filename\r\n",
      "\u001b[34mmetastore_db\u001b[m\u001b[m\r\n",
      "samsung.data\r\n",
      "\u001b[34mspark-warehouse\u001b[m\u001b[m\r\n",
      "trade.py\r\n",
      "알고리즘+트레이딩_01.ipynb\r\n",
      "알고리즘 트레이딩_01_ex.ipynb\r\n"
     ]
    }
   ],
   "source": [
    "! ls"
   ]
  },
  {
   "cell_type": "code",
   "execution_count": 11,
   "metadata": {
    "collapsed": true
   },
   "outputs": [],
   "source": [
    "dbtable_arg =\"TRADE_ETH\"\n",
    "start_time_arg =  '2017-12-14 01:20:00'\n",
    "end_time_arg =  '2017-12-14 01:30:00'\n",
    "exchange_arg =  'poloniex'\n",
    "time_interval_arg = 1\n",
    "Spark_app_name = dbtable_arg + '|' + start_time_arg + '|' + end_time_arg + '|'  + exchange_arg + '|' + str(time_interval_arg )\n",
    "df_cryptocurrency = load_stock_data('filename')# Spark_app_name \n",
    "# print(df['price'].describe()) # Generates descriptive statistics summerized"
   ]
  },
  {
   "cell_type": "code",
   "execution_count": 13,
   "metadata": {},
   "outputs": [
    {
     "name": "stdout",
     "output_type": "stream",
     "text": [
      "{'meta': ['TRADE_ETH', '2017-12-14 01:20:00', '2017-12-14 01:30:00', 'poloniex', 1], 'date': ['2017-12-14 01:20:00', '2017-12-14 01:21:00', '2017-12-14 01:22:00', '2017-12-14 01:23:00', '2017-12-14 01:24:00', '2017-12-14 01:25:00', '2017-12-14 01:26:00', '2017-12-14 01:27:00', '2017-12-14 01:28:00', '2017-12-14 01:29:00'], 'price': [[672.0, 674.0, 672.0, 673.0], [673.0, 674.0, 673.0, 674.0], [674.0, 677.0, 674.0, 676.0], [676.0, 679.0, 675.283, 677.226], [678.1, 682.762, 678.1, 682.1], [682.1, 684.533, 680.0, 683.849], [683.849, 685.795, 683.849, 685.0], [685.0, 685.795, 678.3, 680.0], [683.0, 683.0, 680.0, 680.0], [680.0, 680.0, 677.79, 677.79]]}\n"
     ]
    }
   ],
   "source": [
    "f = open('filename', 'rb') # Spark_app_name \n",
    "a = pickle.load(f)\n",
    "print(a)"
   ]
  },
  {
   "cell_type": "code",
   "execution_count": 14,
   "metadata": {},
   "outputs": [
    {
     "name": "stdout",
     "output_type": "stream",
     "text": [
      "['2017-12-14 01:20:00', 672.0, 674.0, 672.0, 673.0, '2017-12-14 01:21:00', 672.0, 674.0, 672.0, 673.0, '2017-12-14 01:22:00', 672.0, 674.0, 672.0, 673.0, '2017-12-14 01:23:00', 672.0, 674.0, 672.0, 673.0, '2017-12-14 01:24:00', 672.0, 674.0, 672.0, 673.0, '2017-12-14 01:25:00', 672.0, 674.0, 672.0, 673.0, '2017-12-14 01:26:00', 672.0, 674.0, 672.0, 673.0, '2017-12-14 01:27:00', 672.0, 674.0, 672.0, 673.0, '2017-12-14 01:28:00', 672.0, 674.0, 672.0, 673.0, '2017-12-14 01:29:00', 672.0, 674.0, 672.0, 673.0]\n"
     ]
    }
   ],
   "source": [
    "col = []\n",
    "for i in range(len(a[list(a.keys())[1]])):\n",
    "    col.append(a[list(a.keys())[1]][i])\n",
    "    for j in range(4):\n",
    "        col.append(a[list(a.keys())[2]][0][j])\n",
    "print(col)"
   ]
  },
  {
   "cell_type": "code",
   "execution_count": 15,
   "metadata": {},
   "outputs": [
    {
     "name": "stdout",
     "output_type": "stream",
     "text": [
      "['2017-12-14 01:20:00' '672.0' '674.0' '672.0' '673.0'\n",
      " '2017-12-14 01:21:00' '672.0' '674.0' '672.0' '673.0'\n",
      " '2017-12-14 01:22:00' '672.0' '674.0' '672.0' '673.0'\n",
      " '2017-12-14 01:23:00' '672.0' '674.0' '672.0' '673.0'\n",
      " '2017-12-14 01:24:00' '672.0' '674.0' '672.0' '673.0'\n",
      " '2017-12-14 01:25:00' '672.0' '674.0' '672.0' '673.0'\n",
      " '2017-12-14 01:26:00' '672.0' '674.0' '672.0' '673.0'\n",
      " '2017-12-14 01:27:00' '672.0' '674.0' '672.0' '673.0'\n",
      " '2017-12-14 01:28:00' '672.0' '674.0' '672.0' '673.0'\n",
      " '2017-12-14 01:29:00' '672.0' '674.0' '672.0' '673.0']\n",
      "[['2017-12-14 01:20:00' '672.0' '674.0' '672.0' '673.0']\n",
      " ['2017-12-14 01:21:00' '672.0' '674.0' '672.0' '673.0']\n",
      " ['2017-12-14 01:22:00' '672.0' '674.0' '672.0' '673.0']\n",
      " ['2017-12-14 01:23:00' '672.0' '674.0' '672.0' '673.0']\n",
      " ['2017-12-14 01:24:00' '672.0' '674.0' '672.0' '673.0']\n",
      " ['2017-12-14 01:25:00' '672.0' '674.0' '672.0' '673.0']\n",
      " ['2017-12-14 01:26:00' '672.0' '674.0' '672.0' '673.0']\n",
      " ['2017-12-14 01:27:00' '672.0' '674.0' '672.0' '673.0']\n",
      " ['2017-12-14 01:28:00' '672.0' '674.0' '672.0' '673.0']\n",
      " ['2017-12-14 01:29:00' '672.0' '674.0' '672.0' '673.0']]\n"
     ]
    },
    {
     "data": {
      "text/html": [
       "<div>\n",
       "<style>\n",
       "    .dataframe thead tr:only-child th {\n",
       "        text-align: right;\n",
       "    }\n",
       "\n",
       "    .dataframe thead th {\n",
       "        text-align: left;\n",
       "    }\n",
       "\n",
       "    .dataframe tbody tr th {\n",
       "        vertical-align: top;\n",
       "    }\n",
       "</style>\n",
       "<table border=\"1\" class=\"dataframe\">\n",
       "  <thead>\n",
       "    <tr style=\"text-align: right;\">\n",
       "      <th></th>\n",
       "      <th>date</th>\n",
       "      <th>open</th>\n",
       "      <th>high</th>\n",
       "      <th>low</th>\n",
       "      <th>close</th>\n",
       "    </tr>\n",
       "  </thead>\n",
       "  <tbody>\n",
       "    <tr>\n",
       "      <th>0</th>\n",
       "      <td>2017-12-14 01:20:00</td>\n",
       "      <td>672.0</td>\n",
       "      <td>674.0</td>\n",
       "      <td>672.0</td>\n",
       "      <td>673.0</td>\n",
       "    </tr>\n",
       "    <tr>\n",
       "      <th>1</th>\n",
       "      <td>2017-12-14 01:21:00</td>\n",
       "      <td>672.0</td>\n",
       "      <td>674.0</td>\n",
       "      <td>672.0</td>\n",
       "      <td>673.0</td>\n",
       "    </tr>\n",
       "    <tr>\n",
       "      <th>2</th>\n",
       "      <td>2017-12-14 01:22:00</td>\n",
       "      <td>672.0</td>\n",
       "      <td>674.0</td>\n",
       "      <td>672.0</td>\n",
       "      <td>673.0</td>\n",
       "    </tr>\n",
       "    <tr>\n",
       "      <th>3</th>\n",
       "      <td>2017-12-14 01:23:00</td>\n",
       "      <td>672.0</td>\n",
       "      <td>674.0</td>\n",
       "      <td>672.0</td>\n",
       "      <td>673.0</td>\n",
       "    </tr>\n",
       "    <tr>\n",
       "      <th>4</th>\n",
       "      <td>2017-12-14 01:24:00</td>\n",
       "      <td>672.0</td>\n",
       "      <td>674.0</td>\n",
       "      <td>672.0</td>\n",
       "      <td>673.0</td>\n",
       "    </tr>\n",
       "    <tr>\n",
       "      <th>5</th>\n",
       "      <td>2017-12-14 01:25:00</td>\n",
       "      <td>672.0</td>\n",
       "      <td>674.0</td>\n",
       "      <td>672.0</td>\n",
       "      <td>673.0</td>\n",
       "    </tr>\n",
       "    <tr>\n",
       "      <th>6</th>\n",
       "      <td>2017-12-14 01:26:00</td>\n",
       "      <td>672.0</td>\n",
       "      <td>674.0</td>\n",
       "      <td>672.0</td>\n",
       "      <td>673.0</td>\n",
       "    </tr>\n",
       "    <tr>\n",
       "      <th>7</th>\n",
       "      <td>2017-12-14 01:27:00</td>\n",
       "      <td>672.0</td>\n",
       "      <td>674.0</td>\n",
       "      <td>672.0</td>\n",
       "      <td>673.0</td>\n",
       "    </tr>\n",
       "    <tr>\n",
       "      <th>8</th>\n",
       "      <td>2017-12-14 01:28:00</td>\n",
       "      <td>672.0</td>\n",
       "      <td>674.0</td>\n",
       "      <td>672.0</td>\n",
       "      <td>673.0</td>\n",
       "    </tr>\n",
       "    <tr>\n",
       "      <th>9</th>\n",
       "      <td>2017-12-14 01:29:00</td>\n",
       "      <td>672.0</td>\n",
       "      <td>674.0</td>\n",
       "      <td>672.0</td>\n",
       "      <td>673.0</td>\n",
       "    </tr>\n",
       "  </tbody>\n",
       "</table>\n",
       "</div>"
      ],
      "text/plain": [
       "                  date   open   high    low  close\n",
       "0  2017-12-14 01:20:00  672.0  674.0  672.0  673.0\n",
       "1  2017-12-14 01:21:00  672.0  674.0  672.0  673.0\n",
       "2  2017-12-14 01:22:00  672.0  674.0  672.0  673.0\n",
       "3  2017-12-14 01:23:00  672.0  674.0  672.0  673.0\n",
       "4  2017-12-14 01:24:00  672.0  674.0  672.0  673.0\n",
       "5  2017-12-14 01:25:00  672.0  674.0  672.0  673.0\n",
       "6  2017-12-14 01:26:00  672.0  674.0  672.0  673.0\n",
       "7  2017-12-14 01:27:00  672.0  674.0  672.0  673.0\n",
       "8  2017-12-14 01:28:00  672.0  674.0  672.0  673.0\n",
       "9  2017-12-14 01:29:00  672.0  674.0  672.0  673.0"
      ]
     },
     "execution_count": 15,
     "metadata": {},
     "output_type": "execute_result"
    }
   ],
   "source": [
    "import numpy\n",
    "col = numpy.asarray(col)\n",
    "print(col)\n",
    "col = numpy.reshape(col, (len(a[list(a.keys())[1]]), 5))\n",
    "print(col)\n",
    "col_pd = pd.DataFrame(col, columns=['date', 'open', 'high', 'low', 'close'])\n",
    "col_pd"
   ]
  },
  {
   "cell_type": "code",
   "execution_count": 16,
   "metadata": {},
   "outputs": [
    {
     "data": {
      "text/plain": [
       "date     object\n",
       "open     object\n",
       "high     object\n",
       "low      object\n",
       "close    object\n",
       "dtype: object"
      ]
     },
     "execution_count": 16,
     "metadata": {},
     "output_type": "execute_result"
    }
   ],
   "source": [
    "col_pd.dtypes"
   ]
  },
  {
   "cell_type": "code",
   "execution_count": 17,
   "metadata": {
    "collapsed": true
   },
   "outputs": [],
   "source": [
    "col_pd[['date']] = col_pd[['date']].apply(pd.to_datetime)\n",
    "col_pd[['open', 'high', 'low', 'close']] = col_pd[['open', 'high', 'low', 'close']].apply(pd.to_numeric)"
   ]
  },
  {
   "cell_type": "code",
   "execution_count": 18,
   "metadata": {},
   "outputs": [
    {
     "data": {
      "text/html": [
       "<div>\n",
       "<style>\n",
       "    .dataframe thead tr:only-child th {\n",
       "        text-align: right;\n",
       "    }\n",
       "\n",
       "    .dataframe thead th {\n",
       "        text-align: left;\n",
       "    }\n",
       "\n",
       "    .dataframe tbody tr th {\n",
       "        vertical-align: top;\n",
       "    }\n",
       "</style>\n",
       "<table border=\"1\" class=\"dataframe\">\n",
       "  <thead>\n",
       "    <tr style=\"text-align: right;\">\n",
       "      <th></th>\n",
       "      <th>open</th>\n",
       "      <th>high</th>\n",
       "      <th>low</th>\n",
       "      <th>close</th>\n",
       "    </tr>\n",
       "  </thead>\n",
       "  <tbody>\n",
       "    <tr>\n",
       "      <th>0.25</th>\n",
       "      <td>672.0</td>\n",
       "      <td>674.0</td>\n",
       "      <td>672.0</td>\n",
       "      <td>673.0</td>\n",
       "    </tr>\n",
       "    <tr>\n",
       "      <th>0.50</th>\n",
       "      <td>672.0</td>\n",
       "      <td>674.0</td>\n",
       "      <td>672.0</td>\n",
       "      <td>673.0</td>\n",
       "    </tr>\n",
       "    <tr>\n",
       "      <th>0.75</th>\n",
       "      <td>672.0</td>\n",
       "      <td>674.0</td>\n",
       "      <td>672.0</td>\n",
       "      <td>673.0</td>\n",
       "    </tr>\n",
       "  </tbody>\n",
       "</table>\n",
       "</div>"
      ],
      "text/plain": [
       "       open   high    low  close\n",
       "0.25  672.0  674.0  672.0  673.0\n",
       "0.50  672.0  674.0  672.0  673.0\n",
       "0.75  672.0  674.0  672.0  673.0"
      ]
     },
     "execution_count": 18,
     "metadata": {},
     "output_type": "execute_result"
    }
   ],
   "source": [
    "col_pd.quantile([.25, .5, .75])"
   ]
  },
  {
   "cell_type": "code",
   "execution_count": 19,
   "metadata": {},
   "outputs": [
    {
     "data": {
      "image/png": "[encoded data removed]",
      "text/plain": [
       "<matplotlib.figure.Figure at 0x116333b70>"
      ]
     },
     "metadata": {},
     "output_type": "display_data"
    },
    {
     "name": "stdout",
     "output_type": "stream",
     "text": [
      "Bin : 672.500000, Frequency = 0.000000\n",
      "Bin : 672.600000, Frequency = 0.000000\n",
      "Bin : 672.700000, Frequency = 0.000000\n",
      "Bin : 672.800000, Frequency = 0.000000\n",
      "Bin : 672.900000, Frequency = 0.000000\n",
      "Bin : 673.000000, Frequency = 10.000000\n",
      "Bin : 673.100000, Frequency = 0.000000\n",
      "Bin : 673.200000, Frequency = 0.000000\n",
      "Bin : 673.300000, Frequency = 0.000000\n",
      "Bin : 673.400000, Frequency = 0.000000\n"
     ]
    }
   ],
   "source": [
    "(n, bins, patched) = plt.hist(col_pd['close'])\n",
    "plt.axvline(col_pd['close'].mean(), color='red')\n",
    "plt.show()\n",
    "for index in range(len(n)):\n",
    "    print(\"Bin : {:f}, Frequency = {:f}\".format(bins[index], n[index]))"
   ]
  },
  {
   "cell_type": "code",
   "execution_count": null,
   "metadata": {
    "collapsed": true
   },
   "outputs": [],
   "source": [
    "axs = scatter_matrix(df, alpha=0.2, diagonal='hist')"
   ]
  },
  {
   "cell_type": "code",
   "execution_count": 33,
   "metadata": {},
   "outputs": [
    {
     "name": "stderr",
     "output_type": "stream",
     "text": [
      "/Users/do-hyungkwon/anaconda/lib/python3.6/site-packages/ipykernel_launcher.py:4: FutureWarning: 'pandas.tools.plotting.scatter_matrix' is deprecated, import 'pandas.plotting.scatter_matrix' instead.\n",
      "  after removing the cwd from sys.path.\n",
      "/Users/do-hyungkwon/anaconda/lib/python3.6/site-packages/matplotlib/axes/_base.py:2917: UserWarning: Attempting to set identical left==right results\n",
      "in singular transformations; automatically expanding.\n",
      "left=672.0, right=672.0\n",
      "  'left=%s, right=%s') % (left, right))\n",
      "/Users/do-hyungkwon/anaconda/lib/python3.6/site-packages/matplotlib/axes/_base.py:2917: UserWarning: Attempting to set identical left==right results\n",
      "in singular transformations; automatically expanding.\n",
      "left=674.0, right=674.0\n",
      "  'left=%s, right=%s') % (left, right))\n",
      "/Users/do-hyungkwon/anaconda/lib/python3.6/site-packages/matplotlib/axes/_base.py:3193: UserWarning: Attempting to set identical bottom==top results\n",
      "in singular transformations; automatically expanding.\n",
      "bottom=672.0, top=672.0\n",
      "  'bottom=%s, top=%s') % (bottom, top))\n",
      "/Users/do-hyungkwon/anaconda/lib/python3.6/site-packages/matplotlib/axes/_base.py:2917: UserWarning: Attempting to set identical left==right results\n",
      "in singular transformations; automatically expanding.\n",
      "left=673.0, right=673.0\n",
      "  'left=%s, right=%s') % (left, right))\n",
      "/Users/do-hyungkwon/anaconda/lib/python3.6/site-packages/matplotlib/axes/_base.py:3193: UserWarning: Attempting to set identical bottom==top results\n",
      "in singular transformations; automatically expanding.\n",
      "bottom=674.0, top=674.0\n",
      "  'bottom=%s, top=%s') % (bottom, top))\n",
      "/Users/do-hyungkwon/anaconda/lib/python3.6/site-packages/matplotlib/axes/_base.py:3193: UserWarning: Attempting to set identical bottom==top results\n",
      "in singular transformations; automatically expanding.\n",
      "bottom=673.0, top=673.0\n",
      "  'bottom=%s, top=%s') % (bottom, top))\n",
      "/Users/do-hyungkwon/anaconda/lib/python3.6/site-packages/pandas/plotting/_misc.py:123: RuntimeWarning: invalid value encountered in true_divide\n",
      "  adj = (locs - lim1[0]) / (lim1[1] - lim1[0])\n"
     ]
    },
    {
     "data": {
      "image/png": "[encoded data removed]",
      "text/plain": [
       "<matplotlib.figure.Figure at 0x11d2285c0>"
      ]
     },
     "metadata": {},
     "output_type": "display_data"
    },
    {
     "data": {
      "image/png": "[encoded data removed]",
      "text/plain": [
       "<matplotlib.figure.Figure at 0x11d139400>"
      ]
     },
     "metadata": {},
     "output_type": "display_data"
    },
    {
     "data": {
      "image/png": "[encoded data removed]",
      "text/plain": [
       "<matplotlib.figure.Figure at 0x11d128080>"
      ]
     },
     "metadata": {},
     "output_type": "display_data"
    },
    {
     "data": {
      "image/png": "[encoded data removed]",
      "text/plain": [
       "<matplotlib.figure.Figure at 0x11d9cfe80>"
      ]
     },
     "metadata": {},
     "output_type": "display_data"
    },
    {
     "data": {
      "image/png": "[encoded data removed]",
      "text/plain": [
       "<matplotlib.figure.Figure at 0x11e04a0b8>"
      ]
     },
     "metadata": {},
     "output_type": "display_data"
    }
   ],
   "source": [
    "from pandas.tools.plotting import scatter_matrix\n",
    "df_samsung = load_stock_data('samsung.data')\n",
    "# scatter_matrix(col_pd, alpha=0.2, figsize=(4,4), diagonal='kde')\n",
    "scatter_matrix(col_pd, alpha=0.2, diagonal='hist')\n",
    "plt.show()"
   ]
  },
  {
   "cell_type": "code",
   "execution_count": 46,
   "metadata": {},
   "outputs": [
    {
     "data": {
      "image/png": "[encoded data removed]",
      "text/plain": [
       "<matplotlib.figure.Figure at 0x11f8d1470>"
      ]
     },
     "metadata": {},
     "output_type": "display_data"
    }
   ],
   "source": [
    "col_pd[['open', 'high', 'low', 'close']].plot(kind='box')\n",
    "plt.show()"
   ]
  },
  {
   "cell_type": "code",
   "execution_count": 44,
   "metadata": {},
   "outputs": [
    {
     "data": {
      "text/plain": [
       "dict"
      ]
     },
     "execution_count": 44,
     "metadata": {},
     "output_type": "execute_result"
    }
   ],
   "source": [
    "type(df_cryptocurrency)"
   ]
  },
  {
   "cell_type": "code",
   "execution_count": 48,
   "metadata": {},
   "outputs": [
    {
     "data": {
      "text/plain": [
       "pandas.core.frame.DataFrame"
      ]
     },
     "execution_count": 48,
     "metadata": {},
     "output_type": "execute_result"
    }
   ],
   "source": [
    "type(col_pd)"
   ]
  },
  {
   "cell_type": "code",
   "execution_count": null,
   "metadata": {
    "collapsed": true
   },
   "outputs": [],
   "source": []
  }
 ],
 "metadata": {
  "kernelspec": {
   "display_name": "Python 3",
   "language": "python",
   "name": "python3"
  },
  "language_info": {
   "codemirror_mode": {
    "name": "ipython",
    "version": 3
   },
   "file_extension": ".py",
   "mimetype": "text/x-python",
   "name": "python",
   "nbconvert_exporter": "python",
   "pygments_lexer": "ipython3",
   "version": "3.6.1"
  }
 },
 "nbformat": 4,
 "nbformat_minor": 2
}
