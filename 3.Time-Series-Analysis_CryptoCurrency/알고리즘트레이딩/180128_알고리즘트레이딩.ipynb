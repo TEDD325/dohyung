{
 "cells": [
  {
   "cell_type": "code",
   "execution_count": 2,
   "metadata": {},
   "outputs": [
    {
     "ename": "NameError",
     "evalue": "name 'sc' is not defined",
     "output_type": "error",
     "traceback": [
      "\u001b[0;31m---------------------------------------------------------------------------\u001b[0m",
      "\u001b[0;31mNameError\u001b[0m                                 Traceback (most recent call last)",
      "\u001b[0;32m<ipython-input-2-f951dc1525de>\u001b[0m in \u001b[0;36m<module>\u001b[0;34m()\u001b[0m\n\u001b[1;32m     12\u001b[0m \u001b[0;32mimport\u001b[0m \u001b[0mpyspark\u001b[0m\u001b[0;34m\u001b[0m\u001b[0m\n\u001b[1;32m     13\u001b[0m \u001b[0;32mimport\u001b[0m \u001b[0msys\u001b[0m\u001b[0;34m\u001b[0m\u001b[0m\n\u001b[0;32m---> 14\u001b[0;31m \u001b[0msc\u001b[0m\u001b[0;34m\u001b[0m\u001b[0m\n\u001b[0m",
      "\u001b[0;31mNameError\u001b[0m: name 'sc' is not defined"
     ]
    }
   ],
   "source": [
    "import config\n",
    "import pickle\n",
    "import os\n",
    "import matplotlib.pyplot as plt\n",
    "import pandas as pd\n",
    "import datetime\n",
    "import time\n",
    "import glob\n",
    "from pyspark.sql.functions import lit,unix_timestamp\n",
    "from pyspark import SQLContext\n",
    "from pyspark.sql import functions as F\n",
    "import pyspark\n",
    "import sys\n",
    "sc"
   ]
  },
  {
   "cell_type": "code",
   "execution_count": 4,
   "metadata": {
    "colab": {
     "autoexec": {
      "startup": false,
      "wait_interval": 0
     }
    },
    "colab_type": "code",
    "collapsed": true,
    "id": "biqgJr9gArX9"
   },
   "outputs": [],
   "source": [
    "# path_to_csv_arg = \"test2.csv\"\n",
    "path_to_csv_arg = \"hdfs:///trade/test2.csv\"\n",
    "coin_type_arg = 'TRADE_BTC'\n",
    "start_time_arg = '2018-01-18 00:00:00'\n",
    "end_time_arg = '2018-01-18 11:59:59'\n",
    "exchange_arg =  'bithumb'\n",
    "time_interval_arg = 1\n",
    "Spark_app_name = coin_type_arg + '_' + exchange_arg + '_' + str(time_interval_arg) + '_' + start_time_arg + '_' + end_time_arg"
   ]
  },
  {
   "cell_type": "markdown",
   "metadata": {},
   "source": [
    "# pickle파일 load"
   ]
  },
  {
   "cell_type": "code",
   "execution_count": 6,
   "metadata": {},
   "outputs": [
    {
     "data": {
      "text/plain": [
       "720"
      ]
     },
     "execution_count": 6,
     "metadata": {},
     "output_type": "execute_result"
    }
   ],
   "source": [
    "60*12"
   ]
  },
  {
   "cell_type": "code",
   "execution_count": 9,
   "metadata": {},
   "outputs": [
    {
     "data": {
      "text/plain": [
       "864"
      ]
     },
     "execution_count": 9,
     "metadata": {},
     "output_type": "execute_result"
    }
   ],
   "source": [
    "\n",
    "12*24*3"
   ]
  },
  {
   "cell_type": "code",
   "execution_count": null,
   "metadata": {
    "collapsed": true
   },
   "outputs": [],
   "source": [
    "구간 내에 잡히는 데이터가 있으면 만드는데\n",
    "구간 내에 잡히는 데이터가 없으면 아예 만들지 말고\n",
    "다음 데이터나오는 구간으로\n",
    "continue 참고"
   ]
  },
  {
   "cell_type": "code",
   "execution_count": null,
   "metadata": {
    "collapsed": true
   },
   "outputs": [],
   "source": [
    "llop"
   ]
  },
  {
   "cell_type": "code",
   "execution_count": 5,
   "metadata": {
    "colab": {
     "autoexec": {
      "startup": false,
      "wait_interval": 0
     },
     "output_extras": [
      {}
     ]
    },
    "colab_type": "code",
    "id": "pT10YK5WArYm",
    "outputId": "83292c21-54a8-4975-d4c3-282476912d20"
   },
   "outputs": [
    {
     "data": {
      "text/plain": [
       "{'buy_volume': [13.385587800000001,\n",
       "  19.448121299999997,\n",
       "  19.448121299999997,\n",
       "  19.448121299999997],\n",
       " 'close': [352600.0, 356600.0, 356600.0, 356600.0],\n",
       " 'date': ['2018-01-18 04:25:42',\n",
       "  '2018-01-18 04:35:42',\n",
       "  '2018-01-18 04:45:42',\n",
       "  '2018-01-18 04:55:42'],\n",
       " 'high': [353200.0, 356600.0, 356600.0, 356600.0],\n",
       " 'low': [346300.0, 350100.0, 350100.0, 350100.0],\n",
       " 'meta': ['XMR',\n",
       "  'bithumb',\n",
       "  '10',\n",
       "  '2018-01-18 00:00:00',\n",
       "  '2018-01-18 05:00:00'],\n",
       " 'open': [353200.0, 352500.0, 352500.0, 352500.0],\n",
       " 'sell_volume': [13.385587800000001,\n",
       "  19.448121299999997,\n",
       "  19.448121299999997,\n",
       "  19.448121299999997],\n",
       " 'total_volume': [13.385587800000001,\n",
       "  19.448121299999997,\n",
       "  19.448121299999997,\n",
       "  19.448121299999997]}"
      ]
     },
     "execution_count": 5,
     "metadata": {},
     "output_type": "execute_result"
    }
   ],
   "source": [
    "f = open('XMR_bithumb_10_2018-01-18_00:00:00_2018-01-18_05:00:00.pickle', 'rb')\n",
    "bithumb = pickle.load(f)\n",
    "bithumb"
   ]
  },
  {
   "cell_type": "code",
   "execution_count": null,
   "metadata": {
    "collapsed": true
   },
   "outputs": [],
   "source": [
    "구간 데이터가 인풋"
   ]
  },
  {
   "cell_type": "markdown",
   "metadata": {
    "colab_type": "text",
    "id": "Ano_0tLJArYx"
   },
   "source": [
    "# pandas.DataFrame화"
   ]
  },
  {
   "cell_type": "code",
   "execution_count": 4,
   "metadata": {
    "colab": {
     "autoexec": {
      "startup": false,
      "wait_interval": 0
     },
     "output_extras": [
      {}
     ]
    },
    "colab_type": "code",
    "id": "UPtJtQ4zArYz",
    "outputId": "46ba6bed-172d-4824-88f3-a36be3f7d100"
   },
   "outputs": [
    {
     "data": {
      "text/html": [
       "<div>\n",
       "<style>\n",
       "    .dataframe thead tr:only-child th {\n",
       "        text-align: right;\n",
       "    }\n",
       "\n",
       "    .dataframe thead th {\n",
       "        text-align: left;\n",
       "    }\n",
       "\n",
       "    .dataframe tbody tr th {\n",
       "        vertical-align: top;\n",
       "    }\n",
       "</style>\n",
       "<table border=\"1\" class=\"dataframe\">\n",
       "  <thead>\n",
       "    <tr style=\"text-align: right;\">\n",
       "      <th></th>\n",
       "      <th>close</th>\n",
       "      <th>high</th>\n",
       "      <th>low</th>\n",
       "      <th>open</th>\n",
       "    </tr>\n",
       "  </thead>\n",
       "  <tbody>\n",
       "    <tr>\n",
       "      <th>0</th>\n",
       "      <td>12760000.0</td>\n",
       "      <td>12767000.0</td>\n",
       "      <td>12743000.0</td>\n",
       "      <td>12767000.0</td>\n",
       "    </tr>\n",
       "    <tr>\n",
       "      <th>1</th>\n",
       "      <td>12744000.0</td>\n",
       "      <td>12762000.0</td>\n",
       "      <td>12743000.0</td>\n",
       "      <td>12758000.0</td>\n",
       "    </tr>\n",
       "    <tr>\n",
       "      <th>2</th>\n",
       "      <td>12687000.0</td>\n",
       "      <td>12744000.0</td>\n",
       "      <td>12687000.0</td>\n",
       "      <td>12742000.0</td>\n",
       "    </tr>\n",
       "    <tr>\n",
       "      <th>3</th>\n",
       "      <td>12757000.0</td>\n",
       "      <td>12761000.0</td>\n",
       "      <td>12733000.0</td>\n",
       "      <td>12735000.0</td>\n",
       "    </tr>\n",
       "    <tr>\n",
       "      <th>4</th>\n",
       "      <td>12761000.0</td>\n",
       "      <td>12761000.0</td>\n",
       "      <td>12744000.0</td>\n",
       "      <td>12756000.0</td>\n",
       "    </tr>\n",
       "    <tr>\n",
       "      <th>5</th>\n",
       "      <td>12770000.0</td>\n",
       "      <td>12794000.0</td>\n",
       "      <td>12752000.0</td>\n",
       "      <td>12759000.0</td>\n",
       "    </tr>\n",
       "    <tr>\n",
       "      <th>6</th>\n",
       "      <td>12790000.0</td>\n",
       "      <td>12793000.0</td>\n",
       "      <td>12770000.0</td>\n",
       "      <td>12770000.0</td>\n",
       "    </tr>\n",
       "    <tr>\n",
       "      <th>7</th>\n",
       "      <td>12795000.0</td>\n",
       "      <td>12821000.0</td>\n",
       "      <td>12786000.0</td>\n",
       "      <td>12786000.0</td>\n",
       "    </tr>\n",
       "    <tr>\n",
       "      <th>8</th>\n",
       "      <td>12895000.0</td>\n",
       "      <td>12895000.0</td>\n",
       "      <td>12820000.0</td>\n",
       "      <td>12820000.0</td>\n",
       "    </tr>\n",
       "    <tr>\n",
       "      <th>9</th>\n",
       "      <td>12978000.0</td>\n",
       "      <td>12994000.0</td>\n",
       "      <td>12895000.0</td>\n",
       "      <td>12895000.0</td>\n",
       "    </tr>\n",
       "    <tr>\n",
       "      <th>10</th>\n",
       "      <td>12964000.0</td>\n",
       "      <td>12994000.0</td>\n",
       "      <td>12947000.0</td>\n",
       "      <td>12978000.0</td>\n",
       "    </tr>\n",
       "    <tr>\n",
       "      <th>11</th>\n",
       "      <td>12994000.0</td>\n",
       "      <td>13000000.0</td>\n",
       "      <td>12905000.0</td>\n",
       "      <td>12992000.0</td>\n",
       "    </tr>\n",
       "    <tr>\n",
       "      <th>12</th>\n",
       "      <td>12919000.0</td>\n",
       "      <td>12992000.0</td>\n",
       "      <td>12917000.0</td>\n",
       "      <td>12992000.0</td>\n",
       "    </tr>\n",
       "    <tr>\n",
       "      <th>13</th>\n",
       "      <td>12993000.0</td>\n",
       "      <td>12993000.0</td>\n",
       "      <td>12834000.0</td>\n",
       "      <td>12950000.0</td>\n",
       "    </tr>\n",
       "    <tr>\n",
       "      <th>14</th>\n",
       "      <td>12988000.0</td>\n",
       "      <td>12992000.0</td>\n",
       "      <td>12914000.0</td>\n",
       "      <td>12914000.0</td>\n",
       "    </tr>\n",
       "    <tr>\n",
       "      <th>15</th>\n",
       "      <td>13011000.0</td>\n",
       "      <td>13023000.0</td>\n",
       "      <td>12988000.0</td>\n",
       "      <td>12988000.0</td>\n",
       "    </tr>\n",
       "    <tr>\n",
       "      <th>16</th>\n",
       "      <td>13064000.0</td>\n",
       "      <td>13074000.0</td>\n",
       "      <td>13006000.0</td>\n",
       "      <td>13011000.0</td>\n",
       "    </tr>\n",
       "    <tr>\n",
       "      <th>17</th>\n",
       "      <td>13064000.0</td>\n",
       "      <td>13074000.0</td>\n",
       "      <td>13006000.0</td>\n",
       "      <td>13011000.0</td>\n",
       "    </tr>\n",
       "    <tr>\n",
       "      <th>18</th>\n",
       "      <td>13064000.0</td>\n",
       "      <td>13074000.0</td>\n",
       "      <td>13006000.0</td>\n",
       "      <td>13011000.0</td>\n",
       "    </tr>\n",
       "    <tr>\n",
       "      <th>19</th>\n",
       "      <td>13064000.0</td>\n",
       "      <td>13074000.0</td>\n",
       "      <td>13006000.0</td>\n",
       "      <td>13011000.0</td>\n",
       "    </tr>\n",
       "    <tr>\n",
       "      <th>20</th>\n",
       "      <td>13064000.0</td>\n",
       "      <td>13074000.0</td>\n",
       "      <td>13006000.0</td>\n",
       "      <td>13011000.0</td>\n",
       "    </tr>\n",
       "    <tr>\n",
       "      <th>21</th>\n",
       "      <td>13064000.0</td>\n",
       "      <td>13074000.0</td>\n",
       "      <td>13006000.0</td>\n",
       "      <td>13011000.0</td>\n",
       "    </tr>\n",
       "    <tr>\n",
       "      <th>22</th>\n",
       "      <td>13064000.0</td>\n",
       "      <td>13074000.0</td>\n",
       "      <td>13006000.0</td>\n",
       "      <td>13011000.0</td>\n",
       "    </tr>\n",
       "    <tr>\n",
       "      <th>23</th>\n",
       "      <td>13064000.0</td>\n",
       "      <td>13074000.0</td>\n",
       "      <td>13006000.0</td>\n",
       "      <td>13011000.0</td>\n",
       "    </tr>\n",
       "    <tr>\n",
       "      <th>24</th>\n",
       "      <td>13064000.0</td>\n",
       "      <td>13074000.0</td>\n",
       "      <td>13006000.0</td>\n",
       "      <td>13011000.0</td>\n",
       "    </tr>\n",
       "    <tr>\n",
       "      <th>25</th>\n",
       "      <td>13064000.0</td>\n",
       "      <td>13074000.0</td>\n",
       "      <td>13006000.0</td>\n",
       "      <td>13011000.0</td>\n",
       "    </tr>\n",
       "    <tr>\n",
       "      <th>26</th>\n",
       "      <td>13064000.0</td>\n",
       "      <td>13074000.0</td>\n",
       "      <td>13006000.0</td>\n",
       "      <td>13011000.0</td>\n",
       "    </tr>\n",
       "    <tr>\n",
       "      <th>27</th>\n",
       "      <td>13064000.0</td>\n",
       "      <td>13074000.0</td>\n",
       "      <td>13006000.0</td>\n",
       "      <td>13011000.0</td>\n",
       "    </tr>\n",
       "    <tr>\n",
       "      <th>28</th>\n",
       "      <td>13064000.0</td>\n",
       "      <td>13074000.0</td>\n",
       "      <td>13006000.0</td>\n",
       "      <td>13011000.0</td>\n",
       "    </tr>\n",
       "    <tr>\n",
       "      <th>29</th>\n",
       "      <td>13064000.0</td>\n",
       "      <td>13074000.0</td>\n",
       "      <td>13006000.0</td>\n",
       "      <td>13011000.0</td>\n",
       "    </tr>\n",
       "    <tr>\n",
       "      <th>...</th>\n",
       "      <td>...</td>\n",
       "      <td>...</td>\n",
       "      <td>...</td>\n",
       "      <td>...</td>\n",
       "    </tr>\n",
       "    <tr>\n",
       "      <th>425</th>\n",
       "      <td>16037000.0</td>\n",
       "      <td>16068000.0</td>\n",
       "      <td>16000000.0</td>\n",
       "      <td>16016000.0</td>\n",
       "    </tr>\n",
       "    <tr>\n",
       "      <th>426</th>\n",
       "      <td>15994000.0</td>\n",
       "      <td>16045000.0</td>\n",
       "      <td>15994000.0</td>\n",
       "      <td>16037000.0</td>\n",
       "    </tr>\n",
       "    <tr>\n",
       "      <th>427</th>\n",
       "      <td>15994000.0</td>\n",
       "      <td>15994000.0</td>\n",
       "      <td>15994000.0</td>\n",
       "      <td>15994000.0</td>\n",
       "    </tr>\n",
       "    <tr>\n",
       "      <th>428</th>\n",
       "      <td>15994000.0</td>\n",
       "      <td>15994000.0</td>\n",
       "      <td>15994000.0</td>\n",
       "      <td>15994000.0</td>\n",
       "    </tr>\n",
       "    <tr>\n",
       "      <th>429</th>\n",
       "      <td>15994000.0</td>\n",
       "      <td>15994000.0</td>\n",
       "      <td>15994000.0</td>\n",
       "      <td>15994000.0</td>\n",
       "    </tr>\n",
       "    <tr>\n",
       "      <th>430</th>\n",
       "      <td>15994000.0</td>\n",
       "      <td>15994000.0</td>\n",
       "      <td>15994000.0</td>\n",
       "      <td>15994000.0</td>\n",
       "    </tr>\n",
       "    <tr>\n",
       "      <th>431</th>\n",
       "      <td>15994000.0</td>\n",
       "      <td>15994000.0</td>\n",
       "      <td>15994000.0</td>\n",
       "      <td>15994000.0</td>\n",
       "    </tr>\n",
       "    <tr>\n",
       "      <th>432</th>\n",
       "      <td>15994000.0</td>\n",
       "      <td>15994000.0</td>\n",
       "      <td>15994000.0</td>\n",
       "      <td>15994000.0</td>\n",
       "    </tr>\n",
       "    <tr>\n",
       "      <th>433</th>\n",
       "      <td>15994000.0</td>\n",
       "      <td>15994000.0</td>\n",
       "      <td>15994000.0</td>\n",
       "      <td>15994000.0</td>\n",
       "    </tr>\n",
       "    <tr>\n",
       "      <th>434</th>\n",
       "      <td>15994000.0</td>\n",
       "      <td>15994000.0</td>\n",
       "      <td>15994000.0</td>\n",
       "      <td>15994000.0</td>\n",
       "    </tr>\n",
       "    <tr>\n",
       "      <th>435</th>\n",
       "      <td>15994000.0</td>\n",
       "      <td>15994000.0</td>\n",
       "      <td>15994000.0</td>\n",
       "      <td>15994000.0</td>\n",
       "    </tr>\n",
       "    <tr>\n",
       "      <th>436</th>\n",
       "      <td>15994000.0</td>\n",
       "      <td>15994000.0</td>\n",
       "      <td>15994000.0</td>\n",
       "      <td>15994000.0</td>\n",
       "    </tr>\n",
       "    <tr>\n",
       "      <th>437</th>\n",
       "      <td>15994000.0</td>\n",
       "      <td>15994000.0</td>\n",
       "      <td>15994000.0</td>\n",
       "      <td>15994000.0</td>\n",
       "    </tr>\n",
       "    <tr>\n",
       "      <th>438</th>\n",
       "      <td>15994000.0</td>\n",
       "      <td>15994000.0</td>\n",
       "      <td>15994000.0</td>\n",
       "      <td>15994000.0</td>\n",
       "    </tr>\n",
       "    <tr>\n",
       "      <th>439</th>\n",
       "      <td>15994000.0</td>\n",
       "      <td>15994000.0</td>\n",
       "      <td>15994000.0</td>\n",
       "      <td>15994000.0</td>\n",
       "    </tr>\n",
       "    <tr>\n",
       "      <th>440</th>\n",
       "      <td>15994000.0</td>\n",
       "      <td>15994000.0</td>\n",
       "      <td>15994000.0</td>\n",
       "      <td>15994000.0</td>\n",
       "    </tr>\n",
       "    <tr>\n",
       "      <th>441</th>\n",
       "      <td>15994000.0</td>\n",
       "      <td>15994000.0</td>\n",
       "      <td>15994000.0</td>\n",
       "      <td>15994000.0</td>\n",
       "    </tr>\n",
       "    <tr>\n",
       "      <th>442</th>\n",
       "      <td>15994000.0</td>\n",
       "      <td>15994000.0</td>\n",
       "      <td>15994000.0</td>\n",
       "      <td>15994000.0</td>\n",
       "    </tr>\n",
       "    <tr>\n",
       "      <th>443</th>\n",
       "      <td>15994000.0</td>\n",
       "      <td>15994000.0</td>\n",
       "      <td>15994000.0</td>\n",
       "      <td>15994000.0</td>\n",
       "    </tr>\n",
       "    <tr>\n",
       "      <th>444</th>\n",
       "      <td>15994000.0</td>\n",
       "      <td>15994000.0</td>\n",
       "      <td>15994000.0</td>\n",
       "      <td>15994000.0</td>\n",
       "    </tr>\n",
       "    <tr>\n",
       "      <th>445</th>\n",
       "      <td>15994000.0</td>\n",
       "      <td>15994000.0</td>\n",
       "      <td>15994000.0</td>\n",
       "      <td>15994000.0</td>\n",
       "    </tr>\n",
       "    <tr>\n",
       "      <th>446</th>\n",
       "      <td>15994000.0</td>\n",
       "      <td>15994000.0</td>\n",
       "      <td>15994000.0</td>\n",
       "      <td>15994000.0</td>\n",
       "    </tr>\n",
       "    <tr>\n",
       "      <th>447</th>\n",
       "      <td>15994000.0</td>\n",
       "      <td>15994000.0</td>\n",
       "      <td>15994000.0</td>\n",
       "      <td>15994000.0</td>\n",
       "    </tr>\n",
       "    <tr>\n",
       "      <th>448</th>\n",
       "      <td>15994000.0</td>\n",
       "      <td>15994000.0</td>\n",
       "      <td>15994000.0</td>\n",
       "      <td>15994000.0</td>\n",
       "    </tr>\n",
       "    <tr>\n",
       "      <th>449</th>\n",
       "      <td>15994000.0</td>\n",
       "      <td>15994000.0</td>\n",
       "      <td>15994000.0</td>\n",
       "      <td>15994000.0</td>\n",
       "    </tr>\n",
       "    <tr>\n",
       "      <th>450</th>\n",
       "      <td>15994000.0</td>\n",
       "      <td>15994000.0</td>\n",
       "      <td>15994000.0</td>\n",
       "      <td>15994000.0</td>\n",
       "    </tr>\n",
       "    <tr>\n",
       "      <th>451</th>\n",
       "      <td>15994000.0</td>\n",
       "      <td>15994000.0</td>\n",
       "      <td>15994000.0</td>\n",
       "      <td>15994000.0</td>\n",
       "    </tr>\n",
       "    <tr>\n",
       "      <th>452</th>\n",
       "      <td>15994000.0</td>\n",
       "      <td>15994000.0</td>\n",
       "      <td>15994000.0</td>\n",
       "      <td>15994000.0</td>\n",
       "    </tr>\n",
       "    <tr>\n",
       "      <th>453</th>\n",
       "      <td>15994000.0</td>\n",
       "      <td>15994000.0</td>\n",
       "      <td>15994000.0</td>\n",
       "      <td>15994000.0</td>\n",
       "    </tr>\n",
       "    <tr>\n",
       "      <th>454</th>\n",
       "      <td>15994000.0</td>\n",
       "      <td>15994000.0</td>\n",
       "      <td>15994000.0</td>\n",
       "      <td>15994000.0</td>\n",
       "    </tr>\n",
       "  </tbody>\n",
       "</table>\n",
       "<p>455 rows × 4 columns</p>\n",
       "</div>"
      ],
      "text/plain": [
       "          close        high         low        open\n",
       "0    12760000.0  12767000.0  12743000.0  12767000.0\n",
       "1    12744000.0  12762000.0  12743000.0  12758000.0\n",
       "2    12687000.0  12744000.0  12687000.0  12742000.0\n",
       "3    12757000.0  12761000.0  12733000.0  12735000.0\n",
       "4    12761000.0  12761000.0  12744000.0  12756000.0\n",
       "5    12770000.0  12794000.0  12752000.0  12759000.0\n",
       "6    12790000.0  12793000.0  12770000.0  12770000.0\n",
       "7    12795000.0  12821000.0  12786000.0  12786000.0\n",
       "8    12895000.0  12895000.0  12820000.0  12820000.0\n",
       "9    12978000.0  12994000.0  12895000.0  12895000.0\n",
       "10   12964000.0  12994000.0  12947000.0  12978000.0\n",
       "11   12994000.0  13000000.0  12905000.0  12992000.0\n",
       "12   12919000.0  12992000.0  12917000.0  12992000.0\n",
       "13   12993000.0  12993000.0  12834000.0  12950000.0\n",
       "14   12988000.0  12992000.0  12914000.0  12914000.0\n",
       "15   13011000.0  13023000.0  12988000.0  12988000.0\n",
       "16   13064000.0  13074000.0  13006000.0  13011000.0\n",
       "17   13064000.0  13074000.0  13006000.0  13011000.0\n",
       "18   13064000.0  13074000.0  13006000.0  13011000.0\n",
       "19   13064000.0  13074000.0  13006000.0  13011000.0\n",
       "20   13064000.0  13074000.0  13006000.0  13011000.0\n",
       "21   13064000.0  13074000.0  13006000.0  13011000.0\n",
       "22   13064000.0  13074000.0  13006000.0  13011000.0\n",
       "23   13064000.0  13074000.0  13006000.0  13011000.0\n",
       "24   13064000.0  13074000.0  13006000.0  13011000.0\n",
       "25   13064000.0  13074000.0  13006000.0  13011000.0\n",
       "26   13064000.0  13074000.0  13006000.0  13011000.0\n",
       "27   13064000.0  13074000.0  13006000.0  13011000.0\n",
       "28   13064000.0  13074000.0  13006000.0  13011000.0\n",
       "29   13064000.0  13074000.0  13006000.0  13011000.0\n",
       "..          ...         ...         ...         ...\n",
       "425  16037000.0  16068000.0  16000000.0  16016000.0\n",
       "426  15994000.0  16045000.0  15994000.0  16037000.0\n",
       "427  15994000.0  15994000.0  15994000.0  15994000.0\n",
       "428  15994000.0  15994000.0  15994000.0  15994000.0\n",
       "429  15994000.0  15994000.0  15994000.0  15994000.0\n",
       "430  15994000.0  15994000.0  15994000.0  15994000.0\n",
       "431  15994000.0  15994000.0  15994000.0  15994000.0\n",
       "432  15994000.0  15994000.0  15994000.0  15994000.0\n",
       "433  15994000.0  15994000.0  15994000.0  15994000.0\n",
       "434  15994000.0  15994000.0  15994000.0  15994000.0\n",
       "435  15994000.0  15994000.0  15994000.0  15994000.0\n",
       "436  15994000.0  15994000.0  15994000.0  15994000.0\n",
       "437  15994000.0  15994000.0  15994000.0  15994000.0\n",
       "438  15994000.0  15994000.0  15994000.0  15994000.0\n",
       "439  15994000.0  15994000.0  15994000.0  15994000.0\n",
       "440  15994000.0  15994000.0  15994000.0  15994000.0\n",
       "441  15994000.0  15994000.0  15994000.0  15994000.0\n",
       "442  15994000.0  15994000.0  15994000.0  15994000.0\n",
       "443  15994000.0  15994000.0  15994000.0  15994000.0\n",
       "444  15994000.0  15994000.0  15994000.0  15994000.0\n",
       "445  15994000.0  15994000.0  15994000.0  15994000.0\n",
       "446  15994000.0  15994000.0  15994000.0  15994000.0\n",
       "447  15994000.0  15994000.0  15994000.0  15994000.0\n",
       "448  15994000.0  15994000.0  15994000.0  15994000.0\n",
       "449  15994000.0  15994000.0  15994000.0  15994000.0\n",
       "450  15994000.0  15994000.0  15994000.0  15994000.0\n",
       "451  15994000.0  15994000.0  15994000.0  15994000.0\n",
       "452  15994000.0  15994000.0  15994000.0  15994000.0\n",
       "453  15994000.0  15994000.0  15994000.0  15994000.0\n",
       "454  15994000.0  15994000.0  15994000.0  15994000.0\n",
       "\n",
       "[455 rows x 4 columns]"
      ]
     },
     "execution_count": 4,
     "metadata": {},
     "output_type": "execute_result"
    }
   ],
   "source": [
    "bithumb_price = pd.DataFrame({'open': bithumb['open'], \n",
    "                                 'high': bithumb['high'],\n",
    "                                 'low': bithumb['low'],\n",
    "                                 'close': bithumb['close']})\n",
    "bithumb_price"
   ]
  },
  {
   "cell_type": "code",
   "execution_count": 11,
   "metadata": {
    "colab": {
     "autoexec": {
      "startup": false,
      "wait_interval": 0
     },
     "output_extras": [
      {}
     ]
    },
    "colab_type": "code",
    "id": "PKM9PYCDArY9",
    "outputId": "4992d424-c325-4364-aed0-9897d6c3012b"
   },
   "outputs": [
    {
     "data": {
      "text/plain": [
       "pandas.core.frame.DataFrame"
      ]
     },
     "execution_count": 11,
     "metadata": {},
     "output_type": "execute_result"
    }
   ],
   "source": [
    "type(bithumb_price)"
   ]
  },
  {
   "cell_type": "code",
   "execution_count": 12,
   "metadata": {
    "colab": {
     "autoexec": {
      "startup": false,
      "wait_interval": 0
     },
     "output_extras": [
      {}
     ]
    },
    "colab_type": "code",
    "id": "IKeRGZbRArZK",
    "outputId": "24a5c015-f1b2-4ded-8567-b55acdc7f443"
   },
   "outputs": [
    {
     "data": {
      "text/html": [
       "<div>\n",
       "<style>\n",
       "    .dataframe thead tr:only-child th {\n",
       "        text-align: right;\n",
       "    }\n",
       "\n",
       "    .dataframe thead th {\n",
       "        text-align: left;\n",
       "    }\n",
       "\n",
       "    .dataframe tbody tr th {\n",
       "        vertical-align: top;\n",
       "    }\n",
       "</style>\n",
       "<table border=\"1\" class=\"dataframe\">\n",
       "  <thead>\n",
       "    <tr style=\"text-align: right;\">\n",
       "      <th></th>\n",
       "      <th>close</th>\n",
       "      <th>high</th>\n",
       "      <th>low</th>\n",
       "      <th>open</th>\n",
       "    </tr>\n",
       "  </thead>\n",
       "  <tbody>\n",
       "    <tr>\n",
       "      <th>count</th>\n",
       "      <td>4.550000e+02</td>\n",
       "      <td>4.550000e+02</td>\n",
       "      <td>4.550000e+02</td>\n",
       "      <td>4.550000e+02</td>\n",
       "    </tr>\n",
       "    <tr>\n",
       "      <th>mean</th>\n",
       "      <td>1.436687e+07</td>\n",
       "      <td>1.440566e+07</td>\n",
       "      <td>1.431758e+07</td>\n",
       "      <td>1.435052e+07</td>\n",
       "    </tr>\n",
       "    <tr>\n",
       "      <th>std</th>\n",
       "      <td>1.027114e+06</td>\n",
       "      <td>1.033528e+06</td>\n",
       "      <td>1.036721e+06</td>\n",
       "      <td>1.042458e+06</td>\n",
       "    </tr>\n",
       "    <tr>\n",
       "      <th>min</th>\n",
       "      <td>1.268700e+07</td>\n",
       "      <td>1.274400e+07</td>\n",
       "      <td>1.268700e+07</td>\n",
       "      <td>1.273500e+07</td>\n",
       "    </tr>\n",
       "    <tr>\n",
       "      <th>25%</th>\n",
       "      <td>1.306400e+07</td>\n",
       "      <td>1.307400e+07</td>\n",
       "      <td>1.300600e+07</td>\n",
       "      <td>1.301100e+07</td>\n",
       "    </tr>\n",
       "    <tr>\n",
       "      <th>50%</th>\n",
       "      <td>1.442100e+07</td>\n",
       "      <td>1.449300e+07</td>\n",
       "      <td>1.440000e+07</td>\n",
       "      <td>1.442200e+07</td>\n",
       "    </tr>\n",
       "    <tr>\n",
       "      <th>75%</th>\n",
       "      <td>1.513450e+07</td>\n",
       "      <td>1.519950e+07</td>\n",
       "      <td>1.509250e+07</td>\n",
       "      <td>1.513400e+07</td>\n",
       "    </tr>\n",
       "    <tr>\n",
       "      <th>max</th>\n",
       "      <td>1.639800e+07</td>\n",
       "      <td>1.640000e+07</td>\n",
       "      <td>1.633200e+07</td>\n",
       "      <td>1.639000e+07</td>\n",
       "    </tr>\n",
       "  </tbody>\n",
       "</table>\n",
       "</div>"
      ],
      "text/plain": [
       "              close          high           low          open\n",
       "count  4.550000e+02  4.550000e+02  4.550000e+02  4.550000e+02\n",
       "mean   1.436687e+07  1.440566e+07  1.431758e+07  1.435052e+07\n",
       "std    1.027114e+06  1.033528e+06  1.036721e+06  1.042458e+06\n",
       "min    1.268700e+07  1.274400e+07  1.268700e+07  1.273500e+07\n",
       "25%    1.306400e+07  1.307400e+07  1.300600e+07  1.301100e+07\n",
       "50%    1.442100e+07  1.449300e+07  1.440000e+07  1.442200e+07\n",
       "75%    1.513450e+07  1.519950e+07  1.509250e+07  1.513400e+07\n",
       "max    1.639800e+07  1.640000e+07  1.633200e+07  1.639000e+07"
      ]
     },
     "execution_count": 12,
     "metadata": {},
     "output_type": "execute_result"
    }
   ],
   "source": [
    "bithumb_price_info = bithumb_price.describe()\n",
    "bithumb_price_info"
   ]
  },
  {
   "cell_type": "markdown",
   "metadata": {
    "colab_type": "text",
    "id": "kh1nU4RLArZW"
   },
   "source": [
    "# 지수 표현 관련\n",
    "\n",
    "    숫자가 너무 크거나 작은 경우에 scientific notation으로 표현된다."
   ]
  },
  {
   "cell_type": "code",
   "execution_count": 13,
   "metadata": {
    "colab": {
     "autoexec": {
      "startup": false,
      "wait_interval": 0
     },
     "output_extras": [
      {}
     ]
    },
    "colab_type": "code",
    "id": "HofUWET8ArZY",
    "outputId": "e0790e4f-073f-4505-baab-56c0885e676c"
   },
   "outputs": [
    {
     "data": {
      "text/html": [
       "<div>\n",
       "<style>\n",
       "    .dataframe thead tr:only-child th {\n",
       "        text-align: right;\n",
       "    }\n",
       "\n",
       "    .dataframe thead th {\n",
       "        text-align: left;\n",
       "    }\n",
       "\n",
       "    .dataframe tbody tr th {\n",
       "        vertical-align: top;\n",
       "    }\n",
       "</style>\n",
       "<table border=\"1\" class=\"dataframe\">\n",
       "  <thead>\n",
       "    <tr style=\"text-align: right;\">\n",
       "      <th></th>\n",
       "      <th>close</th>\n",
       "      <th>high</th>\n",
       "      <th>low</th>\n",
       "      <th>open</th>\n",
       "    </tr>\n",
       "  </thead>\n",
       "  <tbody>\n",
       "    <tr>\n",
       "      <th>count</th>\n",
       "      <td>455</td>\n",
       "      <td>455</td>\n",
       "      <td>455</td>\n",
       "      <td>455</td>\n",
       "    </tr>\n",
       "    <tr>\n",
       "      <th>mean</th>\n",
       "      <td>14366866</td>\n",
       "      <td>14405657</td>\n",
       "      <td>14317582</td>\n",
       "      <td>14350523</td>\n",
       "    </tr>\n",
       "    <tr>\n",
       "      <th>std</th>\n",
       "      <td>1027114</td>\n",
       "      <td>1033528</td>\n",
       "      <td>1036721</td>\n",
       "      <td>1042458</td>\n",
       "    </tr>\n",
       "    <tr>\n",
       "      <th>min</th>\n",
       "      <td>12687000</td>\n",
       "      <td>12744000</td>\n",
       "      <td>12687000</td>\n",
       "      <td>12735000</td>\n",
       "    </tr>\n",
       "    <tr>\n",
       "      <th>25%</th>\n",
       "      <td>13064000</td>\n",
       "      <td>13074000</td>\n",
       "      <td>13006000</td>\n",
       "      <td>13011000</td>\n",
       "    </tr>\n",
       "    <tr>\n",
       "      <th>50%</th>\n",
       "      <td>14421000</td>\n",
       "      <td>14493000</td>\n",
       "      <td>14400000</td>\n",
       "      <td>14422000</td>\n",
       "    </tr>\n",
       "    <tr>\n",
       "      <th>75%</th>\n",
       "      <td>15134500</td>\n",
       "      <td>15199500</td>\n",
       "      <td>15092500</td>\n",
       "      <td>15134000</td>\n",
       "    </tr>\n",
       "    <tr>\n",
       "      <th>max</th>\n",
       "      <td>16398000</td>\n",
       "      <td>16400000</td>\n",
       "      <td>16332000</td>\n",
       "      <td>16390000</td>\n",
       "    </tr>\n",
       "  </tbody>\n",
       "</table>\n",
       "</div>"
      ],
      "text/plain": [
       "          close      high       low      open\n",
       "count       455       455       455       455\n",
       "mean   14366866  14405657  14317582  14350523\n",
       "std     1027114   1033528   1036721   1042458\n",
       "min    12687000  12744000  12687000  12735000\n",
       "25%    13064000  13074000  13006000  13011000\n",
       "50%    14421000  14493000  14400000  14422000\n",
       "75%    15134500  15199500  15092500  15134000\n",
       "max    16398000  16400000  16332000  16390000"
      ]
     },
     "execution_count": 13,
     "metadata": {},
     "output_type": "execute_result"
    }
   ],
   "source": [
    "bithumb_price_info['open'] = bithumb_price_info['open'].apply(lambda x: '{:.0f}'.format(x))\n",
    "bithumb_price_info['high'] = bithumb_price_info['high'].apply(lambda x: '{:.0f}'.format(x))\n",
    "bithumb_price_info['low'] = bithumb_price_info['low'].apply(lambda x: '{:.0f}'.format(x))\n",
    "bithumb_price_info['close'] = bithumb_price_info['close'].apply(lambda x: '{:.0f}'.format(x))\n",
    "bithumb_price_info"
   ]
  },
  {
   "cell_type": "markdown",
   "metadata": {
    "colab_type": "text",
    "id": "iNfAseR8ArZi"
   },
   "source": [
    "# pandas.describe()\n",
    "\n",
    "    데이터의 범위와 변동성 등 전체적인 데이터의 모습을 파악하기 위해 사용하는 함수"
   ]
  },
  {
   "cell_type": "code",
   "execution_count": 14,
   "metadata": {
    "colab": {
     "autoexec": {
      "startup": false,
      "wait_interval": 0
     },
     "output_extras": [
      {}
     ]
    },
    "colab_type": "code",
    "id": "9MXHPtl2ArZj",
    "outputId": "3d8dbf80-bbd4-4abc-b7af-3b202f1920e2"
   },
   "outputs": [
    {
     "data": {
      "text/plain": [
       "close    14421000.0\n",
       "high     14493000.0\n",
       "low      14400000.0\n",
       "open     14422000.0\n",
       "Name: 0.5, dtype: float64"
      ]
     },
     "execution_count": 14,
     "metadata": {},
     "output_type": "execute_result"
    }
   ],
   "source": [
    "bithumb_price_qunatile = bithumb_price.quantile() # default는 0.5\n",
    "bithumb_price_qunatile"
   ]
  },
  {
   "cell_type": "code",
   "execution_count": 15,
   "metadata": {
    "colab": {
     "autoexec": {
      "startup": false,
      "wait_interval": 0
     },
     "output_extras": [
      {}
     ]
    },
    "colab_type": "code",
    "id": "du3mn5UWArZy",
    "outputId": "76338e51-3fd8-4c97-c6b7-49c5f007b6b9"
   },
   "outputs": [
    {
     "data": {
      "text/html": [
       "<div>\n",
       "<style>\n",
       "    .dataframe thead tr:only-child th {\n",
       "        text-align: right;\n",
       "    }\n",
       "\n",
       "    .dataframe thead th {\n",
       "        text-align: left;\n",
       "    }\n",
       "\n",
       "    .dataframe tbody tr th {\n",
       "        vertical-align: top;\n",
       "    }\n",
       "</style>\n",
       "<table border=\"1\" class=\"dataframe\">\n",
       "  <thead>\n",
       "    <tr style=\"text-align: right;\">\n",
       "      <th></th>\n",
       "      <th>close</th>\n",
       "      <th>high</th>\n",
       "      <th>low</th>\n",
       "      <th>open</th>\n",
       "    </tr>\n",
       "  </thead>\n",
       "  <tbody>\n",
       "    <tr>\n",
       "      <th>0.25</th>\n",
       "      <td>13064000.0</td>\n",
       "      <td>13074000.0</td>\n",
       "      <td>13006000.0</td>\n",
       "      <td>13011000.0</td>\n",
       "    </tr>\n",
       "    <tr>\n",
       "      <th>0.50</th>\n",
       "      <td>14421000.0</td>\n",
       "      <td>14493000.0</td>\n",
       "      <td>14400000.0</td>\n",
       "      <td>14422000.0</td>\n",
       "    </tr>\n",
       "    <tr>\n",
       "      <th>0.75</th>\n",
       "      <td>15134500.0</td>\n",
       "      <td>15199500.0</td>\n",
       "      <td>15092500.0</td>\n",
       "      <td>15134000.0</td>\n",
       "    </tr>\n",
       "  </tbody>\n",
       "</table>\n",
       "</div>"
      ],
      "text/plain": [
       "           close        high         low        open\n",
       "0.25  13064000.0  13074000.0  13006000.0  13011000.0\n",
       "0.50  14421000.0  14493000.0  14400000.0  14422000.0\n",
       "0.75  15134500.0  15199500.0  15092500.0  15134000.0"
      ]
     },
     "execution_count": 15,
     "metadata": {},
     "output_type": "execute_result"
    }
   ],
   "source": [
    "bithumb_price_qunatile = bithumb_price.quantile([.25, .5, .75])\n",
    "bithumb_price_qunatile"
   ]
  },
  {
   "cell_type": "code",
   "execution_count": null,
   "metadata": {
    "colab": {
     "autoexec": {
      "startup": false,
      "wait_interval": 0
     }
    },
    "colab_type": "code",
    "collapsed": true,
    "id": "nHtPVdOYArZ8"
   },
   "outputs": [],
   "source": [
    "# plt.hist(array)"
   ]
  },
  {
   "cell_type": "markdown",
   "metadata": {
    "colab_type": "text",
    "id": "jHg9Xq41AraM"
   },
   "source": [
    "# 히스토그램\n",
    "\n",
    "    데이터는 크게 수치형 데이터(연속형 데이터)와 범주형 데이터(카테고리컬 데이터, 이산형 데이터)로 나누어진다.\n",
    "\n",
    "    범주형 데이터는 다시 명목형 데이터(nominal data)와 순서형 데이터(ordinal data)로 나누어진다.\n",
    "\n",
    "    예) 성별 데이터 : 범주형 데이터\n",
    "         걸그룹 선호도 데이터 : 좋아/싫어의 범주형 데이터\n",
    "         0~99, 100~199, 200~299, 300~400 이렇게 되면 이것들은 범주형 데이터( 간격이 일정하지 않으니까)\n",
    "         \n",
    "    연속 데이터는 데이터들 사이의 간격이 일정하다. ex)시간간격\n",
    "    \n",
    "    수치+범주는 통상적으로 y축에 수치가 나타난다. x축에는 범주가 나타난다. 이 때 범주에 해당하는 빈도를 만들어서 표시한 것이 히스토그램이다."
   ]
  },
  {
   "cell_type": "code",
   "execution_count": 16,
   "metadata": {
    "colab": {
     "autoexec": {
      "startup": false,
      "wait_interval": 0
     }
    },
    "colab_type": "code",
    "collapsed": true,
    "id": "qqWX5WJ9AraP"
   },
   "outputs": [],
   "source": [
    "def price_histogram(price, price_type):\n",
    "    highest_freq = 0\n",
    "    highest_freq_index = 0\n",
    "    \n",
    "\n",
    "    (n, bins, patched) = plt.hist(price[price_type])\n",
    "    plt.axvline(price[price_type].mean(), color='red')\n",
    "    plt.show()\n",
    "    for index in range(len(n)):\n",
    "        print(\"Bin : {:.0f}, {:5s} Frequency = {:.0f}\".format(bins[index], \" \", n[index]))\n",
    "        \n",
    "        if highest_freq < int(n[index]):\n",
    "            highest_freq = int(n[index])\n",
    "            highest_freq_index = (index)\n",
    "            \n",
    "\n",
    "#     print(highest_freq)\n",
    "#     print(highest_freq_index)\n",
    " \n",
    "    print(\"{:s} price에서는 {:.0f}원에서 {:d}회의 최다 빈도를 보이고 있다\".format(price_type,bins[highest_freq_index], highest_freq))"
   ]
  },
  {
   "cell_type": "code",
   "execution_count": 17,
   "metadata": {
    "colab": {
     "autoexec": {
      "startup": false,
      "wait_interval": 0
     },
     "output_extras": [
      {},
      {},
      {},
      {},
      {},
      {},
      {},
      {}
     ]
    },
    "colab_type": "code",
    "id": "6hiER9EVAraW",
    "outputId": "b121c424-788a-429e-a814-07971f975b2b"
   },
   "outputs": [
    {
     "data": {
      "image/png": "[encoded data removed]",
      "text/plain": [
       "<matplotlib.figure.Figure at 0x1078abd68>"
      ]
     },
     "metadata": {},
     "output_type": "display_data"
    },
    {
     "name": "stdout",
     "output_type": "stream",
     "text": [
      "Bin : 12735000,       Frequency = 134\n",
      "Bin : 13100500,       Frequency = 0\n",
      "Bin : 13466000,       Frequency = 4\n",
      "Bin : 13831500,       Frequency = 51\n",
      "Bin : 14197000,       Frequency = 51\n",
      "Bin : 14562500,       Frequency = 58\n",
      "Bin : 14928000,       Frequency = 53\n",
      "Bin : 15293500,       Frequency = 51\n",
      "Bin : 15659000,       Frequency = 41\n",
      "Bin : 16024500,       Frequency = 12\n",
      "open price에서는 12735000원에서 134회의 최다 빈도를 보이고 있다\n"
     ]
    },
    {
     "data": {
      "image/png": "[encoded data removed]",
      "text/plain": [
       "<matplotlib.figure.Figure at 0x10c872278>"
      ]
     },
     "metadata": {},
     "output_type": "display_data"
    },
    {
     "name": "stdout",
     "output_type": "stream",
     "text": [
      "Bin : 12744000,       Frequency = 134\n",
      "Bin : 13109600,       Frequency = 0\n",
      "Bin : 13475200,       Frequency = 2\n",
      "Bin : 13840800,       Frequency = 44\n",
      "Bin : 14206400,       Frequency = 53\n",
      "Bin : 14572000,       Frequency = 60\n",
      "Bin : 14937600,       Frequency = 56\n",
      "Bin : 15303200,       Frequency = 49\n",
      "Bin : 15668800,       Frequency = 42\n",
      "Bin : 16034400,       Frequency = 15\n",
      "high price에서는 12744000원에서 134회의 최다 빈도를 보이고 있다\n"
     ]
    },
    {
     "data": {
      "image/png": "[encoded data removed]",
      "text/plain": [
       "<matplotlib.figure.Figure at 0x10fbb1cf8>"
      ]
     },
     "metadata": {},
     "output_type": "display_data"
    },
    {
     "name": "stdout",
     "output_type": "stream",
     "text": [
      "Bin : 12687000,       Frequency = 134\n",
      "Bin : 13051500,       Frequency = 0\n",
      "Bin : 13416000,       Frequency = 8\n",
      "Bin : 13780500,       Frequency = 43\n",
      "Bin : 14145000,       Frequency = 57\n",
      "Bin : 14509500,       Frequency = 52\n",
      "Bin : 14874000,       Frequency = 56\n",
      "Bin : 15238500,       Frequency = 50\n",
      "Bin : 15603000,       Frequency = 11\n",
      "Bin : 15967500,       Frequency = 44\n",
      "low price에서는 12687000원에서 134회의 최다 빈도를 보이고 있다\n"
     ]
    },
    {
     "data": {
      "image/png": "[encoded data removed]",
      "text/plain": [
       "<matplotlib.figure.Figure at 0x10fc98e48>"
      ]
     },
     "metadata": {},
     "output_type": "display_data"
    },
    {
     "name": "stdout",
     "output_type": "stream",
     "text": [
      "Bin : 12687000,       Frequency = 16\n",
      "Bin : 13058100,       Frequency = 118\n",
      "Bin : 13429200,       Frequency = 4\n",
      "Bin : 13800300,       Frequency = 44\n",
      "Bin : 14171400,       Frequency = 58\n",
      "Bin : 14542500,       Frequency = 56\n",
      "Bin : 14913600,       Frequency = 55\n",
      "Bin : 15284700,       Frequency = 49\n",
      "Bin : 15655800,       Frequency = 43\n",
      "Bin : 16026900,       Frequency = 12\n",
      "close price에서는 13058100원에서 118회의 최다 빈도를 보이고 있다\n"
     ]
    }
   ],
   "source": [
    "price_histogram(bithumb_price, 'open')\n",
    "price_histogram(bithumb_price, 'high')\n",
    "price_histogram(bithumb_price, 'low')\n",
    "price_histogram(bithumb_price, 'close')"
   ]
  },
  {
   "cell_type": "markdown",
   "metadata": {
    "colab_type": "text",
    "id": "8HFmBzL1Arak"
   },
   "source": [
    "**히스토그램 결과 해석**\n",
    "\n",
    "    - 중심 성향(Central Tendency)\n",
    "        - \"데이터가 평균값을 중심으로 분포되어 있는가?\"\n",
    "            최다빈도가 발생한 가격 구간이 아닌 곳에서 평균값(빨간색 굵은선)이 발생한 것이 아니므로, 이런 경우 '중심 성향이 낮다'고 한다.\n",
    "    - Modes\n",
    "        - \"하나 이상의 무리가 있는가?\"\n",
    "            Bin : 18004000\n",
    "            Bin : 18266200\n",
    "            Bin : 18353600\n",
    "            이렇게 총 세 개의 무리가 있다.\n",
    "            \n",
    "            * 모드란, \n",
    "                mode 또는 modal value라고도 부르는데, 주변보다 높은 빈도를 보이는 곳을 말한다. 모드는 하나도 없을 수도 있고, 여러 개의 모드(multi-mode)를 가질 수도 있다. 꼭 최다빈도인 곳을 의미하는 것은 아니다.\n",
    "                None: 1, 2, 3, 4, 6, 8, 9.\n",
    "                One mode: (unimodal) 1, 2, 3, 3, 4, 5. (3이 2번의 최다 빈도)\n",
    "                Two: (bimodal) 1, 1, 2, 3, 4, 4, 5. (1, 4가 2번의 최다 빈도)\n",
    "                Three: (trimodal) 1, 1, 2, 3, 3, 4, 5, 5. (1, 3, 5가 2번의 최다 빈도)\n",
    "                More than one (two, three or more) = multimodal.\n",
    "\n",
    "<http://www.statisticshowto.com/mode/>\n",
    "              "
   ]
  },
  {
   "cell_type": "markdown",
   "metadata": {
    "colab_type": "text",
    "id": "qWscwODcArao"
   },
   "source": [
    "# 산점도\n",
    "\n",
    "    2개 변수간의 상관관계를 그린 그래프\n",
    "    데이터가 여기저기 무작위로 흩어져 있는 형태라면 두 변수간에는 선형관계가 없는 것이다."
   ]
  },
  {
   "cell_type": "code",
   "execution_count": 18,
   "metadata": {
    "colab": {
     "autoexec": {
      "startup": false,
      "wait_interval": 0
     },
     "output_extras": [
      {},
      {}
     ]
    },
    "colab_type": "code",
    "id": "V55i-UXeArap",
    "outputId": "bd25b6df-83dd-4ca1-f9b1-44c03e4e7e00"
   },
   "outputs": [
    {
     "name": "stderr",
     "output_type": "stream",
     "text": [
      "/Users/dohk/anaconda3/lib/python3.6/site-packages/ipykernel_launcher.py:2: FutureWarning: 'pandas.tools.plotting.scatter_matrix' is deprecated, import 'pandas.plotting.scatter_matrix' instead.\n",
      "  \n"
     ]
    },
    {
     "data": {
      "image/png": "[encoded data removed]",
      "text/plain": [
       "<matplotlib.figure.Figure at 0x1078abc18>"
      ]
     },
     "metadata": {},
     "output_type": "display_data"
    }
   ],
   "source": [
    "from pandas.tools.plotting import scatter_matrix\n",
    "scatter_matrix(bithumb_price[['open', 'high', 'low', 'close']], alpha=0.7, figsize=(6, 6), diagonal='kde')\n",
    "plt.show()"
   ]
  },
  {
   "cell_type": "markdown",
   "metadata": {
    "colab_type": "text",
    "id": "omBX9hJdAray"
   },
   "source": [
    "    open과 low, close, \n",
    "    high와 low, close 등은 곡선관계에 있는 것으로 보인다.\n",
    "    \n",
    "    open과 high는 중간 양의 상관 관계에 있는 것으로 보인다.\n",
    "    \n",
    "    위 그림의 대각선으로 나타난 그래프는 어떤 변수가 가질 수 있는 값의 범위를 x축으로 하여 해당 값을 가질 확률을 추정할 수 있게 하는 '커널밀도추정(Kernel Density Estimation)'을 그래프로 나타낸 것이다.\n",
    "    \"밀도 추정은 데이터로 부터 변수가 가질 수 있는 모든 값의 밀도(확률)을 추정하는 것\"\n",
    "<https://medium.com/mathpresso/mathpresso-%EB%A8%B8%EC%8B%A0-%EB%9F%AC%EB%8B%9D-%EC%8A%A4%ED%84%B0%EB%94%94-14-%EB%B0%80%EB%8F%84-%EC%B6%94%EC%A0%95-density-estimation-38fd7ef729bb>\n",
    "    ....\n",
    "    \n",
    "    close를 예로 들면, 1825000이상의 값을 가질 확률이 높은 것을 볼 수 있는데, 실제로 close의 가격은 1825000이상의 값들로 이루어져 있다.\n",
    "    "
   ]
  },
  {
   "cell_type": "markdown",
   "metadata": {
    "colab_type": "text",
    "id": "Xl1e7s_3Ara7"
   },
   "source": [
    "# 상자그림"
   ]
  },
  {
   "cell_type": "code",
   "execution_count": 19,
   "metadata": {
    "colab": {
     "autoexec": {
      "startup": false,
      "wait_interval": 0
     },
     "output_extras": [
      {}
     ]
    },
    "colab_type": "code",
    "id": "NtOXvI7IAra9",
    "outputId": "b8f7046c-1b32-4e1e-8266-73592535f8ca"
   },
   "outputs": [
    {
     "data": {
      "image/png": "[encoded data removed]",
      "text/plain": [
       "<matplotlib.figure.Figure at 0x1a11a08898>"
      ]
     },
     "metadata": {},
     "output_type": "display_data"
    }
   ],
   "source": [
    "bithumb_price[['open', 'high', 'low', 'close']].plot(kind='box')\n",
    "plt.show()"
   ]
  },
  {
   "cell_type": "markdown",
   "metadata": {
    "colab_type": "text",
    "id": "DOOtILkFArbH"
   },
   "source": [
    "    low변수의 값들이 대체로 낮은 값을 가지는 경향을 관찰할 수 있다.\n",
    "    상자그림으로 이상치도 알 수 있는데, 현재는 보이지 않는다.\n",
    "    \n",
    "    위의 상자 그림을 통해서 50%구간에 해당하는 분포의 범위를 파악할 수 있다.(정규분포라는 가정하에). whisker는 상위 24.65%와 하위 24.65%를 나타낸다.\n",
    "\n",
    "<img src=\"https://openclipart.org/image/2400px/svg_to_png/244707/Boxplot.png\" width=50%></img>\n",
    "\n",
    "\n",
    "    박스의 크기가 작을수록 데이터들이 median(중앙값)에 몰려있다는 의미\n",
    "    \n",
    " "
   ]
  },
  {
   "cell_type": "code",
   "execution_count": null,
   "metadata": {
    "colab": {
     "autoexec": {
      "startup": false,
      "wait_interval": 0
     },
     "output_extras": [
      {}
     ]
    },
    "colab_type": "code",
    "id": "LKo-e2uKArbj",
    "outputId": "16b79bb8-1ab9-4ec1-8c9d-368fabdeaace"
   },
   "outputs": [
    {
     "data": {
      "text/plain": [
       "{'close': [15900.2,\n",
       "  15888.0,\n",
       "  15820.0,\n",
       "  15782.4,\n",
       "  15665.0,\n",
       "  15666.5,\n",
       "  15900.0,\n",
       "  15895.0,\n",
       "  15960.9,\n",
       "  15915.0,\n",
       "  15816.0,\n",
       "  15784.5,\n",
       "  16000.0,\n",
       "  16090.0,\n",
       "  15890.8,\n",
       "  15899.8,\n",
       "  15880.9,\n",
       "  15879.0,\n",
       "  15901.5,\n",
       "  15890.0,\n",
       "  16000.0,\n",
       "  15933.2,\n",
       "  15812.0,\n",
       "  15600.0,\n",
       "  15420.0,\n",
       "  15250.0],\n",
       " 'date': ['2017-12-14 01:20:00',\n",
       "  '2017-12-14 01:25:00',\n",
       "  '2017-12-14 01:30:00',\n",
       "  '2017-12-14 01:35:00',\n",
       "  '2017-12-14 01:40:00',\n",
       "  '2017-12-14 01:45:00',\n",
       "  '2017-12-14 01:50:00',\n",
       "  '2017-12-14 01:55:00',\n",
       "  '2017-12-14 02:00:00',\n",
       "  '2017-12-14 02:05:00',\n",
       "  '2017-12-14 02:10:00',\n",
       "  '2017-12-14 02:15:00',\n",
       "  '2017-12-14 02:20:00',\n",
       "  '2017-12-14 02:25:00',\n",
       "  '2017-12-14 02:30:00',\n",
       "  '2017-12-14 02:35:00',\n",
       "  '2017-12-14 02:40:00',\n",
       "  '2017-12-14 02:45:00',\n",
       "  '2017-12-14 02:50:00',\n",
       "  '2017-12-14 02:55:00',\n",
       "  '2017-12-14 03:00:00',\n",
       "  '2017-12-14 03:05:00',\n",
       "  '2017-12-14 03:10:00',\n",
       "  '2017-12-14 03:15:00',\n",
       "  '2017-12-14 03:20:00',\n",
       "  '2017-12-14 03:25:00'],\n",
       " 'high': [15965.1,\n",
       "  15983.2,\n",
       "  15890.1,\n",
       "  15830.2,\n",
       "  15791.0,\n",
       "  15779.1,\n",
       "  15990.1,\n",
       "  15950.0,\n",
       "  16000.0,\n",
       "  15999.0,\n",
       "  15959.9,\n",
       "  15828.0,\n",
       "  16060.4,\n",
       "  16099.0,\n",
       "  16090.0,\n",
       "  16000.0,\n",
       "  15933.8,\n",
       "  16000.0,\n",
       "  15949.0,\n",
       "  15998.0,\n",
       "  16000.0,\n",
       "  16102.0,\n",
       "  15981.8,\n",
       "  15850.0,\n",
       "  15623.4,\n",
       "  15442.0],\n",
       " 'low': [15710.0,\n",
       "  15877.0,\n",
       "  15701.0,\n",
       "  15705.0,\n",
       "  15650.0,\n",
       "  15600.0,\n",
       "  15650.0,\n",
       "  15775.9,\n",
       "  15790.6,\n",
       "  15915.0,\n",
       "  15800.0,\n",
       "  15750.8,\n",
       "  15772.9,\n",
       "  15995.3,\n",
       "  15885.6,\n",
       "  15751.6,\n",
       "  15824.4,\n",
       "  15851.2,\n",
       "  15865.0,\n",
       "  15871.0,\n",
       "  15850.9,\n",
       "  15910.0,\n",
       "  15810.9,\n",
       "  15600.0,\n",
       "  15400.0,\n",
       "  15250.0],\n",
       " 'meta': ['TRADE_BTC',\n",
       "  '2017-12-14 01:20:00',\n",
       "  '2017-12-14 03:30:00',\n",
       "  'poloniex',\n",
       "  5],\n",
       " 'open': [15710.0,\n",
       "  15902.1,\n",
       "  15888.0,\n",
       "  15820.0,\n",
       "  15782.4,\n",
       "  15665.0,\n",
       "  15708.2,\n",
       "  15900.0,\n",
       "  15895.0,\n",
       "  15960.9,\n",
       "  15959.0,\n",
       "  15816.0,\n",
       "  15795.2,\n",
       "  15997.5,\n",
       "  16090.0,\n",
       "  15895.4,\n",
       "  15899.8,\n",
       "  15880.9,\n",
       "  15879.0,\n",
       "  15901.5,\n",
       "  15890.0,\n",
       "  16000.0,\n",
       "  15959.0,\n",
       "  15812.0,\n",
       "  15614.6,\n",
       "  15440.0]}"
      ]
     },
     "execution_count": 21,
     "metadata": {
      "tags": []
     },
     "output_type": "execute_result"
    }
   ],
   "source": [
    "f = open(Spark_app_name+'.pickle', 'rb')\n",
    "poloniex = pickle.load(f)\n",
    "poloniex"
   ]
  },
  {
   "cell_type": "code",
   "execution_count": null,
   "metadata": {
    "colab": {
     "autoexec": {
      "startup": false,
      "wait_interval": 0
     }
    },
    "colab_type": "code",
    "collapsed": true,
    "id": "VglJ8ok3Arbs"
   },
   "outputs": [],
   "source": [
    "poloniex_price = pd.DataFrame({'open': poloniex['open'], \n",
    "                                 'high': poloniex['high'],\n",
    "                                 'low': poloniex['low'],\n",
    "                                 'close': poloniex['close']})"
   ]
  },
  {
   "cell_type": "markdown",
   "metadata": {
    "colab_type": "text",
    "id": "UtiiXjMXArb0"
   },
   "source": [
    "# 공분산\n",
    "\n",
    "    공분산이란, 두 변수의 상관정도를 나타내는 값으로, Cov(x,y)로 표기한다."
   ]
  },
  {
   "cell_type": "code",
   "execution_count": null,
   "metadata": {
    "colab": {
     "autoexec": {
      "startup": false,
      "wait_interval": 0
     }
    },
    "colab_type": "code",
    "collapsed": true,
    "id": "XT6pmgQmArb2"
   },
   "outputs": [],
   "source": [
    "def print_covariance_price(var1, var2, price_type):\n",
    "    if var1[price_type].cov(var2[price_type]) > 0:\n",
    "        print(\"{:8s}과 {:8s}의 {:5s}의 공분산 값은 {:.2f}로서, 양의 방향성을 갖는다.\".format(\"bithumb\", \"poloniex\", price_type, var1[price_type].cov(var2[price_type])))\n",
    "    elif var1[price_type].cov(var2[price_type]) == 0:\n",
    "        print(\"{:8s}과 {:8s}의 {:5s}의 공분산 값은 {:.2f}로서, 방향성이 없다.\".format(\"bithumb\", \"poloniex\", price_type, var1[price_type].cov(var2[price_type])))\n",
    "    else:\n",
    "        print(\"{:8s}과 {:8s}의 {:5s}의 공분산 값은 {:.2f}로서, 음의 방향성을 갖는다.\".format(\"bithumb\", \"poloniex\", price_type, var1[price_type].cov(var2[price_type])))"
   ]
  },
  {
   "cell_type": "code",
   "execution_count": null,
   "metadata": {
    "colab": {
     "autoexec": {
      "startup": false,
      "wait_interval": 0
     },
     "output_extras": [
      {}
     ]
    },
    "colab_type": "code",
    "id": "TrhRkntCArcA",
    "outputId": "5c39cc30-38d8-4084-feef-62dc5ae17d1b"
   },
   "outputs": [
    {
     "name": "stdout",
     "output_type": "stream",
     "text": [
      "bithumb 과 poloniex의 open 의 공분산 값은 1969978.92로서, 양의 방향성을 갖는다.\n",
      "bithumb 과 poloniex의 high 의 공분산 값은 5953828.92로서, 양의 방향성을 갖는다.\n",
      "bithumb 과 poloniex의 low  의 공분산 값은 5727288.92로서, 양의 방향성을 갖는다.\n",
      "bithumb 과 poloniex의 close의 공분산 값은 10592934.00로서, 양의 방향성을 갖는다.\n"
     ]
    }
   ],
   "source": [
    "print_covariance_price(bithumb_price, poloniex_price, 'open')\n",
    "print_covariance_price(bithumb_price, poloniex_price, 'high')\n",
    "print_covariance_price(bithumb_price, poloniex_price, 'low')\n",
    "print_covariance_price(bithumb_price, poloniex_price, 'close')"
   ]
  },
  {
   "cell_type": "markdown",
   "metadata": {
    "colab_type": "text",
    "id": "LzfgOYXeArcO"
   },
   "source": [
    "    공분산의 해석에 있어서, 크기가 중요한 것이 아니라 방향성을 나타내는 부호가 중요하다. \n",
    "    즉 공분산 값이 하나는 10, 다른 하나는 100이라고 할 때, 수치의 크기가 높다고 상관정도가 더 높다는 걸 의미하진 않는다.\n",
    "\n",
    "<img src=\"http://www.statisticshowto.com/wp-content/uploads/2013/12/g-covariance.gif\"></img>\n",
    "- 두 변수 모두 증가하는 관계다.\n",
    "- 두 변수는 선형적인 관계가 없다. 즉 두 변수는 독립적이다.\n",
    "- 두 변수 중 하나의 변수가 증가할 때 다른 한 변수는 감소하는 관계다."
   ]
  },
  {
   "cell_type": "markdown",
   "metadata": {
    "colab_type": "text",
    "id": "VxD1A_PPArcZ"
   },
   "source": [
    "# 상관계수\n",
    "\n",
    "    상관계수는 두 변수의 공분산을 정규화한 것으로서, Cor(x,y)로 나타낸다.\n",
    "    \n",
    "    공분산값과는 조금 다르게,\n",
    "    방향성과 함께 상관정도를 수치로 나타낸다.\n",
    "   \n",
    "    "
   ]
  },
  {
   "cell_type": "code",
   "execution_count": null,
   "metadata": {
    "colab": {
     "autoexec": {
      "startup": false,
      "wait_interval": 0
     }
    },
    "colab_type": "code",
    "collapsed": true,
    "id": "8sxiAv1bArcb"
   },
   "outputs": [],
   "source": [
    "def print_correlation_price(var1, var2, price_type):\n",
    "    print(\"{:8s}과 {:8s}의 {:6s}에 대한 상관계수는 {:1.3f}이다.\".format(\"bithumb\", \"poloniex\", price_type, var1[price_type].corr(var2[price_type])))"
   ]
  },
  {
   "cell_type": "code",
   "execution_count": null,
   "metadata": {
    "colab": {
     "autoexec": {
      "startup": false,
      "wait_interval": 0
     },
     "output_extras": [
      {}
     ]
    },
    "colab_type": "code",
    "id": "Lg-7xvD9Arcg",
    "outputId": "415a57d0-77b8-49aa-cbf3-eebad0931be4"
   },
   "outputs": [
    {
     "name": "stdout",
     "output_type": "stream",
     "text": [
      "bithumb 과 poloniex의 open  에 대한 상관계수는 0.112이다.\n",
      "bithumb 과 poloniex의 high  에 대한 상관계수는 0.341이다.\n",
      "bithumb 과 poloniex의 low   에 대한 상관계수는 0.254이다.\n",
      "bithumb 과 poloniex의 close 에 대한 상관계수는 0.428이다.\n"
     ]
    }
   ],
   "source": [
    "print_correlation_price(bithumb_price, poloniex_price, 'open')\n",
    "print_correlation_price(bithumb_price, poloniex_price, 'high')\n",
    "print_correlation_price(bithumb_price, poloniex_price, 'low')\n",
    "print_correlation_price(bithumb_price, poloniex_price, 'close')"
   ]
  },
  {
   "cell_type": "markdown",
   "metadata": {
    "colab_type": "text",
    "id": "zhkwHQqjArcn"
   },
   "source": [
    "    일반적으로 상관계수의 절대값이 0.3보다 작으면 약한 관계,\n",
    "    0.7보다 크면 강한 관계다.\n",
    "    값이 0일 경우 선형적으로 상관관계가 없다.\n",
    "    \n",
    "    open값과 low값의 경우, 두 거래소 간에는 약한 양의 상관관계를 가지고 있고\n",
    "    high값과 closer값의 경우, 두 거래소 간에 어느 정도 뚜렷한 양의 선형관계를 가지고 있다고 할 수 있다."
   ]
  },
  {
   "cell_type": "markdown",
   "metadata": {
    "colab_type": "text",
    "id": "hcAOC88DArcs"
   },
   "source": [
    "# 자기상관"
   ]
  },
  {
   "cell_type": "code",
   "execution_count": null,
   "metadata": {
    "colab": {
     "autoexec": {
      "startup": false,
      "wait_interval": 0
     },
     "output_extras": [
      {},
      {}
     ]
    },
    "colab_type": "code",
    "id": "7ooPdVJbArcu",
    "outputId": "0dc6c42b-6977-4a7f-be93-4b12d523f9d8"
   },
   "outputs": [
    {
     "name": "stderr",
     "output_type": "stream",
     "text": [
      "/Users/do-hyungkwon/anaconda/lib/python3.6/site-packages/ipykernel_launcher.py:4: FutureWarning: 'pandas.tools.plotting.autocorrelation_plot' is deprecated, import 'pandas.plotting.autocorrelation_plot' instead.\n",
      "  after removing the cwd from sys.path.\n"
     ]
    },
    {
     "data": {
      "image/png": "[encoded data removed]",
      "text/plain": [
       "<matplotlib.figure.Figure at 0x117032630>"
      ]
     },
     "metadata": {
      "tags": []
     },
     "output_type": "display_data"
    }
   ],
   "source": [
    "from pandas.tools.plotting import scatter_matrix, autocorrelation_plot\n",
    "fig, axs = plt.subplots(2,1)\n",
    "bithumb_price['close'].plot(ax=axs[0])\n",
    "autocorrelation_plot(bithumb_price['close'], ax=axs[1])\n",
    "plt.show()"
   ]
  },
  {
   "cell_type": "code",
   "execution_count": null,
   "metadata": {
    "colab": {
     "autoexec": {
      "startup": false,
      "wait_interval": 0
     },
     "output_extras": [
      {}
     ]
    },
    "colab_type": "code",
    "id": "gZ9ZqGtKArdC",
    "outputId": "d5bb7d8d-6750-4854-d1e5-23a4b86bf772"
   },
   "outputs": [
    {
     "data": {
      "text/plain": [
       "0     18438000.0\n",
       "1     18441000.0\n",
       "2     18410000.0\n",
       "3     18375000.0\n",
       "4     18310000.0\n",
       "5     18303000.0\n",
       "6     18277000.0\n",
       "7     18249000.0\n",
       "8     18187000.0\n",
       "9     18101000.0\n",
       "10    18200000.0\n",
       "11    18138000.0\n",
       "12    18152000.0\n",
       "13    18232000.0\n",
       "14    18277000.0\n",
       "15    18294000.0\n",
       "16    18397000.0\n",
       "17    18388000.0\n",
       "18    18378000.0\n",
       "19    18354000.0\n",
       "20    18296000.0\n",
       "21    18027000.0\n",
       "22    18123000.0\n",
       "23    18008000.0\n",
       "24    18050000.0\n",
       "25    18004000.0\n",
       "Name: close, dtype: float64"
      ]
     },
     "execution_count": 28,
     "metadata": {
      "tags": []
     },
     "output_type": "execute_result"
    }
   ],
   "source": [
    "bithumb_price['close']"
   ]
  },
  {
   "cell_type": "markdown",
   "metadata": {
    "colab_type": "text",
    "id": "JMhiE38EArdN"
   },
   "source": [
    "# 이동평균(Moving Average)\n",
    "    - 이재원, “고변동 주가 패턴의 감독 학습에 기반한 주식 거래 시스템,” 정보과학회논문지 컴퓨팅의 실제 및 레터 제19권 제1호, 2013, 23-29\n",
    "    - http://www.dbpia.co.kr/Journal/ArticleDetail/NODE02076177\n",
    "    "
   ]
  },
  {
   "cell_type": "code",
   "execution_count": null,
   "metadata": {
    "colab": {
     "autoexec": {
      "startup": false,
      "wait_interval": 0
     },
     "output_extras": [
      {}
     ]
    },
    "colab_type": "code",
    "id": "0lE_4-laArdO",
    "outputId": "96d630ad-9b7c-435a-d091-20adcf5f9695"
   },
   "outputs": [
    {
     "data": {
      "text/plain": [
       "pandas.core.frame.DataFrame"
      ]
     },
     "execution_count": 53,
     "metadata": {
      "tags": []
     },
     "output_type": "execute_result"
    }
   ],
   "source": [
    "type(poloniex_price)"
   ]
  },
  {
   "cell_type": "code",
   "execution_count": null,
   "metadata": {
    "colab": {
     "autoexec": {
      "startup": false,
      "wait_interval": 0
     },
     "output_extras": [
      {}
     ]
    },
    "colab_type": "code",
    "id": "WHnicbtiArdU",
    "outputId": "e940a121-0fba-4c48-98d3-660821c8dbaa"
   },
   "outputs": [
    {
     "data": {
      "text/html": [
       "<div>\n",
       "<style>\n",
       "    .dataframe thead tr:only-child th {\n",
       "        text-align: right;\n",
       "    }\n",
       "\n",
       "    .dataframe thead th {\n",
       "        text-align: left;\n",
       "    }\n",
       "\n",
       "    .dataframe tbody tr th {\n",
       "        vertical-align: top;\n",
       "    }\n",
       "</style>\n",
       "<table border=\"1\" class=\"dataframe\">\n",
       "  <thead>\n",
       "    <tr style=\"text-align: right;\">\n",
       "      <th></th>\n",
       "      <th>close</th>\n",
       "      <th>high</th>\n",
       "      <th>low</th>\n",
       "      <th>open</th>\n",
       "    </tr>\n",
       "  </thead>\n",
       "  <tbody>\n",
       "    <tr>\n",
       "      <th>0</th>\n",
       "      <td>15900.2</td>\n",
       "      <td>15965.1</td>\n",
       "      <td>15710.0</td>\n",
       "      <td>15710.0</td>\n",
       "    </tr>\n",
       "    <tr>\n",
       "      <th>1</th>\n",
       "      <td>15888.0</td>\n",
       "      <td>15983.2</td>\n",
       "      <td>15877.0</td>\n",
       "      <td>15902.1</td>\n",
       "    </tr>\n",
       "    <tr>\n",
       "      <th>2</th>\n",
       "      <td>15820.0</td>\n",
       "      <td>15890.1</td>\n",
       "      <td>15701.0</td>\n",
       "      <td>15888.0</td>\n",
       "    </tr>\n",
       "    <tr>\n",
       "      <th>3</th>\n",
       "      <td>15782.4</td>\n",
       "      <td>15830.2</td>\n",
       "      <td>15705.0</td>\n",
       "      <td>15820.0</td>\n",
       "    </tr>\n",
       "    <tr>\n",
       "      <th>4</th>\n",
       "      <td>15665.0</td>\n",
       "      <td>15791.0</td>\n",
       "      <td>15650.0</td>\n",
       "      <td>15782.4</td>\n",
       "    </tr>\n",
       "    <tr>\n",
       "      <th>5</th>\n",
       "      <td>15666.5</td>\n",
       "      <td>15779.1</td>\n",
       "      <td>15600.0</td>\n",
       "      <td>15665.0</td>\n",
       "    </tr>\n",
       "    <tr>\n",
       "      <th>6</th>\n",
       "      <td>15900.0</td>\n",
       "      <td>15990.1</td>\n",
       "      <td>15650.0</td>\n",
       "      <td>15708.2</td>\n",
       "    </tr>\n",
       "    <tr>\n",
       "      <th>7</th>\n",
       "      <td>15895.0</td>\n",
       "      <td>15950.0</td>\n",
       "      <td>15775.9</td>\n",
       "      <td>15900.0</td>\n",
       "    </tr>\n",
       "    <tr>\n",
       "      <th>8</th>\n",
       "      <td>15960.9</td>\n",
       "      <td>16000.0</td>\n",
       "      <td>15790.6</td>\n",
       "      <td>15895.0</td>\n",
       "    </tr>\n",
       "    <tr>\n",
       "      <th>9</th>\n",
       "      <td>15915.0</td>\n",
       "      <td>15999.0</td>\n",
       "      <td>15915.0</td>\n",
       "      <td>15960.9</td>\n",
       "    </tr>\n",
       "    <tr>\n",
       "      <th>10</th>\n",
       "      <td>15816.0</td>\n",
       "      <td>15959.9</td>\n",
       "      <td>15800.0</td>\n",
       "      <td>15959.0</td>\n",
       "    </tr>\n",
       "    <tr>\n",
       "      <th>11</th>\n",
       "      <td>15784.5</td>\n",
       "      <td>15828.0</td>\n",
       "      <td>15750.8</td>\n",
       "      <td>15816.0</td>\n",
       "    </tr>\n",
       "    <tr>\n",
       "      <th>12</th>\n",
       "      <td>16000.0</td>\n",
       "      <td>16060.4</td>\n",
       "      <td>15772.9</td>\n",
       "      <td>15795.2</td>\n",
       "    </tr>\n",
       "    <tr>\n",
       "      <th>13</th>\n",
       "      <td>16090.0</td>\n",
       "      <td>16099.0</td>\n",
       "      <td>15995.3</td>\n",
       "      <td>15997.5</td>\n",
       "    </tr>\n",
       "    <tr>\n",
       "      <th>14</th>\n",
       "      <td>15890.8</td>\n",
       "      <td>16090.0</td>\n",
       "      <td>15885.6</td>\n",
       "      <td>16090.0</td>\n",
       "    </tr>\n",
       "    <tr>\n",
       "      <th>15</th>\n",
       "      <td>15899.8</td>\n",
       "      <td>16000.0</td>\n",
       "      <td>15751.6</td>\n",
       "      <td>15895.4</td>\n",
       "    </tr>\n",
       "    <tr>\n",
       "      <th>16</th>\n",
       "      <td>15880.9</td>\n",
       "      <td>15933.8</td>\n",
       "      <td>15824.4</td>\n",
       "      <td>15899.8</td>\n",
       "    </tr>\n",
       "    <tr>\n",
       "      <th>17</th>\n",
       "      <td>15879.0</td>\n",
       "      <td>16000.0</td>\n",
       "      <td>15851.2</td>\n",
       "      <td>15880.9</td>\n",
       "    </tr>\n",
       "    <tr>\n",
       "      <th>18</th>\n",
       "      <td>15901.5</td>\n",
       "      <td>15949.0</td>\n",
       "      <td>15865.0</td>\n",
       "      <td>15879.0</td>\n",
       "    </tr>\n",
       "    <tr>\n",
       "      <th>19</th>\n",
       "      <td>15890.0</td>\n",
       "      <td>15998.0</td>\n",
       "      <td>15871.0</td>\n",
       "      <td>15901.5</td>\n",
       "    </tr>\n",
       "    <tr>\n",
       "      <th>20</th>\n",
       "      <td>16000.0</td>\n",
       "      <td>16000.0</td>\n",
       "      <td>15850.9</td>\n",
       "      <td>15890.0</td>\n",
       "    </tr>\n",
       "    <tr>\n",
       "      <th>21</th>\n",
       "      <td>15933.2</td>\n",
       "      <td>16102.0</td>\n",
       "      <td>15910.0</td>\n",
       "      <td>16000.0</td>\n",
       "    </tr>\n",
       "    <tr>\n",
       "      <th>22</th>\n",
       "      <td>15812.0</td>\n",
       "      <td>15981.8</td>\n",
       "      <td>15810.9</td>\n",
       "      <td>15959.0</td>\n",
       "    </tr>\n",
       "    <tr>\n",
       "      <th>23</th>\n",
       "      <td>15600.0</td>\n",
       "      <td>15850.0</td>\n",
       "      <td>15600.0</td>\n",
       "      <td>15812.0</td>\n",
       "    </tr>\n",
       "    <tr>\n",
       "      <th>24</th>\n",
       "      <td>15420.0</td>\n",
       "      <td>15623.4</td>\n",
       "      <td>15400.0</td>\n",
       "      <td>15614.6</td>\n",
       "    </tr>\n",
       "    <tr>\n",
       "      <th>25</th>\n",
       "      <td>15250.0</td>\n",
       "      <td>15442.0</td>\n",
       "      <td>15250.0</td>\n",
       "      <td>15440.0</td>\n",
       "    </tr>\n",
       "  </tbody>\n",
       "</table>\n",
       "</div>"
      ],
      "text/plain": [
       "      close     high      low     open\n",
       "0   15900.2  15965.1  15710.0  15710.0\n",
       "1   15888.0  15983.2  15877.0  15902.1\n",
       "2   15820.0  15890.1  15701.0  15888.0\n",
       "3   15782.4  15830.2  15705.0  15820.0\n",
       "4   15665.0  15791.0  15650.0  15782.4\n",
       "5   15666.5  15779.1  15600.0  15665.0\n",
       "6   15900.0  15990.1  15650.0  15708.2\n",
       "7   15895.0  15950.0  15775.9  15900.0\n",
       "8   15960.9  16000.0  15790.6  15895.0\n",
       "9   15915.0  15999.0  15915.0  15960.9\n",
       "10  15816.0  15959.9  15800.0  15959.0\n",
       "11  15784.5  15828.0  15750.8  15816.0\n",
       "12  16000.0  16060.4  15772.9  15795.2\n",
       "13  16090.0  16099.0  15995.3  15997.5\n",
       "14  15890.8  16090.0  15885.6  16090.0\n",
       "15  15899.8  16000.0  15751.6  15895.4\n",
       "16  15880.9  15933.8  15824.4  15899.8\n",
       "17  15879.0  16000.0  15851.2  15880.9\n",
       "18  15901.5  15949.0  15865.0  15879.0\n",
       "19  15890.0  15998.0  15871.0  15901.5\n",
       "20  16000.0  16000.0  15850.9  15890.0\n",
       "21  15933.2  16102.0  15910.0  16000.0\n",
       "22  15812.0  15981.8  15810.9  15959.0\n",
       "23  15600.0  15850.0  15600.0  15812.0\n",
       "24  15420.0  15623.4  15400.0  15614.6\n",
       "25  15250.0  15442.0  15250.0  15440.0"
      ]
     },
     "execution_count": 54,
     "metadata": {
      "tags": []
     },
     "output_type": "execute_result"
    }
   ],
   "source": [
    "poloniex_price"
   ]
  },
  {
   "cell_type": "code",
   "execution_count": null,
   "metadata": {
    "colab": {
     "autoexec": {
      "startup": false,
      "wait_interval": 0
     }
    },
    "colab_type": "code",
    "collapsed": true,
    "id": "7FBu9FiaArda"
   },
   "outputs": [],
   "source": [
    "moving_average_poloniex = poloniex_price.rolling(window=5).mean()"
   ]
  },
  {
   "cell_type": "code",
   "execution_count": null,
   "metadata": {
    "colab": {
     "autoexec": {
      "startup": false,
      "wait_interval": 0
     },
     "output_extras": [
      {}
     ]
    },
    "colab_type": "code",
    "id": "iObEPwzYArdf",
    "outputId": "446f1eb3-b097-47ed-cd6c-0f4229656a88"
   },
   "outputs": [
    {
     "data": {
      "text/html": [
       "<div>\n",
       "<style>\n",
       "    .dataframe thead tr:only-child th {\n",
       "        text-align: right;\n",
       "    }\n",
       "\n",
       "    .dataframe thead th {\n",
       "        text-align: left;\n",
       "    }\n",
       "\n",
       "    .dataframe tbody tr th {\n",
       "        vertical-align: top;\n",
       "    }\n",
       "</style>\n",
       "<table border=\"1\" class=\"dataframe\">\n",
       "  <thead>\n",
       "    <tr style=\"text-align: right;\">\n",
       "      <th></th>\n",
       "      <th>close</th>\n",
       "      <th>high</th>\n",
       "      <th>low</th>\n",
       "      <th>open</th>\n",
       "    </tr>\n",
       "  </thead>\n",
       "  <tbody>\n",
       "    <tr>\n",
       "      <th>0</th>\n",
       "      <td>NaN</td>\n",
       "      <td>NaN</td>\n",
       "      <td>NaN</td>\n",
       "      <td>NaN</td>\n",
       "    </tr>\n",
       "    <tr>\n",
       "      <th>1</th>\n",
       "      <td>NaN</td>\n",
       "      <td>NaN</td>\n",
       "      <td>NaN</td>\n",
       "      <td>NaN</td>\n",
       "    </tr>\n",
       "    <tr>\n",
       "      <th>2</th>\n",
       "      <td>NaN</td>\n",
       "      <td>NaN</td>\n",
       "      <td>NaN</td>\n",
       "      <td>NaN</td>\n",
       "    </tr>\n",
       "    <tr>\n",
       "      <th>3</th>\n",
       "      <td>NaN</td>\n",
       "      <td>NaN</td>\n",
       "      <td>NaN</td>\n",
       "      <td>NaN</td>\n",
       "    </tr>\n",
       "    <tr>\n",
       "      <th>4</th>\n",
       "      <td>15811.12</td>\n",
       "      <td>15891.92</td>\n",
       "      <td>15728.60</td>\n",
       "      <td>15820.50</td>\n",
       "    </tr>\n",
       "    <tr>\n",
       "      <th>5</th>\n",
       "      <td>15764.38</td>\n",
       "      <td>15854.72</td>\n",
       "      <td>15706.60</td>\n",
       "      <td>15811.50</td>\n",
       "    </tr>\n",
       "    <tr>\n",
       "      <th>6</th>\n",
       "      <td>15766.78</td>\n",
       "      <td>15856.10</td>\n",
       "      <td>15661.20</td>\n",
       "      <td>15772.72</td>\n",
       "    </tr>\n",
       "    <tr>\n",
       "      <th>7</th>\n",
       "      <td>15781.78</td>\n",
       "      <td>15868.08</td>\n",
       "      <td>15676.18</td>\n",
       "      <td>15775.12</td>\n",
       "    </tr>\n",
       "    <tr>\n",
       "      <th>8</th>\n",
       "      <td>15817.48</td>\n",
       "      <td>15902.04</td>\n",
       "      <td>15693.30</td>\n",
       "      <td>15790.12</td>\n",
       "    </tr>\n",
       "    <tr>\n",
       "      <th>9</th>\n",
       "      <td>15867.48</td>\n",
       "      <td>15943.64</td>\n",
       "      <td>15746.30</td>\n",
       "      <td>15825.82</td>\n",
       "    </tr>\n",
       "    <tr>\n",
       "      <th>10</th>\n",
       "      <td>15897.38</td>\n",
       "      <td>15979.80</td>\n",
       "      <td>15786.30</td>\n",
       "      <td>15884.62</td>\n",
       "    </tr>\n",
       "    <tr>\n",
       "      <th>11</th>\n",
       "      <td>15874.28</td>\n",
       "      <td>15947.38</td>\n",
       "      <td>15806.46</td>\n",
       "      <td>15906.18</td>\n",
       "    </tr>\n",
       "    <tr>\n",
       "      <th>12</th>\n",
       "      <td>15895.28</td>\n",
       "      <td>15969.46</td>\n",
       "      <td>15805.86</td>\n",
       "      <td>15885.22</td>\n",
       "    </tr>\n",
       "    <tr>\n",
       "      <th>13</th>\n",
       "      <td>15921.10</td>\n",
       "      <td>15989.26</td>\n",
       "      <td>15846.80</td>\n",
       "      <td>15905.72</td>\n",
       "    </tr>\n",
       "    <tr>\n",
       "      <th>14</th>\n",
       "      <td>15916.26</td>\n",
       "      <td>16007.46</td>\n",
       "      <td>15840.92</td>\n",
       "      <td>15931.54</td>\n",
       "    </tr>\n",
       "    <tr>\n",
       "      <th>15</th>\n",
       "      <td>15933.02</td>\n",
       "      <td>16015.48</td>\n",
       "      <td>15831.24</td>\n",
       "      <td>15918.82</td>\n",
       "    </tr>\n",
       "    <tr>\n",
       "      <th>16</th>\n",
       "      <td>15952.30</td>\n",
       "      <td>16036.64</td>\n",
       "      <td>15845.96</td>\n",
       "      <td>15935.58</td>\n",
       "    </tr>\n",
       "    <tr>\n",
       "      <th>17</th>\n",
       "      <td>15928.10</td>\n",
       "      <td>16024.56</td>\n",
       "      <td>15861.62</td>\n",
       "      <td>15952.72</td>\n",
       "    </tr>\n",
       "    <tr>\n",
       "      <th>18</th>\n",
       "      <td>15890.40</td>\n",
       "      <td>15994.56</td>\n",
       "      <td>15835.56</td>\n",
       "      <td>15929.02</td>\n",
       "    </tr>\n",
       "    <tr>\n",
       "      <th>19</th>\n",
       "      <td>15890.24</td>\n",
       "      <td>15976.16</td>\n",
       "      <td>15832.64</td>\n",
       "      <td>15891.32</td>\n",
       "    </tr>\n",
       "    <tr>\n",
       "      <th>20</th>\n",
       "      <td>15910.28</td>\n",
       "      <td>15976.16</td>\n",
       "      <td>15852.50</td>\n",
       "      <td>15890.24</td>\n",
       "    </tr>\n",
       "    <tr>\n",
       "      <th>21</th>\n",
       "      <td>15920.74</td>\n",
       "      <td>16009.80</td>\n",
       "      <td>15869.62</td>\n",
       "      <td>15910.28</td>\n",
       "    </tr>\n",
       "    <tr>\n",
       "      <th>22</th>\n",
       "      <td>15907.34</td>\n",
       "      <td>16006.16</td>\n",
       "      <td>15861.56</td>\n",
       "      <td>15925.90</td>\n",
       "    </tr>\n",
       "    <tr>\n",
       "      <th>23</th>\n",
       "      <td>15847.04</td>\n",
       "      <td>15986.36</td>\n",
       "      <td>15808.56</td>\n",
       "      <td>15912.50</td>\n",
       "    </tr>\n",
       "    <tr>\n",
       "      <th>24</th>\n",
       "      <td>15753.04</td>\n",
       "      <td>15911.44</td>\n",
       "      <td>15714.36</td>\n",
       "      <td>15855.12</td>\n",
       "    </tr>\n",
       "    <tr>\n",
       "      <th>25</th>\n",
       "      <td>15603.04</td>\n",
       "      <td>15799.84</td>\n",
       "      <td>15594.18</td>\n",
       "      <td>15765.12</td>\n",
       "    </tr>\n",
       "  </tbody>\n",
       "</table>\n",
       "</div>"
      ],
      "text/plain": [
       "       close      high       low      open\n",
       "0        NaN       NaN       NaN       NaN\n",
       "1        NaN       NaN       NaN       NaN\n",
       "2        NaN       NaN       NaN       NaN\n",
       "3        NaN       NaN       NaN       NaN\n",
       "4   15811.12  15891.92  15728.60  15820.50\n",
       "5   15764.38  15854.72  15706.60  15811.50\n",
       "6   15766.78  15856.10  15661.20  15772.72\n",
       "7   15781.78  15868.08  15676.18  15775.12\n",
       "8   15817.48  15902.04  15693.30  15790.12\n",
       "9   15867.48  15943.64  15746.30  15825.82\n",
       "10  15897.38  15979.80  15786.30  15884.62\n",
       "11  15874.28  15947.38  15806.46  15906.18\n",
       "12  15895.28  15969.46  15805.86  15885.22\n",
       "13  15921.10  15989.26  15846.80  15905.72\n",
       "14  15916.26  16007.46  15840.92  15931.54\n",
       "15  15933.02  16015.48  15831.24  15918.82\n",
       "16  15952.30  16036.64  15845.96  15935.58\n",
       "17  15928.10  16024.56  15861.62  15952.72\n",
       "18  15890.40  15994.56  15835.56  15929.02\n",
       "19  15890.24  15976.16  15832.64  15891.32\n",
       "20  15910.28  15976.16  15852.50  15890.24\n",
       "21  15920.74  16009.80  15869.62  15910.28\n",
       "22  15907.34  16006.16  15861.56  15925.90\n",
       "23  15847.04  15986.36  15808.56  15912.50\n",
       "24  15753.04  15911.44  15714.36  15855.12\n",
       "25  15603.04  15799.84  15594.18  15765.12"
      ]
     },
     "execution_count": 34,
     "metadata": {
      "tags": []
     },
     "output_type": "execute_result"
    }
   ],
   "source": [
    "moving_average_poloniex"
   ]
  },
  {
   "cell_type": "code",
   "execution_count": null,
   "metadata": {
    "colab": {
     "autoexec": {
      "startup": false,
      "wait_interval": 0
     },
     "output_extras": [
      {}
     ]
    },
    "colab_type": "code",
    "id": "brZgdkFRArdy",
    "outputId": "ae270a06-0ed9-41a5-caf9-6f3c6ba25943"
   },
   "outputs": [
    {
     "data": {
      "text/html": [
       "<div>\n",
       "<style>\n",
       "    .dataframe thead tr:only-child th {\n",
       "        text-align: right;\n",
       "    }\n",
       "\n",
       "    .dataframe thead th {\n",
       "        text-align: left;\n",
       "    }\n",
       "\n",
       "    .dataframe tbody tr th {\n",
       "        vertical-align: top;\n",
       "    }\n",
       "</style>\n",
       "<table border=\"1\" class=\"dataframe\">\n",
       "  <thead>\n",
       "    <tr style=\"text-align: right;\">\n",
       "      <th></th>\n",
       "      <th>close</th>\n",
       "      <th>high</th>\n",
       "      <th>low</th>\n",
       "      <th>open</th>\n",
       "    </tr>\n",
       "  </thead>\n",
       "  <tbody>\n",
       "    <tr>\n",
       "      <th>0</th>\n",
       "      <td>NaN</td>\n",
       "      <td>NaN</td>\n",
       "      <td>NaN</td>\n",
       "      <td>NaN</td>\n",
       "    </tr>\n",
       "    <tr>\n",
       "      <th>1</th>\n",
       "      <td>NaN</td>\n",
       "      <td>NaN</td>\n",
       "      <td>NaN</td>\n",
       "      <td>NaN</td>\n",
       "    </tr>\n",
       "    <tr>\n",
       "      <th>2</th>\n",
       "      <td>NaN</td>\n",
       "      <td>NaN</td>\n",
       "      <td>NaN</td>\n",
       "      <td>NaN</td>\n",
       "    </tr>\n",
       "    <tr>\n",
       "      <th>3</th>\n",
       "      <td>NaN</td>\n",
       "      <td>NaN</td>\n",
       "      <td>NaN</td>\n",
       "      <td>NaN</td>\n",
       "    </tr>\n",
       "    <tr>\n",
       "      <th>4</th>\n",
       "      <td>NaN</td>\n",
       "      <td>NaN</td>\n",
       "      <td>NaN</td>\n",
       "      <td>NaN</td>\n",
       "    </tr>\n",
       "    <tr>\n",
       "      <th>5</th>\n",
       "      <td>-46.74</td>\n",
       "      <td>-37.20</td>\n",
       "      <td>-22.00</td>\n",
       "      <td>-9.00</td>\n",
       "    </tr>\n",
       "    <tr>\n",
       "      <th>6</th>\n",
       "      <td>2.40</td>\n",
       "      <td>1.38</td>\n",
       "      <td>-45.40</td>\n",
       "      <td>-38.78</td>\n",
       "    </tr>\n",
       "    <tr>\n",
       "      <th>7</th>\n",
       "      <td>15.00</td>\n",
       "      <td>11.98</td>\n",
       "      <td>14.98</td>\n",
       "      <td>2.40</td>\n",
       "    </tr>\n",
       "    <tr>\n",
       "      <th>8</th>\n",
       "      <td>35.70</td>\n",
       "      <td>33.96</td>\n",
       "      <td>17.12</td>\n",
       "      <td>15.00</td>\n",
       "    </tr>\n",
       "    <tr>\n",
       "      <th>9</th>\n",
       "      <td>50.00</td>\n",
       "      <td>41.60</td>\n",
       "      <td>53.00</td>\n",
       "      <td>35.70</td>\n",
       "    </tr>\n",
       "    <tr>\n",
       "      <th>10</th>\n",
       "      <td>29.90</td>\n",
       "      <td>36.16</td>\n",
       "      <td>40.00</td>\n",
       "      <td>58.80</td>\n",
       "    </tr>\n",
       "    <tr>\n",
       "      <th>11</th>\n",
       "      <td>-23.10</td>\n",
       "      <td>-32.42</td>\n",
       "      <td>20.16</td>\n",
       "      <td>21.56</td>\n",
       "    </tr>\n",
       "    <tr>\n",
       "      <th>12</th>\n",
       "      <td>21.00</td>\n",
       "      <td>22.08</td>\n",
       "      <td>-0.60</td>\n",
       "      <td>-20.96</td>\n",
       "    </tr>\n",
       "    <tr>\n",
       "      <th>13</th>\n",
       "      <td>25.82</td>\n",
       "      <td>19.80</td>\n",
       "      <td>40.94</td>\n",
       "      <td>20.50</td>\n",
       "    </tr>\n",
       "    <tr>\n",
       "      <th>14</th>\n",
       "      <td>-4.84</td>\n",
       "      <td>18.20</td>\n",
       "      <td>-5.88</td>\n",
       "      <td>25.82</td>\n",
       "    </tr>\n",
       "    <tr>\n",
       "      <th>15</th>\n",
       "      <td>16.76</td>\n",
       "      <td>8.02</td>\n",
       "      <td>-9.68</td>\n",
       "      <td>-12.72</td>\n",
       "    </tr>\n",
       "    <tr>\n",
       "      <th>16</th>\n",
       "      <td>19.28</td>\n",
       "      <td>21.16</td>\n",
       "      <td>14.72</td>\n",
       "      <td>16.76</td>\n",
       "    </tr>\n",
       "    <tr>\n",
       "      <th>17</th>\n",
       "      <td>-24.20</td>\n",
       "      <td>-12.08</td>\n",
       "      <td>15.66</td>\n",
       "      <td>17.14</td>\n",
       "    </tr>\n",
       "    <tr>\n",
       "      <th>18</th>\n",
       "      <td>-37.70</td>\n",
       "      <td>-30.00</td>\n",
       "      <td>-26.06</td>\n",
       "      <td>-23.70</td>\n",
       "    </tr>\n",
       "    <tr>\n",
       "      <th>19</th>\n",
       "      <td>-0.16</td>\n",
       "      <td>-18.40</td>\n",
       "      <td>-2.92</td>\n",
       "      <td>-37.70</td>\n",
       "    </tr>\n",
       "    <tr>\n",
       "      <th>20</th>\n",
       "      <td>20.04</td>\n",
       "      <td>0.00</td>\n",
       "      <td>19.86</td>\n",
       "      <td>-1.08</td>\n",
       "    </tr>\n",
       "    <tr>\n",
       "      <th>21</th>\n",
       "      <td>10.46</td>\n",
       "      <td>33.64</td>\n",
       "      <td>17.12</td>\n",
       "      <td>20.04</td>\n",
       "    </tr>\n",
       "    <tr>\n",
       "      <th>22</th>\n",
       "      <td>-13.40</td>\n",
       "      <td>-3.64</td>\n",
       "      <td>-8.06</td>\n",
       "      <td>15.62</td>\n",
       "    </tr>\n",
       "    <tr>\n",
       "      <th>23</th>\n",
       "      <td>-60.30</td>\n",
       "      <td>-19.80</td>\n",
       "      <td>-53.00</td>\n",
       "      <td>-13.40</td>\n",
       "    </tr>\n",
       "    <tr>\n",
       "      <th>24</th>\n",
       "      <td>-94.00</td>\n",
       "      <td>-74.92</td>\n",
       "      <td>-94.20</td>\n",
       "      <td>-57.38</td>\n",
       "    </tr>\n",
       "    <tr>\n",
       "      <th>25</th>\n",
       "      <td>-150.00</td>\n",
       "      <td>-111.60</td>\n",
       "      <td>-120.18</td>\n",
       "      <td>-90.00</td>\n",
       "    </tr>\n",
       "  </tbody>\n",
       "</table>\n",
       "</div>"
      ],
      "text/plain": [
       "     close    high     low   open\n",
       "0      NaN     NaN     NaN    NaN\n",
       "1      NaN     NaN     NaN    NaN\n",
       "2      NaN     NaN     NaN    NaN\n",
       "3      NaN     NaN     NaN    NaN\n",
       "4      NaN     NaN     NaN    NaN\n",
       "5   -46.74  -37.20  -22.00  -9.00\n",
       "6     2.40    1.38  -45.40 -38.78\n",
       "7    15.00   11.98   14.98   2.40\n",
       "8    35.70   33.96   17.12  15.00\n",
       "9    50.00   41.60   53.00  35.70\n",
       "10   29.90   36.16   40.00  58.80\n",
       "11  -23.10  -32.42   20.16  21.56\n",
       "12   21.00   22.08   -0.60 -20.96\n",
       "13   25.82   19.80   40.94  20.50\n",
       "14   -4.84   18.20   -5.88  25.82\n",
       "15   16.76    8.02   -9.68 -12.72\n",
       "16   19.28   21.16   14.72  16.76\n",
       "17  -24.20  -12.08   15.66  17.14\n",
       "18  -37.70  -30.00  -26.06 -23.70\n",
       "19   -0.16  -18.40   -2.92 -37.70\n",
       "20   20.04    0.00   19.86  -1.08\n",
       "21   10.46   33.64   17.12  20.04\n",
       "22  -13.40   -3.64   -8.06  15.62\n",
       "23  -60.30  -19.80  -53.00 -13.40\n",
       "24  -94.00  -74.92  -94.20 -57.38\n",
       "25 -150.00 -111.60 -120.18 -90.00"
      ]
     },
     "execution_count": 38,
     "metadata": {
      "tags": []
     },
     "output_type": "execute_result"
    }
   ],
   "source": [
    "# MA5(s,t) - MA5(s,t-1)\n",
    "moving_average_poloniex.diff()"
   ]
  },
  {
   "cell_type": "code",
   "execution_count": null,
   "metadata": {
    "colab": {
     "autoexec": {
      "startup": false,
      "wait_interval": 0
     },
     "output_extras": [
      {}
     ]
    },
    "colab_type": "code",
    "id": "TrJh6CdmArd7",
    "outputId": "d2fe515d-f096-451e-9874-0a96e186208c"
   },
   "outputs": [
    {
     "data": {
      "text/html": [
       "<div>\n",
       "<style>\n",
       "    .dataframe thead tr:only-child th {\n",
       "        text-align: right;\n",
       "    }\n",
       "\n",
       "    .dataframe thead th {\n",
       "        text-align: left;\n",
       "    }\n",
       "\n",
       "    .dataframe tbody tr th {\n",
       "        vertical-align: top;\n",
       "    }\n",
       "</style>\n",
       "<table border=\"1\" class=\"dataframe\">\n",
       "  <thead>\n",
       "    <tr style=\"text-align: right;\">\n",
       "      <th></th>\n",
       "      <th>close</th>\n",
       "      <th>high</th>\n",
       "      <th>low</th>\n",
       "      <th>open</th>\n",
       "    </tr>\n",
       "  </thead>\n",
       "  <tbody>\n",
       "    <tr>\n",
       "      <th>0</th>\n",
       "      <td>NaN</td>\n",
       "      <td>NaN</td>\n",
       "      <td>NaN</td>\n",
       "      <td>NaN</td>\n",
       "    </tr>\n",
       "    <tr>\n",
       "      <th>1</th>\n",
       "      <td>NaN</td>\n",
       "      <td>NaN</td>\n",
       "      <td>NaN</td>\n",
       "      <td>NaN</td>\n",
       "    </tr>\n",
       "    <tr>\n",
       "      <th>2</th>\n",
       "      <td>NaN</td>\n",
       "      <td>NaN</td>\n",
       "      <td>NaN</td>\n",
       "      <td>NaN</td>\n",
       "    </tr>\n",
       "    <tr>\n",
       "      <th>3</th>\n",
       "      <td>NaN</td>\n",
       "      <td>NaN</td>\n",
       "      <td>NaN</td>\n",
       "      <td>NaN</td>\n",
       "    </tr>\n",
       "    <tr>\n",
       "      <th>4</th>\n",
       "      <td>NaN</td>\n",
       "      <td>NaN</td>\n",
       "      <td>NaN</td>\n",
       "      <td>NaN</td>\n",
       "    </tr>\n",
       "    <tr>\n",
       "      <th>5</th>\n",
       "      <td>-0.002965</td>\n",
       "      <td>-0.002346</td>\n",
       "      <td>-0.001401</td>\n",
       "      <td>-0.000569</td>\n",
       "    </tr>\n",
       "    <tr>\n",
       "      <th>6</th>\n",
       "      <td>0.000152</td>\n",
       "      <td>0.000087</td>\n",
       "      <td>-0.002899</td>\n",
       "      <td>-0.002459</td>\n",
       "    </tr>\n",
       "    <tr>\n",
       "      <th>7</th>\n",
       "      <td>0.000950</td>\n",
       "      <td>0.000755</td>\n",
       "      <td>0.000956</td>\n",
       "      <td>0.000152</td>\n",
       "    </tr>\n",
       "    <tr>\n",
       "      <th>8</th>\n",
       "      <td>0.002257</td>\n",
       "      <td>0.002136</td>\n",
       "      <td>0.001091</td>\n",
       "      <td>0.000950</td>\n",
       "    </tr>\n",
       "    <tr>\n",
       "      <th>9</th>\n",
       "      <td>0.003151</td>\n",
       "      <td>0.002609</td>\n",
       "      <td>0.003366</td>\n",
       "      <td>0.002256</td>\n",
       "    </tr>\n",
       "    <tr>\n",
       "      <th>10</th>\n",
       "      <td>0.001881</td>\n",
       "      <td>0.002263</td>\n",
       "      <td>0.002534</td>\n",
       "      <td>0.003702</td>\n",
       "    </tr>\n",
       "    <tr>\n",
       "      <th>11</th>\n",
       "      <td>-0.001455</td>\n",
       "      <td>-0.002033</td>\n",
       "      <td>0.001275</td>\n",
       "      <td>0.001355</td>\n",
       "    </tr>\n",
       "    <tr>\n",
       "      <th>12</th>\n",
       "      <td>0.001321</td>\n",
       "      <td>0.001383</td>\n",
       "      <td>-0.000038</td>\n",
       "      <td>-0.001319</td>\n",
       "    </tr>\n",
       "    <tr>\n",
       "      <th>13</th>\n",
       "      <td>0.001622</td>\n",
       "      <td>0.001238</td>\n",
       "      <td>0.002583</td>\n",
       "      <td>0.001289</td>\n",
       "    </tr>\n",
       "    <tr>\n",
       "      <th>14</th>\n",
       "      <td>-0.000304</td>\n",
       "      <td>0.001137</td>\n",
       "      <td>-0.000371</td>\n",
       "      <td>0.001621</td>\n",
       "    </tr>\n",
       "    <tr>\n",
       "      <th>15</th>\n",
       "      <td>0.001052</td>\n",
       "      <td>0.000501</td>\n",
       "      <td>-0.000611</td>\n",
       "      <td>-0.000799</td>\n",
       "    </tr>\n",
       "    <tr>\n",
       "      <th>16</th>\n",
       "      <td>0.001209</td>\n",
       "      <td>0.001319</td>\n",
       "      <td>0.000929</td>\n",
       "      <td>0.001052</td>\n",
       "    </tr>\n",
       "    <tr>\n",
       "      <th>17</th>\n",
       "      <td>-0.001519</td>\n",
       "      <td>-0.000754</td>\n",
       "      <td>0.000987</td>\n",
       "      <td>0.001074</td>\n",
       "    </tr>\n",
       "    <tr>\n",
       "      <th>18</th>\n",
       "      <td>-0.002373</td>\n",
       "      <td>-0.001876</td>\n",
       "      <td>-0.001646</td>\n",
       "      <td>-0.001488</td>\n",
       "    </tr>\n",
       "    <tr>\n",
       "      <th>19</th>\n",
       "      <td>-0.000010</td>\n",
       "      <td>-0.001152</td>\n",
       "      <td>-0.000184</td>\n",
       "      <td>-0.002372</td>\n",
       "    </tr>\n",
       "    <tr>\n",
       "      <th>20</th>\n",
       "      <td>0.001260</td>\n",
       "      <td>0.000000</td>\n",
       "      <td>0.001253</td>\n",
       "      <td>-0.000068</td>\n",
       "    </tr>\n",
       "    <tr>\n",
       "      <th>21</th>\n",
       "      <td>0.000657</td>\n",
       "      <td>0.002101</td>\n",
       "      <td>0.001079</td>\n",
       "      <td>0.001260</td>\n",
       "    </tr>\n",
       "    <tr>\n",
       "      <th>22</th>\n",
       "      <td>-0.000842</td>\n",
       "      <td>-0.000227</td>\n",
       "      <td>-0.000508</td>\n",
       "      <td>0.000981</td>\n",
       "    </tr>\n",
       "    <tr>\n",
       "      <th>23</th>\n",
       "      <td>-0.003805</td>\n",
       "      <td>-0.001239</td>\n",
       "      <td>-0.003353</td>\n",
       "      <td>-0.000842</td>\n",
       "    </tr>\n",
       "    <tr>\n",
       "      <th>24</th>\n",
       "      <td>-0.005967</td>\n",
       "      <td>-0.004709</td>\n",
       "      <td>-0.005995</td>\n",
       "      <td>-0.003619</td>\n",
       "    </tr>\n",
       "    <tr>\n",
       "      <th>25</th>\n",
       "      <td>-0.009614</td>\n",
       "      <td>-0.007063</td>\n",
       "      <td>-0.007707</td>\n",
       "      <td>-0.005709</td>\n",
       "    </tr>\n",
       "  </tbody>\n",
       "</table>\n",
       "</div>"
      ],
      "text/plain": [
       "       close      high       low      open\n",
       "0        NaN       NaN       NaN       NaN\n",
       "1        NaN       NaN       NaN       NaN\n",
       "2        NaN       NaN       NaN       NaN\n",
       "3        NaN       NaN       NaN       NaN\n",
       "4        NaN       NaN       NaN       NaN\n",
       "5  -0.002965 -0.002346 -0.001401 -0.000569\n",
       "6   0.000152  0.000087 -0.002899 -0.002459\n",
       "7   0.000950  0.000755  0.000956  0.000152\n",
       "8   0.002257  0.002136  0.001091  0.000950\n",
       "9   0.003151  0.002609  0.003366  0.002256\n",
       "10  0.001881  0.002263  0.002534  0.003702\n",
       "11 -0.001455 -0.002033  0.001275  0.001355\n",
       "12  0.001321  0.001383 -0.000038 -0.001319\n",
       "13  0.001622  0.001238  0.002583  0.001289\n",
       "14 -0.000304  0.001137 -0.000371  0.001621\n",
       "15  0.001052  0.000501 -0.000611 -0.000799\n",
       "16  0.001209  0.001319  0.000929  0.001052\n",
       "17 -0.001519 -0.000754  0.000987  0.001074\n",
       "18 -0.002373 -0.001876 -0.001646 -0.001488\n",
       "19 -0.000010 -0.001152 -0.000184 -0.002372\n",
       "20  0.001260  0.000000  0.001253 -0.000068\n",
       "21  0.000657  0.002101  0.001079  0.001260\n",
       "22 -0.000842 -0.000227 -0.000508  0.000981\n",
       "23 -0.003805 -0.001239 -0.003353 -0.000842\n",
       "24 -0.005967 -0.004709 -0.005995 -0.003619\n",
       "25 -0.009614 -0.007063 -0.007707 -0.005709"
      ]
     },
     "execution_count": 42,
     "metadata": {
      "tags": []
     },
     "output_type": "execute_result"
    }
   ],
   "source": [
    "Grad = moving_average_poloniex.diff() / moving_average_poloniex\n",
    "Grad"
   ]
  },
  {
   "cell_type": "code",
   "execution_count": null,
   "metadata": {
    "colab": {
     "autoexec": {
      "startup": false,
      "wait_interval": 0
     },
     "output_extras": [
      {}
     ]
    },
    "colab_type": "code",
    "id": "5ekipWo3AreD",
    "outputId": "8c60951d-62d2-4b58-cb43-cea2501c849d"
   },
   "outputs": [
    {
     "data": {
      "image/png": "[encoded data removed]",
      "text/plain": [
       "<matplotlib.figure.Figure at 0x11781f2b0>"
      ]
     },
     "metadata": {
      "tags": []
     },
     "output_type": "display_data"
    }
   ],
   "source": [
    "plt.plot(Grad)\n",
    "plt.ylim()\n",
    "plt.show()"
   ]
  },
  {
   "cell_type": "markdown",
   "metadata": {},
   "source": [
    "# 알고리즘 트레이딩 개요\n",
    "\n",
    "    알고리즘 트레이딩은 수학적 계산과 IT 시스템을 이용해 금융 상품을 거래하는 것이다.\n",
    "    알고리즘 트레이딩은 주가의 움직임을 수학적으로 분석하고, 예측할 수 있는 수학적 모델을 만들어 IT 기술로 구현한 것이다.\n",
    "    설계된 수학적 모델이 과거의 데이터를 이용해 검증했을 때 통계적으로 유의미하다고 판단되는 모델만이 살아남아서 알고리즘 트레이딩으로 구현된다.\n",
    "    \n",
    "    2007년부터 알고리즘 트레이딩이 사람이 아닌 기계가 대신하기 시작했다.\n",
    "    \n",
    "    수학적 모델이 사람과 비슷하거나 사람보다 더 좋은 결과를 가져올 확률은 94%이다.\n",
    "    \n",
    "    사람이 거래하는 전통적인 방식과 수학적 모델에 기반을 둔 알고리즘 트레이딩을 비교했을 때 알고리즘 트레이딩의 장점은 \n",
    "        - 사람과 비교할 수 없을 정도로 빠른 속도로 거래한다.\n",
    "        - 수학적 모델에 기반을 두고 결정하기 때문에 감정이 개입되지 않는다.\n",
    "        \n",
    "    알고리즘 트레이딩의 부정적인 면은\n",
    "        - 너무 많은 거래를 발생시켜 시장의 변화를 빠르게 하고 교란시켜 혼란을 줄 수 있다.\n",
    "        - 어떤 특정 상황에, 비슷한 알고리즘 모델을 사용하는 경우, 대량의 매도 주문이 발생하여 시장을 폭락시킬 가능성이 있다.\n",
    "        - 프로그램의 오류나 수학적 모델의 실패가 있을 수 있다.\n",
    "        \n",
    "    "
   ]
  },
  {
   "cell_type": "markdown",
   "metadata": {},
   "source": [
    "# 알고리즘 트레이딩 모델\n",
    "\n",
    "    알파모델(Alpha Model)\n",
    "        - 시장 평균수익보다 월등한 수익을 내는 모델\n",
    "    베타모델(Beta Model)\n",
    "        - 시장 평균과 유사하거나 약간 웃도는 정도의 수익을 내는 모델\n",
    "        \n",
    "    \n",
    "    알고리즘 트레이딩은 알파 모델을 구현하는 것으로 한다. 크게 2가지 접근방법이 있다.\n",
    "    - Theory-Driven\n",
    "        - 어떤 모델을 가정하고\n",
    "          그 모델이 맞는지 틀리는지를 검증하는 방법\n",
    "        - 모델에 대한 이해도를 높이기 때문에\n",
    "          알고리즘 트레이딩을 하는 많은 사람들이 선호하는 방식\n",
    "        - 어떤 가설을 세우고, 이를 기반으로 알파 모델을 만들기 때문에\n",
    "          모델 설계자의 측면에서 보면\n",
    "          자신의 모델이 무엇인지, 어떤 변수가 어떻게 영향을 미치는지를 파악할 수 있음\n",
    "        - Top-down Approach\n",
    "        \n",
    "    - Data-Driven\n",
    "        - 데이터를 분석해 패턴을 찾고\n",
    "          이를 알파 모델로 만드는 방법\n",
    "        - 뚜렷한 가설이나 이론적 배경 없이 \n",
    "          데이터를 분석하면서 지식을 쌓아가는 방식\n",
    "        - Bottom-up Approach"
   ]
  },
  {
   "cell_type": "markdown",
   "metadata": {},
   "source": [
    "# 평균회귀 모델\n",
    "\n",
    "    Theory-Driven의 대표적인 모델에는 평균 회귀 모델이 있다.\n",
    "    \n",
    "    평균 회귀 모델의 기본 가정은 다음과 같다.\n",
    "    - 주어진 시계열 데이터는 과거 데이터의 평균값으로 회귀하려는 경향이 있다.\n",
    "    - 어떤 변수가 정규분포를 따른다면 평균에 가까운 값이 나올 확률이 높아진다.\n",
    "        - 즉, 현시점의 주가가 평균주가보다 낮으면 앞으로의 주가는 올라갈 것이고\n",
    "          반대로 현주가가 평균주가보다 높으면 앞으로의 주가는 내려가는 경향을 보일 것이다\n",
    "          라고 추정할 수 있음\n",
    "        \n",
    "    평균회귀 모델을 적용하려면, 적용하려는 주가 데이터가 랜덤워크인지 아닌지를 파악해야 한다.\n",
    "    (다른 말로, 정상성(Stationarity)의 특성을 갖는가 아닌가(Non-Stationarity)를 판단하는 것)\n",
    "    만약 랜덤워크라면, 해당 시계열 데이터는 평균회귀 모델을 적용할 수 없고\n",
    "    랜덤워크가 아니라면, 평균회귀 모델을 적용할 수 있다.\n",
    "\n",
    "### 랜덤워크\n",
    "\n",
    "    - 이전의 사건과 그 다음의 사건이 서로 관련이 없는 것을 말함\n",
    "    - 이 세계는 어떤 사건이 우연히 발생할 수 있는 특징을 갖는다. 확률적으로 봤을 때 뚜렷한 인과관계가 없는, 해당 사건을 결정짓는 원인이 없다.\n",
    "    - 복권당첨, 주가의 움직임, 동전 던지기, 액체나 기체 상태의 분자의 운동 등이 그 예\n",
    "\n",
    "    - 다시 말해, 랜덤워크는 다음 행보가 이전 행보에 영향을 받지 않는 독립적인 사건이라는 것을 의미함\n",
    "    - 랜덤워크는 방향성이 무작위로 결정되기 때문에 어떤 위치에도 임의적으로 있을 수 있고,\n",
    "      따라서 분산은 시간이 지남에 따라 증가하는 모습을 보인다.(확률밀도함수가 넓게 퍼지고 높이는 낮은 모습을 보인다.)\n",
    "    \n",
    "    - 주가 데이터가 랜덤워크를 보인다는 것은 주가의 흐름이 이전의 데이터와 상관없이 결정된다는 의미이다. --> 평균회귀 모델을 적용할 수 없음\n",
    "    - 주가 데이터가 평균으로 회귀하려면 이전의 데이터가 현재 데이터에 영향을 미쳐 평균으로 회귀하도록 해야 한다.\n",
    "    - 즉 데이터들끼리는 비독립적이어야 한다.   \n",
    "    \n",
    "    - 평균회귀 모델을 적용할 수 있는 시계열인지 아닌지를 판별하기 위해 사용하는 방법은 다음의 세 가지다.\n",
    "        - ADF(Augmented Dickey-Fuller) 테스트\n",
    "        - 허스트 지수(Hurst Exponent)\n",
    "        - 평균회귀의 Half-life\n",
    "    \n",
    "### ADF 테스트\n",
    "\n",
    "    어떤 주가 데이터가 평균회귀 성질을 갖고 있다면,\n",
    "    현주가는 다음 주가에 대한 통계적 정보를 포함하고 있어서\n",
    "    다음 주가가 어떻게 될지를 예측할 수 있게 된다.\n",
    "    \n",
    "    현주가가 평균보다 낮다면,\n",
    "    다음 주가는 위로 향하는 방향성을 가질 확률이 높다.\n",
    "    \n",
    "    ADF테스트는 '어떤 시계열 데이터가 랜덤워크를 따른다'는 가설을 세우고,\n",
    "    이 가설이 참인지 거짓인지를 판단하는 방법이다.\n",
    "    만약, 참이라면 해당 시계열 데이터는 평균회귀 모델을 적용할 수 없는 시계열 데이터이며\n",
    "    만약, 거짓이라면 해당 시계열 데이터는 평균회귀 모델을 적용하기 적합한 시계열 데이터이다.\n",
    "    \n"
   ]
  },
  {
   "cell_type": "code",
   "execution_count": 20,
   "metadata": {},
   "outputs": [
    {
     "name": "stderr",
     "output_type": "stream",
     "text": [
      "/Users/dohk/anaconda3/lib/python3.6/site-packages/statsmodels/compat/pandas.py:56: FutureWarning: The pandas.core.datetools module is deprecated and will be removed in a future version. Please use the pandas.tseries module instead.\n",
      "  from pandas.core import datetools\n"
     ]
    }
   ],
   "source": [
    "import pickle\n",
    "import statsmodels.tsa.stattools as ts\n",
    "# from pandas.core import datetools as ts"
   ]
  },
  {
   "cell_type": "code",
   "execution_count": 23,
   "metadata": {
    "collapsed": true
   },
   "outputs": [],
   "source": [
    "dbtable_arg =\"TRADE_BTC\"\n",
    "start_time_arg =  '2018-01-18 00:00:00'\n",
    "end_time_arg =  '2018-01-18 11:59:59'\n",
    "exchange_arg =  'bithumb'\n",
    "time_interval_arg = 1\n",
    "Spark_app_name = coin_type_arg + '_' + exchange_arg + '_' + str(time_interval_arg) + '_' + start_time_arg + '_' + end_time_arg"
   ]
  },
  {
   "cell_type": "code",
   "execution_count": 24,
   "metadata": {
    "collapsed": true
   },
   "outputs": [],
   "source": [
    "f = open(Spark_app_name+'.pickle', 'rb')\n",
    "bithumb = pickle.load(f)\n",
    "bithumb\n",
    "\n",
    "bithumb_price = pd.DataFrame({'open': bithumb['open'], \n",
    "                                 'high': bithumb['high'],\n",
    "                                 'low': bithumb['low'],\n",
    "                                 'close': bithumb['close']})\n",
    "# bithumb_price"
   ]
  },
  {
   "cell_type": "code",
   "execution_count": 25,
   "metadata": {},
   "outputs": [
    {
     "data": {
      "text/plain": [
       "(-1.307013354509142,\n",
       " 0.62595761839247033,\n",
       " 0,\n",
       " 454,\n",
       " {'1%': -3.4448360329259011,\n",
       "  '10%': -2.5701721745036776,\n",
       "  '5%': -2.8679272692747415},\n",
       " 11501.736330115242)"
      ]
     },
     "execution_count": 25,
     "metadata": {},
     "output_type": "execute_result"
    }
   ],
   "source": [
    "adf_result = ts.adfuller(bithumb_price['close'])\n",
    "adf_result"
   ]
  },
  {
   "cell_type": "markdown",
   "metadata": {},
   "source": [
    "### adfuller 함수\n",
    "\n",
    "http://www.statsmodels.org/stable/generated/statsmodels.tsa.stattools.adfuller.html?highlight=adfuller#statsmodels.tsa.stattools.adfuller\n",
    "\n",
    "    statsmodels.tsa.stattools.adfuller(x, maxlag=None, regression='c', autolag='AIC', store=False, regresults=False)\n",
    "    \n",
    "    \n",
    "    Parameters:\n",
    "        x : array_like, 1d\n",
    "            data series\n",
    "        ...\n",
    "        \n",
    "    Returns:\t\n",
    "        adf : float\n",
    "            Test statistic\n",
    "\n",
    "        pvalue : float\n",
    "            MacKinnon’s approximate p-value based on MacKinnon (1994, 2010)\n",
    "\n",
    "        usedlag : int\n",
    "            Number of lags used\n",
    "\n",
    "        nobs : int\n",
    "            Number of observations used for the ADF regression and calculation of the critical values\n",
    "\n",
    "        critical values : dict\n",
    "            Critical values for the test statistic at the 1 %, 5 %, and 10 % levels. Based on MacKinnon (2010)\n",
    "\n",
    "        icbest : float\n",
    "            The maximized information criterion if autolag is not None.\n",
    "\n",
    "        resstore : ResultStore, optional\n",
    "            A dummy class with results attached as attributes"
   ]
  },
  {
   "cell_type": "markdown",
   "metadata": {},
   "source": [
    "**실행결과**\n",
    "\n",
    "(-1.307013354509142,\n",
    " 0.62595761839247033,\n",
    " 0,\n",
    " 454,\n",
    " {'1%': -3.4448360329259011,\n",
    "  '10%': -2.5701721745036776,\n",
    "  '5%': -2.8679272692747415},\n",
    " 11501.736330115242)\n",
    " \n",
    " \n",
    ">(-1.307013354509142, : 가설 통계량(Test Statistic)<br>\n",
    "> 0.62595761839247033,<br>\n",
    "> 0,<br>\n",
    "> 454,<br>\n",
    "> {'1%': -3.4448360329259011, : 1% 기각값(Critical Value)<br>\n",
    ">  '10%': -2.5701721745036776, : 10% 기각값(Critical Value)<br>\n",
    ">  '5%': -2.8679272692747415}, : 5% 기각값(Critical Value)<br>\n",
    "> 11501.736330115242)\n",
    "\n",
    "    가설을 기각해야 해당 시계열 데이터가 평균회귀 모델에 적합하다고 할 수 있다.\n",
    "    그러기 위해 검정 통계량 값이 1%, 5%, 10% 기각값 중 어느 하나보다도 작아야 한다.\n",
    "    \n",
    "    현재 2018/01/18 00:00:00부터 2018/01/18 11:59:59까지의 bithumb거래소의 BTC코인 데이터 중 close 데이터는 \n",
    "    검정 통계량은 -1.307로서 어느 기각값보다도 작지 않으므로 가설을 기각할 수 없다.\n",
    "    결론적으로 위 시계열 데이터는 평균회귀 모델을 적용할 수 없는 모델이다.\n",
    "    \n",
    "    대부분의 주가 데이터는 랜덤워크다.\n",
    "    평균회귀는 단지 예로 든 것"
   ]
  },
  {
   "cell_type": "code",
   "execution_count": 19,
   "metadata": {},
   "outputs": [
    {
     "data": {
      "text/plain": [
       "(-2.088081975286701,\n",
       " 0.24933382476908794,\n",
       " 6,\n",
       " 19,\n",
       " {'1%': -3.8326031418574136,\n",
       "  '10%': -2.6555195844875348,\n",
       "  '5%': -3.0312271701414204},\n",
       " 402.42121420219257)"
      ]
     },
     "execution_count": 19,
     "metadata": {},
     "output_type": "execute_result"
    }
   ],
   "source": [
    "adf_result_o = ts.adfuller(bithumb_price['open'])\n",
    "adf_result_o"
   ]
  },
  {
   "cell_type": "code",
   "execution_count": 21,
   "metadata": {},
   "outputs": [
    {
     "data": {
      "text/plain": [
       "(-3.0427564114270145,\n",
       " 0.0310898534216471,\n",
       " 4,\n",
       " 21,\n",
       " {'1%': -3.7883858816542486,\n",
       "  '10%': -2.6463967573696143,\n",
       "  '5%': -3.0130977475434619},\n",
       " 403.11828877114152)"
      ]
     },
     "execution_count": 21,
     "metadata": {},
     "output_type": "execute_result"
    }
   ],
   "source": [
    "adf_result_h = ts.adfuller(bithumb_price['high'])\n",
    "adf_result_h"
   ]
  },
  {
   "cell_type": "code",
   "execution_count": 22,
   "metadata": {},
   "outputs": [
    {
     "data": {
      "text/plain": [
       "(-0.94538201654211429,\n",
       " 0.7726605013462744,\n",
       " 9,\n",
       " 16,\n",
       " {'1%': -3.9240193847656246,\n",
       "  '10%': -2.6738926562500001,\n",
       "  '5%': -3.0684982031250003},\n",
       " 415.20693802690789)"
      ]
     },
     "execution_count": 22,
     "metadata": {},
     "output_type": "execute_result"
    }
   ],
   "source": [
    "adf_result_l = ts.adfuller(bithumb_price['low'])\n",
    "adf_result_l"
   ]
  },
  {
   "cell_type": "markdown",
   "metadata": {},
   "source": [
    "# 평균회귀 모델 구현 개요\n",
    "\n",
    "    평균 회귀 모델의 기본 개념은 \n",
    "    주가가 평균보다 낮으면 주식을 매입하고\n",
    "    반대로 평균보다 높으면 주식을 매도해 수익을 만드는 것이다.\n",
    "    \n",
    "    평균 회귀 모델을 완성하려면 다음의 3가지 사항을 결정해야 한다.\n",
    "    - 평균 정의\n",
    "        주가 매도, 주가 매수의 비교치로 사용될 평균을 어떻게 구할지를 정해야 한다.\n",
    "        평균은 매도, 매수를 알려주는 일종의 신호로 활용된다.\n",
    "        예를 들면, 10일치의 이동평균, 30일치의 이동평균 등으로 평균을 정할 수 있다.\n",
    "    - 매도, 매수 기준\n",
    "        주가가 평균보다 높아지는 순간에 매도할지,\n",
    "        아니면 평균과 주가의 차이가 2배 이상 될 때 매도할지 등의\n",
    "        매도, 매수의 기준을 결정해야 한다.\n",
    "        간단히 선택하기 힘든 문제.\n",
    "        \n",
    "        기준이 너무 낮으면 큰 이익을 보지 못하고\n",
    "        기준이 너무 높으면 매도나 매수 시기를 놓치게 된다.\n",
    "        확률적으로 표준편차의 값을 기준으로 선택하는 것이 안전하다.\n",
    "<img src=\"https://goo.gl/XkApWD\" width=\"50%\"></img>\n",
    "        \n",
    "        이동평균과 주가의 차이가 표준편차보다 크면 매도나 매수를 실행한다.\n",
    "        - | 주가 - 이동평균 | > sigma\n",
    "            -    매도: 주가 - 이동평균 > 0\n",
    "            -    매수: 주가 - 이동평균 < 0\n",
    "        \n",
    "    - 데이터 선택\n",
    "        트레이딩에 사용할 데이터를 선택하는 것.\n",
    "        종가를 사용할지 시가를 사용할지 등을 선택한다.\n",
    "        간단히 선택하기 힘든 문제.\n",
    "        \n",
    "**슈도코드**\n",
    "\n",
    "    price_moving_average = rolling_mean(종가,10)\n",
    "    price_standard_deviation = rolling_std(종가,10)\n",
    "    diff = price - price_moving_average\n",
    "    if |diff| > price_standard_deviation :\n",
    "        if diff > 0:\n",
    "            sell_stock()\n",
    "        else:\n",
    "            buy_stock()\n",
    "\n"
   ]
  },
  {
   "cell_type": "markdown",
   "metadata": {},
   "source": [
    "# 머신러닝 모델\n",
    "\n",
    "    평균회귀 모델이 가설을 세우고 가설에 맞는 모델을 완성해 나가는 과정이라면\n",
    "    머신러닝 모델은 특별한 이론 없이 데이터로부터 모델을 생성해나가는 것이다.\n",
    "    \n",
    "    머신러닝에서 가장 중요한 것은 머신러닝 알고리즘이나 컴퓨팅 파워가 아닌 데이터인데, \n",
    "    특히 입력변수로 무엇을 선정할지를 고민해야 한다.\n",
    "    출력변수에 영향을 미치는 입력변수가 많을수록 예측력이 높지만, 반드시 많다고 좋은 것은 아니다.\n",
    "    \n",
    "    알고리즘 트레이딩에서 사용할 수 있는 입력변수의 예에 대하여 책에서는 다음과 같이 제시된다.\n",
    "    \n",
    "    - 주가 데이터\n",
    "    - 거래량 데이터\n",
    "    - 지수 데이터\n",
    "    - 외부 데이터\n",
    "        - 환율, 뉴스 데이터 등\n",
    "    - 기업 데이터\n",
    "        - 매출액, 영업이익률 등\n",
    "        \n",
    "# 회귀냐, 분류냐\n",
    "\n",
    "    머신러닝을 이용해 주가 자체를 예측하려 한다면 회귀 문제로 정의해야 하고\n",
    "    주가의 방향이 오를지 내릴지를 알고 싶다면 분류 문제로 정의해야 한다.\n",
    "    \n",
    "    주가는 랜덤워크이기 때문에\n",
    "    미래의 주가가 현재의 주가에 영향을 받지 않는 독립적인 관계에 있다.\n",
    "    따라서 주가가 상승하거나 하락할 확률은 50%로서 동전 던지기 처럼 오르냐 내리냐의 분류 문제로 정의할 수 있다.\n",
    "    이 책에서는 그래서 분류로 모델을 만들고자 한다.\n",
    "    \n",
    "    "
   ]
  },
  {
   "cell_type": "code",
   "execution_count": null,
   "metadata": {
    "collapsed": true
   },
   "outputs": [],
   "source": []
  }
 ],
 "metadata": {
  "colab": {
   "default_view": {},
   "name": "trade.ipynb",
   "provenance": [],
   "version": "0.3.2",
   "views": {}
  },
  "kernelspec": {
   "display_name": "Python 3",
   "language": "python",
   "name": "python3"
  },
  "language_info": {
   "codemirror_mode": {
    "name": "ipython",
    "version": 3
   },
   "file_extension": ".py",
   "mimetype": "text/x-python",
   "name": "python",
   "nbconvert_exporter": "python",
   "pygments_lexer": "ipython3",
   "version": "3.6.3"
  }
 },
 "nbformat": 4,
 "nbformat_minor": 2
}
