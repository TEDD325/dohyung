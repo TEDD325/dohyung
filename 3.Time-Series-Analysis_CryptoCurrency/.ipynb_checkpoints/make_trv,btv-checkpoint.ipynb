{
 "cells": [
  {
   "cell_type": "code",
   "execution_count": 1,
   "metadata": {
    "collapsed": true
   },
   "outputs": [],
   "source": [
    "import csv\n",
    "from os import listdir\n",
    "from os.path import isfile, join\n",
    "import _pickle as pickle\n",
    "import numpy as np"
   ]
  },
  {
   "cell_type": "code",
   "execution_count": 2,
   "metadata": {
    "collapsed": true
   },
   "outputs": [],
   "source": [
    "data_files_dir = \"/Users/dohk/GoogleDrive/Bithumb_Data_Collector/cleanup\"\n",
    "# cleanup된 raw data의 위치"
   ]
  },
  {
   "cell_type": "code",
   "execution_count": 3,
   "metadata": {
    "collapsed": true
   },
   "outputs": [],
   "source": [
    "all_data_files = [f for f in listdir(data_files_dir) if isfile(join(data_files_dir, f))]\n",
    "# 디렉토리에 존재하는 모든 파일의 이름을 리스트로 저장"
   ]
  },
  {
   "cell_type": "code",
   "execution_count": 4,
   "metadata": {},
   "outputs": [
    {
     "data": {
      "text/plain": [
       "['Icon\\r', 'coin_BTC_cleanup.csv']"
      ]
     },
     "execution_count": 4,
     "metadata": {},
     "output_type": "execute_result"
    }
   ],
   "source": [
    "all_data_files"
   ]
  },
  {
   "cell_type": "code",
   "execution_count": 5,
   "metadata": {},
   "outputs": [
    {
     "data": {
      "text/plain": [
       "['coin_BTC_cleanup.csv']"
      ]
     },
     "execution_count": 5,
     "metadata": {},
     "output_type": "execute_result"
    }
   ],
   "source": [
    "trading_coins = ['BTC']\n",
    "trading_files = [f for f in all_data_files for coin in trading_coins if coin in f]\n",
    "trading_files\n",
    "# 데이터셋으로 만들고자 하는 코인의 이름을 리스트로 저장"
   ]
  },
  {
   "cell_type": "markdown",
   "metadata": {},
   "source": [
    "unix timestamp: 1518050400000 ~ <br>\n",
    "human readable time: 2018.02.08 9:30 ~ <br>\n",
    "unix timestamp: 1519159200000 <br>\n",
    "human readable time: 2018.02.21 5:40<br>"
   ]
  },
  {
   "cell_type": "code",
   "execution_count": 6,
   "metadata": {},
   "outputs": [
    {
     "name": "stdout",
     "output_type": "stream",
     "text": [
      "coin_BTC_cleanup.csv : 42768\n"
     ]
    }
   ],
   "source": [
    "all_data_list = dict() #전체 데이터\n",
    "for f in trading_files:\n",
    "    all_data_list[f] = list()\n",
    "    \n",
    "start_ms_time = 1494633000000\n",
    "end_ms_time = 1520293200000 #1519129800000 #1519159200000\n",
    "\n",
    "for f in trading_files:  # 각 코인별로\n",
    "    file = open(data_files_dir + '/' + f, 'r', encoding='utf-8') \n",
    "    rdr = csv.reader(file)  # read mode로 열고\n",
    "    for line in rdr:  # 읽은 csv파일을 라인별로\n",
    "        if start_ms_time <= int(line[0]) and end_ms_time >= int(line[0]):  # 뭘 검사하냐면, 시간을.\n",
    "            all_data_list[f].append(line)  # 해당 코인의 key값에 대한 value로 해당 라인을 저장.\n",
    "        else:\n",
    "            pass  # starttime~endtime범위를 넘어간 데이터는 패스\n",
    "    file.close()\n",
    "    \n",
    "for i in trading_files:\n",
    "    print(i, \":\", len(all_data_list[i]))"
   ]
  },
  {
   "cell_type": "code",
   "execution_count": 8,
   "metadata": {},
   "outputs": [
    {
     "data": {
      "text/plain": [
       "['1494633000000',\n",
       " '2017-05-13 08:50:00',\n",
       " '2283000',\n",
       " '2266000',\n",
       " '2283000',\n",
       " '2266000',\n",
       " '60.23131969',\n",
       " 'normal']"
      ]
     },
     "execution_count": 8,
     "metadata": {},
     "output_type": "execute_result"
    }
   ],
   "source": [
    "all_data_list['coin_BTC_cleanup.csv'][0]"
   ]
  },
  {
   "cell_type": "code",
   "execution_count": 9,
   "metadata": {},
   "outputs": [
    {
     "data": {
      "text/plain": [
       "['1520293200000',\n",
       " '2018-03-06 08:40:00',\n",
       " '12840000',\n",
       " '12812000',\n",
       " '12850000',\n",
       " '12780000',\n",
       " '95.41135574',\n",
       " 'normal']"
      ]
     },
     "execution_count": 9,
     "metadata": {},
     "output_type": "execute_result"
    }
   ],
   "source": [
    "all_data_list['coin_BTC_cleanup.csv'][-1]"
   ]
  },
  {
   "cell_type": "code",
   "execution_count": 10,
   "metadata": {},
   "outputs": [
    {
     "name": "stdout",
     "output_type": "stream",
     "text": [
      "coin_BTC_cleanup.csv : 42768\n"
     ]
    }
   ],
   "source": [
    "all_data_list = dict() #전체 데이터\n",
    "for f in trading_files:\n",
    "    all_data_list[f] = list()\n",
    "    \n",
    "start_ms_time = 1494633000000\n",
    "end_ms_time = 1520293200000 #1519129800000 #1519159200000\n",
    "\n",
    "for f in trading_files:  # 각 코인별로\n",
    "    file = open(data_files_dir + '/' + f, 'r', encoding='utf-8') \n",
    "    rdr = csv.reader(file)  # read mode로 열고\n",
    "    for line in rdr:  # 읽은 csv파일을 라인별로\n",
    "        if start_ms_time <= int(line[0]) and end_ms_time >= int(line[0]):  # 뭘 검사하냐면, 시간을.\n",
    "            all_data_list[f].append(line)  # 해당 코인의 key값에 대한 value로 해당 라인을 저장.\n",
    "        else:\n",
    "            pass  # starttime~endtime범위를 넘어간 데이터는 패스\n",
    "    file.close()\n",
    "    \n",
    "for i in trading_files:\n",
    "    print(i, \":\", len(all_data_list[i]))"
   ]
  },
  {
   "cell_type": "code",
   "execution_count": 18,
   "metadata": {},
   "outputs": [
    {
     "data": {
      "text/plain": [
       "1"
      ]
     },
     "execution_count": 18,
     "metadata": {},
     "output_type": "execute_result"
    }
   ],
   "source": [
    "len(all_data_list)"
   ]
  },
  {
   "cell_type": "code",
   "execution_count": 20,
   "metadata": {},
   "outputs": [
    {
     "data": {
      "text/plain": [
       "42768"
      ]
     },
     "execution_count": 20,
     "metadata": {},
     "output_type": "execute_result"
    }
   ],
   "source": [
    "len(all_data_list['coin_BTC_cleanup.csv'])"
   ]
  },
  {
   "cell_type": "code",
   "execution_count": 22,
   "metadata": {},
   "outputs": [
    {
     "data": {
      "text/plain": [
       "34214"
      ]
     },
     "execution_count": 22,
     "metadata": {},
     "output_type": "execute_result"
    }
   ],
   "source": [
    "int(len(all_data_list['coin_BTC_cleanup.csv'])*0.8) # 80%"
   ]
  },
  {
   "cell_type": "code",
   "execution_count": null,
   "metadata": {
    "collapsed": true
   },
   "outputs": [],
   "source": []
  },
  {
   "cell_type": "code",
   "execution_count": 25,
   "metadata": {
    "collapsed": true
   },
   "outputs": [],
   "source": [
    "trv = list() #train value : [[v_t, v_t_hi, v_t_low], ...], shape : (27000, 3, 7, 50)\n",
    "btv = list() #backtest value : [v_t, v_t_hi, v_t_low], ...], shape : (1800, 3, 7, 50)\n",
    "\n",
    "trv_file = open(data_files_dir + '/dataset/trv', 'wb')\n",
    "btv_file = open(data_files_dir + '/dataset/btv', 'wb')"
   ]
  },
  {
   "cell_type": "code",
   "execution_count": 26,
   "metadata": {
    "collapsed": true
   },
   "outputs": [],
   "source": [
    "data_iterator = dict()\n",
    "for file in trading_files:\n",
    "    data_iterator[file] = iter(all_data_list[file])"
   ]
  },
  {
   "cell_type": "code",
   "execution_count": 27,
   "metadata": {
    "collapsed": true
   },
   "outputs": [],
   "source": [
    "v_t = list() #shape : (7, 50)\n",
    "v_t_hi = list() #(7, 50)\n",
    "v_t_low = list() #(7, 50)\n",
    "v_t_f = list() #shape : (50)\n",
    "v_t_hi_f = list() #(50)\n",
    "v_t_low_f = list() #(50)"
   ]
  },
  {
   "cell_type": "code",
   "execution_count": 28,
   "metadata": {},
   "outputs": [
    {
     "name": "stdout",
     "output_type": "stream",
     "text": [
      "train dataset's shape : (34214, 3, 1, 50)\n",
      "backtest dataset's shape : (8505, 3, 1, 50)\n",
      "example :  [[[ 2266000.  2266000.  2256000.  2260000.  2273000.  2274000.  2266000.\n",
      "    2264000.  2260000.  2265000.  2257000.  2235000.  2233000.  2201000.\n",
      "    2208000.  2172000.  2189000.  2206000.  2224000.  2205000.  2185000.\n",
      "    2204000.  2198000.  2193000.  2188000.  2178000.  2166000.  2182000.\n",
      "    2181000.  2187000.  2183000.  2185000.  2186000.  2184000.  2189000.\n",
      "    2206000.  2203000.  2199000.  2203000.  2197000.  2190000.  2184000.\n",
      "    2175000.  2160000.  2160000.  2139000.  2155000.  2150000.  2160000.\n",
      "    2154000.]]\n",
      "\n",
      " [[ 2283000.  2278000.  2276000.  2261000.  2273000.  2277000.  2282000.\n",
      "    2270000.  2265000.  2271000.  2265000.  2259000.  2253000.  2236000.\n",
      "    2224000.  2209000.  2197000.  2234000.  2226000.  2231000.  2209000.\n",
      "    2207000.  2217000.  2197000.  2193000.  2188000.  2186000.  2188000.\n",
      "    2188000.  2187000.  2187000.  2187000.  2187000.  2186000.  2191000.\n",
      "    2211000.  2206000.  2220000.  2214000.  2204000.  2198000.  2193000.\n",
      "    2189000.  2177000.  2162000.  2160000.  2156000.  2162000.  2162000.\n",
      "    2164000.]]\n",
      "\n",
      " [[ 2266000.  2260000.  2256000.  2252000.  2259000.  2266000.  2266000.\n",
      "    2264000.  2258000.  2260000.  2255000.  2235000.  2233000.  2200000.\n",
      "    2200000.  2163000.  2150000.  2179000.  2201000.  2200000.  2180000.\n",
      "    2184000.  2179000.  2182000.  2181000.  2178000.  2166000.  2161000.\n",
      "    2174000.  2177000.  2183000.  2177000.  2180000.  2182000.  2183000.\n",
      "    2189000.  2196000.  2198000.  2198000.  2196000.  2190000.  2179000.\n",
      "    2170000.  2157000.  2155000.  2134000.  2130000.  2140000.  2141000.\n",
      "    2140000.]]]\n"
     ]
    }
   ],
   "source": [
    "while True:\n",
    "    try:\n",
    "        for f in trading_files:\n",
    "            if not v_t_f == list():\n",
    "                v = next(data_iterator[f])\n",
    "                if v == None:\n",
    "                    break\n",
    "                v_t_f = v_t_f[1:]\n",
    "                v_t_hi_f = v_t_hi_f[1:]\n",
    "                v_t_low_f = v_t_low_f[1:]\n",
    "                v_t_f.append(v[3])\n",
    "                v_t_hi_f.append(v[4])\n",
    "                v_t_low_f.append(v[5])\n",
    "            else:\n",
    "                for i in range(50):\n",
    "                    v = next(data_iterator[f])\n",
    "                    v_t_f.append(v[3])\n",
    "                    v_t_hi_f.append(v[4])\n",
    "                    v_t_low_f.append(v[5])\n",
    "            v_t.append(v_t_f)\n",
    "            v_t_hi.append(v_t_hi_f)\n",
    "            v_t_low.append(v_t_low_f)\n",
    "\n",
    "        if len(trv) < int(len(all_data_list['coin_BTC_cleanup.csv'])*0.8):\n",
    "            trv.append([v_t, v_t_hi, v_t_low])\n",
    "            v_t = list()\n",
    "            v_t_hi = list()\n",
    "            v_t_low = list()\n",
    "        else:\n",
    "            btv.append([v_t, v_t_hi, v_t_low])\n",
    "            v_t = list()\n",
    "            v_t_hi = list()\n",
    "            v_t_low = list()\n",
    "    except StopIteration:\n",
    "        break\n",
    "\n",
    "trv = np.array(trv, dtype=np.float64)\n",
    "btv = np.array(btv, dtype=np.float64)\n",
    "\n",
    "print(\"train dataset's shape :\", trv.shape)\n",
    "print(\"backtest dataset's shape :\", btv.shape)\n",
    "\n",
    "print(\"example : \", trv[0])\n",
    "\n",
    "pickle.dump(trv, trv_file, protocol=4)\n",
    "pickle.dump(btv, btv_file, protocol=4)\n",
    "\n",
    "trv_file.close()\n",
    "btv_file.close()"
   ]
  },
  {
   "cell_type": "code",
   "execution_count": 30,
   "metadata": {},
   "outputs": [
    {
     "name": "stdout",
     "output_type": "stream",
     "text": [
      "34214\n",
      "8505\n"
     ]
    }
   ],
   "source": [
    "print(len(trv))\n",
    "print(len(btv))"
   ]
  },
  {
   "cell_type": "code",
   "execution_count": 33,
   "metadata": {},
   "outputs": [
    {
     "data": {
      "text/plain": [
       "numpy.ndarray"
      ]
     },
     "execution_count": 33,
     "metadata": {},
     "output_type": "execute_result"
    }
   ],
   "source": [
    "type(trv)"
   ]
  },
  {
   "cell_type": "code",
   "execution_count": null,
   "metadata": {
    "collapsed": true
   },
   "outputs": [],
   "source": []
  }
 ],
 "metadata": {
  "kernelspec": {
   "display_name": "Python 3",
   "language": "python",
   "name": "python3"
  },
  "language_info": {
   "codemirror_mode": {
    "name": "ipython",
    "version": 3
   },
   "file_extension": ".py",
   "mimetype": "text/x-python",
   "name": "python",
   "nbconvert_exporter": "python",
   "pygments_lexer": "ipython3",
   "version": "3.6.3"
  }
 },
 "nbformat": 4,
 "nbformat_minor": 2
}
