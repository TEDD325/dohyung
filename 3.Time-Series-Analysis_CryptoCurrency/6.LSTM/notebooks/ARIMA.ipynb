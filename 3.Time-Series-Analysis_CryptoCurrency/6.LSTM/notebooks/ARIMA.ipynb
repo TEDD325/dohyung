{
 "cells": [
  {
   "cell_type": "code",
   "execution_count": 2,
   "metadata": {},
   "outputs": [
    {
     "name": "stderr",
     "output_type": "stream",
     "text": [
      "/anaconda3/lib/python3.6/site-packages/numpy/lib/arraysetops.py:472: FutureWarning: elementwise comparison failed; returning scalar instead, but in the future will perform elementwise comparison\n",
      "  mask |= (ar1 == a)\n"
     ]
    },
    {
     "name": "stdout",
     "output_type": "stream",
     "text": [
      "(2016354, 7)\n",
      "Index(['Open', 'High', 'Low', 'Close', 'Volume_(BTC)', 'Volume_(Currency)',\n",
      "       'Weighted_Price'],\n",
      "      dtype='object')\n",
      "Timestamp\n",
      "1417411980     300.00\n",
      "1417412040        NaN\n",
      "1417412100        NaN\n",
      "1417412160        NaN\n",
      "1417412220        NaN\n",
      "1417412280        NaN\n",
      "1417412340        NaN\n",
      "1417412400     300.00\n",
      "1417412460        NaN\n",
      "1417412520        NaN\n",
      "1417412580        NaN\n",
      "1417412640        NaN\n",
      "1417412700        NaN\n",
      "1417412760        NaN\n",
      "1417412820        NaN\n",
      "1417412880        NaN\n",
      "1417412940        NaN\n",
      "1417413000        NaN\n",
      "1417413060        NaN\n",
      "1417413120        NaN\n",
      "1417413180        NaN\n",
      "1417413240        NaN\n",
      "1417413300        NaN\n",
      "1417413360        NaN\n",
      "1417413420        NaN\n",
      "1417413480        NaN\n",
      "1417413540        NaN\n",
      "1417413600        NaN\n",
      "1417413660        NaN\n",
      "1417413720        NaN\n",
      "               ...   \n",
      "1541892660    6361.19\n",
      "1541892720    6361.20\n",
      "1541892780    6357.01\n",
      "1541892840    6355.78\n",
      "1541892900    6355.78\n",
      "1541892960    6353.93\n",
      "1541893020    6350.11\n",
      "1541893080    6351.99\n",
      "1541893140    6352.45\n",
      "1541893200    6352.47\n",
      "1541893260    6352.98\n",
      "1541893320    6355.45\n",
      "1541893380    6355.77\n",
      "1541893440    6355.78\n",
      "1541893500    6355.77\n",
      "1541893560    6355.00\n",
      "1541893620    6352.20\n",
      "1541893680    6351.29\n",
      "1541893740    6350.00\n",
      "1541893800    6347.42\n",
      "1541893860    6347.41\n",
      "1541893920    6347.42\n",
      "1541893980    6347.41\n",
      "1541894040    6347.42\n",
      "1541894100    6347.41\n",
      "1541894160    6347.41\n",
      "1541894220    6347.41\n",
      "1541894280    6347.41\n",
      "1541894340    6347.41\n",
      "1541894400    6347.42\n",
      "Name: Open, Length: 2016354, dtype: float64\n"
     ]
    },
    {
     "data": {
      "text/plain": [
       "<matplotlib.axes._subplots.AxesSubplot at 0x114a0fb00>"
      ]
     },
     "execution_count": 2,
     "metadata": {},
     "output_type": "execute_result"
    },
    {
     "data": {
      "image/png": "[encoded data removed]",
      "text/plain": [
       "<Figure size 432x288 with 1 Axes>"
      ]
     },
     "metadata": {},
     "output_type": "display_data"
    }
   ],
   "source": [
    "import pandas as pd\n",
    "import copy\n",
    "%matplotlib inline\n",
    "\n",
    "tmp = pd.read_csv('../data/ARIMA/coinbaseUSD_1-min_data_2014-12-01_to_2018-11-11.csv', header=0, index_col=0, squeeze=True)\n",
    "# print(type(tmp))\n",
    "print(tmp.shape)\n",
    "print(tmp.columns)\n",
    "print(tmp.Open)\n",
    "\n",
    "opening_price = copy.deepcopy(tmp.Open)\n",
    "opening_price.plot()"
   ]
  },
  {
   "cell_type": "code",
   "execution_count": null,
   "metadata": {},
   "outputs": [],
   "source": [
    "import matplotlib.pyplot as plt\n",
    "from statsmodels.graphics.tsaplots import plot_acf, plot_pacf\n",
    "\n",
    "plot_acf(opening_price)\n",
    "plot_pacf(opening_price)\n",
    "plt.show()"
   ]
  },
  {
   "cell_type": "code",
   "execution_count": null,
   "metadata": {},
   "outputs": [],
   "source": []
  }
 ],
 "metadata": {
  "kernelspec": {
   "display_name": "Python 3",
   "language": "python",
   "name": "python3"
  },
  "language_info": {
   "codemirror_mode": {
    "name": "ipython",
    "version": 3
   },
   "file_extension": ".py",
   "mimetype": "text/x-python",
   "name": "python",
   "nbconvert_exporter": "python",
   "pygments_lexer": "ipython3",
   "version": "3.6.5"
  }
 },
 "nbformat": 4,
 "nbformat_minor": 2
}
