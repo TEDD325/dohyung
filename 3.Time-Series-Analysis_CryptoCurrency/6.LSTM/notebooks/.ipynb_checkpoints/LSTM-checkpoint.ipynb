{
 "cells": [
  {
   "cell_type": "code",
   "execution_count": null,
   "metadata": {},
   "outputs": [
    {
     "name": "stderr",
     "output_type": "stream",
     "text": [
      "Using TensorFlow backend.\n"
     ]
    },
    {
     "name": "stdout",
     "output_type": "stream",
     "text": [
      "Using Keras version: 2.2.4 backend: tensorflow\n"
     ]
    },
    {
     "name": "stderr",
     "output_type": "stream",
     "text": [
      "/anaconda3/envs/LSTM/lib/python3.6/site-packages/sklearn/ensemble/weight_boosting.py:29: DeprecationWarning: numpy.core.umath_tests is an internal NumPy module and should not be imported. It will be removed in a future NumPy release.\n",
      "  from numpy.core.umath_tests import inner1d\n"
     ]
    },
    {
     "name": "stdout",
     "output_type": "stream",
     "text": [
      "[INFO] X_train.shape : (47294, 8, 10, 4)\n",
      "[INFO] y_train.shape : (47294, 2)\n",
      "[INFO] X_test.shape : (5255, 8, 10, 4)\n",
      "[INFO] y_test.shape : (5255, 2)\n",
      "\n",
      "[INFO] X_train_2.shape: (47294, 10, 8, 4)\n",
      "[INFO] X_test_2.shape: (5255, 10, 8, 4)\n",
      "\n",
      "[INFO] X_train_3.shape: (47294, 10, 32)\n",
      "[INFO] X_test_3.shape: (5255, 10, 32)\n",
      "\n",
      "[INFO] X_train_reshape.shape: (47294, 320)\n",
      "[INFO] X_test_reshape.shape: (5255, 320)\n",
      "\n",
      "\n",
      "\n",
      "----------------------\n",
      "<LSTM>\n",
      "----------------------\n",
      "__BTC__time unit: 10  |  window_size :10  |  gap :1  |  margin_rate :0.1  started.\n",
      "Fitting 5 folds for each of 20 candidates, totalling 100 fits\n",
      "Train on 37835 samples, validate on 5255 samples\n",
      "Epoch 1/300\n"
     ]
    }
   ],
   "source": [
    "from userFunction import *\n",
    "%matplotlib inline\n",
    "\n",
    "if __name__ == \"__main__\":\n",
    "    run_test = False\n",
    "    epochs = 300\n",
    "    cv = 5\n",
    "    n_iter = 20\n",
    "    _GPU = False\n",
    "    \n",
    "    model_info_1 = \"window_size_standard\"\n",
    "    model_info_2 = \"time_unit_standard\"\n",
    "\n",
    "    run_Model(run_test=run_test,\n",
    "              epochs=epochs,\n",
    "              cv=cv,\n",
    "              n_iter=n_iter,\n",
    "              _GPU=_GPU,\n",
    "              model_info_=model_info_1)\n",
    "\n",
    "    # dir = \"./evaluate_result/\"\n",
    "    # dir = dir + model_info_2 + '/'\n",
    "    # time_unit_list = [10]\n",
    "    # window_size_list = [10, 50, 75, 100]\n",
    "    #\n",
    "    # for time_unit in time_unit_list:\n",
    "    #     # dir = dir + str(time_unit) + '/'\n",
    "    #     dir = \"./evaluate_result/\"\n",
    "    #     print(dir)\n",
    "    #     drawGraph(dir)"
   ]
  },
  {
   "cell_type": "code",
   "execution_count": null,
   "metadata": {},
   "outputs": [],
   "source": []
  }
 ],
 "metadata": {
  "kernelspec": {
   "display_name": "Python 3",
   "language": "python",
   "name": "python3"
  },
  "language_info": {
   "codemirror_mode": {
    "name": "ipython",
    "version": 3
   },
   "file_extension": ".py",
   "mimetype": "text/x-python",
   "name": "python",
   "nbconvert_exporter": "python",
   "pygments_lexer": "ipython3",
   "version": "3.6.6"
  }
 },
 "nbformat": 4,
 "nbformat_minor": 2
}
