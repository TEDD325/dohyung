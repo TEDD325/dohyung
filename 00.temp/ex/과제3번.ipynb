{
 "cells": [
  {
   "cell_type": "markdown",
   "metadata": {},
   "source": [
    "# 과제3번\n",
    "http://nbviewer.jupyter.org/github/bluebibi/python-e-learning/blob/master/python3.6/assignment-3.ipynb"
   ]
  },
  {
   "cell_type": "markdown",
   "metadata": {},
   "source": [
    "> - 문자열 S = 'Hello World and Python'에 대해 다음 요구사항에 대한 Python 코드를 제시하시오. \n",
    ">   - 1) 단어의 순서가 역순으로 되어진 문자열 ('Python and World Hello')을 만들고  \n",
    ">   - 2) 1)의 결과 문자열에 대해 메소드 split과 join을 이용하여 공백을 모두 없엔 문자열 'PythonandWorldHello'을 만드시오."
   ]
  },
  {
   "cell_type": "code",
   "execution_count": 2,
   "metadata": {},
   "outputs": [
    {
     "name": "stdout",
     "output_type": "stream",
     "text": [
      "['Python', 'and', 'World', 'Hello']\n",
      "PythonandWorldHello\n"
     ]
    }
   ],
   "source": [
    "S = 'Hello World and Python'\n",
    "S = # split 메소드와 슬라이싱\n",
    "print(S)\n",
    "S_ = ''\n",
    "# 반복문\n",
    "    S_ = # 문자열 덧셈\n",
    "print(S_)"
   ]
  },
  {
   "cell_type": "markdown",
   "metadata": {},
   "source": [
    "> - 다음 문자열을 ':'을 기준으로 분리하여 리스트로 만들고 각 문자열의 좌우 공백을 제거하시오 (즉, 문자열 S에서 l을 만들어라)\n",
    "> <pre>\n",
    "> s = '  first star   :   second star   :    third star  '\n",
    "> l = ['first star', 'second star', 'third star']\n",
    "> </pre>\n",
    ">   - 1) for ~ in 문을 이용한 코드를 작성하시오. \n",
    ">   - 2) 리스트 내포(list comprehension)를 이용한 코드를 작성하시오."
   ]
  },
  {
   "cell_type": "code",
   "execution_count": 74,
   "metadata": {
    "collapsed": true
   },
   "outputs": [],
   "source": [
    "s = '  first star   :   second star   :    third star  '"
   ]
  },
  {
   "cell_type": "code",
   "execution_count": 75,
   "metadata": {},
   "outputs": [
    {
     "data": {
      "text/plain": [
       "'first star   :   second star   :    third star'"
      ]
     },
     "execution_count": 75,
     "metadata": {},
     "output_type": "execute_result"
    }
   ],
   "source": [
    "s.strip()"
   ]
  },
  {
   "cell_type": "code",
   "execution_count": 5,
   "metadata": {},
   "outputs": [
    {
     "name": "stdout",
     "output_type": "stream",
     "text": [
      "['  first star   ', '   second star   ', '    third star  ']\n",
      "['  first star', '   second star', '    third star']\n",
      "['first star', 'second star', 'third star']\n"
     ]
    }
   ],
   "source": [
    "s = '  first star   :   second star   :    third star  '\n",
    "s = ((s.split(':')))#.rstrip()).lstrip()\n",
    "print(s)\n",
    "\n",
    "l1 = []\n",
    "for item in s:\n",
    "    l1.append(item.rstrip())\n",
    "print(l1)\n",
    "\n",
    "l2 = []\n",
    "for item in l1:\n",
    "    l2.append(item.lstrip())\n",
    "print(l2)"
   ]
  },
  {
   "cell_type": "code",
   "execution_count": null,
   "metadata": {
    "collapsed": true
   },
   "outputs": [],
   "source": []
  },
  {
   "cell_type": "code",
   "execution_count": 6,
   "metadata": {},
   "outputs": [
    {
     "name": "stdout",
     "output_type": "stream",
     "text": [
      "['  first star', '   second star', '    third star']\n",
      "['first star', 'second star', 'third star']\n"
     ]
    }
   ],
   "source": [
    "s = '  first star   :   second star   :    third star  '\n",
    "l1 = [something for something in (something)]\n",
    "print(l1)\n",
    "l2 = [something for something in [something for something in (something)]]\n",
    "print(l2)"
   ]
  },
  {
   "cell_type": "markdown",
   "metadata": {},
   "source": [
    "- 사전 d = {'one':1, 'two':2, 'three':3, 'four':4, 'five':5}가 주어졌을 때 다음 요구사항에 맞는 코드를 제시하시오 \n",
    "  - [참고]: d.keys(), d.values()를 통해 리스트를 얻어낸 후 리스트가 지니고 있는 sort(cmp=None, key=None, reverse=False)함수를 활용하시오.\n",
    "  - 1) 키의 알파벳 오름차순 순서대로 튜플 (키, 값)을 차례대로 출력하시오.\n",
    "  - 2) 키의 알파벳 내림차순 순서대로 튜플 (키, 값)을 차례대로 출력하시오.\n",
    "  - 3) 값의 오름차순 순서대로 튜플 (키, 값)을 차례대로 출력하시오. \n",
    "  - 4) 값의 내림차순 순서대로 튜플 (키, 값)을 차례대로 출력하시오."
   ]
  },
  {
   "cell_type": "code",
   "execution_count": 45,
   "metadata": {},
   "outputs": [
    {
     "name": "stdout",
     "output_type": "stream",
     "text": [
      "dict_keys(['one', 'two', 'three', 'four', 'five'])\n",
      "dict_values([1, 2, 3, 4, 5])\n",
      "\n",
      "<class 'list'>\n",
      "<class 'list'>\n"
     ]
    }
   ],
   "source": [
    "d = {'one':1, 'two':2, 'three':3, 'four':4, 'five':5}\n",
    "print(d.keys())\n",
    "print(d.values(), end=\"\\n\\n\")\n",
    "key = list(d.keys())\n",
    "value = list(d.values())\n",
    "print(type(key))\n",
    "print(type(value))"
   ]
  },
  {
   "cell_type": "code",
   "execution_count": 46,
   "metadata": {},
   "outputs": [
    {
     "name": "stdout",
     "output_type": "stream",
     "text": [
      "['five', 'four', 'one', 'three', 'two']\n",
      "('five', 'four', 'one', 'three', 'two')\n",
      "<class 'list'>\n"
     ]
    }
   ],
   "source": [
    "# sort() 메소드 사용\n",
    "# tuple로 변경"
   ]
  },
  {
   "cell_type": "code",
   "execution_count": 47,
   "metadata": {},
   "outputs": [
    {
     "name": "stdout",
     "output_type": "stream",
     "text": [
      "['two', 'three', 'one', 'four', 'five']\n",
      "('two', 'three', 'one', 'four', 'five')\n",
      "<class 'list'>\n"
     ]
    }
   ],
   "source": [
    "# sort() 메소드 내부의 parameter 살피기"
   ]
  },
  {
   "cell_type": "markdown",
   "metadata": {},
   "source": [
    "> - [ACM-ICPC 문제 1152번] \n",
    ">   - 단어의 개수<br>\n",
    ">   https://www.acmicpc.net/problem/1152"
   ]
  },
  {
   "cell_type": "code",
   "execution_count": 50,
   "metadata": {
    "scrolled": true
   },
   "outputs": [
    {
     "name": "stdout",
     "output_type": "stream",
     "text": [
      "The Curious Case of Benjamin Button\n"
     ]
    }
   ],
   "source": [
    "string = input()"
   ]
  },
  {
   "cell_type": "code",
   "execution_count": 4,
   "metadata": {},
   "outputs": [
    {
     "name": "stdout",
     "output_type": "stream",
     "text": [
      "['The', 'Curious', 'Case', 'of', 'Benjamin', 'Button']\n"
     ]
    }
   ],
   "source": [
    "# 단어별로 나누기"
   ]
  },
  {
   "cell_type": "code",
   "execution_count": 19,
   "metadata": {},
   "outputs": [
    {
     "name": "stdout",
     "output_type": "stream",
     "text": [
      "{'The': 1, 'Curious': 1, 'Case': 1, 'of': 1, 'Benjamin': 1, 'Button': 1}\n"
     ]
    }
   ],
   "source": [
    "# 원하는 자료구조를 이용하여 단어 세기"
   ]
  },
  {
   "cell_type": "code",
   "execution_count": 52,
   "metadata": {},
   "outputs": [
    {
     "data": {
      "text/plain": [
       "6"
      ]
     },
     "execution_count": 52,
     "metadata": {},
     "output_type": "execute_result"
    }
   ],
   "source": [
    "# 길이 구하기"
   ]
  },
  {
   "cell_type": "markdown",
   "metadata": {},
   "source": [
    "> - [Incremental Project] 이전 Assignment 2의 마지막 문제는 웹 URL로 지정된 웹페이지를 문자열로 가져와 모든 HTML 태그 및 CSS와 Javascript를 제외한 순수 텍스트를 얻어내고 그 안에 존재하는 단어를 추출하고 단어들의 총 개수를 출력하는 프로그램을 작성하는 것이었다. 이번에는 그 마지막 숙제를 그대로 확장하여 웹 URL로 지정된 웹페이지 내 순수 텍스트 안에 존재하는 각 단어들에 대해 다음 요구사항 대로 출력하는 프로그램을 작성하시오. \n",
    ">   - 요구사항 1. 순수 텍스트 안에 존재하는 단어들에 대해 string 모듈을 활용하여 모든 punctuation (구두문자)를 완벽히 제거하시오.\n",
    ">     - 예: ['world!', ':', '+hello+', '~python$$$', '=', 'world'] ---> ['world', 'hello', 'python', 'world']\n",
    ">     - 모든 punctuation을 확인하는 방법은 아래와 같다.\n",
    ">     <pre>\n",
    ">     import string\n",
    ">     print(string.punctuation)\n",
    ">     </pre>\n",
    ">   - 요구사항 2. 만약 punctuation (구두문자)를 제거한 이후 공백으로 판명되는 단어들은 해당 단어 리스트에서 제거하시오.\n",
    ">     - 예: ['컴퓨터공학부!', '---?', '%지향~', '...'] ---> ['컴퓨터공학부', '지향']\n",
    ">   - 요구사항 3. 각 단어들의 출현빈도를 사전형태로 저장하여 출력하시오.\n",
    ">     - 예: ['world', 'hello', 'python', 'world', '컴퓨터공학부', '지향'] ---> {'world': 2, 'hello': 1, 'python': 1, '컴퓨터공학부': 1, '지향': 1}\n",
    ">   - 요구사항 4. 다음 3개의 사이트에 대한 결과를 출력하시오.\n",
    ">     - http://www.naver.com\n",
    ">     - http://www.daum.net\n",
    ">     - http://www.nytimes.com"
   ]
  },
  {
   "cell_type": "code",
   "execution_count": 53,
   "metadata": {},
   "outputs": [
    {
     "name": "stdout",
     "output_type": "stream",
     "text": [
      "!\"#$%&'()*+,-./:;<=>?@[\\]^_`{|}~\n"
     ]
    }
   ],
   "source": [
    "import string\n",
    "print(string.punctuation)"
   ]
  },
  {
   "cell_type": "code",
   "execution_count": 54,
   "metadata": {},
   "outputs": [
    {
     "name": "stdout",
     "output_type": "stream",
     "text": [
      "<class 'str'>\n"
     ]
    }
   ],
   "source": [
    "print(type(string.punctuation))"
   ]
  },
  {
   "cell_type": "code",
   "execution_count": null,
   "metadata": {
    "collapsed": true
   },
   "outputs": [],
   "source": [
    "# replace 메소드\n",
    "# "
   ]
  },
  {
   "cell_type": "code",
   "execution_count": 61,
   "metadata": {},
   "outputs": [
    {
     "name": "stdout",
     "output_type": "stream",
     "text": [
      "['world', '', 'hello', 'python', '', 'world']\n"
     ]
    }
   ],
   "source": [
    "words =  ['world!', ':', '+hello+', '~python$$$', '=', 'world']\n",
    "for x in range(len(string.punctuation)):\n",
    "    for i in range(len(words)):\n",
    "        words[i] = words[i].replace(string.punctuation[x], '')\n",
    "print(words)\n",
    "#     "
   ]
  },
  {
   "cell_type": "code",
   "execution_count": 62,
   "metadata": {},
   "outputs": [
    {
     "name": "stdout",
     "output_type": "stream",
     "text": [
      "0\n"
     ]
    }
   ],
   "source": [
    "print(len(''))"
   ]
  },
  {
   "cell_type": "code",
   "execution_count": 65,
   "metadata": {},
   "outputs": [
    {
     "name": "stdout",
     "output_type": "stream",
     "text": [
      "['world', 'hello', 'python', 'world']\n"
     ]
    }
   ],
   "source": [
    "idx = len(words)\n",
    "for i in range(idx):\n",
    "    if len(words[i]) == 0:\n",
    "        del(words[i])\n",
    "print(words)"
   ]
  },
  {
   "cell_type": "code",
   "execution_count": 73,
   "metadata": {},
   "outputs": [
    {
     "name": "stdout",
     "output_type": "stream",
     "text": [
      "['컴퓨터공학부', '', '지향', '']\n",
      "4\n",
      "컴퓨터공학부\n",
      "\n",
      "\n"
     ]
    },
    {
     "ename": "IndexError",
     "evalue": "list index out of range",
     "output_type": "error",
     "traceback": [
      "\u001b[0;31m---------------------------------------------------------------------------\u001b[0m",
      "\u001b[0;31mIndexError\u001b[0m                                Traceback (most recent call last)",
      "\u001b[0;32m<ipython-input-73-383ec9b98bca>\u001b[0m in \u001b[0;36m<module>\u001b[0;34m()\u001b[0m\n\u001b[1;32m      7\u001b[0m \u001b[0mprint\u001b[0m\u001b[0;34m(\u001b[0m\u001b[0midx\u001b[0m\u001b[0;34m)\u001b[0m\u001b[0;34m\u001b[0m\u001b[0m\n\u001b[1;32m      8\u001b[0m \u001b[0;32mfor\u001b[0m \u001b[0mi\u001b[0m \u001b[0;32min\u001b[0m \u001b[0mrange\u001b[0m\u001b[0;34m(\u001b[0m\u001b[0midx\u001b[0m\u001b[0;34m)\u001b[0m\u001b[0;34m:\u001b[0m\u001b[0;34m\u001b[0m\u001b[0m\n\u001b[0;32m----> 9\u001b[0;31m     \u001b[0mprint\u001b[0m\u001b[0;34m(\u001b[0m\u001b[0mwords2\u001b[0m\u001b[0;34m[\u001b[0m\u001b[0mi\u001b[0m\u001b[0;34m]\u001b[0m\u001b[0;34m)\u001b[0m\u001b[0;34m\u001b[0m\u001b[0m\n\u001b[0m\u001b[1;32m     10\u001b[0m     \u001b[0;32mif\u001b[0m \u001b[0mlen\u001b[0m\u001b[0;34m(\u001b[0m\u001b[0mwords2\u001b[0m\u001b[0;34m[\u001b[0m\u001b[0mi\u001b[0m\u001b[0;34m]\u001b[0m\u001b[0;34m)\u001b[0m \u001b[0;34m==\u001b[0m \u001b[0;36m0\u001b[0m\u001b[0;34m:\u001b[0m\u001b[0;34m\u001b[0m\u001b[0m\n\u001b[1;32m     11\u001b[0m         \u001b[0;32mdel\u001b[0m\u001b[0;34m(\u001b[0m\u001b[0mwords2\u001b[0m\u001b[0;34m[\u001b[0m\u001b[0mi\u001b[0m\u001b[0;34m]\u001b[0m\u001b[0;34m)\u001b[0m\u001b[0;34m\u001b[0m\u001b[0m\n",
      "\u001b[0;31mIndexError\u001b[0m: list index out of range"
     ]
    }
   ],
   "source": [
    "words2 = ['컴퓨터공학부!', '---?', '%지향~', '...']\n",
    "for x in range(len(string.punctuation)):\n",
    "    for i in range(len(words2)):\n",
    "        words2[i] = words2[i].replace(string.punctuation[x], '')\n",
    "print(words2)\n",
    "\n",
    "print(idx)\n",
    "for i in range(idx):\n",
    "    print(words2[i])\n",
    "    if len(words2[i]) == 0:\n",
    "        del(words2[i])\n",
    "    idx = len(words2)\n",
    "print(words2)"
   ]
  },
  {
   "cell_type": "code",
   "execution_count": null,
   "metadata": {
    "collapsed": true
   },
   "outputs": [],
   "source": []
  }
 ],
 "metadata": {
  "kernelspec": {
   "display_name": "Python 3",
   "language": "python",
   "name": "python3"
  },
  "language_info": {
   "codemirror_mode": {
    "name": "ipython",
    "version": 3
   },
   "file_extension": ".py",
   "mimetype": "text/x-python",
   "name": "python",
   "nbconvert_exporter": "python",
   "pygments_lexer": "ipython3",
   "version": "3.6.1"
  }
 },
 "nbformat": 4,
 "nbformat_minor": 2
}
