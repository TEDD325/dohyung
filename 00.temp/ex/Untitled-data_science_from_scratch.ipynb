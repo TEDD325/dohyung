{
 "cells": [
  {
   "cell_type": "code",
   "execution_count": 7,
   "metadata": {
    "collapsed": true
   },
   "outputs": [],
   "source": [
    "users = [\n",
    "    {\"id\":0, \"name\":\"Hero\"},\n",
    "    {\"id\":1, \"name\":\"Dunn\"},\n",
    "    {\"id\":2, \"name\":\"Sue\"},\n",
    "    {\"id\":3, \"name\":\"Chi\"},\n",
    "    {\"id\":4, \"name\":\"Thor\"},\n",
    "    {\"id\":5, \"name\":\"Clive\"},\n",
    "    {\"id\":6, \"name\":\"Hicks\"},\n",
    "    {\"id\":7, \"name\":\"Devin\"},\n",
    "    {\"id\":8, \"name\":\"Kate\"},\n",
    "    {\"id\":9, \"name\":\"Klein\"}\n",
    "]"
   ]
  },
  {
   "cell_type": "code",
   "execution_count": 8,
   "metadata": {
    "collapsed": true
   },
   "outputs": [],
   "source": [
    "friendships = [(0,1),(0,2),(1,2),(1,3),(2,3),(3,4),(4,5),(5,6),(5,7),(6,8),(7,8),(8,9)]"
   ]
  },
  {
   "cell_type": "code",
   "execution_count": 9,
   "metadata": {},
   "outputs": [
    {
     "name": "stdout",
     "output_type": "stream",
     "text": [
      "<class 'list'>\n"
     ]
    }
   ],
   "source": [
    "print(type(users)) # class 'list'"
   ]
  },
  {
   "cell_type": "code",
   "execution_count": 10,
   "metadata": {},
   "outputs": [
    {
     "name": "stdout",
     "output_type": "stream",
     "text": [
      "<class 'dict'>\n",
      "<class 'dict'>\n",
      "<class 'dict'>\n",
      "<class 'dict'>\n",
      "<class 'dict'>\n",
      "<class 'dict'>\n",
      "<class 'dict'>\n",
      "<class 'dict'>\n",
      "<class 'dict'>\n",
      "<class 'dict'>\n"
     ]
    }
   ],
   "source": [
    "for user in users:\n",
    "    print(type(user)) # class 'dict'\n",
    "    user[\"friends\"] = [] # 모든 dictionary에 friends라는 key를 새로 추가하며, value는 []로 한다."
   ]
  },
  {
   "cell_type": "code",
   "execution_count": 11,
   "metadata": {},
   "outputs": [
    {
     "name": "stdout",
     "output_type": "stream",
     "text": [
      "<class 'dict'>\n"
     ]
    }
   ],
   "source": [
    "print(type((users[0])))"
   ]
  },
  {
   "cell_type": "code",
   "execution_count": 12,
   "metadata": {},
   "outputs": [
    {
     "data": {
      "text/plain": [
       "[]"
      ]
     },
     "execution_count": 12,
     "metadata": {},
     "output_type": "execute_result"
    }
   ],
   "source": [
    "users[0][\"friends\"]"
   ]
  },
  {
   "cell_type": "code",
   "execution_count": 13,
   "metadata": {
    "collapsed": true
   },
   "outputs": [],
   "source": [
    "for i, j in friendships: # friendships에 있는 원소 하나하나는 튜플이기 때문에 가능한 코딩\n",
    "    users[i][\"friends\"].append(users[j]) # dictionary를 value인 빈 리스트에 추가한다. 빈 리스트를 채운다.\n",
    "    # 이렇게 하는 이유는? 여러 명의 친구가 추가될 수도 있기 때문에 value를 리스트로 만들어서 추가하는 것이다.\n",
    "    users[j][\"friends\"].append(users[i])\n",
    "    # users는 list\n",
    "    # users[j]는 dictionary\n",
    "    # users[j][\"friends\"]는 빈 리스트 []"
   ]
  },
  {
   "cell_type": "code",
   "execution_count": 18,
   "metadata": {},
   "outputs": [
    {
     "name": "stdout",
     "output_type": "stream",
     "text": [
      "0, Hero  's number of friends:  2\n",
      "1, Dunn  's number of friends:  3\n",
      "2, Sue   's number of friends:  3\n",
      "3, Chi   's number of friends:  3\n",
      "4, Thor  's number of friends:  2\n",
      "5, Clive 's number of friends:  3\n",
      "6, Hicks 's number of friends:  2\n",
      "7, Devin 's number of friends:  2\n",
      "8, Kate  's number of friends:  3\n",
      "9, Klein 's number of friends:  1\n"
     ]
    }
   ],
   "source": [
    "def number_of_friends(user):\n",
    "    num = len(user[\"friends\"])\n",
    "    print(\"{:d}, {:6s}'s number of friends:{:3d}\".format(user[\"id\"],user[\"name\"], num))\n",
    "    return num\n",
    "total_connections = sum(number_of_friends(user) for user in users)"
   ]
  },
  {
   "cell_type": "code",
   "execution_count": 15,
   "metadata": {},
   "outputs": [
    {
     "data": {
      "text/plain": [
       "24"
      ]
     },
     "execution_count": 15,
     "metadata": {},
     "output_type": "execute_result"
    }
   ],
   "source": [
    "total_connections"
   ]
  },
  {
   "cell_type": "code",
   "execution_count": 16,
   "metadata": {},
   "outputs": [
    {
     "name": "stdout",
     "output_type": "stream",
     "text": [
      "2.4\n"
     ]
    }
   ],
   "source": [
    "#from __future__ import division\n",
    "avg_connections = total_connections / len(users)\n",
    "print(avg_connections)"
   ]
  },
  {
   "cell_type": "code",
   "execution_count": 17,
   "metadata": {},
   "outputs": [
    {
     "name": "stdout",
     "output_type": "stream",
     "text": [
      "0, Hero  's number of friends:  2\n",
      "1, Dunn  's number of friends:  3\n",
      "2, Sue   's number of friends:  3\n",
      "3, Chi   's number of friends:  3\n",
      "4, Thor  's number of friends:  2\n",
      "5, Clive 's number of friends:  3\n",
      "6, Hicks 's number of friends:  2\n",
      "7, Devin 's number of friends:  2\n",
      "8, Kate  's number of friends:  3\n",
      "9, Klein 's number of friends:  1\n"
     ]
    }
   ],
   "source": [
    "num_friends_by_id = [(user[\"id\"], number_of_friends(user)) for user in users]"
   ]
  },
  {
   "cell_type": "code",
   "execution_count": 23,
   "metadata": {},
   "outputs": [
    {
     "data": {
      "text/plain": [
       "[(1, 3),\n",
       " (2, 3),\n",
       " (3, 3),\n",
       " (5, 3),\n",
       " (8, 3),\n",
       " (0, 2),\n",
       " (4, 2),\n",
       " (6, 2),\n",
       " (7, 2),\n",
       " (9, 1)]"
      ]
     },
     "execution_count": 23,
     "metadata": {},
     "output_type": "execute_result"
    }
   ],
   "source": [
    "sorted(num_friends_by_id,\n",
    "       key=lambda pair: pair[1], # by number of friends\n",
    "       # key= lambda (user_id, num_friends): num_friends\n",
    "       reverse=True)"
   ]
  },
  {
   "cell_type": "code",
   "execution_count": 31,
   "metadata": {
    "collapsed": true
   },
   "outputs": [],
   "source": [
    "def friends_of_friend_ids_bad(user):\n",
    "    return [foaf[\"id\"] # dictionary2의 id를 리턴\n",
    "           for friend in user[\"friends\"]  # friend : dictionary1\n",
    "           for foaf in friend[\"friends\"]] # foaf : dictionary2"
   ]
  },
  {
   "cell_type": "code",
   "execution_count": 32,
   "metadata": {},
   "outputs": [
    {
     "data": {
      "text/plain": [
       "[0, 2, 3, 0, 1, 3]"
      ]
     },
     "execution_count": 32,
     "metadata": {},
     "output_type": "execute_result"
    }
   ],
   "source": [
    "friends_of_friend_ids_bad(users[0])"
   ]
  },
  {
   "cell_type": "code",
   "execution_count": 35,
   "metadata": {},
   "outputs": [
    {
     "name": "stdout",
     "output_type": "stream",
     "text": [
      "[1, 2]\n",
      "[0, 2, 3]\n",
      "[0, 1, 3]\n"
     ]
    }
   ],
   "source": [
    "print([friend[\"id\"] for friend in users[0][\"friends\"]])\n",
    "print([friend[\"id\"] for friend in users[1][\"friends\"]])\n",
    "print([friend[\"id\"] for friend in users[2][\"friends\"]])"
   ]
  },
  {
   "cell_type": "code",
   "execution_count": 47,
   "metadata": {},
   "outputs": [
    {
     "name": "stdout",
     "output_type": "stream",
     "text": [
      "[<generator object <genexpr> at 0x10ef73c50>]\n",
      "[<generator object <genexpr> at 0x10ef3cd00>]\n",
      "[<generator object <genexpr> at 0x10ef3cc50>]\n",
      "[<generator object <genexpr> at 0x10ef73c50>]\n",
      "[<generator object <genexpr> at 0x10ef3cd00>]\n",
      "[<generator object <genexpr> at 0x10ef3cc50>]\n",
      "[<generator object <genexpr> at 0x10ef73c50>]\n",
      "[<generator object <genexpr> at 0x10ef3cd00>]\n",
      "[<generator object <genexpr> at 0x10ef3cc50>]\n",
      "[<generator object <genexpr> at 0x10ef73c50>]\n",
      "[<generator object <genexpr> at 0x10ef3cd00>]\n",
      "[<generator object <genexpr> at 0x10ef3cc50>]\n",
      "[<generator object <genexpr> at 0x10ef73c50>]\n",
      "[<generator object <genexpr> at 0x10ef3cd00>]\n",
      "[<generator object <genexpr> at 0x10ef3cc50>]\n",
      "[<generator object <genexpr> at 0x10ef73c50>]\n",
      "[<generator object <genexpr> at 0x10ef3cd00>]\n",
      "[<generator object <genexpr> at 0x10ef3cc50>]\n",
      "[<generator object <genexpr> at 0x10ef73c50>]\n",
      "[<generator object <genexpr> at 0x10ef3cd00>]\n",
      "[<generator object <genexpr> at 0x10ee37af0>]\n",
      "[<generator object <genexpr> at 0x10ef3cf10>]\n",
      "[<generator object <genexpr> at 0x10ef3cd00>]\n",
      "[<generator object <genexpr> at 0x10ee37af0>]\n"
     ]
    }
   ],
   "source": [
    "cnt = 0\n",
    "for i, j in friendships:\n",
    "    a = [(user[\"id\"] for user in users[0][\"friends\"])]\n",
    "    b = [(user[\"id\"] for user in users[1][\"friends\"])]\n",
    "    print(a)\n",
    "    print(b)\n",
    "    for x in range(len(a)):\n",
    "        for y in range(len(b)):\n",
    "            if a[x] == b[y]:\n",
    "                cnt += 1"
   ]
  },
  {
   "cell_type": "code",
   "execution_count": 45,
   "metadata": {},
   "outputs": [
    {
     "data": {
      "text/plain": [
       "0"
      ]
     },
     "execution_count": 45,
     "metadata": {},
     "output_type": "execute_result"
    }
   ],
   "source": [
    "cnt"
   ]
  },
  {
   "cell_type": "code",
   "execution_count": 54,
   "metadata": {},
   "outputs": [
    {
     "name": "stdout",
     "output_type": "stream",
     "text": [
      "<generator object <genexpr> at 0x10ef3cc50>\n",
      "<generator object <genexpr> at 0x10ee37af0>\n"
     ]
    }
   ],
   "source": [
    "a = [(user[\"id\"] for user in users[0][\"friends\"])]\n",
    "b = [(user[\"id\"] for user in users[1][\"friends\"])]\n",
    "print(a)\n",
    "print(b)"
   ]
  },
  {
   "cell_type": "code",
   "execution_count": 62,
   "metadata": {},
   "outputs": [
    {
     "name": "stdout",
     "output_type": "stream",
     "text": [
      "<generator object <genexpr> at 0x10f067af0>\n"
     ]
    }
   ],
   "source": [
    "a = []\n",
    "# for user in users[0][\"friends\"]:\n",
    "#     a.append(user[\"id\"])\n",
    "#     print(a)\n",
    "a.append(user[\"id\"] for user in users[0][\"friends\"])\n",
    "for i in a:\n",
    "    print(i)\n",
    "# print(a)"
   ]
  },
  {
   "cell_type": "code",
   "execution_count": 68,
   "metadata": {},
   "outputs": [
    {
     "name": "stdout",
     "output_type": "stream",
     "text": [
      "[0]\n",
      "[0, 2]\n",
      "[0, 2, 3]\n"
     ]
    }
   ],
   "source": [
    "a = []\n",
    "for user in users[1][\"friends\"]:\n",
    "    a.append(user[\"id\"])\n",
    "    print(a)"
   ]
  },
  {
   "cell_type": "code",
   "execution_count": 65,
   "metadata": {},
   "outputs": [
    {
     "data": {
      "text/plain": [
       "[1, 2]"
      ]
     },
     "execution_count": 65,
     "metadata": {},
     "output_type": "execute_result"
    }
   ],
   "source": [
    "a"
   ]
  },
  {
   "cell_type": "code",
   "execution_count": 69,
   "metadata": {},
   "outputs": [
    {
     "name": "stdout",
     "output_type": "stream",
     "text": [
      "[0]\n",
      "[0, 1]\n",
      "[0, 1, 3]\n"
     ]
    }
   ],
   "source": [
    "b = []\n",
    "for user in users[2][\"friends\"]:\n",
    "    b.append(user[\"id\"])\n",
    "    print(b)"
   ]
  },
  {
   "cell_type": "code",
   "execution_count": 70,
   "metadata": {},
   "outputs": [
    {
     "name": "stdout",
     "output_type": "stream",
     "text": [
      "2\n"
     ]
    }
   ],
   "source": [
    "cnt = 0\n",
    "for i in a:\n",
    "    for j in b:\n",
    "        if i == j:\n",
    "            cnt += 1\n",
    "print(cnt)"
   ]
  },
  {
   "cell_type": "code",
   "execution_count": 80,
   "metadata": {},
   "outputs": [],
   "source": [
    "def mutual_friends(friendships):\n",
    "    a = []\n",
    "    b = []\n",
    "    cnt = 0\n",
    "    i, j = friendships\n",
    "\n",
    "    for user in users[i][\"friends\"]:\n",
    "        a.append(user[\"id\"])\n",
    "        print(a)\n",
    "\n",
    "    for user in users[j][\"friends\"]:\n",
    "        b.append(user[\"id\"])\n",
    "        print(b)\n",
    "\n",
    "    for x in a:\n",
    "        for y in b:\n",
    "            if x == y:\n",
    "                cnt += 1\n",
    "    print(cnt)\n",
    "    return cnt"
   ]
  },
  {
   "cell_type": "code",
   "execution_count": 90,
   "metadata": {},
   "outputs": [
    {
     "name": "stdout",
     "output_type": "stream",
     "text": [
      "friendship: (0, 1)\n",
      "[1]\n",
      "[1, 2]\n",
      "[0]\n",
      "[0, 2]\n",
      "[0, 2, 3]\n",
      "1\n",
      "\n",
      "friendship: (0, 2)\n",
      "[1]\n",
      "[1, 2]\n",
      "[0]\n",
      "[0, 1]\n",
      "[0, 1, 3]\n",
      "1\n",
      "\n",
      "friendship: (1, 2)\n",
      "[0]\n",
      "[0, 2]\n",
      "[0, 2, 3]\n",
      "[0]\n",
      "[0, 1]\n",
      "[0, 1, 3]\n",
      "2\n",
      "\n",
      "friendship: (1, 3)\n",
      "[0]\n",
      "[0, 2]\n",
      "[0, 2, 3]\n",
      "[1]\n",
      "[1, 2]\n",
      "[1, 2, 4]\n",
      "1\n",
      "\n",
      "friendship: (2, 3)\n",
      "[0]\n",
      "[0, 1]\n",
      "[0, 1, 3]\n",
      "[1]\n",
      "[1, 2]\n",
      "[1, 2, 4]\n",
      "1\n",
      "\n",
      "friendship: (3, 4)\n",
      "[1]\n",
      "[1, 2]\n",
      "[1, 2, 4]\n",
      "[3]\n",
      "[3, 5]\n",
      "0\n",
      "\n",
      "friendship: (4, 5)\n",
      "[3]\n",
      "[3, 5]\n",
      "[4]\n",
      "[4, 6]\n",
      "[4, 6, 7]\n",
      "0\n",
      "\n",
      "friendship: (5, 6)\n",
      "[4]\n",
      "[4, 6]\n",
      "[4, 6, 7]\n",
      "[5]\n",
      "[5, 8]\n",
      "0\n",
      "\n",
      "friendship: (5, 7)\n",
      "[4]\n",
      "[4, 6]\n",
      "[4, 6, 7]\n",
      "[5]\n",
      "[5, 8]\n",
      "0\n",
      "\n",
      "friendship: (6, 8)\n",
      "[5]\n",
      "[5, 8]\n",
      "[6]\n",
      "[6, 7]\n",
      "[6, 7, 9]\n",
      "0\n",
      "\n",
      "friendship: (7, 8)\n",
      "[5]\n",
      "[5, 8]\n",
      "[6]\n",
      "[6, 7]\n",
      "[6, 7, 9]\n",
      "0\n",
      "\n",
      "friendship: (8, 9)\n",
      "[6]\n",
      "[6, 7]\n",
      "[6, 7, 9]\n",
      "[8]\n",
      "0\n",
      "\n"
     ]
    }
   ],
   "source": [
    "for friendship in friendships:\n",
    "    print(\"friendship: {:}\".format(friendship))\n",
    "    i, j = friendship\n",
    "    mutual_friends(friendship)\n",
    "    print()"
   ]
  },
  {
   "cell_type": "code",
   "execution_count": 97,
   "metadata": {},
   "outputs": [
    {
     "name": "stdout",
     "output_type": "stream",
     "text": [
      "[1]\n",
      "[1, 2]\n",
      "[1, 2, 4]\n",
      "[4]\n",
      "[4, 6]\n",
      "[4, 6, 7]\n",
      "1\n",
      "\n"
     ]
    }
   ],
   "source": [
    "# print(\"friendship: {:}\".format(friendships[3]))\n",
    "i, j = (3,5) # Chi(id: 3)가 Clive(id: 5)와 함께 알고 있는 친구\n",
    "mutual_friends((i, j))\n",
    "print()"
   ]
  },
  {
   "cell_type": "code",
   "execution_count": 98,
   "metadata": {
    "collapsed": true
   },
   "outputs": [],
   "source": [
    "from collections import Counter\n",
    "def not_the_same(user, other_user): # user, other_user 모두 dictionary\n",
    "    return user[\"id\"] != other_user[\"id\"] # 다르면 True를 리턴\n",
    "def not_friends(user, other_user): # user, other_user 모두 dictionary\n",
    "    ''' 만약 other_user가 user[\"friends\"]에 포함되지 않으면\n",
    "    other_user는 user의 친구가 아닌 것으로 간주한다.\n",
    "    이를 위해 not_the_same 메소드를 이용한다.\n",
    "    '''\n",
    "    return all(not_the_same(friend, other_user) for friend in user[\"friends\"])\n",
    "    # all(..) 내부의 ..이 tuple인지 확인이 필요\n",
    "    # 이 때 friend는 dictionary"
   ]
  },
  {
   "cell_type": "code",
   "execution_count": null,
   "metadata": {
    "collapsed": true
   },
   "outputs": [],
   "source": [
    "def friends_of_friend_idx(user):\n",
    "    return Counter(foaf[\"id\"]\n",
    "                  for friend in user[\"friends\"]\n",
    "                  for foaf in friend[\"friends\"]\n",
    "                  )"
   ]
  }
 ],
 "metadata": {
  "kernelspec": {
   "display_name": "Python 3",
   "language": "python",
   "name": "python3"
  },
  "language_info": {
   "codemirror_mode": {
    "name": "ipython",
    "version": 3
   },
   "file_extension": ".py",
   "mimetype": "text/x-python",
   "name": "python",
   "nbconvert_exporter": "python",
   "pygments_lexer": "ipython3",
   "version": "3.6.1"
  }
 },
 "nbformat": 4,
 "nbformat_minor": 2
}
