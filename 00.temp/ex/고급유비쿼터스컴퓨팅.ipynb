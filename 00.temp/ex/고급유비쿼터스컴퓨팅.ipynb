{
 "cells": [
  {
   "cell_type": "code",
   "execution_count": 1,
   "metadata": {
    "collapsed": true
   },
   "outputs": [],
   "source": [
    "class Operation:\n",
    "    def __init__(self, input_nodes = []):\n",
    "        self.input_nodes = input_nodes\n",
    "        self.consumers = []\n",
    "        for input_node in input_nodes:\n",
    "            input_node.consumers.append(self)\n",
    "        _default_graph.operations.append(self) # matmul을 예로 들자면, matmul이 operations 리스트에 추가되는 것. super()때문에 가능\n",
    "    def compute(self):\n",
    "        pass"
   ]
  },
  {
   "cell_type": "code",
   "execution_count": 2,
   "metadata": {
    "collapsed": true
   },
   "outputs": [],
   "source": [
    "class add(Operation):\n",
    "    def __init__(self, x, y):\n",
    "        super().__init__([x,y])\n",
    "    def compute(self, x_value, y_value):\n",
    "        self.inputs = [x_value, y_value]\n",
    "        return x_value + y_value"
   ]
  },
  {
   "cell_type": "code",
   "execution_count": 3,
   "metadata": {
    "collapsed": true
   },
   "outputs": [],
   "source": [
    "class matmul(Operation):\n",
    "    def __init__(self, a, b):\n",
    "        super().__init__([a,b])\n",
    "    def compute(self, a_value, b_value):\n",
    "        self.input = [a_value, b_value]\n",
    "        return a_value.dot(b_value)"
   ]
  },
  {
   "cell_type": "code",
   "execution_count": 8,
   "metadata": {
    "collapsed": true
   },
   "outputs": [],
   "source": [
    "class placeholder:\n",
    "    def __init__(self):\n",
    "        self.consumers = []\n",
    "        _default_graph.placeholders.append(self)"
   ]
  },
  {
   "cell_type": "code",
   "execution_count": 10,
   "metadata": {
    "collapsed": true
   },
   "outputs": [],
   "source": [
    "class Variable:\n",
    "    def __init__(self, initial_value = None):\n",
    "        self.value = initial_value\n",
    "        self.consumers = []\n",
    "        _default_graph.variables.append(self)"
   ]
  },
  {
   "cell_type": "code",
   "execution_count": 6,
   "metadata": {
    "collapsed": true
   },
   "outputs": [],
   "source": [
    "class Graph:\n",
    "    def __init__(self):\n",
    "        self.operations = [] # 순서대로 matmul, add\n",
    "        self.placeholders = [] # [1,2]\n",
    "        self.variables = [] # 순서대로 [[1,0],[0,-1]], [1,1]\n",
    "        \n",
    "    def as_default(self):\n",
    "        global _default_graph\n",
    "        _default_graph = self"
   ]
  },
  {
   "cell_type": "code",
   "execution_count": 11,
   "metadata": {},
   "outputs": [],
   "source": [
    "Graph().as_default() # 파이썬 전체에 Graph가 적용되어, class 바깥에서 변수를 만들어준 것과 같은 효과가 난다. 인상적.\n",
    "\n",
    "A = Variable([[1,0],[0,-1]])\n",
    "b = Variable([1,1])\n",
    "\n",
    "x = placeholder()\n",
    "\n",
    "y = matmul(A, x) # matmul이 먼저 operation으로 추가 된 다음\n",
    "\n",
    "z = add(y, b) # add가 matmul 다음으로 operation에 추가된다."
   ]
  },
  {
   "cell_type": "code",
   "execution_count": 18,
   "metadata": {
    "collapsed": true
   },
   "outputs": [],
   "source": [
    "import numpy as np\n",
    "\n",
    "class Session:\n",
    "    def run(self, operation, feed_dict = {}):\n",
    "        nodes_postorder = traverse_postorder(operation)\n",
    "        \n",
    "        for node in nodes_postorder:\n",
    "            \n",
    "            if type(node) == placeholder:\n",
    "                node.output = feed_dict[node]\n",
    "            elif type(node) == Variable:\n",
    "                node.output = node.value\n",
    "            else:\n",
    "                node.inputs = [input_node.output for input_node in node.input_nodes]\n",
    "                \n",
    "                node.output = node.compute(*node.inputs)\n",
    "            if type(node.output) == list:\n",
    "                node.output = np.array(node.output)\n",
    "                \n",
    "        return operation.output\n",
    "    \n",
    "def traverse_postorder(operation):\n",
    "    nodes_postorder = []\n",
    "    def recurse(node):\n",
    "        if isinstance(node, Operation): # matmul, add는 모두 Operation 클래스를 상속받는다.\n",
    "            # 반면 Variable이나 placeholder는 아무것도 상속받지 않는다. Operation클래스의 인스턴스 일리가 없다.\n",
    "            for input_node in node.input_nodes:\n",
    "                recurse(input_node) # add -> y(matmul) -> A(Variable) -> x(placeholder) -> b(Variable)\n",
    "                # z -> b -> y -> x -> A\n",
    "                \n",
    "        nodes_postorder.append(node) # 따라서, Variable 또는 placeholder값은 node_postorder리스트에 추가된다.\n",
    "        # A -> x -> y -> b -> z\n",
    "        \n",
    "            \n",
    "            \n",
    "    recurse(operation)\n",
    "    return nodes_postorder"
   ]
  },
  {
   "cell_type": "code",
   "execution_count": 20,
   "metadata": {},
   "outputs": [
    {
     "name": "stdout",
     "output_type": "stream",
     "text": [
      "[ 2 -1]\n"
     ]
    }
   ],
   "source": [
    "session = Session()\n",
    "output = session.run(z, {\n",
    "    x:[1,2]\n",
    "})\n",
    "print(output)"
   ]
  },
  {
   "cell_type": "code",
   "execution_count": null,
   "metadata": {
    "collapsed": true
   },
   "outputs": [],
   "source": []
  }
 ],
 "metadata": {
  "kernelspec": {
   "display_name": "Python 3",
   "language": "python",
   "name": "python3"
  },
  "language_info": {
   "codemirror_mode": {
    "name": "ipython",
    "version": 3
   },
   "file_extension": ".py",
   "mimetype": "text/x-python",
   "name": "python",
   "nbconvert_exporter": "python",
   "pygments_lexer": "ipython3",
   "version": "3.6.1"
  }
 },
 "nbformat": 4,
 "nbformat_minor": 2
}
