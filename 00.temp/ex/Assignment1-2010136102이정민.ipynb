{
 "cells": [
  {
   "cell_type": "markdown",
   "metadata": {},
   "source": [
    "# **Assignment1**"
   ]
  },
  {
   "cell_type": "markdown",
   "metadata": {},
   "source": [
    " ##### * 과목     : 스크립트 프로그래밍\n",
    " ##### * 담당 교수 : 한연희 교수님\n",
    " ##### * 학번     : 2010136102\n",
    " ##### * 이름     : 이정민"
   ]
  },
  {
   "cell_type": "markdown",
   "metadata": {},
   "source": [
    "* a=\"Hello Python\" 문자열을 Slicing과 연결 연산자 (+)를 사용하여 \"Python Hello\"로 변경하시오.\n",
    "   * [주의] a 변수 자체에 \"Python Hello\" 문자열이 저장되어야 함 "
   ]
  },
  {
   "cell_type": "code",
   "execution_count": 7,
   "metadata": {},
   "outputs": [
    {
     "name": "stdout",
     "output_type": "stream",
     "text": [
      "Python Hello\n"
     ]
    }
   ],
   "source": [
    "a = \"Hello Python\"\n",
    "a = a[6:] + ' ' + a[:5]\n",
    "print(a)"
   ]
  },
  {
   "cell_type": "markdown",
   "metadata": {},
   "source": [
    "######\"Hello Python\" 문자열을 앞부분과 뒷부분을 슬라이싱 하고 가운데 ' '을 이용해 공백을 넣어준 후 다시 a 변수에 문자열을 할당해 주었다."
   ]
  },
  {
   "cell_type": "markdown",
   "metadata": {},
   "source": [
    "* b=\"Hello Python World\" 문자열을 Slicing과 연결 연산자 (+)를 사용하여 \"World Python Hello\"로 변경하시오.\n",
    "    * [주의] b 변수 자체에 \"Python Hello\" 문자열이 저장되어야 함"
   ]
  },
  {
   "cell_type": "code",
   "execution_count": 8,
   "metadata": {},
   "outputs": [
    {
     "name": "stdout",
     "output_type": "stream",
     "text": [
      "World Python Hello\n"
     ]
    }
   ],
   "source": [
    "b = \"Hello Python World\"\n",
    "b = b[13:] + ' ' + b[6:13] + b[:5]\n",
    "print(b)"
   ]
  },
  {
   "cell_type": "markdown",
   "metadata": {},
   "source": [
    "######*마찬가지로 \"Hello Python World\" 문자열을 'World', 'Python ', 'Hello' 로 슬라이싱한 후 b 변수에 할당해 주었다.*"
   ]
  },
  {
   "cell_type": "markdown",
   "metadata": {},
   "source": [
    "* c=\"Hello\"를 \"olleH\"로 변경하시오\n",
    "    * [주의] c 변수 자체에 \"olleH\" 문자열이 저장되어야 함"
   ]
  },
  {
   "cell_type": "code",
   "execution_count": 9,
   "metadata": {},
   "outputs": [
    {
     "name": "stdout",
     "output_type": "stream",
     "text": [
      "olleH\n"
     ]
    }
   ],
   "source": [
    "c = \"Hello\"\n",
    "c = c[::-1]\n",
    "print(c)"
   ]
  },
  {
   "cell_type": "markdown",
   "metadata": {},
   "source": [
    "######*c에 저장된 문자열 'Hello'를 역으로 슬라이싱을 해 저장해 주었다.*"
   ]
  },
  {
   "cell_type": "markdown",
   "metadata": {},
   "source": [
    "* s=\"python\"에 대해 다음 문제를 풀어보시오.\n",
    "    1. s[0], s[0][0], s[0][0][0]은 각각 어떤 값이 나오는지 확인하고 그 이유를 나름대로 설명해 보시오.\n",
    "    2. s[-100], s[100]은 값이 나오는지 에러가 나오는지 확인하고 그 결과에 대한 이유를 나름대로 설명해 보시오.\n",
    "    3. s[-100, 100]은 값이 나오는지 에러가 나오는지 확인하고 그 결과에 대한 이유를 나름대로 설명해 보시오.\n",
    "    4. s[1:-1]의 결과를 확인하고 그 결과에 대한 이유를 정확하게 설명하시오.\n",
    "    5. s[3:-3]의 결과를 확인하고 그 결과에 대한 이유를 정확하게 설명하시오."
   ]
  },
  {
   "cell_type": "code",
   "execution_count": 10,
   "metadata": {},
   "outputs": [
    {
     "name": "stdout",
     "output_type": "stream",
     "text": [
      "p p p\n"
     ]
    }
   ],
   "source": [
    "s = \"python\"\n",
    "print(s[0], s[0][0], s[0][0][0])"
   ]
  },
  {
   "cell_type": "markdown",
   "metadata": {},
   "source": [
    "######*s[0]은 문자열을 인덱스값을 이용해 선택하는 구문이므로 'python'의 첫 번째 문자인 'p'가 출력된다.*\n",
    "######*s[0][0] 은 s[0]의 문자열 중에서 첫 번째 인덱스를 가르키므로 'p'문자열 중에서 첫번째 인덱스인 'p'가 출력된다.*\n",
    "######*마찬가지로 s[0][0][0] 은 s[0][0]의 문자열 중에서 첫 번째 인덱스를 가르키므로 'p'문자열 중에서 첫번째 인덱스인 'p'가 출력된다.*"
   ]
  },
  {
   "cell_type": "code",
   "execution_count": 11,
   "metadata": {},
   "outputs": [
    {
     "ename": "IndexError",
     "evalue": "string index out of range",
     "output_type": "error",
     "traceback": [
      "\u001b[0;31m---------------------------------------------------------------------------\u001b[0m",
      "\u001b[0;31mIndexError\u001b[0m                                Traceback (most recent call last)",
      "\u001b[0;32m<ipython-input-11-bfed93e71b51>\u001b[0m in \u001b[0;36m<module>\u001b[0;34m()\u001b[0m\n\u001b[0;32m----> 1\u001b[0;31m \u001b[0mprint\u001b[0m\u001b[0;34m(\u001b[0m\u001b[0ms\u001b[0m\u001b[0;34m[\u001b[0m\u001b[0;34m-\u001b[0m\u001b[0;36m100\u001b[0m\u001b[0;34m]\u001b[0m\u001b[0;34m)\u001b[0m\u001b[0;34m\u001b[0m\u001b[0m\n\u001b[0m\u001b[1;32m      2\u001b[0m \u001b[0mprint\u001b[0m\u001b[0;34m(\u001b[0m\u001b[0ms\u001b[0m\u001b[0;34m[\u001b[0m\u001b[0;36m100\u001b[0m\u001b[0;34m]\u001b[0m\u001b[0;34m)\u001b[0m\u001b[0;34m\u001b[0m\u001b[0m\n",
      "\u001b[0;31mIndexError\u001b[0m: string index out of range"
     ]
    }
   ],
   "source": [
    "print(s[-100])\n",
    "print(s[100])"
   ]
  },
  {
   "cell_type": "markdown",
   "metadata": {},
   "source": [
    "######* s는 현재 문자열 'python'을 저장하고 있지만 index는 0에서 부터 5까지이기 때문에 s[-100]과s[100]은 index범위가 벗어나므로 에러가 출력된다.*"
   ]
  },
  {
   "cell_type": "code",
   "execution_count": 12,
   "metadata": {},
   "outputs": [
    {
     "ename": "TypeError",
     "evalue": "string indices must be integers",
     "output_type": "error",
     "traceback": [
      "\u001b[0;31m---------------------------------------------------------------------------\u001b[0m",
      "\u001b[0;31mTypeError\u001b[0m                                 Traceback (most recent call last)",
      "\u001b[0;32m<ipython-input-12-94fcf2185f87>\u001b[0m in \u001b[0;36m<module>\u001b[0;34m()\u001b[0m\n\u001b[0;32m----> 1\u001b[0;31m \u001b[0mprint\u001b[0m\u001b[0;34m(\u001b[0m\u001b[0ms\u001b[0m\u001b[0;34m[\u001b[0m\u001b[0;34m-\u001b[0m\u001b[0;36m100\u001b[0m\u001b[0;34m,\u001b[0m \u001b[0;36m100\u001b[0m\u001b[0;34m]\u001b[0m\u001b[0;34m)\u001b[0m\u001b[0;34m\u001b[0m\u001b[0m\n\u001b[0m",
      "\u001b[0;31mTypeError\u001b[0m: string indices must be integers"
     ]
    }
   ],
   "source": [
    "print(s[-100, 100])"
   ]
  },
  {
   "cell_type": "markdown",
   "metadata": {},
   "source": [
    "######*현재 s[-100,100]은 index 값으로 \"-100,100\"이라는 값을 쓰고 있는데 에러 메세지를 보면 이 값은 튜플로 인식이 된다. 문자열의 index값은 정수형으로 작성하여야 하기 때문에 에러가 난다.*"
   ]
  },
  {
   "cell_type": "code",
   "execution_count": 13,
   "metadata": {},
   "outputs": [
    {
     "name": "stdout",
     "output_type": "stream",
     "text": [
      "ytho\n"
     ]
    }
   ],
   "source": [
    "print(s[1:-1])"
   ]
  },
  {
   "cell_type": "markdown",
   "metadata": {},
   "source": [
    "######* s[1:-1] 은 시작 index 가 1 부터 종료 index -1까지 슬라이싱을 하라는 구문이다. *\n",
    "######* s = \"python\"에서 문자열의 index 값을 음수로 인식하면 -5 부터 0까지 이므로  *\n",
    "######* s = [1:-1] 은 index 1 에 해당하는 y 부터 index -1에 해당하는 o까지 슬라이싱을 하게 된다. *"
   ]
  },
  {
   "cell_type": "code",
   "execution_count": 14,
   "metadata": {},
   "outputs": [
    {
     "name": "stdout",
     "output_type": "stream",
     "text": [
      "\n"
     ]
    }
   ],
   "source": [
    "print(s[3:-3])"
   ]
  },
  {
   "cell_type": "markdown",
   "metadata": {},
   "source": [
    "######* index 3부터 -3까지 슬라이싱을 하라는 구문이다. *\n",
    "######* index 3에 해당하는 문자는 'h'이며, index -3에 해당하는 문자는 't'이다.*\n",
    "######* 'h'문자와 't'문자 사이의 간격은 -1 차이이므로 Step이 기본적으로 1로 설정되어 있기 때문에 슬라이싱을 하지 않는다.*"
   ]
  },
  {
   "cell_type": "markdown",
   "metadata": {},
   "source": [
    "* for문을 활용하여 1부터 100사이의 홀수를 출력하시오."
   ]
  },
  {
   "cell_type": "code",
   "execution_count": 15,
   "metadata": {},
   "outputs": [
    {
     "name": "stdout",
     "output_type": "stream",
     "text": [
      "1\n",
      "3\n",
      "5\n",
      "7\n",
      "9\n",
      "11\n",
      "13\n",
      "15\n",
      "17\n",
      "19\n",
      "21\n",
      "23\n",
      "25\n",
      "27\n",
      "29\n",
      "31\n",
      "33\n",
      "35\n",
      "37\n",
      "39\n",
      "41\n",
      "43\n",
      "45\n",
      "47\n",
      "49\n",
      "51\n",
      "53\n",
      "55\n",
      "57\n",
      "59\n",
      "61\n",
      "63\n",
      "65\n",
      "67\n",
      "69\n",
      "71\n",
      "73\n",
      "75\n",
      "77\n",
      "79\n",
      "81\n",
      "83\n",
      "85\n",
      "87\n",
      "89\n",
      "91\n",
      "93\n",
      "95\n",
      "97\n",
      "99\n"
     ]
    }
   ],
   "source": [
    "for x in range(1, 100, 2):\n",
    "    print(x),"
   ]
  },
  {
   "cell_type": "markdown",
   "metadata": {},
   "source": [
    "######* for문의 컨테이너로 range함수를 사용했다. range 함수에는 Step을 2만큼 주어 1부터 홀수값만을 리스트로 가져오게 한 후 출력한다.*"
   ]
  },
  {
   "cell_type": "markdown",
   "metadata": {},
   "source": [
    "* while문을 활용하여 1부터 100사이의 짝수의 합을 계산하여 출력하시오."
   ]
  },
  {
   "cell_type": "code",
   "execution_count": 16,
   "metadata": {},
   "outputs": [
    {
     "name": "stdout",
     "output_type": "stream",
     "text": [
      "2450\n"
     ]
    }
   ],
   "source": [
    "sum = 0\n",
    "i = 2\n",
    "while i < 100:\n",
    "    sum += i\n",
    "    i += 2\n",
    "print(sum)"
   ]
  },
  {
   "cell_type": "markdown",
   "metadata": {},
   "source": [
    "######* sum이라는 변수를 만들어 while loop내에서 짝수 값들을 더 한 후 while loop 외부에서 출력문을 이용해 출력한다.*"
   ]
  },
  {
   "cell_type": "markdown",
   "metadata": {},
   "source": [
    "* 사용자로 부터 임의의 정수를 입력받고, 해당 숫자를 역순으로 출력하는 프로그램을 작성하시오.\n",
    "\n",
    "    * [실행 예]\n",
    "\n",
    "      * 정수를 입력하세요: 3125\n",
    "      * 숫자 역순은 5213 입니다."
   ]
  },
  {
   "cell_type": "code",
   "execution_count": 19,
   "metadata": {},
   "outputs": [
    {
     "name": "stdout",
     "output_type": "stream",
     "text": [
      "정수를 입력하세요:1234\n",
      "입력한 정수의 역순은: 4321\n"
     ]
    }
   ],
   "source": [
    "i = input('정수를 입력하세요:')\n",
    "i = str(i)\n",
    "i = i[::-1]\n",
    "i = int(i)\n",
    "print('입력한 정수의 역순은:', i)"
   ]
  },
  {
   "cell_type": "markdown",
   "metadata": {},
   "source": [
    "######* input 함수를 통해 정수를 입력받은 후 내장함수 str을 이용해 문자열로 변환 후 문자열을 역 슬라이싱을 한다. *\n",
    "######* 그 후 다시 문자열을 내장함수 int를 이용해 정수형으로 바꾼 후 출력해 주었다.*"
   ]
  },
  {
   "cell_type": "markdown",
   "metadata": {},
   "source": [
    "* 사용자로 부터 정수를 입력받아서 1부터 그 사이에 존재하는 소수 (Prime number)를 출력하는 파이썬 프로그램을 작성하시오."
   ]
  },
  {
   "cell_type": "code",
   "execution_count": 22,
   "metadata": {},
   "outputs": [
    {
     "name": "stdout",
     "output_type": "stream",
     "text": [
      "정수를 입력하세요 :100\n",
      "2\n",
      "3\n",
      "5\n",
      "7\n",
      "11\n",
      "13\n",
      "17\n",
      "19\n",
      "23\n",
      "29\n",
      "31\n",
      "37\n",
      "41\n",
      "43\n",
      "47\n",
      "53\n",
      "59\n",
      "61\n",
      "67\n",
      "71\n",
      "73\n",
      "79\n",
      "83\n",
      "89\n",
      "97\n"
     ]
    }
   ],
   "source": [
    "i = eval(input('정수를 입력하세요 :'))\n",
    "\n",
    "for x in range(2, i):\n",
    "    if x is 2:\n",
    "        print(x),\n",
    "\n",
    "    elif x > 2:\n",
    "        for y in range (2, x):\n",
    "            if ( x%y is 0 ):\n",
    "                break\n",
    "        else:\n",
    "            print(x),"
   ]
  },
  {
   "cell_type": "markdown",
   "metadata": {},
   "source": [
    "######* i변수에 정수를 입력받은 후 1부터 입력받은 값 사이에 존재하는 소수를 판별하기 위해 반복문 for를 range (2, i)까지 돌린다.*\n",
    "######* 2는 소수 이므로 바로 출력을 해주고, 2보다 큰 수에 대해서는 2 부터 해당 값 전까지의 값들을 이용해 모드 연산을 수행한다.*\n",
    "######* 모드연산을 통해 나머지가 0인 값이 있으면 소수가 아니므로 break를 이용해 반복문을 종료한다.*\n",
    "######* 만약 나머지가 0인 값이 없으면 1과 자기 자신만을 인수로 가지는 소수이므로 else:를 이용해 반복문의 마지막에 print를 수행해준다.*"
   ]
  },
  {
   "cell_type": "markdown",
   "metadata": {},
   "source": [
    "### 느낀점\n",
    "#### 이번과제를 하면서 복습이 많이 부족했다고 생각했다. 주어진 과제를 수행하는것으로도 충분히 힘들었던 상황이라 ICPC 문제는 풀지 못하고 끝나게 되었다.이번에 풀지 못했지만 과제 제출기한은 지났어도 나의 공부를 위해서는 따로라도 꼭 풀어야하겠다. 다음과제를 위해서 그리고 앞으로의 수업을 위해서도 조금 더 충실히 수행해야 하겠다. "
   ]
  }
 ],
 "metadata": {
  "kernelspec": {
   "display_name": "Python 3",
   "language": "python",
   "name": "python3"
  },
  "language_info": {
   "codemirror_mode": {
    "name": "ipython",
    "version": 3
   },
   "file_extension": ".py",
   "mimetype": "text/x-python",
   "name": "python",
   "nbconvert_exporter": "python",
   "pygments_lexer": "ipython3",
   "version": "3.6.1"
  }
 },
 "nbformat": 4,
 "nbformat_minor": 1
}
