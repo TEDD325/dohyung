{
 "cells": [
  {
   "cell_type": "markdown",
   "metadata": {},
   "source": [
    "# 문제 1번"
   ]
  },
  {
   "cell_type": "markdown",
   "metadata": {},
   "source": [
    "문제 1 번. (지정된 문자의 빈도수) 어떤 문자열에서 지정된 문자의 빈도수\n",
    "를 찾는 함수를 작성하시오. 함수 헤더는 다음과 같다.\n",
    "def count(s, ch):\n",
    "str 클래스는 count 메소드를 이미 가지고 있다. str 클래스의 count 메소\n",
    "드를 사용하지 않고 자신만의 메소드를 구현하여 사용하시오. 예를 들어, count(“Welcome”,‘e’)는2를 반환한다. 사용자로부터 하나의 문자열과 하 나의 문자를 입력받고 그 문자열 내에 입력된 문자의 빈도수를 출력하는 테 스트 프로그램을 작성하시오."
   ]
  },
  {
   "cell_type": "code",
   "execution_count": 1,
   "metadata": {
    "collapsed": true
   },
   "outputs": [],
   "source": [
    "def count(s, ch):\n",
    "    pass"
   ]
  },
  {
   "cell_type": "code",
   "execution_count": 3,
   "metadata": {},
   "outputs": [
    {
     "data": {
      "text/plain": [
       "2"
      ]
     },
     "execution_count": 3,
     "metadata": {},
     "output_type": "execute_result"
    }
   ],
   "source": [
    "str.count(\"Welcome\",'e')"
   ]
  },
  {
   "cell_type": "code",
   "execution_count": 5,
   "metadata": {},
   "outputs": [
    {
     "name": "stdout",
     "output_type": "stream",
     "text": [
      "2\n"
     ]
    }
   ],
   "source": [
    "test_string=\"Welcome\"\n",
    "count = 0\n",
    "for one_string in test_string:\n",
    "#     print(one_string)\n",
    "    if one_string == 'e':\n",
    "        count += 1\n",
    "print(count)"
   ]
  },
  {
   "cell_type": "code",
   "execution_count": 8,
   "metadata": {},
   "outputs": [
    {
     "data": {
      "text/plain": [
       "2"
      ]
     },
     "execution_count": 8,
     "metadata": {},
     "output_type": "execute_result"
    }
   ],
   "source": [
    "def count(s, ch):\n",
    "    cnt = 0\n",
    "    for one_string in s:\n",
    "        if one_string == ch:\n",
    "            cnt += 1\n",
    "    return cnt\n",
    "count(\"Welcome\", 'e')"
   ]
  },
  {
   "cell_type": "markdown",
   "metadata": {},
   "source": [
    "# 문제 2번"
   ]
  },
  {
   "cell_type": "markdown",
   "metadata": {},
   "source": [
    "문제2번.(최장 공통 접두어) 두 문자열의 최장 공통 접두어를 반환하는 메소드를 작성하시오. 예를 들어, distance 와 disinfection 의 최장 공통\n",
    "접두어는 dis 이다. 이 메소드의 헤더는 다음과 같다.\n",
    "def prefix(s1, s2):\n",
    "두 문자열에 공통 접두어가 없다면, 빈 문자열을 반환한다.\n",
    "사용자로부터 두 문자열을 입력받고 이들의 최장 공통 접두어를 출력하는 main메소드를 작성하시오."
   ]
  },
  {
   "cell_type": "code",
   "execution_count": 10,
   "metadata": {
    "collapsed": true
   },
   "outputs": [],
   "source": [
    "def prefix(s1, s2): \n",
    "    pass"
   ]
  },
  {
   "cell_type": "code",
   "execution_count": 11,
   "metadata": {},
   "outputs": [
    {
     "name": "stdout",
     "output_type": "stream",
     "text": [
      "첫 번째 문자열을 입력하세요: distance\n",
      "두 번째 문자열을 입력하세요: disinfection\n"
     ]
    }
   ],
   "source": [
    "str1 = input(\"첫 번째 문자열을 입력하세요: \")\n",
    "str2 = input(\"두 번째 문자열을 입력하세요: \")"
   ]
  },
  {
   "cell_type": "code",
   "execution_count": 12,
   "metadata": {
    "collapsed": true
   },
   "outputs": [],
   "source": [
    "def prefix(s1, s2): \n",
    "    result_string = ''\n",
    "    if s1[:] == s2[:]\n",
    "    return result_string"
   ]
  },
  {
   "cell_type": "code",
   "execution_count": 16,
   "metadata": {},
   "outputs": [
    {
     "name": "stdout",
     "output_type": "stream",
     "text": [
      "['d', 'di', 'dis', 'dist', 'dista', 'distan', 'distanc', 'distance']\n"
     ]
    }
   ],
   "source": [
    "str1_ = []\n",
    "for i in range(len(str1)):\n",
    "    str1_.append(str1[:i+1])\n",
    "#     print(str1[:i+1])\n",
    "print(str1_)"
   ]
  },
  {
   "cell_type": "code",
   "execution_count": 17,
   "metadata": {},
   "outputs": [
    {
     "name": "stdout",
     "output_type": "stream",
     "text": [
      "['d', 'di', 'dis', 'disi', 'disin', 'disinf', 'disinfe', 'disinfec', 'disinfect', 'disinfecti', 'disinfectio', 'disinfection']\n"
     ]
    }
   ],
   "source": [
    "str2_ = []\n",
    "for i in range(len(str2)):\n",
    "    str2_.append(str2[:i+1])\n",
    "#     print(str1[:i+1])\n",
    "print(str2_)"
   ]
  },
  {
   "cell_type": "code",
   "execution_count": 19,
   "metadata": {},
   "outputs": [
    {
     "name": "stdout",
     "output_type": "stream",
     "text": [
      "dis\n",
      "dis\n"
     ]
    }
   ],
   "source": [
    "for i in range(len(str1_)-1,1,-1):\n",
    "    if str1_[i] == str2_[i]:\n",
    "        print(str1_[i])\n",
    "        print(str2_[i])"
   ]
  },
  {
   "cell_type": "code",
   "execution_count": null,
   "metadata": {
    "collapsed": true
   },
   "outputs": [],
   "source": [
    "str1 = input(\"첫 번째 문자열을 입력하세요: \")\n",
    "str2 = input(\"두 번째 문자열을 입력하세요: \")"
   ]
  },
  {
   "cell_type": "code",
   "execution_count": 47,
   "metadata": {
    "collapsed": true
   },
   "outputs": [],
   "source": [
    "def prefix(s1, s2): \n",
    "    result_string = ''\n",
    "    \n",
    "    str1_ = []\n",
    "    for i in range(len(s1)):\n",
    "        str1_.append(s1[:i+1])\n",
    "    str1_.append('')\n",
    "    print(str1_)\n",
    "    print()\n",
    "        \n",
    "    str2_ = []\n",
    "    for i in range(len(s2)):\n",
    "        str2_.append(s2[:i+1])\n",
    "    str2_.append('')\n",
    "    print(str2_)\n",
    "    print()\n",
    "        \n",
    "    for i in range(len(str1_)-1,0,-1):\n",
    "        if str1_[i] == str2_[i]:\n",
    "            print(str1_[i])\n",
    "            print(str2_[i])\n",
    "            result_string = str1_[i]\n",
    "            break\n",
    "        print()\n",
    "    \n",
    "    return result_string"
   ]
  },
  {
   "cell_type": "code",
   "execution_count": 50,
   "metadata": {},
   "outputs": [
    {
     "name": "stdout",
     "output_type": "stream",
     "text": [
      "첫 번째 문자열을 입력하세요: 나는 정말로 이런 것들이 가능하다고 생각합니다.\n",
      "두 번째 문자열을 입력하세요: 나는 정말로 이런 것들이 가능하지 않다고 생각합니다.\n",
      "['나', '나는', '나는 ', '나는 정', '나는 정말', '나는 정말로', '나는 정말로 ', '나는 정말로 이', '나는 정말로 이런', '나는 정말로 이런 ', '나는 정말로 이런 것', '나는 정말로 이런 것들', '나는 정말로 이런 것들이', '나는 정말로 이런 것들이 ', '나는 정말로 이런 것들이 가', '나는 정말로 이런 것들이 가능', '나는 정말로 이런 것들이 가능하', '나는 정말로 이런 것들이 가능하다', '나는 정말로 이런 것들이 가능하다고', '나는 정말로 이런 것들이 가능하다고 ', '나는 정말로 이런 것들이 가능하다고 생', '나는 정말로 이런 것들이 가능하다고 생각', '나는 정말로 이런 것들이 가능하다고 생각합', '나는 정말로 이런 것들이 가능하다고 생각합니', '나는 정말로 이런 것들이 가능하다고 생각합니다', '나는 정말로 이런 것들이 가능하다고 생각합니다.', '']\n",
      "\n",
      "['나', '나는', '나는 ', '나는 정', '나는 정말', '나는 정말로', '나는 정말로 ', '나는 정말로 이', '나는 정말로 이런', '나는 정말로 이런 ', '나는 정말로 이런 것', '나는 정말로 이런 것들', '나는 정말로 이런 것들이', '나는 정말로 이런 것들이 ', '나는 정말로 이런 것들이 가', '나는 정말로 이런 것들이 가능', '나는 정말로 이런 것들이 가능하', '나는 정말로 이런 것들이 가능하지', '나는 정말로 이런 것들이 가능하지 ', '나는 정말로 이런 것들이 가능하지 않', '나는 정말로 이런 것들이 가능하지 않다', '나는 정말로 이런 것들이 가능하지 않다고', '나는 정말로 이런 것들이 가능하지 않다고 ', '나는 정말로 이런 것들이 가능하지 않다고 생', '나는 정말로 이런 것들이 가능하지 않다고 생각', '나는 정말로 이런 것들이 가능하지 않다고 생각합', '나는 정말로 이런 것들이 가능하지 않다고 생각합니', '나는 정말로 이런 것들이 가능하지 않다고 생각합니다', '나는 정말로 이런 것들이 가능하지 않다고 생각합니다.', '']\n",
      "\n",
      "\n",
      "\n",
      "\n",
      "\n",
      "\n",
      "\n",
      "\n",
      "\n",
      "\n",
      "\n",
      "나는 정말로 이런 것들이 가능하\n",
      "나는 정말로 이런 것들이 가능하\n",
      "나는 정말로 이런 것들이 가능하\n"
     ]
    }
   ],
   "source": [
    "str1 = input(\"첫 번째 문자열을 입력하세요: \")\n",
    "str2 = input(\"두 번째 문자열을 입력하세요: \")\n",
    "print(prefix(str1, str2))"
   ]
  },
  {
   "cell_type": "markdown",
   "metadata": {},
   "source": [
    "# 문제 3번"
   ]
  },
  {
   "cell_type": "markdown",
   "metadata": {},
   "source": [
    "문제 3 번. (기업 업무: ISBN-13 검사) ISBN-13 은 도서 식별을 위한 새로운 표준이다. 이 표준은 13 자리 숫자, 을 사 용한다. 마지막 자리 숫자 은 체크섬이며, 다른 자리의 숫자들을 이용하여\n",
    "다음의 수식에 의해서 계산된다.\n",
    "10−( +3 + +3 + +3 + +3 + +3 +  +3)% 10\n",
    "체크섬이 10이면, 마지막 자리를 0으로 설정한다. 입력값은 문자열로 읽어야 한다. 다음은 프로그램의 실행 예이다.\n",
    "ISBN-13 의 첫 12 자리를 문자열로 입력하세요: 978013213080 (enter) ISBN-13 번호는 9780132130806 입니다.\n",
    "ISBN-13 의 첫 12 자리를 문자열로 입력하세요: 978013213079 (enter) ISBN-13 번호는 9780132130790 입니다.\n"
   ]
  },
  {
   "cell_type": "code",
   "execution_count": 51,
   "metadata": {},
   "outputs": [
    {
     "name": "stdout",
     "output_type": "stream",
     "text": [
      "ISBN-13 의 첫 12 자리를 문자열로 입력하세요: 978013213080\n"
     ]
    }
   ],
   "source": [
    "ISBN = input(\"ISBN-13 의 첫 12 자리를 문자열로 입력하세요: \")"
   ]
  },
  {
   "cell_type": "code",
   "execution_count": 52,
   "metadata": {},
   "outputs": [
    {
     "data": {
      "text/plain": [
       "12"
      ]
     },
     "execution_count": 52,
     "metadata": {},
     "output_type": "execute_result"
    }
   ],
   "source": [
    "len(ISBN)"
   ]
  },
  {
   "cell_type": "markdown",
   "metadata": {},
   "source": [
    "ISBN-13 번호는 9780132130806 입니다."
   ]
  },
  {
   "cell_type": "code",
   "execution_count": 54,
   "metadata": {},
   "outputs": [
    {
     "name": "stdout",
     "output_type": "stream",
     "text": [
      "[9, 7, 8, 0, 1, 3, 2, 1, 3, 0, 8, 0]\n",
      "12\n"
     ]
    }
   ],
   "source": [
    "ISBN_list = []\n",
    "for num in ISBN:\n",
    "    ISBN_list.append(int(num))\n",
    "\n",
    "print(ISBN_list)\n",
    "print(len(ISBN_list))"
   ]
  },
  {
   "cell_type": "code",
   "execution_count": null,
   "metadata": {
    "collapsed": true
   },
   "outputs": [],
   "source": [
    "checkSum = 10-(checkSum_comp1)%10"
   ]
  },
  {
   "cell_type": "code",
   "execution_count": 59,
   "metadata": {},
   "outputs": [
    {
     "name": "stdout",
     "output_type": "stream",
     "text": [
      "0\n",
      "8\n",
      "0\n",
      "3\n",
      "1\n",
      "2\n",
      "3\n",
      "1\n",
      "0\n",
      "8\n",
      "7\n",
      "9\n",
      "64\n"
     ]
    }
   ],
   "source": [
    "checkSum_comp1 = 0\n",
    "for i in range(len(ISBN_list)-1,-1,-1):\n",
    "    if i%2 == 0:\n",
    "        print(ISBN_list[i])\n",
    "        checkSum_comp1 += ISBN_list[i]\n",
    "    elif i%2 != 0:\n",
    "        print(ISBN_list[i])\n",
    "        checkSum_comp1 += 3*ISBN_list[i]\n",
    "print(checkSum_comp1)"
   ]
  },
  {
   "cell_type": "code",
   "execution_count": 60,
   "metadata": {},
   "outputs": [
    {
     "name": "stdout",
     "output_type": "stream",
     "text": [
      "6\n"
     ]
    }
   ],
   "source": [
    "checkSum = 10-(checkSum_comp1)%10\n",
    "if checkSum == 10:\n",
    "    checkSum = 0\n",
    "print(checkSum)"
   ]
  },
  {
   "cell_type": "code",
   "execution_count": null,
   "metadata": {
    "collapsed": true
   },
   "outputs": [],
   "source": [
    "ISBN = input(\"ISBN-13 의 첫 12 자리를 문자열로 입력하세요: \")"
   ]
  },
  {
   "cell_type": "code",
   "execution_count": 65,
   "metadata": {
    "collapsed": true
   },
   "outputs": [],
   "source": [
    "def checkSumFunction(ISBN):\n",
    "    ISBN_result = ''\n",
    "    ISBN_list = []\n",
    "    for num in ISBN:\n",
    "        ISBN_list.append(int(num))\n",
    "        \n",
    "    checkSum_comp1 = 0\n",
    "    for i in range(len(ISBN_list)-1,-1,-1):\n",
    "        if i%2 == 0:\n",
    "            checkSum_comp1 += ISBN_list[i]\n",
    "        elif i%2 != 0:\n",
    "            checkSum_comp1 += 3*ISBN_list[i]\n",
    "    \n",
    "    checkSum = 10-(checkSum_comp1)%10\n",
    "    if checkSum == 10:\n",
    "        checkSum = 0\n",
    "    \n",
    "    for i in ISBN_list:\n",
    "        ISBN_result += str(i)\n",
    "    ISBN_result += str(checkSum)\n",
    "    \n",
    "    return ISBN_result"
   ]
  },
  {
   "cell_type": "code",
   "execution_count": 66,
   "metadata": {},
   "outputs": [
    {
     "name": "stdout",
     "output_type": "stream",
     "text": [
      "ISBN-13 의 첫 12 자리를 문자열로 입력하세요: 978013213079\n",
      "9780132130790\n"
     ]
    }
   ],
   "source": [
    "ISBN = input(\"ISBN-13 의 첫 12 자리를 문자열로 입력하세요: \")\n",
    "print(checkSumFunction(ISBN))"
   ]
  },
  {
   "cell_type": "markdown",
   "metadata": {},
   "source": [
    "# 문제 4번"
   ]
  },
  {
   "cell_type": "markdown",
   "metadata": {},
   "source": [
    "(숫자의 빈도수) 1과 100 사이의 정수들을 입력받고 각 정수의 빈도수를 세는 프로그램을 작성하시오. 다음은 프로그램 실행 예이다.<br>\n",
    "1과 100사이의 정수를 입력하세요:2 5 6 5 4 3 2 3 4 32(enter) 2–2번 나타납니다.<br>\n",
    "3–1번 나타납니다.<br>\n",
    "4–1번 나타납니다.<br>\n",
    "5–2번 나타납니다. 6–1번 나타납니다. 23 – 1 번 나타납니다. 43 – 1 번 나타납니다.<br>"
   ]
  },
  {
   "cell_type": "code",
   "execution_count": 70,
   "metadata": {},
   "outputs": [
    {
     "name": "stdout",
     "output_type": "stream",
     "text": [
      "1과 100사이의 정수 입력: 2 5 6 5 4 3 2 3 4 32\n"
     ]
    }
   ],
   "source": [
    "integer = (input(\"1과 100사이의 정수 입력: \"))"
   ]
  },
  {
   "cell_type": "code",
   "execution_count": 71,
   "metadata": {},
   "outputs": [
    {
     "data": {
      "text/plain": [
       "'2 5 6 5 4 3 2 3 4 32'"
      ]
     },
     "execution_count": 71,
     "metadata": {},
     "output_type": "execute_result"
    }
   ],
   "source": [
    "integer"
   ]
  },
  {
   "cell_type": "code",
   "execution_count": 73,
   "metadata": {},
   "outputs": [
    {
     "name": "stdout",
     "output_type": "stream",
     "text": [
      "['2', '5', '6', '5', '4', '3', '2', '3', '4', '32']\n"
     ]
    }
   ],
   "source": [
    "integer_ = integer.split()\n",
    "print(integer_)"
   ]
  },
  {
   "cell_type": "code",
   "execution_count": 81,
   "metadata": {},
   "outputs": [
    {
     "name": "stdout",
     "output_type": "stream",
     "text": [
      "2\n",
      "5\n",
      "6\n",
      "4\n",
      "3\n",
      "32\n",
      "{'2': 2, '5': 2, '6': 1, '4': 2, '3': 2, '32': 1}\n"
     ]
    }
   ],
   "source": [
    "chk = []\n",
    "chk_dict = {}\n",
    "for i in integer_:\n",
    "    if i not in chk:\n",
    "        chk.append(i)\n",
    "        chk_dict[i] = 1\n",
    "    elif i in chk:\n",
    "        chk_dict[i] += 1\n",
    "        \n",
    "for i in chk:\n",
    "    print(\"{:s}\".format(i))\n",
    "print(chk_dict)"
   ]
  },
  {
   "cell_type": "markdown",
   "metadata": {},
   "source": [
    "# 문제 5번"
   ]
  },
  {
   "cell_type": "markdown",
   "metadata": {},
   "source": [
    "문제5번.(가장 작은 원소의 인덱스 찾기) 정수 리스트에서 가장 작은 원소의 인덱스를 반환하는 함수를 작성하시오. 만약 그러한 원소가 두 개 이상이라면, 그 중에 가장 작은 인덱스를 반환한다. 다음의 헤더를 사용하라.<br>\n",
    "def indexOfSmallestElement(lst):<br>\n",
    "사용자로부터 정수 리스트를 입력받고, 위 함수를 호출하여 가장 작은 원소 의 인덱스를 찾아서 그 인덱스를 출력하는 테스트 프로그램을 작성하시오.<br>"
   ]
  },
  {
   "cell_type": "code",
   "execution_count": 82,
   "metadata": {
    "collapsed": true
   },
   "outputs": [],
   "source": [
    "def indexOfSmallestElement(lst):\n",
    "    pass"
   ]
  },
  {
   "cell_type": "code",
   "execution_count": 83,
   "metadata": {},
   "outputs": [
    {
     "name": "stdout",
     "output_type": "stream",
     "text": [
      "정수들을 입력하세요: 2 5 6 5 4 3 2 3 4 32\n"
     ]
    }
   ],
   "source": [
    "integerInput = input(\"정수들을 입력하세요: \")\n",
    "integerInput = integerInput.split()"
   ]
  },
  {
   "cell_type": "code",
   "execution_count": 90,
   "metadata": {},
   "outputs": [
    {
     "name": "stdout",
     "output_type": "stream",
     "text": [
      "[2, 5, 6, 5, 4, 3, 2, 3, 4, 32]\n"
     ]
    }
   ],
   "source": [
    "intergerList = []\n",
    "for i in integerInput:\n",
    "    intergerList.append(int(i))\n",
    "print(intergerList)"
   ]
  },
  {
   "cell_type": "code",
   "execution_count": 91,
   "metadata": {},
   "outputs": [
    {
     "name": "stdout",
     "output_type": "stream",
     "text": [
      "2\n"
     ]
    }
   ],
   "source": [
    "print(min(intergerList))"
   ]
  },
  {
   "cell_type": "code",
   "execution_count": 94,
   "metadata": {},
   "outputs": [
    {
     "name": "stdout",
     "output_type": "stream",
     "text": [
      "0\n"
     ]
    }
   ],
   "source": [
    "for i in range(len(intergerList)):\n",
    "    if intergerList[i] == min(intergerList):\n",
    "#         return i\n",
    "        print(i)\n",
    "    break"
   ]
  },
  {
   "cell_type": "code",
   "execution_count": 102,
   "metadata": {
    "collapsed": true
   },
   "outputs": [],
   "source": [
    "def indexOfSmallestElement(lst):\n",
    "    lst = lst.split()\n",
    "    intergerList = []\n",
    "    for i in lst:\n",
    "        intergerList.append(int(i))\n",
    "    for i in range(len(intergerList)):\n",
    "#         print(min(intergerList))\n",
    "        if intergerList[i] == min(intergerList):\n",
    "            return i"
   ]
  },
  {
   "cell_type": "code",
   "execution_count": 103,
   "metadata": {},
   "outputs": [
    {
     "name": "stdout",
     "output_type": "stream",
     "text": [
      "정수들을 입력하세요: 2 5 6 5 4 -3 2 3 4 32\n",
      "-3\n",
      "-3\n",
      "-3\n",
      "-3\n",
      "-3\n",
      "-3\n",
      "5\n"
     ]
    }
   ],
   "source": [
    "integerInput = input(\"정수들을 입력하세요: \")\n",
    "print(indexOfSmallestElement(integerInput))"
   ]
  },
  {
   "cell_type": "markdown",
   "metadata": {},
   "source": [
    "# 문제 6번"
   ]
  },
  {
   "cell_type": "markdown",
   "metadata": {},
   "source": [
    "문제 6 번. (랜덤 숫자 선택기) random.shuffle(lst)를 사용하여 리스트 내의 숫자들을 랜덤하게 섞을 수 있다. random.shuffle(lst)를 사용하지 않고 리스트 내의 숫자들을 랜덤하게 섞고 그 리스트를 반환하는 자신만의 함수를 작성하시오. 다음의 함수 헤더를 사용하라.<br>\n",
    "def shuffle(lst):<br>\n",
    "사용자로부터 숫자 리스트를 입력받고, 위 함수를 이용하여 랜덤하게 섞여진 숫자들을 출력하는 테스트 프로그램을 작성하시오.<br>"
   ]
  },
  {
   "cell_type": "code",
   "execution_count": 104,
   "metadata": {},
   "outputs": [
    {
     "name": "stdout",
     "output_type": "stream",
     "text": [
      "[2, 5, 6, 5, 4, -3, 2, 3, 4, 32]\n"
     ]
    }
   ],
   "source": [
    "numList = [2, 5, 6, 5, 4, -3, 2, 3, 4, 32]\n",
    "print(numList)"
   ]
  },
  {
   "cell_type": "code",
   "execution_count": 110,
   "metadata": {},
   "outputs": [
    {
     "name": "stdout",
     "output_type": "stream",
     "text": [
      "[32, -3, 3, 2, 4, 5, 6, 5, 2, 4]\n",
      "[2, -3, 3, 5, 32, 6, 4, 2, 5, 4]\n",
      "[6, 2, 4, 5, 32, 2, 3, 4, 5, -3]\n",
      "[2, 5, 6, 3, 32, 2, 4, -3, 5, 4]\n",
      "[6, 5, 2, 5, 4, 2, -3, 4, 32, 3]\n",
      "[-3, 32, 5, 5, 3, 2, 4, 4, 2, 6]\n",
      "[2, 2, 5, -3, 5, 32, 4, 3, 4, 6]\n",
      "[6, 2, 5, 2, 3, 32, -3, 4, 4, 5]\n",
      "[6, 5, 4, -3, 4, 2, 5, 32, 2, 3]\n",
      "[2, 5, -3, 5, 3, 6, 2, 32, 4, 4]\n"
     ]
    }
   ],
   "source": [
    "import random\n",
    "for i in range(10):\n",
    "    random.shuffle(numList)\n",
    "    print(numList)"
   ]
  },
  {
   "cell_type": "code",
   "execution_count": 111,
   "metadata": {
    "collapsed": true
   },
   "outputs": [],
   "source": [
    "def shuffle(lst):\n",
    "    pass"
   ]
  },
  {
   "cell_type": "code",
   "execution_count": 112,
   "metadata": {},
   "outputs": [
    {
     "data": {
      "text/plain": [
       "10"
      ]
     },
     "execution_count": 112,
     "metadata": {},
     "output_type": "execute_result"
    }
   ],
   "source": [
    "len(numList)"
   ]
  },
  {
   "cell_type": "code",
   "execution_count": 116,
   "metadata": {},
   "outputs": [
    {
     "name": "stdout",
     "output_type": "stream",
     "text": [
      "9\n",
      "0\n",
      "6\n",
      "7\n",
      "9\n",
      "0\n",
      "3\n",
      "7\n",
      "7\n",
      "4\n"
     ]
    }
   ],
   "source": [
    "for i in range(10):\n",
    "    seedValue = random.randrange(10)\n",
    "    print(seedValue) "
   ]
  },
  {
   "cell_type": "code",
   "execution_count": 117,
   "metadata": {
    "collapsed": true
   },
   "outputs": [],
   "source": [
    "newList = []\n",
    "for i in range(len(numList)):\n",
    "    newList.append(numList[random.randrange(len(numList))])"
   ]
  },
  {
   "cell_type": "code",
   "execution_count": 118,
   "metadata": {},
   "outputs": [
    {
     "name": "stdout",
     "output_type": "stream",
     "text": [
      "[-3, 2, 4, 32, 6, 5, 5, 6, 2, 2]\n"
     ]
    }
   ],
   "source": [
    "print(newList)"
   ]
  },
  {
   "cell_type": "code",
   "execution_count": 120,
   "metadata": {
    "collapsed": true
   },
   "outputs": [],
   "source": [
    "import random\n",
    "def shuffle(lst):\n",
    "    newList = []\n",
    "    for i in range(len(numList)):\n",
    "        newList.append(numList[random.randrange(len(numList))])\n",
    "    print(newList)"
   ]
  },
  {
   "cell_type": "code",
   "execution_count": 121,
   "metadata": {},
   "outputs": [
    {
     "name": "stdout",
     "output_type": "stream",
     "text": [
      "[6, 32, -3, 2, 2, 4, 4, 3, 6, 4]\n",
      "[-3, 6, 3, 5, 3, 32, 2, 2, 32, 2]\n",
      "[5, 6, 5, 4, 4, -3, 5, -3, 4, 3]\n",
      "[2, 3, 5, 32, -3, 4, 6, 5, 2, 5]\n",
      "[2, 2, 3, 4, 32, 5, 4, 5, 6, 2]\n",
      "[32, -3, 32, 6, 5, 5, 3, 6, 5, -3]\n",
      "[2, 2, 3, 5, 4, 6, 32, 4, 6, 5]\n",
      "[4, 3, 4, 6, 6, 6, 3, -3, -3, 2]\n",
      "[5, 2, 4, 2, -3, -3, 5, 5, 4, 3]\n",
      "[2, 32, 6, 2, 3, 5, 4, 4, 4, 3]\n"
     ]
    }
   ],
   "source": [
    "numList = [2, 5, 6, 5, 4, -3, 2, 3, 4, 32]\n",
    "for i in range(10):\n",
    "    shuffle(numList)"
   ]
  },
  {
   "cell_type": "code",
   "execution_count": null,
   "metadata": {
    "collapsed": true
   },
   "outputs": [],
   "source": []
  },
  {
   "cell_type": "code",
   "execution_count": 15,
   "metadata": {},
   "outputs": [
    {
     "name": "stdout",
     "output_type": "stream",
     "text": [
      "length 10\n",
      "asdffff\n"
     ]
    }
   ],
   "source": [
    "# 정우진\n",
    "#최장 공통 접두어\n",
    "\n",
    "def prefix(s1, s2):\n",
    "\n",
    "    #더 짧은 문자열의 길이 저장\n",
    "\n",
    "    str_ = ''\n",
    "    cnt =0 \n",
    "    result = []\n",
    "    \n",
    "    if min(len(s1), len(s2)) == len(s1):\n",
    "        length = len(s1)\n",
    "    elif min(len(s1), len(s2)) == len(s2):\n",
    "        length = len(s2)\n",
    "        \n",
    "    #length = len(s1) if len(s1) < len(s2) else len(s2)\n",
    "\n",
    "    print(\"length\", length)\n",
    "\n",
    "    for i in range(length):\n",
    "        if s1[i] == s2[i]:\n",
    "            result.append(s1[i])\n",
    "    for item in result:\n",
    "        str_ += item\n",
    "    return str_\n",
    "\n",
    "\n",
    "        \n",
    "\n",
    "print(prefix(\"asdfffffff\",\"asdffffaaaaa\"))\n",
    "\n",
    "\n",
    " "
   ]
  },
  {
   "cell_type": "code",
   "execution_count": 18,
   "metadata": {},
   "outputs": [
    {
     "name": "stdout",
     "output_type": "stream",
     "text": [
      "3\n",
      "index:  0\n",
      "index:  1\n",
      "index:  2\n",
      "\n"
     ]
    }
   ],
   "source": [
    "\n",
    "#최장 공통 접두어\n",
    "\n",
    "def prefix(s1, s2):\n",
    "\n",
    "    #더 짧은 문자열의 길이 저장\n",
    "\n",
    "    str_ = ''\n",
    "\n",
    "    length = len(s1) if len(s1) < len(s2) else len(s2)\n",
    "\n",
    "    print(length)\n",
    "\n",
    "    cnt =0 \n",
    "\n",
    "    for i in range(length):\n",
    "\n",
    "        if s1[i] == s2[i]:\n",
    "\n",
    "            cnt = i \n",
    "\n",
    "            #print(\"cnt:\",cnt)\n",
    "            #print(s1[i], s2[i])\n",
    "            \n",
    "            print(\"index: \", i)\n",
    "\n",
    "        elif s1[i] != s2[i]:\n",
    "            #print(\"..\", str_)\n",
    "            #print(\"cnt:\",cnt)\n",
    "\n",
    "            str_ = s1[cnt]\n",
    "            #print(\"..\", str_)\n",
    "\n",
    "    return str_\n",
    "\n",
    "        \n",
    "\n",
    "print(prefix(\"asdf\",\"asd\"))"
   ]
  },
  {
   "cell_type": "code",
   "execution_count": null,
   "metadata": {
    "collapsed": true
   },
   "outputs": [],
   "source": []
  }
 ],
 "metadata": {
  "kernelspec": {
   "display_name": "Python 3",
   "language": "python",
   "name": "python3"
  },
  "language_info": {
   "codemirror_mode": {
    "name": "ipython",
    "version": 3
   },
   "file_extension": ".py",
   "mimetype": "text/x-python",
   "name": "python",
   "nbconvert_exporter": "python",
   "pygments_lexer": "ipython3",
   "version": "3.6.1"
  }
 },
 "nbformat": 4,
 "nbformat_minor": 2
}
