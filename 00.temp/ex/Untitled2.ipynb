{
 "cells": [
  {
   "cell_type": "code",
   "execution_count": 1,
   "metadata": {},
   "outputs": [
    {
     "name": "stdout",
     "output_type": "stream",
     "text": [
      "3\n",
      "3\n",
      "0\n"
     ]
    }
   ],
   "source": [
    "p = 0\n",
    "n = 0\n",
    "flag = True\n",
    "suma = 0\n",
    "while flag == True:\n",
    "    val = eval(input())\n",
    "    if val == 0:\n",
    "        flag = False\n",
    "    else:\n",
    "        if val>0:\n",
    "            p += 1\n",
    "            suma += val\n",
    "        elif val<0:\n",
    "            n += 1\n",
    "            suma += val\n",
    "            \n"
   ]
  },
  {
   "cell_type": "code",
   "execution_count": 2,
   "metadata": {},
   "outputs": [
    {
     "name": "stdout",
     "output_type": "stream",
     "text": [
      "2\n",
      "0\n",
      "6\n",
      "3.0\n"
     ]
    }
   ],
   "source": [
    "print(p)\n",
    "print(n)\n",
    "print(suma)\n",
    "print(suma/(p+n))"
   ]
  },
  {
   "cell_type": "code",
   "execution_count": 3,
   "metadata": {},
   "outputs": [
    {
     "name": "stdout",
     "output_type": "stream",
     "text": [
      "첫 번째 정수를 입력하세요: 0\n",
      "두 번째 정수를 입력하세요: 0\n",
      "0 와/과 0 의 최대공약수는 1 입니다.\n"
     ]
    }
   ],
   "source": [
    "#사용자로부터 두 정수를 입력 받는다.\n",
    "n1 = eval(input(\"첫 번째 정수를 입력하세요: \"))\n",
    "n2 = eval(input(\"두 번째 정수를 입력하세요: \"))\n",
    "\n",
    "gcd = 1\n",
    "k = 2\n",
    "while k <= n1 and k <= n2:\n",
    "    if n1 % k == 0 and n2 % k == 0:\n",
    "        gcd = k\n",
    "    k += 1\n",
    "\n",
    "print( n1, \"와/과\", n2, \"의 최대공약수는\", gcd, \"입니다.\")"
   ]
  },
  {
   "cell_type": "code",
   "execution_count": 4,
   "metadata": {},
   "outputs": [
    {
     "name": "stdout",
     "output_type": "stream",
     "text": [
      "첫 번째 정수를 입력하세요: 0\n",
      "두 번째 정수를 입력하세요: 0\n",
      "0\n"
     ]
    },
    {
     "ename": "ZeroDivisionError",
     "evalue": "integer division or modulo by zero",
     "output_type": "error",
     "traceback": [
      "\u001b[0;31m---------------------------------------------------------------------------\u001b[0m",
      "\u001b[0;31mZeroDivisionError\u001b[0m                         Traceback (most recent call last)",
      "\u001b[0;32m<ipython-input-4-1b6e321b62ca>\u001b[0m in \u001b[0;36m<module>\u001b[0;34m()\u001b[0m\n\u001b[1;32m     10\u001b[0m \u001b[0mprint\u001b[0m\u001b[0;34m(\u001b[0m\u001b[0md\u001b[0m\u001b[0;34m)\u001b[0m\u001b[0;34m\u001b[0m\u001b[0m\n\u001b[1;32m     11\u001b[0m \u001b[0;32mwhile\u001b[0m \u001b[0mflag\u001b[0m \u001b[0;34m==\u001b[0m \u001b[0;32mTrue\u001b[0m\u001b[0;34m:\u001b[0m\u001b[0;34m\u001b[0m\u001b[0m\n\u001b[0;32m---> 12\u001b[0;31m     \u001b[0;32mif\u001b[0m \u001b[0mn1\u001b[0m \u001b[0;34m%\u001b[0m \u001b[0md\u001b[0m \u001b[0;34m==\u001b[0m \u001b[0;36m0\u001b[0m \u001b[0;32mand\u001b[0m \u001b[0mn2\u001b[0m \u001b[0;34m%\u001b[0m \u001b[0md\u001b[0m \u001b[0;34m==\u001b[0m \u001b[0;36m0\u001b[0m \u001b[0;34m:\u001b[0m\u001b[0;34m\u001b[0m\u001b[0m\n\u001b[0m\u001b[1;32m     13\u001b[0m         \u001b[0mgcd\u001b[0m \u001b[0;34m=\u001b[0m \u001b[0md\u001b[0m\u001b[0;34m\u001b[0m\u001b[0m\n\u001b[1;32m     14\u001b[0m         \u001b[0mflag\u001b[0m \u001b[0;34m=\u001b[0m \u001b[0;32mFalse\u001b[0m\u001b[0;34m\u001b[0m\u001b[0m\n",
      "\u001b[0;31mZeroDivisionError\u001b[0m: integer division or modulo by zero"
     ]
    }
   ],
   "source": [
    "n1 = eval(input(\"첫 번째 정수를 입력하세요: \"))\n",
    "n2 = eval(input(\"두 번째 정수를 입력하세요: \"))\n",
    "gcd = 1\n",
    "d = 2\n",
    "flag = True\n",
    "if n1<n2:\n",
    "    d = n1\n",
    "else:\n",
    "    d = n2\n",
    "print(d)\n",
    "while flag == True:\n",
    "    if n1 % d == 0 and n2 % d == 0 :\n",
    "        gcd = d\n",
    "        flag = False\n",
    "    else :\n",
    "        d -= 1\n",
    "print(gcd)"
   ]
  },
  {
   "cell_type": "code",
   "execution_count": 5,
   "metadata": {},
   "outputs": [
    {
     "name": "stdout",
     "output_type": "stream",
     "text": [
      "2004 2008 \n",
      "2012 2016 2020 2024 2028 \n",
      "2032 2036 2040 2044 2048 \n",
      "2052 2056 2060 2064 2068 \n",
      "2072 2076 2080 2084 2088 \n",
      "2092 2096 2100 "
     ]
    }
   ],
   "source": [
    "ten = 0\n",
    "for i in range(2000, 2100):\n",
    "    i += 1\n",
    "#     if ten % 10 != 0:\n",
    "    ten += 1\n",
    "    if i % 4 == 0:\n",
    "        print(i, end=\" \")\n",
    "    elif ten % 10 == 0:\n",
    "        print()\n",
    "        ten = 0"
   ]
  },
  {
   "cell_type": "code",
   "execution_count": null,
   "metadata": {
    "collapsed": true
   },
   "outputs": [],
   "source": [
    "\n",
    "list1 = [eval(input(i))]"
   ]
  },
  {
   "cell_type": "code",
   "execution_count": 31,
   "metadata": {
    "collapsed": true
   },
   "outputs": [],
   "source": [
    "def sumDigits(n):\n",
    "#     number = int('1'+'0'*(len(str(n))-1))\n",
    "    \n",
    "#     n % number \n",
    "    suma = 0\n",
    "    idx = len(str(n))\n",
    "    for i in range(idx):\n",
    "        suma += n%10\n",
    "        n = n//10\n",
    "    print(suma)"
   ]
  },
  {
   "cell_type": "code",
   "execution_count": 33,
   "metadata": {},
   "outputs": [
    {
     "name": "stdout",
     "output_type": "stream",
     "text": [
      "23\n"
     ]
    }
   ],
   "source": [
    "sumDigits(2345342)"
   ]
  },
  {
   "cell_type": "code",
   "execution_count": 8,
   "metadata": {},
   "outputs": [
    {
     "data": {
      "text/plain": [
       "3"
      ]
     },
     "execution_count": 8,
     "metadata": {},
     "output_type": "execute_result"
    }
   ],
   "source": [
    "len(str(234))"
   ]
  },
  {
   "cell_type": "code",
   "execution_count": 15,
   "metadata": {},
   "outputs": [],
   "source": [
    "n = 123\n",
    "number = int('1'+'0'*(len(str(n))-1))"
   ]
  },
  {
   "cell_type": "code",
   "execution_count": 16,
   "metadata": {},
   "outputs": [
    {
     "data": {
      "text/plain": [
       "100"
      ]
     },
     "execution_count": 16,
     "metadata": {},
     "output_type": "execute_result"
    }
   ],
   "source": [
    "number"
   ]
  },
  {
   "cell_type": "code",
   "execution_count": 17,
   "metadata": {},
   "outputs": [
    {
     "data": {
      "text/plain": [
       "23"
      ]
     },
     "execution_count": 17,
     "metadata": {},
     "output_type": "execute_result"
    }
   ],
   "source": [
    "n % number"
   ]
  },
  {
   "cell_type": "code",
   "execution_count": 19,
   "metadata": {},
   "outputs": [
    {
     "data": {
      "text/plain": [
       "4"
      ]
     },
     "execution_count": 19,
     "metadata": {},
     "output_type": "execute_result"
    }
   ],
   "source": [
    "n = 234\n",
    "n%10"
   ]
  },
  {
   "cell_type": "code",
   "execution_count": 20,
   "metadata": {},
   "outputs": [
    {
     "data": {
      "text/plain": [
       "23"
      ]
     },
     "execution_count": 20,
     "metadata": {},
     "output_type": "execute_result"
    }
   ],
   "source": [
    "n//10"
   ]
  },
  {
   "cell_type": "code",
   "execution_count": 21,
   "metadata": {},
   "outputs": [
    {
     "data": {
      "text/plain": [
       "3"
      ]
     },
     "execution_count": 21,
     "metadata": {},
     "output_type": "execute_result"
    }
   ],
   "source": [
    "(n//10)%10"
   ]
  },
  {
   "cell_type": "code",
   "execution_count": 23,
   "metadata": {},
   "outputs": [
    {
     "data": {
      "text/plain": [
       "2"
      ]
     },
     "execution_count": 23,
     "metadata": {},
     "output_type": "execute_result"
    }
   ],
   "source": [
    "((n//10))//10"
   ]
  },
  {
   "cell_type": "code",
   "execution_count": 24,
   "metadata": {},
   "outputs": [
    {
     "data": {
      "text/plain": [
       "2"
      ]
     },
     "execution_count": 24,
     "metadata": {},
     "output_type": "execute_result"
    }
   ],
   "source": [
    "(((n//10))//10)%10"
   ]
  },
  {
   "cell_type": "code",
   "execution_count": 25,
   "metadata": {},
   "outputs": [
    {
     "data": {
      "text/plain": [
       "9"
      ]
     },
     "execution_count": 25,
     "metadata": {},
     "output_type": "execute_result"
    }
   ],
   "source": [
    "n = 234\n",
    "a = n%10\n",
    "b = (n//10)%10\n",
    "c = (((n//10))//10)%10\n",
    "result = a+b+c\n",
    "int(result)"
   ]
  },
  {
   "cell_type": "code",
   "execution_count": 26,
   "metadata": {},
   "outputs": [
    {
     "name": "stdout",
     "output_type": "stream",
     "text": [
      "15\n"
     ]
    }
   ],
   "source": [
    "idx = len(str(n))\n",
    "for i in range(idx):\n",
    "    suma += n%10\n",
    "    n = n//10\n",
    "print(suma)"
   ]
  },
  {
   "cell_type": "code",
   "execution_count": null,
   "metadata": {
    "collapsed": true
   },
   "outputs": [],
   "source": [
    "def displaySortedNumbers(num1, num2, num3):\n",
    "    max1 = max(num1, num2)\n",
    "    max2 = max(num2, max1)\n",
    "    min1 = min(num1, max1)\n",
    "    min2 = min(num1, num2)\n",
    "    max3 = max(min1, min2)\n",
    "    min3 = min(min2, min)\n",
    "    \n",
    "    print(max2, )"
   ]
  }
 ],
 "metadata": {
  "kernelspec": {
   "display_name": "Python 3",
   "language": "python",
   "name": "python3"
  },
  "language_info": {
   "codemirror_mode": {
    "name": "ipython",
    "version": 3
   },
   "file_extension": ".py",
   "mimetype": "text/x-python",
   "name": "python",
   "nbconvert_exporter": "python",
   "pygments_lexer": "ipython3",
   "version": "3.6.1"
  }
 },
 "nbformat": 4,
 "nbformat_minor": 2
}
