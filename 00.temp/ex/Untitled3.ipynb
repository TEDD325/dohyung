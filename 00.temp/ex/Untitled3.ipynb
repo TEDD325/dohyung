{
 "cells": [
  {
   "cell_type": "code",
   "execution_count": 10,
   "metadata": {},
   "outputs": [
    {
     "name": "stdout",
     "output_type": "stream",
     "text": [
      "[1, 2, 3, <class '__main__.Person'>, 5]\n"
     ]
    }
   ],
   "source": [
    "class Person:\n",
    "    def __init__(self):\n",
    "        self.name = 'Kim'\n",
    "\n",
    "    def __str__(self):\n",
    "        return self.name\n",
    "    \n",
    "p = Person\n",
    "b = [1,2,3,p,5]\n",
    "print(b)"
   ]
  },
  {
   "cell_type": "code",
   "execution_count": 11,
   "metadata": {},
   "outputs": [
    {
     "name": "stdout",
     "output_type": "stream",
     "text": [
      "<class '__main__.Person'>\n"
     ]
    }
   ],
   "source": [
    "# <class '__main__.Person'>\n",
    "print(p)"
   ]
  },
  {
   "cell_type": "code",
   "execution_count": 12,
   "metadata": {},
   "outputs": [
    {
     "name": "stdout",
     "output_type": "stream",
     "text": [
      "1\n",
      "['a', ['x', 'y'], 'b']\n",
      "['x', 'y']\n",
      "y\n"
     ]
    }
   ],
   "source": [
    "L = [1, ['a', ['x', 'y'], 'b'], 3]\n",
    "print(L[0])\n",
    "print(L[1])\n",
    "print(L[1][1])\n",
    "print(L[1][1][1])"
   ]
  },
  {
   "cell_type": "code",
   "execution_count": 13,
   "metadata": {},
   "outputs": [
    {
     "name": "stdout",
     "output_type": "stream",
     "text": [
      "<class 'int'> <class 'range'>\n",
      "0 inch= 0.0 centi\n",
      "<class 'int'> <class 'range'>\n",
      "1 inch= 2.54 centi\n",
      "<class 'int'> <class 'range'>\n",
      "2 inch= 5.08 centi\n",
      "<class 'int'> <class 'range'>\n",
      "3 inch= 7.62 centi\n",
      "<class 'int'> <class 'range'>\n",
      "4 inch= 10.16 centi\n",
      "<class 'int'> <class 'range'>\n",
      "5 inch= 12.7 centi\n",
      "<class 'int'> <class 'range'>\n",
      "6 inch= 15.24 centi\n",
      "<class 'int'> <class 'range'>\n",
      "7 inch= 17.78 centi\n",
      "<class 'int'> <class 'range'>\n",
      "8 inch= 20.32 centi\n",
      "<class 'int'> <class 'range'>\n",
      "9 inch= 22.86 centi\n"
     ]
    }
   ],
   "source": [
    "for el in range(10):\n",
    "    print(type(el), type(range(el)))\n",
    "    print(el, 'inch=', el * 2.54, 'centi')"
   ]
  },
  {
   "cell_type": "code",
   "execution_count": 14,
   "metadata": {},
   "outputs": [
    {
     "name": "stdout",
     "output_type": "stream",
     "text": [
      "<class 'tuple'>\n",
      "name = one , num = 1\n",
      "<class 'tuple'>\n",
      "name = two , num = 2\n",
      "<class 'tuple'>\n",
      "name = three , num = 3\n"
     ]
    }
   ],
   "source": [
    "lt = [('one', 1), ('two', 2), ('three', 3)]\n",
    "for t in lt:\n",
    "    print(type(t))\n",
    "    print('name =', t[0] ,', num =', t[1])"
   ]
  },
  {
   "cell_type": "code",
   "execution_count": 15,
   "metadata": {},
   "outputs": [
    {
     "name": "stdout",
     "output_type": "stream",
     "text": [
      "one 1\n",
      "two 2\n",
      "three 3\n"
     ]
    }
   ],
   "source": [
    "lt = [('one', 1), ('two', 2), ('three', 3)]\n",
    "for name, num in lt:\n",
    "    print(name, num)"
   ]
  },
  {
   "cell_type": "code",
   "execution_count": 16,
   "metadata": {},
   "outputs": [
    {
     "name": "stdout",
     "output_type": "stream",
     "text": [
      "[1, 2, 3, 5]\n",
      "[1, 2, 3, 4, 5]\n"
     ]
    }
   ],
   "source": [
    "s = [1, 2, 3]\n",
    "\n",
    "s.append(5) # 리스트 맨 마지막에 정수 값 5 추가\n",
    "print(s)\n",
    "\n",
    "s.insert(3, 4) # 3 인덱스 위치에 정수 값 4 추가\n",
    "print(s)"
   ]
  },
  {
   "cell_type": "code",
   "execution_count": 17,
   "metadata": {},
   "outputs": [
    {
     "name": "stdout",
     "output_type": "stream",
     "text": [
      "2\n",
      "1\n",
      "5\n"
     ]
    }
   ],
   "source": [
    "s = [1, 2, 3, 4, 5]\n",
    "\n",
    "print(s.index(3))        # 값 3의 인덱스 반환\n",
    "\n",
    "print(s.count(2))        # 값 2의 개수 반환\n",
    "\n",
    "s = [1, 2, 2, 2, 2, 2, 3, 4, 5]\n",
    "print(s.count(2))"
   ]
  },
  {
   "cell_type": "code",
   "execution_count": 19,
   "metadata": {},
   "outputs": [
    {
     "name": "stdout",
     "output_type": "stream",
     "text": [
      "None\n",
      "[100, -7, -10, 2, 1]\n",
      "None\n",
      "[-10, -7, 1, 2, 100]\n",
      "None\n",
      "[100, 2, 1, -7, -10]\n"
     ]
    }
   ],
   "source": [
    "s = [1, 2, -10, -7, 100]\n",
    "k = s.reverse() # 자료의 순서를 뒤집기 (반환값 없음)   \n",
    "print(k)\n",
    "print(s)\n",
    "\n",
    "k = s.sort() # 정렬 (반환값 없음)\n",
    "print(k)\n",
    "print(s)\n",
    "\n",
    "k = s.reverse() # 자료의 순서를 뒤집기 (반환값 없음)   \n",
    "print(k)\n",
    "print(s)"
   ]
  },
  {
   "cell_type": "code",
   "execution_count": 24,
   "metadata": {},
   "outputs": [
    {
     "name": "stdout",
     "output_type": "stream",
     "text": [
      "[10, 20, 30, 20, 40, 50, 60, 70]\n",
      "[10, 20, 30, 20, 40, 50, 60, 70, 'l']\n",
      "[10, 20, 30, 20, 40, 50, 60, 70, 'l', 'il']\n"
     ]
    }
   ],
   "source": [
    "s = [10, 20, 30, 20, 40, 50] # 자료 값이 여러개 존재하면 첫번째 것만 삭제\n",
    "s.extend([60, 70]) # 새로운 리스트([60, 70]를 기존 리스트 s 뒤에 병합\n",
    "print(s)\n",
    "\n",
    "s.extend((\"l\"))\n",
    "print(s)\n",
    "\n",
    "s.extend({'il':'one'})\n",
    "print(s)"
   ]
  },
  {
   "cell_type": "code",
   "execution_count": 25,
   "metadata": {},
   "outputs": [
    {
     "name": "stdout",
     "output_type": "stream",
     "text": [
      "10\n",
      "[20, 30, 40, 50]\n",
      "50\n",
      "[20, 30, 40]\n"
     ]
    }
   ],
   "source": [
    "s = [10, 20, 30, 40, 50]\n",
    "print(s.pop(0))   #0 번째 인덱스 값을 꺼낸다.\n",
    "\n",
    "print(s)\n",
    "\n",
    "print(s.pop())   \n",
    "print(s)"
   ]
  },
  {
   "cell_type": "code",
   "execution_count": 28,
   "metadata": {
    "collapsed": true
   },
   "outputs": [],
   "source": [
    "L = [('lee', 5, 38), ('kim', 3, 28), ('jung', 10, 36)] # (이름, 재직년도, 나이)"
   ]
  },
  {
   "cell_type": "code",
   "execution_count": 39,
   "metadata": {},
   "outputs": [
    {
     "name": "stdout",
     "output_type": "stream",
     "text": [
      "[('kim', 3, 28), ('jung', 10, 36), ('lee', 5, 38)]\n",
      "('lee', 5, 38)\n",
      "lee\n",
      "l\n",
      "le\n"
     ]
    }
   ],
   "source": [
    "def indicate_key(a):\n",
    "    return a[2]\n",
    "\n",
    "L.sort(key=indicate_key)\n",
    "print(L)\n",
    "\n",
    "print(L[2])\n",
    "print(L[2][0])\n",
    "print(L[2][0][0])\n",
    "print(L[2][0][0:2])"
   ]
  },
  {
   "cell_type": "code",
   "execution_count": 31,
   "metadata": {},
   "outputs": [
    {
     "name": "stdout",
     "output_type": "stream",
     "text": [
      "[('kim', 3, 28), ('lee', 5, 38), ('jung', 10, 36)]\n"
     ]
    }
   ],
   "source": [
    "def indicate_key(a):\n",
    "    return a[1]\n",
    "\n",
    "L.sort(key=indicate_key) # k +tab\n",
    "print(L)\n",
    "# 1번째 인자인 5, 3, 10 의 값을 이용해서 sort를 수행한다."
   ]
  },
  {
   "cell_type": "code",
   "execution_count": 32,
   "metadata": {},
   "outputs": [
    {
     "name": "stdout",
     "output_type": "stream",
     "text": [
      "sorted by the first character: ['jung', 'kim', 'loh']\n",
      "sorted by the second character: ['kim', 'loh', 'jung']\n"
     ]
    }
   ],
   "source": [
    "S = ['loh', 'kim', 'jung']\n",
    "\n",
    "def cmp_by_each_element(a):\n",
    "    return a[1]\n",
    "\n",
    "S.sort()\n",
    "print('sorted by the first character:', S) # 첫번째 문자에 대해 정렬\n",
    "\n",
    "S.sort(key=cmp_by_each_element)\n",
    "print('sorted by the second character:', S) # 'o', 'i', 'u'를 이용해서 정렬"
   ]
  },
  {
   "cell_type": "code",
   "execution_count": 35,
   "metadata": {},
   "outputs": [
    {
     "name": "stdout",
     "output_type": "stream",
     "text": [
      "[jung, kim, lee]\n"
     ]
    }
   ],
   "source": [
    "class Person:\n",
    "    def __init__(self, name, exp, age):\n",
    "        self.name = name\n",
    "        self.exp = exp\n",
    "        self.age = age\n",
    "        \n",
    "    def __repr__(self):\n",
    "        return self.name\n",
    "\n",
    "p1 = Person('kim', 3, 34)\n",
    "p2 = Person('lee', 5, 50)\n",
    "p3 = Person('jung', 10, 55)\n",
    "\n",
    "S = [p1, p2, p3]\n",
    "\n",
    "# S.sort()\n",
    "# print(S)\n",
    "# '<' not supported between instances of 'Person' and 'Person' \n",
    "# 크기 비교 연산자를 적용할 수 없다.\n",
    "\n",
    "def indicate_key_of_person(p):\n",
    "    return p.name\n",
    "\n",
    "S.sort(key=indicate_key_of_person)\n",
    "print(S)"
   ]
  },
  {
   "cell_type": "code",
   "execution_count": 42,
   "metadata": {},
   "outputs": [
    {
     "name": "stdout",
     "output_type": "stream",
     "text": [
      "[-11, 1, 3, 4, 5, 5]\n",
      "[1, 5, 3, 4, 5, -11]\n",
      "\n",
      "[5, 5, 4, 3, 1, -11]\n",
      "[1, 5, 3, 4, 5, -11]\n",
      "\n",
      "\n",
      "[-11, 1, 3, 4, 5, 5]\n",
      "[1, 5, 3, 4, 5, -11]\n",
      "\n",
      "[5, 5, 4, 3, 1, -11]\n",
      "[1, 5, 3, 4, 5, -11]\n"
     ]
    }
   ],
   "source": [
    "L = [1,5,3,4,5,-11]\n",
    "M = [1,5,3,4,5,-11]\n",
    "\n",
    "def mycmp(a):\n",
    "    return a[1]\n",
    "\n",
    "L1 = sorted(L)\n",
    "print(L1)\n",
    "print(L)\n",
    "print()\n",
    "\n",
    "L2 = sorted(L, reverse=True)\n",
    "print(L2)\n",
    "print(L)\n",
    "print()\n",
    "print()\n",
    "\n",
    "M1 = sorted(M)\n",
    "print(M1)\n",
    "print(M)\n",
    "print()\n",
    "\n",
    "M2 = sorted(M, reverse=True)\n",
    "print(M2)\n",
    "print(M)"
   ]
  },
  {
   "cell_type": "code",
   "execution_count": 43,
   "metadata": {},
   "outputs": [
    {
     "name": "stdout",
     "output_type": "stream",
     "text": [
      "[0, 1, 4, 9, 16, 25, 36, 49, 64, 81]\n"
     ]
    }
   ],
   "source": [
    "L = []\n",
    "L = list()\n",
    "for k in range(10):\n",
    "    L.append(k*k)\n",
    "    \n",
    "print(L)"
   ]
  },
  {
   "cell_type": "code",
   "execution_count": 45,
   "metadata": {},
   "outputs": [
    {
     "name": "stdout",
     "output_type": "stream",
     "text": [
      "[0, 1, 4, 9, 16, 25, 36, 49, 64, 81]\n"
     ]
    }
   ],
   "source": [
    "L = [k*k] # 이를 보고 리스트의 내포라고 한다. list[expressoin] 이 가능한 것.\n",
    "L = [k*k for k in range(10)]\n",
    "print(L)"
   ]
  },
  {
   "cell_type": "code",
   "execution_count": 46,
   "metadata": {},
   "outputs": [
    {
     "name": "stdout",
     "output_type": "stream",
     "text": [
      "[0, 0, 0, 0, 0, 0, 0, 0, 0, 0]\n"
     ]
    }
   ],
   "source": [
    "L = [0 for k in range(10)]\n",
    "print(L)"
   ]
  },
  {
   "cell_type": "code",
   "execution_count": null,
   "metadata": {
    "collapsed": true
   },
   "outputs": [],
   "source": []
  }
 ],
 "metadata": {
  "kernelspec": {
   "display_name": "Python 3",
   "language": "python",
   "name": "python3"
  },
  "language_info": {
   "codemirror_mode": {
    "name": "ipython",
    "version": 3
   },
   "file_extension": ".py",
   "mimetype": "text/x-python",
   "name": "python",
   "nbconvert_exporter": "python",
   "pygments_lexer": "ipython3",
   "version": "3.6.1"
  }
 },
 "nbformat": 4,
 "nbformat_minor": 2
}
