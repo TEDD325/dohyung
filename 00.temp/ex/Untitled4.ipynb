{
 "cells": [
  {
   "cell_type": "code",
   "execution_count": 4,
   "metadata": {},
   "outputs": [
    {
     "name": "stdout",
     "output_type": "stream",
     "text": [
      "첫 번째 정수를 입력하세요: 2\n",
      "두 번째 정수를 입력하세요: 3\n"
     ]
    },
    {
     "ename": "AttributeError",
     "evalue": "module 'GCDFunction' has no attribute 'gcd'",
     "output_type": "error",
     "traceback": [
      "\u001b[0;31m---------------------------------------------------------------------------\u001b[0m",
      "\u001b[0;31mAttributeError\u001b[0m                            Traceback (most recent call last)",
      "\u001b[0;32m<ipython-input-4-4e3f9124a971>\u001b[0m in \u001b[0;36m<module>\u001b[0;34m()\u001b[0m\n\u001b[1;32m     12\u001b[0m \u001b[0;31m#print(n1, \"와/과\", n2, \"의 최대공약수는\", gcd(n1, n2), \"입니다.\")\u001b[0m\u001b[0;34m\u001b[0m\u001b[0;34m\u001b[0m\u001b[0m\n\u001b[1;32m     13\u001b[0m \u001b[0;31m#print(n1, \"와/과\", n2, \"의 최대공약수는\", GCDFunction.gcd(n1, n2), \"입니다.\")\u001b[0m\u001b[0;34m\u001b[0m\u001b[0;34m\u001b[0m\u001b[0m\n\u001b[0;32m---> 14\u001b[0;31m \u001b[0mprint\u001b[0m\u001b[0;34m(\u001b[0m\u001b[0mn1\u001b[0m\u001b[0;34m,\u001b[0m \u001b[0;34m\"와/과\"\u001b[0m\u001b[0;34m,\u001b[0m \u001b[0mn2\u001b[0m\u001b[0;34m,\u001b[0m \u001b[0;34m\"의 최대공약수는\"\u001b[0m\u001b[0;34m,\u001b[0m \u001b[0mGCDFunction\u001b[0m\u001b[0;34m.\u001b[0m\u001b[0mgcd\u001b[0m\u001b[0;34m(\u001b[0m\u001b[0mn1\u001b[0m\u001b[0;34m,\u001b[0m \u001b[0mn2\u001b[0m\u001b[0;34m)\u001b[0m\u001b[0;34m,\u001b[0m \u001b[0;34m\"입니다.\"\u001b[0m\u001b[0;34m)\u001b[0m\u001b[0;34m\u001b[0m\u001b[0m\n\u001b[0m\u001b[1;32m     15\u001b[0m \u001b[0mprint\u001b[0m\u001b[0;34m(\u001b[0m\u001b[0mn1\u001b[0m\u001b[0;34m,\u001b[0m \u001b[0;34m\"와/과\"\u001b[0m\u001b[0;34m,\u001b[0m \u001b[0mn2\u001b[0m\u001b[0;34m,\u001b[0m \u001b[0;34m\"의 합\"\u001b[0m\u001b[0;34m,\u001b[0m \u001b[0mGCDFunction\u001b[0m\u001b[0;34m.\u001b[0m\u001b[0msum\u001b[0m\u001b[0;34m(\u001b[0m\u001b[0mn1\u001b[0m\u001b[0;34m,\u001b[0m \u001b[0mn2\u001b[0m\u001b[0;34m)\u001b[0m\u001b[0;34m,\u001b[0m \u001b[0;34m\"입니다.\"\u001b[0m\u001b[0;34m)\u001b[0m\u001b[0;34m\u001b[0m\u001b[0m\n",
      "\u001b[0;31mAttributeError\u001b[0m: module 'GCDFunction' has no attribute 'gcd'"
     ]
    }
   ],
   "source": [
    "#from GCDFunction import gcd # gcd 함수를 임포트한다.\n",
    "#import GCDFunction\n",
    "import GCDFunction\n",
    "#from GCDFunction import *\n",
    "\n",
    "\n",
    "\n",
    "# 사용자로부터 두 정수를 입력받는다.\n",
    "n1 = eval(input(\"첫 번째 정수를 입력하세요: \"))\n",
    "n2 = eval(input(\"두 번째 정수를 입력하세요: \"))\n",
    "GCDFunctio\n",
    "\n",
    "#print(n1, \"와/과\", n2, \"의 최대공약수는\", gcd(n1, n2), \"입니다.\")\n",
    "#print(n1, \"와/과\", n2, \"의 최대공약수는\", GCDFunction.gcd(n1, n2), \"입니다.\")\n",
    "print(n1, \"와/과\", n2, \"의 최대공약수는\", GCDFunction.gcd(n1, n2), \"입니다.\")\n",
    "print(n1, \"와/과\", n2, \"의 합\", GCDFunction.sum(n1, n2), \"입니다.\")"
   ]
  },
  {
   "cell_type": "code",
   "execution_count": null,
   "metadata": {
    "collapsed": true
   },
   "outputs": [],
   "source": []
  }
 ],
 "metadata": {
  "kernelspec": {
   "display_name": "Python 3",
   "language": "python",
   "name": "python3"
  },
  "language_info": {
   "codemirror_mode": {
    "name": "ipython",
    "version": 3
   },
   "file_extension": ".py",
   "mimetype": "text/x-python",
   "name": "python",
   "nbconvert_exporter": "python",
   "pygments_lexer": "ipython3",
   "version": "3.6.1"
  }
 },
 "nbformat": 4,
 "nbformat_minor": 2
}
