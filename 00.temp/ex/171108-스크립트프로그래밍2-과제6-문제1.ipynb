{
 "cells": [
  {
   "cell_type": "code",
   "execution_count": 7,
   "metadata": {},
   "outputs": [
    {
     "name": "stdout",
     "output_type": "stream",
     "text": [
      "1\n",
      "False\n",
      "5\n",
      "blue\n",
      "\n",
      "3\n",
      "False\n",
      "10\n",
      "YELLOW\n",
      "\n",
      "3 False 10 YELLOW\n"
     ]
    }
   ],
   "source": [
    "SLOW = 1\n",
    "MEDIUM = 2\n",
    "FAST = 3\n",
    "        \n",
    "class Fan:\n",
    "    global SLOW\n",
    "    global MEDIUM\n",
    "    global FAST\n",
    "    \n",
    "    def __init__(self, speed=SLOW, radius=5, color='blue', on=False):\n",
    "        \n",
    "        self.__speed = speed\n",
    "        self.__on = on\n",
    "        self.__radius = radius\n",
    "        self.__color = color\n",
    "        \n",
    "    def getter(self):\n",
    "        return self.__speed, self.__on, self.__radius, self.__color\n",
    "    \n",
    "    def printFan(self):\n",
    "        print(self.__speed)\n",
    "        print(self.__on)\n",
    "        print(self.__radius)\n",
    "        print(self.__color)\n",
    "        \n",
    "        \n",
    "        \n",
    "fan_instance = Fan()\n",
    "fan_instance.printFan()\n",
    "print()\n",
    "fan_instance2 = Fan(speed = FAST, radius=10, color='YELLOW', on=False)\n",
    "fan_instance2.printFan()\n",
    "print()\n",
    "fan2_speed, fan2_on, fan2_radius, fan2_color = fan_instance2.getter()\n",
    "print(fan2_speed, fan2_on, fan2_radius, fan2_color)"
   ]
  },
  {
   "cell_type": "code",
   "execution_count": null,
   "metadata": {
    "collapsed": true
   },
   "outputs": [],
   "source": []
  }
 ],
 "metadata": {
  "kernelspec": {
   "display_name": "Python 3",
   "language": "python",
   "name": "python3"
  },
  "language_info": {
   "codemirror_mode": {
    "name": "ipython",
    "version": 3
   },
   "file_extension": ".py",
   "mimetype": "text/x-python",
   "name": "python",
   "nbconvert_exporter": "python",
   "pygments_lexer": "ipython3",
   "version": "3.6.1"
  }
 },
 "nbformat": 4,
 "nbformat_minor": 2
}
