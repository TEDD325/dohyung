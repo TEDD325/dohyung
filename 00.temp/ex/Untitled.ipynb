{
 "cells": [
  {
   "cell_type": "code",
   "execution_count": 1,
   "metadata": {},
   "outputs": [
    {
     "name": "stdout",
     "output_type": "stream",
     "text": [
      "['spam', 'and', 'ham']\n",
      "[' spam ', ' ham     ']\n",
      "\n",
      "['spam', 'and', 'ham', 'egg', 'cheese']\n"
     ]
    }
   ],
   "source": [
    "u = ' spam and ham     '\n",
    "print(u.split()) # 공백으로 분리 (모든 공백 제거 및 문자열 내의 단어 리스트를 얻을 수 있음)\n",
    "print(u.split('and')) # 'and'로 분리\n",
    "print()\n",
    "\n",
    "u2 = 'spam and ham\\tegg\\ncheese'\n",
    "print(u2.split())"
   ]
  },
  {
   "cell_type": "code",
   "execution_count": 3,
   "metadata": {},
   "outputs": [
    {
     "name": "stdout",
     "output_type": "stream",
     "text": [
      "['spam', 'ham', 'egg', 'cheese']\n",
      "\n",
      "<class 'str'>\n",
      "spam:ham:egg:cheese\n",
      "\n",
      "spam ham egg cheese\n",
      "\n",
      "spam\n",
      "ham\n",
      "egg\n",
      "cheese\n",
      "\n"
     ]
    }
   ],
   "source": [
    "u = 'spam ham\\tegg\\ncheese'\n",
    "t = u.split() # 문자열 내의 단어 리스트    \n",
    "print(t)\n",
    "print()\n",
    "t2 = ':'.join(t) # 리스트 t 내부의 각 원소들을 ':'로 연결한 문자열 반환\n",
    "print(type(t2))\n",
    "# <type 'str'>\n",
    "\n",
    "print(t2)\n",
    "print()\n",
    "t3 = \" \".join(t) # 리스트 t 내부의 각 원소들을 ','으로 연결한 문자열 반환\n",
    "print(t3)\n",
    "print()\n",
    "t4 = '\\n'.join(t) # 리스트 t 내부의 각 원소들을 '\\n'으로 연결한 문자열 반환\n",
    "print(t4)\n",
    "print()"
   ]
  },
  {
   "cell_type": "code",
   "execution_count": null,
   "metadata": {
    "collapsed": true
   },
   "outputs": [],
   "source": []
  }
 ],
 "metadata": {
  "kernelspec": {
   "display_name": "Python 3",
   "language": "python",
   "name": "python3"
  },
  "language_info": {
   "codemirror_mode": {
    "name": "ipython",
    "version": 3
   },
   "file_extension": ".py",
   "mimetype": "text/x-python",
   "name": "python",
   "nbconvert_exporter": "python",
   "pygments_lexer": "ipython3",
   "version": "3.6.1"
  }
 },
 "nbformat": 4,
 "nbformat_minor": 2
}
