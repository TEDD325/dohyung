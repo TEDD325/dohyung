{
 "cells": [
  {
   "cell_type": "markdown",
   "metadata": {
    "slideshow": {
     "slide_type": "slide"
    }
   },
   "source": [
    "# 과제 2\n",
    "### 문제 3\n",
    "두 개의 리스트를 인자로 받아서 그 두 개의 리스트에 대한 '합집합'을 반환하는 함수 list_union(lista, listb)를 작성하시오."
   ]
  },
  {
   "cell_type": "markdown",
   "metadata": {
    "slideshow": {
     "slide_type": "slide"
    }
   },
   "source": [
    "##### 합집합\n",
    "https://ko.wikipedia.org/wiki/%ED%95%A9%EC%A7%91%ED%95%A9\n",
    "합집합(合集合, 영어: union)은 그들의 모든 원소를 한 군데 합쳐놓은 집합이다. 즉, 그들 중 하나에라도 속하는 원소들을 모두 모은 집합이다.\n",
    "\n",
    "<img src=\"https://upload.wikimedia.org/wikipedia/commons/thumb/e/ee/Venn_0111_1111.svg/440px-Venn_0111_1111.svg.png\" width=150/>\n",
    "\n",
    "- 집합의 조건 상, 중복되는 원소는 제거가 필요"
   ]
  },
  {
   "cell_type": "markdown",
   "metadata": {
    "slideshow": {
     "slide_type": "fragment"
    }
   },
   "source": [
    "- 먼저, 임의의 원소를 갖는 두 개의 리스트를 생성한다.\n",
    "- 인자로 전달하는 리스트 2 개에는 정수값만 들어간다고 가정하자."
   ]
  },
  {
   "cell_type": "code",
   "execution_count": 2,
   "metadata": {
    "slideshow": {
     "slide_type": "slide"
    }
   },
   "outputs": [],
   "source": [
    "def list_union(lista, listb):\n",
    "    '''\n",
    "    함수 내에서 새로운 리스트를 만들어 그 리스트 내에 인자로 받은 두 리스트의 모든 원소를 넣어 반환한다.\n",
    "    반환하는 리스트에는 절대로 중복된 원소가 들어 있으면 안된다 (집합의 조건).\n",
    "    반환하는 리스트는 정렬이 되어 있어야 한다.\n",
    "    '''\n",
    "    union_list = lista+listb \n",
    "    for i in range(len(union_list)):\n",
    "        tmp = union_list[0]\n",
    "        union_list.remove(tmp)\n",
    "        \n",
    "        if tmp in union_list: # 지운 원소가 계속 있는지 검사하는 부분\n",
    "            '''\n",
    "            [참고] 임의의 정수값 (x)이 리스트 (l) 내에 존재하는지 판단하는 방법은 x in l 이다.\n",
    "            '''\n",
    "            pass \n",
    "            '''\n",
    "                pass 문은 아무것도 하지 않는다.\n",
    "                문법적으로 문장이 필요하지만, \n",
    "                프로그램이 특별히 할 일이 없을 때 사용한다.\n",
    "            '''\n",
    "        else:\n",
    "            union_list.append(tmp)\n",
    "            '''\n",
    "            [참고] 리스트(l) 내에 새로운 정수값 (예를 들어 10)을 넣는 방법은 l.append(10) 이다.\n",
    "            '''\n",
    "    #print(\"[INFO] not sorted: {}\".format(union_list))\n",
    "    #print(\"[INFO] sorted: {}\".format(sorted(union_list)))\n",
    "    #union_list.sort()\n",
    "    #union_list = sorted(union_list)\n",
    "    return union_list"
   ]
  },
  {
   "cell_type": "code",
   "execution_count": 17,
   "metadata": {
    "slideshow": {
     "slide_type": "slide"
    }
   },
   "outputs": [
    {
     "name": "stdout",
     "output_type": "stream",
     "text": [
      "[INFO] lista: [1, 2, 2, 3, 3, 3, 4, 4, 4, 4]\n",
      "[INFO] listb: [0, 4, 0, 0, 0, 0, 4, 4, 1, 0]\n"
     ]
    },
    {
     "data": {
      "text/plain": [
       "[2, 3, 4, 1, 0]"
      ]
     },
     "execution_count": 17,
     "metadata": {},
     "output_type": "execute_result"
    }
   ],
   "source": [
    "lista = []\n",
    "for i in range(5):\n",
    "    for j in range(i):\n",
    "        lista.append(i)\n",
    "print(\"[INFO] lista: {}\".format(lista))\n",
    "\n",
    "# https://docs.python.org/3/library/random.html\n",
    "import random\n",
    "\n",
    "listb = []\n",
    "for i in range(10):\n",
    "    listb.append(random.randrange(0,5))\n",
    "print(\"[INFO] listb: {}\".format(listb))\n",
    "list_union(lista, listb)"
   ]
  },
  {
   "cell_type": "code",
   "execution_count": 5,
   "metadata": {
    "slideshow": {
     "slide_type": "slide"
    }
   },
   "outputs": [
    {
     "name": "stdout",
     "output_type": "stream",
     "text": [
      "[1, 1, 1, 2, 3]\n"
     ]
    }
   ],
   "source": [
    "# list.remove()\n",
    "tmp_list = [1,1,1,2,3,3]\n",
    "tmp_list.remove(3)\n",
    "print(tmp_list)\n",
    "# 리스트의 remove 메소드를 이용하면 원소 하나만 지워짐"
   ]
  },
  {
   "cell_type": "code",
   "execution_count": 44,
   "metadata": {
    "slideshow": {
     "slide_type": "slide"
    }
   },
   "outputs": [
    {
     "name": "stdout",
     "output_type": "stream",
     "text": [
      "[INFO] s1: [1, 2, 3, 4, 5]\n",
      "[INFO] s2: None\n"
     ]
    }
   ],
   "source": [
    "# list.sort()와 sorted(list)\n",
    "s1 = [3,4,5,1,2]\n",
    "s2 = s1.sort()\n",
    "print(\"[INFO] s1: {}\".format(s1))\n",
    "print(\"[INFO] s2: {}\".format(s2))"
   ]
  },
  {
   "cell_type": "markdown",
   "metadata": {
    "slideshow": {
     "slide_type": "fragment"
    }
   },
   "source": [
    "- list.sort()는 반환값이 None.\n",
    "- list 자체가 정렬됨\n",
    "- 이렇게 원본이 바뀌는 것을 in-place 방식이라고 한다. "
   ]
  },
  {
   "cell_type": "code",
   "execution_count": 45,
   "metadata": {
    "slideshow": {
     "slide_type": "slide"
    }
   },
   "outputs": [
    {
     "name": "stdout",
     "output_type": "stream",
     "text": [
      "[INFO] s1: [3, 4, 5, 1, 2]\n",
      "[INFO] s2: [1, 2, 3, 4, 5]\n"
     ]
    }
   ],
   "source": [
    "s1 = [3,4,5,1,2]\n",
    "s2 = sorted(s1)\n",
    "print(\"[INFO] s1: {}\".format(s1))\n",
    "print(\"[INFO] s2: {}\".format(s2))"
   ]
  },
  {
   "cell_type": "markdown",
   "metadata": {
    "slideshow": {
     "slide_type": "fragment"
    }
   },
   "source": [
    "- sorted()를 사용하면, 원본인 s1은 정렬되지 않고 보존된다.\n",
    "- 또한, 정렬된 리스트를 반환한다. 즉 리스트의 복사본이 정렬되어 반환된다."
   ]
  },
  {
   "cell_type": "markdown",
   "metadata": {
    "slideshow": {
     "slide_type": "slide"
    }
   },
   "source": [
    "# 과제 2\n",
    "### 문제 1\n",
    "다음 6 개의 Expression에 대해 Evaluation 결과 값을 출력하고, 해당 결과가 나온 이유에 대해 설명하시오.\n",
    "<code>\n",
    "print(1 and 2 and 3 and 4) #1<br>\n",
    "print(1 or 2 or 3 or 4) #2<br>\n",
    "print(1 and 2 or 3 and 4) #3<br>\n",
    "print((1 and 2) or (3 and 4)) #4<br>\n",
    "print(1 or 2 and 3 or 4) #5<br>\n",
    "print((1 or 2) and (3 or 4)) #6<br>\n",
    "</code>\n",
    "<br>\n",
    "4<br>1<br>2<br>2<br>1<br>3"
   ]
  },
  {
   "cell_type": "markdown",
   "metadata": {
    "slideshow": {
     "slide_type": "slide"
    }
   },
   "source": [
    "##### 기본 개념\n",
    "- <b>AND</b> 연산은 두 값의 각 자릿수를 비교해, <u>두 값 모두에 1이 있을 때에만 1</u>을, 나머지 경우에는 0을 계산한다.<br><br>\n",
    "\n",
    "- <b>OR</b> 연산은 두 값의 각 자릿수를 비교해, <u>둘 중 하나라도 1이 있다면 1</u>을, 아니면 0을 계산한다.\n",
    "\n",
    "##### python에서의 and와 or\n",
    "- A and B\n",
    "  - A가 False라면 False를 반환한다. B에 대한 검증은 더이상 필요하지 않으므로 불필요한 연산을 피한다.\n",
    "  - A가 True라면, B에 대한 검증이 필요하므로, B에 대하여 검증한 검증결과가 나온다.\n",
    "- A or B\n",
    "  - A가 True라면, True를 반환한다. B에 대한 검증은 더이상 필요하지 않으므로 불필요한 연산을 피한다.\n",
    "  - A가 False라면, B에 대한 검증이 필요하므로, B에 대하여 검증한 검증결과가 나온다."
   ]
  },
  {
   "cell_type": "code",
   "execution_count": 59,
   "metadata": {
    "slideshow": {
     "slide_type": "slide"
    }
   },
   "outputs": [
    {
     "name": "stdout",
     "output_type": "stream",
     "text": [
      "4\n",
      "True\n",
      "False\n"
     ]
    }
   ],
   "source": [
    "print(1 and 2 and 3 and 4) #1\n",
    "#print((((1 and 2) and 3) and 4))\n",
    "'''\n",
    "a and b 일 때 a가 거짓일 경우: a에 대한 평가결과를 반환\n",
    "a and b 일 때 a가 참일 경우: b에 대한 평가결과를 반환\n",
    "순서대로, \n",
    "1 and 2 에서 1이 참이므로 2에 대한 검증결과인 2, \n",
    "2 and 3 에서 2가 참이므로 3에 대한 검증결과인 3,\n",
    "3 and 4 에서 3이 참이므로 4에 대한 검증결과인 4를 반환\n",
    "최종적으로 4가 출력\n",
    "'''\n",
    "print(True and True and True and True)\n",
    "print(True and True and True and False)"
   ]
  },
  {
   "cell_type": "code",
   "execution_count": 60,
   "metadata": {
    "slideshow": {
     "slide_type": "slide"
    }
   },
   "outputs": [
    {
     "name": "stdout",
     "output_type": "stream",
     "text": [
      "1\n",
      "True\n",
      "True\n"
     ]
    }
   ],
   "source": [
    "print(1 or 2 or 3 or 4) #2\n",
    "#print(1 or 2 or 3 or 4)\n",
    "#print(True or True or True or True)\n",
    "'''\n",
    "a or b 일 때 a가 거짓일 경우: b에 대한 평가결과를 반환\n",
    "a or b 일 때 a가 참일 경우: a에 대한 평가결과를 반환\n",
    "순서대로,\n",
    "1 or 2 에서 1이 참이므로 1에 대한 검증결과인 1을 반환\n",
    "더 이상의 연산은 수행하지 않음.\n",
    "'''\n",
    "print(True or True or True or True)\n",
    "print(True or False or False or False)"
   ]
  },
  {
   "cell_type": "code",
   "execution_count": 66,
   "metadata": {
    "slideshow": {
     "slide_type": "slide"
    }
   },
   "outputs": [
    {
     "name": "stdout",
     "output_type": "stream",
     "text": [
      "2\n",
      "2\n",
      "\n",
      "2\n",
      "2\n"
     ]
    }
   ],
   "source": [
    "print(1 and 2 or 3 and 4) #3\n",
    "print((1 and 2) or (3 and 4)) #4\n",
    "print()\n",
    "'''\n",
    "and와 or 중 연산자 우선순위는 and 있음\n",
    "1 and 2 와 3 and 4를 앞서 연산한 결과, 2와 4가 반환.\n",
    "2 or 4 의 결과, 2를 반환\n",
    "'''\n",
    "#print((((1 and 2) or 3) and 4)) # 연산결과는?\n",
    "print(1 and 2 or False and False)"
   ]
  },
  {
   "cell_type": "code",
   "execution_count": 68,
   "metadata": {
    "slideshow": {
     "slide_type": "fragment"
    }
   },
   "outputs": [
    {
     "name": "stdout",
     "output_type": "stream",
     "text": [
      "2\n",
      "\n"
     ]
    }
   ],
   "source": [
    "print((1 and 2) or (3 and 4)) #4\n",
    "'''\n",
    "괄호가 가장 먼저 연산이 된다.\n",
    "이전과 같은 문제가 된다.\n",
    "'''\n",
    "print()"
   ]
  },
  {
   "cell_type": "code",
   "execution_count": 83,
   "metadata": {
    "slideshow": {
     "slide_type": "slide"
    }
   },
   "outputs": [
    {
     "name": "stdout",
     "output_type": "stream",
     "text": [
      "1\n",
      "1\n",
      "\n",
      "[비교] (1 or (2 and 3) or 4)의 결과: 1\n",
      "[비교] (1 or 2) and (3 or 4)의 결과: 3\n"
     ]
    }
   ],
   "source": [
    "print(1 or 2 and 3 or 4) #5\n",
    "print(1 or (2 and 3) or 4)\n",
    "print()\n",
    "'''\n",
    "and를 우선 시행하므로, 2 and 3의 결과인 3을 반환\n",
    "최종결과 1이 출력\n",
    "'''\n",
    "print(\"[비교] (1 or (2 and 3) or 4)의 결과: {}\".format((1 or (2 and 3) or 4)))\n",
    "print(\"[비교] (1 or 2) and (3 or 4)의 결과: {}\".format((1 or 2) and (3 or 4)))\n"
   ]
  },
  {
   "cell_type": "code",
   "execution_count": 89,
   "metadata": {
    "slideshow": {
     "slide_type": "fragment"
    }
   },
   "outputs": [
    {
     "name": "stdout",
     "output_type": "stream",
     "text": [
      "3\n",
      "\n"
     ]
    }
   ],
   "source": [
    "print((1 or 2) and (3 or 4)) #6\n",
    "'''\n",
    "괄호우선\n",
    "(1 or 2): 1\n",
    "(3 or 4): 3\n",
    "(1 and 3): 3\n",
    "'''\n",
    "print()"
   ]
  },
  {
   "cell_type": "markdown",
   "metadata": {
    "slideshow": {
     "slide_type": "slide"
    }
   },
   "source": [
    "# 과제 1\n",
    "### 문제 3\n",
    "c=\"Hello\"를 \"olleH\"로 변경하시오\n",
    "- [주의] c 변수 자체에 \"olleH\" 문자열이 저장되어야 함"
   ]
  },
  {
   "cell_type": "code",
   "execution_count": 134,
   "metadata": {
    "slideshow": {
     "slide_type": "fragment"
    }
   },
   "outputs": [
    {
     "name": "stdout",
     "output_type": "stream",
     "text": [
      "olleH\n"
     ]
    }
   ],
   "source": [
    "c = \"Hello\"\n",
    "# c = c[::-1]\n",
    "# c = c[5::-1]\n",
    "# c = c[len(c)::-1]\n",
    "print (c)"
   ]
  },
  {
   "cell_type": "code",
   "execution_count": 137,
   "metadata": {
    "slideshow": {
     "slide_type": "fragment"
    }
   },
   "outputs": [
    {
     "name": "stdout",
     "output_type": "stream",
     "text": [
      "Hello[INFO] c_list: ['o', 'l', 'l', 'e', 'H']\n",
      "olleH\n"
     ]
    }
   ],
   "source": [
    "c = \"Hello\"\n",
    "c_list = []\n",
    "for i in range(len(c)):\n",
    "    print(c[i], end=\"\")\n",
    "    c_list.append(c[len(c)-1-i])\n",
    "    \n",
    "print(\"[INFO] c_list: {}\".format(c_list))\n",
    "c = ''.join(c_list)\n",
    "print(c)"
   ]
  },
  {
   "cell_type": "markdown",
   "metadata": {
    "slideshow": {
     "slide_type": "slide"
    }
   },
   "source": [
    "# 과제 1\n",
    "### 문제 4\n",
    "s=\"python\"에 대해 다음 문제를 풀어보시오.\n",
    "- s[0], s[0][0], s[0][0][0]은 각각 어떤 값이 나오는지 확인하고 그 이유를 나름대로 설명해 보시오."
   ]
  },
  {
   "cell_type": "code",
   "execution_count": null,
   "metadata": {
    "slideshow": {
     "slide_type": "fragment"
    }
   },
   "outputs": [],
   "source": [
    "s = \"python\""
   ]
  },
  {
   "cell_type": "code",
   "execution_count": 164,
   "metadata": {
    "slideshow": {
     "slide_type": "fragment"
    }
   },
   "outputs": [
    {
     "data": {
      "text/plain": [
       "'p'"
      ]
     },
     "execution_count": 164,
     "metadata": {},
     "output_type": "execute_result"
    }
   ],
   "source": [
    "s[0]"
   ]
  },
  {
   "cell_type": "code",
   "execution_count": 165,
   "metadata": {
    "slideshow": {
     "slide_type": "fragment"
    }
   },
   "outputs": [
    {
     "data": {
      "text/plain": [
       "'p'"
      ]
     },
     "execution_count": 165,
     "metadata": {},
     "output_type": "execute_result"
    }
   ],
   "source": [
    "s[0][0]"
   ]
  },
  {
   "cell_type": "code",
   "execution_count": 166,
   "metadata": {
    "slideshow": {
     "slide_type": "fragment"
    }
   },
   "outputs": [
    {
     "data": {
      "text/plain": [
       "'p'"
      ]
     },
     "execution_count": 166,
     "metadata": {},
     "output_type": "execute_result"
    }
   ],
   "source": [
    "s[0][0][0]"
   ]
  },
  {
   "cell_type": "code",
   "execution_count": 167,
   "metadata": {
    "slideshow": {
     "slide_type": "fragment"
    }
   },
   "outputs": [
    {
     "data": {
      "text/plain": [
       "'p'"
      ]
     },
     "execution_count": 167,
     "metadata": {},
     "output_type": "execute_result"
    }
   ],
   "source": [
    "s[0][0][0][0][0][0][0][0][0][0][0][0][0][0][0][0][0]"
   ]
  },
  {
   "cell_type": "code",
   "execution_count": 170,
   "metadata": {
    "slideshow": {
     "slide_type": "slide"
    }
   },
   "outputs": [
    {
     "data": {
      "text/plain": [
       "'p'"
      ]
     },
     "execution_count": 170,
     "metadata": {},
     "output_type": "execute_result"
    }
   ],
   "source": [
    "'p'[0]"
   ]
  },
  {
   "cell_type": "code",
   "execution_count": 171,
   "metadata": {
    "slideshow": {
     "slide_type": "fragment"
    }
   },
   "outputs": [
    {
     "data": {
      "text/plain": [
       "True"
      ]
     },
     "execution_count": 171,
     "metadata": {},
     "output_type": "execute_result"
    }
   ],
   "source": [
    "'p'[0] == 'p'"
   ]
  },
  {
   "cell_type": "code",
   "execution_count": 172,
   "metadata": {
    "slideshow": {
     "slide_type": "fragment"
    }
   },
   "outputs": [
    {
     "data": {
      "text/plain": [
       "True"
      ]
     },
     "execution_count": 172,
     "metadata": {},
     "output_type": "execute_result"
    }
   ],
   "source": [
    "'p'[0][0] == 'p'"
   ]
  },
  {
   "cell_type": "code",
   "execution_count": 173,
   "metadata": {
    "slideshow": {
     "slide_type": "fragment"
    }
   },
   "outputs": [
    {
     "data": {
      "text/plain": [
       "True"
      ]
     },
     "execution_count": 173,
     "metadata": {},
     "output_type": "execute_result"
    }
   ],
   "source": [
    "'p'[0][0] is 'p'"
   ]
  },
  {
   "cell_type": "markdown",
   "metadata": {
    "slideshow": {
     "slide_type": "slide"
    }
   },
   "source": [
    "- 문자열 뿐만 아니라 인덱스로 접근 가능한 모든 객체들에 해당되는 사항<br>\n",
    "https://songyunseop.github.io/post/2017/09/python-comparing/\n",
    "- <code>is</code> 는 레퍼런스 체크\n",
    "- <code>==</code> 는 값 체크\n",
    "- 계속 같은 객체를 호출하는 것이기 때문\n",
    "- 2차원 배열, 3차원 배열 이러한 개념이 아님."
   ]
  },
  {
   "cell_type": "code",
   "execution_count": 182,
   "metadata": {
    "slideshow": {
     "slide_type": "slide"
    }
   },
   "outputs": [
    {
     "name": "stdout",
     "output_type": "stream",
     "text": [
      "[INFO] a[0]: p\n",
      "[INFO] id(a[0]): 4456376840\n",
      "[INFO] a[0][0]: p\n",
      "[INFO] id(a[0][0]): 4456376840\n",
      "[INFO] a[0][0][0]: p\n",
      "[INFO] id(a[0][0][0]): 4456376840\n",
      "True\n"
     ]
    }
   ],
   "source": [
    "# 같은 객체를 참조한다는 근거\n",
    "a = \"python\"\n",
    "print(\"[INFO] a[0]: {}\".format(a[0]))\n",
    "print(\"[INFO] id(a[0]): {}\".format(id(a[0])))\n",
    "print(\"[INFO] a[0][0]: {}\".format(a[0][0]))\n",
    "print(\"[INFO] id(a[0][0]): {}\".format(id(a[0][0])))\n",
    "print(\"[INFO] a[0][0][0]: {}\".format(a[0][0][0]))\n",
    "print(\"[INFO] id(a[0][0][0]): {}\".format(id(a[0][0][0])))\n",
    "print(id(a[0]) == id(a[0][0]) == id(a[0][0][0]))"
   ]
  },
  {
   "cell_type": "code",
   "execution_count": 183,
   "metadata": {
    "slideshow": {
     "slide_type": "slide"
    }
   },
   "outputs": [
    {
     "name": "stdout",
     "output_type": "stream",
     "text": [
      "[INFO] b[0]: p\n",
      "[INFO] id(b[0]): 4456376840\n",
      "[INFO] b[0][0]: p\n",
      "[INFO] id(b[0][0]): 4456376840\n",
      "[INFO] b[0][0][0]: p\n",
      "[INFO] id(b[0][0][0]): 4456376840\n",
      "True\n"
     ]
    }
   ],
   "source": [
    "# 문자열 뿐만 아니라 모든 참조가능한 객체에 대해 해당하는 사항; list\n",
    "b = [\"p\", \"y\", \"t\", \"h\", \"o\", \"n\"]\n",
    "print(\"[INFO] b[0]: {}\".format(b[0]))\n",
    "print(\"[INFO] id(b[0]): {}\".format(id(b[0])))\n",
    "print(\"[INFO] b[0][0]: {}\".format(b[0][0]))\n",
    "print(\"[INFO] id(b[0][0]): {}\".format(id(b[0][0])))\n",
    "print(\"[INFO] b[0][0][0]: {}\".format(b[0][0][0]))\n",
    "print(\"[INFO] id(b[0][0][0]): {}\".format(id(b[0][0][0])))\n",
    "print(id(b[0]) == id(b[0][0]) == id(b[0][0][0]))\n",
    "# 문자열 뿐만 아니라 모든 참조가능한 객체에 대해 해당하는 사항; tuple\n",
    "c = (\"p\", \"y\", \"t\", \"h\", \"o\", \"n\")\n",
    "print(\"[INFO] b[0]: {}\".format(b[0]))\n",
    "print(\"[INFO] id(b[0]): {}\".format(id(b[0])))\n",
    "print(\"[INFO] b[0][0]: {}\".format(b[0][0]))\n",
    "print(\"[INFO] id(b[0][0]): {}\".format(id(b[0][0])))\n",
    "print(\"[INFO] b[0][0][0]: {}\".format(b[0][0][0]))\n",
    "print(\"[INFO] id(b[0][0][0]): {}\".format(id(b[0][0][0])))\n",
    "print(id(b[0]) == id(b[0][0]) == id(b[0][0][0]))"
   ]
  },
  {
   "cell_type": "markdown",
   "metadata": {
    "slideshow": {
     "slide_type": "slide"
    }
   },
   "source": [
    "# 과제 2\n",
    "### 문제 2\n",
    "2) 경로에 해당하는 문자열 1개를 입력 받아 그 안에 디렉토리 경로명과 파일명을 분리하여 리스트로 반환하는 함수 div_path(s)를 작성하시오.\n",
    "\n",
    "- 인자로 전달하는 문자열은 경로만 들어간다고 가정한다.\n",
    "- 각 디렉토리와 파일을 구분하는 문자는 '/'로 가정한다.\n",
    "- 반환하는 리스트의 첫번째 원소는 디렉토리이고 두번째 원소는 파일명이다.\n",
    "- 다음과 같은 실행 및 출력 결과가 도출되어야 한다.\n",
    "  - div_path('/usr/local/bin/python')\n",
    "    - ['/usr/local/bin', 'python']\n",
    "  - div_path('/home/chulsoo/test.txt')\n",
    "    - ['/home/chulsoo', 'test.txt']\n",
    "- [참고] 리스트(l) 내에 새로운 정수값 (예를 들어 10)을 넣는 방법은 l.append(10) 이다."
   ]
  },
  {
   "cell_type": "code",
   "execution_count": 200,
   "metadata": {
    "slideshow": {
     "slide_type": "slide"
    }
   },
   "outputs": [],
   "source": [
    "path = '/usr/local/bin/python.py'"
   ]
  },
  {
   "cell_type": "code",
   "execution_count": 201,
   "metadata": {
    "slideshow": {
     "slide_type": "fragment"
    }
   },
   "outputs": [],
   "source": [
    "path_list = path.split('/')"
   ]
  },
  {
   "cell_type": "code",
   "execution_count": 202,
   "metadata": {
    "slideshow": {
     "slide_type": "fragment"
    }
   },
   "outputs": [
    {
     "data": {
      "text/plain": [
       "['', 'usr', 'local', 'bin', 'python.py']"
      ]
     },
     "execution_count": 202,
     "metadata": {},
     "output_type": "execute_result"
    }
   ],
   "source": [
    "path_list"
   ]
  },
  {
   "cell_type": "code",
   "execution_count": 203,
   "metadata": {
    "slideshow": {
     "slide_type": "fragment"
    }
   },
   "outputs": [
    {
     "data": {
      "text/plain": [
       "'python.py'"
      ]
     },
     "execution_count": 203,
     "metadata": {},
     "output_type": "execute_result"
    }
   ],
   "source": [
    "file_name = path_list[-1]\n",
    "file_name"
   ]
  },
  {
   "cell_type": "code",
   "execution_count": 204,
   "metadata": {
    "slideshow": {
     "slide_type": "fragment"
    }
   },
   "outputs": [],
   "source": [
    "path_list.remove(file_name)"
   ]
  },
  {
   "cell_type": "code",
   "execution_count": 206,
   "metadata": {
    "slideshow": {
     "slide_type": "fragment"
    }
   },
   "outputs": [
    {
     "data": {
      "text/plain": [
       "['', 'usr', 'local', 'bin']"
      ]
     },
     "execution_count": 206,
     "metadata": {},
     "output_type": "execute_result"
    }
   ],
   "source": [
    "path_list"
   ]
  },
  {
   "cell_type": "code",
   "execution_count": 207,
   "metadata": {
    "slideshow": {
     "slide_type": "fragment"
    }
   },
   "outputs": [
    {
     "data": {
      "text/plain": [
       "'/usr/local/bin'"
      ]
     },
     "execution_count": 207,
     "metadata": {},
     "output_type": "execute_result"
    }
   ],
   "source": [
    "directory = '/'.join(path_list)\n",
    "directory"
   ]
  },
  {
   "cell_type": "code",
   "execution_count": 210,
   "metadata": {
    "slideshow": {
     "slide_type": "fragment"
    }
   },
   "outputs": [
    {
     "data": {
      "text/plain": [
       "['/usr/local/bin', 'python.py']"
      ]
     },
     "execution_count": 210,
     "metadata": {},
     "output_type": "execute_result"
    }
   ],
   "source": [
    "result = [directory, file_name]\n",
    "result"
   ]
  },
  {
   "cell_type": "code",
   "execution_count": 214,
   "metadata": {
    "slideshow": {
     "slide_type": "slide"
    }
   },
   "outputs": [
    {
     "name": "stdout",
     "output_type": "stream",
     "text": [
      "enter only path: /usr/local/bin/python.py\n",
      "['/usr/local/bin', 'python.py']\n"
     ]
    }
   ],
   "source": [
    "path = input('enter only path: ')\n",
    "# path = '/usr/local/bin/python.py'\n",
    "result = []\n",
    "\n",
    "def div_path(path_string):\n",
    "    global result\n",
    "    path_list = path_string.split('/')\n",
    "    '''각 디렉토리와 파일을 구분하는 문자는 '/'로 가정한다.'''\n",
    "#     print(\"[INFO] path_list: {}\".format(path_list))\n",
    "    file_name = path_list[-1]\n",
    "#     print(\"[INFO] file_name: {}\".format(file_name))\n",
    "    path_list.remove(file_name)\n",
    "#     print(\"[INFO] path_list: {}\".format(path_list))\n",
    "    directory = '/'.join(path_list)\n",
    "#     print(\"[INFO] directory: {}\".format(directory))\n",
    "#     result = [directory, file_name]\n",
    "    result.append(directory)\n",
    "    result.append(file_name)\n",
    "    '''\n",
    "    반환하는 리스트의 첫번째 원소는 디렉토리이고 두번째 원소는 파일명이다.\n",
    "    [참고] 리스트(l) 내에 새로운 정수값 (예를 들어 10)을 넣는 방법은 l.append(10) 이다.\n",
    "    '''\n",
    "#     print(\"[INFO] result: {}\".format(result))  \n",
    "    return result\n",
    "div_path(path)\n",
    "print(result)"
   ]
  },
  {
   "cell_type": "markdown",
   "metadata": {
    "slideshow": {
     "slide_type": "slide"
    }
   },
   "source": [
    "# 과제 2\n",
    "### Incremental Project\n",
    "1) 웹 URL로 지정된 웹페이지를 문자열로 가져온다.\n",
    "2) 모든 HTML 태그를 제외한다. 오로지 순수한 텍스트 문자열만 추출한다.\n",
    "  - HTML 태그의 조건\n",
    "    - < 로 시작하여 >로 끝난다.\n",
    "      - <label for=\"keep_signed\">로그인 유지</label>\n",
    "      - 위 소스에서 HTML 태그를 제외한 순수 텍스트 문자열은 <b>로그인 유지</b>이다.\n",
    "3) 단어가 총 몇개인지 출력한다.\n",
    "  - 단어를 나누는 기준은 오로지 공백문자(whitespace)이다.\n",
    "    - 즉, \"로그인 유지\"에서 분리한 단어는 \"로그인\"과 \"유지\"이다.\n",
    "  - 중복을 고려하지 않고 무조건 모든 단어의 개수를 세어서 출력한다.\n"
   ]
  },
  {
   "cell_type": "code",
   "execution_count": 8,
   "metadata": {
    "slideshow": {
     "slide_type": "slide"
    }
   },
   "outputs": [],
   "source": [
    "import requests\n",
    "req = requests.get('http://cse.koreatech.ac.kr')\n",
    "source = req.text"
   ]
  },
  {
   "cell_type": "code",
   "execution_count": 9,
   "metadata": {
    "slideshow": {
     "slide_type": "fragment"
    }
   },
   "outputs": [
    {
     "data": {
      "text/plain": [
       "34509"
      ]
     },
     "execution_count": 9,
     "metadata": {},
     "output_type": "execute_result"
    }
   ],
   "source": [
    "'''\n",
    "source의 길이를 살펴본다.\n",
    "'''\n",
    "len(source)"
   ]
  },
  {
   "cell_type": "code",
   "execution_count": 10,
   "metadata": {
    "slideshow": {
     "slide_type": "fragment"
    }
   },
   "outputs": [
    {
     "name": "stdout",
     "output_type": "stream",
     "text": [
      "14\n",
      "-1\n",
      "14\n"
     ]
    }
   ],
   "source": [
    "# str.find()메소드를 이용하면, 파라미터 문자열의 인덱스 반환 가능\n",
    "a = \"Python is the best choice\"\n",
    "print(a.find('b'))\n",
    "print(a.find('k'))\n",
    "print(a.find('best'))"
   ]
  },
  {
   "cell_type": "markdown",
   "metadata": {
    "slideshow": {
     "slide_type": "slide"
    }
   },
   "source": [
    "<img src=\"./img/0ED73AAF-6CAB-40B7-A848-EEF0144A0898.png\" width=1000/>"
   ]
  },
  {
   "cell_type": "code",
   "execution_count": 18,
   "metadata": {
    "slideshow": {
     "slide_type": "slide"
    }
   },
   "outputs": [
    {
     "data": {
      "text/plain": [
       "'\\nsource 내용은 어떠한가\\n무얼 없애야 할 것인가\\n'"
      ]
     },
     "execution_count": 18,
     "metadata": {},
     "output_type": "execute_result"
    }
   ],
   "source": [
    "'''\n",
    "source 내용은 어떠한가\n",
    "무얼 없애야 할 것인가\n",
    "'''\n",
    "#source"
   ]
  },
  {
   "cell_type": "code",
   "execution_count": 19,
   "metadata": {
    "slideshow": {
     "slide_type": "fragment"
    }
   },
   "outputs": [],
   "source": [
    "text = \"\"\n",
    "def extractLetter(source):\n",
    "    global text\n",
    "    while True:\n",
    "        source = source[source.find('>')+1:] # source 업데이트\n",
    "        for letter in source :\n",
    "            if letter == '<':\n",
    "                break\n",
    "            else: \n",
    "                text = text + letter\n",
    "        if(source.find('>') == -1):\n",
    "            break # while문 무한루프 종료 조건: '>' 문자가 더 이상 없는 경우\n",
    "extractLetter(source)\n",
    "# print(text)   "
   ]
  },
  {
   "cell_type": "markdown",
   "metadata": {
    "slideshow": {
     "slide_type": "fragment"
    }
   },
   "source": [
    "<img src=\"./img/B79E52F3-68CB-4763-9B31-3C875205582C.png\"/>"
   ]
  },
  {
   "cell_type": "code",
   "execution_count": 20,
   "metadata": {
    "slideshow": {
     "slide_type": "slide"
    }
   },
   "outputs": [],
   "source": [
    "def advancedExtractLetter(source):\n",
    "    text = ''\n",
    "    while True:\n",
    "        source_original = source[:source.find('var')]\n",
    "        source = source[source.find(';')+1:]\n",
    "        for idx, letter in enumerate(source) :\n",
    "            if letter == 'v' and source[idx+1] == 'a' and source[idx+2] == 'r':\n",
    "                break\n",
    "            else: \n",
    "                text = text + source_original + letter\n",
    "        if(source.find(';') == -1):\n",
    "            break # 무한루프 종료 조건: '>' 문자가 더 이상 없는 경우\n",
    "    return text\n",
    "text_2 = advancedExtractLetter(text)\n",
    "# print(text_2)"
   ]
  },
  {
   "cell_type": "code",
   "execution_count": 15,
   "metadata": {
    "slideshow": {
     "slide_type": "fragment"
    }
   },
   "outputs": [],
   "source": [
    "result = text_2.split()"
   ]
  },
  {
   "cell_type": "code",
   "execution_count": 25,
   "metadata": {
    "slideshow": {
     "slide_type": "fragment"
    }
   },
   "outputs": [],
   "source": [
    "# result"
   ]
  },
  {
   "cell_type": "markdown",
   "metadata": {
    "slideshow": {
     "slide_type": "fragment"
    }
   },
   "source": [
    "<img src=\"./img/8B12E11D-9935-4E06-97CB-38CA43452570.png\" width=300/>"
   ]
  },
  {
   "cell_type": "code",
   "execution_count": 27,
   "metadata": {
    "slideshow": {
     "slide_type": "slide"
    }
   },
   "outputs": [],
   "source": [
    "for item in result:\n",
    "    if item == \"-->\" or item == \"//\" or item == \"<--\":\n",
    "        result.remove(item)"
   ]
  },
  {
   "cell_type": "code",
   "execution_count": 28,
   "metadata": {
    "slideshow": {
     "slide_type": "fragment"
    }
   },
   "outputs": [
    {
     "name": "stdout",
     "output_type": "stream",
     "text": [
      "461\n"
     ]
    }
   ],
   "source": [
    "print(len(result))"
   ]
  },
  {
   "cell_type": "code",
   "execution_count": 30,
   "metadata": {
    "slideshow": {
     "slide_type": "fragment"
    }
   },
   "outputs": [],
   "source": [
    "# result"
   ]
  },
  {
   "cell_type": "markdown",
   "metadata": {
    "slideshow": {
     "slide_type": "fragment"
    }
   },
   "source": [
    "<img src=\"./img/0B07EC1A-13B0-4B7C-80DE-BDF81DA0CBC7.png\" width=300/>"
   ]
  },
  {
   "cell_type": "code",
   "execution_count": null,
   "metadata": {
    "slideshow": {
     "slide_type": "slide"
    }
   },
   "outputs": [],
   "source": [
    "import requests\n",
    "url = 'http://cse.koreatech.ac.kr'\n",
    "result = IncrementalProject(url)\n",
    "# print(result)\n",
    "print(len(result))"
   ]
  },
  {
   "cell_type": "code",
   "execution_count": null,
   "metadata": {
    "slideshow": {
     "slide_type": "fragment"
    }
   },
   "outputs": [],
   "source": [
    "def IncrementalProject(url):\n",
    "    source = LoadPage(url)\n",
    "    result = extractLetter(source).split()\n",
    "    for item in result:\n",
    "        if item == \"-->\" or item == \"//\" or item == \"<--\":\n",
    "            result.remove(item)\n",
    "    return result"
   ]
  },
  {
   "cell_type": "code",
   "execution_count": 33,
   "metadata": {
    "slideshow": {
     "slide_type": "fragment"
    }
   },
   "outputs": [],
   "source": [
    "def LoadPage(url):\n",
    "    req = requests.get(url)\n",
    "    source = req.text\n",
    "    return source"
   ]
  },
  {
   "cell_type": "code",
   "execution_count": null,
   "metadata": {
    "slideshow": {
     "slide_type": "slide"
    }
   },
   "outputs": [],
   "source": [
    "def extractLetter(source):\n",
    "    text = ''\n",
    "    while True:\n",
    "        source = source[source.find('>')+1:] # source 업데이트\n",
    "        for letter in source :\n",
    "            if letter == '<':\n",
    "                break\n",
    "            else: \n",
    "                text = text + letter\n",
    "        if(source.find('>') == -1):\n",
    "            break # while문 무한루프 종료 조건: '>' 문자가 더 이상 없는 경우\n",
    "    text = advancedExtractLetter(text)\n",
    "    return text"
   ]
  },
  {
   "cell_type": "code",
   "execution_count": 34,
   "metadata": {
    "slideshow": {
     "slide_type": "fragment"
    }
   },
   "outputs": [],
   "source": [
    "def advancedExtractLetter(source):\n",
    "    text = ''\n",
    "    buffer = ''\n",
    "    while True:\n",
    "        source_original = source[:source.find('var')]\n",
    "        source = source[source.find(';')+1:]\n",
    "        for idx, letter in enumerate(source) :\n",
    "            if letter == 'v' and source[idx+1] == 'a' and source[idx+2] == 'r':\n",
    "                break\n",
    "            else: \n",
    "                text = text + source_original + letter\n",
    "        if(source.find(';') == -1):\n",
    "            break # 무한루프 종료 조건: '>' 문자가 더 이상 없는 경우\n",
    "    return text"
   ]
  },
  {
   "cell_type": "code",
   "execution_count": 31,
   "metadata": {
    "slideshow": {
     "slide_type": "fragment"
    }
   },
   "outputs": [],
   "source": [
    "# result"
   ]
  }
 ],
 "metadata": {
  "celltoolbar": "Slideshow",
  "kernelspec": {
   "display_name": "Python 3",
   "language": "python",
   "name": "python3"
  },
  "language_info": {
   "codemirror_mode": {
    "name": "ipython",
    "version": 3
   },
   "file_extension": ".py",
   "mimetype": "text/x-python",
   "name": "python",
   "nbconvert_exporter": "python",
   "pygments_lexer": "ipython3",
   "version": "3.6.5"
  }
 },
 "nbformat": 4,
 "nbformat_minor": 2
}
