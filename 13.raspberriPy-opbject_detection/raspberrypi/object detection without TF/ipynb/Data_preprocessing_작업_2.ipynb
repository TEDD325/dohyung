{
 "cells": [
  {
   "cell_type": "code",
   "execution_count": 3,
   "metadata": {
    "collapsed": true
   },
   "outputs": [],
   "source": [
    "import numpy as np"
   ]
  },
  {
   "cell_type": "code",
   "execution_count": 7,
   "metadata": {},
   "outputs": [
    {
     "name": "stdout",
     "output_type": "stream",
     "text": [
      "<class '_io.BufferedReader'>\n",
      "[  0   1   0 ...,  15 255 217]\n",
      "<class 'numpy.ndarray'>\n",
      "(38044,)\n"
     ]
    }
   ],
   "source": [
    "f = open(\"image.jpg\", 'rb')\n",
    "print(type(f))\n",
    "data = np.frombuffer(f.read(), np.uint8, offset=16)\n",
    "print(data)\n",
    "print(type(data))\n",
    "print(data.shape)\n",
    "f.close()"
   ]
  },
  {
   "cell_type": "code",
   "execution_count": null,
   "metadata": {
    "collapsed": true
   },
   "outputs": [],
   "source": []
  },
  {
   "cell_type": "code",
   "execution_count": 9,
   "metadata": {},
   "outputs": [
    {
     "ename": "TypeError",
     "evalue": "descriptor 'tofile' requires a 'numpy.ndarray' object but received a 'str'",
     "output_type": "error",
     "traceback": [
      "\u001b[0;31m---------------------------------------------------------------------------\u001b[0m",
      "\u001b[0;31mTypeError\u001b[0m                                 Traceback (most recent call last)",
      "\u001b[0;32m<ipython-input-9-97ceb5c9f4c3>\u001b[0m in \u001b[0;36m<module>\u001b[0;34m()\u001b[0m\n\u001b[0;32m----> 1\u001b[0;31m \u001b[0mnp\u001b[0m\u001b[0;34m.\u001b[0m\u001b[0mndarray\u001b[0m\u001b[0;34m.\u001b[0m\u001b[0mtofile\u001b[0m\u001b[0;34m(\u001b[0m\u001b[0;34m\"image.jpg\"\u001b[0m\u001b[0;34m)\u001b[0m\u001b[0;34m\u001b[0m\u001b[0m\n\u001b[0m",
      "\u001b[0;31mTypeError\u001b[0m: descriptor 'tofile' requires a 'numpy.ndarray' object but received a 'str'"
     ]
    }
   ],
   "source": [
    "np.ndarray.tofile(\"image.jpg\")"
   ]
  },
  {
   "cell_type": "code",
   "execution_count": 11,
   "metadata": {},
   "outputs": [
    {
     "data": {
      "text/plain": [
       "array([[147, 146, 145, ...,  94,  95,  94],\n",
       "       [148, 147, 146, ...,  93,  95,  95],\n",
       "       [150, 148, 148, ...,  94,  95,  94],\n",
       "       ..., \n",
       "       [104, 105, 106, ...,  84,  84,  85],\n",
       "       [104, 105, 107, ...,  83,  83,  83],\n",
       "       [108, 107, 108, ...,  84,  84,  84]], dtype=uint8)"
      ]
     },
     "execution_count": 11,
     "metadata": {},
     "output_type": "execute_result"
    }
   ],
   "source": [
    "import numpy as np\n",
    "from PIL import Image\n",
    "foo = Image.open(\"image.jpg\")\n",
    "foo = foo.resize((299, 299), Image.ANTIALIAS)\n",
    "np.array(foo.convert(\"L\")) # numpy array 완성"
   ]
  },
  {
   "cell_type": "code",
   "execution_count": null,
   "metadata": {
    "collapsed": true
   },
   "outputs": [],
   "source": []
  },
  {
   "cell_type": "code",
   "execution_count": 25,
   "metadata": {
    "collapsed": true
   },
   "outputs": [],
   "source": [
    "import os\n",
    "import tensorflow as tf\n",
    "import numpy as np\n",
    "import matplotlib.pyplot as plt # 변환된 이미지를 확인하기 위해 import 합니다\n",
    "import random\n",
    "FLAGS = tf.app.flags.FLAGS # 프로젝트 전역으로 변수를 공유합니다\n",
    "FLAGS.width = 256\n",
    "FLAGS.height = 256\n",
    "FLAGS.depth = 3\n",
    "batch_index = 0\n",
    "FLAGS.num_class = 3\n",
    "FLAGS.data_dir = './RP_data_2'\n",
    "filenames = []\n",
    "def get_filenames(data_set): # 하위 디렉토리를 돌면서 파일 이름을 가져옵니다\n",
    "    global filenames\n",
    "    labels = []\n",
    "    with open(FLAGS.data_dir + '/labels.txt') as f:\n",
    "        for line in f: # 파일에서 라인 읽어오는 부분\n",
    "            inner_list = [elt.strip() for elt in line.split(',')]\n",
    "            labels += inner_list # label을 리스트에 넣어줍니다\n",
    "\n",
    "    for i, label in enumerate(labels): # label 디렉토리 안에 파일들을 검색해서 리스트에 넣어줍니다\n",
    "        list = os.listdir(FLAGS.data_dir  + '/' + data_set + '/' + label)\n",
    "        for filename in list:\n",
    "            # 파일 이름과 label에 해당하는 번호를 묶어서 리스트에 추가합니다\n",
    "            filenames.append([label + '/' + filename, i]) \n",
    "\n",
    "    random.shuffle(filenames) # 파일이름, label 쌍으로 되어있는 리스트를 섞어줍니다\n",
    "\n",
    "def get_data_jpeg(sess, data_set, batch_size):\n",
    "    global batch_index, filenames\n",
    "\n",
    "    if len(filenames) == 0: get_filenames(data_set) # 파일 이름들을 읽어오지 않았다면 읽어옵니다\n",
    "    max = len(filenames)\n",
    "    # 현재 index 부터 batch_size 만큼 읽어오기 위해 범위를 정해줍니다\n",
    "    begin = batch_index\n",
    "    end = batch_index + batch_size\n",
    "\n",
    "    if end >= max: # 범위가 넘어가면 index를 다시 0으로 설정합니다\n",
    "        end = max\n",
    "        batch_index = 0\n",
    "\n",
    "    x_data = np.array([])\n",
    "    y_data = np.zeros((batch_size, FLAGS.num_class)) # one hot encoding을 위해 0으로 채워진 리스트를 만듭니다\n",
    "    index = 0\n",
    "\n",
    "    for i in range(begin, end):\n",
    "        # 파일을 얽어옵니다\n",
    "        with tf.gfile.FastGFile(FLAGS.data_dir + '/' + data_set + '/' + filenames[i][0], 'rb') as f:\n",
    "            image_data = f.read()\n",
    "        # JPEG 이미지이므로 decoding을 해야 합니다\n",
    "        decode_image = tf.image.decode_jpeg(image_data, channels=FLAGS.depth)\n",
    "        # model에 맞추기 위해 resize 합니다. method=1 일때만 동작합니다. \n",
    "        # 다른건 왜 안되는지 잘 모르겠습니다. 아시는 분은 답글 부탁드립니다 \n",
    "        resized_image = tf.image.resize_images(decode_image, FLAGS.height, FLAGS.width, method=1) \n",
    "        image = sess.run(resized_image) # 위에서 만든 operation을 실행합니다\n",
    "        # string 형식의 데이터를 Tensorflow에 입력하기 위해 array로 바꿔줍니다. \n",
    "        # 반드시 float 타입이어야 하며 255로 나누어서 nomalize 해줘야 합니다. \n",
    "        # 안나누고 그냥 하면 cross entropy가 계속 nan으로 나옵니다\n",
    "        x_data = np.append(x_data, np.asarray(image.data, dtype='float32')) / 255 \n",
    "        y_data[index][filenames[i][1]] = 1 # label에 해당하는 column을 1로 설정합니다 (one hot encoding)\n",
    "        index += 1\n",
    "\n",
    "        # 변환된 이미지를 확인하려면 아래 주석을 해제하세요\n",
    "        # print image.shape, len(image.data)\n",
    "        # im = np.reshape(image.data, (256, 256, 3))\n",
    "        # plt.imshow(im)\n",
    "        # plt.show()\n",
    "\n",
    "    batch_index += batch_size # 다음 batch를 위해 index를 갱신합니다\n",
    "    try:\n",
    "        # 깨진 JPEG 이미지는 여기서 exception이 발생합니다\n",
    "        # Tensorflow에 넣기 위해 2D로 shape을 변경합니다\n",
    "        x_data = x_data.reshape(batch_size, FLAGS.height * FLAGS.width * FLAGS.depth)\n",
    "    except:\n",
    "        return None, None\n",
    "\n",
    "    return x_data, y_data\n",
    "\n"
   ]
  },
  {
   "cell_type": "code",
   "execution_count": 26,
   "metadata": {},
   "outputs": [
    {
     "ename": "ValueError",
     "evalue": "'size' must be a 1-D Tensor of 2 elements: new_height, new_width",
     "output_type": "error",
     "traceback": [
      "\u001b[0;31m---------------------------------------------------------------------------\u001b[0m",
      "\u001b[0;31mValueError\u001b[0m                                Traceback (most recent call last)",
      "\u001b[0;32m<ipython-input-26-27eceb13d61e>\u001b[0m in \u001b[0;36m<module>\u001b[0;34m()\u001b[0m\n\u001b[1;32m      1\u001b[0m \u001b[0;32mwith\u001b[0m \u001b[0mtf\u001b[0m\u001b[0;34m.\u001b[0m\u001b[0mSession\u001b[0m\u001b[0;34m(\u001b[0m\u001b[0;34m)\u001b[0m \u001b[0;32mas\u001b[0m \u001b[0msess\u001b[0m\u001b[0;34m:\u001b[0m\u001b[0;34m\u001b[0m\u001b[0m\n\u001b[0;32m----> 2\u001b[0;31m     \u001b[0mget_data_jpeg\u001b[0m\u001b[0;34m(\u001b[0m\u001b[0msess\u001b[0m\u001b[0;34m,\u001b[0m \u001b[0;34m'train'\u001b[0m\u001b[0;34m,\u001b[0m \u001b[0;36m1\u001b[0m\u001b[0;34m)\u001b[0m\u001b[0;34m\u001b[0m\u001b[0m\n\u001b[0m",
      "\u001b[0;32m<ipython-input-25-5191a29cded7>\u001b[0m in \u001b[0;36mget_data_jpeg\u001b[0;34m(sess, data_set, batch_size)\u001b[0m\n\u001b[1;32m     53\u001b[0m         \u001b[0;31m# model에 맞추기 위해 resize 합니다. method=1 일때만 동작합니다.\u001b[0m\u001b[0;34m\u001b[0m\u001b[0;34m\u001b[0m\u001b[0m\n\u001b[1;32m     54\u001b[0m         \u001b[0;31m# 다른건 왜 안되는지 잘 모르겠습니다. 아시는 분은 답글 부탁드립니다\u001b[0m\u001b[0;34m\u001b[0m\u001b[0;34m\u001b[0m\u001b[0m\n\u001b[0;32m---> 55\u001b[0;31m         \u001b[0mresized_image\u001b[0m \u001b[0;34m=\u001b[0m \u001b[0mtf\u001b[0m\u001b[0;34m.\u001b[0m\u001b[0mimage\u001b[0m\u001b[0;34m.\u001b[0m\u001b[0mresize_images\u001b[0m\u001b[0;34m(\u001b[0m\u001b[0mdecode_image\u001b[0m\u001b[0;34m,\u001b[0m \u001b[0mFLAGS\u001b[0m\u001b[0;34m.\u001b[0m\u001b[0mheight\u001b[0m\u001b[0;34m*\u001b[0m \u001b[0mFLAGS\u001b[0m\u001b[0;34m.\u001b[0m\u001b[0mwidth\u001b[0m\u001b[0;34m)\u001b[0m\u001b[0;34m\u001b[0m\u001b[0m\n\u001b[0m\u001b[1;32m     56\u001b[0m         \u001b[0mimage\u001b[0m \u001b[0;34m=\u001b[0m \u001b[0msess\u001b[0m\u001b[0;34m.\u001b[0m\u001b[0mrun\u001b[0m\u001b[0;34m(\u001b[0m\u001b[0mresized_image\u001b[0m\u001b[0;34m)\u001b[0m \u001b[0;31m# 위에서 만든 operation을 실행합니다\u001b[0m\u001b[0;34m\u001b[0m\u001b[0m\n\u001b[1;32m     57\u001b[0m         \u001b[0;31m# string 형식의 데이터를 Tensorflow에 입력하기 위해 array로 바꿔줍니다.\u001b[0m\u001b[0;34m\u001b[0m\u001b[0;34m\u001b[0m\u001b[0m\n",
      "\u001b[0;32m/Users/do-hyungkwon/anaconda/lib/python3.6/site-packages/tensorflow/python/ops/image_ops_impl.py\u001b[0m in \u001b[0;36mresize_images\u001b[0;34m(images, size, method, align_corners)\u001b[0m\n\u001b[1;32m    746\u001b[0m     \u001b[0;32mraise\u001b[0m \u001b[0mValueError\u001b[0m\u001b[0;34m(\u001b[0m\u001b[0;34m'\\'size\\' must be a 1-D int32 Tensor'\u001b[0m\u001b[0;34m)\u001b[0m\u001b[0;34m\u001b[0m\u001b[0m\n\u001b[1;32m    747\u001b[0m   \u001b[0;32mif\u001b[0m \u001b[0;32mnot\u001b[0m \u001b[0msize\u001b[0m\u001b[0;34m.\u001b[0m\u001b[0mget_shape\u001b[0m\u001b[0;34m(\u001b[0m\u001b[0;34m)\u001b[0m\u001b[0;34m.\u001b[0m\u001b[0mis_compatible_with\u001b[0m\u001b[0;34m(\u001b[0m\u001b[0;34m[\u001b[0m\u001b[0;36m2\u001b[0m\u001b[0;34m]\u001b[0m\u001b[0;34m)\u001b[0m\u001b[0;34m:\u001b[0m\u001b[0;34m\u001b[0m\u001b[0m\n\u001b[0;32m--> 748\u001b[0;31m     raise ValueError('\\'size\\' must be a 1-D Tensor of 2 elements: '\n\u001b[0m\u001b[1;32m    749\u001b[0m                      'new_height, new_width')\n\u001b[1;32m    750\u001b[0m   \u001b[0msize_const_as_shape\u001b[0m \u001b[0;34m=\u001b[0m \u001b[0mtensor_util\u001b[0m\u001b[0;34m.\u001b[0m\u001b[0mconstant_value_as_shape\u001b[0m\u001b[0;34m(\u001b[0m\u001b[0msize\u001b[0m\u001b[0;34m)\u001b[0m\u001b[0;34m\u001b[0m\u001b[0m\n",
      "\u001b[0;31mValueError\u001b[0m: 'size' must be a 1-D Tensor of 2 elements: new_height, new_width"
     ]
    }
   ],
   "source": [
    "with tf.Session() as sess:\n",
    "    get_data_jpeg(sess, 'train', 1)"
   ]
  },
  {
   "cell_type": "code",
   "execution_count": null,
   "metadata": {
    "collapsed": true
   },
   "outputs": [],
   "source": []
  },
  {
   "cell_type": "code",
   "execution_count": 27,
   "metadata": {
    "collapsed": true
   },
   "outputs": [],
   "source": [
    "red = tf.constant([255,0,0])"
   ]
  },
  {
   "cell_type": "code",
   "execution_count": 28,
   "metadata": {
    "collapsed": true
   },
   "outputs": [],
   "source": [
    "image_filename=\"./test-input-image-large.jpg\""
   ]
  },
  {
   "cell_type": "code",
   "execution_count": 29,
   "metadata": {
    "collapsed": true
   },
   "outputs": [],
   "source": [
    "filename_queue = tf.train.string_input_producer(tf.train.match_filenames_once(image_filename))"
   ]
  },
  {
   "cell_type": "code",
   "execution_count": 30,
   "metadata": {},
   "outputs": [
    {
     "data": {
      "text/plain": [
       "<tensorflow.python.ops.data_flow_ops.FIFOQueue at 0x1218235f8>"
      ]
     },
     "execution_count": 30,
     "metadata": {},
     "output_type": "execute_result"
    }
   ],
   "source": [
    "filename_queue"
   ]
  },
  {
   "cell_type": "code",
   "execution_count": 36,
   "metadata": {},
   "outputs": [
    {
     "name": "stdout",
     "output_type": "stream",
     "text": [
      "<class 'tensorflow.python.ops.data_flow_ops.FIFOQueue'>\n"
     ]
    }
   ],
   "source": [
    "print(type(filename_queue))"
   ]
  },
  {
   "cell_type": "code",
   "execution_count": 37,
   "metadata": {
    "collapsed": true
   },
   "outputs": [],
   "source": [
    "image_reader = tf.WholeFileReader()"
   ]
  },
  {
   "cell_type": "code",
   "execution_count": 39,
   "metadata": {
    "collapsed": true
   },
   "outputs": [],
   "source": [
    "_, image_file = image_reader.read(filename_queue)"
   ]
  },
  {
   "cell_type": "code",
   "execution_count": 42,
   "metadata": {},
   "outputs": [
    {
     "name": "stdout",
     "output_type": "stream",
     "text": [
      "<class 'tensorflow.python.framework.ops.Tensor'>\n"
     ]
    }
   ],
   "source": [
    "print(type(image_file))\n",
    "image = tf.image.decode_jpeg(image_file)"
   ]
  },
  {
   "cell_type": "code",
   "execution_count": 43,
   "metadata": {},
   "outputs": [
    {
     "data": {
      "text/plain": [
       "<tf.Tensor 'DecodeJpeg_4:0' shape=(?, ?, ?) dtype=uint8>"
      ]
     },
     "execution_count": 43,
     "metadata": {},
     "output_type": "execute_result"
    }
   ],
   "source": [
    "image"
   ]
  },
  {
   "cell_type": "code",
   "execution_count": 44,
   "metadata": {},
   "outputs": [
    {
     "name": "stdout",
     "output_type": "stream",
     "text": [
      "<class 'tensorflow.python.framework.ops.Tensor'>\n"
     ]
    }
   ],
   "source": [
    "print(type(image))"
   ]
  },
  {
   "cell_type": "code",
   "execution_count": 45,
   "metadata": {},
   "outputs": [
    {
     "name": "stdout",
     "output_type": "stream",
     "text": [
      "<dtype: 'uint8'>\n"
     ]
    }
   ],
   "source": [
    "print(image.dtype)"
   ]
  },
  {
   "cell_type": "code",
   "execution_count": 46,
   "metadata": {},
   "outputs": [
    {
     "name": "stdout",
     "output_type": "stream",
     "text": [
      "<bound method Tensor.get_shape of <tf.Tensor 'DecodeJpeg_4:0' shape=(?, ?, ?) dtype=uint8>>\n"
     ]
    }
   ],
   "source": [
    "print(image.get_shape)"
   ]
  },
  {
   "cell_type": "code",
   "execution_count": 47,
   "metadata": {},
   "outputs": [
    {
     "name": "stdout",
     "output_type": "stream",
     "text": [
      "(?, ?, ?)\n"
     ]
    }
   ],
   "source": [
    "print(image.shape)"
   ]
  },
  {
   "cell_type": "code",
   "execution_count": null,
   "metadata": {
    "collapsed": true
   },
   "outputs": [],
   "source": [
    "with tf.Session() as sess:\n",
    "    sess.run(image)"
   ]
  },
  {
   "cell_type": "code",
   "execution_count": null,
   "metadata": {
    "collapsed": true
   },
   "outputs": [],
   "source": []
  },
  {
   "cell_type": "code",
   "execution_count": null,
   "metadata": {
    "collapsed": true
   },
   "outputs": [],
   "source": []
  },
  {
   "cell_type": "code",
   "execution_count": null,
   "metadata": {
    "collapsed": true
   },
   "outputs": [],
   "source": []
  },
  {
   "cell_type": "code",
   "execution_count": null,
   "metadata": {
    "collapsed": true
   },
   "outputs": [],
   "source": []
  },
  {
   "cell_type": "code",
   "execution_count": 1,
   "metadata": {
    "collapsed": true
   },
   "outputs": [],
   "source": [
    "import glob\n",
    "image_filenames = glob.glob(\"./RP_data_3/critical/*.png\")"
   ]
  },
  {
   "cell_type": "code",
   "execution_count": 2,
   "metadata": {
    "collapsed": true
   },
   "outputs": [],
   "source": [
    "image_filenames = glob.glob(\"./RP_data_3/critical/*.png\")"
   ]
  },
  {
   "cell_type": "code",
   "execution_count": 4,
   "metadata": {},
   "outputs": [
    {
     "data": {
      "text/plain": [
       "['./RP_data_3/critical/NeuroSafe-20170712_120329_321515.png',\n",
       " './RP_data_3/critical/NeuroSafe-20170712_121145_045390.png',\n",
       " './RP_data_3/critical/NeuroSafe-20170712_121250_575724.png',\n",
       " './RP_data_3/critical/NeuroSafe-20170712_121252_706899.png',\n",
       " './RP_data_3/critical/NeuroSafe-20170712_130540_211816.png',\n",
       " './RP_data_3/critical/NeuroSafe-20170712_183940_048625.png',\n",
       " './RP_data_3/critical/NeuroSafe-20170712_184600_661452.png',\n",
       " './RP_data_3/critical/NeuroSafe-20170712_190510_514202.png',\n",
       " './RP_data_3/critical/NeuroSafe-20170712_190526_080476.png',\n",
       " './RP_data_3/critical/NeuroSafe-20170712_190528_037250.png']"
      ]
     },
     "execution_count": 4,
     "metadata": {},
     "output_type": "execute_result"
    }
   ],
   "source": [
    "image_filenames[0:10]"
   ]
  },
  {
   "cell_type": "code",
   "execution_count": 5,
   "metadata": {
    "collapsed": true
   },
   "outputs": [],
   "source": [
    "from itertools import groupby"
   ]
  },
  {
   "cell_type": "code",
   "execution_count": 6,
   "metadata": {
    "collapsed": true
   },
   "outputs": [],
   "source": [
    "from collections import defaultdict"
   ]
  },
  {
   "cell_type": "code",
   "execution_count": 95,
   "metadata": {
    "collapsed": true
   },
   "outputs": [],
   "source": [
    "_training_dataset = defaultdict(list)"
   ]
  },
  {
   "cell_type": "code",
   "execution_count": 96,
   "metadata": {
    "collapsed": true
   },
   "outputs": [],
   "source": [
    "_testing_dataset = defaultdict(list)"
   ]
  },
  {
   "cell_type": "code",
   "execution_count": 97,
   "metadata": {
    "collapsed": true
   },
   "outputs": [],
   "source": [
    "image_filename_with_breed = map(lambda filename: (filename.split(\"/\")[2], filename), image_filenames)"
   ]
  },
  {
   "cell_type": "code",
   "execution_count": 99,
   "metadata": {
    "collapsed": true
   },
   "outputs": [],
   "source": [
    "for category, _images in groupby(image_filename_with_breed, lambda x: x[0]):\n",
    "    for i, _images in enumerate(_images):\n",
    "        if i%5 == 0:\n",
    "            _testing_dataset[category].append(_images[1])\n",
    "        else :\n",
    "            _training_dataset[category].append(_images[1])\n",
    "    _training_count = len(_training_dataset[category])\n",
    "    _testing_count = len(_testing_dataset[category])\n",
    "    \n",
    "    assert round(_testing_count / (_training_count + _testing_count), 2) > 0.2, \"Not enough testing images.\""
   ]
  },
  {
   "cell_type": "code",
   "execution_count": null,
   "metadata": {
    "collapsed": true
   },
   "outputs": [],
   "source": []
  },
  {
   "cell_type": "code",
   "execution_count": 100,
   "metadata": {
    "collapsed": true
   },
   "outputs": [],
   "source": [
    "import tensorflow as tf"
   ]
  },
  {
   "cell_type": "code",
   "execution_count": 101,
   "metadata": {},
   "outputs": [
    {
     "ename": "TypeError",
     "evalue": "run() missing 1 required positional argument: 'fetches'",
     "output_type": "error",
     "traceback": [
      "\u001b[0;31m---------------------------------------------------------------------------\u001b[0m",
      "\u001b[0;31mTypeError\u001b[0m                                 Traceback (most recent call last)",
      "\u001b[0;32m<ipython-input-101-b858d85246d8>\u001b[0m in \u001b[0;36m<module>\u001b[0;34m()\u001b[0m\n\u001b[1;32m     59\u001b[0m     \u001b[0mwriter\u001b[0m\u001b[0;34m.\u001b[0m\u001b[0mclose\u001b[0m\u001b[0;34m(\u001b[0m\u001b[0;34m)\u001b[0m\u001b[0;34m\u001b[0m\u001b[0m\n\u001b[1;32m     60\u001b[0m \u001b[0;34m\u001b[0m\u001b[0m\n\u001b[0;32m---> 61\u001b[0;31m \u001b[0mwrite_records_file\u001b[0m\u001b[0;34m(\u001b[0m\u001b[0mtesting_dataset\u001b[0m\u001b[0;34m,\u001b[0m \u001b[0;34m\"./output/training_images/\"\u001b[0m\u001b[0;34m)\u001b[0m\u001b[0;34m\u001b[0m\u001b[0m\n\u001b[0m\u001b[1;32m     62\u001b[0m \u001b[0mwrite_records_file\u001b[0m\u001b[0;34m(\u001b[0m\u001b[0mtraining_dataset\u001b[0m\u001b[0;34m,\u001b[0m \u001b[0;34m\"./output/testing_images/\"\u001b[0m\u001b[0;34m)\u001b[0m\u001b[0;34m\u001b[0m\u001b[0m\n",
      "\u001b[0;32m<ipython-input-101-b858d85246d8>\u001b[0m in \u001b[0;36mwrite_records_file\u001b[0;34m(dataset, record_location)\u001b[0m\n\u001b[1;32m     44\u001b[0m             \u001b[0;31m# tf.cast is used here because the resized images are floats but haven't been converted into\u001b[0m\u001b[0;34m\u001b[0m\u001b[0;34m\u001b[0m\u001b[0m\n\u001b[1;32m     45\u001b[0m             \u001b[0;31m# image floats where an RGB value is between [0,1).\u001b[0m\u001b[0;34m\u001b[0m\u001b[0;34m\u001b[0m\u001b[0m\n\u001b[0;32m---> 46\u001b[0;31m             \u001b[0mimage_bytes\u001b[0m \u001b[0;34m=\u001b[0m \u001b[0mtf\u001b[0m\u001b[0;34m.\u001b[0m\u001b[0mSession\u001b[0m\u001b[0;34m.\u001b[0m\u001b[0mrun\u001b[0m\u001b[0;34m(\u001b[0m\u001b[0mtf\u001b[0m\u001b[0;34m.\u001b[0m\u001b[0mcast\u001b[0m\u001b[0;34m(\u001b[0m\u001b[0mresized_image\u001b[0m\u001b[0;34m,\u001b[0m \u001b[0mtf\u001b[0m\u001b[0;34m.\u001b[0m\u001b[0muint8\u001b[0m\u001b[0;34m)\u001b[0m\u001b[0;34m)\u001b[0m\u001b[0;34m.\u001b[0m\u001b[0mtobytes\u001b[0m\u001b[0;34m(\u001b[0m\u001b[0;34m)\u001b[0m\u001b[0;34m\u001b[0m\u001b[0m\n\u001b[0m\u001b[1;32m     47\u001b[0m \u001b[0;34m\u001b[0m\u001b[0m\n\u001b[1;32m     48\u001b[0m             \u001b[0;31m# Instead of using the label as a string, it'd be more efficient to turn it into either an\u001b[0m\u001b[0;34m\u001b[0m\u001b[0;34m\u001b[0m\u001b[0m\n",
      "\u001b[0;31mTypeError\u001b[0m: run() missing 1 required positional argument: 'fetches'"
     ]
    }
   ],
   "source": [
    "def write_records_file(dataset, record_location):\n",
    "    \"\"\"\n",
    "    Fill a TFRecords file with the images found in `dataset` and include their category.\n",
    "\n",
    "    Parameters\n",
    "    ----------\n",
    "    dataset : dict(list)\n",
    "      Dictionary with each key being a label for the list of image filenames of its value.\n",
    "    record_location : str\n",
    "      Location to store the TFRecord output.\n",
    "    \"\"\"\n",
    "    writer = None\n",
    "\n",
    "    # Enumerating the dataset because the current index is used to breakup the files if they get over 100\n",
    "    # images to avoid a slowdown in writing.\n",
    "    current_index = 0\n",
    "    for category, images_filenames in dataset.items():\n",
    "        for image_filename in images_filenames:\n",
    "            if current_index % 100 == 0:\n",
    "                if writer:\n",
    "                    writer.close()\n",
    "\n",
    "                record_filename = \"{record_location}-{current_index}.tfrecords\".format(\n",
    "                    record_location=record_location,\n",
    "                    current_index=current_index)\n",
    "\n",
    "                writer = tf.python_io.TFRecordWriter(record_filename)\n",
    "            current_index += 1\n",
    "\n",
    "            image_file = tf.read_file(image_filename)\n",
    "\n",
    "            # In ImageNet dogs, there are a few images which TensorFlow doesn't recognize as JPEGs. This\n",
    "            # try/catch will ignore those images.\n",
    "            try:\n",
    "                image = tf.image.decode_png(image_file)\n",
    "            except:\n",
    "                print(image_filename)\n",
    "                continue\n",
    "\n",
    "            # Converting to grayscale saves processing and memory but isn't required.\n",
    "            grayscale_image = tf.image.rgb_to_grayscale(image)\n",
    "            resized_image = tf.image.resize_images(grayscale_image, (299, 299))\n",
    "\n",
    "            # tf.cast is used here because the resized images are floats but haven't been converted into\n",
    "            # image floats where an RGB value is between [0,1).\n",
    "            image_bytes = tf.Session.run(tf.cast(resized_image, tf.uint8)).tobytes()\n",
    "\n",
    "            # Instead of using the label as a string, it'd be more efficient to turn it into either an\n",
    "            # integer index or a one-hot encoded rank one tensor.\n",
    "            # https://en.wikipedia.org/wiki/One-hot\n",
    "            image_label = category.encode(\"utf-8\")\n",
    "\n",
    "            example = tf.train.Example(features=tf.train.Features(feature={\n",
    "                'label': tf.train.Feature(bytes_list=tf.train.BytesList(value=[image_label])),\n",
    "                'image': tf.train.Feature(bytes_list=tf.train.BytesList(value=[image_bytes]))\n",
    "            }))\n",
    "\n",
    "            writer.write(example.SerializeToString())\n",
    "    writer.close()\n",
    "\n",
    "write_records_file(testing_dataset, \"./output/training_images/\")\n",
    "write_records_file(training_dataset, \"./output/testing_images/\")"
   ]
  },
  {
   "cell_type": "code",
   "execution_count": 36,
   "metadata": {
    "collapsed": true
   },
   "outputs": [],
   "source": [
    "import imageflow"
   ]
  },
  {
   "cell_type": "code",
   "execution_count": null,
   "metadata": {
    "collapsed": true
   },
   "outputs": [],
   "source": [
    "B"
   ]
  },
  {
   "cell_type": "code",
   "execution_count": null,
   "metadata": {
    "collapsed": true
   },
   "outputs": [],
   "source": []
  },
  {
   "cell_type": "code",
   "execution_count": null,
   "metadata": {
    "collapsed": true
   },
   "outputs": [],
   "source": []
  },
  {
   "cell_type": "code",
   "execution_count": null,
   "metadata": {
    "collapsed": true
   },
   "outputs": [],
   "source": []
  },
  {
   "cell_type": "code",
   "execution_count": null,
   "metadata": {
    "collapsed": true
   },
   "outputs": [],
   "source": []
  },
  {
   "cell_type": "code",
   "execution_count": 37,
   "metadata": {
    "collapsed": true
   },
   "outputs": [],
   "source": [
    "import glob\n",
    "import imageflow\n",
    "import tensorflow as tf"
   ]
  },
  {
   "cell_type": "code",
   "execution_count": 38,
   "metadata": {
    "collapsed": true
   },
   "outputs": [],
   "source": [
    "image_filenames = glob.glob(\"./RP_data_3/critical/*.png\")"
   ]
  },
  {
   "cell_type": "code",
   "execution_count": 39,
   "metadata": {},
   "outputs": [
    {
     "data": {
      "text/plain": [
       "['./RP_data_3/critical/NeuroSafe-20170712_120329_321515.png',\n",
       " './RP_data_3/critical/NeuroSafe-20170712_121145_045390.png',\n",
       " './RP_data_3/critical/NeuroSafe-20170712_121250_575724.png',\n",
       " './RP_data_3/critical/NeuroSafe-20170712_121252_706899.png',\n",
       " './RP_data_3/critical/NeuroSafe-20170712_130540_211816.png',\n",
       " './RP_data_3/critical/NeuroSafe-20170712_183940_048625.png',\n",
       " './RP_data_3/critical/NeuroSafe-20170712_184600_661452.png',\n",
       " './RP_data_3/critical/NeuroSafe-20170712_190510_514202.png',\n",
       " './RP_data_3/critical/NeuroSafe-20170712_190526_080476.png',\n",
       " './RP_data_3/critical/NeuroSafe-20170712_190528_037250.png',\n",
       " './RP_data_3/critical/NeuroSafe-20170712_190538_506576.png',\n",
       " './RP_data_3/critical/NeuroSafe-20170712_190540_350788.png',\n",
       " './RP_data_3/critical/NeuroSafe-20170712_190547_755733.png',\n",
       " './RP_data_3/critical/NeuroSafe-20170712_190549_611040.png',\n",
       " './RP_data_3/critical/NeuroSafe-20170712_190604_903527.png',\n",
       " './RP_data_3/critical/NeuroSafe-20170712_190732_619205.png',\n",
       " './RP_data_3/critical/NeuroSafe-20170712_190741_293815.png',\n",
       " './RP_data_3/critical/NeuroSafe-20170712_192233_596333.png',\n",
       " './RP_data_3/critical/NeuroSafe-20170712_193540_520224.png',\n",
       " './RP_data_3/critical/NeuroSafe-20170712_193542_464304.png',\n",
       " './RP_data_3/critical/NeuroSafe-20170712_193544_321288.png',\n",
       " './RP_data_3/critical/NeuroSafe-20170712_200100_703724.png',\n",
       " './RP_data_3/critical/NeuroSafe-20170712_200128_299716.png',\n",
       " './RP_data_3/critical/NeuroSafe-20170712_202000_188031.png',\n",
       " './RP_data_3/critical/NeuroSafe-20170712_202002_069366.png',\n",
       " './RP_data_3/critical/NeuroSafe-20170712_202005_784138.png',\n",
       " './RP_data_3/critical/NeuroSafe-20170712_202020_939675.png',\n",
       " './RP_data_3/critical/NeuroSafe-20170712_202022_764941.png',\n",
       " './RP_data_3/critical/NeuroSafe-20170712_202048_381945.png',\n",
       " './RP_data_3/critical/NeuroSafe-20170712_202100_408827.png',\n",
       " './RP_data_3/critical/NeuroSafe-20170713_074550_904052.png',\n",
       " './RP_data_3/critical/NeuroSafe-20170713_074559_721206.png',\n",
       " './RP_data_3/critical/NeuroSafe-20170713_074609_649866.png',\n",
       " './RP_data_3/critical/NeuroSafe-20170713_174859_413548.png',\n",
       " './RP_data_3/critical/NeuroSafe-20170713_174902_213061.png',\n",
       " './RP_data_3/critical/NeuroSafe-20170713_175002_668595.png',\n",
       " './RP_data_3/critical/NeuroSafe-20170713_175042_927627.png',\n",
       " './RP_data_3/critical/NeuroSafe-20170713_180352_448195.png',\n",
       " './RP_data_3/critical/NeuroSafe-20170713_180413_516268.png',\n",
       " './RP_data_3/critical/NeuroSafe-20170713_182014_765519.png',\n",
       " './RP_data_3/critical/NeuroSafe-20170713_182134_648779.png',\n",
       " './RP_data_3/critical/NeuroSafe-20170713_182146_246664.png',\n",
       " './RP_data_3/critical/NeuroSafe-20170713_182148_313189.png',\n",
       " './RP_data_3/critical/NeuroSafe-20170713_182150_512841.png',\n",
       " './RP_data_3/critical/NeuroSafe-20170713_182212_943004.png',\n",
       " './RP_data_3/critical/NeuroSafe-20170713_182215_008255.png',\n",
       " './RP_data_3/critical/NeuroSafe-20170713_182218_141873.png',\n",
       " './RP_data_3/critical/NeuroSafe-20170720_110340_542108.png',\n",
       " './RP_data_3/critical/NeuroSafe-20170720_110354_639984.png',\n",
       " './RP_data_3/critical/NeuroSafe-20170720_110356_773058.png',\n",
       " './RP_data_3/critical/NeuroSafe-20170720_110435_865871.png',\n",
       " './RP_data_3/critical/NeuroSafe-20170720_110609_681484.png',\n",
       " './RP_data_3/critical/NeuroSafe-20170720_115612_091848.png',\n",
       " './RP_data_3/critical/NeuroSafe-20170720_115622_149310.png',\n",
       " './RP_data_3/critical/NeuroSafe-20170720_115626_015683.png',\n",
       " './RP_data_3/critical/NeuroSafe-20170720_115641_879316.png',\n",
       " './RP_data_3/critical/NeuroSafe-20170720_115755_465470.png',\n",
       " './RP_data_3/critical/NeuroSafe-20170720_115759_566157.png',\n",
       " './RP_data_3/critical/NeuroSafe-20170720_115801_531391.png',\n",
       " './RP_data_3/critical/NeuroSafe-20170720_115804_797179.png',\n",
       " './RP_data_3/critical/NeuroSafe-20170720_115811_795896.png',\n",
       " './RP_data_3/critical/NeuroSafe-20170720_115815_929435.png',\n",
       " './RP_data_3/critical/NeuroSafe-20170720_115817_994764.png',\n",
       " './RP_data_3/critical/UnlabeledNeuroSafe-20170713_075243_065552.png',\n",
       " './RP_data_3/critical/UnlabeledNeuroSafe-20170713_075248_504483.png',\n",
       " './RP_data_3/critical/UnlabeledNeuroSafe-20170713_075253_565200.png',\n",
       " './RP_data_3/critical/UnlabeledNeuroSafe-20170713_075256_127291.png',\n",
       " './RP_data_3/critical/UnlabeledNeuroSafe-20170713_075259_938873.png',\n",
       " './RP_data_3/critical/UnlabeledNeuroSafe-20170713_075302_379033.png',\n",
       " './RP_data_3/critical/UnlabeledNeuroSafe-20170713_075305_378078.png',\n",
       " './RP_data_3/critical/UnlabeledNeuroSafe-20170713_075308_077858.png',\n",
       " './RP_data_3/critical/UnlabeledNeuroSafe-20170713_075310_637152.png',\n",
       " './RP_data_3/critical/UnlabeledNeuroSafe-20170713_075313_001120.png',\n",
       " './RP_data_3/critical/UnlabeledNeuroSafe-20170713_075404_310881.png',\n",
       " './RP_data_3/critical/UnlabeledNeuroSafe-20170713_075648_175548.png',\n",
       " './RP_data_3/critical/UnlabeledNeuroSafe-20170713_075650_800894.png',\n",
       " './RP_data_3/critical/UnlabeledNeuroSafe-20170713_075653_300423.png',\n",
       " './RP_data_3/critical/UnlabeledNeuroSafe-20170713_075705_737468.png',\n",
       " './RP_data_3/critical/UnlabeledNeuroSafe-20170713_075711_860735.png',\n",
       " './RP_data_3/critical/UnlabeledNeuroSafe-20170713_075737_610002.png',\n",
       " './RP_data_3/critical/UnlabeledNeuroSafe-20170713_075740_109320.png',\n",
       " './RP_data_3/critical/UnlabeledNeuroSafe-20170713_075742_670890.png',\n",
       " './RP_data_3/critical/UnlabeledNeuroSafe-20170713_075752_609607.png',\n",
       " './RP_data_3/critical/UnlabeledNeuroSafe-20170713_075755_496801.png',\n",
       " './RP_data_3/critical/UnlabeledNeuroSafe-20170713_075759_733760.png',\n",
       " './RP_data_3/critical/UnlabeledNeuroSafe-20170713_075802_232536.png',\n",
       " './RP_data_3/critical/UnlabeledNeuroSafe-20170713_075804_922051.png',\n",
       " './RP_data_3/critical/UnlabeledNeuroSafe-20170713_075807_544784.png',\n",
       " './RP_data_3/critical/UnlabeledNeuroSafe-20170713_075810_044121.png',\n",
       " './RP_data_3/critical/UnlabeledNeuroSafe-20170713_075815_668462.png',\n",
       " './RP_data_3/critical/UnlabeledNeuroSafe-20170713_075824_108886.png',\n",
       " './RP_data_3/critical/UnlabeledNeuroSafe-20170713_075826_667666.png',\n",
       " './RP_data_3/critical/UnlabeledNeuroSafe-20170713_075829_242263.png',\n",
       " './RP_data_3/critical/UnlabeledNeuroSafe-20170713_075833_730347.png',\n",
       " './RP_data_3/critical/UnlabeledNeuroSafe-20170713_075836_230652.png',\n",
       " './RP_data_3/critical/UnlabeledNeuroSafe-20170713_080000_536460.png',\n",
       " './RP_data_3/critical/UnlabeledNeuroSafe-20170713_080013_785409.png',\n",
       " './RP_data_3/critical/UnlabeledNeuroSafe-20170713_080020_786869.png',\n",
       " './RP_data_3/critical/UnlabeledNeuroSafe-20170713_080047_659311.png',\n",
       " './RP_data_3/critical/UnlabeledNeuroSafe-20170713_080050_156757.png',\n",
       " './RP_data_3/critical/UnlabeledNeuroSafe-20170713_080057_220347.png',\n",
       " './RP_data_3/critical/UnlabeledNeuroSafe-20170713_080158_215353.png',\n",
       " './RP_data_3/critical/UnlabeledNeuroSafe-20170713_080200_841387.png',\n",
       " './RP_data_3/critical/UnlabeledNeuroSafe-20170713_080203_402319 (1).png',\n",
       " './RP_data_3/critical/UnlabeledNeuroSafe-20170713_080206_093646.png',\n",
       " './RP_data_3/critical/UnlabeledNeuroSafe-20170713_080218_025013.png',\n",
       " './RP_data_3/critical/UnlabeledNeuroSafe-20170713_080220_474291.png',\n",
       " './RP_data_3/critical/UnlabeledNeuroSafe-20170713_080223_400541.png',\n",
       " './RP_data_3/critical/UnlabeledNeuroSafe-20170713_080226_025452.png',\n",
       " './RP_data_3/critical/UnlabeledNeuroSafe-20170713_080248_840091.png',\n",
       " './RP_data_3/critical/UnlabeledNeuroSafe-20170713_080251_272666.png',\n",
       " './RP_data_3/critical/UnlabeledNeuroSafe-20170713_080259_522009.png',\n",
       " './RP_data_3/critical/UnlabeledNeuroSafe-20170713_080823_945281.png',\n",
       " './RP_data_3/critical/UnlabeledNeuroSafe-20170713_080826_496544.png',\n",
       " './RP_data_3/critical/UnlabeledNeuroSafe-20170713_080842_059501.png',\n",
       " './RP_data_3/critical/UnlabeledNeuroSafe-20170713_082654_540556.png',\n",
       " './RP_data_3/critical/UnlabeledNeuroSafe-20170713_082656_979134.png',\n",
       " './RP_data_3/critical/UnlabeledNeuroSafe-20170713_082718_101504.png',\n",
       " './RP_data_3/critical/UnlabeledNeuroSafe-20170713_082804_290508.png',\n",
       " './RP_data_3/critical/UnlabeledNeuroSafe-20170713_082835_532581.png',\n",
       " './RP_data_3/critical/UnlabeledNeuroSafe-20170713_082842_969294.png',\n",
       " './RP_data_3/critical/UnlabeledNeuroSafe-20170713_082859_469255.png',\n",
       " './RP_data_3/critical/UnlabeledNeuroSafe-20170713_082905_968785.png',\n",
       " './RP_data_3/critical/UnlabeledNeuroSafe-20170713_083006_213493.png',\n",
       " './RP_data_3/critical/UnlabeledNeuroSafe-20170713_083052_152527.png',\n",
       " './RP_data_3/critical/UnlabeledNeuroSafe-20170713_083145_898447.png',\n",
       " './RP_data_3/critical/UnlabeledNeuroSafe-20170713_083148_392483.png',\n",
       " './RP_data_3/critical/UnlabeledNeuroSafe-20170713_084027_275137.png',\n",
       " './RP_data_3/critical/UnlabeledNeuroSafe-20170713_084029_900313.png',\n",
       " './RP_data_3/critical/UnlabeledNeuroSafe-20170713_084032_274537.png',\n",
       " './RP_data_3/critical/UnlabeledNeuroSafe-20170713_084035_026436.png',\n",
       " './RP_data_3/critical/UnlabeledNeuroSafe-20170713_084037_461946.png',\n",
       " './RP_data_3/critical/UnlabeledNeuroSafe-20170713_084039_901467.png',\n",
       " './RP_data_3/critical/UnlabeledNeuroSafe-20170713_090059_059580.png',\n",
       " './RP_data_3/critical/UnlabeledNeuroSafe-20170713_090227_863818.png',\n",
       " './RP_data_3/critical/UnlabeledNeuroSafe-20170713_090230_302193.png',\n",
       " './RP_data_3/critical/UnlabeledNeuroSafe-20170713_090349_359372.png',\n",
       " './RP_data_3/critical/UnlabeledNeuroSafe-20170713_090433_794624.png',\n",
       " './RP_data_3/critical/UnlabeledNeuroSafe-20170713_092558_511601.png',\n",
       " './RP_data_3/critical/UnlabeledNeuroSafe-20170715_083811_154222.png',\n",
       " './RP_data_3/critical/UnlabeledNeuroSafe-20170715_084429_312748.png',\n",
       " './RP_data_3/critical/UnlabeledNeuroSafe-20170716_023143_614534.png',\n",
       " './RP_data_3/critical/UnlabeledNeuroSafe-20170716_035411_940332.png',\n",
       " './RP_data_3/critical/UnlabeledNeuroSafe-20170716_035418_564661.png',\n",
       " './RP_data_3/critical/UnlabeledNeuroSafe-20170716_035421_126306.png',\n",
       " './RP_data_3/critical/UnlabeledNeuroSafe-20170716_040240_209826.png',\n",
       " './RP_data_3/critical/UnlabeledNeuroSafe-20170716_040242_646847.png',\n",
       " './RP_data_3/critical/UnlabeledNeuroSafe-20170716_040257_895866.png',\n",
       " './RP_data_3/critical/UnlabeledNeuroSafe-20170716_040300_335040.png',\n",
       " './RP_data_3/critical/UnlabeledNeuroSafe-20170716_040305_020201.png',\n",
       " './RP_data_3/critical/UnlabeledNeuroSafe-20170716_040340_205196.png',\n",
       " './RP_data_3/critical/UnlabeledNeuroSafe-20170716_040342_772921.png',\n",
       " './RP_data_3/critical/UnlabeledNeuroSafe-20170716_045850_271511.png',\n",
       " './RP_data_3/critical/UnlabeledNeuroSafe-20170716_045947_896719.png',\n",
       " './RP_data_3/critical/UnlabeledNeuroSafe-20170716_050011_390479.png',\n",
       " './RP_data_3/critical/UnlabeledNeuroSafe-20170716_050013_827772.png',\n",
       " './RP_data_3/critical/UnlabeledNeuroSafe-20170716_073750_935112.png',\n",
       " './RP_data_3/critical/UnlabeledNeuroSafe-20170716_083123_882383.png',\n",
       " './RP_data_3/critical/UnlabeledNeuroSafe-20170716_083210_759491.png',\n",
       " './RP_data_3/critical/UnlabeledNeuroSafe-20170716_083213_252366.png',\n",
       " './RP_data_3/critical/UnlabeledNeuroSafe-20170716_083326_246803.png',\n",
       " './RP_data_3/critical/UnlabeledNeuroSafe-20170716_085816_009791.png',\n",
       " './RP_data_3/critical/UnlabeledNeuroSafe-20170716_090213_679314.png',\n",
       " './RP_data_3/critical/UnlabeledNeuroSafe-20170716_090216_366544.png',\n",
       " './RP_data_3/critical/UnlabeledNeuroSafe-20170716_094445_676568.png',\n",
       " './RP_data_3/critical/UnlabeledNeuroSafe-20170716_094448_301067.png',\n",
       " './RP_data_3/critical/UnlabeledNeuroSafe-20170716_094450_799601.png',\n",
       " './RP_data_3/critical/UnlabeledNeuroSafe-20170716_094459_049053.png',\n",
       " './RP_data_3/critical/UnlabeledNeuroSafe-20170716_094501_424984.png',\n",
       " './RP_data_3/critical/UnlabeledNeuroSafe-20170716_113301_562685.png',\n",
       " './RP_data_3/critical/UnlabeledNeuroSafe-20170716_115101_355689.png',\n",
       " './RP_data_3/critical/UnlabeledNeuroSafe-20170716_115103_980148.png',\n",
       " './RP_data_3/critical/UnlabeledNeuroSafe-20170716_120249_995199.png',\n",
       " './RP_data_3/critical/UnlabeledNeuroSafe-20170716_120252_562200.png',\n",
       " './RP_data_3/critical/UnlabeledNeuroSafe-20170718_095609_515727.png',\n",
       " './RP_data_3/critical/UnlabeledNeuroSafe-20170718_095736_264812.png',\n",
       " './RP_data_3/critical/UnlabeledNeuroSafe-20170718_095738_769627.png',\n",
       " './RP_data_3/critical/UnlabeledNeuroSafe-20170718_103505_219782.png',\n",
       " './RP_data_3/critical/UnlabeledNeuroSafe-20170718_103513_218819.png',\n",
       " './RP_data_3/critical/UnlabeledNeuroSafe-20170718_130257_306467.png',\n",
       " './RP_data_3/critical/UnlabeledNeuroSafe-20170718_130259_744977.png',\n",
       " './RP_data_3/critical/UnlabeledNeuroSafe-20170718_153843_926848.png',\n",
       " './RP_data_3/critical/UnlabeledNeuroSafe-20170718_153846_421066.png',\n",
       " './RP_data_3/critical/UnlabeledNeuroSafe-20170718_153848_986504.png',\n",
       " './RP_data_3/critical/UnlabeledNeuroSafe-20170718_161222_150477.png',\n",
       " './RP_data_3/critical/UnlabeledNeuroSafe-20170718_161224_713222.png',\n",
       " './RP_data_3/critical/UnlabeledNeuroSafe-20170718_161227_144617.png',\n",
       " './RP_data_3/critical/UnlabeledNeuroSafe-20170718_193510_373678.png',\n",
       " './RP_data_3/critical/UnlabeledNeuroSafe-20170718_193518_866551.png',\n",
       " './RP_data_3/critical/UnlabeledNeuroSafe-20170719_002027_737936.png',\n",
       " './RP_data_3/critical/UnlabeledNeuroSafe-20170719_011814_789843.png',\n",
       " './RP_data_3/critical/UnlabeledNeuroSafe-20170719_011817_352304.png',\n",
       " './RP_data_3/critical/UnlabeledNeuroSafe-20170719_011819_852351.png',\n",
       " './RP_data_3/critical/UnlabeledNeuroSafe-20170719_011822_414394.png',\n",
       " './RP_data_3/critical/UnlabeledNeuroSafe-20170719_020451_957098.png',\n",
       " './RP_data_3/critical/UnlabeledNeuroSafe-20170719_020454_456878.png',\n",
       " './RP_data_3/critical/UnlabeledNeuroSafe-20170719_024322_170297.png',\n",
       " './RP_data_3/critical/UnlabeledNeuroSafe-20170719_024324_663460.png',\n",
       " './RP_data_3/critical/UnlabeledNeuroSafe-20170719_060504_954691.png',\n",
       " './RP_data_3/critical/UnlabeledNeuroSafe-20170719_060515_134755.png',\n",
       " './RP_data_3/critical/UnlabeledNeuroSafe-20170719_065323_171932.png',\n",
       " './RP_data_3/critical/UnlabeledNeuroSafe-20170719_065325_735572.png',\n",
       " './RP_data_3/critical/UnlabeledNeuroSafe-20170719_065328_421382.png',\n",
       " './RP_data_3/critical/UnlabeledNeuroSafe-20170719_074028_025155.png',\n",
       " './RP_data_3/critical/UnlabeledNeuroSafe-20170719_092025_396667.png',\n",
       " './RP_data_3/critical/UnlabeledNeuroSafe-20170719_092027_900478.png',\n",
       " './RP_data_3/critical/UnlabeledNeuroSafe-20170719_092030_454980.png',\n",
       " './RP_data_3/critical/UnlabeledNeuroSafe-20170719_092219_821392.png',\n",
       " './RP_data_3/critical/UnlabeledNeuroSafe-20170719_092307_379337.png',\n",
       " './RP_data_3/critical/UnlabeledNeuroSafe-20170719_095924_907294.png',\n",
       " './RP_data_3/critical/UnlabeledNeuroSafe-20170719_121051_315879.png',\n",
       " './RP_data_3/critical/UnlabeledNeuroSafe-20170719_121109_756146.png',\n",
       " './RP_data_3/critical/UnlabeledNeuroSafe-20170719_121112_250490.png',\n",
       " './RP_data_3/critical/UnlabeledNeuroSafe-20170719_121115_875519.png',\n",
       " './RP_data_3/critical/UnlabeledNeuroSafe-20170719_121126_315499.png',\n",
       " './RP_data_3/critical/UnlabeledNeuroSafe-20170719_131623_834129.png',\n",
       " './RP_data_3/critical/UnlabeledNeuroSafe-20170719_131629_209363.png',\n",
       " './RP_data_3/critical/UnlabeledNeuroSafe-20170719_131631_770968.png',\n",
       " './RP_data_3/critical/UnlabeledNeuroSafe-20170719_190347_168466.png',\n",
       " './RP_data_3/critical/UnlabeledNeuroSafe-20170719_222951_765135.png',\n",
       " './RP_data_3/critical/UnlabeledNeuroSafe-20170719_222959_582956.png',\n",
       " './RP_data_3/critical/UnlabeledNeuroSafe-20170719_234254_691469.png',\n",
       " './RP_data_3/critical/UnlabeledNeuroSafe-20170719_234258_815932.png',\n",
       " './RP_data_3/critical/UnlabeledNeuroSafe-20170719_234303_690163.png',\n",
       " './RP_data_3/critical/UnlabeledNeuroSafe-20170719_234309_628155.png',\n",
       " './RP_data_3/critical/UnlabeledNeuroSafe-20170720_011538_154461.png',\n",
       " './RP_data_3/critical/UnlabeledNeuroSafe-20170720_015640_723029.png',\n",
       " './RP_data_3/critical/UnlabeledNeuroSafe-20170720_015643_285000.png',\n",
       " './RP_data_3/critical/UnlabeledNeuroSafe-20170720_015645_786480.png',\n",
       " './RP_data_3/critical/UnlabeledNeuroSafe-20170720_021019_038517.png',\n",
       " './RP_data_3/critical/UnlabeledNeuroSafe-20170720_021859_499500.png',\n",
       " './RP_data_3/critical/UnlabeledNeuroSafe-20170720_021901_999420.png',\n",
       " './RP_data_3/critical/UnlabeledNeuroSafe-20170720_021904_561874.png',\n",
       " './RP_data_3/critical/UnlabeledNeuroSafe-20170720_023542_425070.png',\n",
       " './RP_data_3/critical/UnlabeledNeuroSafe-20170720_023544_925236.png',\n",
       " './RP_data_3/critical/UnlabeledNeuroSafe-20170720_024548_322136.png',\n",
       " './RP_data_3/critical/UnlabeledNeuroSafe-20170720_024629_313502.png',\n",
       " './RP_data_3/critical/UnlabeledNeuroSafe-20170720_024631_875841.png',\n",
       " './RP_data_3/critical/UnlabeledNeuroSafe-20170720_024703_685920.png',\n",
       " './RP_data_3/critical/UnlabeledNeuroSafe-20170720_025530_649136.png',\n",
       " './RP_data_3/critical/UnlabeledNeuroSafe-20170720_025708_265436.png',\n",
       " './RP_data_3/critical/UnlabeledNeuroSafe-20170720_025710_770203.png',\n",
       " './RP_data_3/critical/UnlabeledNeuroSafe-20170720_025713_266232.png',\n",
       " './RP_data_3/critical/UnlabeledNeuroSafe-20170720_031004_400814.png',\n",
       " './RP_data_3/critical/UnlabeledNeuroSafe-20170720_050350_204438.png',\n",
       " './RP_data_3/critical/UnlabeledNeuroSafe-20170720_061135_839533.png',\n",
       " './RP_data_3/critical/UnlabeledNeuroSafe-20170720_061139_651560.png',\n",
       " './RP_data_3/critical/UnlabeledNeuroSafe-20170720_061142_276554.png',\n",
       " './RP_data_3/critical/UnlabeledNeuroSafe-20170720_065848_691826.png',\n",
       " './RP_data_3/critical/UnlabeledNeuroSafe-20170720_065905_690301.png',\n",
       " './RP_data_3/critical/UnlabeledNeuroSafe-20170720_065940_068461.png',\n",
       " './RP_data_3/critical/UnlabeledNeuroSafe-20170720_065942_503647.png',\n",
       " './RP_data_3/critical/UnlabeledNeuroSafe-20170720_070010_686799.png',\n",
       " './RP_data_3/critical/UnlabeledNeuroSafe-20170720_070016_939494.png',\n",
       " './RP_data_3/critical/UnlabeledNeuroSafe-20170720_071335_313739.png',\n",
       " './RP_data_3/critical/UnlabeledNeuroSafe-20170720_071449_996632.png',\n",
       " './RP_data_3/critical/UnlabeledNeuroSafe-20170720_071951_972409.png',\n",
       " './RP_data_3/critical/UnlabeledNeuroSafe-20170720_071956_159569.png',\n",
       " './RP_data_3/critical/UnlabeledNeuroSafe-20170720_071958_784203.png',\n",
       " './RP_data_3/critical/UnlabeledNeuroSafe-20170720_072001_284222.png',\n",
       " './RP_data_3/critical/UnlabeledNeuroSafe-20170720_075123_956458.png',\n",
       " './RP_data_3/critical/UnlabeledNeuroSafe-20170720_081917_580084.png',\n",
       " './RP_data_3/critical/UnlabeledNeuroSafe-20170720_090506_813667.png',\n",
       " './RP_data_3/critical/UnlabeledNeuroSafe-20170720_090509_313341.png',\n",
       " './RP_data_3/critical/UnlabeledNeuroSafe-20170720_090511_750826.png',\n",
       " './RP_data_3/critical/UnlabeledNeuroSafe-20170720_090514_188358.png',\n",
       " './RP_data_3/critical/UnlabeledNeuroSafe-20170720_090516_812988.png',\n",
       " './RP_data_3/critical/UnlabeledNeuroSafe-20170720_090525_437375.png',\n",
       " './RP_data_3/critical/UnlabeledNeuroSafe-20170720_090527_999525.png',\n",
       " './RP_data_3/critical/UnlabeledNeuroSafe-20170720_090530_499597.png',\n",
       " './RP_data_3/critical/UnlabeledNeuroSafe-20170720_090533_061618.png',\n",
       " './RP_data_3/critical/UnlabeledNeuroSafe-20170720_090535_625069.png',\n",
       " './RP_data_3/critical/UnlabeledNeuroSafe-20170720_090538_123695.png',\n",
       " './RP_data_3/critical/UnlabeledNeuroSafe-20170720_090541_436608.png',\n",
       " './RP_data_3/critical/UnlabeledNeuroSafe-20170720_091544_205302.png',\n",
       " './RP_data_3/critical/UnlabeledNeuroSafe-20170720_091644_074865.png',\n",
       " './RP_data_3/critical/UnlabeledNeuroSafe-20170720_091703_573334.png',\n",
       " './RP_data_3/critical/UnlabeledNeuroSafe-20170720_093500_312429.png',\n",
       " './RP_data_3/critical/UnlabeledNeuroSafe-20170720_093503_431338.png',\n",
       " './RP_data_3/critical/UnlabeledNeuroSafe-20170720_093508_368443.png',\n",
       " './RP_data_3/critical/UnlabeledNeuroSafe-20170720_093518_243910.png',\n",
       " './RP_data_3/critical/UnlabeledNeuroSafe-20170720_093524_179566.png',\n",
       " './RP_data_3/critical/UnlabeledNeuroSafe-20170720_101327_140654.png',\n",
       " './RP_data_3/critical/UnlabeledNeuroSafe-20170720_101647_746097.png',\n",
       " './RP_data_3/critical/UnlabeledNeuroSafe-20170720_101650_245851.png',\n",
       " './RP_data_3/critical/UnlabeledNeuroSafe-20170720_101715_993568.png',\n",
       " './RP_data_3/critical/UnlabeledNeuroSafe-20170720_101823_430866.png',\n",
       " './RP_data_3/critical/UnlabeledNeuroSafe-20170720_101833_925603.png',\n",
       " './RP_data_3/critical/UnlabeledNeuroSafe-20170720_112542_750938.png',\n",
       " './RP_data_3/critical/UnlabeledNeuroSafe-20170720_112734_867512.png',\n",
       " './RP_data_3/critical/UnlabeledNeuroSafe-20170720_112737_367515.png',\n",
       " './RP_data_3/critical/UnlabeledNeuroSafe-20170720_112742_304193.png',\n",
       " './RP_data_3/critical/UnlabeledNeuroSafe-20170720_112803_677628.png',\n",
       " './RP_data_3/critical/UnlabeledNeuroSafe-20170720_112823_182383.png',\n",
       " './RP_data_3/critical/UnlabeledNeuroSafe-20170720_112825_619341.png',\n",
       " './RP_data_3/critical/UnlabeledNeuroSafe-20170720_112832_050465.png',\n",
       " './RP_data_3/critical/UnlabeledNeuroSafe-20170720_112834_550403.png',\n",
       " './RP_data_3/critical/UnlabeledNeuroSafe-20170720_112837_112877.png',\n",
       " './RP_data_3/critical/UnlabeledNeuroSafe-20170720_112839_612660.png',\n",
       " './RP_data_3/critical/UnlabeledNeuroSafe-20170720_112910_672748.png',\n",
       " './RP_data_3/critical/UnlabeledNeuroSafe-20170720_112913_178213.png',\n",
       " './RP_data_3/critical/UnlabeledNeuroSafe-20170720_112915_613361.png',\n",
       " './RP_data_3/critical/UnlabeledNeuroSafe-20170720_133452_359922.png',\n",
       " './RP_data_3/critical/UnlabeledNeuroSafe-20170720_200034_950933.png',\n",
       " './RP_data_3/critical/UnlabeledNeuroSafe-20170720_214903_588857.png',\n",
       " './RP_data_3/critical/UnlabeledNeuroSafe-20170720_223427_947821.png',\n",
       " './RP_data_3/critical/UnlabeledNeuroSafe-20170720_223432_259738.png',\n",
       " './RP_data_3/critical/UnlabeledNeuroSafe-20170720_223445_509784.png',\n",
       " './RP_data_3/critical/UnlabeledNeuroSafe-20170720_230201_012418.png',\n",
       " './RP_data_3/critical/UnlabeledNeuroSafe-20170721_005005_784755.png',\n",
       " './RP_data_3/critical/UnlabeledNeuroSafe-20170721_005011_965781.png',\n",
       " './RP_data_3/critical/UnlabeledNeuroSafe-20170721_005025_652812.png',\n",
       " './RP_data_3/critical/UnlabeledNeuroSafe-20170721_005037_463828.png',\n",
       " './RP_data_3/critical/UnlabeledNeuroSafe-20170721_005058_212568.png',\n",
       " './RP_data_3/critical/UnlabeledNeuroSafe-20170721_005107_092528.png',\n",
       " './RP_data_3/critical/UnlabeledNeuroSafe-20170721_005134_715797.png',\n",
       " './RP_data_3/critical/UnlabeledNeuroSafe-20170721_005137_152850.png',\n",
       " './RP_data_3/critical/UnlabeledNeuroSafe-20170721_012126_076594.png',\n",
       " './RP_data_3/critical/UnlabeledNeuroSafe-20170721_012128_513844.png',\n",
       " './RP_data_3/critical/UnlabeledNeuroSafe-20170721_012131_013915.png']"
      ]
     },
     "execution_count": 39,
     "metadata": {},
     "output_type": "execute_result"
    }
   ],
   "source": [
    "image_filenames[:]"
   ]
  },
  {
   "cell_type": "code",
   "execution_count": 49,
   "metadata": {},
   "outputs": [
    {
     "name": "stdout",
     "output_type": "stream",
     "text": [
      "['NeuroSafe-20170712_120329_321515.png', 'NeuroSafe-20170712_121145_045390.png', 'NeuroSafe-20170712_121250_575724.png', 'NeuroSafe-20170712_121252_706899.png', 'NeuroSafe-20170712_130540_211816.png', 'NeuroSafe-20170712_183940_048625.png', 'NeuroSafe-20170712_184600_661452.png', 'NeuroSafe-20170712_190510_514202.png', 'NeuroSafe-20170712_190526_080476.png', 'NeuroSafe-20170712_190528_037250.png', 'NeuroSafe-20170712_190538_506576.png', 'NeuroSafe-20170712_190540_350788.png', 'NeuroSafe-20170712_190547_755733.png', 'NeuroSafe-20170712_190549_611040.png', 'NeuroSafe-20170712_190604_903527.png', 'NeuroSafe-20170712_190732_619205.png', 'NeuroSafe-20170712_190741_293815.png', 'NeuroSafe-20170712_192233_596333.png', 'NeuroSafe-20170712_193540_520224.png', 'NeuroSafe-20170712_193542_464304.png', 'NeuroSafe-20170712_193544_321288.png', 'NeuroSafe-20170712_200100_703724.png', 'NeuroSafe-20170712_200128_299716.png', 'NeuroSafe-20170712_202000_188031.png', 'NeuroSafe-20170712_202002_069366.png', 'NeuroSafe-20170712_202005_784138.png', 'NeuroSafe-20170712_202020_939675.png', 'NeuroSafe-20170712_202022_764941.png', 'NeuroSafe-20170712_202048_381945.png', 'NeuroSafe-20170712_202100_408827.png', 'NeuroSafe-20170713_074550_904052.png', 'NeuroSafe-20170713_074559_721206.png', 'NeuroSafe-20170713_074609_649866.png', 'NeuroSafe-20170713_174859_413548.png', 'NeuroSafe-20170713_174902_213061.png', 'NeuroSafe-20170713_175002_668595.png', 'NeuroSafe-20170713_175042_927627.png', 'NeuroSafe-20170713_180352_448195.png', 'NeuroSafe-20170713_180413_516268.png', 'NeuroSafe-20170713_182014_765519.png', 'NeuroSafe-20170713_182134_648779.png', 'NeuroSafe-20170713_182146_246664.png', 'NeuroSafe-20170713_182148_313189.png', 'NeuroSafe-20170713_182150_512841.png', 'NeuroSafe-20170713_182212_943004.png', 'NeuroSafe-20170713_182215_008255.png', 'NeuroSafe-20170713_182218_141873.png', 'NeuroSafe-20170720_110340_542108.png', 'NeuroSafe-20170720_110354_639984.png', 'NeuroSafe-20170720_110356_773058.png', 'NeuroSafe-20170720_110435_865871.png', 'NeuroSafe-20170720_110609_681484.png', 'NeuroSafe-20170720_115612_091848.png', 'NeuroSafe-20170720_115622_149310.png', 'NeuroSafe-20170720_115626_015683.png', 'NeuroSafe-20170720_115641_879316.png', 'NeuroSafe-20170720_115755_465470.png', 'NeuroSafe-20170720_115759_566157.png', 'NeuroSafe-20170720_115801_531391.png', 'NeuroSafe-20170720_115804_797179.png', 'NeuroSafe-20170720_115811_795896.png', 'NeuroSafe-20170720_115815_929435.png', 'NeuroSafe-20170720_115817_994764.png', 'UnlabeledNeuroSafe-20170713_075243_065552.png', 'UnlabeledNeuroSafe-20170713_075248_504483.png', 'UnlabeledNeuroSafe-20170713_075253_565200.png', 'UnlabeledNeuroSafe-20170713_075256_127291.png', 'UnlabeledNeuroSafe-20170713_075259_938873.png', 'UnlabeledNeuroSafe-20170713_075302_379033.png', 'UnlabeledNeuroSafe-20170713_075305_378078.png', 'UnlabeledNeuroSafe-20170713_075308_077858.png', 'UnlabeledNeuroSafe-20170713_075310_637152.png', 'UnlabeledNeuroSafe-20170713_075313_001120.png', 'UnlabeledNeuroSafe-20170713_075404_310881.png', 'UnlabeledNeuroSafe-20170713_075648_175548.png', 'UnlabeledNeuroSafe-20170713_075650_800894.png', 'UnlabeledNeuroSafe-20170713_075653_300423.png', 'UnlabeledNeuroSafe-20170713_075705_737468.png', 'UnlabeledNeuroSafe-20170713_075711_860735.png', 'UnlabeledNeuroSafe-20170713_075737_610002.png', 'UnlabeledNeuroSafe-20170713_075740_109320.png', 'UnlabeledNeuroSafe-20170713_075742_670890.png', 'UnlabeledNeuroSafe-20170713_075752_609607.png', 'UnlabeledNeuroSafe-20170713_075755_496801.png', 'UnlabeledNeuroSafe-20170713_075759_733760.png', 'UnlabeledNeuroSafe-20170713_075802_232536.png', 'UnlabeledNeuroSafe-20170713_075804_922051.png', 'UnlabeledNeuroSafe-20170713_075807_544784.png', 'UnlabeledNeuroSafe-20170713_075810_044121.png', 'UnlabeledNeuroSafe-20170713_075815_668462.png', 'UnlabeledNeuroSafe-20170713_075824_108886.png', 'UnlabeledNeuroSafe-20170713_075826_667666.png', 'UnlabeledNeuroSafe-20170713_075829_242263.png', 'UnlabeledNeuroSafe-20170713_075833_730347.png', 'UnlabeledNeuroSafe-20170713_075836_230652.png', 'UnlabeledNeuroSafe-20170713_080000_536460.png', 'UnlabeledNeuroSafe-20170713_080013_785409.png', 'UnlabeledNeuroSafe-20170713_080020_786869.png', 'UnlabeledNeuroSafe-20170713_080047_659311.png', 'UnlabeledNeuroSafe-20170713_080050_156757.png', 'UnlabeledNeuroSafe-20170713_080057_220347.png', 'UnlabeledNeuroSafe-20170713_080158_215353.png', 'UnlabeledNeuroSafe-20170713_080200_841387.png', 'UnlabeledNeuroSafe-20170713_080203_402319 (1).png', 'UnlabeledNeuroSafe-20170713_080206_093646.png', 'UnlabeledNeuroSafe-20170713_080218_025013.png', 'UnlabeledNeuroSafe-20170713_080220_474291.png', 'UnlabeledNeuroSafe-20170713_080223_400541.png', 'UnlabeledNeuroSafe-20170713_080226_025452.png', 'UnlabeledNeuroSafe-20170713_080248_840091.png', 'UnlabeledNeuroSafe-20170713_080251_272666.png', 'UnlabeledNeuroSafe-20170713_080259_522009.png', 'UnlabeledNeuroSafe-20170713_080823_945281.png', 'UnlabeledNeuroSafe-20170713_080826_496544.png', 'UnlabeledNeuroSafe-20170713_080842_059501.png', 'UnlabeledNeuroSafe-20170713_082654_540556.png', 'UnlabeledNeuroSafe-20170713_082656_979134.png', 'UnlabeledNeuroSafe-20170713_082718_101504.png', 'UnlabeledNeuroSafe-20170713_082804_290508.png', 'UnlabeledNeuroSafe-20170713_082835_532581.png', 'UnlabeledNeuroSafe-20170713_082842_969294.png', 'UnlabeledNeuroSafe-20170713_082859_469255.png', 'UnlabeledNeuroSafe-20170713_082905_968785.png', 'UnlabeledNeuroSafe-20170713_083006_213493.png', 'UnlabeledNeuroSafe-20170713_083052_152527.png', 'UnlabeledNeuroSafe-20170713_083145_898447.png', 'UnlabeledNeuroSafe-20170713_083148_392483.png', 'UnlabeledNeuroSafe-20170713_084027_275137.png', 'UnlabeledNeuroSafe-20170713_084029_900313.png', 'UnlabeledNeuroSafe-20170713_084032_274537.png', 'UnlabeledNeuroSafe-20170713_084035_026436.png', 'UnlabeledNeuroSafe-20170713_084037_461946.png', 'UnlabeledNeuroSafe-20170713_084039_901467.png', 'UnlabeledNeuroSafe-20170713_090059_059580.png', 'UnlabeledNeuroSafe-20170713_090227_863818.png', 'UnlabeledNeuroSafe-20170713_090230_302193.png', 'UnlabeledNeuroSafe-20170713_090349_359372.png', 'UnlabeledNeuroSafe-20170713_090433_794624.png', 'UnlabeledNeuroSafe-20170713_092558_511601.png', 'UnlabeledNeuroSafe-20170715_083811_154222.png', 'UnlabeledNeuroSafe-20170715_084429_312748.png', 'UnlabeledNeuroSafe-20170716_023143_614534.png', 'UnlabeledNeuroSafe-20170716_035411_940332.png', 'UnlabeledNeuroSafe-20170716_035418_564661.png', 'UnlabeledNeuroSafe-20170716_035421_126306.png', 'UnlabeledNeuroSafe-20170716_040240_209826.png', 'UnlabeledNeuroSafe-20170716_040242_646847.png', 'UnlabeledNeuroSafe-20170716_040257_895866.png', 'UnlabeledNeuroSafe-20170716_040300_335040.png', 'UnlabeledNeuroSafe-20170716_040305_020201.png', 'UnlabeledNeuroSafe-20170716_040340_205196.png', 'UnlabeledNeuroSafe-20170716_040342_772921.png', 'UnlabeledNeuroSafe-20170716_045850_271511.png', 'UnlabeledNeuroSafe-20170716_045947_896719.png', 'UnlabeledNeuroSafe-20170716_050011_390479.png', 'UnlabeledNeuroSafe-20170716_050013_827772.png', 'UnlabeledNeuroSafe-20170716_073750_935112.png', 'UnlabeledNeuroSafe-20170716_083123_882383.png', 'UnlabeledNeuroSafe-20170716_083210_759491.png', 'UnlabeledNeuroSafe-20170716_083213_252366.png', 'UnlabeledNeuroSafe-20170716_083326_246803.png', 'UnlabeledNeuroSafe-20170716_085816_009791.png', 'UnlabeledNeuroSafe-20170716_090213_679314.png', 'UnlabeledNeuroSafe-20170716_090216_366544.png', 'UnlabeledNeuroSafe-20170716_094445_676568.png', 'UnlabeledNeuroSafe-20170716_094448_301067.png', 'UnlabeledNeuroSafe-20170716_094450_799601.png', 'UnlabeledNeuroSafe-20170716_094459_049053.png', 'UnlabeledNeuroSafe-20170716_094501_424984.png', 'UnlabeledNeuroSafe-20170716_113301_562685.png', 'UnlabeledNeuroSafe-20170716_115101_355689.png', 'UnlabeledNeuroSafe-20170716_115103_980148.png', 'UnlabeledNeuroSafe-20170716_120249_995199.png', 'UnlabeledNeuroSafe-20170716_120252_562200.png', 'UnlabeledNeuroSafe-20170718_095609_515727.png', 'UnlabeledNeuroSafe-20170718_095736_264812.png', 'UnlabeledNeuroSafe-20170718_095738_769627.png', 'UnlabeledNeuroSafe-20170718_103505_219782.png', 'UnlabeledNeuroSafe-20170718_103513_218819.png', 'UnlabeledNeuroSafe-20170718_130257_306467.png', 'UnlabeledNeuroSafe-20170718_130259_744977.png', 'UnlabeledNeuroSafe-20170718_153843_926848.png', 'UnlabeledNeuroSafe-20170718_153846_421066.png', 'UnlabeledNeuroSafe-20170718_153848_986504.png', 'UnlabeledNeuroSafe-20170718_161222_150477.png', 'UnlabeledNeuroSafe-20170718_161224_713222.png', 'UnlabeledNeuroSafe-20170718_161227_144617.png', 'UnlabeledNeuroSafe-20170718_193510_373678.png', 'UnlabeledNeuroSafe-20170718_193518_866551.png', 'UnlabeledNeuroSafe-20170719_002027_737936.png', 'UnlabeledNeuroSafe-20170719_011814_789843.png', 'UnlabeledNeuroSafe-20170719_011817_352304.png', 'UnlabeledNeuroSafe-20170719_011819_852351.png', 'UnlabeledNeuroSafe-20170719_011822_414394.png', 'UnlabeledNeuroSafe-20170719_020451_957098.png', 'UnlabeledNeuroSafe-20170719_020454_456878.png', 'UnlabeledNeuroSafe-20170719_024322_170297.png', 'UnlabeledNeuroSafe-20170719_024324_663460.png', 'UnlabeledNeuroSafe-20170719_060504_954691.png', 'UnlabeledNeuroSafe-20170719_060515_134755.png', 'UnlabeledNeuroSafe-20170719_065323_171932.png', 'UnlabeledNeuroSafe-20170719_065325_735572.png', 'UnlabeledNeuroSafe-20170719_065328_421382.png', 'UnlabeledNeuroSafe-20170719_074028_025155.png', 'UnlabeledNeuroSafe-20170719_092025_396667.png', 'UnlabeledNeuroSafe-20170719_092027_900478.png', 'UnlabeledNeuroSafe-20170719_092030_454980.png', 'UnlabeledNeuroSafe-20170719_092219_821392.png', 'UnlabeledNeuroSafe-20170719_092307_379337.png', 'UnlabeledNeuroSafe-20170719_095924_907294.png', 'UnlabeledNeuroSafe-20170719_121051_315879.png', 'UnlabeledNeuroSafe-20170719_121109_756146.png', 'UnlabeledNeuroSafe-20170719_121112_250490.png', 'UnlabeledNeuroSafe-20170719_121115_875519.png', 'UnlabeledNeuroSafe-20170719_121126_315499.png', 'UnlabeledNeuroSafe-20170719_131623_834129.png', 'UnlabeledNeuroSafe-20170719_131629_209363.png', 'UnlabeledNeuroSafe-20170719_131631_770968.png', 'UnlabeledNeuroSafe-20170719_190347_168466.png', 'UnlabeledNeuroSafe-20170719_222951_765135.png', 'UnlabeledNeuroSafe-20170719_222959_582956.png', 'UnlabeledNeuroSafe-20170719_234254_691469.png', 'UnlabeledNeuroSafe-20170719_234258_815932.png', 'UnlabeledNeuroSafe-20170719_234303_690163.png', 'UnlabeledNeuroSafe-20170719_234309_628155.png', 'UnlabeledNeuroSafe-20170720_011538_154461.png', 'UnlabeledNeuroSafe-20170720_015640_723029.png', 'UnlabeledNeuroSafe-20170720_015643_285000.png', 'UnlabeledNeuroSafe-20170720_015645_786480.png', 'UnlabeledNeuroSafe-20170720_021019_038517.png', 'UnlabeledNeuroSafe-20170720_021859_499500.png', 'UnlabeledNeuroSafe-20170720_021901_999420.png', 'UnlabeledNeuroSafe-20170720_021904_561874.png', 'UnlabeledNeuroSafe-20170720_023542_425070.png', 'UnlabeledNeuroSafe-20170720_023544_925236.png', 'UnlabeledNeuroSafe-20170720_024548_322136.png', 'UnlabeledNeuroSafe-20170720_024629_313502.png', 'UnlabeledNeuroSafe-20170720_024631_875841.png', 'UnlabeledNeuroSafe-20170720_024703_685920.png', 'UnlabeledNeuroSafe-20170720_025530_649136.png', 'UnlabeledNeuroSafe-20170720_025708_265436.png', 'UnlabeledNeuroSafe-20170720_025710_770203.png', 'UnlabeledNeuroSafe-20170720_025713_266232.png', 'UnlabeledNeuroSafe-20170720_031004_400814.png', 'UnlabeledNeuroSafe-20170720_050350_204438.png', 'UnlabeledNeuroSafe-20170720_061135_839533.png', 'UnlabeledNeuroSafe-20170720_061139_651560.png', 'UnlabeledNeuroSafe-20170720_061142_276554.png', 'UnlabeledNeuroSafe-20170720_065848_691826.png', 'UnlabeledNeuroSafe-20170720_065905_690301.png', 'UnlabeledNeuroSafe-20170720_065940_068461.png', 'UnlabeledNeuroSafe-20170720_065942_503647.png', 'UnlabeledNeuroSafe-20170720_070010_686799.png', 'UnlabeledNeuroSafe-20170720_070016_939494.png', 'UnlabeledNeuroSafe-20170720_071335_313739.png', 'UnlabeledNeuroSafe-20170720_071449_996632.png', 'UnlabeledNeuroSafe-20170720_071951_972409.png', 'UnlabeledNeuroSafe-20170720_071956_159569.png', 'UnlabeledNeuroSafe-20170720_071958_784203.png', 'UnlabeledNeuroSafe-20170720_072001_284222.png', 'UnlabeledNeuroSafe-20170720_075123_956458.png', 'UnlabeledNeuroSafe-20170720_081917_580084.png', 'UnlabeledNeuroSafe-20170720_090506_813667.png', 'UnlabeledNeuroSafe-20170720_090509_313341.png', 'UnlabeledNeuroSafe-20170720_090511_750826.png', 'UnlabeledNeuroSafe-20170720_090514_188358.png', 'UnlabeledNeuroSafe-20170720_090516_812988.png', 'UnlabeledNeuroSafe-20170720_090525_437375.png', 'UnlabeledNeuroSafe-20170720_090527_999525.png', 'UnlabeledNeuroSafe-20170720_090530_499597.png', 'UnlabeledNeuroSafe-20170720_090533_061618.png', 'UnlabeledNeuroSafe-20170720_090535_625069.png', 'UnlabeledNeuroSafe-20170720_090538_123695.png', 'UnlabeledNeuroSafe-20170720_090541_436608.png', 'UnlabeledNeuroSafe-20170720_091544_205302.png', 'UnlabeledNeuroSafe-20170720_091644_074865.png', 'UnlabeledNeuroSafe-20170720_091703_573334.png', 'UnlabeledNeuroSafe-20170720_093500_312429.png', 'UnlabeledNeuroSafe-20170720_093503_431338.png', 'UnlabeledNeuroSafe-20170720_093508_368443.png', 'UnlabeledNeuroSafe-20170720_093518_243910.png', 'UnlabeledNeuroSafe-20170720_093524_179566.png', 'UnlabeledNeuroSafe-20170720_101327_140654.png', 'UnlabeledNeuroSafe-20170720_101647_746097.png', 'UnlabeledNeuroSafe-20170720_101650_245851.png', 'UnlabeledNeuroSafe-20170720_101715_993568.png', 'UnlabeledNeuroSafe-20170720_101823_430866.png', 'UnlabeledNeuroSafe-20170720_101833_925603.png', 'UnlabeledNeuroSafe-20170720_112542_750938.png', 'UnlabeledNeuroSafe-20170720_112734_867512.png', 'UnlabeledNeuroSafe-20170720_112737_367515.png', 'UnlabeledNeuroSafe-20170720_112742_304193.png', 'UnlabeledNeuroSafe-20170720_112803_677628.png', 'UnlabeledNeuroSafe-20170720_112823_182383.png', 'UnlabeledNeuroSafe-20170720_112825_619341.png', 'UnlabeledNeuroSafe-20170720_112832_050465.png', 'UnlabeledNeuroSafe-20170720_112834_550403.png', 'UnlabeledNeuroSafe-20170720_112837_112877.png', 'UnlabeledNeuroSafe-20170720_112839_612660.png', 'UnlabeledNeuroSafe-20170720_112910_672748.png', 'UnlabeledNeuroSafe-20170720_112913_178213.png', 'UnlabeledNeuroSafe-20170720_112915_613361.png', 'UnlabeledNeuroSafe-20170720_133452_359922.png', 'UnlabeledNeuroSafe-20170720_200034_950933.png', 'UnlabeledNeuroSafe-20170720_214903_588857.png', 'UnlabeledNeuroSafe-20170720_223427_947821.png', 'UnlabeledNeuroSafe-20170720_223432_259738.png', 'UnlabeledNeuroSafe-20170720_223445_509784.png', 'UnlabeledNeuroSafe-20170720_230201_012418.png', 'UnlabeledNeuroSafe-20170721_005005_784755.png', 'UnlabeledNeuroSafe-20170721_005011_965781.png', 'UnlabeledNeuroSafe-20170721_005025_652812.png', 'UnlabeledNeuroSafe-20170721_005037_463828.png', 'UnlabeledNeuroSafe-20170721_005058_212568.png', 'UnlabeledNeuroSafe-20170721_005107_092528.png', 'UnlabeledNeuroSafe-20170721_005134_715797.png', 'UnlabeledNeuroSafe-20170721_005137_152850.png', 'UnlabeledNeuroSafe-20170721_012126_076594.png', 'UnlabeledNeuroSafe-20170721_012128_513844.png', 'UnlabeledNeuroSafe-20170721_012131_013915.png']\n"
     ]
    }
   ],
   "source": [
    "filename = []\n",
    "for image_filename in image_filenames:\n",
    "    filename.append(image_filename.split(\"/\")[3])\n",
    "print(filename)"
   ]
  },
  {
   "cell_type": "code",
   "execution_count": null,
   "metadata": {
    "collapsed": true
   },
   "outputs": [],
   "source": []
  },
  {
   "cell_type": "code",
   "execution_count": null,
   "metadata": {
    "collapsed": true
   },
   "outputs": [],
   "source": []
  },
  {
   "cell_type": "code",
   "execution_count": null,
   "metadata": {
    "collapsed": true
   },
   "outputs": [],
   "source": []
  },
  {
   "cell_type": "code",
   "execution_count": 76,
   "metadata": {
    "collapsed": true
   },
   "outputs": [],
   "source": [
    "import tensorflow as tf\n",
    "import numpy as np\n",
    "\n",
    "import imageflow\n",
    "import os, glob\n",
    "\n",
    "sess = tf.InteractiveSession()\n",
    "\n",
    "def read_png(filename_queue):\n",
    "    reader = tf.WholeFileReader()\n",
    "    key, value = reader.read(filename_queue)\n",
    "\n",
    "    my_img = tf.image.decode_png(value)\n",
    "    my_img.set_shape([299, 299, 3])\n",
    "#    print(value)\n",
    "    return my_img\n",
    "    #####################################################\n",
    "def read_image_data():\n",
    "    png_files = []\n",
    "    images_tensor = []\n",
    "\n",
    "    i = 1\n",
    "    WORKING_PATH = \"./RP_data_3/critical\"\n",
    "    png_files_path = glob.glob(os.path.join(WORKING_PATH, '*.png'))\n",
    "#     print(png_files_path[:])\n",
    "\n",
    "    for filename in png_files_path:\n",
    "        print(i)\n",
    "        i += 1\n",
    "        png_files.append(filename)\n",
    "        \n",
    "#     print(type(png_files)) == print(png_files_path[:])\n",
    "\n",
    "#     filename_queue = Queue.Queue()\n",
    "#     filename_queue.empty()\n",
    "    filename_queue = tf.train.string_input_producer(png_files_path)\n",
    "\n",
    "    mlist = [read_png(filename_queue) for _ in range(len(png_files_path))]\n",
    "    print(mlist)\n",
    "    print(\"mlist's type:\", type(mlist)) #list\n",
    "\n",
    "\n",
    "\n",
    "    init = tf.initialize_all_variables()\n",
    "\n",
    "    sess = tf.Session()\n",
    "    sess.run(init)\n",
    "\n",
    "    images_tensor = tf.convert_to_tensor(images_tensor)\n",
    "    print(type(images_tensor))\n",
    "\n",
    "\n",
    "    sess.close()"
   ]
  },
  {
   "cell_type": "code",
   "execution_count": 77,
   "metadata": {},
   "outputs": [
    {
     "name": "stdout",
     "output_type": "stream",
     "text": [
      "1\n",
      "2\n",
      "3\n",
      "4\n",
      "5\n",
      "6\n",
      "7\n",
      "8\n",
      "9\n",
      "10\n",
      "11\n",
      "12\n",
      "13\n",
      "14\n",
      "15\n",
      "16\n",
      "17\n",
      "18\n",
      "19\n",
      "20\n",
      "21\n",
      "22\n",
      "23\n",
      "24\n",
      "25\n",
      "26\n",
      "27\n",
      "28\n",
      "29\n",
      "30\n",
      "31\n",
      "32\n",
      "33\n",
      "34\n",
      "35\n",
      "36\n",
      "37\n",
      "38\n",
      "39\n",
      "40\n",
      "41\n",
      "42\n",
      "43\n",
      "44\n",
      "45\n",
      "46\n",
      "47\n",
      "48\n",
      "49\n",
      "50\n",
      "51\n",
      "52\n",
      "53\n",
      "54\n",
      "55\n",
      "56\n",
      "57\n",
      "58\n",
      "59\n",
      "60\n",
      "61\n",
      "62\n",
      "63\n",
      "64\n",
      "65\n",
      "66\n",
      "67\n",
      "68\n",
      "69\n",
      "70\n",
      "71\n",
      "72\n",
      "73\n",
      "74\n",
      "75\n",
      "76\n",
      "77\n",
      "78\n",
      "79\n",
      "80\n",
      "81\n",
      "82\n",
      "83\n",
      "84\n",
      "85\n",
      "86\n",
      "87\n",
      "88\n",
      "89\n",
      "90\n",
      "91\n",
      "92\n",
      "93\n",
      "94\n",
      "95\n",
      "96\n",
      "97\n",
      "98\n",
      "99\n",
      "100\n",
      "101\n",
      "102\n",
      "103\n",
      "104\n",
      "105\n",
      "106\n",
      "107\n",
      "108\n",
      "109\n",
      "110\n",
      "111\n",
      "112\n",
      "113\n",
      "114\n",
      "115\n",
      "116\n",
      "117\n",
      "118\n",
      "119\n",
      "120\n",
      "121\n",
      "122\n",
      "123\n",
      "124\n",
      "125\n",
      "126\n",
      "127\n",
      "128\n",
      "129\n",
      "130\n",
      "131\n",
      "132\n",
      "133\n",
      "134\n",
      "135\n",
      "136\n",
      "137\n",
      "138\n",
      "139\n",
      "140\n",
      "141\n",
      "142\n",
      "143\n",
      "144\n",
      "145\n",
      "146\n",
      "147\n",
      "148\n",
      "149\n",
      "150\n",
      "151\n",
      "152\n",
      "153\n",
      "154\n",
      "155\n",
      "156\n",
      "157\n",
      "158\n",
      "159\n",
      "160\n",
      "161\n",
      "162\n",
      "163\n",
      "164\n",
      "165\n",
      "166\n",
      "167\n",
      "168\n",
      "169\n",
      "170\n",
      "171\n",
      "172\n",
      "173\n",
      "174\n",
      "175\n",
      "176\n",
      "177\n",
      "178\n",
      "179\n",
      "180\n",
      "181\n",
      "182\n",
      "183\n",
      "184\n",
      "185\n",
      "186\n",
      "187\n",
      "188\n",
      "189\n",
      "190\n",
      "191\n",
      "192\n",
      "193\n",
      "194\n",
      "195\n",
      "196\n",
      "197\n",
      "198\n",
      "199\n",
      "200\n",
      "201\n",
      "202\n",
      "203\n",
      "204\n",
      "205\n",
      "206\n",
      "207\n",
      "208\n",
      "209\n",
      "210\n",
      "211\n",
      "212\n",
      "213\n",
      "214\n",
      "215\n",
      "216\n",
      "217\n",
      "218\n",
      "219\n",
      "220\n",
      "221\n",
      "222\n",
      "223\n",
      "224\n",
      "225\n",
      "226\n",
      "227\n",
      "228\n",
      "229\n",
      "230\n",
      "231\n",
      "232\n",
      "233\n",
      "234\n",
      "235\n",
      "236\n",
      "237\n",
      "238\n",
      "239\n",
      "240\n",
      "241\n",
      "242\n",
      "243\n",
      "244\n",
      "245\n",
      "246\n",
      "247\n",
      "248\n",
      "249\n",
      "250\n",
      "251\n",
      "252\n",
      "253\n",
      "254\n",
      "255\n",
      "256\n",
      "257\n",
      "258\n",
      "259\n",
      "260\n",
      "261\n",
      "262\n",
      "263\n",
      "264\n",
      "265\n",
      "266\n",
      "267\n",
      "268\n",
      "269\n",
      "270\n",
      "271\n",
      "272\n",
      "273\n",
      "274\n",
      "275\n",
      "276\n",
      "277\n",
      "278\n",
      "279\n",
      "280\n",
      "281\n",
      "282\n",
      "283\n",
      "284\n",
      "285\n",
      "286\n",
      "287\n",
      "288\n",
      "289\n",
      "290\n",
      "291\n",
      "292\n",
      "293\n",
      "294\n",
      "295\n",
      "296\n",
      "297\n",
      "298\n",
      "299\n",
      "300\n",
      "301\n",
      "302\n",
      "303\n",
      "304\n",
      "305\n",
      "306\n",
      "307\n",
      "308\n",
      "309\n",
      "310\n",
      "311\n",
      "312\n",
      "313\n",
      "314\n",
      "315\n",
      "316\n",
      "317\n",
      "318\n",
      "319\n",
      "320\n"
     ]
    },
    {
     "ename": "NameError",
     "evalue": "name 'Queue' is not defined",
     "output_type": "error",
     "traceback": [
      "\u001b[0;31m---------------------------------------------------------------------------\u001b[0m",
      "\u001b[0;31mNameError\u001b[0m                                 Traceback (most recent call last)",
      "\u001b[0;32m<ipython-input-77-c42f5fd0b1b4>\u001b[0m in \u001b[0;36m<module>\u001b[0;34m()\u001b[0m\n\u001b[0;32m----> 1\u001b[0;31m \u001b[0mread_image_data\u001b[0m\u001b[0;34m(\u001b[0m\u001b[0;34m)\u001b[0m\u001b[0;34m\u001b[0m\u001b[0m\n\u001b[0m",
      "\u001b[0;32m<ipython-input-76-45edf1021d95>\u001b[0m in \u001b[0;36mread_image_data\u001b[0;34m()\u001b[0m\n\u001b[1;32m     32\u001b[0m \u001b[0;31m#     print(type(png_files)) == print(png_files_path[:])\u001b[0m\u001b[0;34m\u001b[0m\u001b[0;34m\u001b[0m\u001b[0m\n\u001b[1;32m     33\u001b[0m \u001b[0;34m\u001b[0m\u001b[0m\n\u001b[0;32m---> 34\u001b[0;31m     \u001b[0mfilename_queue\u001b[0m \u001b[0;34m=\u001b[0m \u001b[0mQueue\u001b[0m\u001b[0;34m.\u001b[0m\u001b[0mQueue\u001b[0m\u001b[0;34m(\u001b[0m\u001b[0;34m)\u001b[0m\u001b[0;34m\u001b[0m\u001b[0m\n\u001b[0m\u001b[1;32m     35\u001b[0m     \u001b[0mfilename_queue\u001b[0m\u001b[0;34m.\u001b[0m\u001b[0mempty\u001b[0m\u001b[0;34m(\u001b[0m\u001b[0;34m)\u001b[0m\u001b[0;34m\u001b[0m\u001b[0m\n\u001b[1;32m     36\u001b[0m     \u001b[0mfilename_queue\u001b[0m \u001b[0;34m=\u001b[0m \u001b[0mtf\u001b[0m\u001b[0;34m.\u001b[0m\u001b[0mtrain\u001b[0m\u001b[0;34m.\u001b[0m\u001b[0mstring_input_producer\u001b[0m\u001b[0;34m(\u001b[0m\u001b[0mpng_files_path\u001b[0m\u001b[0;34m)\u001b[0m\u001b[0;34m\u001b[0m\u001b[0m\n",
      "\u001b[0;31mNameError\u001b[0m: name 'Queue' is not defined"
     ]
    }
   ],
   "source": [
    "read_image_data()"
   ]
  },
  {
   "cell_type": "code",
   "execution_count": 123,
   "metadata": {},
   "outputs": [
    {
     "name": "stdout",
     "output_type": "stream",
     "text": [
      "WARNING:tensorflow:From /Users/do-hyungkwon/anaconda/lib/python3.6/site-packages/tensorflow/python/util/tf_should_use.py:170: initialize_all_variables (from tensorflow.python.ops.variables) is deprecated and will be removed after 2017-03-02.\n",
      "Instructions for updating:\n",
      "Use `tf.global_variables_initializer` instead.\n",
      "(480, 640, 3)\n"
     ]
    },
    {
     "ename": "AttributeError",
     "evalue": "'numpy.ndarray' object has no attribute 'fromarray'",
     "output_type": "error",
     "traceback": [
      "\u001b[0;31m---------------------------------------------------------------------------\u001b[0m",
      "\u001b[0;31mAttributeError\u001b[0m                            Traceback (most recent call last)",
      "\u001b[0;32m<ipython-input-123-cbadab729187>\u001b[0m in \u001b[0;36m<module>\u001b[0;34m()\u001b[0m\n\u001b[1;32m     21\u001b[0m \u001b[0;34m\u001b[0m\u001b[0m\n\u001b[1;32m     22\u001b[0m \u001b[0mprint\u001b[0m\u001b[0;34m(\u001b[0m\u001b[0mimage\u001b[0m\u001b[0;34m.\u001b[0m\u001b[0mshape\u001b[0m\u001b[0;34m)\u001b[0m\u001b[0;34m\u001b[0m\u001b[0m\n\u001b[0;32m---> 23\u001b[0;31m \u001b[0mplt\u001b[0m\u001b[0;34m.\u001b[0m\u001b[0mimshow\u001b[0m\u001b[0;34m(\u001b[0m\u001b[0mimage\u001b[0m\u001b[0;34m.\u001b[0m\u001b[0mfromarray\u001b[0m\u001b[0;34m(\u001b[0m\u001b[0mnp\u001b[0m\u001b[0;34m.\u001b[0m\u001b[0masarray\u001b[0m\u001b[0;34m(\u001b[0m\u001b[0mimage\u001b[0m\u001b[0;34m)\u001b[0m\u001b[0;34m)\u001b[0m\u001b[0;34m)\u001b[0m\u001b[0;34m\u001b[0m\u001b[0m\n\u001b[0m\u001b[1;32m     24\u001b[0m \u001b[0;34m\u001b[0m\u001b[0m\n\u001b[1;32m     25\u001b[0m \u001b[0mcoord\u001b[0m\u001b[0;34m.\u001b[0m\u001b[0mrequest_stop\u001b[0m\u001b[0;34m(\u001b[0m\u001b[0;34m)\u001b[0m\u001b[0;34m\u001b[0m\u001b[0m\n",
      "\u001b[0;31mAttributeError\u001b[0m: 'numpy.ndarray' object has no attribute 'fromarray'"
     ]
    }
   ],
   "source": [
    "import matplotlib.pyplot as plt\n",
    "\n",
    "filename_queue = tf.train.string_input_producer(['./RP_data_3/critical/NeuroSafe-20170712_121145_045390.png']) #  list of files to read\n",
    "\n",
    "reader = tf.WholeFileReader()\n",
    "key, value = reader.read(filename_queue)\n",
    "\n",
    "my_img = tf.image.decode_png(value) # use png or jpg decoder based on your files.\n",
    "\n",
    "init_op = tf.initialize_all_variables()\n",
    "with tf.Session() as sess:\n",
    "    sess.run(init_op)\n",
    "\n",
    "# Start populating the filename queue.\n",
    "\n",
    "coord = tf.train.Coordinator()\n",
    "threads = tf.train.start_queue_runners(coord=coord)\n",
    "\n",
    "for _ in range(320): #length of your filename list\n",
    "    image = my_img.eval() #here is your image Tensor :) \n",
    "\n",
    "print(image.shape)\n",
    "plt.imshow(image.fromarray(np.asarray(image)))\n",
    "\n",
    "coord.request_stop()\n",
    "coord.join(threads)\n"
   ]
  },
  {
   "cell_type": "code",
   "execution_count": null,
   "metadata": {
    "collapsed": true
   },
   "outputs": [],
   "source": []
  },
  {
   "cell_type": "code",
   "execution_count": null,
   "metadata": {
    "collapsed": true
   },
   "outputs": [],
   "source": []
  },
  {
   "cell_type": "code",
   "execution_count": null,
   "metadata": {
    "collapsed": true
   },
   "outputs": [],
   "source": []
  },
  {
   "cell_type": "code",
   "execution_count": null,
   "metadata": {
    "collapsed": true
   },
   "outputs": [],
   "source": []
  },
  {
   "cell_type": "code",
   "execution_count": 103,
   "metadata": {},
   "outputs": [
    {
     "name": "stdout",
     "output_type": "stream",
     "text": [
      "((55000, 784), (55000, 10))\n",
      "\n",
      "((5000, 784), (5000, 10))\n",
      "\n",
      "((10000, 784), (10000, 10))\n",
      "[[ 0.  0.  0. ...,  0.  0.  0.]\n",
      " [ 0.  0.  0. ...,  0.  0.  0.]\n",
      " [ 0.  0.  0. ...,  0.  0.  0.]\n",
      " ..., \n",
      " [ 0.  0.  0. ...,  0.  0.  0.]\n",
      " [ 0.  0.  0. ...,  0.  0.  0.]\n",
      " [ 0.  0.  0. ...,  0.  0.  0.]]\n",
      "<class 'numpy.ndarray'>\n"
     ]
    }
   ],
   "source": [
    "# coding: utf-8\n",
    "import urllib.request\n",
    "import os.path\n",
    "import gzip\n",
    "import pickle\n",
    "import os\n",
    "import numpy as np\n",
    "    \n",
    "# url_base = 'http://yann.lecun.com/exdb/mnist/'\n",
    "# key_file = {\n",
    "#     'train_img':'train-images-idx3-ubyte.gz',\n",
    "#     'train_label':'train-labels-idx1-ubyte.gz',\n",
    "#     'test_img':'t10k-images-idx3-ubyte.gz',\n",
    "#     'test_label':'t10k-labels-idx1-ubyte.gz'\n",
    "# }\n",
    "\n",
    "dataset_dir = os.path.dirname(\"/Users/do-hyungkwon/GoogleDrive/jupyter_notebook/MNIST_data.\")\n",
    "save_file = dataset_dir + \"/mnist.pkl\"\n",
    "\n",
    "train_num = 60000\n",
    "test_num = 10000\n",
    "img_dim = (1, 28, 28)\n",
    "img_size = 784\n",
    "\n",
    "def _download(file_name):\n",
    "    file_path = dataset_dir + \"/\" + file_name\n",
    "    print(file_path)\n",
    "    if os.path.exists(file_path):\n",
    "        return\n",
    "\n",
    "    print(\"Downloading \" + file_name + \" ... \")\n",
    "    urllib.request.urlretrieve(url_base + file_name, file_path)\n",
    "    print(\"Done\")\n",
    "    \n",
    "def download_mnist():\n",
    "    for v in key_file.values():\n",
    "        _download(v)\n",
    "        \n",
    "def _load_label(file_name):\n",
    "    file_path = dataset_dir + \"/\" + file_name\n",
    "    \n",
    "    print(\"Converting \" + file_name + \" to NumPy Array ...\")\n",
    "    with gzip.open(file_path, 'rb') as f:\n",
    "            labels = np.frombuffer(f.read(), np.uint8, offset=8)\n",
    "    print(\"Done\")\n",
    "    \n",
    "    return labels\n",
    "\n",
    "def _load_img(file_name):\n",
    "    file_path = dataset_dir + \"/\" + file_name\n",
    "    \n",
    "    print(\"Converting \" + file_name + \" to NumPy Array ...\")    \n",
    "    with gzip.open(file_path, 'rb') as f:\n",
    "            data = np.frombuffer(f.read(), np.uint8, offset=16)\n",
    "    data = data.reshape(-1, img_size)\n",
    "    print(\"Done\")\n",
    "    \n",
    "    return data\n",
    "    \n",
    "def _convert_numpy():\n",
    "    dataset = {}\n",
    "    dataset['train_img'] =  _load_img(key_file['train_img'])\n",
    "    dataset['train_label'] = _load_label(key_file['train_label'])\n",
    "    dataset['test_img'] = _load_img(key_file['test_img'])\n",
    "    dataset['test_label'] = _load_label(key_file['test_label'])\n",
    "\n",
    "    dataset['validation_img'] = dataset['train_img'][55000:]\n",
    "    dataset['validation_label'] = dataset['train_label'][55000:]\n",
    "    dataset['train_img'] =  dataset['train_img'][:55000]\n",
    "    dataset['train_label'] = dataset['train_label'][:55000]\n",
    "    return dataset\n",
    "\n",
    "def init_mnist():\n",
    "    download_mnist()\n",
    "    dataset = _convert_numpy()\n",
    "    print(\"Creating pickle file ...\")\n",
    "    with open(save_file, 'wb') as f:\n",
    "        pickle.dump(dataset, f, -1)\n",
    "    print(\"Done!\")\n",
    "\n",
    "def _change_one_hot_label(X):\n",
    "    T = np.zeros((X.size, 10))\n",
    "#     print(\"X : \",X)\n",
    "    for idx, row in enumerate(T):\n",
    "        row[X[idx]] = 1\n",
    "        \n",
    "    return T\n",
    "    \n",
    "\n",
    "def load_mnist(normalize=True, flatten=True, one_hot_label=True):\n",
    "    if not os.path.exists(save_file):\n",
    "        init_mnist()\n",
    "        \n",
    "    with open(save_file, 'rb') as f:\n",
    "        dataset = pickle.load(f)\n",
    "    \n",
    "    if normalize:\n",
    "        for key in ('train_img', 'validation_img', 'test_img'):\n",
    "            dataset[key] = dataset[key].astype(np.float32)\n",
    "            dataset[key] /= 255.0\n",
    "            \n",
    "    \n",
    "    \n",
    "    if one_hot_label:\n",
    "        dataset['train_label'] = _change_one_hot_label(dataset['train_label'])\n",
    "#         print(dataset['train_label'])\n",
    "#         print(type(dataset['train_label']))\n",
    "#         print(dataset['train_label'].shape)\n",
    "        dataset['validation_label'] = _change_one_hot_label(dataset['validation_label'])\n",
    "        dataset['test_label'] = _change_one_hot_label(dataset['test_label'])\n",
    "    \n",
    "    if not flatten:\n",
    "         for key in ('train_img', 'validation_img', 'test_img'):\n",
    "            dataset[key] = dataset[key].reshape(-1, 1, 28, 28) #풀어해치기\n",
    "\n",
    "    return (dataset['train_img'], dataset['train_label']), (dataset['validation_img'], dataset['validation_label']), (dataset['test_img'], dataset['test_label']) \n",
    "\n",
    "\n",
    "if __name__ == '__main__':\n",
    "    (img_train, label_train), (img_val, label_val), (img_test, label_test) = load_mnist()\n",
    "    print((img_train.shape, label_train.shape))\n",
    "    print()\n",
    "    print((img_val.shape, label_val.shape))\n",
    "    print()\n",
    "    print((img_test.shape, label_test.shape))\n",
    "    \n",
    "    print(img_train)\n",
    "    print(type(img_train))"
   ]
  },
  {
   "cell_type": "code",
   "execution_count": 104,
   "metadata": {
    "collapsed": true
   },
   "outputs": [],
   "source": [
    "from scipy.misc import imread\n",
    "import numpy as np\n",
    "import os\n",
    "import tensorflow as tf"
   ]
  },
  {
   "cell_type": "code",
   "execution_count": 107,
   "metadata": {},
   "outputs": [
    {
     "name": "stdout",
     "output_type": "stream",
     "text": [
      "['NeuroSafe-20170712_120329_321515.png', 'NeuroSafe-20170712_121145_045390.png', 'NeuroSafe-20170712_121250_575724.png', 'NeuroSafe-20170712_121252_706899.png', 'NeuroSafe-20170712_130540_211816.png', 'NeuroSafe-20170712_183940_048625.png', 'NeuroSafe-20170712_184600_661452.png', 'NeuroSafe-20170712_190510_514202.png', 'NeuroSafe-20170712_190526_080476.png', 'NeuroSafe-20170712_190528_037250.png', 'NeuroSafe-20170712_190538_506576.png', 'NeuroSafe-20170712_190540_350788.png', 'NeuroSafe-20170712_190547_755733.png', 'NeuroSafe-20170712_190549_611040.png', 'NeuroSafe-20170712_190604_903527.png', 'NeuroSafe-20170712_190732_619205.png', 'NeuroSafe-20170712_190741_293815.png', 'NeuroSafe-20170712_192233_596333.png', 'NeuroSafe-20170712_193540_520224.png', 'NeuroSafe-20170712_193542_464304.png', 'NeuroSafe-20170712_193544_321288.png', 'NeuroSafe-20170712_200100_703724.png', 'NeuroSafe-20170712_200128_299716.png', 'NeuroSafe-20170712_202000_188031.png', 'NeuroSafe-20170712_202002_069366.png', 'NeuroSafe-20170712_202005_784138.png', 'NeuroSafe-20170712_202020_939675.png', 'NeuroSafe-20170712_202022_764941.png', 'NeuroSafe-20170712_202048_381945.png', 'NeuroSafe-20170712_202100_408827.png', 'NeuroSafe-20170713_074550_904052.png', 'NeuroSafe-20170713_074559_721206.png', 'NeuroSafe-20170713_074609_649866.png', 'NeuroSafe-20170713_174859_413548.png', 'NeuroSafe-20170713_174902_213061.png', 'NeuroSafe-20170713_175002_668595.png', 'NeuroSafe-20170713_175042_927627.png', 'NeuroSafe-20170713_180352_448195.png', 'NeuroSafe-20170713_180413_516268.png', 'NeuroSafe-20170713_182014_765519.png', 'NeuroSafe-20170713_182134_648779.png', 'NeuroSafe-20170713_182146_246664.png', 'NeuroSafe-20170713_182148_313189.png', 'NeuroSafe-20170713_182150_512841.png', 'NeuroSafe-20170713_182212_943004.png', 'NeuroSafe-20170713_182215_008255.png', 'NeuroSafe-20170713_182218_141873.png', 'NeuroSafe-20170720_110340_542108.png', 'NeuroSafe-20170720_110354_639984.png', 'NeuroSafe-20170720_110356_773058.png', 'NeuroSafe-20170720_110435_865871.png', 'NeuroSafe-20170720_110609_681484.png', 'NeuroSafe-20170720_115612_091848.png', 'NeuroSafe-20170720_115622_149310.png', 'NeuroSafe-20170720_115626_015683.png', 'NeuroSafe-20170720_115641_879316.png', 'NeuroSafe-20170720_115755_465470.png', 'NeuroSafe-20170720_115759_566157.png', 'NeuroSafe-20170720_115801_531391.png', 'NeuroSafe-20170720_115804_797179.png', 'NeuroSafe-20170720_115811_795896.png', 'NeuroSafe-20170720_115815_929435.png', 'NeuroSafe-20170720_115817_994764.png', 'UnlabeledNeuroSafe-20170713_075243_065552.png', 'UnlabeledNeuroSafe-20170713_075248_504483.png', 'UnlabeledNeuroSafe-20170713_075253_565200.png', 'UnlabeledNeuroSafe-20170713_075256_127291.png', 'UnlabeledNeuroSafe-20170713_075259_938873.png', 'UnlabeledNeuroSafe-20170713_075302_379033.png', 'UnlabeledNeuroSafe-20170713_075305_378078.png', 'UnlabeledNeuroSafe-20170713_075308_077858.png', 'UnlabeledNeuroSafe-20170713_075310_637152.png', 'UnlabeledNeuroSafe-20170713_075313_001120.png', 'UnlabeledNeuroSafe-20170713_075404_310881.png', 'UnlabeledNeuroSafe-20170713_075648_175548.png', 'UnlabeledNeuroSafe-20170713_075650_800894.png', 'UnlabeledNeuroSafe-20170713_075653_300423.png', 'UnlabeledNeuroSafe-20170713_075705_737468.png', 'UnlabeledNeuroSafe-20170713_075711_860735.png', 'UnlabeledNeuroSafe-20170713_075737_610002.png', 'UnlabeledNeuroSafe-20170713_075740_109320.png', 'UnlabeledNeuroSafe-20170713_075742_670890.png', 'UnlabeledNeuroSafe-20170713_075752_609607.png', 'UnlabeledNeuroSafe-20170713_075755_496801.png', 'UnlabeledNeuroSafe-20170713_075759_733760.png', 'UnlabeledNeuroSafe-20170713_075802_232536.png', 'UnlabeledNeuroSafe-20170713_075804_922051.png', 'UnlabeledNeuroSafe-20170713_075807_544784.png', 'UnlabeledNeuroSafe-20170713_075810_044121.png', 'UnlabeledNeuroSafe-20170713_075815_668462.png', 'UnlabeledNeuroSafe-20170713_075824_108886.png', 'UnlabeledNeuroSafe-20170713_075826_667666.png', 'UnlabeledNeuroSafe-20170713_075829_242263.png', 'UnlabeledNeuroSafe-20170713_075833_730347.png', 'UnlabeledNeuroSafe-20170713_075836_230652.png', 'UnlabeledNeuroSafe-20170713_080000_536460.png', 'UnlabeledNeuroSafe-20170713_080013_785409.png', 'UnlabeledNeuroSafe-20170713_080020_786869.png', 'UnlabeledNeuroSafe-20170713_080047_659311.png', 'UnlabeledNeuroSafe-20170713_080050_156757.png', 'UnlabeledNeuroSafe-20170713_080057_220347.png', 'UnlabeledNeuroSafe-20170713_080158_215353.png', 'UnlabeledNeuroSafe-20170713_080200_841387.png', 'UnlabeledNeuroSafe-20170713_080203_402319 (1).png', 'UnlabeledNeuroSafe-20170713_080206_093646.png', 'UnlabeledNeuroSafe-20170713_080218_025013.png', 'UnlabeledNeuroSafe-20170713_080220_474291.png', 'UnlabeledNeuroSafe-20170713_080223_400541.png', 'UnlabeledNeuroSafe-20170713_080226_025452.png', 'UnlabeledNeuroSafe-20170713_080248_840091.png', 'UnlabeledNeuroSafe-20170713_080251_272666.png', 'UnlabeledNeuroSafe-20170713_080259_522009.png', 'UnlabeledNeuroSafe-20170713_080823_945281.png', 'UnlabeledNeuroSafe-20170713_080826_496544.png', 'UnlabeledNeuroSafe-20170713_080842_059501.png', 'UnlabeledNeuroSafe-20170713_082654_540556.png', 'UnlabeledNeuroSafe-20170713_082656_979134.png', 'UnlabeledNeuroSafe-20170713_082718_101504.png', 'UnlabeledNeuroSafe-20170713_082804_290508.png', 'UnlabeledNeuroSafe-20170713_082835_532581.png', 'UnlabeledNeuroSafe-20170713_082842_969294.png', 'UnlabeledNeuroSafe-20170713_082859_469255.png', 'UnlabeledNeuroSafe-20170713_082905_968785.png', 'UnlabeledNeuroSafe-20170713_083006_213493.png', 'UnlabeledNeuroSafe-20170713_083052_152527.png', 'UnlabeledNeuroSafe-20170713_083145_898447.png', 'UnlabeledNeuroSafe-20170713_083148_392483.png', 'UnlabeledNeuroSafe-20170713_084027_275137.png', 'UnlabeledNeuroSafe-20170713_084029_900313.png', 'UnlabeledNeuroSafe-20170713_084032_274537.png', 'UnlabeledNeuroSafe-20170713_084035_026436.png', 'UnlabeledNeuroSafe-20170713_084037_461946.png', 'UnlabeledNeuroSafe-20170713_084039_901467.png', 'UnlabeledNeuroSafe-20170713_090059_059580.png', 'UnlabeledNeuroSafe-20170713_090227_863818.png', 'UnlabeledNeuroSafe-20170713_090230_302193.png', 'UnlabeledNeuroSafe-20170713_090349_359372.png', 'UnlabeledNeuroSafe-20170713_090433_794624.png', 'UnlabeledNeuroSafe-20170713_092558_511601.png', 'UnlabeledNeuroSafe-20170715_083811_154222.png', 'UnlabeledNeuroSafe-20170715_084429_312748.png', 'UnlabeledNeuroSafe-20170716_023143_614534.png', 'UnlabeledNeuroSafe-20170716_035411_940332.png', 'UnlabeledNeuroSafe-20170716_035418_564661.png', 'UnlabeledNeuroSafe-20170716_035421_126306.png', 'UnlabeledNeuroSafe-20170716_040240_209826.png', 'UnlabeledNeuroSafe-20170716_040242_646847.png', 'UnlabeledNeuroSafe-20170716_040257_895866.png', 'UnlabeledNeuroSafe-20170716_040300_335040.png', 'UnlabeledNeuroSafe-20170716_040305_020201.png', 'UnlabeledNeuroSafe-20170716_040340_205196.png', 'UnlabeledNeuroSafe-20170716_040342_772921.png', 'UnlabeledNeuroSafe-20170716_045850_271511.png', 'UnlabeledNeuroSafe-20170716_045947_896719.png', 'UnlabeledNeuroSafe-20170716_050011_390479.png', 'UnlabeledNeuroSafe-20170716_050013_827772.png', 'UnlabeledNeuroSafe-20170716_073750_935112.png', 'UnlabeledNeuroSafe-20170716_083123_882383.png', 'UnlabeledNeuroSafe-20170716_083210_759491.png', 'UnlabeledNeuroSafe-20170716_083213_252366.png', 'UnlabeledNeuroSafe-20170716_083326_246803.png', 'UnlabeledNeuroSafe-20170716_085816_009791.png', 'UnlabeledNeuroSafe-20170716_090213_679314.png', 'UnlabeledNeuroSafe-20170716_090216_366544.png', 'UnlabeledNeuroSafe-20170716_094445_676568.png', 'UnlabeledNeuroSafe-20170716_094448_301067.png', 'UnlabeledNeuroSafe-20170716_094450_799601.png', 'UnlabeledNeuroSafe-20170716_094459_049053.png', 'UnlabeledNeuroSafe-20170716_094501_424984.png', 'UnlabeledNeuroSafe-20170716_113301_562685.png', 'UnlabeledNeuroSafe-20170716_115101_355689.png', 'UnlabeledNeuroSafe-20170716_115103_980148.png', 'UnlabeledNeuroSafe-20170716_120249_995199.png', 'UnlabeledNeuroSafe-20170716_120252_562200.png', 'UnlabeledNeuroSafe-20170718_095609_515727.png', 'UnlabeledNeuroSafe-20170718_095736_264812.png', 'UnlabeledNeuroSafe-20170718_095738_769627.png', 'UnlabeledNeuroSafe-20170718_103505_219782.png', 'UnlabeledNeuroSafe-20170718_103513_218819.png', 'UnlabeledNeuroSafe-20170718_130257_306467.png', 'UnlabeledNeuroSafe-20170718_130259_744977.png', 'UnlabeledNeuroSafe-20170718_153843_926848.png', 'UnlabeledNeuroSafe-20170718_153846_421066.png', 'UnlabeledNeuroSafe-20170718_153848_986504.png', 'UnlabeledNeuroSafe-20170718_161222_150477.png', 'UnlabeledNeuroSafe-20170718_161224_713222.png', 'UnlabeledNeuroSafe-20170718_161227_144617.png', 'UnlabeledNeuroSafe-20170718_193510_373678.png', 'UnlabeledNeuroSafe-20170718_193518_866551.png', 'UnlabeledNeuroSafe-20170719_002027_737936.png', 'UnlabeledNeuroSafe-20170719_011814_789843.png', 'UnlabeledNeuroSafe-20170719_011817_352304.png', 'UnlabeledNeuroSafe-20170719_011819_852351.png', 'UnlabeledNeuroSafe-20170719_011822_414394.png', 'UnlabeledNeuroSafe-20170719_020451_957098.png', 'UnlabeledNeuroSafe-20170719_020454_456878.png', 'UnlabeledNeuroSafe-20170719_024322_170297.png', 'UnlabeledNeuroSafe-20170719_024324_663460.png', 'UnlabeledNeuroSafe-20170719_060504_954691.png', 'UnlabeledNeuroSafe-20170719_060515_134755.png', 'UnlabeledNeuroSafe-20170719_065323_171932.png', 'UnlabeledNeuroSafe-20170719_065325_735572.png', 'UnlabeledNeuroSafe-20170719_065328_421382.png', 'UnlabeledNeuroSafe-20170719_074028_025155.png', 'UnlabeledNeuroSafe-20170719_092025_396667.png', 'UnlabeledNeuroSafe-20170719_092027_900478.png', 'UnlabeledNeuroSafe-20170719_092030_454980.png', 'UnlabeledNeuroSafe-20170719_092219_821392.png', 'UnlabeledNeuroSafe-20170719_092307_379337.png', 'UnlabeledNeuroSafe-20170719_095924_907294.png', 'UnlabeledNeuroSafe-20170719_121051_315879.png', 'UnlabeledNeuroSafe-20170719_121109_756146.png', 'UnlabeledNeuroSafe-20170719_121112_250490.png', 'UnlabeledNeuroSafe-20170719_121115_875519.png', 'UnlabeledNeuroSafe-20170719_121126_315499.png', 'UnlabeledNeuroSafe-20170719_131623_834129.png', 'UnlabeledNeuroSafe-20170719_131629_209363.png', 'UnlabeledNeuroSafe-20170719_131631_770968.png', 'UnlabeledNeuroSafe-20170719_190347_168466.png', 'UnlabeledNeuroSafe-20170719_222951_765135.png', 'UnlabeledNeuroSafe-20170719_222959_582956.png', 'UnlabeledNeuroSafe-20170719_234254_691469.png', 'UnlabeledNeuroSafe-20170719_234258_815932.png', 'UnlabeledNeuroSafe-20170719_234303_690163.png', 'UnlabeledNeuroSafe-20170719_234309_628155.png', 'UnlabeledNeuroSafe-20170720_011538_154461.png', 'UnlabeledNeuroSafe-20170720_015640_723029.png', 'UnlabeledNeuroSafe-20170720_015643_285000.png', 'UnlabeledNeuroSafe-20170720_015645_786480.png', 'UnlabeledNeuroSafe-20170720_021019_038517.png', 'UnlabeledNeuroSafe-20170720_021859_499500.png', 'UnlabeledNeuroSafe-20170720_021901_999420.png', 'UnlabeledNeuroSafe-20170720_021904_561874.png', 'UnlabeledNeuroSafe-20170720_023542_425070.png', 'UnlabeledNeuroSafe-20170720_023544_925236.png', 'UnlabeledNeuroSafe-20170720_024548_322136.png', 'UnlabeledNeuroSafe-20170720_024629_313502.png', 'UnlabeledNeuroSafe-20170720_024631_875841.png', 'UnlabeledNeuroSafe-20170720_024703_685920.png', 'UnlabeledNeuroSafe-20170720_025530_649136.png', 'UnlabeledNeuroSafe-20170720_025708_265436.png', 'UnlabeledNeuroSafe-20170720_025710_770203.png', 'UnlabeledNeuroSafe-20170720_025713_266232.png', 'UnlabeledNeuroSafe-20170720_031004_400814.png', 'UnlabeledNeuroSafe-20170720_050350_204438.png', 'UnlabeledNeuroSafe-20170720_061135_839533.png', 'UnlabeledNeuroSafe-20170720_061139_651560.png', 'UnlabeledNeuroSafe-20170720_061142_276554.png', 'UnlabeledNeuroSafe-20170720_065848_691826.png', 'UnlabeledNeuroSafe-20170720_065905_690301.png', 'UnlabeledNeuroSafe-20170720_065940_068461.png', 'UnlabeledNeuroSafe-20170720_065942_503647.png', 'UnlabeledNeuroSafe-20170720_070010_686799.png', 'UnlabeledNeuroSafe-20170720_070016_939494.png', 'UnlabeledNeuroSafe-20170720_071335_313739.png', 'UnlabeledNeuroSafe-20170720_071449_996632.png', 'UnlabeledNeuroSafe-20170720_071951_972409.png', 'UnlabeledNeuroSafe-20170720_071956_159569.png', 'UnlabeledNeuroSafe-20170720_071958_784203.png', 'UnlabeledNeuroSafe-20170720_072001_284222.png', 'UnlabeledNeuroSafe-20170720_075123_956458.png', 'UnlabeledNeuroSafe-20170720_081917_580084.png', 'UnlabeledNeuroSafe-20170720_090506_813667.png', 'UnlabeledNeuroSafe-20170720_090509_313341.png', 'UnlabeledNeuroSafe-20170720_090511_750826.png', 'UnlabeledNeuroSafe-20170720_090514_188358.png', 'UnlabeledNeuroSafe-20170720_090516_812988.png', 'UnlabeledNeuroSafe-20170720_090525_437375.png', 'UnlabeledNeuroSafe-20170720_090527_999525.png', 'UnlabeledNeuroSafe-20170720_090530_499597.png', 'UnlabeledNeuroSafe-20170720_090533_061618.png', 'UnlabeledNeuroSafe-20170720_090535_625069.png', 'UnlabeledNeuroSafe-20170720_090538_123695.png', 'UnlabeledNeuroSafe-20170720_090541_436608.png', 'UnlabeledNeuroSafe-20170720_091544_205302.png', 'UnlabeledNeuroSafe-20170720_091644_074865.png', 'UnlabeledNeuroSafe-20170720_091703_573334.png', 'UnlabeledNeuroSafe-20170720_093500_312429.png', 'UnlabeledNeuroSafe-20170720_093503_431338.png', 'UnlabeledNeuroSafe-20170720_093508_368443.png', 'UnlabeledNeuroSafe-20170720_093518_243910.png', 'UnlabeledNeuroSafe-20170720_093524_179566.png', 'UnlabeledNeuroSafe-20170720_101327_140654.png', 'UnlabeledNeuroSafe-20170720_101647_746097.png', 'UnlabeledNeuroSafe-20170720_101650_245851.png', 'UnlabeledNeuroSafe-20170720_101715_993568.png', 'UnlabeledNeuroSafe-20170720_101823_430866.png', 'UnlabeledNeuroSafe-20170720_101833_925603.png', 'UnlabeledNeuroSafe-20170720_112542_750938.png', 'UnlabeledNeuroSafe-20170720_112734_867512.png', 'UnlabeledNeuroSafe-20170720_112737_367515.png', 'UnlabeledNeuroSafe-20170720_112742_304193.png', 'UnlabeledNeuroSafe-20170720_112803_677628.png', 'UnlabeledNeuroSafe-20170720_112823_182383.png', 'UnlabeledNeuroSafe-20170720_112825_619341.png', 'UnlabeledNeuroSafe-20170720_112832_050465.png', 'UnlabeledNeuroSafe-20170720_112834_550403.png', 'UnlabeledNeuroSafe-20170720_112837_112877.png', 'UnlabeledNeuroSafe-20170720_112839_612660.png', 'UnlabeledNeuroSafe-20170720_112910_672748.png', 'UnlabeledNeuroSafe-20170720_112913_178213.png', 'UnlabeledNeuroSafe-20170720_112915_613361.png', 'UnlabeledNeuroSafe-20170720_133452_359922.png', 'UnlabeledNeuroSafe-20170720_200034_950933.png', 'UnlabeledNeuroSafe-20170720_214903_588857.png', 'UnlabeledNeuroSafe-20170720_223427_947821.png', 'UnlabeledNeuroSafe-20170720_223432_259738.png', 'UnlabeledNeuroSafe-20170720_223445_509784.png', 'UnlabeledNeuroSafe-20170720_230201_012418.png', 'UnlabeledNeuroSafe-20170721_005005_784755.png', 'UnlabeledNeuroSafe-20170721_005011_965781.png', 'UnlabeledNeuroSafe-20170721_005025_652812.png', 'UnlabeledNeuroSafe-20170721_005037_463828.png', 'UnlabeledNeuroSafe-20170721_005058_212568.png', 'UnlabeledNeuroSafe-20170721_005107_092528.png', 'UnlabeledNeuroSafe-20170721_005134_715797.png', 'UnlabeledNeuroSafe-20170721_005137_152850.png', 'UnlabeledNeuroSafe-20170721_012126_076594.png', 'UnlabeledNeuroSafe-20170721_012128_513844.png', 'UnlabeledNeuroSafe-20170721_012131_013915.png']\n"
     ]
    }
   ],
   "source": [
    "# DATASET_PATH = \"./RP_data_3/critical\"\n",
    "image_filenames = glob.glob(\"./RP_data_3/critical/*.png\")\n",
    "filename = []\n",
    "for image_filename in image_filenames:\n",
    "    filename.append(image_filename.split(\"/\")[3])\n",
    "print(filename)"
   ]
  },
  {
   "cell_type": "code",
   "execution_count": 121,
   "metadata": {},
   "outputs": [
    {
     "name": "stdout",
     "output_type": "stream",
     "text": [
      "480 640 3\n",
      "\n",
      "image_data's SHAPE:  (480, 640, 3)\n",
      "image_data's type:  <class 'numpy.ndarray'>\n",
      "\n",
      "image_data's SHAPE:  (921600,)\n",
      "image_data's type:  <class 'numpy.ndarray'>\n",
      "\n",
      "[[182 145 156 ...,  89  87  95]]\n",
      "<class 'numpy.ndarray'>\n",
      "(1, 921600)\n"
     ]
    }
   ],
   "source": [
    "image_data = imread(\"./RP_data_3/critical/NeuroSafe-20170712_120329_321515.png\")\n",
    "(width, height, channel) = (image_data.shape)\n",
    "print(width, height, channel)\n",
    "print()\n",
    "print(\"image_data's SHAPE: \", image_data.shape)\n",
    "print(\"image_data's type: \", (type(image_data)))\n",
    "print()\n",
    "image_data = image_data.reshape(640*480*3)\n",
    "print(\"image_data's SHAPE: \", image_data.shape)\n",
    "print(\"image_data's type: \",(type(image_data)))\n",
    "print()\n",
    "\n",
    "train_data = []\n",
    "train_data.append(image_data)\n",
    "train_data = np.asarray(train_data)\n",
    "\n",
    "print(train_data)\n",
    "print(type(train_data))\n",
    "print(train_data.shape)"
   ]
  },
  {
   "cell_type": "code",
   "execution_count": null,
   "metadata": {
    "collapsed": true
   },
   "outputs": [],
   "source": []
  },
  {
   "cell_type": "code",
   "execution_count": 124,
   "metadata": {},
   "outputs": [
    {
     "data": {
      "image/png": "[encoded data removed]",
      "text/plain": [
       "<matplotlib.figure.Figure at 0x1244b9d68>"
      ]
     },
     "metadata": {},
     "output_type": "display_data"
    }
   ],
   "source": [
    "import matplotlib.pyplot as plt\n",
    "import matplotlib.image as mpimg\n",
    "image = mpimg.imread(\"./RP_data_3/critical/NeuroSafe-20170712_120329_321515.png\")\n",
    "plt.imshow(image)\n",
    "plt.show()"
   ]
  },
  {
   "cell_type": "code",
   "execution_count": null,
   "metadata": {
    "collapsed": true
   },
   "outputs": [],
   "source": []
  },
  {
   "cell_type": "code",
   "execution_count": null,
   "metadata": {
    "collapsed": true
   },
   "outputs": [],
   "source": []
  },
  {
   "cell_type": "code",
   "execution_count": 128,
   "metadata": {},
   "outputs": [
    {
     "data": {
      "image/png": "[encoded data removed]",
      "text/plain": [
       "<matplotlib.figure.Figure at 0x124d6f8d0>"
      ]
     },
     "metadata": {},
     "output_type": "display_data"
    },
    {
     "name": "stdout",
     "output_type": "stream",
     "text": [
      "480 640 3\n",
      "\n",
      "image_data's SHAPE:  (480, 640, 3)\n",
      "image_data's type:  <class 'numpy.ndarray'>\n",
      "\n",
      "image_data's SHAPE:  (921600,)\n",
      "image_data's type:  <class 'numpy.ndarray'>\n",
      "\n",
      "[[182 145 156 ...,  89  87  95]]\n",
      "<class 'numpy.ndarray'>\n",
      "(1, 921600)\n"
     ]
    }
   ],
   "source": [
    "import matplotlib.pyplot as plt\n",
    "import matplotlib.image as mpimg\n",
    "from scipy.misc import imread\n",
    "import numpy as np\n",
    "import os\n",
    "import tensorflow as tf\n",
    "\n",
    "DATASET_PATH = \"./RP_data_3/critical\"\n",
    "def return_filename():\n",
    "    image_filenames = glob.glob(\"./RP_data_3/critical/*.png\")\n",
    "    filename = []\n",
    "    for image_filename in image_filenames:\n",
    "        filename.append(image_filename.split(\"/\")[3])\n",
    "#     print(filename)\n",
    "    return filename\n",
    "\n",
    "# image_data = imread(\"./RP_data_3/critical/NeuroSafe-20170712_120329_321515.png\")\n",
    "image = mpimg.imread(DATASET_PATH + '/' + filename[0])\n",
    "plt.imshow(image)\n",
    "plt.show()\n",
    "\n",
    "(width, height, channel) = (image_data.shape)\n",
    "print(width, height, channel)\n",
    "print()\n",
    "print(\"image_data's SHAPE: \", image_data.shape)\n",
    "print(\"image_data's type: \", (type(image_data)))\n",
    "print()\n",
    "image_data = image_data.reshape(640*480*3)\n",
    "print(\"image_data's SHAPE: \", image_data.shape)\n",
    "print(\"image_data's type: \",(type(image_data)))\n",
    "print()\n",
    "\n",
    "train_data = []\n",
    "train_data.append(image_data)\n",
    "train_data = np.asarray(train_data)\n",
    "\n",
    "print(train_data)\n",
    "print(type(train_data))\n",
    "print(train_data.shape)\n",
    "\n",
    "\n"
   ]
  },
  {
   "cell_type": "code",
   "execution_count": null,
   "metadata": {
    "collapsed": true
   },
   "outputs": [],
   "source": []
  },
  {
   "cell_type": "code",
   "execution_count": null,
   "metadata": {
    "collapsed": true
   },
   "outputs": [],
   "source": []
  },
  {
   "cell_type": "code",
   "execution_count": null,
   "metadata": {
    "collapsed": true
   },
   "outputs": [],
   "source": []
  },
  {
   "cell_type": "code",
   "execution_count": null,
   "metadata": {
    "collapsed": true
   },
   "outputs": [],
   "source": []
  },
  {
   "cell_type": "code",
   "execution_count": null,
   "metadata": {
    "collapsed": true
   },
   "outputs": [],
   "source": [
    "import matplotlib.pyplot as plt\n",
    "import matplotlib.image as mpimg\n",
    "from scipy.misc import imread\n",
    "import numpy as np\n",
    "import os\n",
    "import tensorflow as tf\n",
    "\n",
    "DATASET_PATH = \"./RP_data_3/critical\"\n",
    "def return_filename():\n",
    "    image_filenames = glob.glob(\"./RP_data_3/critical/*.png\")\n",
    "    filename = []\n",
    "    for image_filename in image_filenames:\n",
    "        filename.append(image_filename.split(\"/\")[3])\n",
    "#     print(filename)\n",
    "    return filename\n",
    "\n",
    "# image_data = imread(\"./RP_data_3/critical/NeuroSafe-20170712_120329_321515.png\")\n",
    "image = mpimg.imread(DATASET_PATH + '/' + filename[0])\n",
    "plt.imshow(image)\n",
    "plt.show()\n",
    "\n",
    "(width, height, channel) = (image_data.shape)\n",
    "print(width, height, channel)\n",
    "print()\n",
    "print(\"image_data's SHAPE: \", image_data.shape)\n",
    "print(\"image_data's type: \", (type(image_data)))\n",
    "print()\n",
    "image_data = image_data.reshape(640*480*3)\n",
    "print(\"image_data's SHAPE: \", image_data.shape)\n",
    "print(\"image_data's type: \",(type(image_data)))\n",
    "print()\n",
    "\n",
    "train_data = []\n",
    "train_data.append(image_data)\n",
    "train_data = np.asarray(train_data)\n",
    "\n",
    "print(train_data)\n",
    "print(type(train_data))\n",
    "print(train_data.shape)"
   ]
  }
 ],
 "metadata": {
  "kernelspec": {
   "display_name": "Python 3",
   "language": "python",
   "name": "python3"
  },
  "language_info": {
   "codemirror_mode": {
    "name": "ipython",
    "version": 3
   },
   "file_extension": ".py",
   "mimetype": "text/x-python",
   "name": "python",
   "nbconvert_exporter": "python",
   "pygments_lexer": "ipython3",
   "version": "3.6.1"
  }
 },
 "nbformat": 4,
 "nbformat_minor": 2
}
