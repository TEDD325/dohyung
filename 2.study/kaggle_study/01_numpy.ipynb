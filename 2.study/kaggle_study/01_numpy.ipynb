{
 "cells": [
  {
   "cell_type": "markdown",
   "metadata": {},
   "source": [
    "# Numpy"
   ]
  },
  {
   "cell_type": "code",
   "execution_count": 2,
   "metadata": {},
   "outputs": [
    {
     "name": "stdout",
     "output_type": "stream",
     "text": [
      "Python 3.6.5 :: Anaconda, Inc.\r\n"
     ]
    }
   ],
   "source": [
    "! python --version"
   ]
  },
  {
   "cell_type": "code",
   "execution_count": 1,
   "metadata": {},
   "outputs": [],
   "source": [
    "import numpy as np"
   ]
  },
  {
   "cell_type": "markdown",
   "metadata": {},
   "source": [
    "## # numpy 생성"
   ]
  },
  {
   "cell_type": "markdown",
   "metadata": {},
   "source": [
    "### - numpy.ndarray 생성\n",
    "> np.array(파이썬 리스트)"
   ]
  },
  {
   "cell_type": "markdown",
   "metadata": {},
   "source": [
    "#### 1-demension array"
   ]
  },
  {
   "cell_type": "code",
   "execution_count": 7,
   "metadata": {},
   "outputs": [
    {
     "name": "stdout",
     "output_type": "stream",
     "text": [
      "[1.0, 2.0, 3.0]\n",
      "<class 'list'>\n",
      "\n",
      "[1. 2. 3.]\n",
      "<class 'numpy.ndarray'>\n",
      "\n"
     ]
    }
   ],
   "source": [
    "x_list = [1.0, 2.0, 3.0]\n",
    "print(x_list)\n",
    "print(type(x_list), end=\"\\n\\n\")\n",
    "x_np = np.array(x_list)\n",
    "print(x_np)\n",
    "print(type(x_np), end=\"\\n\\n\")"
   ]
  },
  {
   "cell_type": "markdown",
   "metadata": {},
   "source": [
    "#### 2-demension array"
   ]
  },
  {
   "cell_type": "code",
   "execution_count": 27,
   "metadata": {},
   "outputs": [
    {
     "name": "stdout",
     "output_type": "stream",
     "text": [
      "x_2d:\n",
      "[[1 2 3]\n",
      " [4 5 6]]\n",
      "\n",
      "x_2d.shape: (2, 3)\n",
      "<class 'numpy.ndarray'>\n",
      "\n"
     ]
    }
   ],
   "source": [
    "x_2d = np.array([[1, 2, 3], [4, 5, 6]])\n",
    "print(\"x_2d:\\n{}\".format(x_2d), end=\"\\n\\n\")\n",
    "print(\"x_2d.shape: {}\".format(x_2d.shape))\n",
    "print(type(x_2d), end=\"\\n\\n\")"
   ]
  },
  {
   "cell_type": "markdown",
   "metadata": {},
   "source": [
    "### - identity matrix 생성\n",
    "> np.eye(number)\n",
    "\n",
    "- 2-D array 반환\n",
    "- 대각성분:1, 대각성분 이외의 성분:0"
   ]
  },
  {
   "cell_type": "code",
   "execution_count": 3,
   "metadata": {},
   "outputs": [
    {
     "name": "stdout",
     "output_type": "stream",
     "text": [
      "[[1. 0. 0. 0.]\n",
      " [0. 1. 0. 0.]\n",
      " [0. 0. 1. 0.]\n",
      " [0. 0. 0. 1.]]\n"
     ]
    }
   ],
   "source": [
    "eye = np.eye(4)\n",
    "print(\"{}\".format(eye))"
   ]
  },
  {
   "cell_type": "markdown",
   "metadata": {},
   "source": [
    "### # numpy 산술연산\n",
    "- element-wise 연산"
   ]
  },
  {
   "cell_type": "code",
   "execution_count": 23,
   "metadata": {},
   "outputs": [
    {
     "name": "stdout",
     "output_type": "stream",
     "text": [
      "x_a:  [1 2 3]\n",
      "x_a:  [1 2 3]\n",
      "\n",
      "x_a + x_b:  [2 4 6]\n",
      "x_a - x_b:  [0 0 0]\n",
      "x_a * x_b:  [1 4 9]\n",
      "x_a / x_b:  [1. 1. 1.]\n"
     ]
    }
   ],
   "source": [
    "x_a = np.array([1, 2, 3])\n",
    "print(\"x_a: \", x_a)\n",
    "x_b = np.array([1, 2, 3])\n",
    "print(\"x_a: \", x_b)\n",
    "print()\n",
    "\n",
    "print(\"x_a + x_b: \", x_a+x_b)\n",
    "print(\"x_a - x_b: \", x_a-x_b)\n",
    "print(\"x_a * x_b: \", x_a*x_b)\n",
    "print(\"x_a / x_b: \", x_a/x_b) # defualt float"
   ]
  },
  {
   "cell_type": "markdown",
   "metadata": {},
   "source": []
  },
  {
   "cell_type": "code",
   "execution_count": 2,
   "metadata": {},
   "outputs": [
    {
     "name": "stdout",
     "output_type": "stream",
     "text": [
      "[[1. 0. 0. 0.]\n",
      " [0. 1. 0. 0.]\n",
      " [0. 0. 1. 0.]\n",
      " [0. 0. 0. 1.]]\n"
     ]
    }
   ],
   "source": []
  },
  {
   "cell_type": "code",
   "execution_count": null,
   "metadata": {},
   "outputs": [],
   "source": []
  }
 ],
 "metadata": {
  "kernelspec": {
   "display_name": "Python 3",
   "language": "python",
   "name": "python3"
  },
  "language_info": {
   "codemirror_mode": {
    "name": "ipython",
    "version": 3
   },
   "file_extension": ".py",
   "mimetype": "text/x-python",
   "name": "python",
   "nbconvert_exporter": "python",
   "pygments_lexer": "ipython3",
   "version": "3.6.5"
  }
 },
 "nbformat": 4,
 "nbformat_minor": 2
}
