{
 "cells": [
  {
   "cell_type": "markdown",
   "metadata": {},
   "source": [
    "# Scipy"
   ]
  },
  {
   "cell_type": "markdown",
   "metadata": {},
   "source": [
    "## # version check"
   ]
  },
  {
   "cell_type": "code",
   "execution_count": 16,
   "metadata": {},
   "outputs": [
    {
     "name": "stdout",
     "output_type": "stream",
     "text": [
      "SciPy version: 1.1.0\n"
     ]
    }
   ],
   "source": [
    "import scipy as sp\n",
    "print(\"SciPy version: {}\".format(sp.__version__))"
   ]
  },
  {
   "cell_type": "code",
   "execution_count": 8,
   "metadata": {},
   "outputs": [],
   "source": [
    "from scipy import sparse\n",
    "import numpy as np"
   ]
  },
  {
   "cell_type": "markdown",
   "metadata": {},
   "source": [
    "### # Sparse Matrix"
   ]
  },
  {
   "cell_type": "markdown",
   "metadata": {},
   "source": [
    "#### - 항등행렬 생성 후, 0이 아닌 원소 추출"
   ]
  },
  {
   "cell_type": "code",
   "execution_count": 14,
   "metadata": {},
   "outputs": [
    {
     "name": "stdout",
     "output_type": "stream",
     "text": [
      "[[1. 0. 0. 0.]\n",
      " [0. 1. 0. 0.]\n",
      " [0. 0. 1. 0.]\n",
      " [0. 0. 0. 1.]]\n",
      "\n",
      "SciPy sparse CSR matrix:\n",
      "  (0, 0)\t1.0\n",
      "  (1, 1)\t1.0\n",
      "  (2, 2)\t1.0\n",
      "  (3, 3)\t1.0\n"
     ]
    }
   ],
   "source": [
    "eye = np.eye(4)\n",
    "print(\"{}\".format(eye), end=\"\\n\\n\")\n",
    "sparse_matrix = sparse.csr_matrix(eye)\n",
    "print(\"SciPy sparse CSR matrix:\\n{}\".format(sparse_matrix))"
   ]
  },
  {
   "cell_type": "markdown",
   "metadata": {},
   "source": [
    "#### - 임의의 행렬 생성 후, 0이 아닌 원소 추출"
   ]
  },
  {
   "cell_type": "code",
   "execution_count": 11,
   "metadata": {},
   "outputs": [
    {
     "name": "stdout",
     "output_type": "stream",
     "text": [
      "[[1 0 3]\n",
      " [4 0 0]]\n",
      "\n",
      "SciPy sparse CSR matrix:\n",
      "  (0, 0)\t1\n",
      "  (0, 2)\t3\n",
      "  (1, 0)\t4\n",
      "sparse_matrix.data:  [1 3 4]\n",
      "sparse_matrix.get_shape:  (2, 3)\n",
      "type(sparse_matrix.get_shape:  <class 'tuple'>\n"
     ]
    }
   ],
   "source": [
    "x_2d = np.array([[1, 0, 3], [4, 0, 0]])\n",
    "print(\"{}\".format(x_2d), end=\"\\n\\n\")\n",
    "sparse_matrix = sparse.csr_matrix(x_2d)\n",
    "print(\"SciPy sparse CSR matrix:\\n{}\".format(sparse_matrix))\n",
    "print(\"sparse_matrix.data: \", sparse_matrix.data)\n",
    "print(\"sparse_matrix.get_shape: \", sparse_matrix.get_shape())\n",
    "print(\"type(sparse_matrix.get_shape: \", type(sparse_matrix.get_shape()))"
   ]
  },
  {
   "cell_type": "markdown",
   "metadata": {},
   "source": [
    "##### * CSR?\n",
    "  - Compressed sparse row\n",
    "  - 행의 인덱스를 압축하여 저장하는 방식\n",
    "  <img src=\"./image/2D55FA3A-650D-4510-9F97-7FF1E6DA01C3.png\"></img>\n",
    "  \n",
    "  <img src=\"./image/41CC3C75-0B5F-44CE-A805-4D58EA4D2CBF.png\"></img>"
   ]
  },
  {
   "cell_type": "markdown",
   "metadata": {},
   "source": [
    "#### - Convert Numpy array to Sparse Matrix in Coordinate(coo) format"
   ]
  },
  {
   "cell_type": "code",
   "execution_count": 15,
   "metadata": {},
   "outputs": [
    {
     "name": "stdout",
     "output_type": "stream",
     "text": [
      "data:\n",
      "[-10. -10. -10. -10. -10.]\n",
      "row_indices:\n",
      "[0 1 2 3 4]\n",
      "col_indices:\n",
      "[0 1 2 3 4]\n",
      "COO representation:\n",
      "  (0, 0)\t-10.0\n",
      "  (1, 1)\t-10.0\n",
      "  (2, 2)\t-10.0\n",
      "  (3, 3)\t-10.0\n",
      "  (4, 4)\t-10.0\n"
     ]
    }
   ],
   "source": [
    "data = np.ones(5) * -10\n",
    "print(\"data:\\n{}\".format(data))\n",
    "\n",
    "row_indices = np.arange(5)\n",
    "print(\"row_indices:\\n{}\".format(row_indices))\n",
    "\n",
    "col_indices = np.arange(5)\n",
    "print(\"col_indices:\\n{}\".format(col_indices))\n",
    "\n",
    "eye_coo = sparse.coo_matrix((data, (row_indices, col_indices)))\n",
    "print(\"COO representation:\\n{}\".format(eye_coo))"
   ]
  }
 ],
 "metadata": {
  "kernelspec": {
   "display_name": "Python 3",
   "language": "python",
   "name": "python3"
  },
  "language_info": {
   "codemirror_mode": {
    "name": "ipython",
    "version": 3
   },
   "file_extension": ".py",
   "mimetype": "text/x-python",
   "name": "python",
   "nbconvert_exporter": "python",
   "pygments_lexer": "ipython3",
   "version": "3.6.5"
  }
 },
 "nbformat": 4,
 "nbformat_minor": 2
}
