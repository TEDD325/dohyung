{
 "cells": [
  {
   "cell_type": "markdown",
   "metadata": {},
   "source": [
    "# selenium"
   ]
  },
  {
   "cell_type": "code",
   "execution_count": 11,
   "metadata": {},
   "outputs": [],
   "source": [
    "from bs4 import BeautifulSoup # pip install beautifulsoup4\n",
    "from selenium import webdriver # pip install selenium"
   ]
  },
  {
   "cell_type": "markdown",
   "metadata": {},
   "source": [
    "https://sites.google.com/a/chromium.org/chromedriver/downloads"
   ]
  },
  {
   "cell_type": "code",
   "execution_count": 5,
   "metadata": {},
   "outputs": [],
   "source": [
    "driver = webdriver.Chrome('/Users/dohyung/chromedriver')\n",
    "driver.implicitly_wait(3) # # 암묵적으로 웹 자원 로드를 위해 3초까지 기다려 준다."
   ]
  },
  {
   "cell_type": "code",
   "execution_count": 6,
   "metadata": {},
   "outputs": [],
   "source": [
    "driver.get('http://nbviewer.jupyter.org/github/knight7024/Script-Programming-2018-3/blob/master/Assignment%201.ipynb')"
   ]
  },
  {
   "cell_type": "code",
   "execution_count": 18,
   "metadata": {},
   "outputs": [],
   "source": [
    "import urllib.request\n",
    "import urllib.parse\n",
    "import requests"
   ]
  },
  {
   "cell_type": "code",
   "execution_count": 16,
   "metadata": {},
   "outputs": [],
   "source": [
    "web_url = \"http://nbviewer.jupyter.org/github/knight7024/Script-Programming-2018-3/blob/master/Assignment%201.ipynb\"\n",
    "with urllib.request.urlopen(web_url) as response:\n",
    "    html = response.read()\n",
    "    soup = BeautifulSoup(html, 'html.parser')"
   ]
  },
  {
   "cell_type": "code",
   "execution_count": 44,
   "metadata": {},
   "outputs": [
    {
     "name": "stdout",
     "output_type": "stream",
     "text": [
      "<a href=\"https://github.com/knight7024/Script-Programming-2018-3/blob/master/Assignment%201.ipynb\" title=\"View on GitHub\">\n",
      "<span class=\"fa fa-github fa-2x menu-icon\"></span>\n",
      "<span class=\"menu-text\">View on GitHub</span>\n",
      "</a>\n"
     ]
    }
   ],
   "source": [
    "a_tag = soup.find_all('a')[5]\n",
    "print(a_tag)"
   ]
  },
  {
   "cell_type": "code",
   "execution_count": 45,
   "metadata": {},
   "outputs": [
    {
     "name": "stdout",
     "output_type": "stream",
     "text": [
      "{'href': 'https://github.com/knight7024/Script-Programming-2018-3/blob/master/Assignment%201.ipynb', 'title': 'View on GitHub'}\n"
     ]
    }
   ],
   "source": [
    "a_tag_dict = a_tag.attrs\n",
    "print(a_tag_dict)"
   ]
  },
  {
   "cell_type": "code",
   "execution_count": 46,
   "metadata": {},
   "outputs": [
    {
     "data": {
      "text/plain": [
       "'https://github.com/knight7024/Script-Programming-2018-3/blob/master/Assignment%201.ipynb'"
      ]
     },
     "execution_count": 46,
     "metadata": {},
     "output_type": "execute_result"
    }
   ],
   "source": [
    "a_tag_dict['href']"
   ]
  },
  {
   "cell_type": "code",
   "execution_count": 63,
   "metadata": {},
   "outputs": [
    {
     "name": "stdout",
     "output_type": "stream",
     "text": [
      "  % Total    % Received % Xferd  Average Speed   Time    Time     Time  Current\n",
      "                                 Dload  Upload   Total   Spent    Left  Speed\n",
      "100 14267    0 14267    0     0  36118      0 --:--:-- --:--:-- --:--:-- 36118\n"
     ]
    }
   ],
   "source": [
    "! curl -O https://nbviewer.jupyter.org/github/tfedohk/data_science_2018/blob/master/Chapter01/1.6.ipynb"
   ]
  },
  {
   "cell_type": "code",
   "execution_count": 52,
   "metadata": {},
   "outputs": [],
   "source": [
    "from bs4 import BeautifulSoup # pip install beautifulsoup4\n",
    "from selenium import webdriver # pip install selenium\n",
    "import urllib.request\n",
    "import urllib.parse\n",
    "import requests\n",
    "import os\n",
    "import sys"
   ]
  },
  {
   "cell_type": "code",
   "execution_count": 59,
   "metadata": {},
   "outputs": [],
   "source": [
    "def extract_url(web_url): \n",
    "    web_url = web_url\n",
    "    with urllib.request.urlopen(web_url) as response:\n",
    "        html = response.read()\n",
    "        soup = BeautifulSoup(html, 'html.parser')\n",
    "    (soup.find_all('a')[5].attrs)['href']\n",
    "    os.system('curl -O ' + (soup.find_all('a')[5].attrs)['href'])"
   ]
  },
  {
   "cell_type": "code",
   "execution_count": 60,
   "metadata": {},
   "outputs": [],
   "source": [
    "web_url = 'http://nbviewer.jupyter.org/github/knight7024/Script-Programming-2018-3/blob/master/Assignment%201.ipynb'\n",
    "extract_url(web_url)"
   ]
  },
  {
   "cell_type": "code",
   "execution_count": 58,
   "metadata": {},
   "outputs": [
    {
     "data": {
      "text/plain": [
       "0"
      ]
     },
     "execution_count": 58,
     "metadata": {},
     "output_type": "execute_result"
    }
   ],
   "source": [
    "os.system('curl -O ' + (soup.find_all('a')[5].attrs)['href'])"
   ]
  },
  {
   "cell_type": "code",
   "execution_count": 57,
   "metadata": {},
   "outputs": [
    {
     "name": "stdout",
     "output_type": "stream",
     "text": [
      "01_python.ipynb                    _kaggle_01_titanic_2.ipynb\r\n",
      "01_python_etc.ipynb                _kaggle_01_titanic_제출용.ipynb\r\n",
      "02_numpy.ipynb                     \u001b[34mcache\u001b[m\u001b[m\r\n",
      "03_scipy.ipynb                     \u001b[34mdataset\u001b[m\u001b[m\r\n",
      "04_matplotlib.ipynb                \u001b[34mimage\u001b[m\u001b[m\r\n",
      "05_pandas.ipynb                    obo-t17800628-33.html\r\n",
      "06_scikit_learn.ipynb              \u001b[34mreference\u001b[m\u001b[m\r\n",
      "07_supervised_learning.ipynb       \u001b[34mresult\u001b[m\u001b[m\r\n",
      "08_Knn.ipynb                       \u001b[34mtemp\u001b[m\u001b[m\r\n",
      "_kaggle_01_titanic.ipynb\r\n"
     ]
    }
   ],
   "source": [
    "! ls"
   ]
  },
  {
   "cell_type": "code",
   "execution_count": 51,
   "metadata": {},
   "outputs": [
    {
     "data": {
      "text/plain": [
       "<function TextIOWrapper.close()>"
      ]
     },
     "execution_count": 51,
     "metadata": {},
     "output_type": "execute_result"
    }
   ],
   "source": [
    "from urllib.request import urlopen\n",
    "\n",
    "url = 'https://github.com/knight7024/Script-Programming-2018-3/blob/master/Assignment%201.ipynb'\n",
    "\n",
    "response = urlopen(url)\n",
    "webContent = response.read()\n",
    "\n",
    "f = open('obo-t17800628-33.html', 'w')\n",
    "f.write(str(webContent))\n",
    "f.close"
   ]
  },
  {
   "cell_type": "code",
   "execution_count": 48,
   "metadata": {},
   "outputs": [
    {
     "name": "stdout",
     "output_type": "stream",
     "text": [
      "01_python.ipynb                    _kaggle_01_titanic.ipynb\r\n",
      "01_python_etc.ipynb                _kaggle_01_titanic_2.ipynb\r\n",
      "02_numpy.ipynb                     _kaggle_01_titanic_제출용.ipynb\r\n",
      "03_scipy.ipynb                     \u001b[34mcache\u001b[m\u001b[m\r\n",
      "04_matplotlib.ipynb                \u001b[34mdataset\u001b[m\u001b[m\r\n",
      "05_pandas.ipynb                    \u001b[34mimage\u001b[m\u001b[m\r\n",
      "06_scikit_learn.ipynb              \u001b[34mreference\u001b[m\u001b[m\r\n",
      "07_supervised_learning.ipynb       \u001b[34mresult\u001b[m\u001b[m\r\n",
      "08_Knn.ipynb                       \u001b[34mtemp\u001b[m\u001b[m\r\n"
     ]
    }
   ],
   "source": [
    "! ls"
   ]
  },
  {
   "cell_type": "code",
   "execution_count": null,
   "metadata": {},
   "outputs": [],
   "source": []
  }
 ],
 "metadata": {
  "kernelspec": {
   "display_name": "Python 3",
   "language": "python",
   "name": "python3"
  },
  "language_info": {
   "codemirror_mode": {
    "name": "ipython",
    "version": 3
   },
   "file_extension": ".py",
   "mimetype": "text/x-python",
   "name": "python",
   "nbconvert_exporter": "python",
   "pygments_lexer": "ipython3",
   "version": "3.6.5"
  }
 },
 "nbformat": 4,
 "nbformat_minor": 2
}
