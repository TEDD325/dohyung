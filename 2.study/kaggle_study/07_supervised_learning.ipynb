{
 "cells": [
  {
   "cell_type": "markdown",
   "metadata": {},
   "source": [
    "# supervised learning"
   ]
  },
  {
   "cell_type": "markdown",
   "metadata": {},
   "source": [
    "- 지도 학습에는 분류(Classification)와 회귀(Regression)가 있다.\n",
    "## 분류\n",
    "- 분류는 미리 정해놓은 N개의 클래스 중 하나의 클래스로 예측하는 것을 목표로 한다.\n",
    "- target 데이터셋의 모습이 정수의 형태로 나타난다."
   ]
  },
  {
   "cell_type": "markdown",
   "metadata": {},
   "source": [
    "##### 분류에 쓰이는 데이터셋 예시"
   ]
  },
  {
   "cell_type": "code",
   "execution_count": 2,
   "metadata": {},
   "outputs": [
    {
     "name": "stdout",
     "output_type": "stream",
     "text": [
      "X.shape: (26, 2)\n",
      "X:\n",
      "[[ 9.96346605  4.59676542]\n",
      " [11.0329545  -0.16816717]\n",
      " [11.54155807  5.21116083]\n",
      " [ 8.69289001  1.54322016]\n",
      " [ 8.1062269   4.28695977]\n",
      " [ 8.30988863  4.80623966]\n",
      " [11.93027136  4.64866327]\n",
      " [ 9.67284681 -0.20283165]\n",
      " [ 8.34810316  5.13415623]\n",
      " [ 8.67494727  4.47573059]\n",
      " [ 9.17748385  5.09283177]\n",
      " [10.24028948  2.45544401]\n",
      " [ 8.68937095  1.48709629]\n",
      " [ 8.92229526 -0.63993225]\n",
      " [ 9.49123469  4.33224792]\n",
      " [ 9.25694192  5.13284858]\n",
      " [ 7.99815287  4.8525051 ]\n",
      " [ 8.18378052  1.29564214]\n",
      " [ 8.7337095   2.49162431]\n",
      " [ 9.32298256  5.09840649]\n",
      " [10.06393839  0.99078055]\n",
      " [ 9.50048972 -0.26430318]\n",
      " [ 8.34468785  1.63824349]\n",
      " [ 9.50169345  1.93824624]\n",
      " [ 9.15072323  5.49832246]\n",
      " [11.563957    1.3389402 ]]\n",
      "y.shape: (26,)\n",
      "y:\n",
      "[1 0 1 0 0 1 1 0 1 1 1 1 0 0 1 1 1 0 0 1 0 0 0 0 1 0]\n"
     ]
    }
   ],
   "source": [
    "import mglearn\n",
    "import matplotlib.pyplot as plt\n",
    "\n",
    "# generate dataset\n",
    "X, y = mglearn.datasets.make_forge()\n",
    "print(\"X.shape: {}\".format(X.shape))\n",
    "print(\"X:\\n{}\".format(X))\n",
    "print(\"y.shape: {}\".format(y.shape))\n",
    "print(\"y:\\n{}\".format(y))"
   ]
  },
  {
   "cell_type": "markdown",
   "metadata": {},
   "source": [
    "## 회귀\n",
    "- 회귀는 여러 개의 데이터를 대표하는 하나의 모델을 세운 다음, 새로운 입력 데이터에 대하여 실수 형태의 출력값을 예측하는 것을 목표로 한다.\n",
    "- target 데이터셋의 모습을 살펴보면 실수의 형태로 나타난다."
   ]
  },
  {
   "cell_type": "markdown",
   "metadata": {},
   "source": [
    "##### 회귀에 쓰이는 데이터셋 예시"
   ]
  },
  {
   "cell_type": "code",
   "execution_count": 3,
   "metadata": {},
   "outputs": [
    {
     "name": "stdout",
     "output_type": "stream",
     "text": [
      "X.shape: (40, 1)\n",
      "y.shape: (40,)\n",
      "y:\n",
      "[-0.44822073  0.33122576  0.77932073  0.03497884 -1.38773632 -2.47196233\n",
      " -1.52730805  1.49417157  1.00032374  0.22956153 -1.05979555  0.7789638\n",
      "  0.75418806 -1.51369739 -1.67303415 -0.90496988  0.08448544 -0.52734666\n",
      " -0.54114599 -0.3409073   0.21778193 -1.12469096  0.37299129  0.09756349\n",
      " -0.98618122  0.96695428 -1.13455014  0.69798591  0.43655826 -0.95652133\n",
      "  0.03527881 -2.08581717 -0.47411033  1.53708251  0.86893293  1.87664889\n",
      "  0.0945257  -1.41502356  0.25438895  0.09398858]\n"
     ]
    }
   ],
   "source": [
    "import mglearn\n",
    "import matplotlib.pyplot as plt\n",
    "\n",
    "X, y = mglearn.datasets.make_wave(n_samples=40)\n",
    "print(\"X.shape: {}\".format(X.shape))\n",
    "# print(\"X:\\n{}\".format(X))\n",
    "print(\"y.shape: {}\".format(y.shape))\n",
    "print(\"y:\\n{}\".format(y))"
   ]
  },
  {
   "cell_type": "markdown",
   "metadata": {},
   "source": [
    "### - 분류와 회귀\n",
    "- 분류와 회귀의 결정적인 차이는 연속성이다. value와 value 사이에 연속성이 있다면 회귀문제이며, value들 사이에 연속성이 없다면 분류문제이다.\n",
    "- 예를 들면, 어떤 도시의 인구 추이를 예측하고자 하는 경우에는 이전 년도의 인구추이와 다음 년도의 인구 추이 사이에 연속성이 존재한다. 따라서 회귀라고 볼 수 있다.\n",
    "- 그러나 어떤 사람의 감정을 예측하고자 할 경우에는 감정을 나타내는 라벨 사이에 연속성이 존재하지 않는다. 따라서 분류로 볼 수 있다."
   ]
  },
  {
   "cell_type": "markdown",
   "metadata": {},
   "source": [
    "## Generalization, Overfitting and Underfitting\n",
    "- 일반화란, 학습 데이터에 대해서 뿐만 아니라 테스트 데이터에 대해서도 어느 정도의 정확도를 보일 때를 의미한다.\n",
    "- 주어진 학습 데이터에 대해서 100% 정확도를 달성한다는 것은 무의미하다. 우리의 목적은 새로운 데이터에 대해 예측을 정확히 수행하는가에 대한 것이다.\n",
    "- 이와 같이 가지고 있는 모든 정보를 활용하여 복잡한 모델을 만들면 과적합되었다고 한다.\n",
    "- 반면 너무 단순한 모델을 사용할 경우 과소적합의 문제가 발생할 수 있다.\n",
    "- 과소적합과 과대적합의 절충점(sweet spot)을 찾아야 한다.\n",
    "<img src=\"./image/overfitting_underfitting_cartoon.png\" alt=\"model_complexity\" style=\"width: 50%;\"/>"
   ]
  }
 ],
 "metadata": {
  "kernelspec": {
   "display_name": "Python 3",
   "language": "python",
   "name": "python3"
  },
  "language_info": {
   "codemirror_mode": {
    "name": "ipython",
    "version": 3
   },
   "file_extension": ".py",
   "mimetype": "text/x-python",
   "name": "python",
   "nbconvert_exporter": "python",
   "pygments_lexer": "ipython3",
   "version": "3.6.5"
  }
 },
 "nbformat": 4,
 "nbformat_minor": 2
}
