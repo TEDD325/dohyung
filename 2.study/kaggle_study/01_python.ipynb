{
 "cells": [
  {
   "cell_type": "markdown",
   "metadata": {},
   "source": [
    "# Python"
   ]
  },
  {
   "cell_type": "code",
   "execution_count": 1,
   "metadata": {},
   "outputs": [
    {
     "name": "stdout",
     "output_type": "stream",
     "text": [
      "Python 3.6.5 :: Anaconda, Inc.\r\n"
     ]
    }
   ],
   "source": [
    "! python --version"
   ]
  },
  {
   "cell_type": "markdown",
   "metadata": {},
   "source": [
    "### - 진법 변환"
   ]
  },
  {
   "cell_type": "markdown",
   "metadata": {},
   "source": [
    "#### hexa-decimal -> decimal\n",
    "> <code>int(\"16진수\", 16진법)</code>\n",
    "\n",
    "- 16진수를 10진수로 리턴함"
   ]
  },
  {
   "cell_type": "code",
   "execution_count": 10,
   "metadata": {},
   "outputs": [
    {
     "name": "stdout",
     "output_type": "stream",
     "text": [
      "1024\n",
      "64512\n",
      "32767\n",
      "32768\n",
      "65280\n",
      "255\n"
     ]
    }
   ],
   "source": [
    "print(int(\"0x0400\", 16))\n",
    "print(int(\"0xfc00\", 16))\n",
    "print(int(\"0x7fff\", 16))\n",
    "print(int(\"0x8000\", 16))\n",
    "print(int(\"0xff00\", 16))\n",
    "print(int(\"0xff\", 16))"
   ]
  },
  {
   "cell_type": "markdown",
   "metadata": {},
   "source": [
    "#### 비트 연산 1\n",
    "- <code>&</code>\n",
    "  - 두 이진수에서, 같은 수라면 1, 어느 하나라도 0이면 0\n",
    "- <code>|</code>\n",
    "  - 두 이진수에서, 어느 하나라도 1이면 1\n",
    "- <code>~</code>\n",
    "  - 하나의 이진수를 반전\n",
    "- <code>^</code>\n",
    "  - 배타적 |. 두 이진수에서, 모두 1이면 0\n",
    "- <code><<</code>\n",
    "  - 비트들을 왼쪽으로 이동 & 오른쪽 끝 자리는 0으로 채움\n",
    "- <code>>></code>\n",
    "  - 비트들을 오른쪽으로 이동 & 왼쪽 끝 자리는 0으로 채움"
   ]
  },
  {
   "cell_type": "code",
   "execution_count": 25,
   "metadata": {},
   "outputs": [
    {
     "name": "stdout",
     "output_type": "stream",
     "text": [
      "& 예시:10\n",
      "| 예시:31\n",
      "~ 예시:-15\n",
      "^ 예시:21\n"
     ]
    }
   ],
   "source": [
    "print(\"& 예시:{}\".format(14 & 27))\n",
    "print(\"| 예시:{}\".format(14 | 27))\n",
    "print(\"~ 예시:{}\".format(~14))\n",
    "print(\"^ 예시:{}\".format(14 ^ 27))"
   ]
  },
  {
   "cell_type": "markdown",
   "metadata": {},
   "source": [
    "#### 비트 연산 2\n",
    "- 10진수와 16진수의 비트 연산"
   ]
  },
  {
   "cell_type": "code",
   "execution_count": 24,
   "metadata": {},
   "outputs": [
    {
     "name": "stdout",
     "output_type": "stream",
     "text": [
      "10진수(+150)와 16진수(0x0400)에 대한 '&' 비트 연산:0\n",
      "10진수(-150)와 16진수(0x0400)에 대한 '&' 비트 연산:1024\n",
      "10진수(+150)와 16진수(0xfc00)에 대한 '|' 비트 연산:64662\n"
     ]
    }
   ],
   "source": [
    "print(\"10진수(+150)와 16진수(0x0400)에 대한 '&' 비트 연산:{}\".format(150 & 0x0400))\n",
    "print(\"10진수(-150)와 16진수(0x0400)에 대한 '&' 비트 연산:{}\".format(-150 & 0x0400))\n",
    "print(\"10진수(+150)와 16진수(0xfc00)에 대한 '|' 비트 연산:{}\".format(150 | 0xfc00))"
   ]
  },
  {
   "cell_type": "code",
   "execution_count": 26,
   "metadata": {},
   "outputs": [
    {
     "data": {
      "text/plain": [
       "32918"
      ]
     },
     "execution_count": 26,
     "metadata": {},
     "output_type": "execute_result"
    }
   ],
   "source": [
    "(150 & 0x7fff) | 0x8000"
   ]
  },
  {
   "cell_type": "code",
   "execution_count": 31,
   "metadata": {},
   "outputs": [],
   "source": []
  },
  {
   "cell_type": "code",
   "execution_count": 33,
   "metadata": {},
   "outputs": [
    {
     "name": "stdout",
     "output_type": "stream",
     "text": [
      "32918\n",
      "128\n",
      "150\n"
     ]
    }
   ],
   "source": [
    "motor_command = 150\n",
    "if motor_command & 0x0400:\n",
    "    motor_command = motor_command | 0xfc00\n",
    "    print(motor_command)\n",
    "# add amplifier bit\n",
    "motor_command = (motor_command & 0x7fff) | 0x8000\n",
    "print(motor_command)\n",
    "# separate into 2 bytes\n",
    "motor_command_h = (motor_command & 0xff00) >> 8\n",
    "motor_command_l = (motor_command & 0xff)\n",
    "print(motor_command_h)\n",
    "print(motor_command_l)"
   ]
  },
  {
   "cell_type": "code",
   "execution_count": 34,
   "metadata": {},
   "outputs": [
    {
     "name": "stdout",
     "output_type": "stream",
     "text": [
      "-150\n",
      "65386\n",
      "255\n",
      "106\n"
     ]
    }
   ],
   "source": [
    "motor_command = -150\n",
    "if motor_command & 0x0400:\n",
    "    motor_command = motor_command | 0xfc00\n",
    "    print(motor_command)\n",
    "# add amplifier bit\n",
    "motor_command = (motor_command & 0x7fff) | 0x8000\n",
    "print(motor_command)\n",
    "# separate into 2 bytes\n",
    "motor_command_h = (motor_command & 0xff00) >> 8\n",
    "motor_command_l = (motor_command & 0xff)\n",
    "print(motor_command_h)\n",
    "print(motor_command_l)"
   ]
  },
  {
   "cell_type": "code",
   "execution_count": null,
   "metadata": {},
   "outputs": [],
   "source": []
  }
 ],
 "metadata": {
  "kernelspec": {
   "display_name": "Python 3",
   "language": "python",
   "name": "python3"
  },
  "language_info": {
   "codemirror_mode": {
    "name": "ipython",
    "version": 3
   },
   "file_extension": ".py",
   "mimetype": "text/x-python",
   "name": "python",
   "nbconvert_exporter": "python",
   "pygments_lexer": "ipython3",
   "version": "3.6.5"
  }
 },
 "nbformat": 4,
 "nbformat_minor": 2
}
