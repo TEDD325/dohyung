{
 "cells": [
  {
   "cell_type": "markdown",
   "metadata": {},
   "source": [
    "# Numpy"
   ]
  },
  {
   "cell_type": "markdown",
   "metadata": {},
   "source": [
    "## # version check"
   ]
  },
  {
   "cell_type": "code",
   "execution_count": 12,
   "metadata": {},
   "outputs": [
    {
     "name": "stdout",
     "output_type": "stream",
     "text": [
      "NumPy version: 1.14.5\n"
     ]
    }
   ],
   "source": [
    "import numpy as np\n",
    "print(\"NumPy version: {}\".format(np.__version__))"
   ]
  },
  {
   "cell_type": "markdown",
   "metadata": {},
   "source": [
    "## # numpy 생성"
   ]
  },
  {
   "cell_type": "markdown",
   "metadata": {},
   "source": [
    "### - numpy.ndarray 생성\n",
    "> <code>np.array(파이썬 리스트)</code>"
   ]
  },
  {
   "cell_type": "markdown",
   "metadata": {},
   "source": [
    "#### 1-demension array"
   ]
  },
  {
   "cell_type": "code",
   "execution_count": 7,
   "metadata": {},
   "outputs": [
    {
     "name": "stdout",
     "output_type": "stream",
     "text": [
      "[1.0, 2.0, 3.0]\n",
      "<class 'list'>\n",
      "\n",
      "[1. 2. 3.]\n",
      "<class 'numpy.ndarray'>\n",
      "\n"
     ]
    }
   ],
   "source": [
    "x_list = [1.0, 2.0, 3.0]\n",
    "print(x_list)\n",
    "print(type(x_list), end=\"\\n\\n\")\n",
    "x_np = np.array(x_list)\n",
    "print(x_np)\n",
    "print(type(x_np), end=\"\\n\\n\")"
   ]
  },
  {
   "cell_type": "markdown",
   "metadata": {},
   "source": [
    "#### 2-demension array"
   ]
  },
  {
   "cell_type": "code",
   "execution_count": 27,
   "metadata": {},
   "outputs": [
    {
     "name": "stdout",
     "output_type": "stream",
     "text": [
      "x_2d:\n",
      "[[1 2 3]\n",
      " [4 5 6]]\n",
      "\n",
      "x_2d.shape: (2, 3)\n",
      "<class 'numpy.ndarray'>\n",
      "\n"
     ]
    }
   ],
   "source": [
    "x_2d = np.array([[1, 2, 3], [4, 5, 6]])\n",
    "print(\"x_2d:\\n{}\".format(x_2d), end=\"\\n\\n\")\n",
    "print(\"x_2d.shape: {}\".format(x_2d.shape))\n",
    "print(type(x_2d), end=\"\\n\\n\")"
   ]
  },
  {
   "cell_type": "markdown",
   "metadata": {},
   "source": [
    "### - identity matrix 생성\n",
    "> <code>np.eye(number)</code>\n",
    "\n",
    "- 2-D array 반환\n",
    "- 대각성분:1, 대각성분 이외의 성분:0"
   ]
  },
  {
   "cell_type": "code",
   "execution_count": 3,
   "metadata": {},
   "outputs": [
    {
     "name": "stdout",
     "output_type": "stream",
     "text": [
      "[[1. 0. 0. 0.]\n",
      " [0. 1. 0. 0.]\n",
      " [0. 0. 1. 0.]\n",
      " [0. 0. 0. 1.]]\n"
     ]
    }
   ],
   "source": [
    "eye = np.eye(4)\n",
    "print(\"{}\".format(eye))"
   ]
  },
  {
   "cell_type": "markdown",
   "metadata": {},
   "source": [
    "### - np.ones(number)"
   ]
  },
  {
   "cell_type": "code",
   "execution_count": 6,
   "metadata": {},
   "outputs": [
    {
     "name": "stdout",
     "output_type": "stream",
     "text": [
      "data:\n",
      "[1. 1. 1. 1. 1.]\n",
      "data:\n",
      "[-10. -10. -10. -10. -10.]\n"
     ]
    }
   ],
   "source": [
    "data = np.ones(5)\n",
    "print(\"data:\\n{}\".format(data))\n",
    "data = np.ones(5) * -10\n",
    "print(\"data:\\n{}\".format(data))"
   ]
  },
  {
   "cell_type": "markdown",
   "metadata": {},
   "source": [
    "### - np.arange(number)"
   ]
  },
  {
   "cell_type": "code",
   "execution_count": 9,
   "metadata": {},
   "outputs": [
    {
     "name": "stdout",
     "output_type": "stream",
     "text": [
      "row_indices:\n",
      "[0 1 2 3 4]\n"
     ]
    }
   ],
   "source": [
    "row_indices = np.arange(5)\n",
    "print(\"row_indices:\\n{}\".format(row_indices))"
   ]
  },
  {
   "cell_type": "markdown",
   "metadata": {},
   "source": [
    "### - a에서 b까지 일정한 간격의 N개의 배열 생성\n",
    "> <code>np.linspace(a, b, N)</code>"
   ]
  },
  {
   "cell_type": "code",
   "execution_count": 10,
   "metadata": {},
   "outputs": [
    {
     "name": "stdout",
     "output_type": "stream",
     "text": [
      "linspace:\n",
      "[-10.          -9.7979798   -9.5959596   -9.39393939  -9.19191919\n",
      "  -8.98989899  -8.78787879  -8.58585859  -8.38383838  -8.18181818\n",
      "  -7.97979798  -7.77777778  -7.57575758  -7.37373737  -7.17171717\n",
      "  -6.96969697  -6.76767677  -6.56565657  -6.36363636  -6.16161616\n",
      "  -5.95959596  -5.75757576  -5.55555556  -5.35353535  -5.15151515\n",
      "  -4.94949495  -4.74747475  -4.54545455  -4.34343434  -4.14141414\n",
      "  -3.93939394  -3.73737374  -3.53535354  -3.33333333  -3.13131313\n",
      "  -2.92929293  -2.72727273  -2.52525253  -2.32323232  -2.12121212\n",
      "  -1.91919192  -1.71717172  -1.51515152  -1.31313131  -1.11111111\n",
      "  -0.90909091  -0.70707071  -0.50505051  -0.3030303   -0.1010101\n",
      "   0.1010101    0.3030303    0.50505051   0.70707071   0.90909091\n",
      "   1.11111111   1.31313131   1.51515152   1.71717172   1.91919192\n",
      "   2.12121212   2.32323232   2.52525253   2.72727273   2.92929293\n",
      "   3.13131313   3.33333333   3.53535354   3.73737374   3.93939394\n",
      "   4.14141414   4.34343434   4.54545455   4.74747475   4.94949495\n",
      "   5.15151515   5.35353535   5.55555556   5.75757576   5.95959596\n",
      "   6.16161616   6.36363636   6.56565657   6.76767677   6.96969697\n",
      "   7.17171717   7.37373737   7.57575758   7.77777778   7.97979798\n",
      "   8.18181818   8.38383838   8.58585859   8.78787879   8.98989899\n",
      "   9.19191919   9.39393939   9.5959596    9.7979798   10.        ]\n"
     ]
    }
   ],
   "source": [
    "linspace = np.linspace(-10, 10, 100)\n",
    "print(\"linspace:\\n{}\".format(linspace))"
   ]
  },
  {
   "cell_type": "markdown",
   "metadata": {},
   "source": [
    "### - 삼각함수\n",
    "> <code>np.sin( numpy.ndarray )</code>"
   ]
  },
  {
   "cell_type": "code",
   "execution_count": 11,
   "metadata": {},
   "outputs": [
    {
     "name": "stdout",
     "output_type": "stream",
     "text": [
      "sin:\n",
      "[ 0.54402111  0.36459873  0.17034683 -0.03083368 -0.23076008 -0.42130064\n",
      " -0.59470541 -0.74392141 -0.86287948 -0.94674118 -0.99209556 -0.99709789\n",
      " -0.96154471 -0.8868821  -0.77614685 -0.63384295 -0.46575841 -0.27872982\n",
      " -0.0803643   0.12126992  0.31797166  0.50174037  0.66510151  0.80141062\n",
      "  0.90512352  0.97202182  0.99938456  0.98609877  0.93270486  0.84137452\n",
      "  0.7158225   0.56115544  0.38366419  0.19056796 -0.01027934 -0.21070855\n",
      " -0.40256749 -0.57805259 -0.73002623 -0.85230712 -0.93992165 -0.98930624\n",
      " -0.99845223 -0.96698762 -0.8961922  -0.78894546 -0.64960951 -0.48385164\n",
      " -0.2984138  -0.10083842  0.10083842  0.2984138   0.48385164  0.64960951\n",
      "  0.78894546  0.8961922   0.96698762  0.99845223  0.98930624  0.93992165\n",
      "  0.85230712  0.73002623  0.57805259  0.40256749  0.21070855  0.01027934\n",
      " -0.19056796 -0.38366419 -0.56115544 -0.7158225  -0.84137452 -0.93270486\n",
      " -0.98609877 -0.99938456 -0.97202182 -0.90512352 -0.80141062 -0.66510151\n",
      " -0.50174037 -0.31797166 -0.12126992  0.0803643   0.27872982  0.46575841\n",
      "  0.63384295  0.77614685  0.8868821   0.96154471  0.99709789  0.99209556\n",
      "  0.94674118  0.86287948  0.74392141  0.59470541  0.42130064  0.23076008\n",
      "  0.03083368 -0.17034683 -0.36459873 -0.54402111]\n"
     ]
    }
   ],
   "source": [
    "linspace = np.linspace(-10, 10, 100)\n",
    "sin = np.sin(linspace)\n",
    "print(\"sin:\\n{}\".format(sin))"
   ]
  },
  {
   "cell_type": "markdown",
   "metadata": {},
   "source": [
    "### # numpy 산술연산\n",
    "- element-wise 연산"
   ]
  },
  {
   "cell_type": "code",
   "execution_count": 23,
   "metadata": {},
   "outputs": [
    {
     "name": "stdout",
     "output_type": "stream",
     "text": [
      "x_a:  [1 2 3]\n",
      "x_a:  [1 2 3]\n",
      "\n",
      "x_a + x_b:  [2 4 6]\n",
      "x_a - x_b:  [0 0 0]\n",
      "x_a * x_b:  [1 4 9]\n",
      "x_a / x_b:  [1. 1. 1.]\n"
     ]
    }
   ],
   "source": [
    "x_a = np.array([1, 2, 3])\n",
    "print(\"x_a: \", x_a)\n",
    "x_b = np.array([1, 2, 3])\n",
    "print(\"x_a: \", x_b)\n",
    "print()\n",
    "\n",
    "print(\"x_a + x_b: \", x_a+x_b)\n",
    "print(\"x_a - x_b: \", x_a-x_b)\n",
    "print(\"x_a * x_b: \", x_a*x_b)\n",
    "print(\"x_a / x_b: \", x_a/x_b) # defualt float"
   ]
  },
  {
   "cell_type": "markdown",
   "metadata": {},
   "source": []
  }
 ],
 "metadata": {
  "kernelspec": {
   "display_name": "Python 3",
   "language": "python",
   "name": "python3"
  },
  "language_info": {
   "codemirror_mode": {
    "name": "ipython",
    "version": 3
   },
   "file_extension": ".py",
   "mimetype": "text/x-python",
   "name": "python",
   "nbconvert_exporter": "python",
   "pygments_lexer": "ipython3",
   "version": "3.6.5"
  }
 },
 "nbformat": 4,
 "nbformat_minor": 2
}
