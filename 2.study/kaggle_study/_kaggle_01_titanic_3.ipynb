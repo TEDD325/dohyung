{
 "cells": [
  {
   "cell_type": "markdown",
   "metadata": {},
   "source": [
    "https://www.kaggle.com/ldfreeman3/a-data-science-framework-to-achieve-99-accuracy"
   ]
  },
  {
   "cell_type": "markdown",
   "metadata": {},
   "source": [
    "# A Data Science Framework: To Achieve 99% Accuracy"
   ]
  },
  {
   "cell_type": "markdown",
   "metadata": {},
   "source": [
    "Hello and Welcome to Kaggle, the online Data Science Community to learn, share, and compete. Most beginners get lost in the field, because they fail into the black box approach, using libraries and algorithms they don't understand. This tutorial will give you a 1-2 year head start over your peers, by providing a framework that teaches you how-to think like a data scientist vs what to think/code. "
   ]
  },
  {
   "cell_type": "markdown",
   "metadata": {},
   "source": [
    "Table of Contents\n",
    "1. Chapter 1 - How a Data Scientist Beat the Odds\n",
    "2. Chapter 2 - A data Science Framework\n",
    "3. Chapter 3 - Step 1: Define the Problem and Step 2: Gather the Data\n",
    "4. Chapter 4 - Step 3: Prepare Data for Consumption(소비, 사용)\n",
    "5. Chapter 5 - The 4 C's of Data Cleaning: Correcting, Completing, Creating, and Converting\n",
    "6. Chapter 6 - Step 4: Preform Exploratory Analysis with Statistics\n",
    "7. Chapter 7 - Step 5: Model Data\n",
    "8. Chapter 8 - Evaluate Model Performance\n",
    "9. Chapter 9 - Tune Model with Hyper-Parameters\n",
    "10. Chapter 10 - Tune Model with Feature Selection\n",
    "11. Chapter 11 - Step 6: Validate and Implement\n",
    "12. Chapter 12 - Conclustion and Step 7: Optimize and Strategize(전략을 짜다)"
   ]
  },
  {
   "cell_type": "markdown",
   "metadata": {},
   "source": [
    "<B>How-to Use this Tutorial:</b> Read the explanations provided in this Kernel and the links to developer documentation. The goal is to not just learn the whats, but the whys. If you don't understand something in the code the `print()` functions is your best friend. In coding, it's okay to try, fail, and try again. If you do run into problems, Google is your second best friend, because 99.99% of the time, someone else had the same question/problem and already asked the coding community. If you've exhausted all your resources, the Kaggle Community via forums and comments can help too."
   ]
  },
  {
   "cell_type": "markdown",
   "metadata": {},
   "source": [
    "## How a Data Scientist Beat the Odds"
   ]
  },
  {
   "cell_type": "markdown",
   "metadata": {},
   "source": [
    "It's the classical problem, predict the outcome of a binary event. In laymen(비전문가) terms this means, it either occurred or did not occur. For exmaple, you won or did not win, you passed the test or did not pass the test, you were accepted or not accepted, and you get the point. A common business application is churn(빠져나가다) or customer retention(유지). Another popular use case is, healthcare's mortality(사망) rate or survival analysis. \n",
    "In this kernel, I use Kaggle's Getting Started Competition, Titanic: Machine Learnig from Disaster, to walk the reader through, how-to use the data science framework to beat the odds. "
   ]
  },
  {
   "cell_type": "markdown",
   "metadata": {},
   "source": [
    "## A Data Science Framework"
   ]
  },
  {
   "cell_type": "markdown",
   "metadata": {},
   "source": [
    "1. <b>Define the Problem(문제 정의하기):</b> Problems before requirements, requirements before solutions, solutions before design, and design before technology.(<b>Problems -> requirements -> solutions -> design -> technology/tool.</b>) Too often we are quick to jump on the new shiny technology, tool, or algorithm before determining the actual problem we are trying to solve.(<b>너무 자주 풀고자 하는 문제가 무엇인지 정의하기도 전에 tool, algorithms 등으로 jump해버린다.</b>)"
   ]
  },
  {
   "cell_type": "markdown",
   "metadata": {},
   "source": [
    "2. <b>Gather the Data(데이터 모으기):</b> the dataset(s) already exist somewhere, in some format. It may be external or internal, structured or unstructured, static or streamed, objective(객관적인) or subjective(주관적인), etc. In the next step, we will worry about transforming \"dirty data\" to \"clean data.\""
   ]
  },
  {
   "cell_type": "markdown",
   "metadata": {},
   "source": [
    "3. <b>Prepare Data for Consumption(사용하려는 데이터 준비하기):</b> This step is often referred to as data wrangling, a required process to turn “wild” data into “manageable” data. Data wrangling includes implementing data architectures for storage and processing, developing data governance standards for quality and control, data extraction (i.e. ETL and web scraping), and data cleaning to identify aberrant, missing, or outlier data points."
   ]
  },
  {
   "cell_type": "markdown",
   "metadata": {},
   "source": [
    "4. <b>Perform Exploratory Analysis(탐색적 분석 수행하기):</b> it is important to deploy descriptive and graphical statistics to look for potential problems, patterns, classifications, correlations and comparisons in the dataset. In addition, data categorization (i.e. qualitative vs quantitative) is also important to understand and select the correct hypothesis test or data model. \n",
    "  * 데이터 분포, 새로운 feature 혹은 가장 중요한 feature 등 데이터 자체에 대한 분석이 가장 중요(GIGO;Garbage In Garbage Out) --> 따라서 도메인 지식이 중요할 수 밖에 없다.\n",
    "  * 예측 모델 자체를 만드는 것은 어려운 영역"
   ]
  },
  {
   "cell_type": "markdown",
   "metadata": {},
   "source": [
    "5. <b>Model Data(데이터 모델링하기)</b>: Like descriptive and inferential statistics, data modeling can either summarize the data or predict future outcomes(데이터 모델링은 데이터를 요약하거나 미래의 결과물을 예측하는 것 이 둘 중 하나다.). Your dataset and expected results, will determine the algorithms available for use(내가 가진 데이터셋과 그 결과물이 어떤 알고리즘을 사용할지를 알려준다.). It's important to remember, algorithms are tools and not magical wands or silver bullets. The wrong model can lead to poor performance and the wrong conclusion."
   ]
  },
  {
   "cell_type": "markdown",
   "metadata": {},
   "source": [
    "6. <b>Validate and Implement Data Model(데이터 모델을 구현하고 검증하기):</b> After you've trained your model based on a subset of your data, it's time to test your model. This helps ensure you haven't overfit your model. \n",
    "  * reference: https://docs.aws.amazon.com/machine-learning/latest/dg/model-fit-underfitting-vs-overfitting.html"
   ]
  },
  {
   "cell_type": "markdown",
   "metadata": {},
   "source": [
    "7. <b>OPtimize and Strategize(최적화하기):</b> you iterate back through the process to make it better...stronger...faster than it was before. "
   ]
  },
  {
   "cell_type": "markdown",
   "metadata": {},
   "source": [
    "## Step 1: Define the Problem\n"
   ]
  },
  {
   "cell_type": "markdown",
   "metadata": {},
   "source": [
    "On April 15, 1912, during her maiden voyage, the Titanic sank after colliding with an iceberg, killing 1502 out of 2224 passengers and crew. This sensational tragedy shocked the international community and led to better safety regulations for ships."
   ]
  },
  {
   "cell_type": "code",
   "execution_count": null,
   "metadata": {},
   "outputs": [],
   "source": []
  }
 ],
 "metadata": {
  "kernelspec": {
   "display_name": "Python 3",
   "language": "python",
   "name": "python3"
  },
  "language_info": {
   "codemirror_mode": {
    "name": "ipython",
    "version": 3
   },
   "file_extension": ".py",
   "mimetype": "text/x-python",
   "name": "python",
   "nbconvert_exporter": "python",
   "pygments_lexer": "ipython3",
   "version": "3.6.5"
  }
 },
 "nbformat": 4,
 "nbformat_minor": 2
}
